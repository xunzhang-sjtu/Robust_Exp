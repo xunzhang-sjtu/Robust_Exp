{
 "cells": [
  {
   "cell_type": "code",
   "execution_count": 1,
   "id": "ea7846fb",
   "metadata": {},
   "outputs": [
    {
     "data": {
      "text/plain": [
       "greedy_search_optimal_price (generic function with 1 method)"
      ]
     },
     "metadata": {},
     "output_type": "display_data"
    }
   ],
   "source": [
    "using LinearAlgebra\n",
    "using Distributions\n",
    "using Optim\n",
    "using Random\n",
    "using StatsFuns\n",
    "using JuMP\n",
    "using MosekTools\n",
    "using JLD2\n",
    "include(\"ETO.jl\")\n",
    "include(\"RO.jl\")\n",
    "include(\"Data.jl\")\n",
    "include(\"Estimate.jl\")\n",
    "include(\"Performance.jl\")"
   ]
  },
  {
   "cell_type": "code",
   "execution_count": 2,
   "id": "f424ebee",
   "metadata": {},
   "outputs": [],
   "source": [
    "current_dir = pwd()\n",
    "parent_dir = dirname(current_dir)\n",
    "grand_pa_dir = dirname(parent_dir)\n",
    "data_dir = string(grand_pa_dir, \"/Data/\")\n",
    "if !isdir(data_dir)\n",
    "    mkpath(data_dir)\n",
    "end"
   ]
  },
  {
   "cell_type": "markdown",
   "id": "bc1238ab",
   "metadata": {},
   "source": [
    "## Functions"
   ]
  },
  {
   "cell_type": "code",
   "execution_count": 3,
   "id": "be70475e",
   "metadata": {},
   "outputs": [
    {
     "data": {
      "text/plain": [
       "generate_Input_Data (generic function with 1 method)"
      ]
     },
     "metadata": {},
     "output_type": "display_data"
    }
   ],
   "source": [
    "function generate_Input_Data(S_train,S_test,iterations, N, N_u, K, offdiag_sign,max_offdiag,P_bar)\n",
    "    Input_Data = Dict()\n",
    "    for iter in 1:iterations\n",
    "        A_true, B_true = Generate_Coef(N_u, N,max_offdiag,offdiag_sign);\n",
    "        U_train, P_train = Generate_Feat_Data(N_u, N, S_train);\n",
    "        U_test, P_test = Generate_Feat_Data(N_u, N, S_test);\n",
    "\n",
    "        Input_Data[\"iter=$(iter)_Obs_Feat\"] = U_test[1,:];\n",
    "        Input_Data[\"iter=$(iter)_A_true\"] = A_true;\n",
    "        Input_Data[\"iter=$(iter)_B_true\"] = B_true;\n",
    "        Input_Data[\"iter=$(iter)_P_dag\"] = round.(rand(N, K) .* P_bar; digits=2);\n",
    "        Input_Data[\"iter=$(iter)_U_train\"] = U_train;\n",
    "        Input_Data[\"iter=$(iter)_P_train\"] = P_train;\n",
    "\n",
    "        A_hat, B_hat = Estimate_MNL_Para(U_train, P_train, S_train, N, N_u, N, A_true, B_true);\n",
    "\n",
    "        Input_Data[\"iter=$(iter)_A_hat\"] = A_hat\n",
    "        Input_Data[\"iter=$(iter)_B_hat\"] = B_hat\n",
    "    end\n",
    "    return Input_Data\n",
    "end"
   ]
  },
  {
   "cell_type": "code",
   "execution_count": 4,
   "id": "269d261d",
   "metadata": {},
   "outputs": [
    {
     "data": {
      "text/plain": [
       "Run_Oracle (generic function with 1 method)"
      ]
     },
     "metadata": {},
     "output_type": "display_data"
    }
   ],
   "source": [
    "function Run_Oracle(iterations, N, N_u, K, Input_Data)\n",
    "    RST_ = Dict()\n",
    "    for iter in 1:iterations\n",
    "        Obs_Feat = Input_Data[\"iter=$(iter)_Obs_Feat\"]\n",
    "        A_true = Input_Data[\"iter=$(iter)_A_true\"]\n",
    "        B_true = Input_Data[\"iter=$(iter)_B_true\"]\n",
    "        P_dag = Input_Data[\"iter=$(iter)_P_dag\"]\n",
    "        \n",
    "        obj_ETO,X_ETO,time_ETO = Solve_ETO(N,N_u,K,A_true,B_true,Obs_Feat,P_dag)\n",
    "        rev_ETO, price_ETO = compute_oof(X_ETO, A_true, B_true, Obs_Feat, P_dag)\n",
    "        # println(\"rev_ETO=\",round(rev_ETO,digits=6),\",price_ETO = \",price_ETO)\n",
    "        RST_[\"iter=$(iter)_Rev\"] = rev_ETO\n",
    "        RST_[\"iter=$(iter)_Price\"] = price_ETO\n",
    "        RST_[\"iter=$(iter)_Obj\"] = obj_ETO\n",
    "    end\n",
    "    return RST_\n",
    "end"
   ]
  },
  {
   "cell_type": "code",
   "execution_count": 5,
   "id": "89994bc2",
   "metadata": {},
   "outputs": [
    {
     "data": {
      "text/plain": [
       "Run_ETO (generic function with 1 method)"
      ]
     },
     "metadata": {},
     "output_type": "display_data"
    }
   ],
   "source": [
    "function Run_ETO(iterations, N, N_u, K, Input_Data)\n",
    "    RST_ETO = Dict()\n",
    "    for iter in 1:iterations\n",
    "        Obs_Feat = Input_Data[\"iter=$(iter)_Obs_Feat\"]\n",
    "        A_hat = Input_Data[\"iter=$(iter)_A_hat\"]\n",
    "        B_hat = Input_Data[\"iter=$(iter)_B_hat\"]\n",
    "        A_true = Input_Data[\"iter=$(iter)_A_true\"]\n",
    "        B_true = Input_Data[\"iter=$(iter)_B_true\"]\n",
    "        P_dag = Input_Data[\"iter=$(iter)_P_dag\"]\n",
    "        \n",
    "        obj_ETO,X_ETO,time_ETO = Solve_ETO(N,N_u,K,A_hat,B_hat,Obs_Feat,P_dag)\n",
    "        rev_ETO, price_ETO = compute_oof(X_ETO, A_true, B_true, Obs_Feat, P_dag)\n",
    "        # println(\"rev_ETO=\",round(rev_ETO,digits=6),\",price_ETO = \",price_ETO)\n",
    "        RST_ETO[\"iter=$(iter)_Rev\"] = rev_ETO\n",
    "        RST_ETO[\"iter=$(iter)_Price\"] = price_ETO\n",
    "        RST_ETO[\"iter=$(iter)_Obj\"] = obj_ETO\n",
    "    end\n",
    "    return RST_ETO\n",
    "end"
   ]
  },
  {
   "cell_type": "code",
   "execution_count": 6,
   "id": "09c3b5b0",
   "metadata": {},
   "outputs": [
    {
     "data": {
      "text/plain": [
       "search_opt_price (generic function with 1 method)"
      ]
     },
     "metadata": {},
     "output_type": "display_data"
    }
   ],
   "source": [
    "function search_opt_price(N,p_lb,p_ub,b_n)\n",
    "    model = Model(Mosek.Optimizer)\n",
    "    set_attribute(model, \"QUIET\", true)\n",
    "    # 定义变量\n",
    "    @variable(model, price[1:N])                      # y_{nk}\n",
    "    @constraint(model, price .>= p_lb)\n",
    "    @constraint(model, price .<= p_ub)\n",
    "    @objective(model, Max,b_n' * price )\n",
    "    optimize!(model)\n",
    "    obj_val = objective_value(model)\n",
    "    return obj_val\n",
    "end"
   ]
  },
  {
   "cell_type": "code",
   "execution_count": 7,
   "id": "262a1844",
   "metadata": {},
   "outputs": [
    {
     "data": {
      "text/plain": [
       "Calculate_Hyper_Param (generic function with 1 method)"
      ]
     },
     "metadata": {},
     "output_type": "display_data"
    }
   ],
   "source": [
    "function Calculate_Hyper_Param(bd_coef, iterations, N, N_u, K, Input_Data)\n",
    "    for iter in 1:iterations\n",
    "        Obs_Feat = Input_Data[\"iter=$(iter)_Obs_Feat\"]\n",
    "        A_true = Input_Data[\"iter=$(iter)_A_true\"]\n",
    "        B_true = Input_Data[\"iter=$(iter)_B_true\"]\n",
    "        P_dag = Input_Data[\"iter=$(iter)_P_dag\"]\n",
    "        A_hat = Input_Data[\"iter=$(iter)_A_hat\"]\n",
    "        B_hat = Input_Data[\"iter=$(iter)_B_hat\"]\n",
    "\n",
    "        A_lb = A_hat .- bd_coef .* abs.(ones(N,N_u));\n",
    "        A_ub = A_hat .+ bd_coef .* abs.(ones(N,N_u));\n",
    "        B_lb = B_hat .- bd_coef .* abs.(ones(N,N));\n",
    "        B_ub = B_hat .+ bd_coef .* abs.(ones(N,N));\n",
    "        \n",
    "        p_ub = vec(maximum(P_dag,dims=2))\n",
    "        p_lb = vec(minimum(P_dag,dims=2))\n",
    "        p_max = maximum(p_ub)\n",
    "        p_min = minimum(p_lb)\n",
    "        Obs_Feat_Trun = [max(-Obs_Feat[ind],0) for ind in 1:N_u]\n",
    "        psi_lb = zeros(N)\n",
    "        for n in 1:N\n",
    "            b_n = B_lb[n,:]\n",
    "            obj_n = search_opt_price(N,p_lb,p_ub,b_n)\n",
    "            psi_lb[n] = -exp(-Obs_Feat_Trun' * (A_ub[n,:] - A_lb[n,:]) + Obs_Feat' * A_lb[n,:] + obj_n)*(p_max-p_min)\n",
    "        end\n",
    "        \n",
    "        Input_Data[\"iter=$(iter)_psi_lb\"] = psi_lb\n",
    "        Input_Data[\"iter=$(iter)_psi_ub\"] = zeros(N)\n",
    "        Input_Data[\"iter=$(iter)_phi_lb\"] = [p_min - p_max for i in 1:N]\n",
    "        Input_Data[\"iter=$(iter)_phi_ub\"] = zeros(N)\n",
    "\n",
    "        Input_Data[\"iter=$(iter)_A_lb\"] = A_lb\n",
    "        Input_Data[\"iter=$(iter)_A_ub\"] = A_ub\n",
    "        Input_Data[\"iter=$(iter)_B_lb\"] = B_lb\n",
    "        Input_Data[\"iter=$(iter)_B_ub\"] = B_ub\n",
    "    end\n",
    "    return Input_Data\n",
    "end"
   ]
  },
  {
   "cell_type": "code",
   "execution_count": 8,
   "id": "016c89dc",
   "metadata": {},
   "outputs": [
    {
     "data": {
      "text/plain": [
       "Run_RO (generic function with 1 method)"
      ]
     },
     "metadata": {},
     "output_type": "display_data"
    }
   ],
   "source": [
    "function Run_RO(bd_coef, iterations, N, N_u, K, Input_Data,psi_coef,model_name)\n",
    "    RST_RO = Dict(); RST_RO_Two_Side = Dict()\n",
    "    for iter in 1:iterations\n",
    "        Obs_Feat = Input_Data[\"iter=$(iter)_Obs_Feat\"]\n",
    "        A_true = Input_Data[\"iter=$(iter)_A_true\"]\n",
    "        B_true = Input_Data[\"iter=$(iter)_B_true\"]\n",
    "        P_dag = Input_Data[\"iter=$(iter)_P_dag\"]\n",
    "\n",
    "        psi_lb = Input_Data[\"iter=$(iter)_psi_lb\"]\n",
    "        psi_ub = Input_Data[\"iter=$(iter)_psi_ub\"]\n",
    "        phi_lb = Input_Data[\"iter=$(iter)_phi_lb\"]\n",
    "        phi_ub = Input_Data[\"iter=$(iter)_phi_ub\"]\n",
    "\n",
    "        A_lb = Input_Data[\"iter=$(iter)_A_lb\"]\n",
    "        A_ub = Input_Data[\"iter=$(iter)_A_ub\"]\n",
    "        B_lb = Input_Data[\"iter=$(iter)_B_lb\"]\n",
    "        B_ub = Input_Data[\"iter=$(iter)_B_ub\"]\n",
    "        if model_name == \"Two_Side\"\n",
    "            obj_RO,X_RO,time_RO = Solve_RO(N,N_u,K,A_lb,A_ub,B_lb,B_ub,Obs_Feat,P_dag,psi_lb,psi_ub,phi_lb,phi_ub)\n",
    "        else\n",
    "            obj_RO,X_RO,time_RO = Solve_RO_one_side_exp(N,N_u,K,A_lb,A_ub,B_lb,B_ub,Obs_Feat,P_dag,psi_lb,psi_ub)\n",
    "        end\n",
    "        \n",
    "        rev_RO, price_RO = compute_oof(X_RO, A_true, B_true, Obs_Feat, P_dag)\n",
    "        println(\"rev_RO = \",round(rev_RO,digits=6),\",price_RO = \",price_RO)\n",
    "        RST_RO[\"iter=$(iter)_Rev\"] = rev_RO\n",
    "        RST_RO[\"iter=$(iter)_Price\"] = price_RO\n",
    "        RST_RO[\"iter=$(iter)_Obj\"] = obj_RO\n",
    "    end\n",
    "    return RST_RO\n",
    "end"
   ]
  },
  {
   "cell_type": "code",
   "execution_count": 15,
   "id": "6a3970f5",
   "metadata": {},
   "outputs": [
    {
     "data": {
      "text/plain": [
       "Run_RO_with_Given_bd_coef (generic function with 2 methods)"
      ]
     },
     "metadata": {},
     "output_type": "display_data"
    }
   ],
   "source": [
    "function Run_RO_with_Given_bd_coef(bd_coef, iterations, N, N_u, K, Input_Data, psi_coef,RST_ETO,model_name)\n",
    "    RST_RO = Run_RO(bd_coef, iterations, N, N_u, K, Input_Data,psi_coef,model_name);\n",
    "    Rev_ETO = [RST_ETO[\"iter=$(iter)_Rev\"] for iter in 1:iterations]\n",
    "    Rev_RO = [RST_RO[\"iter=$(iter)_Rev\"] for iter in 1:iterations]\n",
    "    # println(\"Rev_ETO = \",round.(Rev_ETO,digits=4))\n",
    "    println(\"Rev_RO/Rev_ETO = \",round.(Rev_RO./Rev_ETO,digits=4), \", Average = \",round.(mean(Rev_RO./Rev_ETO),digits=4))\n",
    "    return RST_RO\n",
    "end"
   ]
  },
  {
   "cell_type": "markdown",
   "id": "9568927e",
   "metadata": {},
   "source": [
    "## Evaluate"
   ]
  },
  {
   "cell_type": "markdown",
   "id": "6314b1a2",
   "metadata": {},
   "source": [
    "### offdiag is mix"
   ]
  },
  {
   "cell_type": "code",
   "execution_count": 10,
   "id": "4d7d2cfa",
   "metadata": {},
   "outputs": [
    {
     "data": {
      "text/plain": [
       "10"
      ]
     },
     "metadata": {},
     "output_type": "display_data"
    }
   ],
   "source": [
    "Random.seed!(1)\n",
    "N_u = 1\n",
    "N = 5\n",
    "S_train = 1000\n",
    "S_test = 1\n",
    "K = 10   # 每个产品的选择项数量\n",
    "max_offdiag = 0.3\n",
    "offdiag_sign = \"mix\"  # \"positive\" or \"negative\"\n",
    "P_bar = 1.0\n",
    "iterations = 10"
   ]
  },
  {
   "cell_type": "markdown",
   "id": "e03b3e9c",
   "metadata": {},
   "source": [
    "- Generate Data"
   ]
  },
  {
   "cell_type": "code",
   "execution_count": 11,
   "id": "d1a43034",
   "metadata": {},
   "outputs": [],
   "source": [
    "Input_Data = generate_Input_Data(S_train,S_test,iterations, N, N_u, K, offdiag_sign,max_offdiag,P_bar);\n",
    "bd_coef = 0.0\n",
    "Input_Data = Calculate_Hyper_Param(bd_coef, iterations, N, N_u, K, Input_Data);\n",
    "save(string(data_dir, \"Input_Data_\",offdiag_sign,\".jld2\"), Input_Data);"
   ]
  },
  {
   "cell_type": "markdown",
   "id": "43aff417",
   "metadata": {},
   "source": [
    "- Run Oracle"
   ]
  },
  {
   "cell_type": "code",
   "execution_count": 12,
   "id": "cd4813fa",
   "metadata": {},
   "outputs": [],
   "source": [
    "RST_Oracle = Run_Oracle(iterations, N, N_u, K, Input_Data);"
   ]
  },
  {
   "cell_type": "markdown",
   "id": "152240c0",
   "metadata": {},
   "source": [
    "- Run ETO"
   ]
  },
  {
   "cell_type": "code",
   "execution_count": 13,
   "id": "e37110c4",
   "metadata": {},
   "outputs": [
    {
     "name": "stdout",
     "output_type": "stream",
     "text": [
      "Rev_ETO/Rev_Oracle = [1.0, 1.0, 1.0, 1.0, 1.0, 1.0, 1.0, 1.0, 0.9808, 1.0]\n"
     ]
    }
   ],
   "source": [
    "RST_ETO = Run_ETO(iterations, N, N_u, K, Input_Data);\n",
    "Rev_ETO = [RST_ETO[\"iter=$(iter)_Rev\"] for iter in 1:iterations]\n",
    "Rev_Oracle = [RST_Oracle[\"iter=$(iter)_Rev\"] for iter in 1:iterations]\n",
    "println(\"Rev_ETO/Rev_Oracle = \",round.(Rev_ETO./Rev_Oracle,digits=4))"
   ]
  },
  {
   "cell_type": "markdown",
   "id": "5c54f0ee",
   "metadata": {},
   "source": [
    "- Run RO"
   ]
  },
  {
   "cell_type": "code",
   "execution_count": 17,
   "id": "964da926",
   "metadata": {},
   "outputs": [
    {
     "name": "stdout",
     "output_type": "stream",
     "text": [
      "rev_RO = 0.733612,price_RO = [0.91, 0.96, 0.87, 0.98, 0.74]\n",
      "rev_RO = 0.645775,price_RO = [0.92, 0.9, 0.74, 0.97, 0.69]\n",
      "rev_RO = 0.764505,price_RO = [0.97, 0.94, 0.96, 0.91, 0.94]\n",
      "rev_RO = 0.743258,price_RO = [0.89, 0.81, 0.88, 0.99, 0.87]\n",
      "rev_RO = 0.683563,price_RO = [0.98, 0.92, 0.96, 1.0, 0.88]\n",
      "rev_RO = 0.60551,price_RO = [0.97, 0.76, 0.88, 0.9, 0.98]\n",
      "rev_RO = 0.666927,price_RO = [0.96, 0.83, 0.93, 0.91, 0.97]\n",
      "rev_RO = 0.74936,price_RO = [0.95, 0.85, 0.91, 0.95, 0.95]\n",
      "rev_RO = 0.6788,price_RO = [0.99, 0.98, 0.88, 0.95, 0.72]\n",
      "rev_RO = 0.682955,price_RO = [0.88, 0.92, 0.84, 0.82, 0.91]\n",
      "Rev_RO/Rev_ETO = [1.0, 1.0, 1.0, 1.0, 1.0, 1.0, 1.0, 1.0, 1.0, 1.0], Average = 1.0\n",
      "Rev_RO/Rev_ETO = [1.0, 1.0, 1.0, 1.0, 1.0, 1.0, 1.0, 1.0, 1.0, 1.0]\n"
     ]
    }
   ],
   "source": [
    "model_name=\"Two_Side\"\n",
    "RST_RO = Run_RO_with_Given_bd_coef(bd_coef, iterations, N, N_u, K, Input_Data, psi_coef,RST_ETO,model_name);\n",
    "Rev_RO = [RST_RO[\"iter=$(iter)_Rev\"] for iter in 1:iterations]\n",
    "println(\"Rev_RO/Rev_ETO = \",round.(Rev_RO./Rev_ETO,digits=4))"
   ]
  },
  {
   "cell_type": "markdown",
   "id": "71b72e95",
   "metadata": {},
   "source": [
    "### offdiag is zero"
   ]
  },
  {
   "cell_type": "code",
   "execution_count": 18,
   "id": "67325244",
   "metadata": {},
   "outputs": [],
   "source": [
    "offdiag_sign = \"zero\" \n",
    "Input_Data = generate_Input_Data(S_train,S_test,iterations, N, N_u, K, offdiag_sign,max_offdiag,P_bar);\n",
    "bd_coef = 0.0\n",
    "Input_Data = Calculate_Hyper_Param(bd_coef, iterations, N, N_u, K, Input_Data);\n",
    "save(string(data_dir, \"Input_Data_\",offdiag_sign,\".jld2\"), Input_Data);"
   ]
  },
  {
   "cell_type": "code",
   "execution_count": 19,
   "id": "dbd5e948",
   "metadata": {},
   "outputs": [],
   "source": [
    "RST_Oracle = Run_Oracle(iterations, N, N_u, K, Input_Data);"
   ]
  },
  {
   "cell_type": "code",
   "execution_count": 20,
   "id": "94145ea1",
   "metadata": {},
   "outputs": [
    {
     "name": "stdout",
     "output_type": "stream",
     "text": [
      "Rev_ETO/Rev_Oracle = [1.0, 1.0, 1.0, 1.0, 1.0, 1.0, 1.0, 1.0, 1.0, 1.0]\n"
     ]
    }
   ],
   "source": [
    "RST_ETO = Run_ETO(iterations, N, N_u, K, Input_Data);\n",
    "Rev_ETO = [RST_ETO[\"iter=$(iter)_Rev\"] for iter in 1:iterations]\n",
    "Rev_Oracle = [RST_Oracle[\"iter=$(iter)_Rev\"] for iter in 1:iterations]\n",
    "println(\"Rev_ETO/Rev_Oracle = \",round.(Rev_ETO./Rev_Oracle,digits=4))"
   ]
  },
  {
   "cell_type": "code",
   "execution_count": 21,
   "id": "6d3afb07",
   "metadata": {},
   "outputs": [
    {
     "name": "stdout",
     "output_type": "stream",
     "text": [
      "rev_RO = 0.688269,price_RO = [0.85, 0.89, 0.93, 0.94, 0.97]\n",
      "rev_RO = 0.690565,price_RO = [0.9, 0.97, 0.9, 0.96, 0.99]\n",
      "rev_RO = 0.665666,price_RO = [0.87, 0.71, 0.85, 0.98, 0.95]\n",
      "rev_RO = 0.698709,price_RO = [0.89, 0.78, 0.98, 0.94, 0.8]\n",
      "rev_RO = 0.747399,price_RO = [0.95, 0.98, 0.93, 0.88, 0.97]\n",
      "rev_RO = 0.657518,price_RO = [0.77, 0.83, 0.93, 0.9, 0.88]\n",
      "rev_RO = 0.66975,price_RO = [0.93, 0.79, 0.76, 0.95, 0.99]\n",
      "rev_RO = 0.723362,price_RO = [0.98, 0.97, 0.76, 0.87, 0.95]\n",
      "rev_RO = 0.765142,price_RO = [0.95, 0.97, 0.97, 0.96, 0.92]\n",
      "rev_RO = 0.72611,price_RO = [0.84, 0.76, 0.99, 0.94, 0.95]\n",
      "Rev_RO/Rev_ETO = [1.0, 1.0, 1.0, 1.0, 1.0, 1.0, 1.0, 1.0, 1.0, 1.0], Average = 1.0\n"
     ]
    }
   ],
   "source": [
    "model_name=\"Two_Side\"\n",
    "Run_RO_with_Given_bd_coef(bd_coef, iterations, N, N_u, K, Input_Data, psi_coef,RST_ETO,model_name);"
   ]
  },
  {
   "cell_type": "markdown",
   "id": "ad4e147e",
   "metadata": {},
   "source": [
    "### offdiag is positive"
   ]
  },
  {
   "cell_type": "code",
   "execution_count": 22,
   "id": "4094dc73",
   "metadata": {},
   "outputs": [],
   "source": [
    "offdiag_sign = \"positive\" \n",
    "Input_Data = generate_Input_Data(S_train,S_test,iterations, N, N_u, K, offdiag_sign,max_offdiag,P_bar);\n",
    "bd_coef = 0.0\n",
    "Input_Data = Calculate_Hyper_Param(bd_coef, iterations, N, N_u, K, Input_Data)\n",
    "save(string(data_dir, \"Input_Data_\",offdiag_sign,\".jld2\"), Input_Data)"
   ]
  },
  {
   "cell_type": "code",
   "execution_count": 23,
   "id": "0f054212",
   "metadata": {},
   "outputs": [],
   "source": [
    "RST_Oracle = Run_Oracle(iterations, N, N_u, K, Input_Data);"
   ]
  },
  {
   "cell_type": "code",
   "execution_count": 24,
   "id": "eb30444d",
   "metadata": {},
   "outputs": [
    {
     "name": "stdout",
     "output_type": "stream",
     "text": [
      "Rev_ETO/Rev_Oracle = [1.0, 1.0, 1.0, 1.0, 1.0, 1.0, 1.0, 1.0, 1.0, 1.0]\n"
     ]
    }
   ],
   "source": [
    "RST_ETO = Run_ETO(iterations, N, N_u, K, Input_Data);\n",
    "Rev_ETO = [RST_ETO[\"iter=$(iter)_Rev\"] for iter in 1:iterations]\n",
    "Rev_Oracle = [RST_Oracle[\"iter=$(iter)_Rev\"] for iter in 1:iterations]\n",
    "println(\"Rev_ETO/Rev_Oracle = \",round.(Rev_ETO./Rev_Oracle,digits=4))"
   ]
  },
  {
   "cell_type": "code",
   "execution_count": 25,
   "id": "ac14eb87",
   "metadata": {},
   "outputs": [
    {
     "name": "stdout",
     "output_type": "stream",
     "text": [
      "rev_RO = 0.790502,price_RO = [0.93, 0.96, 0.79, 0.93, 0.96]\n",
      "rev_RO = 0.697667,price_RO = [0.85, 0.85, 0.92, 0.75, 0.89]\n",
      "rev_RO = 0.793466,price_RO = [0.94, 0.88, 0.95, 0.82, 0.94]\n",
      "rev_RO = 0.779759,price_RO = [0.96, 0.99, 0.91, 0.8, 1.0]\n",
      "rev_RO = 0.709217,price_RO = [0.98, 0.66, 0.88, 0.99, 0.78]\n",
      "rev_RO = 0.786794,price_RO = [0.92, 0.95, 0.98, 0.92, 0.96]\n",
      "rev_RO = 0.766982,price_RO = [1.0, 0.88, 0.95, 0.76, 0.91]\n",
      "rev_RO = 0.742852,price_RO = [0.89, 0.96, 0.9, 0.91, 0.79]\n",
      "rev_RO = 0.835651,price_RO = [0.94, 0.95, 0.93, 0.95, 0.98]\n",
      "rev_RO = 0.794992,price_RO = [0.98, 0.84, 0.98, 0.95, 0.98]\n",
      "Rev_RO/Rev_ETO = [1.0, 1.0, 1.0, 1.0, 1.0, 1.0, 1.0, 1.0, 1.0, 1.0], Average = 1.0\n"
     ]
    }
   ],
   "source": [
    "model_name=\"Two_Side\"\n",
    "RST_RO = Run_RO_with_Given_bd_coef(bd_coef, iterations, N, N_u, K, Input_Data, psi_coef,RST_ETO,model_name);"
   ]
  },
  {
   "cell_type": "markdown",
   "id": "211a7218",
   "metadata": {},
   "source": [
    "### offdiag is negative"
   ]
  },
  {
   "cell_type": "code",
   "execution_count": 26,
   "id": "a72702ab",
   "metadata": {},
   "outputs": [],
   "source": [
    "offdiag_sign = \"negative\" \n",
    "Input_Data = generate_Input_Data(S_train,S_test,iterations, N, N_u, K, offdiag_sign,max_offdiag,P_bar);\n",
    "bd_coef = 0.0\n",
    "Input_Data = Calculate_Hyper_Param(bd_coef, iterations, N, N_u, K, Input_Data)\n",
    "save(string(data_dir, \"Input_Data_\",offdiag_sign,\".jld2\"), Input_Data)"
   ]
  },
  {
   "cell_type": "code",
   "execution_count": 27,
   "id": "9071c26c",
   "metadata": {},
   "outputs": [],
   "source": [
    "RST_Oracle = Run_Oracle(iterations, N, N_u, K, Input_Data);"
   ]
  },
  {
   "cell_type": "code",
   "execution_count": 28,
   "id": "610d6a10",
   "metadata": {},
   "outputs": [
    {
     "name": "stdout",
     "output_type": "stream",
     "text": [
      "Rev_ETO/Rev_Oracle = [0.9961, 1.0, 0.9843, 1.0, 0.9879, 1.0, 1.0, 1.0, 1.0, 1.0]\n"
     ]
    }
   ],
   "source": [
    "RST_ETO = Run_ETO(iterations, N, N_u, K, Input_Data);\n",
    "Rev_ETO = [RST_ETO[\"iter=$(iter)_Rev\"] for iter in 1:iterations]\n",
    "Rev_Oracle = [RST_Oracle[\"iter=$(iter)_Rev\"] for iter in 1:iterations]\n",
    "println(\"Rev_ETO/Rev_Oracle = \",round.(Rev_ETO./Rev_Oracle,digits=4))"
   ]
  },
  {
   "cell_type": "code",
   "execution_count": 29,
   "id": "b995846a",
   "metadata": {},
   "outputs": [
    {
     "name": "stdout",
     "output_type": "stream",
     "text": [
      "rev_RO = 0.572319,price_RO = [0.91, 0.8, 0.96, 0.79, 0.98]\n",
      "rev_RO = 0.65257,price_RO = [0.84, 0.95, 0.96, 0.92, 0.86]\n",
      "rev_RO = 0.58621,price_RO = [0.96, 0.8, 0.83, 0.65, 0.93]\n",
      "rev_RO = 0.700351,price_RO = [0.98, 0.94, 0.86, 0.88, 0.87]\n",
      "rev_RO = 0.591016,price_RO = [1.0, 0.98, 0.82, 0.99, 0.78]\n",
      "rev_RO = 0.619304,price_RO = [0.98, 0.96, 0.95, 0.54, 0.99]\n",
      "rev_RO = 0.618306,price_RO = [0.89, 0.82, 0.91, 0.95, 0.95]\n",
      "rev_RO = 0.660026,price_RO = [0.89, 0.89, 0.99, 1.0, 0.83]\n",
      "rev_RO = 0.597654,price_RO = [0.77, 0.93, 0.95, 0.99, 0.77]\n",
      "rev_RO = 0.631661,price_RO = [0.94, 0.98, 0.93, 0.87, 0.75]\n",
      "Rev_RO/Rev_ETO = [1.0, 1.0, 1.0, 1.0, 1.0, 1.0, 1.0, 1.0, 1.0, 1.0], Average = 1.0\n"
     ]
    }
   ],
   "source": [
    "model_name=\"Two_Side\"\n",
    "RST_RO = Run_RO_with_Given_bd_coef(bd_coef, iterations, N, N_u, K, Input_Data, psi_coef,RST_ETO,model_name);"
   ]
  },
  {
   "cell_type": "markdown",
   "id": "e0566842",
   "metadata": {},
   "source": [
    "## Check Correctness, max_offdiag = 1.0"
   ]
  },
  {
   "cell_type": "code",
   "execution_count": 31,
   "id": "444b2b61",
   "metadata": {},
   "outputs": [
    {
     "data": {
      "text/plain": [
       "10"
      ]
     },
     "metadata": {},
     "output_type": "display_data"
    }
   ],
   "source": [
    "N_u = 1\n",
    "N = 5\n",
    "S_train = 1000\n",
    "S_test = 1\n",
    "K = 10   # 每个产品的选择项数量\n",
    "P_bar = 1.0\n",
    "iterations = 10"
   ]
  },
  {
   "cell_type": "code",
   "execution_count": 32,
   "id": "141b9414",
   "metadata": {},
   "outputs": [
    {
     "data": {
      "text/plain": [
       "\"mix\""
      ]
     },
     "metadata": {},
     "output_type": "display_data"
    }
   ],
   "source": [
    "Random.seed!(1)\n",
    "max_offdiag = 1.0\n",
    "offdiag_sign = \"mix\"  # \"positive\" or \"negative\""
   ]
  },
  {
   "cell_type": "code",
   "execution_count": 33,
   "id": "57d3dd87",
   "metadata": {},
   "outputs": [
    {
     "data": {
      "text/plain": [
       "Dict{Any, Any} with 160 entries:\n",
       "  \"iter=7_B_true\"   => [-2.80069 0.251263 … -0.951699 0.363152; 0.654146 -3.373…\n",
       "  \"iter=5_B_hat\"    => [-3.10939 0.642363 … -0.478885 -0.645334; -0.416721 -2.0…\n",
       "  \"iter=7_A_ub\"     => [0.846102; 1.11471; … ; 0.372782; 1.21583;;]\n",
       "  \"iter=5_psi_ub\"   => [0.0, 0.0, 0.0, 0.0, 0.0]\n",
       "  \"iter=8_phi_ub\"   => [0.0, 0.0, 0.0, 0.0, 0.0]\n",
       "  \"iter=7_B_ub\"     => [-2.68912 0.911353 … -1.13312 -0.23372; 0.590211 -3.9525…\n",
       "  \"iter=7_B_lb\"     => [-2.68912 0.911353 … -1.13312 -0.23372; 0.590211 -3.9525…\n",
       "  \"iter=5_A_lb\"     => [0.921217; 0.256813; … ; 0.379923; -0.128712;;]\n",
       "  \"iter=4_A_hat\"    => [0.192624; 1.23652; … ; 1.15842; 1.02723;;]\n",
       "  \"iter=4_phi_lb\"   => [-0.91, -0.91, -0.91, -0.91, -0.91]\n",
       "  \"iter=3_A_true\"   => [0.418871; 0.345158; … ; 0.6974; 0.913239;;]\n",
       "  \"iter=8_B_hat\"    => [-1.37777 0.466814 … 0.386345 -0.619382; -0.129072 -2.57…\n",
       "  \"iter=8_P_train\"  => [0.44 0.75 … 0.09 0.31; 0.19 0.24 … 0.15 0.28; … ; 0.48 …\n",
       "  \"iter=5_A_hat\"    => [0.921217; 0.256813; … ; 0.379923; -0.128712;;]\n",
       "  \"iter=6_P_train\"  => [0.43 0.95 … 0.04 0.95; 0.84 0.28 … 0.42 0.62; … ; 0.78 …\n",
       "  \"iter=6_B_ub\"     => [-2.03204 -1.68928 … -0.945282 0.668615; 1.11983 -2.8384…\n",
       "  \"iter=8_phi_lb\"   => [-0.94, -0.94, -0.94, -0.94, -0.94]\n",
       "  \"iter=10_A_ub\"    => [0.451546; 0.544838; … ; -0.352121; 0.654793;;]\n",
       "  \"iter=2_Obs_Feat\" => [0.59]\n",
       "  ⋮                 => ⋮"
      ]
     },
     "metadata": {},
     "output_type": "display_data"
    }
   ],
   "source": [
    "Input_Data = generate_Input_Data(S_train,S_test,iterations, N, N_u, K, offdiag_sign,max_offdiag,P_bar);\n",
    "bd_coef = 0.0;\n",
    "Input_Data = Calculate_Hyper_Param(bd_coef, iterations, N, N_u, K, Input_Data);\n",
    "# save(string(data_dir, \"Input_Data_\",offdiag_sign,\"_max_offdiag=1.jld2\"), Input_Data)"
   ]
  },
  {
   "cell_type": "code",
   "execution_count": 34,
   "id": "c9f026c4",
   "metadata": {},
   "outputs": [],
   "source": [
    "RST_Oracle = Run_Oracle(iterations, N, N_u, K, Input_Data);"
   ]
  },
  {
   "cell_type": "code",
   "execution_count": 35,
   "id": "2b18e637",
   "metadata": {},
   "outputs": [],
   "source": [
    "RST_ETO = Run_ETO(iterations, N, N_u, K, Input_Data);"
   ]
  },
  {
   "cell_type": "code",
   "execution_count": 36,
   "id": "6cd1c371",
   "metadata": {},
   "outputs": [
    {
     "name": "stdout",
     "output_type": "stream",
     "text": [
      "rev_RO = 0.592124,price_RO = [0.91, 0.96, 0.87, 0.98, 0.74]\n",
      "rev_RO = 0.338799,price_RO = [0.92, 0.71, 0.69, 0.52, 0.69]\n",
      "rev_RO = 0.628102,price_RO = [0.97, 0.94, 0.96, 0.91, 0.94]\n",
      "rev_RO = 0.601745,price_RO = [0.64, 0.81, 0.88, 0.99, 0.87]\n",
      "rev_RO = 0.435418,price_RO = [0.41, 0.92, 0.96, 1.0, 0.78]\n",
      "rev_RO = 0.268467,price_RO = [0.97, 0.76, 0.48, 0.9, 0.51]\n",
      "rev_RO = 0.314258,price_RO = [0.66, 0.83, 0.93, 0.27, 0.57]\n",
      "rev_RO = 0.641213,price_RO = [0.95, 0.85, 0.91, 0.95, 0.95]\n",
      "rev_RO = 0.377471,price_RO = [0.76, 0.33, 0.88, 0.95, 0.85]\n",
      "rev_RO = 0.570106,price_RO = [0.88, 0.92, 0.84, 0.82, 0.91]\n",
      "Rev_RO/Rev_ETO = [1.0, 1.0, 1.0, 1.0, 1.0, 1.0, 1.0, 1.0, 1.0, 1.0], Average = 1.0\n"
     ]
    }
   ],
   "source": [
    "model_name=\"Two_Side\"\n",
    "RST_RO = Run_RO_with_Given_bd_coef(bd_coef, iterations, N, N_u, K, Input_Data, 0.01,RST_ETO,model_name);"
   ]
  },
  {
   "cell_type": "code",
   "execution_count": 37,
   "id": "0827cf38",
   "metadata": {},
   "outputs": [
    {
     "name": "stdout",
     "output_type": "stream",
     "text": [
      "Rev_ETO/Rev_Oracle = [1.0, 0.9839, 1.0, 0.9896, 0.9966, 0.9677, 0.9177, 1.0, 0.986, 1.0]\n",
      "Rev_RO/Rev_ETO = [1.0, 1.0, 1.0, 1.0, 1.0, 1.0, 1.0, 1.0, 1.0, 1.0]\n"
     ]
    }
   ],
   "source": [
    "Rev_ETO = [RST_ETO[\"iter=$(iter)_Rev\"] for iter in 1:iterations]\n",
    "Rev_RO = [RST_RO[\"iter=$(iter)_Rev\"] for iter in 1:iterations]\n",
    "Rev_Oracle = [RST_Oracle[\"iter=$(iter)_Rev\"] for iter in 1:iterations]\n",
    "println(\"Rev_ETO/Rev_Oracle = \",round.(Rev_ETO./Rev_Oracle,digits=4))\n",
    "println(\"Rev_RO/Rev_ETO = \",round.(Rev_RO./Rev_ETO,digits=4))"
   ]
  },
  {
   "cell_type": "code",
   "execution_count": 38,
   "id": "d35665d6",
   "metadata": {},
   "outputs": [],
   "source": [
    "Price_ETO = [RST_ETO[\"iter=$(iter)_Price\"] for iter in 1:iterations];\n",
    "Price_RO = [RST_RO[\"iter=$(iter)_Price\"] for iter in 1:iterations];"
   ]
  },
  {
   "cell_type": "code",
   "execution_count": 39,
   "id": "0dad137d",
   "metadata": {},
   "outputs": [
    {
     "data": {
      "text/plain": [
       "10-element Vector{Vector{Float64}}:\n",
       " [0.91, 0.96, 0.87, 0.98, 0.74]\n",
       " [0.92, 0.71, 0.69, 0.52, 0.69]\n",
       " [0.97, 0.94, 0.96, 0.91, 0.94]\n",
       " [0.64, 0.81, 0.88, 0.99, 0.87]\n",
       " [0.41, 0.92, 0.96, 1.0, 0.78]\n",
       " [0.97, 0.76, 0.48, 0.9, 0.51]\n",
       " [0.66, 0.83, 0.93, 0.27, 0.57]\n",
       " [0.95, 0.85, 0.91, 0.95, 0.95]\n",
       " [0.76, 0.33, 0.88, 0.95, 0.85]\n",
       " [0.88, 0.92, 0.84, 0.82, 0.91]"
      ]
     },
     "metadata": {},
     "output_type": "display_data"
    }
   ],
   "source": [
    "Price_ETO"
   ]
  },
  {
   "cell_type": "code",
   "execution_count": 40,
   "id": "d7f93e52",
   "metadata": {},
   "outputs": [
    {
     "data": {
      "text/plain": [
       "10-element Vector{Vector{Float64}}:\n",
       " [0.91, 0.96, 0.87, 0.98, 0.74]\n",
       " [0.92, 0.71, 0.69, 0.52, 0.69]\n",
       " [0.97, 0.94, 0.96, 0.91, 0.94]\n",
       " [0.64, 0.81, 0.88, 0.99, 0.87]\n",
       " [0.41, 0.92, 0.96, 1.0, 0.78]\n",
       " [0.97, 0.76, 0.48, 0.9, 0.51]\n",
       " [0.66, 0.83, 0.93, 0.27, 0.57]\n",
       " [0.95, 0.85, 0.91, 0.95, 0.95]\n",
       " [0.76, 0.33, 0.88, 0.95, 0.85]\n",
       " [0.88, 0.92, 0.84, 0.82, 0.91]"
      ]
     },
     "metadata": {},
     "output_type": "display_data"
    }
   ],
   "source": [
    "Price_RO"
   ]
  },
  {
   "cell_type": "code",
   "execution_count": null,
   "id": "fcdac3ed",
   "metadata": {},
   "outputs": [],
   "source": [
    "Obj_RO = [RST_RO[\"iter=$(iter)_Obj\"] for iter in 1:iterations];\n",
    "Obj_ETO = [RST_ETO[\"iter=$(iter)_Obj\"] for iter in 1:iterations];"
   ]
  },
  {
   "cell_type": "markdown",
   "id": "701530b8",
   "metadata": {},
   "source": [
    "## S_train = 100"
   ]
  },
  {
   "cell_type": "code",
   "execution_count": null,
   "id": "bd6b41b9",
   "metadata": {},
   "outputs": [],
   "source": [
    "Random.seed!(1)\n",
    "N_u = 1\n",
    "N = 5\n",
    "S_train = 100\n",
    "S_test = 1\n",
    "K = 10   # 每个产品的选择项数量\n",
    "max_offdiag = 0.3\n",
    "offdiag_sign = \"mix\"  # \"positive\" or \"negative\"\n",
    "P_bar = 1.0\n",
    "iterations = 10"
   ]
  },
  {
   "cell_type": "code",
   "execution_count": null,
   "id": "dddcf7c6",
   "metadata": {},
   "outputs": [],
   "source": [
    "Input_Data = generate_Input_Data(S_train,S_test,iterations, N, N_u, K, offdiag_sign,max_offdiag,P_bar);\n",
    "bd_coef = 0.0\n",
    "Input_Data = Calculate_Hyper_Param(bd_coef, iterations, N, N_u, K, Input_Data);\n",
    "save(string(data_dir, \"Input_Data_\",offdiag_sign,\".jld2\"), Input_Data);"
   ]
  },
  {
   "cell_type": "code",
   "execution_count": null,
   "id": "7b83078e",
   "metadata": {},
   "outputs": [],
   "source": [
    "RST_Oracle = Run_Oracle(iterations, N, N_u, K, Input_Data);"
   ]
  },
  {
   "cell_type": "code",
   "execution_count": null,
   "id": "54f23531",
   "metadata": {},
   "outputs": [],
   "source": [
    "RST_ETO = Run_ETO(iterations, N, N_u, K, Input_Data);"
   ]
  },
  {
   "cell_type": "code",
   "execution_count": null,
   "id": "bc6321f6",
   "metadata": {},
   "outputs": [],
   "source": [
    "model_name=\"Two_Side\"\n",
    "RST_RO = Run_RO_with_Given_bd_coef(bd_coef, iterations, N, N_u, K, Input_Data, 0.01,RST_ETO,model_name);"
   ]
  },
  {
   "cell_type": "code",
   "execution_count": null,
   "id": "25b96516",
   "metadata": {},
   "outputs": [],
   "source": []
  },
  {
   "cell_type": "code",
   "execution_count": null,
   "id": "56174b67",
   "metadata": {},
   "outputs": [],
   "source": []
  },
  {
   "cell_type": "markdown",
   "id": "c80829ef",
   "metadata": {},
   "source": [
    "# ********* Below is the dubug history **************"
   ]
  },
  {
   "cell_type": "markdown",
   "id": "5f68e50d",
   "metadata": {},
   "source": [
    "#### iter = 5, ETO和RO的结果不一致"
   ]
  },
  {
   "cell_type": "code",
   "execution_count": null,
   "id": "44034a07",
   "metadata": {},
   "outputs": [],
   "source": [
    "Obj_ETO"
   ]
  },
  {
   "cell_type": "code",
   "execution_count": null,
   "id": "4c0745b8",
   "metadata": {},
   "outputs": [],
   "source": [
    "iter = 4\n",
    "Obs_Feat = Input_Data[\"iter=$(iter)_Obs_Feat\"]\n",
    "A_true = Input_Data[\"iter=$(iter)_A_true\"]\n",
    "B_true = Input_Data[\"iter=$(iter)_B_true\"]\n",
    "A_hat = Input_Data[\"iter=$(iter)_A_hat\"]\n",
    "B_hat = Input_Data[\"iter=$(iter)_B_hat\"]\n",
    "P_dag = Input_Data[\"iter=$(iter)_P_dag\"]\n",
    "\n",
    "psi_lb = Input_Data[\"iter=$(iter)_psi_lb\"]\n",
    "psi_ub = Input_Data[\"iter=$(iter)_psi_ub\"]\n",
    "\n",
    "phi_lb = Input_Data[\"iter=$(iter)_phi_lb\"]\n",
    "phi_ub = Input_Data[\"iter=$(iter)_phi_ub\"]\n",
    "\n",
    "A_lb = Input_Data[\"iter=$(iter)_A_lb\"] \n",
    "A_ub = Input_Data[\"iter=$(iter)_A_ub\"]\n",
    "B_lb = Input_Data[\"iter=$(iter)_B_lb\"] \n",
    "B_ub = Input_Data[\"iter=$(iter)_B_ub\"] "
   ]
  },
  {
   "cell_type": "code",
   "execution_count": null,
   "id": "aeb8a1fd",
   "metadata": {},
   "outputs": [],
   "source": [
    "phi_ub"
   ]
  },
  {
   "cell_type": "code",
   "execution_count": null,
   "id": "074b4e96",
   "metadata": {},
   "outputs": [],
   "source": [
    "obj_ETO,X_ETO,time_ETO = Solve_ETO(N,N_u,K,A_hat,B_hat,Obs_Feat,P_dag)"
   ]
  },
  {
   "cell_type": "code",
   "execution_count": null,
   "id": "f510d908",
   "metadata": {},
   "outputs": [],
   "source": [
    "price_ETO = sum(X_ETO .* P_dag,dims=2)"
   ]
  },
  {
   "cell_type": "code",
   "execution_count": null,
   "id": "f96a21d4",
   "metadata": {},
   "outputs": [],
   "source": [
    "obj_RO,X_RO,time_RO = Solve_RO_one_side_exp(N,N_u,K,A_lb,A_ub,B_lb,B_ub,Obs_Feat,P_dag,psi_lb,psi_ub)"
   ]
  },
  {
   "cell_type": "code",
   "execution_count": null,
   "id": "505ac641",
   "metadata": {},
   "outputs": [],
   "source": [
    "price_RO1 = sum(X_RO .* P_dag,dims=2)"
   ]
  },
  {
   "cell_type": "markdown",
   "id": "cb7f5455",
   "metadata": {},
   "source": [
    "#### 固定ETO模型中的solution为RO的solution,i.e., X_ETO = X_RO, 检查下结果是否和RO的结果一致"
   ]
  },
  {
   "cell_type": "code",
   "execution_count": null,
   "id": "4df1c67a",
   "metadata": {},
   "outputs": [],
   "source": [
    "u = Obs_Feat\n",
    "p_dag = P_dag\n",
    "X_given = X_RO\n",
    "# X_given\n",
    "model = Model(Mosek.Optimizer)\n",
    "# set_attribute(model, \"mioTolRelGap\", 0.00000001)\n",
    "set_attribute(model, \"MSK_DPAR_MIO_TOL_REL_GAP\", 1e-7)\n",
    "set_attribute(model, \"MSK_DPAR_MIO_TOL_ABS_GAP\", 1e-7)\n",
    "# 定义变量\n",
    "@variable(model, delta)                           # 标量 δ\n",
    "@variable(model, omega_lb[1:N,1:N_u] >= 0)            \n",
    "@variable(model, omega_ub[1:N,1:N_u] >= 0)           \n",
    "@variable(model, pi_lb[1:N,1:N] >= 0)     \n",
    "@variable(model, pi_ub[1:N,1:N] >= 0)     \n",
    "\n",
    "# exponential variables\n",
    "@variable(model, psi_1[1:N])                   \n",
    "@variable(model, psi_2[1:N])                   \n",
    "@variable(model, psi_3[1:N])        \n",
    "\n",
    "@variable(model, X[1:N, 1:K], Bin)        # 二进制变量 x_{jk}\n",
    "@variable(model, Y[1:N,1:N,1:K] <= 0)    \n",
    "\n",
    "for n in 1:N\n",
    "    @constraint(model, omega_lb[n,:] .- omega_ub[n,:] .+ psi_3[n] .* u .== 0)\n",
    "end\n",
    "\n",
    "for n in 1:N\n",
    "    @constraint(model, pi_lb[n,:] .- pi_ub[n,:] .+ sum(Y[n,:,:] .* p_dag,dims=2) .== 0)\n",
    "end\n",
    "\n",
    "@constraint(model, sum(omega_ub .* A_ub) - sum(omega_lb .* A_lb) + sum(pi_ub .* B_ub) - sum(pi_lb .* B_lb) + delta + sum(psi_2) <= 0)\n",
    "\n",
    "for n in 1:N\n",
    "    @constraint(model, delta + psi_1[n] - X[n,:]' * p_dag[n,:] <= 0)\n",
    "end\n",
    "\n",
    "for n in 1:N\n",
    "    @constraint(model, [psi_3[n], psi_2[n], psi_1[n]] in MOI.DualExponentialCone())\n",
    "end\n",
    "\n",
    "for n in 1:N\n",
    "    for j in 1:N\n",
    "        for k in 1:K\n",
    "            @constraint(model, Y[n,j,k] >= psi_lb[n] * X[j,k])\n",
    "            @constraint(model, Y[n,j,k] <= psi_ub[n])\n",
    "        end\n",
    "    end\n",
    "end    \n",
    "for n in 1:N\n",
    "    for j in 1:N\n",
    "        @constraint(model, sum(Y[n,j,:]) == psi_3[n])\n",
    "    end\n",
    "end\n",
    "\n",
    "@constraint(model, sum(X,dims=2) .== 1)\n",
    "\n",
    "@constraint(model, X .- X_given .== 0)  # 固定X的值\n",
    "@objective(model, Max, delta)\n",
    "\n",
    "optimize!(model)\n",
    "status = JuMP.termination_status(model)\n",
    "# println(\"status: \", status)\n",
    "# solution_summary(model)\n",
    "if status == MOI.OPTIMAL\n",
    "    obj_val = objective_value(model)\n",
    "    X_val = round.(value.(X))\n",
    "    solve_time = JuMP.solve_time(model)\n",
    "else\n",
    "    obj_val = NaN\n",
    "    X_val = ones(N,N) .* NaN\n",
    "    solve_time = NaN\n",
    "end"
   ]
  },
  {
   "cell_type": "code",
   "execution_count": null,
   "id": "f70b5000",
   "metadata": {},
   "outputs": [],
   "source": [
    "println(\"Objective value when X_ETO = X_RO:\",obj_val)"
   ]
  },
  {
   "cell_type": "markdown",
   "id": "31154d3b",
   "metadata": {},
   "source": [
    "#### 固定RO的solution为ETO的solution，检查RO的目标函数值是否等于ETO的目标函数值"
   ]
  },
  {
   "cell_type": "markdown",
   "id": "22e85d44",
   "metadata": {},
   "source": [
    "- 计算模型中用到的L 和 M"
   ]
  },
  {
   "cell_type": "code",
   "execution_count": null,
   "id": "03379f1b",
   "metadata": {},
   "outputs": [],
   "source": [
    "price = vec(sum(X_ETO .* P_dag,dims=2)) # 设定价格为ETO的价格\n",
    "Obs_Feat_Trun = [max(-Obs_Feat[ind],0) for ind in 1:N_u]\n",
    "Obs_Feat_Trun2 = [max(Obs_Feat[ind],0) for ind in 1:N_u]\n",
    "psi_lb = zeros(N)\n",
    "L_arr = zeros(N)\n",
    "M_arr = zeros(N)\n",
    "for n in 1:N\n",
    "    L_arr[n] = -Obs_Feat_Trun' * (A_ub[n,:] - A_lb[n,:]) - Obs_Feat' * A_lb[n,:] - price' * B_lb[n,:]\n",
    "    M_arr[n] = Obs_Feat_Trun2' * (A_ub[n,:] - A_lb[n,:]) + Obs_Feat' * A_lb[n,:] + price' * B_lb[n,:]\n",
    "end"
   ]
  },
  {
   "cell_type": "markdown",
   "id": "3ab8a1bc",
   "metadata": {},
   "source": [
    "- <font color=\"red\">我们首先考虑如下的简化模型：\n",
    "\\begin{equation}\n",
    "    \\begin{array}{rcll}\n",
    "         & \\sup & \\displaystyle \\delta \\\\\n",
    "         & {\\rm s.t.} \n",
    "         & \\sum\\limits_{n \\in [N]}-\\psi_n^3 L_n + \\psi_{n}^{2}  \\leq -\\delta, \\\\\n",
    "         &&  - \\psi_n^3 \\exp\\left(\\frac{\\psi_n^2}{\\psi_n^3}-1\\right) \\le p_{n} - \\delta,& \\forall n \\in [N] \\\\\n",
    "    \\end{array}\n",
    "\\end{equation}\n",
    "- 本质上来说，我们只考虑了如下的Exponential cone：\n",
    "$\\rho_n \\geq \\rho_0 \\exp(a_u^\\top u + b_u^\\top p)$\n",
    "- 结果是采用ETO的价格，RO模型得到的目标函数值不等于ETO模型的目标函数值\n",
    "</font>"
   ]
  },
  {
   "cell_type": "code",
   "execution_count": null,
   "id": "8c20cfd9",
   "metadata": {},
   "outputs": [],
   "source": [
    "model = Model(Mosek.Optimizer)\n",
    "# set_attribute(model, \"mioTolRelGap\", 0.00000001)\n",
    "set_attribute(model, \"MSK_DPAR_MIO_TOL_REL_GAP\", 1e-7)\n",
    "set_attribute(model, \"MSK_DPAR_MIO_TOL_ABS_GAP\", 1e-7)\n",
    "# 定义变量\n",
    "@variable(model, delta)                           # 标量 δ\n",
    "# exponential variables\n",
    "@variable(model, psi_1[1:N])                   \n",
    "@variable(model, psi_2[1:N])                   \n",
    "@variable(model, psi_3[1:N])        \n",
    "\n",
    "@constraint(model, -L_arr' * psi_3 + sum(psi_2) <= -delta)\n",
    "\n",
    "\n",
    "for n in 1:N\n",
    "    @constraint(model, psi_1[n] <= price[n] - delta)\n",
    "end\n",
    "\n",
    "for n in 1:N\n",
    "    @constraint(model, [psi_3[n], psi_2[n], psi_1[n]] in MOI.DualExponentialCone())\n",
    "end\n",
    "\n",
    "@objective(model, Max, delta)\n",
    "\n",
    "optimize!(model)\n",
    "obj_val = objective_value(model);"
   ]
  },
  {
   "cell_type": "code",
   "execution_count": null,
   "id": "bf8dda05",
   "metadata": {},
   "outputs": [],
   "source": [
    "println(\"Objective value when X_RO = X_ETO:\",obj_val)"
   ]
  },
  {
   "cell_type": "markdown",
   "id": "7da5f9e7",
   "metadata": {},
   "source": [
    "- 我们之后考虑如下的简化模型：\n",
    "\\begin{equation}\n",
    "    \\begin{array}{rcll}\n",
    "         & \\sup & \\displaystyle \\delta \\\\\n",
    "         & {\\rm s.t.} \n",
    "         & \\sum\\limits_{n \\in [N]}-\\psi_n^3 L_n + \\psi_{n}^{2}  - \\phi_n^3 \\exp\\left(\\frac{\\phi_n^2}{\\phi_n^3}-1\\right) \\leq -\\delta, \\\\\n",
    "         && - \\phi_{n}^{3} M_n  - \\psi_n^3 \\exp\\left(\\frac{\\psi_n^2}{\\psi_n^3}-1\\right) + \\phi_{n}^{2} \\le p_{n} - \\delta,& \\forall n \\in [N] \\\\\n",
    "    \\end{array}\n",
    "\\end{equation}\n",
    "<font color=\"red\">\n",
    "- 该模型考虑了如下两个的Exponential cone：\n",
    "$\\rho_n \\geq \\rho_0 \\exp(a_u^\\top u + b_u^\\top p)$ 和 $\\rho_n \\leq \\rho_0 \\exp(a_u^\\top u + b_u^\\top p)$\n",
    "- 结果是采用ETO的价格，RO模型得到的目标函数值等于ETO模型的目标函数值\n",
    "</font>"
   ]
  },
  {
   "cell_type": "code",
   "execution_count": null,
   "id": "cf01611c",
   "metadata": {},
   "outputs": [],
   "source": [
    "model = Model(Mosek.Optimizer)\n",
    "# set_attribute(model, \"mioTolRelGap\", 0.00000001)\n",
    "set_attribute(model, \"MSK_DPAR_MIO_TOL_REL_GAP\", 1e-7)\n",
    "set_attribute(model, \"MSK_DPAR_MIO_TOL_ABS_GAP\", 1e-7)\n",
    "# 定义变量\n",
    "@variable(model, delta)                           # 标量 δ\n",
    "# exponential variables\n",
    "@variable(model, psi_1[1:N])                   \n",
    "@variable(model, psi_2[1:N])                   \n",
    "@variable(model, psi_3[1:N])        \n",
    "\n",
    "@variable(model, phi_1[1:N])                   \n",
    "@variable(model, phi_2[1:N])                   \n",
    "@variable(model, phi_3[1:N]) \n",
    "\n",
    "@constraint(model, -L_arr' * psi_3 + sum(psi_2) + sum(phi_1) <= -delta)\n",
    "\n",
    "for n in 1:N\n",
    "    @constraint(model, [phi_3[n], phi_2[n], phi_1[n]] in MOI.DualExponentialCone())\n",
    "end\n",
    "\n",
    "for n in 1:N\n",
    "    @constraint(model, phi_2[n] - phi_3[n] * M_arr[n] + psi_1[n] <= price[n] - delta)\n",
    "end\n",
    "\n",
    "for n in 1:N\n",
    "    @constraint(model, [psi_3[n], psi_2[n], psi_1[n]] in MOI.DualExponentialCone())\n",
    "end\n",
    "\n",
    "@objective(model, Max, delta)\n",
    "\n",
    "optimize!(model)\n",
    "obj_val = objective_value(model);"
   ]
  },
  {
   "cell_type": "code",
   "execution_count": null,
   "id": "528a6d10",
   "metadata": {},
   "outputs": [],
   "source": [
    "println(\"Objective value when X_RO = X_ETO:\",obj_val)"
   ]
  },
  {
   "cell_type": "markdown",
   "id": "2656ed52",
   "metadata": {},
   "source": [
    "- 我们再尝试求解存在两个指数cone的的对偶模型\n",
    "$$\n",
    "\\begin{array}{clll}\n",
    "     \\min & \\sum\\limits_{n \\in [N]} p_n \\rho_n \\\\\n",
    "     \\mathrm{s.t.} & \\rho_0 + \\sum\\limits_{n \\in [N]} \\rho_n = 1 \\\\\n",
    "     & (\\rho_n, \\rho_0, - \\rho_0 L_n) \\in \\mathcal{K}_{\\exp} & \\forall n \\in [N] \\\\\n",
    "      & (\\rho_0, \\rho_n, - \\rho_n M_n ) \\in \\mathcal{K}_{\\exp} & \\forall n \\in [N] \\\\\n",
    "\\end{array}\n",
    "$$\n",
    "<font color=\"red\">\n",
    "- 两个指数cone的的对偶模型，采用ETO的价格，得到的目标函数值等于ETO模型的目标函数值\n",
    "</font>"
   ]
  },
  {
   "cell_type": "code",
   "execution_count": null,
   "id": "8b72935d",
   "metadata": {},
   "outputs": [],
   "source": [
    "model = Model(Mosek.Optimizer)\n",
    "# set_attribute(model, \"mioTolRelGap\", 0.00000001)\n",
    "set_attribute(model, \"MSK_DPAR_MIO_TOL_REL_GAP\", 1e-7)\n",
    "set_attribute(model, \"MSK_DPAR_MIO_TOL_ABS_GAP\", 1e-7)\n",
    "# 定义变量\n",
    "# exponential variables\n",
    "@variable(model, rho_0)                   \n",
    "@variable(model, rho[1:N])                   \n",
    "\n",
    "@constraint(model, rho_0 >= 0)\n",
    "@constraint(model, rho >= 0)\n",
    "@constraint(model, rho_0 + sum(rho) == 1.0)\n",
    "for n in 1:N\n",
    "    @constraint(model, [-rho_0*L_arr[n], rho_0,rho[n]] in MOI.ExponentialCone())\n",
    "end\n",
    "for n in 1:N\n",
    "    @constraint(model, [-rho[n]*M_arr[n],rho[n],rho_0] in MOI.ExponentialCone())\n",
    "end\n",
    "@objective(model, Min, price' * rho)\n",
    "optimize!(model)\n",
    "obj_val = objective_value(model)"
   ]
  },
  {
   "cell_type": "code",
   "execution_count": null,
   "id": "f5f3bc6b",
   "metadata": {},
   "outputs": [],
   "source": [
    "println(\"Objective value when X_RO = X_ETO:\",obj_val)"
   ]
  },
  {
   "cell_type": "markdown",
   "id": "17ffc3d1",
   "metadata": {},
   "source": [
    "### 我们尝试用双边指数锥"
   ]
  },
  {
   "cell_type": "code",
   "execution_count": null,
   "id": "ea833945",
   "metadata": {},
   "outputs": [],
   "source": [
    "P_dag"
   ]
  },
  {
   "cell_type": "code",
   "execution_count": null,
   "id": "07f6b870",
   "metadata": {},
   "outputs": [],
   "source": [
    "p_ub = vec(maximum(P_dag,dims=2))\n",
    "p_lb = vec(minimum(P_dag,dims=2))"
   ]
  },
  {
   "cell_type": "code",
   "execution_count": null,
   "id": "d8d49c31",
   "metadata": {},
   "outputs": [],
   "source": [
    "# phi_lb = p_lb .- p_ub"
   ]
  },
  {
   "cell_type": "code",
   "execution_count": null,
   "id": "88f60b9e",
   "metadata": {},
   "outputs": [],
   "source": [
    "phi_lb"
   ]
  },
  {
   "cell_type": "code",
   "execution_count": null,
   "id": "f712b779",
   "metadata": {},
   "outputs": [],
   "source": [
    "u = Obs_Feat\n",
    "p_dag = P_dag\n",
    "\n",
    "model = Model(Mosek.Optimizer)\n",
    "# set_attribute(model, \"QUIET\", true)\n",
    "# 定义变量\n",
    "@variable(model, delta)                           # 标量 δ\n",
    "@variable(model, omega_lb[1:N,1:N_u] >= 0)            \n",
    "@variable(model, omega_ub[1:N,1:N_u] >= 0)           \n",
    "@variable(model, pi_lb[1:N,1:N] >= 0)     \n",
    "@variable(model, pi_ub[1:N,1:N] >= 0)     \n",
    "@variable(model, eta_lb[1:N,1:N_u] >= 0)            \n",
    "@variable(model, eta_ub[1:N,1:N_u] >= 0)           \n",
    "@variable(model, ups_lb[1:N,1:N] >= 0)     \n",
    "@variable(model, ups_ub[1:N,1:N] >= 0) \n",
    "# exponential variables\n",
    "@variable(model, psi_1[1:N])                   \n",
    "@variable(model, psi_2[1:N])                   \n",
    "@variable(model, psi_3[1:N])        \n",
    "@variable(model, phi_1[1:N])                   \n",
    "@variable(model, phi_2[1:N])                   \n",
    "@variable(model, phi_3[1:N])         \n",
    "\n",
    "@variable(model, X[1:N, 1:K], Bin)        # 二进制变量 x_{jk}\n",
    "@variable(model, Y[1:N,1:N,1:K])    \n",
    "@variable(model, Z[1:N,1:N,1:K])    \n",
    "\n",
    "for n in 1:N\n",
    "    @constraint(model, omega_lb[n,:] .- omega_ub[n,:] .+ psi_3[n] .* u .== 0)\n",
    "end\n",
    "\n",
    "for n in 1:N\n",
    "    @constraint(model, pi_lb[n,:] .- pi_ub[n,:] .+ sum(Y[n,:,:] .* p_dag,dims=2) .== 0)\n",
    "end\n",
    "\n",
    "for n in 1:N\n",
    "    @constraint(model, eta_lb[n,:] .- eta_ub[n,:] .- phi_3[n] .* u .== 0)\n",
    "end\n",
    "\n",
    "for n in 1:N\n",
    "    @constraint(model, ups_lb[n,:] .- ups_ub[n,:] .- sum(Z[n,:,:] .* p_dag,dims=2) .== 0)\n",
    "end\n",
    "\n",
    "@constraint(model, sum(omega_ub .* A_ub) - sum(omega_lb .* A_lb) + sum(pi_ub .* B_ub) - sum(pi_lb .* B_lb) + delta + sum(psi_2) + sum(phi_1) <= 0)\n",
    "\n",
    "for n in 1:N\n",
    "    @constraint(model, eta_ub[n,:]' * A_ub[n,:] - eta_lb[n,:]' * A_lb[n,:] + ups_ub[n,:]' * B_ub[n,:] - ups_lb[n,:]' * B_lb[n,:] + delta + psi_1[n] + phi_2[n] - X[n,:]' * p_dag[n,:] <= 0)\n",
    "end\n",
    "\n",
    "for n in 1:N\n",
    "    @constraint(model, [psi_3[n], psi_2[n], psi_1[n]] in MOI.DualExponentialCone())\n",
    "end\n",
    "\n",
    "for n in 1:N\n",
    "    @constraint(model, [phi_3[n],phi_2[n],phi_1[n]] in MOI.DualExponentialCone())\n",
    "end\n",
    "\n",
    "for n in 1:N\n",
    "    for j in 1:N\n",
    "        for k in 1:K\n",
    "            @constraint(model, Y[n,j,k] >= psi_lb[n] * X[j,k])\n",
    "            @constraint(model, Y[n,j,k] <= psi_ub[n] * X[j,k])\n",
    "            # @constraint(model, Y[n,j,k] >= psi_3[n] - psi_ub * (1 - X[j,k]))\n",
    "            # @constraint(model, Y[n,j,k] <= psi_3[n] - psi_lb * (1 - X[j,k]))\n",
    "        end\n",
    "    end\n",
    "end\n",
    "\n",
    "for n in 1:N\n",
    "    for j in 1:N\n",
    "        for k in 1:K\n",
    "            @constraint(model, Z[n,j,k] >= phi_lb[n] * X[j,k])\n",
    "            @constraint(model, Z[n,j,k] <= phi_ub[n] * X[j,k])\n",
    "            # @constraint(model, Z[n,j,k] >= phi_3[n] - phi_ub * (1 - X[j,k]))\n",
    "            # @constraint(model, Z[n,j,k] <= phi_3[n] - phi_lb * (1 - X[j,k]))\n",
    "        end\n",
    "    end\n",
    "end\n",
    "\n",
    "@constraint(model, sum(X,dims=2) .== 1)\n",
    "\n",
    "# @constraint(model, X .- X_ETO .== 0)  # 固定X的值\n",
    "for n in 1:N\n",
    "    for j in 1:N\n",
    "        @constraint(model, sum(Y[n,j,:]) == psi_3[n])\n",
    "        @constraint(model, sum(Z[n,j,:]) == phi_3[n])\n",
    "    end\n",
    "end\n",
    "\n",
    "@objective(model, Max, delta)\n",
    "\n",
    "optimize!(model)\n",
    "status = JuMP.termination_status(model)\n",
    "# println(\"status: \", status)\n",
    "# solution_summary(model)\n",
    "if status == MOI.OPTIMAL\n",
    "    obj_val = objective_value(model)\n",
    "    X_val = round.(value.(X))\n",
    "    solve_time = JuMP.solve_time(model)\n",
    "else\n",
    "    obj_val = NaN\n",
    "    X_val = ones(N,N) .* NaN\n",
    "    solve_time = NaN\n",
    "end"
   ]
  },
  {
   "cell_type": "code",
   "execution_count": null,
   "id": "c5d65a50",
   "metadata": {},
   "outputs": [],
   "source": [
    "println(\"Objective value:\",obj_val)"
   ]
  },
  {
   "cell_type": "code",
   "execution_count": null,
   "id": "37ecb2be",
   "metadata": {},
   "outputs": [],
   "source": [
    "X_RO2 = X_val\n",
    "price_RO2 = sum(X_RO2 .* P_dag,dims=2)"
   ]
  },
  {
   "cell_type": "code",
   "execution_count": null,
   "id": "72d8a9cb",
   "metadata": {},
   "outputs": [],
   "source": [
    "price_ETO"
   ]
  },
  {
   "cell_type": "code",
   "execution_count": null,
   "id": "760c91a0",
   "metadata": {},
   "outputs": [],
   "source": [
    "price_given"
   ]
  },
  {
   "cell_type": "code",
   "execution_count": null,
   "id": "5abfba6d",
   "metadata": {},
   "outputs": [],
   "source": [
    "u = Obs_Feat\n",
    "p_dag = P_dag\n",
    "price_given = vec(price_ETO)\n",
    "model = Model(Mosek.Optimizer)\n",
    "# set_attribute(model, \"QUIET\", true)\n",
    "# 定义变量\n",
    "@variable(model, delta)                           # 标量 δ\n",
    "@variable(model, omega_lb[1:N,1:N_u] >= 0)            \n",
    "@variable(model, omega_ub[1:N,1:N_u] >= 0)           \n",
    "@variable(model, pi_lb[1:N,1:N] >= 0)     \n",
    "@variable(model, pi_ub[1:N,1:N] >= 0)     \n",
    "@variable(model, eta_lb[1:N,1:N_u] >= 0)            \n",
    "@variable(model, eta_ub[1:N,1:N_u] >= 0)           \n",
    "@variable(model, ups_lb[1:N,1:N] >= 0)     \n",
    "@variable(model, ups_ub[1:N,1:N] >= 0) \n",
    "# exponential variables\n",
    "@variable(model, psi_1[1:N])                   \n",
    "@variable(model, psi_2[1:N])                   \n",
    "@variable(model, psi_3[1:N])        \n",
    "@variable(model, phi_1[1:N])                   \n",
    "@variable(model, phi_2[1:N])                   \n",
    "@variable(model, phi_3[1:N])         \n",
    "\n",
    "for n in 1:N\n",
    "    @constraint(model, omega_lb[n,:] .- omega_ub[n,:] .+ psi_3[n] .* u .== 0)\n",
    "end\n",
    "\n",
    "for n in 1:N\n",
    "    @constraint(model, pi_lb[n,:] .- pi_ub[n,:] .+ psi_3[n] .* price_given .== 0)\n",
    "end\n",
    "\n",
    "for n in 1:N\n",
    "    @constraint(model, eta_lb[n,:] .- eta_ub[n,:] .- phi_3[n] .* u .== 0)\n",
    "end\n",
    "\n",
    "for n in 1:N\n",
    "    @constraint(model, ups_lb[n,:] .- ups_ub[n,:] .- phi_3[n] .* price_given .== 0)\n",
    "end\n",
    "\n",
    "@constraint(model, sum(omega_ub .* A_ub) - sum(omega_lb .* A_lb) + sum(pi_ub .* B_ub) - sum(pi_lb .* B_lb) + delta + sum(psi_2) + sum(phi_1) <= 0)\n",
    "\n",
    "for n in 1:N\n",
    "    @constraint(model, eta_ub[n,:]' * A_ub[n,:] - eta_lb[n,:]' * A_lb[n,:] + ups_ub[n,:]' * B_ub[n,:] - ups_lb[n,:]' * B_lb[n,:] + delta + psi_1[n] + phi_2[n] - price_given[n] <= 0)\n",
    "end\n",
    "\n",
    "for n in 1:N\n",
    "    @constraint(model, [psi_3[n], psi_2[n], psi_1[n]] in MOI.DualExponentialCone())\n",
    "end\n",
    "\n",
    "for n in 1:N\n",
    "    @constraint(model, [phi_3[n],phi_2[n],phi_1[n]] in MOI.DualExponentialCone())\n",
    "end\n",
    "\n",
    "@objective(model, Max, delta)\n",
    "\n",
    "optimize!(model)\n",
    "status = JuMP.termination_status(model)\n",
    "# println(\"status: \", status)\n",
    "# solution_summary(model)\n",
    "if status == MOI.OPTIMAL\n",
    "    obj_val = objective_value(model)\n",
    "    X_val = round.(value.(X))\n",
    "    solve_time = JuMP.solve_time(model)\n",
    "else\n",
    "    obj_val = NaN\n",
    "    X_val = ones(N,N) .* NaN\n",
    "    solve_time = NaN\n",
    "end"
   ]
  },
  {
   "cell_type": "code",
   "execution_count": null,
   "id": "111d3f9b",
   "metadata": {},
   "outputs": [],
   "source": [
    "obj_val"
   ]
  }
 ],
 "metadata": {
  "kernelspec": {
   "display_name": "Julia 1.10.3",
   "language": "julia",
   "name": "julia-1.10"
  },
  "language_info": {
   "file_extension": ".jl",
   "mimetype": "application/julia",
   "name": "julia",
   "version": "1.10.3"
  }
 },
 "nbformat": 4,
 "nbformat_minor": 5
}
