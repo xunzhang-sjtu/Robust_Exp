{
 "cells": [
  {
   "cell_type": "code",
   "execution_count": 1,
   "id": "ea7846fb",
   "metadata": {},
   "outputs": [],
   "source": [
    "using LinearAlgebra\n",
    "using Distributions\n",
    "using Optim\n",
    "using Random\n",
    "using StatsFuns\n",
    "using JuMP\n",
    "using MosekTools"
   ]
  },
  {
   "cell_type": "markdown",
   "id": "a9f432d1",
   "metadata": {},
   "source": [
    "### Parameters"
   ]
  },
  {
   "cell_type": "code",
   "execution_count": 2,
   "id": "51af1382",
   "metadata": {},
   "outputs": [
    {
     "data": {
      "text/plain": [
       "3×10 Matrix{Float64}:\n",
       " 0.0802658  0.654101   0.271636  0.88463   …  0.862761  0.387374  0.875555\n",
       " 0.0490284  0.256433   0.688575  0.810734     0.158312  0.771916  0.264568\n",
       " 0.915866   0.0862789  0.789013  0.257922     0.5403    0.377383  0.901877"
      ]
     },
     "metadata": {},
     "output_type": "display_data"
    }
   ],
   "source": [
    "Random.seed!(123)\n",
    "# 设置参数\n",
    "N = 3   # 产品数\n",
    "K = 10   # 每个产品的选择项数量\n",
    "tau = 10 # 给定常数\n",
    "N_u = 2\n",
    "\n",
    "# 预设数据（根据你的实际问题替换这些值）\n",
    "u = rand(N_u)        # u 向量 ∈ ℝ^N\n",
    "A = rand(N,N_u)      # a_n ∈ ℝ^N\n",
    "# B = rand(N,N)        # b_n ∈ ℝ^N\n",
    "p_dag = rand(N, K)   # p_{nk}^† 数据矩阵"
   ]
  },
  {
   "cell_type": "code",
   "execution_count": 3,
   "id": "365e9e50",
   "metadata": {},
   "outputs": [
    {
     "data": {
      "text/plain": [
       "generate_strictly_row_diagonally_dominant (generic function with 1 method)"
      ]
     },
     "metadata": {},
     "output_type": "display_data"
    }
   ],
   "source": [
    "function generate_strictly_row_diagonally_dominant(n::Int, max_offdiag)\n",
    "    Mat = zeros(n, n)\n",
    "    for i in 1:n\n",
    "        # 在非对角线上生成随机数 [-max_offdiag, max_offdiag]\n",
    "        off_diag = rand(n) .* (2max_offdiag) .- max_offdiag\n",
    "        off_diag[i] = 0  # 避免给自己赋值两次\n",
    "\n",
    "        # 计算非对角元素绝对值之和\n",
    "        sum_offdiag = sum(abs, off_diag)\n",
    "\n",
    "        # 设置对角元，使其严格大于其他元素之和\n",
    "        diag_value = sum_offdiag + rand() * max_offdiag + 1e-3  # 加小量保证严格性\n",
    "\n",
    "        Mat[i, :] = abs.(off_diag)\n",
    "        Mat[i, i] = -abs.(diag_value)\n",
    "    end\n",
    "    return Mat\n",
    "end"
   ]
  },
  {
   "cell_type": "code",
   "execution_count": 4,
   "id": "90c21949",
   "metadata": {},
   "outputs": [
    {
     "data": {
      "text/plain": [
       "3×3 Matrix{Float64}:\n",
       " -1.84667    0.464476   0.793606\n",
       "  0.618866  -1.71233    0.717049\n",
       "  0.353414   0.841769  -1.89217"
      ]
     },
     "metadata": {},
     "output_type": "display_data"
    }
   ],
   "source": [
    "B = generate_strictly_row_diagonally_dominant(N, 1.0)"
   ]
  },
  {
   "cell_type": "code",
   "execution_count": 5,
   "id": "2ea393f8",
   "metadata": {},
   "outputs": [
    {
     "data": {
      "text/plain": [
       "compute_oof (generic function with 1 method)"
      ]
     },
     "metadata": {},
     "output_type": "display_data"
    }
   ],
   "source": [
    "function compute_oof(X_given, A, B, u, p_dag)\n",
    "    price = sum(X_given .* p_dag,dims=2)\n",
    "    utilities = ones(N+1)\n",
    "    utilities[1:N] = exp.(vec(A * u + B * price))\n",
    "\n",
    "    prob = ones(N)\n",
    "    rev = ones(N)\n",
    "    for i in 1:N\n",
    "        prob[i] = utilities[i] / sum(utilities)\n",
    "        rev[i] = prob[i] * price[i]\n",
    "    end\n",
    "    # println(\"prob = \", prob)\n",
    "    # println(\"rev = \", rev)\n",
    "    # println(\"total rev = \", sum(rev))\n",
    "    return sum(rev)\n",
    "end"
   ]
  },
  {
   "cell_type": "code",
   "execution_count": 6,
   "id": "790f6891",
   "metadata": {},
   "outputs": [
    {
     "name": "stdout",
     "output_type": "stream",
     "text": [
      "Optimal revenue = 0.6883497210244508\n",
      "Optimal price = [0.884629777785838, 0.9111498653643074, 0.9158663552785268]\n",
      "Minimum revenue = 0.06325396744728443\n",
      "Minimum price = [0.08026576094597515, 0.04902841674350844, 0.08627888341903334]\n"
     ]
    }
   ],
   "source": [
    "rev_opt = 0\n",
    "price_opt = zeros(N)\n",
    "\n",
    "rev_min = 1000\n",
    "price_min = zeros(N)\n",
    "for i in 1:K\n",
    "    p1 = p_dag[1,i]\n",
    "    for j in 1:K\n",
    "        p2 = p_dag[2,j]\n",
    "        for l in 1:K\n",
    "            p3 = p_dag[3,l]\n",
    "            price = [p1,p2,p3]\n",
    "            utilities = ones(N+1)\n",
    "            utilities[1:N] = exp.(vec(A * u + B * price))\n",
    "        \n",
    "            prob = zeros(N)\n",
    "            rev = zeros(N)\n",
    "            for i in 1:N\n",
    "                prob[i] = utilities[i] / sum(utilities)\n",
    "                rev[i] = prob[i] * price[i]\n",
    "            end\n",
    "            if sum(rev) > rev_opt\n",
    "                rev_opt = sum(rev)\n",
    "                price_opt = price\n",
    "            end\n",
    "\n",
    "            if sum(rev) < rev_min\n",
    "                rev_min = sum(rev)\n",
    "                price_min = price\n",
    "            end\n",
    "        end\n",
    "    end\n",
    "end\n",
    "println(\"Optimal revenue = \", rev_opt)\n",
    "println(\"Optimal price = \", price_opt)\n",
    "\n",
    "println(\"Minimum revenue = \", rev_min) \n",
    "println(\"Minimum price = \", price_min)"
   ]
  },
  {
   "cell_type": "markdown",
   "id": "f87601bf",
   "metadata": {},
   "source": [
    "### Estimate-then-price"
   ]
  },
  {
   "cell_type": "code",
   "execution_count": 28,
   "id": "4103540a",
   "metadata": {},
   "outputs": [
    {
     "data": {
      "text/plain": [
       "0"
      ]
     },
     "metadata": {},
     "output_type": "display_data"
    }
   ],
   "source": [
    "tau = 0"
   ]
  },
  {
   "cell_type": "code",
   "execution_count": 29,
   "id": "5b0edcac",
   "metadata": {},
   "outputs": [
    {
     "data": {
      "text/plain": [
       "3×3×10 Array{VariableRef, 3}:\n",
       "[:, :, 1] =\n",
       " Z2[1,1,1]  Z2[1,2,1]  Z2[1,3,1]\n",
       " Z2[2,1,1]  Z2[2,2,1]  Z2[2,3,1]\n",
       " Z2[3,1,1]  Z2[3,2,1]  Z2[3,3,1]\n",
       "\n",
       "[:, :, 2] =\n",
       " Z2[1,1,2]  Z2[1,2,2]  Z2[1,3,2]\n",
       " Z2[2,1,2]  Z2[2,2,2]  Z2[2,3,2]\n",
       " Z2[3,1,2]  Z2[3,2,2]  Z2[3,3,2]\n",
       "\n",
       "[:, :, 3] =\n",
       " Z2[1,1,3]  Z2[1,2,3]  Z2[1,3,3]\n",
       " Z2[2,1,3]  Z2[2,2,3]  Z2[2,3,3]\n",
       " Z2[3,1,3]  Z2[3,2,3]  Z2[3,3,3]\n",
       "\n",
       "[:, :, 4] =\n",
       " Z2[1,1,4]  Z2[1,2,4]  Z2[1,3,4]\n",
       " Z2[2,1,4]  Z2[2,2,4]  Z2[2,3,4]\n",
       " Z2[3,1,4]  Z2[3,2,4]  Z2[3,3,4]\n",
       "\n",
       "[:, :, 5] =\n",
       " Z2[1,1,5]  Z2[1,2,5]  Z2[1,3,5]\n",
       " Z2[2,1,5]  Z2[2,2,5]  Z2[2,3,5]\n",
       " Z2[3,1,5]  Z2[3,2,5]  Z2[3,3,5]\n",
       "\n",
       "[:, :, 6] =\n",
       " Z2[1,1,6]  Z2[1,2,6]  Z2[1,3,6]\n",
       " Z2[2,1,6]  Z2[2,2,6]  Z2[2,3,6]\n",
       " Z2[3,1,6]  Z2[3,2,6]  Z2[3,3,6]\n",
       "\n",
       "[:, :, 7] =\n",
       " Z2[1,1,7]  Z2[1,2,7]  Z2[1,3,7]\n",
       " Z2[2,1,7]  Z2[2,2,7]  Z2[2,3,7]\n",
       " Z2[3,1,7]  Z2[3,2,7]  Z2[3,3,7]\n",
       "\n",
       "[:, :, 8] =\n",
       " Z2[1,1,8]  Z2[1,2,8]  Z2[1,3,8]\n",
       " Z2[2,1,8]  Z2[2,2,8]  Z2[2,3,8]\n",
       " Z2[3,1,8]  Z2[3,2,8]  Z2[3,3,8]\n",
       "\n",
       "[:, :, 9] =\n",
       " Z2[1,1,9]  Z2[1,2,9]  Z2[1,3,9]\n",
       " Z2[2,1,9]  Z2[2,2,9]  Z2[2,3,9]\n",
       " Z2[3,1,9]  Z2[3,2,9]  Z2[3,3,9]\n",
       "\n",
       "[:, :, 10] =\n",
       " Z2[1,1,10]  Z2[1,2,10]  Z2[1,3,10]\n",
       " Z2[2,1,10]  Z2[2,2,10]  Z2[2,3,10]\n",
       " Z2[3,1,10]  Z2[3,2,10]  Z2[3,3,10]"
      ]
     },
     "metadata": {},
     "output_type": "display_data"
    }
   ],
   "source": [
    "model = Model(Mosek.Optimizer)\n",
    "# set_attribute(model, \"QUIET\", true)\n",
    "# model = Model(COPT.ConeOptimizer)\n",
    "# 定义变量\n",
    "@variable(model, rho_0 >= 0)                       # ρ₀ ≥ 0\n",
    "@variable(model, rho[1:N] >= 0)                    # ρ_n ≥ 0\n",
    "@variable(model, v_sigma[1:N_u])                   # ς = ρ₀ * u\n",
    "@variable(model, v_phi[1:N])                       # φ_n\n",
    "\n",
    "@variable(model, v_theta[1:N,1:N_u])                   # ς = ρ₀ * u\n",
    "@variable(model, v_pi[1:N,1:N])  \n",
    "\n",
    "@variable(model, Y[1:N, 1:K])                      # y_{nk}\n",
    "@variable(model, Z[1:N, 1:K])                      # z_{nk}\n",
    "@variable(model, X[1:N, 1:K], Bin)                 # x_{nk} ∈ {0,1}\n",
    "\n",
    "@variable(model, Z2[1:N,1:N,1:K])                      # z_{nk}\n"
   ]
  },
  {
   "cell_type": "code",
   "execution_count": 30,
   "id": "c7106086",
   "metadata": {},
   "outputs": [
    {
     "data": {
      "text/latex": [
       "$$ rho\\_0 + rho_{1} + rho_{2} + rho_{3} = 1 $$"
      ],
      "text/plain": [
       "rho_0 + rho[1] + rho[2] + rho[3] = 1"
      ]
     },
     "metadata": {},
     "output_type": "display_data"
    }
   ],
   "source": [
    "# 1. 总和约束\n",
    "@constraint(model, rho_0 + sum(rho) == 1)"
   ]
  },
  {
   "cell_type": "code",
   "execution_count": 31,
   "id": "c0ab1136",
   "metadata": {},
   "outputs": [],
   "source": [
    "for n in 1:N\n",
    "    @constraint(model, [A[n,:]' * v_sigma + B[n,:]' * v_phi,rho_0,rho[n]] in MOI.ExponentialCone())\n",
    "end"
   ]
  },
  {
   "cell_type": "code",
   "execution_count": 32,
   "id": "8ece4f85",
   "metadata": {},
   "outputs": [
    {
     "data": {
      "text/plain": [
       "2-element Vector{ConstraintRef{Model, MathOptInterface.ConstraintIndex{MathOptInterface.ScalarAffineFunction{Float64}, MathOptInterface.EqualTo{Float64}}, ScalarShape}}:\n",
       " -0.521213795535383 rho_0 + v_sigma[1] = 0\n",
       " -0.5868067574533484 rho_0 + v_sigma[2] = 0"
      ]
     },
     "metadata": {},
     "output_type": "display_data"
    }
   ],
   "source": [
    "# 2. ς = ρ₀ * u\n",
    "@constraint(model, v_sigma .== rho_0 .* u)"
   ]
  },
  {
   "cell_type": "code",
   "execution_count": 33,
   "id": "73272c4e",
   "metadata": {},
   "outputs": [
    {
     "data": {
      "text/plain": [
       "3×1 Matrix{ConstraintRef{Model, MathOptInterface.ConstraintIndex{MathOptInterface.ScalarAffineFunction{Float64}, MathOptInterface.EqualTo{Float64}}, ScalarShape}}:\n",
       " v_phi[1] - 0.08026576094597515 Z[1,1] - 0.6541013048231016 Z[1,2] - 0.27163601818691985 Z[1,3] - 0.884629777785838 Z[1,4] - 0.43851795532571036 Z[1,5] - 0.6943166776232444 Z[1,6] - 0.5320515448896448 Z[1,7] - 0.8627612916760001 Z[1,8] - 0.38737406225356574 Z[1,9] - 0.8755549995596186 Z[1,10] = 0\n",
       " v_phi[2] - 0.04902841674350844 Z[2,1] - 0.25643321529948804 Z[2,2] - 0.6885748828439957 Z[2,3] - 0.8107339122926914 Z[2,4] - 0.3738130998598468 Z[2,5] - 0.17965931850740957 Z[2,6] - 0.9111498653643074 Z[2,7] - 0.15831162891445483 Z[2,8] - 0.7719163558447772 Z[2,9] - 0.26456814036193066 Z[2,10] = 0\n",
       " v_phi[3] - 0.9158663552785268 Z[3,1] - 0.08627888341903334 Z[3,2] - 0.7890131811814325 Z[3,3] - 0.2579219565123101 Z[3,4] - 0.4506313683009061 Z[3,5] - 0.6494206927359497 Z[3,6] - 0.800398894410319 Z[3,7] - 0.5403003932326621 Z[3,8] - 0.37738325943275364 Z[3,9] - 0.9018773245304149 Z[3,10] = 0"
      ]
     },
     "metadata": {},
     "output_type": "display_data"
    }
   ],
   "source": [
    "# 3. φ_n = ∑_k z_{nk} * p_{nk}^†\n",
    "@constraint(model, v_phi .== sum(Z .* p_dag, dims=2))"
   ]
  },
  {
   "cell_type": "code",
   "execution_count": 34,
   "id": "a9f3f7c6",
   "metadata": {},
   "outputs": [],
   "source": [
    "# 4. 辅助变量上下界\n",
    "for n in 1:N\n",
    "    for k in 1:K\n",
    "        # y_{nk} bounds\n",
    "        @constraint(model, 0 <= Y[n, k])\n",
    "        @constraint(model, Y[n, k] <= X[n, k])\n",
    "        @constraint(model, Y[n, k] >= rho[n] - (1 - X[n, k]))\n",
    "        @constraint(model, Y[n, k] <= rho[n])\n",
    "    end\n",
    "end"
   ]
  },
  {
   "cell_type": "code",
   "execution_count": 35,
   "id": "8d5dca24",
   "metadata": {},
   "outputs": [],
   "source": [
    "# 4. 辅助变量上下界\n",
    "for n in 1:N\n",
    "    for k in 1:K\n",
    "        # z_{nk} bounds\n",
    "        @constraint(model, 0 <= Z[n, k])\n",
    "        @constraint(model, Z[n, k] <= X[n, k])\n",
    "        @constraint(model, Z[n, k] >= rho_0 - (1 - X[n, k]))\n",
    "        @constraint(model, Z[n, k] <= rho_0)\n",
    "    end\n",
    "end"
   ]
  },
  {
   "cell_type": "code",
   "execution_count": 36,
   "id": "a161f680",
   "metadata": {},
   "outputs": [
    {
     "data": {
      "text/plain": [
       "3×1 Matrix{ConstraintRef{Model, MathOptInterface.ConstraintIndex{MathOptInterface.ScalarAffineFunction{Float64}, MathOptInterface.EqualTo{Float64}}, ScalarShape}}:\n",
       " X[1,1] + X[1,2] + X[1,3] + X[1,4] + X[1,5] + X[1,6] + X[1,7] + X[1,8] + X[1,9] + X[1,10] = 1\n",
       " X[2,1] + X[2,2] + X[2,3] + X[2,4] + X[2,5] + X[2,6] + X[2,7] + X[2,8] + X[2,9] + X[2,10] = 1\n",
       " X[3,1] + X[3,2] + X[3,3] + X[3,4] + X[3,5] + X[3,6] + X[3,7] + X[3,8] + X[3,9] + X[3,10] = 1"
      ]
     },
     "metadata": {},
     "output_type": "display_data"
    }
   ],
   "source": [
    "@constraint(model, sum(X,dims=2) .== 1)"
   ]
  },
  {
   "cell_type": "code",
   "execution_count": 37,
   "id": "62aadac6",
   "metadata": {},
   "outputs": [],
   "source": [
    "for n in 1:N\n",
    "    @constraint(model, [-A[n,:]' * v_theta[n,:] - B[n,:]' * v_pi[n,:], rho[n], rho_0] in MOI.ExponentialCone())\n",
    "end"
   ]
  },
  {
   "cell_type": "code",
   "execution_count": null,
   "id": "418804dc",
   "metadata": {},
   "outputs": [
    {
     "data": {
      "text/plain": [
       "2-element Vector{ConstraintRef{Model, MathOptInterface.ConstraintIndex{MathOptInterface.ScalarAffineFunction{Float64}, MathOptInterface.EqualTo{Float64}}, ScalarShape}}:\n",
       " v_sigma[1] + v_theta[1,1] + v_theta[2,1] + v_theta[3,1] = 0.521213795535383\n",
       " v_sigma[2] + v_theta[1,2] + v_theta[2,2] + v_theta[3,2] = 0.5868067574533484"
      ]
     },
     "metadata": {},
     "output_type": "display_data"
    }
   ],
   "source": [
    "# @constraint(model,sum(v_theta, dims=1)[1,:] .+ v_sigma .- u .== 0)"
   ]
  },
  {
   "cell_type": "code",
   "execution_count": 38,
   "id": "79d4aa33",
   "metadata": {},
   "outputs": [],
   "source": [
    "# 2. ς = ρ₀ * u\n",
    "for n in 1:N\n",
    "    @constraint(model, v_theta[n,:] .== rho[n] .* u)\n",
    "end"
   ]
  },
  {
   "cell_type": "code",
   "execution_count": 39,
   "id": "d86526f9",
   "metadata": {},
   "outputs": [],
   "source": [
    "# 3. φ_n = ∑_k z_{nk} * p_{nk}^†\n",
    "for n in 1:N\n",
    "    @constraint(model, v_pi[n,:] .== sum(Z2[n,:,:] .* p_dag, dims=2))\n",
    "end"
   ]
  },
  {
   "cell_type": "code",
   "execution_count": null,
   "id": "61c8a56b",
   "metadata": {},
   "outputs": [
    {
     "data": {
      "text/plain": [
       "3×1 Matrix{ConstraintRef{Model, MathOptInterface.ConstraintIndex{MathOptInterface.ScalarAffineFunction{Float64}, MathOptInterface.EqualTo{Float64}}, ScalarShape}}:\n",
       " v_phi[1] + v_pi[1,1] + v_pi[2,1] + v_pi[3,1] - 0.08026576094597515 X[1,1] - 0.6541013048231016 X[1,2] - 0.27163601818691985 X[1,3] - 0.884629777785838 X[1,4] - 0.43851795532571036 X[1,5] - 0.6943166776232444 X[1,6] - 0.5320515448896448 X[1,7] - 0.8627612916760001 X[1,8] - 0.38737406225356574 X[1,9] - 0.8755549995596186 X[1,10] = 0\n",
       " v_phi[2] + v_pi[1,2] + v_pi[2,2] + v_pi[3,2] - 0.04902841674350844 X[2,1] - 0.25643321529948804 X[2,2] - 0.6885748828439957 X[2,3] - 0.8107339122926914 X[2,4] - 0.3738130998598468 X[2,5] - 0.17965931850740957 X[2,6] - 0.9111498653643074 X[2,7] - 0.15831162891445483 X[2,8] - 0.7719163558447772 X[2,9] - 0.26456814036193066 X[2,10] = 0\n",
       " v_phi[3] + v_pi[1,3] + v_pi[2,3] + v_pi[3,3] - 0.9158663552785268 X[3,1] - 0.08627888341903334 X[3,2] - 0.7890131811814325 X[3,3] - 0.2579219565123101 X[3,4] - 0.4506313683009061 X[3,5] - 0.6494206927359497 X[3,6] - 0.800398894410319 X[3,7] - 0.5403003932326621 X[3,8] - 0.37738325943275364 X[3,9] - 0.9018773245304149 X[3,10] = 0"
      ]
     },
     "metadata": {},
     "output_type": "display_data"
    }
   ],
   "source": [
    "# @constraint(model,sum(v_pi, dims=1)[1,:] .+ v_phi .- sum(X .* p_dag, dims=2) .== 0)"
   ]
  },
  {
   "cell_type": "code",
   "execution_count": 40,
   "id": "44fd8a36",
   "metadata": {},
   "outputs": [],
   "source": [
    "# 4. 辅助变量上下界\n",
    "for n in 1:N\n",
    "    for j in 1:N\n",
    "        for k in 1:K\n",
    "            # z_{nk} bounds\n",
    "            @constraint(model, 0 <= Z2[n,j, k])\n",
    "            @constraint(model, Z2[n,j,k] <= X[j, k])\n",
    "            @constraint(model, Z2[n,j,k] >= rho[n] - (1 - X[j, k]))\n",
    "            @constraint(model, Z2[n,j, k] <= rho[n])\n",
    "        end\n",
    "    end\n",
    "end"
   ]
  },
  {
   "cell_type": "code",
   "execution_count": 41,
   "id": "8407bf9b",
   "metadata": {},
   "outputs": [
    {
     "data": {
      "text/latex": [
       "$ 0.08026576094597515 Y_{1,1} + 0.04902841674350844 Y_{2,1} + 0.9158663552785268 Y_{3,1} + 0.6541013048231016 Y_{1,2} + 0.25643321529948804 Y_{2,2} + 0.08627888341903334 Y_{3,2} + 0.27163601818691985 Y_{1,3} + 0.6885748828439957 Y_{2,3} + 0.7890131811814325 Y_{3,3} + 0.884629777785838 Y_{1,4} + 0.8107339122926914 Y_{2,4} + 0.2579219565123101 Y_{3,4} + 0.43851795532571036 Y_{1,5} + 0.3738130998598468 Y_{2,5} + 0.4506313683009061 Y_{3,5} + 0.6943166776232444 Y_{1,6} + 0.17965931850740957 Y_{2,6} + 0.6494206927359497 Y_{3,6} + 0.5320515448896448 Y_{1,7} + 0.9111498653643074 Y_{2,7} + 0.800398894410319 Y_{3,7} + 0.8627612916760001 Y_{1,8} + 0.15831162891445483 Y_{2,8} + 0.5403003932326621 Y_{3,8} + 0.38737406225356574 Y_{1,9} + 0.7719163558447772 Y_{2,9} + 0.37738325943275364 Y_{3,9} + 0.8755549995596186 Y_{1,10} + 0.26456814036193066 Y_{2,10} + 0.9018773245304149 Y_{3,10} $"
      ],
      "text/plain": [
       "0.08026576094597515 Y[1,1] + 0.04902841674350844 Y[2,1] + 0.9158663552785268 Y[3,1] + 0.6541013048231016 Y[1,2] + 0.25643321529948804 Y[2,2] + 0.08627888341903334 Y[3,2] + 0.27163601818691985 Y[1,3] + 0.6885748828439957 Y[2,3] + 0.7890131811814325 Y[3,3] + 0.884629777785838 Y[1,4] + 0.8107339122926914 Y[2,4] + 0.2579219565123101 Y[3,4] + 0.43851795532571036 Y[1,5] + 0.3738130998598468 Y[2,5] + 0.4506313683009061 Y[3,5] + 0.6943166776232444 Y[1,6] + 0.17965931850740957 Y[2,6] + 0.6494206927359497 Y[3,6] + 0.5320515448896448 Y[1,7] + 0.9111498653643074 Y[2,7] + 0.800398894410319 Y[3,7] + 0.8627612916760001 Y[1,8] + 0.15831162891445483 Y[2,8] + 0.5403003932326621 Y[3,8] + 0.38737406225356574 Y[1,9] + 0.7719163558447772 Y[2,9] + 0.37738325943275364 Y[3,9] + 0.8755549995596186 Y[1,10] + 0.26456814036193066 Y[2,10] + 0.9018773245304149 Y[3,10]"
      ]
     },
     "metadata": {},
     "output_type": "display_data"
    }
   ],
   "source": [
    "@objective(model, Max,sum(Y .* p_dag) - tau * sum(rho))"
   ]
  },
  {
   "cell_type": "code",
   "execution_count": 42,
   "id": "4b646bce",
   "metadata": {},
   "outputs": [
    {
     "name": "stdout",
     "output_type": "stream",
     "text": [
      "Problem\n",
      "  Name                   :                 \n",
      "  Objective sense        : maximize        \n",
      "  Type                   : CONIC (conic optimization problem)\n",
      "  Constraints            : 654             \n",
      "  Affine conic cons.     : 6 (18 rows)\n",
      "  Disjunctive cons.      : 0               \n",
      "  Cones                  : 0               \n",
      "  Scalar variables       : 204             \n",
      "  Matrix variables       : 0               \n",
      "  Integer variables      : 30              \n",
      "\n",
      "Optimizer started.\n",
      "Mixed integer optimizer started.\n",
      "Threads used: 8\n",
      "Presolve started.\n",
      "Presolve terminated. Time = 0.00, probing time =  0.00\n",
      "Presolved problem: 198 variables, 468 constraints, 1238 non-zeros\n",
      "Presolved problem: 0 general integer, 30 binary, 168 continuous\n",
      "Presolved problem: 6 cones\n",
      "Clique table size: 3\n",
      "BRANCHES RELAXS   ACT_NDS  DEPTH    BEST_INT_OBJ         BEST_RELAX_OBJ       REL_GAP(%)  TIME  \n",
      "0        1        1        0        NA                   2.5760574846e+00     NA          0.0   \n",
      "0        1        1        0        6.8834972239e-01     2.5760574846e+00     274.24      0.0   \n",
      "Cut generation started.\n",
      "0        1        1        0        6.8834972239e-01     2.5760574344e+00     274.24      0.1   \n",
      "0        2        1        0        6.8834972239e-01     2.5711652978e+00     273.53      0.3   \n",
      "0        3        1        0        6.8834972239e-01     2.5477583028e+00     270.13      0.4   \n",
      "0        4        1        0        6.8834972239e-01     2.5328194578e+00     267.96      0.5   \n",
      "Cut generation terminated. Time = 0.44\n",
      "5        12       4        3        6.8834972239e-01     2.5328194578e+00     267.96      0.6   \n",
      "20       27       13       3        6.8834972239e-01     2.2638560522e+00     228.88      0.6   \n",
      "31       38       18       5        6.8834972239e-01     2.2292400797e+00     223.85      0.6   \n",
      "43       50       22       6        6.8834972239e-01     2.1659514665e+00     214.66      0.6   \n",
      "59       66       30       3        6.8834972239e-01     2.1183890389e+00     207.75      0.6   \n",
      "83       90       38       5        6.8834972239e-01     2.1183890389e+00     207.75      0.6   \n",
      "115      122      40       7        6.8834972239e-01     2.1183890389e+00     207.75      0.6   \n",
      "155      162      42       9        6.8834972239e-01     2.1183890389e+00     207.75      0.6   \n",
      "195      202      42       8        6.8834972239e-01     1.9464040783e+00     182.76      0.6   \n",
      "235      242      54       11       6.8834972239e-01     1.8370983299e+00     166.88      0.7   \n",
      "283      290      54       9        6.8834972239e-01     1.8370983299e+00     166.88      0.7   \n",
      "331      338      64       6        6.8834972239e-01     1.7586213092e+00     155.48      0.7   \n",
      "395      402      82       10       6.8834972239e-01     1.5078519791e+00     119.05      0.7   \n",
      "475      482      78       13       6.8834972239e-01     1.4213368067e+00     106.48      0.7   \n",
      "547      554      62       17       6.8834972239e-01     1.4213368067e+00     106.48      0.7   \n",
      "603      610      46       16       6.8834972239e-01     1.2815944634e+00     86.18       0.7   \n",
      "643      650      34       13       6.8834972239e-01     1.1912087050e+00     73.05       0.7   \n",
      "675      682      18       10       6.8834972239e-01     1.1912087050e+00     73.05       0.8   \n",
      "689      696      8        11       6.8834972239e-01     1.1912087050e+00     73.05       0.8   \n",
      "702      709      3        18       6.8834972239e-01     1.0953408422e+00     59.13       0.8   \n",
      "An optimal solution satisfying the relative gap tolerance of 1.00e-02(%) has been located.\n",
      "The relative gap is 0.00e+00(%).\n",
      "An optimal solution satisfying the absolute gap tolerance of 0.00e+00 has been located.\n",
      "The absolute gap is 0.00e+00.\n",
      "\n",
      "Objective of best integer solution : 6.883497223882e-01      \n",
      "Best objective bound               : 6.883497223882e-01      \n",
      "Initial feasible solution objective: Undefined\n",
      "Construct solution objective       : Not employed\n",
      "User objective cut value           : Not employed\n",
      "Number of cuts generated           : 7\n",
      "  Number of CMIR cuts              : 7\n",
      "Number of branches                 : 711\n",
      "Number of relaxations solved       : 718\n",
      "Number of interior point iterations: 7263\n",
      "Number of simplex iterations       : 0\n",
      "Time spend presolving the root     : 0.00\n",
      "Time spend optimizing the root     : 0.03\n",
      "Mixed integer optimizer terminated. Time: 0.78\n",
      "\n",
      "Optimizer terminated. Time: 0.79    \n",
      "\n"
     ]
    },
    {
     "data": {
      "text/plain": [
       "3×10 Matrix{Float64}:\n",
       " 0.0  0.0  0.0  1.0  0.0  0.0  0.0  0.0   0.0  -0.0\n",
       " 0.0  0.0  0.0  0.0  0.0  0.0  1.0  0.0   0.0  -0.0\n",
       " 1.0  0.0  0.0  0.0  0.0  0.0  0.0  0.0  -0.0   0.0"
      ]
     },
     "metadata": {},
     "output_type": "display_data"
    }
   ],
   "source": [
    "optimize!(model)\n",
    "status = JuMP.termination_status(model)\n",
    "# solution_summary(model)\n",
    "if status == MOI.OPTIMAL\n",
    "    obj_val = objective_value(model)\n",
    "    X_val = value.(X)\n",
    "else\n",
    "    obj_val = NaN\n",
    "    X_val = ones(N,N) .* NaN\n",
    "end"
   ]
  },
  {
   "cell_type": "code",
   "execution_count": 43,
   "id": "6a7bb2ab",
   "metadata": {},
   "outputs": [
    {
     "name": "stdout",
     "output_type": "stream",
     "text": [
      "rev =0.6883497210244508\n",
      "price =[0.884629777785838, 0.9111498653643074, 0.9158663552785268]\n"
     ]
    }
   ],
   "source": [
    "price = sum(X_val .* p_dag,dims=2)[:,1]\n",
    "utilities = ones(N+1)\n",
    "utilities[1:N] = exp.(vec(A * u + B * price))\n",
    "\n",
    "prob = zeros(N)\n",
    "rev = zeros(N)\n",
    "for i in 1:N\n",
    "    prob[i] = utilities[i] / sum(utilities)\n",
    "    rev[i] = prob[i] * price[i]\n",
    "end\n",
    "println(\"rev =\",sum(rev))\n",
    "println(\"price =\", price)"
   ]
  },
  {
   "cell_type": "markdown",
   "id": "0e41589a",
   "metadata": {},
   "source": [
    "# The second reformulation"
   ]
  },
  {
   "cell_type": "code",
   "execution_count": null,
   "id": "004e3684",
   "metadata": {},
   "outputs": [],
   "source": [
    "model = Model(Mosek.Optimizer)\n",
    "# set_attribute(model, \"QUIET\", true)\n",
    "# model = Model(COPT.ConeOptimizer)\n",
    "# 定义变量\n",
    "@variable(model, rho_0 >= 0)                       # ρ₀ ≥ 0\n",
    "@variable(model, rho[1:N] >= 0)                    # ρ_n ≥ 0\n",
    "@variable(model, alpha[1:N,1:N_u])                   # ς = ρ₀ * u\n",
    "@variable(model, beta[1:N,1:N])                       # φ_n\n",
    "@variable(model, Y[1:N, 1:K])                      # y_{nk}\n",
    "@variable(model, Z[1:N, 1:N, 1:K])                      # z_{nk}\n",
    "@variable(model, X[1:N, 1:K], Bin)                 # x_{nk} ∈ {0,1}"
   ]
  },
  {
   "cell_type": "code",
   "execution_count": null,
   "id": "29cdd6b5",
   "metadata": {},
   "outputs": [],
   "source": [
    "@constraint(model, rho_0 + sum(rho) == 1)"
   ]
  },
  {
   "cell_type": "code",
   "execution_count": null,
   "id": "e21263b7",
   "metadata": {},
   "outputs": [],
   "source": [
    "for n in 1:N\n",
    "    @constraint(model, [rho[n], rho_0, A[n,:]' * u + sum(Z[n,:,:] .* p_dag)] in MOI.ExponentialCone())\n",
    "end"
   ]
  },
  {
   "cell_type": "code",
   "execution_count": null,
   "id": "b8e10de8",
   "metadata": {},
   "outputs": [],
   "source": [
    "@constraint(model, alpha .- rho_0 .* A .== 0)"
   ]
  },
  {
   "cell_type": "code",
   "execution_count": null,
   "id": "4aaddb9c",
   "metadata": {},
   "outputs": [],
   "source": [
    "@constraint(model, beta .- rho_0 .* B .== 0)"
   ]
  },
  {
   "cell_type": "code",
   "execution_count": null,
   "id": "50435716",
   "metadata": {},
   "outputs": [],
   "source": [
    "for n in 1:N\n",
    "    for k in 1:K\n",
    "        # y_{nk} bounds\n",
    "        @constraint(model, 0 <= Y[n, k])\n",
    "        @constraint(model, Y[n, k] <= X[n, k])\n",
    "        @constraint(model, Y[n, k] >= rho[n] - (1 - X[n, k]))\n",
    "        @constraint(model, Y[n, k] <= rho[n])\n",
    "    end\n",
    "end"
   ]
  },
  {
   "cell_type": "code",
   "execution_count": null,
   "id": "ce394996",
   "metadata": {},
   "outputs": [],
   "source": [
    "beta_lb = -100\n",
    "beta_ub = 100\n",
    "for n in 1:N\n",
    "    for j in 1:N\n",
    "        for k in 1:K\n",
    "            # y_{nk} bounds\n",
    "            @constraint(model, beta_lb * X[j,k] <= Z[n,j,k])\n",
    "            @constraint(model, Z[n, j, k] <= beta_ub * X[j, k])\n",
    "            @constraint(model, Z[n, j, k] >= beta[n,j] - beta_ub * (1 - X[j, k]))\n",
    "            @constraint(model, Z[n, j, k] <= beta[n,j] - beta_lb * (1 - X[j, k]))\n",
    "        end\n",
    "    end\n",
    "end"
   ]
  },
  {
   "cell_type": "code",
   "execution_count": null,
   "id": "90dca8d9",
   "metadata": {},
   "outputs": [],
   "source": [
    "@constraint(model, sum(X,dims=2) .== 1)"
   ]
  },
  {
   "cell_type": "code",
   "execution_count": null,
   "id": "8ff05b6e",
   "metadata": {},
   "outputs": [],
   "source": [
    "@objective(model, Min,sum(Y .* p_dag) - tau * sum(rho))"
   ]
  },
  {
   "cell_type": "code",
   "execution_count": null,
   "id": "fd077a35",
   "metadata": {},
   "outputs": [],
   "source": [
    "optimize!(model)\n",
    "status = JuMP.termination_status(model)\n",
    "# solution_summary(model)\n",
    "if status == MOI.OPTIMAL\n",
    "    obj_val = objective_value(model)\n",
    "    X_val = value.(X)\n",
    "else\n",
    "    obj_val = NaN\n",
    "    X_val = ones(N,N) .* NaN\n",
    "end"
   ]
  }
 ],
 "metadata": {
  "kernelspec": {
   "display_name": "Julia 1.10.3",
   "language": "julia",
   "name": "julia-1.10"
  },
  "language_info": {
   "file_extension": ".jl",
   "mimetype": "application/julia",
   "name": "julia",
   "version": "1.10.3"
  }
 },
 "nbformat": 4,
 "nbformat_minor": 5
}
