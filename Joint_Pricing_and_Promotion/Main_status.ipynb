{
 "cells": [
  {
   "cell_type": "code",
   "execution_count": 1,
   "id": "ea7846fb",
   "metadata": {},
   "outputs": [
    {
     "data": {
      "text/plain": [
       "Solve_RO (generic function with 1 method)"
      ]
     },
     "metadata": {},
     "output_type": "display_data"
    }
   ],
   "source": [
    "using LinearAlgebra\n",
    "using Distributions\n",
    "using Optim\n",
    "using Random\n",
    "using StatsFuns\n",
    "using JuMP\n",
    "using MosekTools\n",
    "using StatsBase\n",
    "using SparseArrays # 可选，用于处理稀疏性（如果数据量很大）\n",
    "using FileIO\n",
    "using JLD2\n",
    "using Plots\n",
    "using LaTeXStrings\n",
    "using DataFrames, Colors\n",
    "using StatsPlots   # 提供 boxplot，基于 Plots\n",
    "\n",
    "include(\"Data_Generation_PP.jl\")\n",
    "include(\"Estimation_PP.jl\")\n",
    "include(\"Evaluation_PP.jl\")\n",
    "# # include(\"Plot_Figures.jl\")\n",
    "include(\"Implement_All_Methods_PP.jl\")\n",
    "include(\"Models_PP.jl\")"
   ]
  },
  {
   "cell_type": "markdown",
   "id": "bc1238ab",
   "metadata": {},
   "source": [
    "## Functions"
   ]
  },
  {
   "cell_type": "code",
   "execution_count": 2,
   "id": "83d6f208",
   "metadata": {},
   "outputs": [
    {
     "data": {
      "text/plain": [
       "set_Params (generic function with 1 method)"
      ]
     },
     "metadata": {},
     "output_type": "display_data"
    }
   ],
   "source": [
    "function set_Params(N, N_u, K, S_train, S_test, offdiag_sign, max_offdiag, P_bar, gamma_list, Time_Limit,dual_norm,seed)\n",
    "    Params = Dict()\n",
    "    Params[\"N\"] = N\n",
    "    Params[\"N_u\"] = N_u\n",
    "    Params[\"K\"] = K\n",
    "    Params[\"S_train\"] = S_train\n",
    "    Params[\"S_test\"] = S_test\n",
    "    Params[\"offdiag_sign\"] = offdiag_sign\n",
    "    Params[\"max_offdiag\"] = max_offdiag\n",
    "    Params[\"P_bar\"] = P_bar\n",
    "    Params[\"gamma_list\"] = gamma_list\n",
    "    Params[\"Time_Limit\"] = Time_Limit\n",
    "    Params[\"dual_norm\"] = dual_norm\n",
    "    Params[\"seed\"] = seed\n",
    "    return Params\n",
    "end"
   ]
  },
  {
   "cell_type": "code",
   "execution_count": 3,
   "id": "15b94d2e",
   "metadata": {},
   "outputs": [
    {
     "data": {
      "text/plain": [
       "Generate_Input_this (generic function with 1 method)"
      ]
     },
     "metadata": {},
     "output_type": "display_data"
    }
   ],
   "source": [
    "function Generate_Input_this(S_train, N, N_u, K, offdiag_sign,max_offdiag,P_bar,is_original_setting)\n",
    "    Input_Data_this = Dict()\n",
    "    A_true, B_true = Generate_Coef(N_u, N, max_offdiag, offdiag_sign,is_original_setting);\n",
    "    P_train,PM_train,choice_train,PM_train_extend = Generate_Data(N,S_train,A_true,B_true,P_bar);\n",
    "\n",
    "    Input_Data_this[\"A_true\"] = A_true;\n",
    "    Input_Data_this[\"B_true\"] = B_true;\n",
    "    Input_Data_this[\"P_dag\"] = round.(rand(N, K) .* P_bar; digits=2);\n",
    "    Input_Data_this[\"P_train\"] = P_train;\n",
    "    Input_Data_this[\"PM_train_extend\"] = PM_train_extend;\n",
    "    Input_Data_this[\"choice_train\"] = choice_train;\n",
    "\n",
    "    A_hat,B_hat = Estimate_MNL_Para(PM_train_extend, P_train, choice_train,S_train, N);\n",
    "\n",
    "    Input_Data_this[\"A_hat\"] = A_hat\n",
    "    Input_Data_this[\"B_hat\"] = B_hat\n",
    "    return Input_Data_this\n",
    "end"
   ]
  },
  {
   "cell_type": "code",
   "execution_count": 4,
   "id": "583cf453",
   "metadata": {},
   "outputs": [
    {
     "data": {
      "text/plain": [
       "Get_Input_Data (generic function with 1 method)"
      ]
     },
     "metadata": {},
     "output_type": "display_data"
    }
   ],
   "source": [
    "function Get_Input_Data(Input_Data_this)\n",
    "    A_true = Input_Data_this[\"A_true\"]\n",
    "    B_true = Input_Data_this[\"B_true\"]\n",
    "    P_dag = Input_Data_this[\"P_dag\"]\n",
    "    P_train = Input_Data_this[\"P_train\"]\n",
    "    PM_train_extend = Input_Data_this[\"PM_train_extend\"]\n",
    "    choice_train = Input_Data_this[\"choice_train\"]\n",
    "    A_hat = Input_Data_this[\"A_hat\"]\n",
    "    B_hat = Input_Data_this[\"B_hat\"]\n",
    "    return A_true,B_true,P_dag,P_train,PM_train_extend,choice_train,A_hat,B_hat\n",
    "end"
   ]
  },
  {
   "cell_type": "code",
   "execution_count": 5,
   "id": "1d7bff6e",
   "metadata": {},
   "outputs": [
    {
     "data": {
      "text/plain": [
       "solve_ETO_this (generic function with 1 method)"
      ]
     },
     "metadata": {},
     "output_type": "display_data"
    }
   ],
   "source": [
    "function solve_ETO_this(N,N_u,K,A,B,A_true, B_true,P_dag,Time_Limit)\n",
    "    RST_this = Dict()\n",
    "    status_this = \"NotDefined\"\n",
    "    obj_,X_,Promo_, time_,status_ = Solve_ETO(N,N_u,K,A, B,P_dag,Time_Limit)\n",
    "    if status_ != \"OPTIMAL\"\n",
    "        status_this = status_\n",
    "    else\n",
    "        status_this = status_\n",
    "        rev_, price_ = compute_oof(X_, A_true, B_true, vcat(Promo_,1), P_dag)\n",
    "        RST_this[\"obj\"] = obj_\n",
    "        RST_this[\"price\"] = price_\n",
    "        RST_this[\"promo\"] = Promo_\n",
    "        RST_this[\"time\"] = time_\n",
    "        RST_this[\"Rev\"] = rev_\n",
    "        RST_this[\"status\"] = status_\n",
    "    end\n",
    "    return RST_this,status_this\n",
    "end"
   ]
  },
  {
   "cell_type": "code",
   "execution_count": 6,
   "id": "373c5331",
   "metadata": {},
   "outputs": [
    {
     "data": {
      "text/plain": [
       "solve_RO_this (generic function with 1 method)"
      ]
     },
     "metadata": {},
     "output_type": "display_data"
    }
   ],
   "source": [
    "function solve_RO_this(N,N_u,K,A_hat,B_hat,A_true, B_true,P_dag,psi_lb,psi_ub,phi_lb,phi_ub,gamma_list,dual_norm,Time_Limit)\n",
    "    RST_this = Dict()\n",
    "    status_this = \"NotDefined\"\n",
    "    for gamma in gamma_list\n",
    "        obj_RO,X_RO,Promo_RO, time_RO,status_RO = Solve_RO(N,N_u,K,A_hat,B_hat,P_dag,psi_lb,psi_ub,phi_lb,phi_ub,gamma * ones(N),dual_norm,Time_Limit)\n",
    "        println(\"gamma=$(gamma),status:\",status_RO,\",time=$time_RO\")\n",
    "        if status_RO != \"OPTIMAL\"\n",
    "            status_this = status_RO\n",
    "            break\n",
    "        else\n",
    "            status_this = status_RO\n",
    "            rev_RO, price_RO = compute_oof(X_RO, A_true, B_true, vcat(Promo_RO,1), P_dag)\n",
    "            RST_this[\"obj_gamma=$(gamma)\"] = obj_RO\n",
    "            RST_this[\"price_gamma=$(gamma)\"] = price_RO\n",
    "            RST_this[\"promo_gamma=$(gamma)\"] = Promo_RO\n",
    "            RST_this[\"time_gamma=$(gamma)\"] = time_RO\n",
    "            RST_this[\"Rev_gamma=$(gamma)\"] = rev_RO\n",
    "            RST_this[\"status\"] = status_this\n",
    "        end\n",
    "    end\n",
    "    return RST_this,status_this\n",
    "end"
   ]
  },
  {
   "cell_type": "markdown",
   "id": "42e000a7",
   "metadata": {},
   "source": [
    "#### Parameters"
   ]
  },
  {
   "cell_type": "code",
   "execution_count": 7,
   "id": "717ecb7b",
   "metadata": {},
   "outputs": [
    {
     "data": {
      "text/plain": [
       "TaskLocalRNG()"
      ]
     },
     "metadata": {},
     "output_type": "display_data"
    }
   ],
   "source": [
    "seed = 1;\n",
    "N = 3;\n",
    "N_u = 1;\n",
    "K = 30;\n",
    "S_train = 50;\n",
    "S_test = 1000;\n",
    "P_bar = 30.0;\n",
    "iterations = 100;\n",
    "project_dir = \"Joint_Pricing_and_Promotion/\"\n",
    "\n",
    "offdiag_sign = \"mix\";\n",
    "max_offdiag = 1.0;\n",
    "Time_Limit = 180.0\n",
    "gamma_list = [0.0,0.01,0.02,0.03,0.04,0.06,0.08];\n",
    "dual_norm = 2\n",
    "\n",
    "psi_lb_coef = -20.0\n",
    "phi_lb_coef = -20.0\n",
    "psi_lb = psi_lb_coef * ones(N) \n",
    "psi_ub = 0.0 * ones(N) \n",
    "phi_lb = phi_lb_coef * ones(N) \n",
    "phi_ub = 0.0 * ones(N) \n",
    "\n",
    "is_original_setting = true\n",
    "Random.seed!(seed)"
   ]
  },
  {
   "cell_type": "code",
   "execution_count": 8,
   "id": "b764c940",
   "metadata": {},
   "outputs": [],
   "source": [
    "current_dir = pwd()\n",
    "parent_dir = dirname(current_dir)\n",
    "grand_pa_dir = dirname(parent_dir)\n",
    "data_dir = string(dirname(grand_pa_dir), \"/Data/\")\n",
    "if !isdir(data_dir)\n",
    "    mkpath(data_dir)\n",
    "end\n",
    "if is_original_setting\n",
    "    sub_file_name = \"MS_2024_N=$(N)_N_u=$(N_u)_K=$(K)_S_train=$(S_train)_Seed=$seed/\"\n",
    "else\n",
    "    sub_file_name = \"N=$(N)_N_u=$(N_u)_K=$(K)_S_train=$(S_train)_offdiag_sign=$(offdiag_sign)_max_offdiag=$(max_offdiag)/\"\n",
    "end\n",
    "this_data_file = string(data_dir,project_dir,sub_file_name)\n",
    "if !isdir(this_data_file)\n",
    "    mkpath(this_data_file)\n",
    "end"
   ]
  },
  {
   "cell_type": "code",
   "execution_count": 9,
   "id": "d2fd0d46",
   "metadata": {},
   "outputs": [
    {
     "name": "stdout",
     "output_type": "stream",
     "text": [
      "/Users/zhangxun/Dropbox/Research/Robust_Exp/Data/Joint_Pricing_and_Promotion/MS_2024_N=3_N_u=1_K=30_S_train=50_Seed=1/\n"
     ]
    }
   ],
   "source": [
    "Params = set_Params(N, N_u, K, S_train, S_test, offdiag_sign, max_offdiag, P_bar, gamma_list, Time_Limit,dual_norm,seed);\n",
    "save(string(this_data_file, \"Params.jld2\"), Params);\n",
    "println(this_data_file)"
   ]
  },
  {
   "cell_type": "code",
   "execution_count": null,
   "id": "97c4d3fc",
   "metadata": {},
   "outputs": [
    {
     "name": "stdout",
     "output_type": "stream",
     "text": [
      "Oracle: status = OPTIMAL,time=1.7175960540771484\n",
      "ETO: status = OPTIMAL,time=2.031052827835083\n",
      "gamma=0.0,status:OPTIMAL,time=38.481637954711914\n",
      "gamma=0.01,status:OPTIMAL,time=29.32484197616577\n",
      "gamma=0.02,status:OPTIMAL,time=25.874020099639893\n",
      "gamma=0.03,status:OPTIMAL,time=26.943052053451538\n",
      "gamma=0.04,status:OPTIMAL,time=36.25081992149353\n",
      "gamma=0.06,status:OPTIMAL,time=32.40744614601135\n",
      "gamma=0.08,status:OPTIMAL,time=21.850903034210205\n",
      "******* iter = 1*********\n",
      "Oracle: status = OPTIMAL,time=1.3869779109954834\n",
      "ETO: status = OPTIMAL,time=5.589294910430908\n",
      "gamma=0.0,status:OPTIMAL,time=44.13572812080383\n",
      "gamma=0.01,status:OPTIMAL,time=29.152417182922363\n",
      "gamma=0.02,status:OPTIMAL,time=24.200669050216675\n",
      "gamma=0.03,status:OPTIMAL,time=17.91047477722168\n",
      "gamma=0.04,status:OPTIMAL,time=14.023545980453491\n",
      "gamma=0.06,status:OPTIMAL,time=10.964210033416748\n",
      "gamma=0.08,status:OPTIMAL,time=12.965451002120972\n",
      "******* iter = 2*********\n",
      "Oracle: status = OPTIMAL,time=1.3673739433288574\n",
      "ETO: status = OPTIMAL,time=5.645508050918579\n",
      "ETO rev is not equivalent to RO rev\n",
      "Oracle: status = OPTIMAL,time=1.6949410438537598\n",
      "ETO: status = OPTIMAL,time=8.589185953140259\n",
      "gamma=0.0,status:OPTIMAL,time=57.35796904563904\n",
      "gamma=0.01,status:OPTIMAL,time=77.10136914253235\n",
      "gamma=0.02,status:OPTIMAL,time=125.41871404647827\n",
      "gamma=0.03,status:OPTIMAL,time=56.388108015060425\n",
      "gamma=0.04,status:OPTIMAL,time=25.96156597137451\n",
      "gamma=0.06,status:OPTIMAL,time=23.30592393875122\n",
      "gamma=0.08,status:OPTIMAL,time=23.58408498764038\n",
      "******* iter = 3*********\n",
      "Oracle: status = OPTIMAL,time=1.8949859142303467\n",
      "ETO: status = OPTIMAL,time=5.506049871444702\n",
      "gamma=0.0,status:OPTIMAL,time=21.504559993743896\n",
      "gamma=0.01,status:OPTIMAL,time=17.45641803741455\n",
      "gamma=0.02,status:OPTIMAL,time=15.497302770614624\n",
      "gamma=0.03,status:OPTIMAL,time=20.19508385658264\n",
      "gamma=0.04,status:OPTIMAL,time=28.772430896759033\n",
      "gamma=0.06,status:OPTIMAL,time=15.625800848007202\n",
      "gamma=0.08,status:OPTIMAL,time=37.31655812263489\n",
      "******* iter = 4*********\n",
      "Oracle: status = OPTIMAL,time=1.6362340450286865\n",
      "ETO: status = OPTIMAL,time=2.8483641147613525\n",
      "gamma=0.0,status:OPTIMAL,time=28.72385597229004\n",
      "gamma=0.01,status:OPTIMAL,time=31.379026174545288\n",
      "gamma=0.02,status:OPTIMAL,time=22.042274951934814\n",
      "gamma=0.03,status:OPTIMAL,time=22.008550882339478\n",
      "gamma=0.04,status:OPTIMAL,time=20.931885957717896\n",
      "gamma=0.06,status:OPTIMAL,time=20.049177169799805\n",
      "gamma=0.08,status:OPTIMAL,time=10.273085117340088\n",
      "******* iter = 5*********\n",
      "Oracle: status = OPTIMAL,time=1.2422571182250977\n",
      "ETO: status = OPTIMAL,time=10.484992027282715\n",
      "gamma=0.0,status:OPTIMAL,time=65.99255704879761\n",
      "gamma=0.01,status:OPTIMAL,time=50.06001400947571\n",
      "gamma=0.02,status:OPTIMAL,time=48.031352043151855\n",
      "gamma=0.03,status:OPTIMAL,time=32.36772298812866\n",
      "gamma=0.04,status:OPTIMAL,time=44.544163942337036\n",
      "gamma=0.06,status:OPTIMAL,time=19.25253701210022\n",
      "gamma=0.08,status:OPTIMAL,time=21.571059942245483\n",
      "******* iter = 6*********\n",
      "Oracle: status = OPTIMAL,time=2.56099009513855\n",
      "ETO: status = OPTIMAL,time=2.099346160888672\n",
      "gamma=0.0,status:OPTIMAL,time=27.351866006851196\n",
      "gamma=0.01,status:OPTIMAL,time=24.868494033813477\n",
      "gamma=0.02,status:OPTIMAL,time=26.29492211341858\n",
      "gamma=0.03,status:OPTIMAL,time=26.036768913269043\n",
      "gamma=0.04,status:OPTIMAL,time=40.399884939193726\n",
      "gamma=0.06,status:OPTIMAL,time=16.66832685470581\n",
      "gamma=0.08,status:OPTIMAL,time=23.675129175186157\n",
      "******* iter = 7*********\n",
      "Oracle: status = OPTIMAL,time=1.350158929824829\n",
      "ETO: status = OPTIMAL,time=16.184306859970093\n",
      "gamma=0.0,status:OPTIMAL,time=52.69434690475464\n",
      "gamma=0.01,status:OPTIMAL,time=47.37231993675232\n",
      "gamma=0.02,status:OPTIMAL,time=37.280511140823364\n",
      "gamma=0.03,status:OPTIMAL,time=31.14864206314087\n",
      "gamma=0.04,status:OPTIMAL,time=27.592628002166748\n",
      "gamma=0.06,status:OPTIMAL,time=24.953929901123047\n",
      "gamma=0.08,status:OPTIMAL,time=15.122450113296509\n",
      "******* iter = 8*********\n",
      "Oracle: status = OPTIMAL,time=1.5505688190460205\n",
      "ETO: status = OPTIMAL,time=5.637487173080444\n",
      "gamma=0.0,status:OPTIMAL,time=40.93980312347412\n",
      "gamma=0.01,status:OPTIMAL,time=14.442216873168945\n",
      "gamma=0.02,status:OPTIMAL,time=12.702116012573242\n",
      "gamma=0.03,status:OPTIMAL,time=10.830162048339844\n",
      "gamma=0.04,status:OPTIMAL,time=9.204162120819092\n",
      "gamma=0.06,status:OPTIMAL,time=28.925011157989502\n",
      "gamma=0.08,status:OPTIMAL,time=16.0311439037323\n",
      "******* iter = 9*********\n",
      "Oracle: status = OPTIMAL,time=1.8946189880371094\n",
      "ETO: status = OPTIMAL,time=2.958872079849243\n",
      "ETO rev is not equivalent to RO rev\n",
      "Oracle: status = OPTIMAL,time=1.359246015548706\n",
      "ETO: status = OPTIMAL,time=2.952968120574951\n",
      "gamma=0.0,status:OPTIMAL,time=31.120711088180542\n",
      "gamma=0.01,status:OPTIMAL,time=34.45702910423279\n",
      "gamma=0.02,status:OPTIMAL,time=26.633818864822388\n",
      "gamma=0.03,status:OPTIMAL,time=28.77681279182434\n",
      "gamma=0.04,status:OPTIMAL,time=34.084303855895996\n",
      "gamma=0.06,status:OPTIMAL,time=16.700412034988403\n",
      "gamma=0.08,status:OPTIMAL,time=22.924790859222412\n",
      "******* iter = 10*********\n",
      "Oracle: status = OPTIMAL,time=2.466050863265991\n",
      "ETO: status = OPTIMAL,time=6.591265916824341\n",
      "gamma=0.0,status:OPTIMAL,time=20.89505410194397\n",
      "gamma=0.01,status:OPTIMAL,time=18.78770899772644\n",
      "gamma=0.02,status:OPTIMAL,time=16.455432891845703\n",
      "gamma=0.03,status:OPTIMAL,time=17.383677005767822\n",
      "gamma=0.04,status:OPTIMAL,time=18.649832010269165\n",
      "gamma=0.06,status:OPTIMAL,time=20.90106511116028\n",
      "gamma=0.08,status:OPTIMAL,time=13.628046035766602\n",
      "******* iter = 11*********\n",
      "Oracle: status = OPTIMAL,time=2.25646710395813\n",
      "ETO: status = OPTIMAL,time=5.199779033660889\n",
      "gamma=0.0,status:OPTIMAL,time=37.1655330657959\n",
      "gamma=0.01,status:OPTIMAL,time=51.49774384498596\n",
      "gamma=0.02,status:OPTIMAL,time=25.321336030960083\n",
      "gamma=0.03,status:OPTIMAL,time=31.252757787704468\n",
      "gamma=0.04,status:OPTIMAL,time=23.492100954055786\n",
      "gamma=0.06,status:OPTIMAL,time=16.223618030548096\n",
      "gamma=0.08,status:OPTIMAL,time=14.711508989334106\n",
      "******* iter = 12*********\n",
      "Oracle: status = OPTIMAL,time=1.4808070659637451\n",
      "ETO: status = OPTIMAL,time=5.469901084899902\n",
      "gamma=0.0,status:OPTIMAL,time=23.077522039413452\n",
      "gamma=0.01,status:OPTIMAL,time=24.03755807876587\n",
      "gamma=0.02,status:OPTIMAL,time=23.95044994354248\n",
      "gamma=0.03,status:OPTIMAL,time=33.03314018249512\n",
      "gamma=0.04,status:OPTIMAL,time=18.574859142303467\n",
      "gamma=0.06,status:OPTIMAL,time=14.067299127578735\n",
      "gamma=0.08,status:OPTIMAL,time=10.51096510887146\n",
      "******* iter = 13*********\n",
      "Oracle: status = OPTIMAL,time=1.2356860637664795\n",
      "ETO: status = OPTIMAL,time=4.014004945755005\n",
      "gamma=0.0,status:OPTIMAL,time=10.82693099975586\n",
      "gamma=0.01,status:OPTIMAL,time=14.787079811096191\n",
      "gamma=0.02,status:OPTIMAL,time=31.983465909957886\n",
      "gamma=0.03,status:OPTIMAL,time=47.93579888343811\n",
      "gamma=0.04,status:OPTIMAL,time=29.812268018722534\n",
      "gamma=0.06,status:OPTIMAL,time=36.21247696876526\n",
      "gamma=0.08,status:OPTIMAL,time=22.657297134399414\n",
      "******* iter = 14*********\n",
      "Oracle: status = OPTIMAL,time=2.2647290229797363\n",
      "ETO: status = OPTIMAL,time=4.813140869140625\n",
      "gamma=0.0,status:OPTIMAL,time=39.01036095619202\n",
      "gamma=0.01,status:OPTIMAL,time=39.302566051483154\n",
      "gamma=0.02,status:OPTIMAL,time=32.85566711425781\n",
      "gamma=0.03,status:OPTIMAL,time=29.777919054031372\n",
      "gamma=0.04,status:OPTIMAL,time=31.54373002052307\n",
      "gamma=0.06,status:OPTIMAL,time=22.6992609500885\n",
      "gamma=0.08,status:OPTIMAL,time=13.746511936187744\n",
      "******* iter = 15*********\n",
      "Oracle: status = OPTIMAL,time=2.5615859031677246\n",
      "ETO: status = OPTIMAL,time=5.190547943115234\n",
      "gamma=0.0,status:OPTIMAL,time=19.068446159362793\n",
      "gamma=0.01,status:OPTIMAL,time=14.451996088027954\n",
      "gamma=0.02,status:OPTIMAL,time=11.836307048797607\n",
      "gamma=0.03,status:OPTIMAL,time=11.027153968811035\n",
      "gamma=0.04,status:OPTIMAL,time=12.749963998794556\n",
      "gamma=0.06,status:OPTIMAL,time=10.359551191329956\n",
      "gamma=0.08,status:OPTIMAL,time=8.436458110809326\n",
      "******* iter = 16*********\n",
      "Oracle: status = OPTIMAL,time=1.4094791412353516\n",
      "ETO: status = OPTIMAL,time=1.6114239692687988\n",
      "gamma=0.0,status:OPTIMAL,time=27.8454909324646\n",
      "gamma=0.01,status:OPTIMAL,time=41.51710605621338\n",
      "gamma=0.02,status:OPTIMAL,time=29.79798698425293\n",
      "gamma=0.03,status:OPTIMAL,time=22.406790018081665\n",
      "gamma=0.04,status:OPTIMAL,time=31.374386072158813\n",
      "gamma=0.06,status:OPTIMAL,time=32.078696966171265\n",
      "gamma=0.08,status:OPTIMAL,time=29.644447088241577\n",
      "******* iter = 17*********\n",
      "Oracle: status = OPTIMAL,time=2.2657151222229004\n",
      "ETO: status = OPTIMAL,time=0.05700492858886719\n",
      "ETO rev is not equivalent to RO rev\n",
      "Oracle: status = OPTIMAL,time=1.5303468704223633\n",
      "ETO: status = OPTIMAL,time=2.6945080757141113\n",
      "gamma=0.0,status:OPTIMAL,time=13.166569948196411\n",
      "gamma=0.01,status:OPTIMAL,time=16.517194986343384\n",
      "gamma=0.02,status:OPTIMAL,time=8.990652084350586\n",
      "gamma=0.03,status:OPTIMAL,time=10.708529949188232\n",
      "gamma=0.04,status:OPTIMAL,time=10.619393110275269\n",
      "gamma=0.06,status:OPTIMAL,time=14.248129844665527\n",
      "gamma=0.08,status:OPTIMAL,time=13.473058938980103\n",
      "******* iter = 18*********\n",
      "Oracle: status = OPTIMAL,time=1.4874510765075684\n",
      "ETO: status = OPTIMAL,time=3.206340789794922\n",
      "gamma=0.0,status:OPTIMAL,time=16.555150032043457\n",
      "gamma=0.01,status:OPTIMAL,time=15.209802150726318\n",
      "gamma=0.02,status:OPTIMAL,time=16.848328828811646\n",
      "gamma=0.03,status:OPTIMAL,time=16.382054090499878\n",
      "gamma=0.04,status:OPTIMAL,time=15.803300142288208\n",
      "gamma=0.06,status:OPTIMAL,time=11.013375997543335\n",
      "gamma=0.08,status:OPTIMAL,time=11.699262857437134\n",
      "******* iter = 19*********\n",
      "Oracle: status = OPTIMAL,time=2.5189638137817383\n",
      "ETO: status = OPTIMAL,time=4.402681827545166\n",
      "gamma=0.0,status:OPTIMAL,time=14.564448833465576\n",
      "gamma=0.01,status:OPTIMAL,time=11.500114917755127\n",
      "gamma=0.02,status:OPTIMAL,time=10.298656940460205\n",
      "gamma=0.03,status:OPTIMAL,time=30.896548986434937\n",
      "gamma=0.04,status:OPTIMAL,time=34.04955816268921\n",
      "gamma=0.06,status:OPTIMAL,time=11.572977066040039\n",
      "gamma=0.08,status:OPTIMAL,time=7.959296941757202\n",
      "******* iter = 20*********\n",
      "Oracle: status = OPTIMAL,time=1.88627290725708\n",
      "ETO: status = OPTIMAL,time=8.156109094619751\n",
      "gamma=0.0,status:OPTIMAL,time=25.679754972457886\n",
      "gamma=0.01,status:OPTIMAL,time=26.309431076049805\n",
      "gamma=0.02,status:OPTIMAL,time=48.44330596923828\n",
      "gamma=0.03,status:OPTIMAL,time=128.10188817977905\n",
      "gamma=0.04,status:OPTIMAL,time=83.0939679145813\n",
      "gamma=0.06,status:OPTIMAL,time=22.969598054885864\n",
      "gamma=0.08,status:OPTIMAL,time=22.16327691078186\n",
      "******* iter = 21*********\n",
      "Oracle: status = OPTIMAL,time=1.6399919986724854\n",
      "ETO: status = "
     ]
    }
   ],
   "source": [
    "Result_All = Dict()\n",
    "iter = 1\n",
    "while iter <= iterations\n",
    "    Input_Data_this = Generate_Input_this(S_train, N, N_u, K, offdiag_sign,max_offdiag,P_bar,is_original_setting)\n",
    "    A_true,B_true,P_dag,P_train,PM_train_extend,choice_train,A_hat,B_hat = Get_Input_Data(Input_Data_this)\n",
    "    if any(isnan, A_hat) || any(isnan, B_hat)\n",
    "        println(\"Estimate contains NaN values\")\n",
    "        continue\n",
    "    end\n",
    "    Result_All[\"Input_Data_iter=$(iter)\"] = Input_Data_this\n",
    "\n",
    "    RST_Oracle,status_Oracle = solve_ETO_this(N,N_u,K,A_true,B_true,A_true, B_true,P_dag,Time_Limit)\n",
    "    println(\"Oracle: status = \",status_Oracle,\",time=\",RST_Oracle[\"time\"])\n",
    "    if status_Oracle != \"OPTIMAL\"\n",
    "        println(\"Oracle did not approach the optimal solution\")\n",
    "        continue\n",
    "    end\n",
    "    Result_All[\"RST_Oracle_iter=$(iter)\"] = RST_Oracle\n",
    "\n",
    "    RST_ETO,status_ETO = solve_ETO_this(N,N_u,K,A_hat,B_hat,A_true, B_true,P_dag,Time_Limit)\n",
    "    println(\"ETO: status = \",status_ETO,\",time=\",RST_ETO[\"time\"])\n",
    "    if status_ETO != \"OPTIMAL\"\n",
    "        println(\"ETO did not approach the optimal solution\")\n",
    "        continue\n",
    "    end\n",
    "    Result_All[\"RST_ETO_iter=$(iter)\"] = RST_ETO\n",
    "    \n",
    "    obj_RO,X_RO,Promo_RO, time_RO,status_RO = Solve_RO(N,N_u,K,A_hat,B_hat,P_dag,psi_lb,psi_ub,phi_lb,phi_ub,0.0 * ones(N),dual_norm,Time_Limit)\n",
    "    if status_RO != \"OPTIMAL\"\n",
    "        println(\"RO did not approach the optimal solution\")\n",
    "        continue\n",
    "    end\n",
    "    rev_RO, price_RO = compute_oof(X_RO, A_true, B_true, vcat(Promo_RO,1), P_dag)\n",
    "    if abs(rev_RO - RST_ETO[\"Rev\"]) >= 0.001\n",
    "        println(\"ETO rev is not equivalent to RO rev\")\n",
    "        continue\n",
    "    end\n",
    "\n",
    "    RST_RO,status_RO = solve_RO_this(N,N_u,K,A_hat,B_hat,A_true, B_true,P_dag,psi_lb,psi_ub,phi_lb,phi_ub,gamma_list,dual_norm,Time_Limit)\n",
    "    # println(\"RO status = \",status_RO)\n",
    "    if status_RO != \"OPTIMAL\"\n",
    "        println(\"RO hello world\")\n",
    "        continue\n",
    "    end\n",
    "    # Result_All[\"Input_Data_iter=$(iter)\"] = Input_Data_this\n",
    "    # Result_All[\"RST_Oracle_iter=$(iter)\"] = RST_Oracle\n",
    "    # Result_All[\"RST_ETO_iter=$(iter)\"] = RST_ETO\n",
    "    Result_All[\"RST_RO_iter=$(iter)\"] = RST_RO\n",
    "    save(string(this_data_file, \"Result_All.jld2\"), Result_All);\n",
    "    println(\"******* iter = \",iter,\"*********\")\n",
    "    iter = iter + 1\n",
    "end\n",
    "save(string(this_data_file, \"Result_All.jld2\"), Result_All);"
   ]
  },
  {
   "cell_type": "code",
   "execution_count": null,
   "id": "59eb31ff",
   "metadata": {},
   "outputs": [],
   "source": [
    "Rev_Oracle = [Result_All[\"RST_Oracle_iter=$(iter)\"][\"Rev\"] for iter in 1:iterations]\n",
    "Rev_ETO = [Result_All[\"RST_ETO_iter=$(iter)\"][\"Rev\"] for iter in 1:iterations]\n",
    "Rev_RO = zeros(iterations,length(gamma_list))\n",
    "for iter in 1:iterations\n",
    "    RST_RO = Result_All[\"RST_RO_iter=$(iter)\"]\n",
    "    for g_index in 1:length(gamma_list)\n",
    "        gamma = gamma_list[g_index]\n",
    "        Rev_RO[iter,g_index] = RST_RO[\"Rev_gamma=$(gamma)\"]\n",
    "    end\n",
    "end\n",
    "println(\"Rev_ETO/Rev_Oracle = \",round.(Rev_ETO./Rev_Oracle,digits=4))\n",
    "println(\"Rev_RO/Rev_Oracle = \",round.(Rev_RO[:,1]./Rev_Oracle,digits=4))\n",
    "println(\"Rev_ETO/Rev_Oracle = \",mean(Rev_ETO)/mean(Rev_Oracle))"
   ]
  },
  {
   "cell_type": "code",
   "execution_count": null,
   "id": "7349f1c2",
   "metadata": {},
   "outputs": [],
   "source": [
    "RO_ETO_Ratio_Mean = zeros(length(gamma_list))\n",
    "RO_ETO_Ratio_Std = zeros(length(gamma_list))\n",
    "for g_index in 1:length(gamma_list)\n",
    "    gamma = gamma_list[g_index]\n",
    "    RO_ETO_Ratio_Mean[g_index] = mean(Rev_RO[:,g_index])/mean(Rev_ETO)\n",
    "    RO_ETO_Ratio_Std[g_index] = std(Rev_RO[:,g_index])/std(Rev_ETO)\n",
    "    println(\"gamma=$gamma,Mean =\",RO_ETO_Ratio_Mean[g_index],\", Std =\",RO_ETO_Ratio_Std[g_index])\n",
    "end"
   ]
  },
  {
   "cell_type": "code",
   "execution_count": null,
   "id": "56978b82",
   "metadata": {},
   "outputs": [],
   "source": [
    "end_index = length(gamma_list)\n",
    "plot(gamma_list[1:end_index], RO_ETO_Ratio_Mean[1:end_index], marker=:o, xlabel=L\"\\gamma\", label=\"Average Profit\", xticks=(gamma_list[1:end_index], string.(gamma_list[1:end_index])))\n",
    "plot!(gamma_list[1:end_index], RO_ETO_Ratio_Std[1:end_index], marker=:o, xlabel=L\"\\gamma\", ylabel=\"RPD/ETOPD\", label=\"Std of Profit\")\n",
    "hline!([1.0], linestyle=:dash, color=:red, label=\"\")\n",
    "savefig(string(this_data_file, \"RPP_vs_ETOPP.pdf\"))"
   ]
  },
  {
   "cell_type": "code",
   "execution_count": null,
   "id": "41e0925b",
   "metadata": {},
   "outputs": [],
   "source": [
    "bad_idx = findall(i -> abs(Rev_ETO[i] - Rev_RO[i,1]) > 0.01, 1:length(Rev_ETO));\n",
    "keep_idx = setdiff(1:length(Rev_ETO), bad_idx);\n",
    "Rev_ETO_clean = Rev_ETO[keep_idx];\n",
    "Rev_Oracle_clean = Rev_Oracle[keep_idx];\n",
    "Rev_RO_clean = Rev_RO[keep_idx, :];\n",
    "RO_ETO_Ratio_Mean = zeros(length(gamma_list))\n",
    "RO_ETO_Ratio_Std = zeros(length(gamma_list))\n",
    "for g_index in 1:length(gamma_list)\n",
    "    gamma = gamma_list[g_index]\n",
    "    RO_ETO_Ratio_Mean[g_index] = mean(Rev_RO_clean[:,g_index])/mean(Rev_ETO_clean)\n",
    "    RO_ETO_Ratio_Std[g_index] = std(Rev_RO_clean[:,g_index])/std(Rev_ETO_clean)\n",
    "    println(\"gamma=$gamma,Mean =\",RO_ETO_Ratio_Mean[g_index],\", Std =\",RO_ETO_Ratio_Std[g_index])\n",
    "end\n",
    "println(\"Rev_ETO/Rev_Oracle = \",mean(Rev_ETO_clean)/mean(Rev_Oracle_clean))"
   ]
  },
  {
   "cell_type": "code",
   "execution_count": null,
   "id": "316b72a3",
   "metadata": {},
   "outputs": [],
   "source": [
    "end_index = length(gamma_list) -1\n",
    "plot(gamma_list[1:end_index], RO_ETO_Ratio_Mean[1:end_index], marker=:o, xlabel=L\"\\gamma\", label=\"Average Profit\", xticks=(gamma_list[1:end_index], string.(gamma_list[1:end_index])))\n",
    "plot!(gamma_list[1:end_index], RO_ETO_Ratio_Std[1:end_index], marker=:o, xlabel=L\"\\gamma\", ylabel=\"RPD/ETOPD\", label=\"Std of Profit\")\n",
    "hline!([1.0], linestyle=:dash, color=:red, label=\"\")\n",
    "savefig(string(this_data_file, \"RPP_vs_ETOPP_Clean.pdf\"))"
   ]
  }
 ],
 "metadata": {
  "kernelspec": {
   "display_name": "Julia 1.11.7",
   "language": "julia",
   "name": "julia-1.11"
  },
  "language_info": {
   "file_extension": ".jl",
   "mimetype": "application/julia",
   "name": "julia",
   "version": "1.11.7"
  }
 },
 "nbformat": 4,
 "nbformat_minor": 5
}
