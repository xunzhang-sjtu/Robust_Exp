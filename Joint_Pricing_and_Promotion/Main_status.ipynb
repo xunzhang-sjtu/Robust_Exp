{
 "cells": [
  {
   "cell_type": "code",
   "execution_count": 1,
   "id": "ea7846fb",
   "metadata": {},
   "outputs": [
    {
     "data": {
      "text/plain": [
       "Solve_RO (generic function with 1 method)"
      ]
     },
     "metadata": {},
     "output_type": "display_data"
    }
   ],
   "source": [
    "using LinearAlgebra\n",
    "using Distributions\n",
    "using Optim\n",
    "using Random\n",
    "using StatsFuns\n",
    "using JuMP\n",
    "using MosekTools\n",
    "using StatsBase\n",
    "using SparseArrays # 可选，用于处理稀疏性（如果数据量很大）\n",
    "using FileIO\n",
    "using JLD2\n",
    "using Plots\n",
    "using LaTeXStrings\n",
    "using DataFrames, Colors\n",
    "using StatsPlots   # 提供 boxplot，基于 Plots\n",
    "\n",
    "include(\"Data_Generation_PP.jl\")\n",
    "include(\"Estimation_PP.jl\")\n",
    "include(\"Evaluation_PP.jl\")\n",
    "# # include(\"Plot_Figures.jl\")\n",
    "include(\"Implement_All_Methods_PP.jl\")\n",
    "include(\"Models_PP.jl\")"
   ]
  },
  {
   "cell_type": "markdown",
   "id": "bc1238ab",
   "metadata": {},
   "source": [
    "## Functions"
   ]
  },
  {
   "cell_type": "code",
   "execution_count": 2,
   "id": "83d6f208",
   "metadata": {},
   "outputs": [
    {
     "data": {
      "text/plain": [
       "set_Params (generic function with 1 method)"
      ]
     },
     "metadata": {},
     "output_type": "display_data"
    }
   ],
   "source": [
    "function set_Params(N, N_u, K, S_train, S_test, offdiag_sign, max_offdiag, P_bar, gamma_list, Time_Limit,dual_norm,seed)\n",
    "    Params = Dict()\n",
    "    Params[\"N\"] = N\n",
    "    Params[\"N_u\"] = N_u\n",
    "    Params[\"K\"] = K\n",
    "    Params[\"S_train\"] = S_train\n",
    "    Params[\"S_test\"] = S_test\n",
    "    Params[\"offdiag_sign\"] = offdiag_sign\n",
    "    Params[\"max_offdiag\"] = max_offdiag\n",
    "    Params[\"P_bar\"] = P_bar\n",
    "    Params[\"gamma_list\"] = gamma_list\n",
    "    Params[\"Time_Limit\"] = Time_Limit\n",
    "    Params[\"dual_norm\"] = dual_norm\n",
    "    Params[\"seed\"] = seed\n",
    "    return Params\n",
    "end"
   ]
  },
  {
   "cell_type": "code",
   "execution_count": 3,
   "id": "15b94d2e",
   "metadata": {},
   "outputs": [
    {
     "data": {
      "text/plain": [
       "Generate_Input_this (generic function with 1 method)"
      ]
     },
     "metadata": {},
     "output_type": "display_data"
    }
   ],
   "source": [
    "function Generate_Input_this(S_train, N, N_u, K, offdiag_sign,max_offdiag,P_bar,is_original_setting)\n",
    "    Input_Data_this = Dict()\n",
    "    A_true, B_true = Generate_Coef(N_u, N, max_offdiag, offdiag_sign,is_original_setting);\n",
    "    P_train,PM_train,choice_train,PM_train_extend = Generate_Data(N,S_train,A_true,B_true,P_bar);\n",
    "\n",
    "    Input_Data_this[\"A_true\"] = A_true;\n",
    "    Input_Data_this[\"B_true\"] = B_true;\n",
    "    Input_Data_this[\"P_dag\"] = round.(rand(N, K) .* P_bar; digits=2);\n",
    "    Input_Data_this[\"P_train\"] = P_train;\n",
    "    Input_Data_this[\"PM_train_extend\"] = PM_train_extend;\n",
    "    Input_Data_this[\"choice_train\"] = choice_train;\n",
    "\n",
    "    A_hat,B_hat = Estimate_MNL_Para(PM_train_extend, P_train, choice_train,S_train, N);\n",
    "\n",
    "    Input_Data_this[\"A_hat\"] = A_hat\n",
    "    Input_Data_this[\"B_hat\"] = B_hat\n",
    "    return Input_Data_this\n",
    "end"
   ]
  },
  {
   "cell_type": "code",
   "execution_count": 4,
   "id": "583cf453",
   "metadata": {},
   "outputs": [
    {
     "data": {
      "text/plain": [
       "Get_Input_Data (generic function with 1 method)"
      ]
     },
     "metadata": {},
     "output_type": "display_data"
    }
   ],
   "source": [
    "function Get_Input_Data(Input_Data_this)\n",
    "    A_true = Input_Data_this[\"A_true\"]\n",
    "    B_true = Input_Data_this[\"B_true\"]\n",
    "    P_dag = Input_Data_this[\"P_dag\"]\n",
    "    P_train = Input_Data_this[\"P_train\"]\n",
    "    PM_train_extend = Input_Data_this[\"PM_train_extend\"]\n",
    "    choice_train = Input_Data_this[\"choice_train\"]\n",
    "    A_hat = Input_Data_this[\"A_hat\"]\n",
    "    B_hat = Input_Data_this[\"B_hat\"]\n",
    "    return A_true,B_true,P_dag,P_train,PM_train_extend,choice_train,A_hat,B_hat\n",
    "end"
   ]
  },
  {
   "cell_type": "code",
   "execution_count": 5,
   "id": "1d7bff6e",
   "metadata": {},
   "outputs": [
    {
     "data": {
      "text/plain": [
       "solve_ETO_this (generic function with 1 method)"
      ]
     },
     "metadata": {},
     "output_type": "display_data"
    }
   ],
   "source": [
    "function solve_ETO_this(N,N_u,K,A,B,A_true, B_true,P_dag,Time_Limit)\n",
    "    RST_this = Dict()\n",
    "    status_this = \"NotDefined\"\n",
    "    obj_,X_,Promo_, time_,status_ = Solve_ETO(N,N_u,K,A, B,P_dag,Time_Limit)\n",
    "    if status_ != \"OPTIMAL\"\n",
    "        status_this = status_\n",
    "    else\n",
    "        status_this = status_\n",
    "        rev_, price_ = compute_oof(X_, A_true, B_true, vcat(Promo_,1), P_dag)\n",
    "        RST_this[\"obj\"] = obj_\n",
    "        RST_this[\"price\"] = price_\n",
    "        RST_this[\"Promo_\"] = Promo_\n",
    "        RST_this[\"time\"] = time_\n",
    "        RST_this[\"Rev\"] = rev_\n",
    "        RST_this[\"status\"] = status_\n",
    "    end\n",
    "    return RST_this,status_this\n",
    "end"
   ]
  },
  {
   "cell_type": "code",
   "execution_count": 6,
   "id": "373c5331",
   "metadata": {},
   "outputs": [
    {
     "data": {
      "text/plain": [
       "solve_RO_this (generic function with 1 method)"
      ]
     },
     "metadata": {},
     "output_type": "display_data"
    }
   ],
   "source": [
    "function solve_RO_this(N,N_u,K,A_hat,B_hat,A_true, B_true,P_dag,psi_lb,psi_ub,phi_lb,phi_ub,gamma_list,dual_norm,Time_Limit)\n",
    "    RST_this = Dict()\n",
    "    status_this = \"NotDefined\"\n",
    "    for gamma in gamma_list\n",
    "        obj_RO,X_RO,Promo_RO, time_RO,status_RO = Solve_RO(N,N_u,K,A_hat,B_hat,P_dag,psi_lb,psi_ub,phi_lb,phi_ub,gamma * ones(N),dual_norm,Time_Limit)\n",
    "        println(\"gamma=$(gamma),status:\",status_RO,\",time=$time_RO\")\n",
    "        if status_RO != \"OPTIMAL\"\n",
    "            status_this = status_RO\n",
    "            break\n",
    "        else\n",
    "            status_this = status_RO\n",
    "            rev_RO, price_RO = compute_oof(X_RO, A_true, B_true, vcat(Promo_RO,1), P_dag)\n",
    "            RST_this[\"obj_gamma=$(gamma)\"] = obj_RO\n",
    "            RST_this[\"price_gamma=$(gamma)\"] = price_RO\n",
    "            RST_this[\"Promo_gamma=$(gamma)\"] = Promo_RO\n",
    "            RST_this[\"time_gamma=$(gamma)\"] = time_RO\n",
    "            RST_this[\"Rev_gamma=$(gamma)\"] = rev_RO\n",
    "            RST_this[\"status\"] = status_this\n",
    "        end\n",
    "    end\n",
    "    return RST_this,status_this\n",
    "end"
   ]
  },
  {
   "cell_type": "markdown",
   "id": "42e000a7",
   "metadata": {},
   "source": [
    "#### Parameters"
   ]
  },
  {
   "cell_type": "code",
   "execution_count": 7,
   "id": "717ecb7b",
   "metadata": {},
   "outputs": [
    {
     "data": {
      "text/plain": [
       "TaskLocalRNG()"
      ]
     },
     "metadata": {},
     "output_type": "display_data"
    }
   ],
   "source": [
    "seed = 3;\n",
    "N = 3;\n",
    "N_u = 1;\n",
    "K = 30;\n",
    "S_train = 100;\n",
    "S_test = 1000;\n",
    "P_bar = 30.0;\n",
    "iterations = 100;\n",
    "project_dir = \"Joint_Pricing_and_Promotion/\"\n",
    "\n",
    "offdiag_sign = \"mix\";\n",
    "max_offdiag = 1.0;\n",
    "Time_Limit = 180.0\n",
    "gamma_list = [0.0,0.02,0.04,0.06,0.08,0.1,0.12,0.15,0.2];\n",
    "dual_norm = 2\n",
    "\n",
    "psi_lb_coef = -10.0\n",
    "phi_lb_coef = -10.0\n",
    "psi_lb = psi_lb_coef * ones(N) \n",
    "psi_ub = 0.0 * ones(N) \n",
    "phi_lb = phi_lb_coef * ones(N) \n",
    "phi_ub = 0.0 * ones(N) \n",
    "\n",
    "is_original_setting = false\n",
    "Random.seed!(seed)"
   ]
  },
  {
   "cell_type": "code",
   "execution_count": 8,
   "id": "b764c940",
   "metadata": {},
   "outputs": [],
   "source": [
    "current_dir = pwd()\n",
    "parent_dir = dirname(current_dir)\n",
    "grand_pa_dir = dirname(parent_dir)\n",
    "data_dir = string(dirname(grand_pa_dir), \"/Data/\")\n",
    "if !isdir(data_dir)\n",
    "    mkpath(data_dir)\n",
    "end\n",
    "if is_original_setting\n",
    "    sub_file_name = \"MS_2024_N=$(N)_N_u=$(N_u)_K=$(K)_S_train=$(S_train)_offdiag_sign=$(offdiag_sign)_max_offdiag=$(max_offdiag)/\"\n",
    "else\n",
    "    sub_file_name = \"N=$(N)_N_u=$(N_u)_K=$(K)_S_train=$(S_train)_offdiag_sign=$(offdiag_sign)_max_offdiag=$(max_offdiag)/\"\n",
    "end\n",
    "this_data_file = string(data_dir,project_dir,sub_file_name)\n",
    "if !isdir(this_data_file)\n",
    "    mkpath(this_data_file)\n",
    "end"
   ]
  },
  {
   "cell_type": "code",
   "execution_count": 9,
   "id": "d2fd0d46",
   "metadata": {},
   "outputs": [
    {
     "name": "stdout",
     "output_type": "stream",
     "text": [
      "/Users/zhangxun/Dropbox/Research/Robust_Exp/Data/Joint_Pricing_and_Promotion/N=3_N_u=1_K=30_S_train=100_offdiag_sign=mix_max_offdiag=1.0/\n"
     ]
    }
   ],
   "source": [
    "Params = set_Params(N, N_u, K, S_train, S_test, offdiag_sign, max_offdiag, P_bar, gamma_list, Time_Limit,dual_norm,seed);\n",
    "save(string(this_data_file, \"Params.jld2\"), Params);\n",
    "println(this_data_file)"
   ]
  },
  {
   "cell_type": "code",
   "execution_count": null,
   "id": "97c4d3fc",
   "metadata": {},
   "outputs": [
    {
     "name": "stdout",
     "output_type": "stream",
     "text": [
      "Oracle: status = OPTIMAL,time=3.871457815170288\n",
      "ETO: status = OPTIMAL,time=3.874018907546997\n",
      "gamma=0.0,status:OPTIMAL,time=69.9961531162262\n",
      "gamma=0.02,status:OPTIMAL,time=60.78022384643555\n",
      "gamma=0.04,status:OPTIMAL,time=79.126962184906\n",
      "gamma=0.06,status:OPTIMAL,time=62.94668412208557\n",
      "gamma=0.08,status:OPTIMAL,time=64.9772560596466\n",
      "gamma=0.1,status:OPTIMAL"
     ]
    }
   ],
   "source": [
    "Result_All = Dict()\n",
    "iter = 1\n",
    "while iter <= iterations\n",
    "    Input_Data_this = Generate_Input_this(S_train, N, N_u, K, offdiag_sign,max_offdiag,P_bar,is_original_setting)\n",
    "    A_true,B_true,P_dag,P_train,PM_train_extend,choice_train,A_hat,B_hat = Get_Input_Data(Input_Data_this)\n",
    "\n",
    "    RST_Oracle,status_Oracle = solve_ETO_this(N,N_u,K,A_true,B_true,A_true, B_true,P_dag,Time_Limit)\n",
    "    println(\"Oracle: status = \",status_Oracle,\",time=\",RST_Oracle[\"time\"])\n",
    "    if status_Oracle != \"OPTIMAL\"\n",
    "        println(\"Oracle hello world\")\n",
    "        continue\n",
    "    end\n",
    "    RST_ETO,status_ETO = solve_ETO_this(N,N_u,K,A_hat,B_hat,A_true, B_true,P_dag,Time_Limit)\n",
    "    println(\"ETO: status = \",status_ETO,\",time=\",RST_ETO[\"time\"])\n",
    "    if status_ETO != \"OPTIMAL\"\n",
    "        println(\"ETO hello world\")\n",
    "        continue\n",
    "    end\n",
    "    \n",
    "    RST_RO,status_RO = solve_RO_this(N,N_u,K,A_hat,B_hat,A_true, B_true,P_dag,psi_lb,psi_ub,phi_lb,phi_ub,gamma_list,dual_norm,Time_Limit)\n",
    "    # println(\"RO status = \",status_RO)\n",
    "    if status_RO != \"OPTIMAL\"\n",
    "        println(\"RO hello world\")\n",
    "        continue\n",
    "    end\n",
    "    Result_All[\"Input_Data_iter=$(iter)\"] = Input_Data_this\n",
    "    Result_All[\"RST_Oracle_iter=$(iter)\"] = RST_Oracle\n",
    "    Result_All[\"RST_ETO_iter=$(iter)\"] = RST_ETO\n",
    "    Result_All[\"RST_RO_iter=$(iter)\"] = RST_RO\n",
    "    println(\"******* iter = \",iter,\"*********\")\n",
    "    iter = iter + 1\n",
    "end\n",
    "save(string(this_data_file, \"Result_All.jld2\"), Result_All);"
   ]
  },
  {
   "cell_type": "code",
   "execution_count": null,
   "id": "59eb31ff",
   "metadata": {},
   "outputs": [],
   "source": [
    "Rev_Oracle = [Result_All[\"RST_Oracle_iter=$(iter)\"][\"Rev\"] for iter in 1:iterations]\n",
    "Rev_ETO = [Result_All[\"RST_ETO_iter=$(iter)\"][\"Rev\"] for iter in 1:iterations]\n",
    "Rev_RO = zeros(iterations,length(gamma_list))\n",
    "for iter in 1:iterations\n",
    "    RST_RO = Result_All[\"RST_RO_iter=$(iter)\"]\n",
    "    for g_index in 1:length(gamma_list)\n",
    "        gamma = gamma_list[g_index]\n",
    "        Rev_RO[iter,g_index] = RST_RO[\"Rev_gamma=$(gamma)\"]\n",
    "    end\n",
    "end\n",
    "println(\"Rev_ETO/Rev_Oracle = \",round.(Rev_ETO./Rev_Oracle,digits=4))\n",
    "println(\"Rev_RO/Rev_Oracle = \",round.(Rev_RO[:,1]./Rev_Oracle,digits=4))\n",
    "println(\"Rev_ETO/Rev_Oracle = \",mean(Rev_ETO)/mean(Rev_Oracle))"
   ]
  },
  {
   "cell_type": "code",
   "execution_count": null,
   "id": "7349f1c2",
   "metadata": {},
   "outputs": [],
   "source": [
    "RO_ETO_Ratio_Mean = zeros(length(gamma_list))\n",
    "RO_ETO_Ratio_Std = zeros(length(gamma_list))\n",
    "for g_index in 1:length(gamma_list)\n",
    "    gamma = gamma_list[g_index]\n",
    "    RO_ETO_Ratio_Mean[g_index] = mean(Rev_RO[:,g_index])/mean(Rev_ETO)\n",
    "    RO_ETO_Ratio_Std[g_index] = std(Rev_RO[:,g_index])/std(Rev_ETO)\n",
    "    println(\"gamma=$gamma,Mean =\",RO_ETO_Ratio_Mean[g_index],\", Std =\",RO_ETO_Ratio_Std[g_index])\n",
    "end"
   ]
  },
  {
   "cell_type": "code",
   "execution_count": null,
   "id": "56978b82",
   "metadata": {},
   "outputs": [],
   "source": [
    "end_index = length(gamma_list)\n",
    "plot(gamma_list[1:end_index], RO_ETO_Ratio_Mean[1:end_index], marker=:o, xlabel=L\"\\gamma\", label=\"Average Profit\", xticks=(gamma_list[1:end_index], string.(gamma_list[1:end_index])))\n",
    "plot!(gamma_list[1:end_index], RO_ETO_Ratio_Std[1:end_index], marker=:o, xlabel=L\"\\gamma\", ylabel=\"RPD/ETOPD\", label=\"Std of Profit\")\n",
    "hline!([1.0], linestyle=:dash, color=:red, label=\"\")\n",
    "savefig(string(this_data_file, \"RPP_vs_ETOPP.pdf\"))"
   ]
  }
 ],
 "metadata": {
  "kernelspec": {
   "display_name": "Julia 1.11.7",
   "language": "julia",
   "name": "julia-1.11"
  },
  "language_info": {
   "file_extension": ".jl",
   "mimetype": "application/julia",
   "name": "julia",
   "version": "1.11.7"
  }
 },
 "nbformat": 4,
 "nbformat_minor": 5
}
