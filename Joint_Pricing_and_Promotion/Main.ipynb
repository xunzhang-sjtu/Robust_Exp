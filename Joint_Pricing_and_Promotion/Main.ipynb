{
 "cells": [
  {
   "cell_type": "code",
   "execution_count": 1,
   "id": "ea7846fb",
   "metadata": {},
   "outputs": [
    {
     "data": {
      "text/plain": [
       "Solve_RO (generic function with 1 method)"
      ]
     },
     "metadata": {},
     "output_type": "display_data"
    }
   ],
   "source": [
    "using LinearAlgebra\n",
    "using Distributions\n",
    "using Optim\n",
    "using Random\n",
    "using StatsFuns\n",
    "using JuMP\n",
    "using MosekTools\n",
    "using StatsBase\n",
    "using SparseArrays # 可选，用于处理稀疏性（如果数据量很大）\n",
    "using FileIO\n",
    "using JLD2\n",
    "using Plots\n",
    "using LaTeXStrings\n",
    "using DataFrames, Colors\n",
    "using StatsPlots   # 提供 boxplot，基于 Plots\n",
    "\n",
    "include(\"Data_Generation_PP.jl\")\n",
    "include(\"Estimation_PP.jl\")\n",
    "include(\"Evaluation_PP.jl\")\n",
    "# # include(\"Plot_Figures.jl\")\n",
    "include(\"Implement_All_Methods_PP.jl\")\n",
    "include(\"Models_PP.jl\")"
   ]
  },
  {
   "cell_type": "code",
   "execution_count": 2,
   "id": "f424ebee",
   "metadata": {},
   "outputs": [],
   "source": [
    "current_dir = pwd()\n",
    "parent_dir = dirname(current_dir)\n",
    "grand_pa_dir = dirname(parent_dir)\n",
    "data_dir = string(dirname(grand_pa_dir), \"/Data/\")\n",
    "if !isdir(data_dir)\n",
    "    mkpath(data_dir)\n",
    "end"
   ]
  },
  {
   "cell_type": "markdown",
   "id": "bc1238ab",
   "metadata": {},
   "source": [
    "## Functions"
   ]
  },
  {
   "cell_type": "code",
   "execution_count": 3,
   "id": "83d6f208",
   "metadata": {},
   "outputs": [
    {
     "data": {
      "text/plain": [
       "set_Params (generic function with 1 method)"
      ]
     },
     "metadata": {},
     "output_type": "display_data"
    }
   ],
   "source": [
    "function set_Params(N, N_u, K, S_train, S_test, offdiag_sign, max_offdiag, P_bar, RO_coef_all, seed)\n",
    "    Params = Dict()\n",
    "    Params[\"N\"] = N\n",
    "    Params[\"N_u\"] = N_u\n",
    "    Params[\"K\"] = K\n",
    "    Params[\"S_train\"] = S_train\n",
    "    Params[\"S_test\"] = S_test\n",
    "    Params[\"offdiag_sign\"] = offdiag_sign\n",
    "    Params[\"max_offdiag\"] = max_offdiag\n",
    "    Params[\"P_bar\"] = P_bar\n",
    "    Params[\"RO_coef_all\"] = RO_coef_all\n",
    "    Params[\"seed\"] = seed\n",
    "    return Params\n",
    "end"
   ]
  },
  {
   "cell_type": "markdown",
   "id": "9568927e",
   "metadata": {},
   "source": [
    "## Evaluate"
   ]
  },
  {
   "cell_type": "markdown",
   "id": "b6eef9dc",
   "metadata": {},
   "source": [
    "#### Baseline Parameters"
   ]
  },
  {
   "cell_type": "code",
   "execution_count": 4,
   "id": "f8321a1a",
   "metadata": {},
   "outputs": [
    {
     "data": {
      "text/plain": [
       "\"Joint_Pricing_and_Promotion/\""
      ]
     },
     "metadata": {},
     "output_type": "display_data"
    }
   ],
   "source": [
    "seed = 2;\n",
    "N = 3;\n",
    "N_u = 1;\n",
    "K = 10;\n",
    "S_train = 100;\n",
    "S_test = 1000;\n",
    "P_bar = 5.0;\n",
    "iterations = 1;\n",
    "# RO_coef_all = [0.0];\n",
    "RO_coef_all = [0.0,0.01,0.05,0.1,0.12,0.15,0.2,0.25,0.3];\n",
    "Random.seed!(seed)\n",
    "project_dir = \"Joint_Pricing_and_Promotion/\""
   ]
  },
  {
   "cell_type": "code",
   "execution_count": 5,
   "id": "15b94d2e",
   "metadata": {},
   "outputs": [
    {
     "data": {
      "text/plain": [
       "Generate_Input_this (generic function with 1 method)"
      ]
     },
     "metadata": {},
     "output_type": "display_data"
    }
   ],
   "source": [
    "function Generate_Input_this(S_train, N, N_u, K, offdiag_sign,max_offdiag,P_bar)\n",
    "    Input_Data_this = Dict()\n",
    "    A_true, B_true = Generate_Coef(N_u, N, max_offdiag, offdiag_sign);\n",
    "    P_train,PM_train,choice_train,PM_train_extend = Generate_Data(N,S_train,A_true,B_true,P_bar);\n",
    "\n",
    "    Input_Data_this[\"A_true\"] = A_true;\n",
    "    Input_Data_this[\"B_true\"] = B_true;\n",
    "    Input_Data_this[\"P_dag\"] = round.(rand(N, K) .* P_bar; digits=2);\n",
    "    Input_Data_this[\"P_train\"] = P_train;\n",
    "    Input_Data_this[\"PM_train_extend\"] = PM_train_extend;\n",
    "    Input_Data_this[\"choice_train\"] = choice_train;\n",
    "\n",
    "    A_hat,B_hat = Estimate_MNL_Para(PM_train_extend, P_train, choice_train,S_train, N);\n",
    "\n",
    "    Input_Data_this[\"A_hat\"] = A_hat\n",
    "    Input_Data_this[\"B_hat\"] = B_hat\n",
    "    return Input_Data_this\n",
    "end"
   ]
  },
  {
   "cell_type": "code",
   "execution_count": 6,
   "id": "583cf453",
   "metadata": {},
   "outputs": [
    {
     "data": {
      "text/plain": [
       "Get_Input_Data (generic function with 1 method)"
      ]
     },
     "metadata": {},
     "output_type": "display_data"
    }
   ],
   "source": [
    "function Get_Input_Data(Input_Data_this)\n",
    "    A_true = Input_Data_this[\"A_true\"]\n",
    "    B_true = Input_Data_this[\"B_true\"]\n",
    "    P_dag = Input_Data_this[\"P_dag\"]\n",
    "    P_train = Input_Data_this[\"P_train\"]\n",
    "    PM_train_extend = Input_Data_this[\"PM_train_extend\"]\n",
    "    choice_train = Input_Data_this[\"choice_train\"]\n",
    "    A_hat = Input_Data_this[\"A_hat\"]\n",
    "    B_hat = Input_Data_this[\"B_hat\"]\n",
    "    return A_true,B_true,P_dag,P_train,PM_train_extend,choice_train,A_hat,B_hat\n",
    "end"
   ]
  },
  {
   "cell_type": "code",
   "execution_count": 11,
   "id": "1d7bff6e",
   "metadata": {},
   "outputs": [
    {
     "data": {
      "text/plain": [
       "solve_ETO_this (generic function with 1 method)"
      ]
     },
     "metadata": {},
     "output_type": "display_data"
    }
   ],
   "source": [
    "function solve_ETO_this(N,N_u,K,A,B,A_true, B_true,P_dag,Time_Limit)\n",
    "    RST_this = Dict()\n",
    "    status_this = \"NotDefined\"\n",
    "    obj_,X_,Promo_, time_,status_ = Solve_ETO(N,N_u,K,A, B,P_dag,Time_Limit)\n",
    "    if status_ != \"OPTIMAL\"\n",
    "        status_this = status_\n",
    "    else\n",
    "        status_this = status_\n",
    "        rev_, price_ = compute_oof(X_, A_true, B_true, vcat(Promo_,1), P_dag)\n",
    "        RST_this[\"obj\"] = obj_\n",
    "        RST_this[\"price\"] = price_\n",
    "        RST_this[\"Promo_\"] = Promo_\n",
    "        RST_this[\"time\"] = time_\n",
    "        RST_this[\"Rev\"] = rev_\n",
    "        RST_this[\"status\"] = status_\n",
    "    end\n",
    "    return RST_this,status_this\n",
    "end"
   ]
  },
  {
   "cell_type": "code",
   "execution_count": 12,
   "id": "373c5331",
   "metadata": {},
   "outputs": [
    {
     "data": {
      "text/plain": [
       "solve_RO_this (generic function with 1 method)"
      ]
     },
     "metadata": {},
     "output_type": "display_data"
    }
   ],
   "source": [
    "function solve_RO_this(N,N_u,K,A_hat,B_hat,A_true, B_true,P_dag,psi_lb,psi_ub,phi_lb,phi_ub,gamma_list,dual_norm,Time_Limit)\n",
    "    RST_this = Dict()\n",
    "    status_this = \"NotDefined\"\n",
    "    for gamma in gamma_list\n",
    "        obj_RO,X_RO,Promo_RO, time_RO,status_RO = Solve_RO(N,N_u,K,A_hat,B_hat,P_dag,psi_lb,psi_ub,phi_lb,phi_ub,gamma * ones(N),dual_norm,Time_Limit)\n",
    "        if status_RO != \"OPTIMAL\"\n",
    "            status_this = status_RO\n",
    "            break\n",
    "        else\n",
    "            status_this = status_RO\n",
    "            rev_RO, price_RO = compute_oof(X_RO, A_true, B_true, vcat(Promo_RO,1), P_dag)\n",
    "            RST_this[\"obj_gamma=$(gamma)\"] = obj_RO\n",
    "            RST_this[\"price_gamma=$(gamma)\"] = price_RO\n",
    "            RST_this[\"Promo_gamma=$(gamma)\"] = Promo_RO\n",
    "            RST_this[\"time_gamma=$(gamma)\"] = time_RO\n",
    "            RST_this[\"Rev_gamma=$(gamma)\"] = rev_RO\n",
    "            RST_this[\"status\"] = status_this\n",
    "        end\n",
    "    end\n",
    "    return RST_this,status_this\n",
    "end"
   ]
  },
  {
   "cell_type": "code",
   "execution_count": 13,
   "id": "717ecb7b",
   "metadata": {},
   "outputs": [
    {
     "data": {
      "text/plain": [
       "2"
      ]
     },
     "metadata": {},
     "output_type": "display_data"
    }
   ],
   "source": [
    "iterations = 2\n",
    "offdiag_sign = \"mix\";\n",
    "max_offdiag = 1.0;\n",
    "Time_Limit = 300.0\n",
    "psi_lb_coef = -10.0\n",
    "phi_lb_coef = -10.0\n",
    "psi_lb = psi_lb_coef * ones(N) \n",
    "psi_ub = 0.0 * ones(N) \n",
    "phi_lb = phi_lb_coef * ones(N) \n",
    "phi_ub = 0.0 * ones(N) \n",
    "gamma_list = [0.0,0.01];\n",
    "dual_norm = 2"
   ]
  },
  {
   "cell_type": "code",
   "execution_count": 14,
   "id": "97c4d3fc",
   "metadata": {},
   "outputs": [
    {
     "name": "stdout",
     "output_type": "stream",
     "text": [
      "Oracle status = OPTIMAL\n",
      "ETO status = OPTIMAL\n",
      "RO status = OPTIMAL\n",
      "iter = 1\n",
      "Oracle status = OPTIMAL\n",
      "ETO status = OPTIMAL\n",
      "RO status = OPTIMAL\n",
      "iter = 2\n"
     ]
    }
   ],
   "source": [
    "Result_All = Dict()\n",
    "iter = 1\n",
    "while iter <= iterations\n",
    "    Input_Data_this = Generate_Input_this(S_train, N, N_u, K, offdiag_sign,max_offdiag,P_bar)\n",
    "    A_true,B_true,P_dag,P_train,PM_train_extend,choice_train,A_hat,B_hat = Get_Input_Data(Input_Data_this)\n",
    "\n",
    "    RST_Oracle,status_Oracle = solve_ETO_this(N,N_u,K,A_true,B_true,A_true, B_true,P_dag,Time_Limit)\n",
    "    println(\"Oracle status = \",status_Oracle)\n",
    "    if status_Oracle != \"OPTIMAL\"\n",
    "        # println(\"Oracle hello world\")\n",
    "        continue\n",
    "    end\n",
    "    RST_ETO,status_ETO = solve_ETO_this(N,N_u,K,A_hat,B_hat,A_true, B_true,P_dag,Time_Limit)\n",
    "    println(\"ETO status = \",status_ETO)\n",
    "    if status_ETO != \"OPTIMAL\"\n",
    "        # println(\"ETO hello world\")\n",
    "        continue\n",
    "    end\n",
    "    \n",
    "    RST_RO,status_RO = solve_RO_this(N,N_u,K,A_hat,B_hat,A_true, B_true,P_dag,psi_lb,psi_ub,phi_lb,phi_ub,gamma_list,dual_norm,Time_Limit)\n",
    "    println(\"RO status = \",status_RO)\n",
    "    if status_RO != \"OPTIMAL\"\n",
    "        # println(\"RO hello world\")\n",
    "        continue\n",
    "    end\n",
    "    Result_All[\"RST_Oracle_iter=$(iter)\"] = RST_Oracle\n",
    "    Result_All[\"RST_ETO_iter=$(iter)\"] = RST_ETO\n",
    "    Result_All[\"RST_RO_iter=$(iter)\"] = RST_RO\n",
    "    println(\"iter = \",iter,)\n",
    "    iter = iter + 1\n",
    "end"
   ]
  },
  {
   "cell_type": "markdown",
   "id": "6314b1a2",
   "metadata": {},
   "source": [
    "### offdiag is zero"
   ]
  },
  {
   "cell_type": "code",
   "execution_count": null,
   "id": "d7167bf6",
   "metadata": {},
   "outputs": [],
   "source": [
    "offdiag_sign = \"mix\";\n",
    "max_offdiag = 1.0;\n",
    "Params = set_Params(N, N_u, K, S_train, S_test, offdiag_sign, max_offdiag, P_bar, RO_coef_all, seed);"
   ]
  },
  {
   "cell_type": "code",
   "execution_count": null,
   "id": "fca93210",
   "metadata": {},
   "outputs": [],
   "source": [
    "sub_file_name = \"N=$(N)_N_u=$(N_u)_K=$(K)_S_train=$(S_train)_offdiag_sign=$(offdiag_sign)_max_offdiag=$(max_offdiag)/\"\n",
    "this_data_file = string(data_dir,project_dir,sub_file_name)\n",
    "if !isdir(this_data_file)\n",
    "    mkpath(this_data_file)\n",
    "end\n",
    "save(string(this_data_file, \"Params.jld2\"), Params);\n",
    "println(this_data_file)"
   ]
  },
  {
   "cell_type": "markdown",
   "id": "e03b3e9c",
   "metadata": {},
   "source": [
    "- Generate Data"
   ]
  },
  {
   "cell_type": "code",
   "execution_count": null,
   "id": "497e41cc",
   "metadata": {},
   "outputs": [],
   "source": [
    "Input_Data = generate_Input_Data(S_train,iterations, N, N_u, K, offdiag_sign,max_offdiag,P_bar);"
   ]
  },
  {
   "cell_type": "markdown",
   "id": "43aff417",
   "metadata": {},
   "source": [
    "- Run Oracle"
   ]
  },
  {
   "cell_type": "code",
   "execution_count": null,
   "id": "b0be9d98",
   "metadata": {},
   "outputs": [],
   "source": [
    "iter = 1\n",
    "A_true = Input_Data[\"iter=$(iter)_A_true\"]\n",
    "B_true = Input_Data[\"iter=$(iter)_B_true\"]\n",
    "P_dag = Input_Data[\"iter=$(iter)_P_dag\"]\n",
    "\n",
    "obj_ETO,X_ETO,Promo_ETO, time_ETO,status_ETO = Solve_ETO_Tem(N,N_u,K,A_true, B_true,P_dag,60.0)"
   ]
  },
  {
   "cell_type": "code",
   "execution_count": null,
   "id": "3e36529e",
   "metadata": {},
   "outputs": [],
   "source": [
    "status_ETO == \"OPTIMAL\" || status_ETO == \"TIME_LIMIT\""
   ]
  },
  {
   "cell_type": "code",
   "execution_count": null,
   "id": "1e2483ef",
   "metadata": {},
   "outputs": [],
   "source": [
    "status_ETO != \"OPTIMAL\""
   ]
  },
  {
   "cell_type": "code",
   "execution_count": null,
   "id": "cc6050d0",
   "metadata": {},
   "outputs": [],
   "source": [
    "status_ETO == MOI.TIME_LIMIT"
   ]
  },
  {
   "cell_type": "code",
   "execution_count": null,
   "id": "e1f9df10",
   "metadata": {},
   "outputs": [],
   "source": [
    "string(status_ETO)"
   ]
  },
  {
   "cell_type": "code",
   "execution_count": null,
   "id": "ad082b68",
   "metadata": {},
   "outputs": [],
   "source": [
    "print_flag=true\n",
    "RST_Oracle = Run_Oracle(iterations, N, N_u, K, Input_Data,print_flag);\n",
    "save(string(this_data_file, \"RST_Oracle.jld2\"), RST_Oracle);"
   ]
  },
  {
   "cell_type": "markdown",
   "id": "152240c0",
   "metadata": {},
   "source": [
    "- Run ETO"
   ]
  },
  {
   "cell_type": "code",
   "execution_count": null,
   "id": "e37110c4",
   "metadata": {},
   "outputs": [],
   "source": [
    "print_flag = true\n",
    "RST_ETO = Run_ETO(iterations, N, N_u, K, Input_Data,print_flag);\n",
    "save(string(this_data_file, \"RST_ETO.jld2\"), RST_ETO);"
   ]
  },
  {
   "cell_type": "markdown",
   "id": "5c54f0ee",
   "metadata": {},
   "source": [
    "- Run RO under different uncertainty set"
   ]
  },
  {
   "cell_type": "code",
   "execution_count": null,
   "id": "2251cf84",
   "metadata": {},
   "outputs": [],
   "source": [
    "gamma_list = [0.0]\n",
    "gamma_list = [0.0,0.01,0.05,0.1,0.12,0.15,0.2,0.25,0.3];\n",
    "dual_norm = 2\n",
    "psi_lb_coef = -10.0\n",
    "phi_lb_coef = -10.0"
   ]
  },
  {
   "cell_type": "code",
   "execution_count": null,
   "id": "f2282db2",
   "metadata": {},
   "outputs": [],
   "source": [
    "RST_RO = Run_RO(gamma_list, dual_norm,iterations, N, N_u, K, Input_Data,print_flag,psi_lb_coef,phi_lb_coef);"
   ]
  },
  {
   "cell_type": "code",
   "execution_count": null,
   "id": "e6c36004",
   "metadata": {},
   "outputs": [],
   "source": [
    "Rev_Oracle = [RST_Oracle[\"iter=$(iter)_Rev\"] for iter in 1:iterations]\n",
    "Rev_ETO = [RST_ETO[\"iter=$(iter)_Rev\"] for iter in 1:iterations]\n",
    "Rev_RO = zeros(iterations,length(gamma_list))\n",
    "for iter in 1:iterations\n",
    "    for g_index in 1:length(gamma_list)\n",
    "        gamma = gamma_list[g_index]\n",
    "        Rev_RO[iter,g_index] = RST_RO[\"iter=$(iter)_RST\"][\"Rev_gamma=$(gamma)\"]\n",
    "    end\n",
    "end\n",
    "println(\"Rev_ETO/Rev_Oracle = \",round.(Rev_ETO./Rev_Oracle,digits=4))\n",
    "println(\"Rev_RO/Rev_Oracle = \",round.(Rev_RO[:,1]./Rev_Oracle,digits=4))\n",
    "println(\"Rev_ETO/Rev_Oracle = \",mean(Rev_ETO)/mean(Rev_Oracle))"
   ]
  },
  {
   "cell_type": "code",
   "execution_count": null,
   "id": "7baa743a",
   "metadata": {},
   "outputs": [],
   "source": [
    "# bad_idx = findall(i -> abs(Rev_ETO[i] - Rev_RO[i,1]) > 0.01, 1:length(Rev_ETO));\n",
    "# keep_idx = setdiff(1:length(Rev_ETO), bad_idx);\n",
    "# Rev_ETO_clean = Rev_ETO[keep_idx];\n",
    "# Rev_Oracle_clean = Rev_Oracle[keep_idx];\n",
    "# Rev_RO_clean = Rev_RO[keep_idx, :];\n",
    "# RO_ETO_Ratio_Mean = zeros(length(gamma_list))\n",
    "# RO_ETO_Ratio_Std = zeros(length(gamma_list))\n",
    "# for g_index in 1:length(gamma_list)\n",
    "#     gamma = gamma_list[g_index]\n",
    "#     RO_ETO_Ratio_Mean[g_index] = mean(Rev_RO_clean[:,g_index])/mean(Rev_ETO_clean)\n",
    "#     RO_ETO_Ratio_Std[g_index] = std(Rev_RO_clean[:,g_index])/std(Rev_ETO_clean)\n",
    "#     println(\"gamma=$gamma,Mean =\",RO_ETO_Ratio_Mean[g_index],\", Std =\",RO_ETO_Ratio_Std[g_index])\n",
    "# end\n",
    "# println(\"Rev_ETO/Rev_Oracle = \",mean(Rev_ETO_clean)/mean(Rev_Oracle_clean))"
   ]
  },
  {
   "cell_type": "code",
   "execution_count": null,
   "id": "7349f1c2",
   "metadata": {},
   "outputs": [],
   "source": [
    "RO_ETO_Ratio_Mean = zeros(length(gamma_list))\n",
    "RO_ETO_Ratio_Std = zeros(length(gamma_list))\n",
    "for g_index in 1:length(gamma_list)\n",
    "    gamma = gamma_list[g_index]\n",
    "    RO_ETO_Ratio_Mean[g_index] = mean(Rev_RO[:,g_index])/mean(Rev_ETO)\n",
    "    RO_ETO_Ratio_Std[g_index] = std(Rev_RO[:,g_index])/std(Rev_ETO)\n",
    "    println(\"gamma=$gamma,Mean =\",RO_ETO_Ratio_Mean[g_index],\", Std =\",RO_ETO_Ratio_Std[g_index])\n",
    "end"
   ]
  },
  {
   "cell_type": "code",
   "execution_count": null,
   "id": "56978b82",
   "metadata": {},
   "outputs": [],
   "source": [
    "end_index = length(gamma_list)\n",
    "plot(gamma_list[1:end_index], RO_ETO_Ratio_Mean[1:end_index], marker=:o, xlabel=L\"\\gamma\", label=\"Average Profit\", xticks=(gamma_list[1:end_index], string.(gamma_list[1:end_index])))\n",
    "plot!(gamma_list[1:end_index], RO_ETO_Ratio_Std[1:end_index], marker=:o, xlabel=L\"\\gamma\", ylabel=\"RPD/ETOPD\", label=\"Std of Profit\")\n",
    "hline!([1.0], linestyle=:dash, color=:red, label=\"\")\n",
    "# savefig(string(data_dir, \"RPD_vs_ETOPD.pdf\"))"
   ]
  },
  {
   "cell_type": "markdown",
   "id": "ad4e147e",
   "metadata": {},
   "source": [
    "### offdiag is positive"
   ]
  },
  {
   "cell_type": "code",
   "execution_count": null,
   "id": "98b91a59",
   "metadata": {},
   "outputs": [],
   "source": [
    "# offdiag_sign = \"positive\";\n",
    "# Params = set_Params(N, N_u, K, S_train, S_test, offdiag_sign, max_offdiag, P_bar, RO_coef_all, seed)"
   ]
  },
  {
   "cell_type": "code",
   "execution_count": null,
   "id": "5ef2df46",
   "metadata": {},
   "outputs": [],
   "source": [
    "# sub_file_name = \"N=$(N)_N_u=$(N_u)_K=$(K)_S_train=$(S_train)_offdiag_sign=$(offdiag_sign)_max_offdiag=$(max_offdiag)/\"\n",
    "# this_data_file = string(data_dir,project_name,sub_file_name)\n",
    "# if !isdir(this_data_file)\n",
    "#     mkpath(this_data_file)\n",
    "# end\n",
    "# save(string(this_data_file, \"Params.jld2\"), Params);"
   ]
  },
  {
   "cell_type": "code",
   "execution_count": null,
   "id": "db9af694",
   "metadata": {},
   "outputs": [],
   "source": [
    "# Random.seed!(seed)\n",
    "# Input_Data = generate_Input_Data(S_train,S_test,iterations, N, N_u, K, offdiag_sign,max_offdiag,P_bar);\n",
    "# Input_Data = Calculate_Hyper_Param(RO_coef_all, iterations, N, N_u, K, Input_Data);\n",
    "# save(string(this_data_file, \"Input_Data.jld2\"), Input_Data);"
   ]
  },
  {
   "cell_type": "code",
   "execution_count": null,
   "id": "0f054212",
   "metadata": {},
   "outputs": [],
   "source": [
    "# print_flag=true\n",
    "# RST_Oracle = Run_Oracle(iterations, N, N_u, K, Input_Data,print_flag);\n",
    "# Rev_Oracle = [RST_Oracle[\"iter=$(iter)_Rev\"] for iter in 1:iterations];\n",
    "# save(string(this_data_file, \"RST_Oracle.jld2\"), RST_Oracle);"
   ]
  },
  {
   "cell_type": "code",
   "execution_count": null,
   "id": "eb30444d",
   "metadata": {},
   "outputs": [],
   "source": [
    "# RST_ETO = Run_ETO(iterations, N, N_u, K, Input_Data,print_flag);\n",
    "# Rev_ETO = [RST_ETO[\"iter=$(iter)_Rev\"] for iter in 1:iterations]\n",
    "# println(\"Rev_ETO/Rev_Oracle = \",round.(Rev_ETO./Rev_Oracle,digits=4))\n",
    "# save(string(this_data_file, \"RST_ETO.jld2\"), RST_ETO);"
   ]
  },
  {
   "cell_type": "code",
   "execution_count": null,
   "id": "ac14eb87",
   "metadata": {},
   "outputs": [],
   "source": [
    "# model_name=\"Two_Side\"\n",
    "# RST_RO = Dict(); Rev_RO = Dict();\n",
    "# for RO_coef in RO_coef_all\n",
    "#     println(\"Running RO with RO_coef = \",RO_coef)\n",
    "#     RST_RO_this = Run_RO_with_RO_coef(RO_coef, iterations, N, N_u, K, Input_Data, 0.0,model_name,false);\n",
    "#     RST_RO[\"RO_coef=$(RO_coef)\"] = RST_RO_this\n",
    "#     Rev_RO[\"RO_coef=$(RO_coef)\"] = [RST_RO_this[\"iter=$(iter)_Rev\"] for iter in 1:iterations]\n",
    "# end\n",
    "# save(string(this_data_file, \"RST_RO.jld2\"), RST_RO);"
   ]
  },
  {
   "cell_type": "code",
   "execution_count": null,
   "id": "db2af615",
   "metadata": {},
   "outputs": [],
   "source": [
    "# for RO_coef in RO_coef_all\n",
    "#     Rev_RO_this = Rev_RO[\"RO_coef=$(RO_coef)\"]\n",
    "#     println(\"Average = \",round(mean(Rev_RO_this./Rev_ETO),digits=4),\", Rev_RO/Rev_ETO for RO_coef=$(RO_coef) = \",round.(Rev_RO_this./Rev_ETO,digits=4),)\n",
    "# end"
   ]
  },
  {
   "cell_type": "markdown",
   "id": "211a7218",
   "metadata": {},
   "source": [
    "### offdiag is negative"
   ]
  },
  {
   "cell_type": "code",
   "execution_count": null,
   "id": "c4cf05bd",
   "metadata": {},
   "outputs": [],
   "source": [
    "# offdiag_sign = \"negative\";\n",
    "# Params = set_Params(N, N_u, K, S_train, S_test, offdiag_sign, max_offdiag, P_bar, RO_coef_all, seed)"
   ]
  },
  {
   "cell_type": "code",
   "execution_count": null,
   "id": "a72702ab",
   "metadata": {},
   "outputs": [],
   "source": [
    "# sub_file_name = \"N=$(N)_N_u=$(N_u)_K=$(K)_S_train=$(S_train)_offdiag_sign=$(offdiag_sign)_max_offdiag=$(max_offdiag)/\"\n",
    "# this_data_file = string(data_dir,project_name,sub_file_name)\n",
    "# if !isdir(this_data_file)\n",
    "#     mkpath(this_data_file)\n",
    "# end\n",
    "# save(string(this_data_file, \"Params.jld2\"), Params);"
   ]
  },
  {
   "cell_type": "code",
   "execution_count": null,
   "id": "9071c26c",
   "metadata": {},
   "outputs": [],
   "source": [
    "# print_flag=true\n",
    "# RST_Oracle = Run_Oracle(iterations, N, N_u, K, Input_Data,print_flag);\n",
    "# Rev_Oracle = [RST_Oracle[\"iter=$(iter)_Rev\"] for iter in 1:iterations];\n",
    "# save(string(this_data_file, \"RST_Oracle.jld2\"), RST_Oracle);"
   ]
  },
  {
   "cell_type": "code",
   "execution_count": null,
   "id": "610d6a10",
   "metadata": {},
   "outputs": [],
   "source": [
    "# RST_ETO = Run_ETO(iterations, N, N_u, K, Input_Data,print_flag);\n",
    "# Rev_ETO = [RST_ETO[\"iter=$(iter)_Rev\"] for iter in 1:iterations]\n",
    "# println(\"Rev_ETO/Rev_Oracle = \",round.(Rev_ETO./Rev_Oracle,digits=4))\n",
    "# save(string(this_data_file, \"RST_ETO.jld2\"), RST_ETO);"
   ]
  },
  {
   "cell_type": "code",
   "execution_count": null,
   "id": "b995846a",
   "metadata": {},
   "outputs": [],
   "source": [
    "# model_name=\"Two_Side\"\n",
    "# RST_RO = Dict(); Rev_RO = Dict();\n",
    "# for RO_coef in RO_coef_all\n",
    "#     println(\"Running RO with RO_coef = \",RO_coef)\n",
    "#     RST_RO_this = Run_RO_with_RO_coef(RO_coef, iterations, N, N_u, K, Input_Data, 0.0,model_name,false);\n",
    "#     RST_RO[\"RO_coef=$(RO_coef)\"] = RST_RO_this\n",
    "#     Rev_RO[\"RO_coef=$(RO_coef)\"] = [RST_RO_this[\"iter=$(iter)_Rev\"] for iter in 1:iterations]\n",
    "# end\n",
    "# save(string(this_data_file, \"RST_RO.jld2\"), RST_RO);"
   ]
  }
 ],
 "metadata": {
  "kernelspec": {
   "display_name": "Julia 1.11.7",
   "language": "julia",
   "name": "julia-1.11"
  },
  "language_info": {
   "file_extension": ".jl",
   "mimetype": "application/julia",
   "name": "julia",
   "version": "1.11.7"
  }
 },
 "nbformat": 4,
 "nbformat_minor": 5
}
