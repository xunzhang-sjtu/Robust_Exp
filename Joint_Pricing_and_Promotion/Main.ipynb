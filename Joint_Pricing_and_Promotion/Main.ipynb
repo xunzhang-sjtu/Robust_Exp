{
 "cells": [
  {
   "cell_type": "code",
   "execution_count": 1,
   "id": "ea7846fb",
   "metadata": {},
   "outputs": [
    {
     "data": {
      "text/plain": [
       "Solve_RO_one_side_exp (generic function with 1 method)"
      ]
     },
     "metadata": {},
     "output_type": "display_data"
    }
   ],
   "source": [
    "using LinearAlgebra\n",
    "using Distributions\n",
    "using Optim\n",
    "using Random\n",
    "using StatsFuns\n",
    "using JuMP\n",
    "using MosekTools\n",
    "using StatsBase\n",
    "using SparseArrays # 可选，用于处理稀疏性（如果数据量很大）\n",
    "using FileIO\n",
    "using JLD2\n",
    "using Plots\n",
    "using LaTeXStrings\n",
    "using DataFrames, Colors\n",
    "using StatsPlots   # 提供 boxplot，基于 Plots\n",
    "\n",
    "include(\"Data_Generation_PP.jl\")\n",
    "include(\"Estimation_PP.jl\")\n",
    "include(\"Evaluation_PP.jl\")\n",
    "# # include(\"Plot_Figures.jl\")\n",
    "include(\"Implement_All_Methods_PP.jl\")\n",
    "include(\"Models_PP.jl\")"
   ]
  },
  {
   "cell_type": "code",
   "execution_count": 2,
   "id": "f424ebee",
   "metadata": {},
   "outputs": [],
   "source": [
    "current_dir = pwd()\n",
    "parent_dir = dirname(current_dir)\n",
    "grand_pa_dir = dirname(parent_dir)\n",
    "data_dir = string(dirname(grand_pa_dir), \"/Data/\")\n",
    "if !isdir(data_dir)\n",
    "    mkpath(data_dir)\n",
    "end"
   ]
  },
  {
   "cell_type": "markdown",
   "id": "bc1238ab",
   "metadata": {},
   "source": [
    "## Functions"
   ]
  },
  {
   "cell_type": "code",
   "execution_count": 3,
   "id": "83d6f208",
   "metadata": {},
   "outputs": [
    {
     "data": {
      "text/plain": [
       "set_Params (generic function with 1 method)"
      ]
     },
     "metadata": {},
     "output_type": "display_data"
    }
   ],
   "source": [
    "function set_Params(N, N_u, K, S_train, S_test, offdiag_sign, max_offdiag, P_bar, RO_coef_all, seed)\n",
    "    Params = Dict()\n",
    "    Params[\"N\"] = N\n",
    "    Params[\"N_u\"] = N_u\n",
    "    Params[\"K\"] = K\n",
    "    Params[\"S_train\"] = S_train\n",
    "    Params[\"S_test\"] = S_test\n",
    "    Params[\"offdiag_sign\"] = offdiag_sign\n",
    "    Params[\"max_offdiag\"] = max_offdiag\n",
    "    Params[\"P_bar\"] = P_bar\n",
    "    Params[\"RO_coef_all\"] = RO_coef_all\n",
    "    Params[\"seed\"] = seed\n",
    "    return Params\n",
    "end"
   ]
  },
  {
   "cell_type": "markdown",
   "id": "9568927e",
   "metadata": {},
   "source": [
    "## Evaluate"
   ]
  },
  {
   "cell_type": "markdown",
   "id": "b6eef9dc",
   "metadata": {},
   "source": [
    "#### Baseline Parameters"
   ]
  },
  {
   "cell_type": "code",
   "execution_count": 11,
   "id": "f8321a1a",
   "metadata": {},
   "outputs": [
    {
     "data": {
      "text/plain": [
       "\"Joint_Pricing_and_Promotion/\""
      ]
     },
     "metadata": {},
     "output_type": "display_data"
    }
   ],
   "source": [
    "seed = 1;\n",
    "N = 5;\n",
    "N_u = 1;\n",
    "K = 10;\n",
    "S_train = 500;\n",
    "S_test = 1000;\n",
    "P_bar = 5.0;\n",
    "iterations = 10;\n",
    "# RO_coef_all = [0.0];\n",
    "RO_coef_all = [0.0,0.01,0.05,0.1,0.12,0.15,0.2,0.25,0.3];\n",
    "Random.seed!(seed)\n",
    "project_dir = \"Joint_Pricing_and_Promotion/\""
   ]
  },
  {
   "cell_type": "markdown",
   "id": "6314b1a2",
   "metadata": {},
   "source": [
    "### offdiag is zero"
   ]
  },
  {
   "cell_type": "code",
   "execution_count": 12,
   "id": "d7167bf6",
   "metadata": {},
   "outputs": [],
   "source": [
    "offdiag_sign = \"zero\";\n",
    "max_offdiag = 1.0;\n",
    "Params = set_Params(N, N_u, K, S_train, S_test, offdiag_sign, max_offdiag, P_bar, RO_coef_all, seed);"
   ]
  },
  {
   "cell_type": "code",
   "execution_count": 13,
   "id": "fca93210",
   "metadata": {},
   "outputs": [
    {
     "name": "stdout",
     "output_type": "stream",
     "text": [
      "/Users/zhangxun/Dropbox/Research/Robust_Exp/Data/Joint_Pricing_and_Promotion/N=5_N_u=1_K=10_S_train=500_offdiag_sign=zero_max_offdiag=1.0/\n"
     ]
    }
   ],
   "source": [
    "sub_file_name = \"N=$(N)_N_u=$(N_u)_K=$(K)_S_train=$(S_train)_offdiag_sign=$(offdiag_sign)_max_offdiag=$(max_offdiag)/\"\n",
    "this_data_file = string(data_dir,project_dir,sub_file_name)\n",
    "if !isdir(this_data_file)\n",
    "    mkpath(this_data_file)\n",
    "end\n",
    "save(string(this_data_file, \"Params.jld2\"), Params);\n",
    "println(this_data_file)"
   ]
  },
  {
   "cell_type": "markdown",
   "id": "e03b3e9c",
   "metadata": {},
   "source": [
    "- Generate Data"
   ]
  },
  {
   "cell_type": "code",
   "execution_count": 14,
   "id": "497e41cc",
   "metadata": {},
   "outputs": [
    {
     "name": "stdout",
     "output_type": "stream",
     "text": [
      "****** iter = 1 ********\n",
      "****** iter = 2 ********\n",
      "****** iter = 3 ********\n",
      "****** iter = 4 ********\n",
      "****** iter = 5 ********\n",
      "****** iter = 6 ********\n",
      "****** iter = 7 ********\n",
      "****** iter = 8 ********\n",
      "****** iter = 9 ********\n",
      "****** iter = 10 ********\n"
     ]
    }
   ],
   "source": [
    "Input_Data = generate_Input_Data(S_train,iterations, N, N_u, K, offdiag_sign,max_offdiag,P_bar);"
   ]
  },
  {
   "cell_type": "markdown",
   "id": "43aff417",
   "metadata": {},
   "source": [
    "- Run Oracle"
   ]
  },
  {
   "cell_type": "code",
   "execution_count": 15,
   "id": "ad082b68",
   "metadata": {},
   "outputs": [
    {
     "name": "stdout",
     "output_type": "stream",
     "text": [
      "iter=1: rev_Oracle = 0.3369, price_Oracle = [0.58, 0.78, 0.6, 1.11, 0.86]\n",
      "iter=2: rev_Oracle = 0.370222, price_Oracle = [0.71, 0.7, 0.71, 0.63, 0.66]\n",
      "iter=3: rev_Oracle = 0.403233, price_Oracle = [0.75, 0.98, 0.6, 0.8, 0.98]\n",
      "iter=4: rev_Oracle = 0.369691, price_Oracle = [0.84, 0.88, 0.97, 0.86, 0.78]\n",
      "iter=5: rev_Oracle = 0.446074, price_Oracle = [0.8, 0.6, 0.77, 1.97, 1.38]\n",
      "iter=6: rev_Oracle = 0.291272, price_Oracle = [1.05, 0.64, 0.52, 0.52, 1.55]\n",
      "iter=7: rev_Oracle = 0.406246, price_Oracle = [0.99, 1.57, 1.63, 1.12, 0.97]\n",
      "iter=8: rev_Oracle = 0.305359, price_Oracle = [0.65, 0.93, 0.84, 0.79, 0.63]\n",
      "iter=9: rev_Oracle = 0.450646, price_Oracle = [0.54, 0.88, 1.31, 1.34, 0.82]\n",
      "iter=10: rev_Oracle = 0.607703, price_Oracle = [0.86, 0.79, 1.0, 1.19, 1.31]\n"
     ]
    }
   ],
   "source": [
    "print_flag=true\n",
    "RST_Oracle = Run_Oracle(iterations, N, N_u, K, Input_Data,print_flag);\n",
    "save(string(this_data_file, \"RST_Oracle.jld2\"), RST_Oracle);"
   ]
  },
  {
   "cell_type": "markdown",
   "id": "152240c0",
   "metadata": {},
   "source": [
    "- Run ETO"
   ]
  },
  {
   "cell_type": "code",
   "execution_count": 16,
   "id": "e37110c4",
   "metadata": {},
   "outputs": [
    {
     "name": "stdout",
     "output_type": "stream",
     "text": [
      "iter=1: rev_ETO = 0.073359, price_ETO = [4.52, 0.78, 4.56, 5.0, 0.09]\n",
      "iter=2: rev_ETO = 0.350192, price_ETO = [0.71, 0.92, 0.71, 4.87, 1.26]\n",
      "iter=3: rev_ETO = 0.352768, price_ETO = [0.94, 0.84, 0.97, 0.8, 0.48]\n",
      "iter=4: rev_ETO = 0.1954, price_ETO = [4.34, 4.81, 0.97, 0.27, 0.97]\n",
      "iter=5: rev_ETO = 0.394043, price_ETO = [0.8, 4.94, 1.24, 4.48, 1.38]\n",
      "iter=6: rev_ETO = 0.263603, price_ETO = [4.97, 0.64, 0.7, 0.52, 1.55]\n",
      "iter=7: rev_ETO = 0.404875, price_ETO = [0.99, 4.11, 1.63, 1.12, 0.97]\n",
      "iter=8: rev_ETO = 0.239028, price_ETO = [1.12, 4.41, 0.84, 0.79, 0.74]\n",
      "iter=9: rev_ETO = 0.312155, price_ETO = [0.54, 1.9, 4.9, 1.34, 3.88]\n",
      "iter=10: rev_ETO = 0.517006, price_ETO = [0.08, 3.79, 1.11, 1.66, 1.31]\n"
     ]
    }
   ],
   "source": [
    "print_flag = true\n",
    "RST_ETO = Run_ETO(iterations, N, N_u, K, Input_Data,print_flag);\n",
    "save(string(this_data_file, \"RST_ETO.jld2\"), RST_ETO);"
   ]
  },
  {
   "cell_type": "code",
   "execution_count": 17,
   "id": "a1927571",
   "metadata": {},
   "outputs": [
    {
     "name": "stdout",
     "output_type": "stream",
     "text": [
      "Rev_ETO/Rev_Oracle = [0.2177, 0.9459, 0.8748, 0.5286, 0.8834, 0.905, 0.9966, 0.7828, 0.6927, 0.8508]\n"
     ]
    }
   ],
   "source": [
    "Rev_Oracle = [RST_Oracle[\"iter=$(iter)_Rev\"] for iter in 1:iterations]\n",
    "Rev_ETO = [RST_ETO[\"iter=$(iter)_Rev\"] for iter in 1:iterations]\n",
    "println(\"Rev_ETO/Rev_Oracle = \",round.(Rev_ETO./Rev_Oracle,digits=4))"
   ]
  },
  {
   "cell_type": "markdown",
   "id": "5c54f0ee",
   "metadata": {},
   "source": [
    "- Run RO under different uncertainty set"
   ]
  },
  {
   "cell_type": "code",
   "execution_count": null,
   "id": "964da926",
   "metadata": {},
   "outputs": [],
   "source": [
    "model_name=\"Two_Side\"\n",
    "RST_RO = Dict(); Rev_RO = Dict();\n",
    "for RO_coef in RO_coef_all\n",
    "    println(\"Running RO with RO_coef = \",RO_coef)\n",
    "    RST_RO_this = Run_RO(RO_coef, iterations, N, N_u, K, Input_Data,0.0,model_name,false);\n",
    "    RST_RO[\"RO_coef=$(RO_coef)\"] = RST_RO_this\n",
    "    Rev_RO[\"RO_coef=$(RO_coef)\"] = [RST_RO_this[\"iter=$(iter)_Rev\"] for iter in 1:iterations]\n",
    "end\n",
    "save(string(this_data_file, \"RST_RO.jld2\"), RST_RO);"
   ]
  },
  {
   "cell_type": "code",
   "execution_count": null,
   "id": "20974eb4",
   "metadata": {},
   "outputs": [],
   "source": [
    "Rev_Oracle = [RST_Oracle[\"iter=$(iter)_Rev\"] for iter in 1:iterations];\n",
    "Rev_ETO = [RST_ETO[\"iter=$(iter)_Rev\"] for iter in 1:iterations];\n",
    "Rev_RO = Dict();\n",
    "for RO_coef in RO_coef_all\n",
    "    RST_RO_this = RST_RO[\"RO_coef=$(RO_coef)\"]\n",
    "    Rev_RO[\"RO_coef=$(RO_coef)\"] = [RST_RO_this[\"iter=$(iter)_Rev\"] for iter in 1:iterations];\n",
    "end\n",
    "\n",
    "println(\"Mean Rev_Oracle: \", mean(Rev_Oracle));\n",
    "println(\"Mean Rev_ETO: \", mean(Rev_ETO));\n",
    "Rev_RO_Avg = [mean(Rev_RO[\"RO_coef=$(RO_coef)\"]) for RO_coef in RO_coef_all];\n",
    "println(\"Mean Rev_RO: \", Rev_RO_Avg);"
   ]
  },
  {
   "cell_type": "code",
   "execution_count": null,
   "id": "2aff52c8",
   "metadata": {},
   "outputs": [],
   "source": [
    "ratio = Rev_RO_Avg ./ mean(Rev_ETO)\n",
    "plot(RO_coef_all, ratio, marker=:o, xlabel=\"RO_coef\", ylabel=\"Rev_RO_Avg / Rev_ETO_Avg\", legend=false)\n",
    "hline!([1.0], linestyle=:dash, color=:red, label=\"y=1.0\")\n",
    "# savefig(plt, \"Rev_RO_Avg_vs_Rev_ETO_Avg.png\")  # 保存为当前目录下的PNG图片"
   ]
  },
  {
   "cell_type": "code",
   "execution_count": null,
   "id": "e86416fc",
   "metadata": {},
   "outputs": [],
   "source": [
    "plot_boxplot(RO_coef_all[1:5],Rev_ETO,Rev_RO)"
   ]
  },
  {
   "cell_type": "markdown",
   "id": "ad4e147e",
   "metadata": {},
   "source": [
    "### offdiag is positive"
   ]
  },
  {
   "cell_type": "code",
   "execution_count": null,
   "id": "98b91a59",
   "metadata": {},
   "outputs": [],
   "source": [
    "# offdiag_sign = \"positive\";\n",
    "# Params = set_Params(N, N_u, K, S_train, S_test, offdiag_sign, max_offdiag, P_bar, RO_coef_all, seed)"
   ]
  },
  {
   "cell_type": "code",
   "execution_count": null,
   "id": "5ef2df46",
   "metadata": {},
   "outputs": [],
   "source": [
    "# sub_file_name = \"N=$(N)_N_u=$(N_u)_K=$(K)_S_train=$(S_train)_offdiag_sign=$(offdiag_sign)_max_offdiag=$(max_offdiag)/\"\n",
    "# this_data_file = string(data_dir,project_name,sub_file_name)\n",
    "# if !isdir(this_data_file)\n",
    "#     mkpath(this_data_file)\n",
    "# end\n",
    "# save(string(this_data_file, \"Params.jld2\"), Params);"
   ]
  },
  {
   "cell_type": "code",
   "execution_count": null,
   "id": "db9af694",
   "metadata": {},
   "outputs": [],
   "source": [
    "# Random.seed!(seed)\n",
    "# Input_Data = generate_Input_Data(S_train,S_test,iterations, N, N_u, K, offdiag_sign,max_offdiag,P_bar);\n",
    "# Input_Data = Calculate_Hyper_Param(RO_coef_all, iterations, N, N_u, K, Input_Data);\n",
    "# save(string(this_data_file, \"Input_Data.jld2\"), Input_Data);"
   ]
  },
  {
   "cell_type": "code",
   "execution_count": null,
   "id": "0f054212",
   "metadata": {},
   "outputs": [],
   "source": [
    "# print_flag=true\n",
    "# RST_Oracle = Run_Oracle(iterations, N, N_u, K, Input_Data,print_flag);\n",
    "# Rev_Oracle = [RST_Oracle[\"iter=$(iter)_Rev\"] for iter in 1:iterations];\n",
    "# save(string(this_data_file, \"RST_Oracle.jld2\"), RST_Oracle);"
   ]
  },
  {
   "cell_type": "code",
   "execution_count": null,
   "id": "eb30444d",
   "metadata": {},
   "outputs": [],
   "source": [
    "# RST_ETO = Run_ETO(iterations, N, N_u, K, Input_Data,print_flag);\n",
    "# Rev_ETO = [RST_ETO[\"iter=$(iter)_Rev\"] for iter in 1:iterations]\n",
    "# println(\"Rev_ETO/Rev_Oracle = \",round.(Rev_ETO./Rev_Oracle,digits=4))\n",
    "# save(string(this_data_file, \"RST_ETO.jld2\"), RST_ETO);"
   ]
  },
  {
   "cell_type": "code",
   "execution_count": null,
   "id": "ac14eb87",
   "metadata": {},
   "outputs": [],
   "source": [
    "# model_name=\"Two_Side\"\n",
    "# RST_RO = Dict(); Rev_RO = Dict();\n",
    "# for RO_coef in RO_coef_all\n",
    "#     println(\"Running RO with RO_coef = \",RO_coef)\n",
    "#     RST_RO_this = Run_RO_with_RO_coef(RO_coef, iterations, N, N_u, K, Input_Data, 0.0,model_name,false);\n",
    "#     RST_RO[\"RO_coef=$(RO_coef)\"] = RST_RO_this\n",
    "#     Rev_RO[\"RO_coef=$(RO_coef)\"] = [RST_RO_this[\"iter=$(iter)_Rev\"] for iter in 1:iterations]\n",
    "# end\n",
    "# save(string(this_data_file, \"RST_RO.jld2\"), RST_RO);"
   ]
  },
  {
   "cell_type": "code",
   "execution_count": null,
   "id": "db2af615",
   "metadata": {},
   "outputs": [],
   "source": [
    "# for RO_coef in RO_coef_all\n",
    "#     Rev_RO_this = Rev_RO[\"RO_coef=$(RO_coef)\"]\n",
    "#     println(\"Average = \",round(mean(Rev_RO_this./Rev_ETO),digits=4),\", Rev_RO/Rev_ETO for RO_coef=$(RO_coef) = \",round.(Rev_RO_this./Rev_ETO,digits=4),)\n",
    "# end"
   ]
  },
  {
   "cell_type": "markdown",
   "id": "211a7218",
   "metadata": {},
   "source": [
    "### offdiag is negative"
   ]
  },
  {
   "cell_type": "code",
   "execution_count": null,
   "id": "c4cf05bd",
   "metadata": {},
   "outputs": [],
   "source": [
    "# offdiag_sign = \"negative\";\n",
    "# Params = set_Params(N, N_u, K, S_train, S_test, offdiag_sign, max_offdiag, P_bar, RO_coef_all, seed)"
   ]
  },
  {
   "cell_type": "code",
   "execution_count": null,
   "id": "a72702ab",
   "metadata": {},
   "outputs": [],
   "source": [
    "# sub_file_name = \"N=$(N)_N_u=$(N_u)_K=$(K)_S_train=$(S_train)_offdiag_sign=$(offdiag_sign)_max_offdiag=$(max_offdiag)/\"\n",
    "# this_data_file = string(data_dir,project_name,sub_file_name)\n",
    "# if !isdir(this_data_file)\n",
    "#     mkpath(this_data_file)\n",
    "# end\n",
    "# save(string(this_data_file, \"Params.jld2\"), Params);"
   ]
  },
  {
   "cell_type": "code",
   "execution_count": null,
   "id": "9071c26c",
   "metadata": {},
   "outputs": [],
   "source": [
    "# print_flag=true\n",
    "# RST_Oracle = Run_Oracle(iterations, N, N_u, K, Input_Data,print_flag);\n",
    "# Rev_Oracle = [RST_Oracle[\"iter=$(iter)_Rev\"] for iter in 1:iterations];\n",
    "# save(string(this_data_file, \"RST_Oracle.jld2\"), RST_Oracle);"
   ]
  },
  {
   "cell_type": "code",
   "execution_count": null,
   "id": "610d6a10",
   "metadata": {},
   "outputs": [],
   "source": [
    "# RST_ETO = Run_ETO(iterations, N, N_u, K, Input_Data,print_flag);\n",
    "# Rev_ETO = [RST_ETO[\"iter=$(iter)_Rev\"] for iter in 1:iterations]\n",
    "# println(\"Rev_ETO/Rev_Oracle = \",round.(Rev_ETO./Rev_Oracle,digits=4))\n",
    "# save(string(this_data_file, \"RST_ETO.jld2\"), RST_ETO);"
   ]
  },
  {
   "cell_type": "code",
   "execution_count": null,
   "id": "b995846a",
   "metadata": {},
   "outputs": [],
   "source": [
    "# model_name=\"Two_Side\"\n",
    "# RST_RO = Dict(); Rev_RO = Dict();\n",
    "# for RO_coef in RO_coef_all\n",
    "#     println(\"Running RO with RO_coef = \",RO_coef)\n",
    "#     RST_RO_this = Run_RO_with_RO_coef(RO_coef, iterations, N, N_u, K, Input_Data, 0.0,model_name,false);\n",
    "#     RST_RO[\"RO_coef=$(RO_coef)\"] = RST_RO_this\n",
    "#     Rev_RO[\"RO_coef=$(RO_coef)\"] = [RST_RO_this[\"iter=$(iter)_Rev\"] for iter in 1:iterations]\n",
    "# end\n",
    "# save(string(this_data_file, \"RST_RO.jld2\"), RST_RO);"
   ]
  }
 ],
 "metadata": {
  "kernelspec": {
   "display_name": "Julia 1.11.7",
   "language": "julia",
   "name": "julia-1.11"
  },
  "language_info": {
   "file_extension": ".jl",
   "mimetype": "application/julia",
   "name": "julia",
   "version": "1.11.7"
  }
 },
 "nbformat": 4,
 "nbformat_minor": 5
}
