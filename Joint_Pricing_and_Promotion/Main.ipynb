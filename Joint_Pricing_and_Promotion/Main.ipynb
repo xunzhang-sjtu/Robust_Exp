{
 "cells": [
  {
   "cell_type": "code",
   "execution_count": 1,
   "id": "ea7846fb",
   "metadata": {},
   "outputs": [
    {
     "data": {
      "text/plain": [
       "Solve_RO (generic function with 1 method)"
      ]
     },
     "metadata": {},
     "output_type": "display_data"
    }
   ],
   "source": [
    "using LinearAlgebra\n",
    "using Distributions\n",
    "using Optim\n",
    "using Random\n",
    "using StatsFuns\n",
    "using JuMP\n",
    "using MosekTools\n",
    "using StatsBase\n",
    "using SparseArrays # 可选，用于处理稀疏性（如果数据量很大）\n",
    "using FileIO\n",
    "using JLD2\n",
    "using Plots\n",
    "using LaTeXStrings\n",
    "using DataFrames, Colors\n",
    "using StatsPlots   # 提供 boxplot，基于 Plots\n",
    "\n",
    "include(\"Data_Generation_PP.jl\")\n",
    "include(\"Estimation_PP.jl\")\n",
    "include(\"Evaluation_PP.jl\")\n",
    "# # include(\"Plot_Figures.jl\")\n",
    "include(\"Implement_All_Methods_PP.jl\")\n",
    "include(\"Models_PP.jl\")"
   ]
  },
  {
   "cell_type": "code",
   "execution_count": 2,
   "id": "f424ebee",
   "metadata": {},
   "outputs": [],
   "source": [
    "current_dir = pwd()\n",
    "parent_dir = dirname(current_dir)\n",
    "grand_pa_dir = dirname(parent_dir)\n",
    "data_dir = string(dirname(grand_pa_dir), \"/Data/\")\n",
    "if !isdir(data_dir)\n",
    "    mkpath(data_dir)\n",
    "end"
   ]
  },
  {
   "cell_type": "markdown",
   "id": "bc1238ab",
   "metadata": {},
   "source": [
    "## Functions"
   ]
  },
  {
   "cell_type": "code",
   "execution_count": 3,
   "id": "83d6f208",
   "metadata": {},
   "outputs": [
    {
     "data": {
      "text/plain": [
       "set_Params (generic function with 1 method)"
      ]
     },
     "metadata": {},
     "output_type": "display_data"
    }
   ],
   "source": [
    "function set_Params(N, N_u, K, S_train, S_test, offdiag_sign, max_offdiag, P_bar, RO_coef_all, seed)\n",
    "    Params = Dict()\n",
    "    Params[\"N\"] = N\n",
    "    Params[\"N_u\"] = N_u\n",
    "    Params[\"K\"] = K\n",
    "    Params[\"S_train\"] = S_train\n",
    "    Params[\"S_test\"] = S_test\n",
    "    Params[\"offdiag_sign\"] = offdiag_sign\n",
    "    Params[\"max_offdiag\"] = max_offdiag\n",
    "    Params[\"P_bar\"] = P_bar\n",
    "    Params[\"RO_coef_all\"] = RO_coef_all\n",
    "    Params[\"seed\"] = seed\n",
    "    return Params\n",
    "end"
   ]
  },
  {
   "cell_type": "markdown",
   "id": "9568927e",
   "metadata": {},
   "source": [
    "## Evaluate"
   ]
  },
  {
   "cell_type": "markdown",
   "id": "b6eef9dc",
   "metadata": {},
   "source": [
    "#### Baseline Parameters"
   ]
  },
  {
   "cell_type": "code",
   "execution_count": 14,
   "id": "f8321a1a",
   "metadata": {},
   "outputs": [
    {
     "data": {
      "text/plain": [
       "\"Joint_Pricing_and_Promotion/\""
      ]
     },
     "metadata": {},
     "output_type": "display_data"
    }
   ],
   "source": [
    "seed = 1;\n",
    "N = 5;\n",
    "N_u = 1;\n",
    "K = 10;\n",
    "S_train = 200;\n",
    "S_test = 1000;\n",
    "P_bar = 5.0;\n",
    "iterations = 10;\n",
    "# RO_coef_all = [0.0];\n",
    "RO_coef_all = [0.0,0.01,0.05,0.1,0.12,0.15,0.2,0.25,0.3];\n",
    "Random.seed!(seed)\n",
    "project_dir = \"Joint_Pricing_and_Promotion/\""
   ]
  },
  {
   "cell_type": "markdown",
   "id": "6314b1a2",
   "metadata": {},
   "source": [
    "### offdiag is zero"
   ]
  },
  {
   "cell_type": "code",
   "execution_count": 15,
   "id": "d7167bf6",
   "metadata": {},
   "outputs": [],
   "source": [
    "offdiag_sign = \"mix\";\n",
    "max_offdiag = 1.0;\n",
    "Params = set_Params(N, N_u, K, S_train, S_test, offdiag_sign, max_offdiag, P_bar, RO_coef_all, seed);"
   ]
  },
  {
   "cell_type": "code",
   "execution_count": 16,
   "id": "fca93210",
   "metadata": {},
   "outputs": [
    {
     "name": "stdout",
     "output_type": "stream",
     "text": [
      "/Users/zhangxun/Dropbox/Research/Robust_Exp/Data/Joint_Pricing_and_Promotion/N=5_N_u=1_K=10_S_train=200_offdiag_sign=mix_max_offdiag=1.0/\n"
     ]
    }
   ],
   "source": [
    "sub_file_name = \"N=$(N)_N_u=$(N_u)_K=$(K)_S_train=$(S_train)_offdiag_sign=$(offdiag_sign)_max_offdiag=$(max_offdiag)/\"\n",
    "this_data_file = string(data_dir,project_dir,sub_file_name)\n",
    "if !isdir(this_data_file)\n",
    "    mkpath(this_data_file)\n",
    "end\n",
    "save(string(this_data_file, \"Params.jld2\"), Params);\n",
    "println(this_data_file)"
   ]
  },
  {
   "cell_type": "markdown",
   "id": "e03b3e9c",
   "metadata": {},
   "source": [
    "- Generate Data"
   ]
  },
  {
   "cell_type": "code",
   "execution_count": 17,
   "id": "497e41cc",
   "metadata": {},
   "outputs": [
    {
     "name": "stdout",
     "output_type": "stream",
     "text": [
      "****** iter = 1 ********\n",
      "****** iter = 2 ********\n",
      "****** iter = 3 ********\n",
      "****** iter = 4 ********\n",
      "****** iter = 5 ********\n",
      "****** iter = 6 ********\n",
      "****** iter = 7 ********\n",
      "****** iter = 8 ********\n",
      "****** iter = 9 ********\n",
      "****** iter = 10 ********\n"
     ]
    }
   ],
   "source": [
    "Input_Data = generate_Input_Data(S_train,iterations, N, N_u, K, offdiag_sign,max_offdiag,P_bar);"
   ]
  },
  {
   "cell_type": "markdown",
   "id": "43aff417",
   "metadata": {},
   "source": [
    "- Run Oracle"
   ]
  },
  {
   "cell_type": "code",
   "execution_count": 18,
   "id": "ad082b68",
   "metadata": {},
   "outputs": [
    {
     "name": "stdout",
     "output_type": "stream",
     "text": [
      "iter=1: rev_Oracle = 2.330864, price_Oracle = [3.62, 4.58, 4.73, 4.82, 2.4]\n",
      "iter=2: rev_Oracle = 1.879285, price_Oracle = [1.95, 4.52, 3.47, 2.52, 5.0]\n",
      "iter=3: rev_Oracle = 1.999128, price_Oracle = [4.09, 4.29, 4.84, 0.55, 2.44]\n",
      "iter=4: rev_Oracle = 1.952183, price_Oracle = [4.17, 2.01, 4.87, 4.53, 4.66]\n",
      "iter=5: rev_Oracle = 1.917262, price_Oracle = [0.32, 4.95, 4.1, 2.08, 4.3]\n",
      "iter=6: rev_Oracle = 1.14296, price_Oracle = [1.47, 4.89, 0.6, 4.87, 1.43]\n",
      "iter=7: rev_Oracle = 2.789089, price_Oracle = [4.6, 4.41, 0.47, 4.74, 3.6]\n",
      "iter=8: rev_Oracle = 1.334824, price_Oracle = [4.23, 4.34, 0.02, 0.43, 1.42]\n",
      "iter=9: rev_Oracle = 1.757298, price_Oracle = [1.2, 1.05, 4.73, 2.46, 2.09]\n",
      "iter=10: rev_Oracle = 3.37768, price_Oracle = [4.94, 4.19, 3.83, 4.97, 4.84]\n"
     ]
    }
   ],
   "source": [
    "print_flag=true\n",
    "RST_Oracle = Run_Oracle(iterations, N, N_u, K, Input_Data,print_flag);\n",
    "save(string(this_data_file, \"RST_Oracle.jld2\"), RST_Oracle);"
   ]
  },
  {
   "cell_type": "markdown",
   "id": "152240c0",
   "metadata": {},
   "source": [
    "- Run ETO"
   ]
  },
  {
   "cell_type": "code",
   "execution_count": 19,
   "id": "e37110c4",
   "metadata": {},
   "outputs": [
    {
     "name": "stdout",
     "output_type": "stream",
     "text": [
      "iter=1: rev_ETO = 2.282881, price_ETO = [3.62, 3.4, 4.56, 4.82, 2.4]\n",
      "iter=2: rev_ETO = 1.803063, price_ETO = [3.16, 4.52, 3.47, 2.52, 5.0]\n",
      "iter=3: rev_ETO = 1.394116, price_ETO = [0.91, 4.29, 2.53, 4.35, 1.84]\n",
      "iter=4: rev_ETO = 1.420697, price_ETO = [4.17, 3.55, 4.87, 2.95, 4.66]\n",
      "iter=5: rev_ETO = 0.130835, price_ETO = [3.3, 0.33, 4.07, 4.68, 1.21]\n",
      "iter=6: rev_ETO = 0.005847, price_ETO = [3.16, 3.13, 1.83, 0.11, 3.84]\n",
      "iter=7: rev_ETO = 0.137918, price_ETO = [4.45, 4.41, 2.1, 1.45, 4.39]\n",
      "iter=8: rev_ETO = 0.809802, price_ETO = [4.23, 0.03, 4.64, 2.99, 0.86]\n",
      "iter=9: rev_ETO = 0.882353, price_ETO = [4.74, 3.92, 4.73, 2.46, 1.1]\n",
      "iter=10: rev_ETO = 3.289654, price_ETO = [4.94, 4.19, 4.01, 4.97, 4.84]\n"
     ]
    }
   ],
   "source": [
    "print_flag = true\n",
    "RST_ETO = Run_ETO(iterations, N, N_u, K, Input_Data,print_flag);\n",
    "save(string(this_data_file, \"RST_ETO.jld2\"), RST_ETO);"
   ]
  },
  {
   "cell_type": "markdown",
   "id": "5c54f0ee",
   "metadata": {},
   "source": [
    "- Run RO under different uncertainty set"
   ]
  },
  {
   "cell_type": "code",
   "execution_count": 20,
   "id": "2251cf84",
   "metadata": {},
   "outputs": [
    {
     "data": {
      "text/plain": [
       "-10.0"
      ]
     },
     "metadata": {},
     "output_type": "display_data"
    }
   ],
   "source": [
    "gamma_list = [0.0]\n",
    "# RO_coef_all = [0.0,0.01,0.05,0.1,0.12,0.15,0.2,0.25,0.3];\n",
    "dual_norm = 2\n",
    "psi_lb_coef = -10.0\n",
    "phi_lb_coef = -10.0"
   ]
  },
  {
   "cell_type": "code",
   "execution_count": null,
   "id": "f2282db2",
   "metadata": {},
   "outputs": [],
   "source": [
    "RST_RO = Run_RO(gamma_list, dual_norm,iterations, N, N_u, K, Input_Data,print_flag,psi_lb_coef,phi_lb_coef);"
   ]
  },
  {
   "cell_type": "code",
   "execution_count": 13,
   "id": "e6c36004",
   "metadata": {},
   "outputs": [
    {
     "name": "stdout",
     "output_type": "stream",
     "text": [
      "Rev_ETO/Rev_Oracle = [0.9977, 0.9869, 0.9421, 0.9917, 1.0, 0.849, 0.9769, 0.9985, 0.7981, 1.0]\n",
      "Rev_RO/Rev_Oracle = [0.9977, 0.9869, 0.9421, 0.9917, 1.0, 0.849, 0.9769, 0.9985, 0.7981, 1.0]\n"
     ]
    }
   ],
   "source": [
    "gamma = 0.0\n",
    "Rev_Oracle = [RST_Oracle[\"iter=$(iter)_Rev\"] for iter in 1:iterations]\n",
    "Rev_ETO = [RST_ETO[\"iter=$(iter)_Rev\"] for iter in 1:iterations]\n",
    "Rev_RO = [RST_RO[\"iter=$(iter)_RST\"][\"Rev_gamma=$(gamma)\"] for iter in 1:iterations]\n",
    "println(\"Rev_ETO/Rev_Oracle = \",round.(Rev_ETO./Rev_Oracle,digits=4))\n",
    "println(\"Rev_RO/Rev_Oracle = \",round.(Rev_RO./Rev_Oracle,digits=4))"
   ]
  },
  {
   "cell_type": "markdown",
   "id": "ad4e147e",
   "metadata": {},
   "source": [
    "### offdiag is positive"
   ]
  },
  {
   "cell_type": "code",
   "execution_count": null,
   "id": "98b91a59",
   "metadata": {},
   "outputs": [],
   "source": [
    "# offdiag_sign = \"positive\";\n",
    "# Params = set_Params(N, N_u, K, S_train, S_test, offdiag_sign, max_offdiag, P_bar, RO_coef_all, seed)"
   ]
  },
  {
   "cell_type": "code",
   "execution_count": null,
   "id": "5ef2df46",
   "metadata": {},
   "outputs": [],
   "source": [
    "# sub_file_name = \"N=$(N)_N_u=$(N_u)_K=$(K)_S_train=$(S_train)_offdiag_sign=$(offdiag_sign)_max_offdiag=$(max_offdiag)/\"\n",
    "# this_data_file = string(data_dir,project_name,sub_file_name)\n",
    "# if !isdir(this_data_file)\n",
    "#     mkpath(this_data_file)\n",
    "# end\n",
    "# save(string(this_data_file, \"Params.jld2\"), Params);"
   ]
  },
  {
   "cell_type": "code",
   "execution_count": null,
   "id": "db9af694",
   "metadata": {},
   "outputs": [],
   "source": [
    "# Random.seed!(seed)\n",
    "# Input_Data = generate_Input_Data(S_train,S_test,iterations, N, N_u, K, offdiag_sign,max_offdiag,P_bar);\n",
    "# Input_Data = Calculate_Hyper_Param(RO_coef_all, iterations, N, N_u, K, Input_Data);\n",
    "# save(string(this_data_file, \"Input_Data.jld2\"), Input_Data);"
   ]
  },
  {
   "cell_type": "code",
   "execution_count": null,
   "id": "0f054212",
   "metadata": {},
   "outputs": [],
   "source": [
    "# print_flag=true\n",
    "# RST_Oracle = Run_Oracle(iterations, N, N_u, K, Input_Data,print_flag);\n",
    "# Rev_Oracle = [RST_Oracle[\"iter=$(iter)_Rev\"] for iter in 1:iterations];\n",
    "# save(string(this_data_file, \"RST_Oracle.jld2\"), RST_Oracle);"
   ]
  },
  {
   "cell_type": "code",
   "execution_count": null,
   "id": "eb30444d",
   "metadata": {},
   "outputs": [],
   "source": [
    "# RST_ETO = Run_ETO(iterations, N, N_u, K, Input_Data,print_flag);\n",
    "# Rev_ETO = [RST_ETO[\"iter=$(iter)_Rev\"] for iter in 1:iterations]\n",
    "# println(\"Rev_ETO/Rev_Oracle = \",round.(Rev_ETO./Rev_Oracle,digits=4))\n",
    "# save(string(this_data_file, \"RST_ETO.jld2\"), RST_ETO);"
   ]
  },
  {
   "cell_type": "code",
   "execution_count": null,
   "id": "ac14eb87",
   "metadata": {},
   "outputs": [],
   "source": [
    "# model_name=\"Two_Side\"\n",
    "# RST_RO = Dict(); Rev_RO = Dict();\n",
    "# for RO_coef in RO_coef_all\n",
    "#     println(\"Running RO with RO_coef = \",RO_coef)\n",
    "#     RST_RO_this = Run_RO_with_RO_coef(RO_coef, iterations, N, N_u, K, Input_Data, 0.0,model_name,false);\n",
    "#     RST_RO[\"RO_coef=$(RO_coef)\"] = RST_RO_this\n",
    "#     Rev_RO[\"RO_coef=$(RO_coef)\"] = [RST_RO_this[\"iter=$(iter)_Rev\"] for iter in 1:iterations]\n",
    "# end\n",
    "# save(string(this_data_file, \"RST_RO.jld2\"), RST_RO);"
   ]
  },
  {
   "cell_type": "code",
   "execution_count": null,
   "id": "db2af615",
   "metadata": {},
   "outputs": [],
   "source": [
    "# for RO_coef in RO_coef_all\n",
    "#     Rev_RO_this = Rev_RO[\"RO_coef=$(RO_coef)\"]\n",
    "#     println(\"Average = \",round(mean(Rev_RO_this./Rev_ETO),digits=4),\", Rev_RO/Rev_ETO for RO_coef=$(RO_coef) = \",round.(Rev_RO_this./Rev_ETO,digits=4),)\n",
    "# end"
   ]
  },
  {
   "cell_type": "markdown",
   "id": "211a7218",
   "metadata": {},
   "source": [
    "### offdiag is negative"
   ]
  },
  {
   "cell_type": "code",
   "execution_count": null,
   "id": "c4cf05bd",
   "metadata": {},
   "outputs": [],
   "source": [
    "# offdiag_sign = \"negative\";\n",
    "# Params = set_Params(N, N_u, K, S_train, S_test, offdiag_sign, max_offdiag, P_bar, RO_coef_all, seed)"
   ]
  },
  {
   "cell_type": "code",
   "execution_count": null,
   "id": "a72702ab",
   "metadata": {},
   "outputs": [],
   "source": [
    "# sub_file_name = \"N=$(N)_N_u=$(N_u)_K=$(K)_S_train=$(S_train)_offdiag_sign=$(offdiag_sign)_max_offdiag=$(max_offdiag)/\"\n",
    "# this_data_file = string(data_dir,project_name,sub_file_name)\n",
    "# if !isdir(this_data_file)\n",
    "#     mkpath(this_data_file)\n",
    "# end\n",
    "# save(string(this_data_file, \"Params.jld2\"), Params);"
   ]
  },
  {
   "cell_type": "code",
   "execution_count": null,
   "id": "9071c26c",
   "metadata": {},
   "outputs": [],
   "source": [
    "# print_flag=true\n",
    "# RST_Oracle = Run_Oracle(iterations, N, N_u, K, Input_Data,print_flag);\n",
    "# Rev_Oracle = [RST_Oracle[\"iter=$(iter)_Rev\"] for iter in 1:iterations];\n",
    "# save(string(this_data_file, \"RST_Oracle.jld2\"), RST_Oracle);"
   ]
  },
  {
   "cell_type": "code",
   "execution_count": null,
   "id": "610d6a10",
   "metadata": {},
   "outputs": [],
   "source": [
    "# RST_ETO = Run_ETO(iterations, N, N_u, K, Input_Data,print_flag);\n",
    "# Rev_ETO = [RST_ETO[\"iter=$(iter)_Rev\"] for iter in 1:iterations]\n",
    "# println(\"Rev_ETO/Rev_Oracle = \",round.(Rev_ETO./Rev_Oracle,digits=4))\n",
    "# save(string(this_data_file, \"RST_ETO.jld2\"), RST_ETO);"
   ]
  },
  {
   "cell_type": "code",
   "execution_count": null,
   "id": "b995846a",
   "metadata": {},
   "outputs": [],
   "source": [
    "# model_name=\"Two_Side\"\n",
    "# RST_RO = Dict(); Rev_RO = Dict();\n",
    "# for RO_coef in RO_coef_all\n",
    "#     println(\"Running RO with RO_coef = \",RO_coef)\n",
    "#     RST_RO_this = Run_RO_with_RO_coef(RO_coef, iterations, N, N_u, K, Input_Data, 0.0,model_name,false);\n",
    "#     RST_RO[\"RO_coef=$(RO_coef)\"] = RST_RO_this\n",
    "#     Rev_RO[\"RO_coef=$(RO_coef)\"] = [RST_RO_this[\"iter=$(iter)_Rev\"] for iter in 1:iterations]\n",
    "# end\n",
    "# save(string(this_data_file, \"RST_RO.jld2\"), RST_RO);"
   ]
  }
 ],
 "metadata": {
  "kernelspec": {
   "display_name": "Julia 1.11.7",
   "language": "julia",
   "name": "julia-1.11"
  },
  "language_info": {
   "file_extension": ".jl",
   "mimetype": "application/julia",
   "name": "julia",
   "version": "1.11.7"
  }
 },
 "nbformat": 4,
 "nbformat_minor": 5
}
