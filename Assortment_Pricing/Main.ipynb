{
 "cells": [
  {
   "cell_type": "code",
   "execution_count": 34,
   "id": "ea7846fb",
   "metadata": {},
   "outputs": [
    {
     "data": {
      "text/plain": [
       "Solve_RO_one_side_exp (generic function with 1 method)"
      ]
     },
     "metadata": {},
     "output_type": "display_data"
    }
   ],
   "source": [
    "using LinearAlgebra\n",
    "using Distributions\n",
    "using Optim\n",
    "using Random\n",
    "using StatsFuns\n",
    "using JuMP\n",
    "using MosekTools\n",
    "using StatsBase\n",
    "using SparseArrays # 可选，用于处理稀疏性（如果数据量很大）\n",
    "using FileIO\n",
    "using JLD2\n",
    "using Plots\n",
    "using LaTeXStrings\n",
    "using DataFrames, Colors\n",
    "using StatsPlots   # 提供 boxplot，基于 Plots\n",
    "\n",
    "include(\"Data_Generation_AP.jl\")\n",
    "include(\"Estimation_AP.jl\")\n",
    "include(\"Evaluation_AP.jl\")\n",
    "# include(\"Plot_Figures.jl\")\n",
    "include(\"Implement_All_Methods_AP.jl\")\n",
    "include(\"Models_AP.jl\")"
   ]
  },
  {
   "cell_type": "code",
   "execution_count": 35,
   "id": "f424ebee",
   "metadata": {},
   "outputs": [],
   "source": [
    "current_dir = pwd()\n",
    "parent_dir = dirname(current_dir)\n",
    "grand_pa_dir = dirname(parent_dir)\n",
    "data_dir = string(dirname(grand_pa_dir), \"/Data/\")\n",
    "if !isdir(data_dir)\n",
    "    mkpath(data_dir)\n",
    "end"
   ]
  },
  {
   "cell_type": "markdown",
   "id": "bc1238ab",
   "metadata": {},
   "source": [
    "## Functions"
   ]
  },
  {
   "cell_type": "code",
   "execution_count": 36,
   "id": "83d6f208",
   "metadata": {},
   "outputs": [
    {
     "data": {
      "text/plain": [
       "set_Params (generic function with 1 method)"
      ]
     },
     "metadata": {},
     "output_type": "display_data"
    }
   ],
   "source": [
    "function set_Params(N, N_u, K, S_train, S_test, offdiag_sign, max_offdiag, P_bar, RO_coef_all, seed)\n",
    "    Params = Dict()\n",
    "    Params[\"N\"] = N\n",
    "    Params[\"N_u\"] = N_u\n",
    "    Params[\"K\"] = K\n",
    "    Params[\"S_train\"] = S_train\n",
    "    Params[\"S_test\"] = S_test\n",
    "    Params[\"offdiag_sign\"] = offdiag_sign\n",
    "    Params[\"max_offdiag\"] = max_offdiag\n",
    "    Params[\"P_bar\"] = P_bar\n",
    "    Params[\"RO_coef_all\"] = RO_coef_all\n",
    "    Params[\"seed\"] = seed\n",
    "    return Params\n",
    "end"
   ]
  },
  {
   "cell_type": "markdown",
   "id": "9568927e",
   "metadata": {},
   "source": [
    "## Evaluate"
   ]
  },
  {
   "cell_type": "markdown",
   "id": "b6eef9dc",
   "metadata": {},
   "source": [
    "#### Baseline Parameters"
   ]
  },
  {
   "cell_type": "code",
   "execution_count": 37,
   "id": "f8321a1a",
   "metadata": {},
   "outputs": [
    {
     "data": {
      "text/plain": [
       "\"Assortment_Pricing/\""
      ]
     },
     "metadata": {},
     "output_type": "display_data"
    }
   ],
   "source": [
    "seed = 1;\n",
    "N = 5;\n",
    "N_u = 1;\n",
    "K = 10;\n",
    "S_train = 500;\n",
    "S_test = 1000;\n",
    "P_bar = 5.0;\n",
    "iterations = 10;\n",
    "# RO_coef_all = [0.0];\n",
    "RO_coef_all = [0.0,0.01,0.05,0.1,0.12,0.15,0.2,0.25,0.3];\n",
    "Random.seed!(seed)\n",
    "project_dir = \"Assortment_Pricing/\""
   ]
  },
  {
   "cell_type": "markdown",
   "id": "6314b1a2",
   "metadata": {},
   "source": [
    "### offdiag is mix"
   ]
  },
  {
   "cell_type": "code",
   "execution_count": 38,
   "id": "d7167bf6",
   "metadata": {},
   "outputs": [],
   "source": [
    "offdiag_sign = \"mix\";\n",
    "max_offdiag = 1.0;\n",
    "Params = set_Params(N, N_u, K, S_train, S_test, offdiag_sign, max_offdiag, P_bar, RO_coef_all, seed);"
   ]
  },
  {
   "cell_type": "code",
   "execution_count": 39,
   "id": "fca93210",
   "metadata": {},
   "outputs": [
    {
     "name": "stdout",
     "output_type": "stream",
     "text": [
      "/Users/zhangxun/Dropbox/Research/Robust_Exp/Data/Assortment_Pricing/N=5_N_u=1_K=10_S_train=500_offdiag_sign=mix_max_offdiag=1.0/\n"
     ]
    }
   ],
   "source": [
    "sub_file_name = \"N=$(N)_N_u=$(N_u)_K=$(K)_S_train=$(S_train)_offdiag_sign=$(offdiag_sign)_max_offdiag=$(max_offdiag)/\"\n",
    "this_data_file = string(data_dir,project_dir,sub_file_name)\n",
    "if !isdir(this_data_file)\n",
    "    mkpath(this_data_file)\n",
    "end\n",
    "save(string(this_data_file, \"Params.jld2\"), Params);\n",
    "println(this_data_file)"
   ]
  },
  {
   "cell_type": "markdown",
   "id": "e03b3e9c",
   "metadata": {},
   "source": [
    "- Generate Data"
   ]
  },
  {
   "cell_type": "code",
   "execution_count": 40,
   "id": "d1a43034",
   "metadata": {},
   "outputs": [],
   "source": [
    "Input_Data = generate_Input_Data(S_train,S_test,iterations, N, N_u, K, offdiag_sign,max_offdiag,P_bar);\n",
    "Input_Data = Calculate_Hyper_Param(RO_coef_all, iterations, N, N_u, K, Input_Data);\n",
    "save(string(this_data_file, \"Input_Data.jld2\"), Input_Data);"
   ]
  },
  {
   "cell_type": "markdown",
   "id": "43aff417",
   "metadata": {},
   "source": [
    "- Run Oracle"
   ]
  },
  {
   "cell_type": "code",
   "execution_count": 41,
   "id": "cd4813fa",
   "metadata": {},
   "outputs": [
    {
     "name": "stdout",
     "output_type": "stream",
     "text": [
      "iter=1: rev_Oracle = 2.271869, price_Oracle = [3.82, 0.38, 4.81, 2.6, 4.07]\n",
      "iter=2: rev_Oracle = 2.279028, price_Oracle = [0.46, 2.65, 4.86, 2.81, 4.96]\n",
      "iter=3: rev_Oracle = 3.111238, price_Oracle = [3.66, 4.8, 4.33, 4.93, 4.86]\n",
      "iter=4: rev_Oracle = 1.595664, price_Oracle = [4.72, 1.03, 4.79, 2.12, 4.95]\n",
      "iter=5: rev_Oracle = 1.027239, price_Oracle = [1.29, 0.13, 4.66, 1.03, 4.62]\n",
      "iter=6: rev_Oracle = 1.784405, price_Oracle = [4.54, 0.41, 4.74, 1.94, 4.52]\n",
      "iter=7: rev_Oracle = 2.781146, price_Oracle = [4.86, 4.59, 4.75, 4.95, 3.11]\n",
      "iter=8: rev_Oracle = 0.258173, price_Oracle = [4.48, 2.37, 1.88, 0.07, 4.38]\n",
      "iter=9: rev_Oracle = 1.864865, price_Oracle = [3.92, 0.85, 2.11, 4.94, 4.82]\n",
      "iter=10: rev_Oracle = 1.939433, price_Oracle = [3.91, 4.91, 2.11, 0.66, 4.97]\n"
     ]
    }
   ],
   "source": [
    "print_flag=true\n",
    "RST_Oracle = Run_Oracle(iterations, N, N_u, K, Input_Data,print_flag);\n",
    "Rev_Oracle = [RST_Oracle[\"iter=$(iter)_Rev\"] for iter in 1:iterations];\n",
    "save(string(this_data_file, \"RST_Oracle.jld2\"), RST_Oracle);"
   ]
  },
  {
   "cell_type": "markdown",
   "id": "152240c0",
   "metadata": {},
   "source": [
    "- Run ETO"
   ]
  },
  {
   "cell_type": "code",
   "execution_count": 42,
   "id": "e37110c4",
   "metadata": {},
   "outputs": [
    {
     "name": "stdout",
     "output_type": "stream",
     "text": [
      "iter=1: rev_ETO = 0.94441, price_ETO = [3.82, 1.38, 4.81, 3.59, 4.07]\n",
      "iter=2: rev_ETO = 1.746387, price_ETO = [0.46, 3.25, 4.86, 2.81, 4.96]\n",
      "iter=3: rev_ETO = 3.046294, price_ETO = [3.26, 4.8, 4.33, 4.93, 4.86]\n",
      "iter=4: rev_ETO = 0.904006, price_ETO = [4.72, 0.13, 4.79, 2.71, 0.43]\n",
      "iter=5: rev_ETO = 1.005892, price_ETO = [1.21, 0.13, 4.66, 1.03, 4.62]\n",
      "iter=6: rev_ETO = 0.561058, price_ETO = [2.04, 0.41, 4.74, 4.76, 0.06]\n",
      "iter=7: rev_ETO = 1.33705, price_ETO = [3.3, 4.59, 4.75, 4.95, 3.81]\n",
      "iter=8: rev_ETO = 0.258173, price_ETO = [4.48, 2.37, 1.88, 0.07, 4.38]\n",
      "iter=9: rev_ETO = 1.724942, price_ETO = [3.92, 0.85, 2.56, 4.94, 4.82]\n",
      "iter=10: rev_ETO = 1.68644, price_ETO = [3.91, 4.91, 2.11, 4.57, 4.97]\n",
      "Rev_ETO/Rev_Oracle = [0.4157, 0.7663, 0.9791, 0.5665, 0.9792, 0.3144, 0.4808, 1.0, 0.925, 0.8696]\n"
     ]
    }
   ],
   "source": [
    "RST_ETO = Run_ETO(iterations, N, N_u, K, Input_Data,print_flag);\n",
    "Rev_ETO = [RST_ETO[\"iter=$(iter)_Rev\"] for iter in 1:iterations]\n",
    "println(\"Rev_ETO/Rev_Oracle = \",round.(Rev_ETO./Rev_Oracle,digits=4))\n",
    "save(string(this_data_file, \"RST_ETO.jld2\"), RST_ETO);"
   ]
  },
  {
   "cell_type": "markdown",
   "id": "5c54f0ee",
   "metadata": {},
   "source": [
    "- Run RO under different uncertainty set"
   ]
  },
  {
   "cell_type": "code",
   "execution_count": 43,
   "id": "964da926",
   "metadata": {},
   "outputs": [
    {
     "name": "stdout",
     "output_type": "stream",
     "text": [
      "Running RO with RO_coef = 0.0\n",
      "Running RO with RO_coef = 0.01\n",
      "Running RO with RO_coef = 0.05\n",
      "Running RO with RO_coef = 0.1\n",
      "Running RO with RO_coef = 0.12\n",
      "Running RO with RO_coef = 0.15\n",
      "Running RO with RO_coef = 0.2\n",
      "Running RO with RO_coef = 0.25\n",
      "Running RO with RO_coef = 0.3\n"
     ]
    }
   ],
   "source": [
    "model_name=\"Two_Side\"\n",
    "RST_RO = Dict(); Rev_RO = Dict();\n",
    "for RO_coef in RO_coef_all\n",
    "    println(\"Running RO with RO_coef = \",RO_coef)\n",
    "    RST_RO_this = Run_RO(RO_coef, iterations, N, N_u, K, Input_Data,0.0,model_name,false);\n",
    "    RST_RO[\"RO_coef=$(RO_coef)\"] = RST_RO_this\n",
    "    Rev_RO[\"RO_coef=$(RO_coef)\"] = [RST_RO_this[\"iter=$(iter)_Rev\"] for iter in 1:iterations]\n",
    "end\n",
    "save(string(this_data_file, \"RST_RO.jld2\"), RST_RO);"
   ]
  },
  {
   "cell_type": "code",
   "execution_count": 44,
   "id": "20974eb4",
   "metadata": {},
   "outputs": [
    {
     "name": "stdout",
     "output_type": "stream",
     "text": [
      "Mean Rev_Oracle: 1.89130593520825\n",
      "Mean Rev_ETO: 1.3214652190621745\n",
      "Mean Rev_RO: [1.3214652190621745, 1.4550489502077337, 1.5810422564892685, 1.6488903962204546, 1.6055944976463556, 1.5943966237415883, 1.5068019752548032, 1.1359395555246616, 1.111641319333669]\n"
     ]
    }
   ],
   "source": [
    "Rev_Oracle = [RST_Oracle[\"iter=$(iter)_Rev\"] for iter in 1:iterations];\n",
    "Rev_ETO = [RST_ETO[\"iter=$(iter)_Rev\"] for iter in 1:iterations];\n",
    "Rev_RO = Dict();\n",
    "for RO_coef in RO_coef_all\n",
    "    RST_RO_this = RST_RO[\"RO_coef=$(RO_coef)\"]\n",
    "    Rev_RO[\"RO_coef=$(RO_coef)\"] = [RST_RO_this[\"iter=$(iter)_Rev\"] for iter in 1:iterations];\n",
    "end\n",
    "\n",
    "println(\"Mean Rev_Oracle: \", mean(Rev_Oracle));\n",
    "println(\"Mean Rev_ETO: \", mean(Rev_ETO));\n",
    "Rev_RO_Avg = [mean(Rev_RO[\"RO_coef=$(RO_coef)\"]) for RO_coef in RO_coef_all];\n",
    "println(\"Mean Rev_RO: \", Rev_RO_Avg);"
   ]
  },
  {
   "cell_type": "code",
   "execution_count": 45,
   "id": "2aff52c8",
   "metadata": {},
   "outputs": [
    {
     "data": {
      "image/png": "[encoded data removed]",
      "image/svg+xml": [
       "<?xml version=\"1.0\" encoding=\"utf-8\"?>\n",
       "<svg xmlns=\"http://www.w3.org/2000/svg\" xmlns:xlink=\"http://www.w3.org/1999/xlink\" width=\"600\" height=\"400\" viewBox=\"0 0 2400 1600\">\n",
       "<defs>\n",
       "  <clipPath id=\"clip960\">\n",
       "    <rect x=\"0\" y=\"0\" width=\"2400\" height=\"1600\"/>\n",
       "  </clipPath>\n",
       "</defs>\n",
       "<path clip-path=\"url(#clip960)\" d=\"M0 1600 L2400 1600 L2400 8.88178e-14 L0 8.88178e-14  Z\" fill=\"#ffffff\" fill-rule=\"evenodd\" fill-opacity=\"1\"/>\n",
       "<defs>\n",
       "  <clipPath id=\"clip961\">\n",
       "    <rect x=\"480\" y=\"0\" width=\"1681\" height=\"1600\"/>\n",
       "  </clipPath>\n",
       "</defs>\n",
       "<path clip-path=\"url(#clip960)\" d=\"M219.195 1423.18 L2352.76 1423.18 L2352.76 47.2441 L219.195 47.2441  Z\" fill=\"#ffffff\" fill-rule=\"evenodd\" fill-opacity=\"1\"/>\n",
       "<defs>\n",
       "  <clipPath id=\"clip962\">\n",
       "    <rect x=\"219\" y=\"47\" width=\"2135\" height=\"1377\"/>\n",
       "  </clipPath>\n",
       "</defs>\n",
       "<polyline clip-path=\"url(#clip962)\" style=\"stroke:#000000; stroke-linecap:round; stroke-linejoin:round; stroke-width:2; stroke-opacity:0.1; fill:none\" points=\"279.579,1423.18 279.579,47.2441 \"/>\n",
       "<polyline clip-path=\"url(#clip962)\" style=\"stroke:#000000; stroke-linecap:round; stroke-linejoin:round; stroke-width:2; stroke-opacity:0.1; fill:none\" points=\"950.51,1423.18 950.51,47.2441 \"/>\n",
       "<polyline clip-path=\"url(#clip962)\" style=\"stroke:#000000; stroke-linecap:round; stroke-linejoin:round; stroke-width:2; stroke-opacity:0.1; fill:none\" points=\"1621.44,1423.18 1621.44,47.2441 \"/>\n",
       "<polyline clip-path=\"url(#clip962)\" style=\"stroke:#000000; stroke-linecap:round; stroke-linejoin:round; stroke-width:2; stroke-opacity:0.1; fill:none\" points=\"2292.37,1423.18 2292.37,47.2441 \"/>\n",
       "<polyline clip-path=\"url(#clip962)\" style=\"stroke:#000000; stroke-linecap:round; stroke-linejoin:round; stroke-width:2; stroke-opacity:0.1; fill:none\" points=\"219.195,1196.56 2352.76,1196.56 \"/>\n",
       "<polyline clip-path=\"url(#clip962)\" style=\"stroke:#000000; stroke-linecap:round; stroke-linejoin:round; stroke-width:2; stroke-opacity:0.1; fill:none\" points=\"219.195,877.281 2352.76,877.281 \"/>\n",
       "<polyline clip-path=\"url(#clip962)\" style=\"stroke:#000000; stroke-linecap:round; stroke-linejoin:round; stroke-width:2; stroke-opacity:0.1; fill:none\" points=\"219.195,558 2352.76,558 \"/>\n",
       "<polyline clip-path=\"url(#clip962)\" style=\"stroke:#000000; stroke-linecap:round; stroke-linejoin:round; stroke-width:2; stroke-opacity:0.1; fill:none\" points=\"219.195,238.72 2352.76,238.72 \"/>\n",
       "<polyline clip-path=\"url(#clip960)\" style=\"stroke:#000000; stroke-linecap:round; stroke-linejoin:round; stroke-width:4; stroke-opacity:1; fill:none\" points=\"219.195,1423.18 2352.76,1423.18 \"/>\n",
       "<polyline clip-path=\"url(#clip960)\" style=\"stroke:#000000; stroke-linecap:round; stroke-linejoin:round; stroke-width:4; stroke-opacity:1; fill:none\" points=\"279.579,1423.18 279.579,1404.28 \"/>\n",
       "<polyline clip-path=\"url(#clip960)\" style=\"stroke:#000000; stroke-linecap:round; stroke-linejoin:round; stroke-width:4; stroke-opacity:1; fill:none\" points=\"950.51,1423.18 950.51,1404.28 \"/>\n",
       "<polyline clip-path=\"url(#clip960)\" style=\"stroke:#000000; stroke-linecap:round; stroke-linejoin:round; stroke-width:4; stroke-opacity:1; fill:none\" points=\"1621.44,1423.18 1621.44,1404.28 \"/>\n",
       "<polyline clip-path=\"url(#clip960)\" style=\"stroke:#000000; stroke-linecap:round; stroke-linejoin:round; stroke-width:4; stroke-opacity:1; fill:none\" points=\"2292.37,1423.18 2292.37,1404.28 \"/>\n",
       "<path clip-path=\"url(#clip960)\" d=\"M256.963 1454.1 Q253.352 1454.1 251.523 1457.66 Q249.718 1461.2 249.718 1468.33 Q249.718 1475.44 251.523 1479.01 Q253.352 1482.55 256.963 1482.55 Q260.597 1482.55 262.403 1479.01 Q264.232 1475.44 264.232 1468.33 Q264.232 1461.2 262.403 1457.66 Q260.597 1454.1 256.963 1454.1 M256.963 1450.39 Q262.773 1450.39 265.829 1455 Q268.908 1459.58 268.908 1468.33 Q268.908 1477.06 265.829 1481.67 Q262.773 1486.25 256.963 1486.25 Q251.153 1486.25 248.074 1481.67 Q245.019 1477.06 245.019 1468.33 Q245.019 1459.58 248.074 1455 Q251.153 1450.39 256.963 1450.39 Z\" fill=\"#000000\" fill-rule=\"nonzero\" fill-opacity=\"1\" /><path clip-path=\"url(#clip960)\" d=\"M277.125 1479.7 L282.009 1479.7 L282.009 1485.58 L277.125 1485.58 L277.125 1479.7 Z\" fill=\"#000000\" fill-rule=\"nonzero\" fill-opacity=\"1\" /><path clip-path=\"url(#clip960)\" d=\"M302.194 1454.1 Q298.583 1454.1 296.755 1457.66 Q294.949 1461.2 294.949 1468.33 Q294.949 1475.44 296.755 1479.01 Q298.583 1482.55 302.194 1482.55 Q305.829 1482.55 307.634 1479.01 Q309.463 1475.44 309.463 1468.33 Q309.463 1461.2 307.634 1457.66 Q305.829 1454.1 302.194 1454.1 M302.194 1450.39 Q308.005 1450.39 311.06 1455 Q314.139 1459.58 314.139 1468.33 Q314.139 1477.06 311.06 1481.67 Q308.005 1486.25 302.194 1486.25 Q296.384 1486.25 293.306 1481.67 Q290.25 1477.06 290.25 1468.33 Q290.25 1459.58 293.306 1455 Q296.384 1450.39 302.194 1450.39 Z\" fill=\"#000000\" fill-rule=\"nonzero\" fill-opacity=\"1\" /><path clip-path=\"url(#clip960)\" d=\"M928.508 1454.1 Q924.897 1454.1 923.068 1457.66 Q921.262 1461.2 921.262 1468.33 Q921.262 1475.44 923.068 1479.01 Q924.897 1482.55 928.508 1482.55 Q932.142 1482.55 933.947 1479.01 Q935.776 1475.44 935.776 1468.33 Q935.776 1461.2 933.947 1457.66 Q932.142 1454.1 928.508 1454.1 M928.508 1450.39 Q934.318 1450.39 937.373 1455 Q940.452 1459.58 940.452 1468.33 Q940.452 1477.06 937.373 1481.67 Q934.318 1486.25 928.508 1486.25 Q922.698 1486.25 919.619 1481.67 Q916.563 1477.06 916.563 1468.33 Q916.563 1459.58 919.619 1455 Q922.698 1450.39 928.508 1450.39 Z\" fill=\"#000000\" fill-rule=\"nonzero\" fill-opacity=\"1\" /><path clip-path=\"url(#clip960)\" d=\"M948.67 1479.7 L953.554 1479.7 L953.554 1485.58 L948.67 1485.58 L948.67 1479.7 Z\" fill=\"#000000\" fill-rule=\"nonzero\" fill-opacity=\"1\" /><path clip-path=\"url(#clip960)\" d=\"M964.549 1481.64 L972.188 1481.64 L972.188 1455.28 L963.878 1456.95 L963.878 1452.69 L972.142 1451.02 L976.818 1451.02 L976.818 1481.64 L984.456 1481.64 L984.456 1485.58 L964.549 1485.58 L964.549 1481.64 Z\" fill=\"#000000\" fill-rule=\"nonzero\" fill-opacity=\"1\" /><path clip-path=\"url(#clip960)\" d=\"M1599.62 1454.1 Q1596.01 1454.1 1594.18 1457.66 Q1592.38 1461.2 1592.38 1468.33 Q1592.38 1475.44 1594.18 1479.01 Q1596.01 1482.55 1599.62 1482.55 Q1603.26 1482.55 1605.06 1479.01 Q1606.89 1475.44 1606.89 1468.33 Q1606.89 1461.2 1605.06 1457.66 Q1603.26 1454.1 1599.62 1454.1 M1599.62 1450.39 Q1605.43 1450.39 1608.49 1455 Q1611.57 1459.58 1611.57 1468.33 Q1611.57 1477.06 1608.49 1481.67 Q1605.43 1486.25 1599.62 1486.25 Q1593.81 1486.25 1590.74 1481.67 Q1587.68 1477.06 1587.68 1468.33 Q1587.68 1459.58 1590.74 1455 Q1593.81 1450.39 1599.62 1450.39 Z\" fill=\"#000000\" fill-rule=\"nonzero\" fill-opacity=\"1\" /><path clip-path=\"url(#clip960)\" d=\"M1619.79 1479.7 L1624.67 1479.7 L1624.67 1485.58 L1619.79 1485.58 L1619.79 1479.7 Z\" fill=\"#000000\" fill-rule=\"nonzero\" fill-opacity=\"1\" /><path clip-path=\"url(#clip960)\" d=\"M1638.88 1481.64 L1655.2 1481.64 L1655.2 1485.58 L1633.26 1485.58 L1633.26 1481.64 Q1635.92 1478.89 1640.5 1474.26 Q1645.11 1469.61 1646.29 1468.27 Q1648.54 1465.74 1649.42 1464.01 Q1650.32 1462.25 1650.32 1460.56 Q1650.32 1457.8 1648.37 1456.07 Q1646.45 1454.33 1643.35 1454.33 Q1641.15 1454.33 1638.7 1455.09 Q1636.27 1455.86 1633.49 1457.41 L1633.49 1452.69 Q1636.31 1451.55 1638.77 1450.97 Q1641.22 1450.39 1643.26 1450.39 Q1648.63 1450.39 1651.82 1453.08 Q1655.02 1455.77 1655.02 1460.26 Q1655.02 1462.39 1654.21 1464.31 Q1653.42 1466.2 1651.31 1468.8 Q1650.73 1469.47 1647.63 1472.69 Q1644.53 1475.88 1638.88 1481.64 Z\" fill=\"#000000\" fill-rule=\"nonzero\" fill-opacity=\"1\" /><path clip-path=\"url(#clip960)\" d=\"M2270.08 1454.1 Q2266.47 1454.1 2264.64 1457.66 Q2262.84 1461.2 2262.84 1468.33 Q2262.84 1475.44 2264.64 1479.01 Q2266.47 1482.55 2270.08 1482.55 Q2273.71 1482.55 2275.52 1479.01 Q2277.35 1475.44 2277.35 1468.33 Q2277.35 1461.2 2275.52 1457.66 Q2273.71 1454.1 2270.08 1454.1 M2270.08 1450.39 Q2275.89 1450.39 2278.95 1455 Q2282.02 1459.58 2282.02 1468.33 Q2282.02 1477.06 2278.95 1481.67 Q2275.89 1486.25 2270.08 1486.25 Q2264.27 1486.25 2261.19 1481.67 Q2258.14 1477.06 2258.14 1468.33 Q2258.14 1459.58 2261.19 1455 Q2264.27 1450.39 2270.08 1450.39 Z\" fill=\"#000000\" fill-rule=\"nonzero\" fill-opacity=\"1\" /><path clip-path=\"url(#clip960)\" d=\"M2290.24 1479.7 L2295.13 1479.7 L2295.13 1485.58 L2290.24 1485.58 L2290.24 1479.7 Z\" fill=\"#000000\" fill-rule=\"nonzero\" fill-opacity=\"1\" /><path clip-path=\"url(#clip960)\" d=\"M2319.48 1466.95 Q2322.83 1467.66 2324.71 1469.93 Q2326.61 1472.2 2326.61 1475.53 Q2326.61 1480.65 2323.09 1483.45 Q2319.57 1486.25 2313.09 1486.25 Q2310.91 1486.25 2308.6 1485.81 Q2306.31 1485.39 2303.85 1484.54 L2303.85 1480.02 Q2305.8 1481.16 2308.11 1481.74 Q2310.43 1482.32 2312.95 1482.32 Q2317.35 1482.32 2319.64 1480.58 Q2321.96 1478.84 2321.96 1475.53 Q2321.96 1472.48 2319.8 1470.77 Q2317.67 1469.03 2313.85 1469.03 L2309.83 1469.03 L2309.83 1465.19 L2314.04 1465.19 Q2317.49 1465.19 2319.32 1463.82 Q2321.15 1462.43 2321.15 1459.84 Q2321.15 1457.18 2319.25 1455.77 Q2317.37 1454.33 2313.85 1454.33 Q2311.93 1454.33 2309.73 1454.75 Q2307.53 1455.16 2304.9 1456.04 L2304.9 1451.88 Q2307.56 1451.14 2309.87 1450.77 Q2312.21 1450.39 2314.27 1450.39 Q2319.59 1450.39 2322.7 1452.83 Q2325.8 1455.23 2325.8 1459.35 Q2325.8 1462.22 2324.15 1464.21 Q2322.51 1466.18 2319.48 1466.95 Z\" fill=\"#000000\" fill-rule=\"nonzero\" fill-opacity=\"1\" /><path clip-path=\"url(#clip960)\" d=\"M1177.11 1545.76 Q1179.17 1546.46 1181.12 1548.76 Q1183.09 1551.05 1185.06 1555.06 L1191.59 1568.04 L1184.68 1568.04 L1178.6 1555.85 Q1176.25 1551.08 1174.02 1549.52 Q1171.82 1547.96 1168 1547.96 L1161 1547.96 L1161 1568.04 L1154.57 1568.04 L1154.57 1520.52 L1169.09 1520.52 Q1177.23 1520.52 1181.24 1523.93 Q1185.25 1527.34 1185.25 1534.21 Q1185.25 1538.7 1183.15 1541.66 Q1181.08 1544.62 1177.11 1545.76 M1161 1525.81 L1161 1542.68 L1169.09 1542.68 Q1173.73 1542.68 1176.09 1540.54 Q1178.47 1538.38 1178.47 1534.21 Q1178.47 1530.04 1176.09 1527.94 Q1173.73 1525.81 1169.09 1525.81 L1161 1525.81 Z\" fill=\"#000000\" fill-rule=\"nonzero\" fill-opacity=\"1\" /><path clip-path=\"url(#clip960)\" d=\"M1219.15 1524.88 Q1212.15 1524.88 1208.01 1530.1 Q1203.91 1535.32 1203.91 1544.33 Q1203.91 1553.31 1208.01 1558.53 Q1212.15 1563.75 1219.15 1563.75 Q1226.15 1563.75 1230.23 1558.53 Q1234.33 1553.31 1234.33 1544.33 Q1234.33 1535.32 1230.23 1530.1 Q1226.15 1524.88 1219.15 1524.88 M1219.15 1519.66 Q1229.15 1519.66 1235.13 1526.38 Q1241.11 1533.06 1241.11 1544.33 Q1241.11 1555.57 1235.13 1562.28 Q1229.15 1568.97 1219.15 1568.97 Q1209.13 1568.97 1203.11 1562.28 Q1197.13 1555.6 1197.13 1544.33 Q1197.13 1533.06 1203.11 1526.38 Q1209.13 1519.66 1219.15 1519.66 Z\" fill=\"#000000\" fill-rule=\"nonzero\" fill-opacity=\"1\" /><path clip-path=\"url(#clip960)\" d=\"M1278 1578.87 L1278 1583.42 L1244.14 1583.42 L1244.14 1578.87 L1278 1578.87 Z\" fill=\"#000000\" fill-rule=\"nonzero\" fill-opacity=\"1\" /><path clip-path=\"url(#clip960)\" d=\"M1309.16 1533.76 L1309.16 1539.24 Q1306.68 1537.87 1304.17 1537.2 Q1301.68 1536.5 1299.14 1536.5 Q1293.44 1536.5 1290.29 1540.13 Q1287.14 1543.73 1287.14 1550.25 Q1287.14 1556.78 1290.29 1560.4 Q1293.44 1564 1299.14 1564 Q1301.68 1564 1304.17 1563.33 Q1306.68 1562.63 1309.16 1561.26 L1309.16 1566.68 Q1306.71 1567.82 1304.07 1568.39 Q1301.46 1568.97 1298.5 1568.97 Q1290.45 1568.97 1285.7 1563.91 Q1280.96 1558.85 1280.96 1550.25 Q1280.96 1541.53 1285.74 1536.53 Q1290.54 1531.54 1298.88 1531.54 Q1301.59 1531.54 1304.17 1532.11 Q1306.74 1532.65 1309.16 1533.76 Z\" fill=\"#000000\" fill-rule=\"nonzero\" fill-opacity=\"1\" /><path clip-path=\"url(#clip960)\" d=\"M1333.16 1536.5 Q1328.45 1536.5 1325.71 1540.19 Q1322.98 1543.85 1322.98 1550.25 Q1322.98 1556.65 1325.68 1560.34 Q1328.42 1564 1333.16 1564 Q1337.84 1564 1340.58 1560.31 Q1343.31 1556.62 1343.31 1550.25 Q1343.31 1543.92 1340.58 1540.23 Q1337.84 1536.5 1333.16 1536.5 M1333.16 1531.54 Q1340.8 1531.54 1345.16 1536.5 Q1349.52 1541.47 1349.52 1550.25 Q1349.52 1559 1345.16 1564 Q1340.8 1568.97 1333.16 1568.97 Q1325.49 1568.97 1321.13 1564 Q1316.8 1559 1316.8 1550.25 Q1316.8 1541.47 1321.13 1536.5 Q1325.49 1531.54 1333.16 1531.54 Z\" fill=\"#000000\" fill-rule=\"nonzero\" fill-opacity=\"1\" /><path clip-path=\"url(#clip960)\" d=\"M1389.72 1548.76 L1389.72 1551.62 L1362.79 1551.62 Q1363.18 1557.67 1366.42 1560.85 Q1369.7 1564 1375.53 1564 Q1378.9 1564 1382.05 1563.17 Q1385.23 1562.35 1388.35 1560.69 L1388.35 1566.23 Q1385.2 1567.57 1381.89 1568.27 Q1378.58 1568.97 1375.17 1568.97 Q1366.64 1568.97 1361.65 1564 Q1356.68 1559.04 1356.68 1550.57 Q1356.68 1541.82 1361.39 1536.69 Q1366.14 1531.54 1374.16 1531.54 Q1381.35 1531.54 1385.52 1536.18 Q1389.72 1540.8 1389.72 1548.76 M1383.86 1547.04 Q1383.8 1542.23 1381.16 1539.37 Q1378.55 1536.5 1374.22 1536.5 Q1369.32 1536.5 1366.36 1539.27 Q1363.43 1542.04 1362.98 1547.07 L1383.86 1547.04 Z\" fill=\"#000000\" fill-rule=\"nonzero\" fill-opacity=\"1\" /><path clip-path=\"url(#clip960)\" d=\"M1417.38 1518.52 L1417.38 1523.39 L1411.78 1523.39 Q1408.63 1523.39 1407.39 1524.66 Q1406.18 1525.93 1406.18 1529.24 L1406.18 1532.4 L1415.82 1532.4 L1415.82 1536.95 L1406.18 1536.95 L1406.18 1568.04 L1400.29 1568.04 L1400.29 1536.95 L1394.69 1536.95 L1394.69 1532.4 L1400.29 1532.4 L1400.29 1529.91 Q1400.29 1523.96 1403.06 1521.26 Q1405.83 1518.52 1411.84 1518.52 L1417.38 1518.52 Z\" fill=\"#000000\" fill-rule=\"nonzero\" fill-opacity=\"1\" /><polyline clip-path=\"url(#clip960)\" style=\"stroke:#000000; stroke-linecap:round; stroke-linejoin:round; stroke-width:4; stroke-opacity:1; fill:none\" points=\"219.195,1423.18 219.195,47.2441 \"/>\n",
       "<polyline clip-path=\"url(#clip960)\" style=\"stroke:#000000; stroke-linecap:round; stroke-linejoin:round; stroke-width:4; stroke-opacity:1; fill:none\" points=\"219.195,1196.56 238.093,1196.56 \"/>\n",
       "<polyline clip-path=\"url(#clip960)\" style=\"stroke:#000000; stroke-linecap:round; stroke-linejoin:round; stroke-width:4; stroke-opacity:1; fill:none\" points=\"219.195,877.281 238.093,877.281 \"/>\n",
       "<polyline clip-path=\"url(#clip960)\" style=\"stroke:#000000; stroke-linecap:round; stroke-linejoin:round; stroke-width:4; stroke-opacity:1; fill:none\" points=\"219.195,558 238.093,558 \"/>\n",
       "<polyline clip-path=\"url(#clip960)\" style=\"stroke:#000000; stroke-linecap:round; stroke-linejoin:round; stroke-width:4; stroke-opacity:1; fill:none\" points=\"219.195,238.72 238.093,238.72 \"/>\n",
       "<path clip-path=\"url(#clip960)\" d=\"M126.205 1182.36 Q122.593 1182.36 120.765 1185.92 Q118.959 1189.47 118.959 1196.6 Q118.959 1203.7 120.765 1207.27 Q122.593 1210.81 126.205 1210.81 Q129.839 1210.81 131.644 1207.27 Q133.473 1203.7 133.473 1196.6 Q133.473 1189.47 131.644 1185.92 Q129.839 1182.36 126.205 1182.36 M126.205 1178.66 Q132.015 1178.66 135.07 1183.26 Q138.149 1187.85 138.149 1196.6 Q138.149 1205.32 135.07 1209.93 Q132.015 1214.51 126.205 1214.51 Q120.394 1214.51 117.316 1209.93 Q114.26 1205.32 114.26 1196.6 Q114.26 1187.85 117.316 1183.26 Q120.394 1178.66 126.205 1178.66 Z\" fill=\"#000000\" fill-rule=\"nonzero\" fill-opacity=\"1\" /><path clip-path=\"url(#clip960)\" d=\"M146.366 1207.96 L151.251 1207.96 L151.251 1213.84 L146.366 1213.84 L146.366 1207.96 Z\" fill=\"#000000\" fill-rule=\"nonzero\" fill-opacity=\"1\" /><path clip-path=\"url(#clip960)\" d=\"M161.575 1213.12 L161.575 1208.86 Q163.334 1209.7 165.14 1210.14 Q166.945 1210.58 168.681 1210.58 Q173.311 1210.58 175.741 1207.48 Q178.195 1204.35 178.542 1198.01 Q177.2 1200 175.139 1201.06 Q173.079 1202.13 170.579 1202.13 Q165.394 1202.13 162.362 1199 Q159.353 1195.86 159.353 1190.42 Q159.353 1185.09 162.501 1181.87 Q165.649 1178.66 170.88 1178.66 Q176.876 1178.66 180.024 1183.26 Q183.195 1187.85 183.195 1196.6 Q183.195 1204.77 179.306 1209.65 Q175.44 1214.51 168.889 1214.51 Q167.13 1214.51 165.325 1214.17 Q163.519 1213.82 161.575 1213.12 M170.88 1198.47 Q174.028 1198.47 175.857 1196.32 Q177.709 1194.17 177.709 1190.42 Q177.709 1186.69 175.857 1184.54 Q174.028 1182.36 170.88 1182.36 Q167.732 1182.36 165.88 1184.54 Q164.052 1186.69 164.052 1190.42 Q164.052 1194.17 165.88 1196.32 Q167.732 1198.47 170.88 1198.47 Z\" fill=\"#000000\" fill-rule=\"nonzero\" fill-opacity=\"1\" /><path clip-path=\"url(#clip960)\" d=\"M116.83 890.626 L124.468 890.626 L124.468 864.26 L116.158 865.927 L116.158 861.667 L124.422 860.001 L129.098 860.001 L129.098 890.626 L136.737 890.626 L136.737 894.561 L116.83 894.561 L116.83 890.626 Z\" fill=\"#000000\" fill-rule=\"nonzero\" fill-opacity=\"1\" /><path clip-path=\"url(#clip960)\" d=\"M146.181 888.681 L151.066 888.681 L151.066 894.561 L146.181 894.561 L146.181 888.681 Z\" fill=\"#000000\" fill-rule=\"nonzero\" fill-opacity=\"1\" /><path clip-path=\"url(#clip960)\" d=\"M171.251 863.079 Q167.64 863.079 165.811 866.644 Q164.005 870.186 164.005 877.315 Q164.005 884.422 165.811 887.987 Q167.64 891.528 171.251 891.528 Q174.885 891.528 176.69 887.987 Q178.519 884.422 178.519 877.315 Q178.519 870.186 176.69 866.644 Q174.885 863.079 171.251 863.079 M171.251 859.376 Q177.061 859.376 180.116 863.982 Q183.195 868.566 183.195 877.315 Q183.195 886.042 180.116 890.649 Q177.061 895.232 171.251 895.232 Q165.44 895.232 162.362 890.649 Q159.306 886.042 159.306 877.315 Q159.306 868.566 162.362 863.982 Q165.44 859.376 171.251 859.376 Z\" fill=\"#000000\" fill-rule=\"nonzero\" fill-opacity=\"1\" /><path clip-path=\"url(#clip960)\" d=\"M118.056 571.345 L125.695 571.345 L125.695 544.98 L117.385 546.646 L117.385 542.387 L125.649 540.72 L130.325 540.72 L130.325 571.345 L137.964 571.345 L137.964 575.28 L118.056 575.28 L118.056 571.345 Z\" fill=\"#000000\" fill-rule=\"nonzero\" fill-opacity=\"1\" /><path clip-path=\"url(#clip960)\" d=\"M147.408 569.401 L152.292 569.401 L152.292 575.28 L147.408 575.28 L147.408 569.401 Z\" fill=\"#000000\" fill-rule=\"nonzero\" fill-opacity=\"1\" /><path clip-path=\"url(#clip960)\" d=\"M163.288 571.345 L170.927 571.345 L170.927 544.98 L162.616 546.646 L162.616 542.387 L170.88 540.72 L175.556 540.72 L175.556 571.345 L183.195 571.345 L183.195 575.28 L163.288 575.28 L163.288 571.345 Z\" fill=\"#000000\" fill-rule=\"nonzero\" fill-opacity=\"1\" /><path clip-path=\"url(#clip960)\" d=\"M118.427 252.065 L126.066 252.065 L126.066 225.699 L117.756 227.366 L117.756 223.106 L126.019 221.44 L130.695 221.44 L130.695 252.065 L138.334 252.065 L138.334 256 L118.427 256 L118.427 252.065 Z\" fill=\"#000000\" fill-rule=\"nonzero\" fill-opacity=\"1\" /><path clip-path=\"url(#clip960)\" d=\"M147.778 250.12 L152.663 250.12 L152.663 256 L147.778 256 L147.778 250.12 Z\" fill=\"#000000\" fill-rule=\"nonzero\" fill-opacity=\"1\" /><path clip-path=\"url(#clip960)\" d=\"M166.876 252.065 L183.195 252.065 L183.195 256 L161.251 256 L161.251 252.065 Q163.913 249.31 168.496 244.68 Q173.102 240.028 174.283 238.685 Q176.528 236.162 177.408 234.426 Q178.311 232.667 178.311 230.977 Q178.311 228.222 176.366 226.486 Q174.445 224.75 171.343 224.75 Q169.144 224.75 166.69 225.514 Q164.26 226.278 161.482 227.829 L161.482 223.106 Q164.306 221.972 166.76 221.394 Q169.214 220.815 171.251 220.815 Q176.621 220.815 179.815 223.5 Q183.01 226.185 183.01 230.676 Q183.01 232.805 182.2 234.727 Q181.413 236.625 179.306 239.218 Q178.727 239.889 175.626 243.106 Q172.524 246.301 166.876 252.065 Z\" fill=\"#000000\" fill-rule=\"nonzero\" fill-opacity=\"1\" /><path clip-path=\"url(#clip960)\" d=\"M41.7242 1159.63 Q42.4244 1157.56 44.7161 1155.62 Q47.0077 1153.65 51.0181 1151.67 L64.0042 1145.15 L64.0042 1152.05 L51.8138 1158.13 Q47.0395 1160.49 45.48 1162.72 Q43.9204 1164.91 43.9204 1168.73 L43.9204 1175.73 L64.0042 1175.73 L64.0042 1182.16 L16.4842 1182.16 L16.4842 1167.65 Q16.4842 1159.5 19.8898 1155.49 Q23.2955 1151.48 30.1704 1151.48 Q34.6582 1151.48 37.6183 1153.58 Q40.5784 1155.65 41.7242 1159.63 M21.7677 1175.73 L38.6368 1175.73 L38.6368 1167.65 Q38.6368 1163 36.5043 1160.65 Q34.34 1158.26 30.1704 1158.26 Q26.0009 1158.26 23.9002 1160.65 Q21.7677 1163 21.7677 1167.65 L21.7677 1175.73 Z\" fill=\"#000000\" fill-rule=\"nonzero\" fill-opacity=\"1\" /><path clip-path=\"url(#clip960)\" d=\"M44.7161 1109.56 L47.5806 1109.56 L47.5806 1136.49 Q53.6281 1136.11 56.8109 1132.86 Q59.9619 1129.58 59.9619 1123.76 Q59.9619 1120.38 59.1344 1117.23 Q58.3069 1114.05 56.6518 1110.93 L62.1899 1110.93 Q63.5267 1114.08 64.227 1117.39 Q64.9272 1120.7 64.9272 1124.11 Q64.9272 1132.64 59.9619 1137.64 Q54.9967 1142.6 46.5303 1142.6 Q37.7774 1142.6 32.6531 1137.89 Q27.4968 1133.15 27.4968 1125.13 Q27.4968 1117.93 32.1438 1113.76 Q36.7589 1109.56 44.7161 1109.56 M42.9973 1115.42 Q38.1912 1115.48 35.3266 1118.13 Q32.4621 1120.74 32.4621 1125.06 Q32.4621 1129.97 35.2312 1132.93 Q38.0002 1135.85 43.0292 1136.3 L42.9973 1115.42 Z\" fill=\"#000000\" fill-rule=\"nonzero\" fill-opacity=\"1\" /><path clip-path=\"url(#clip960)\" d=\"M28.3562 1104.15 L28.3562 1097.95 L58.275 1086.81 L28.3562 1075.67 L28.3562 1069.46 L64.0042 1082.83 L64.0042 1090.78 L28.3562 1104.15 Z\" fill=\"#000000\" fill-rule=\"nonzero\" fill-opacity=\"1\" /><path clip-path=\"url(#clip960)\" d=\"M74.8259 1034.29 L79.3773 1034.29 L79.3773 1068.15 L74.8259 1068.15 L74.8259 1034.29 Z\" fill=\"#000000\" fill-rule=\"nonzero\" fill-opacity=\"1\" /><path clip-path=\"url(#clip960)\" d=\"M41.7242 1005.99 Q42.4244 1003.92 44.7161 1001.98 Q47.0077 1000.01 51.0181 998.036 L64.0042 991.511 L64.0042 998.418 L51.8138 1004.5 Q47.0395 1006.85 45.48 1009.08 Q43.9204 1011.28 43.9204 1015.1 L43.9204 1022.1 L64.0042 1022.1 L64.0042 1028.53 L16.4842 1028.53 L16.4842 1014.01 Q16.4842 1005.87 19.8898 1001.86 Q23.2955 997.845 30.1704 997.845 Q34.6582 997.845 37.6183 999.946 Q40.5784 1002.01 41.7242 1005.99 M21.7677 1022.1 L38.6368 1022.1 L38.6368 1014.01 Q38.6368 1009.37 36.5043 1007.01 Q34.34 1004.62 30.1704 1004.62 Q26.0009 1004.62 23.9002 1007.01 Q21.7677 1009.37 21.7677 1014.01 L21.7677 1022.1 Z\" fill=\"#000000\" fill-rule=\"nonzero\" fill-opacity=\"1\" /><path clip-path=\"url(#clip960)\" d=\"M20.8447 963.948 Q20.8447 970.95 26.0645 975.088 Q31.2844 979.194 40.2919 979.194 Q49.2675 979.194 54.4874 975.088 Q59.7073 970.95 59.7073 963.948 Q59.7073 956.945 54.4874 952.871 Q49.2675 948.766 40.2919 948.766 Q31.2844 948.766 26.0645 952.871 Q20.8447 956.945 20.8447 963.948 M15.6248 963.948 Q15.6248 953.954 22.3406 947.97 Q29.0246 941.986 40.2919 941.986 Q51.5274 941.986 58.2432 947.97 Q64.9272 953.954 64.9272 963.948 Q64.9272 973.974 58.2432 979.989 Q51.5592 985.973 40.2919 985.973 Q29.0246 985.973 22.3406 979.989 Q15.6248 973.974 15.6248 963.948 Z\" fill=\"#000000\" fill-rule=\"nonzero\" fill-opacity=\"1\" /><path clip-path=\"url(#clip960)\" d=\"M74.8259 905.097 L79.3773 905.097 L79.3773 938.962 L74.8259 938.962 L74.8259 905.097 Z\" fill=\"#000000\" fill-rule=\"nonzero\" fill-opacity=\"1\" /><path clip-path=\"url(#clip960)\" d=\"M22.818 883.453 L46.4666 892.174 L46.4666 874.701 L22.818 883.453 M16.4842 887.082 L16.4842 879.793 L64.0042 861.683 L64.0042 868.367 L51.8138 872.695 L51.8138 894.116 L64.0042 898.445 L64.0042 905.224 L16.4842 887.082 Z\" fill=\"#000000\" fill-rule=\"nonzero\" fill-opacity=\"1\" /><path clip-path=\"url(#clip960)\" d=\"M28.3562 863.019 L28.3562 856.813 L58.275 845.673 L28.3562 834.533 L28.3562 828.326 L64.0042 841.694 L64.0042 849.651 L28.3562 863.019 Z\" fill=\"#000000\" fill-rule=\"nonzero\" fill-opacity=\"1\" /><path clip-path=\"url(#clip960)\" d=\"M45.7664 796.784 Q39.4007 796.784 35.8996 799.426 Q32.3984 802.036 32.3984 806.778 Q32.3984 811.489 35.8996 814.131 Q39.4007 816.741 45.7664 816.741 Q52.1003 816.741 55.6014 814.131 Q59.1026 811.489 59.1026 806.778 Q59.1026 802.036 55.6014 799.426 Q52.1003 796.784 45.7664 796.784 M59.58 790.928 Q68.683 790.928 73.1071 794.97 Q77.5631 799.012 77.5631 807.351 Q77.5631 810.439 77.0857 813.176 Q76.6401 815.913 75.6852 818.491 L69.9879 818.491 Q71.3884 815.913 72.0568 813.399 Q72.7252 810.884 72.7252 808.274 Q72.7252 802.513 69.7015 799.649 Q66.7096 796.784 60.6303 796.784 L57.7339 796.784 Q60.885 798.598 62.4446 801.431 Q64.0042 804.264 64.0042 808.211 Q64.0042 814.767 59.0071 818.778 Q54.01 822.788 45.7664 822.788 Q37.491 822.788 32.4939 818.778 Q27.4968 814.767 27.4968 808.211 Q27.4968 804.264 29.0564 801.431 Q30.616 798.598 33.7671 796.784 L28.3562 796.784 L28.3562 790.928 L59.58 790.928 Z\" fill=\"#000000\" fill-rule=\"nonzero\" fill-opacity=\"1\" /><path clip-path=\"url(#clip960)\" d=\"M16.4842 747.736 L16.4842 742.326 L70.0516 758.876 L70.0516 764.287 L16.4842 747.736 Z\" fill=\"#000000\" fill-rule=\"nonzero\" fill-opacity=\"1\" /><path clip-path=\"url(#clip960)\" d=\"M41.7242 692.673 Q42.4244 690.604 44.7161 688.663 Q47.0077 686.689 51.0181 684.716 L64.0042 678.191 L64.0042 685.098 L51.8138 691.177 Q47.0395 693.533 45.48 695.761 Q43.9204 697.957 43.9204 701.776 L43.9204 708.778 L64.0042 708.778 L64.0042 715.208 L16.4842 715.208 L16.4842 700.694 Q16.4842 692.546 19.8898 688.535 Q23.2955 684.525 30.1704 684.525 Q34.6582 684.525 37.6183 686.626 Q40.5784 688.695 41.7242 692.673 M21.7677 708.778 L38.6368 708.778 L38.6368 700.694 Q38.6368 696.047 36.5043 693.692 Q34.34 691.305 30.1704 691.305 Q26.0009 691.305 23.9002 693.692 Q21.7677 696.047 21.7677 700.694 L21.7677 708.778 Z\" fill=\"#000000\" fill-rule=\"nonzero\" fill-opacity=\"1\" /><path clip-path=\"url(#clip960)\" d=\"M44.7161 642.607 L47.5806 642.607 L47.5806 669.534 Q53.6281 669.152 56.8109 665.905 Q59.9619 662.627 59.9619 656.802 Q59.9619 653.429 59.1344 650.278 Q58.3069 647.095 56.6518 643.975 L62.1899 643.975 Q63.5267 647.127 64.227 650.437 Q64.9272 653.747 64.9272 657.152 Q64.9272 665.683 59.9619 670.68 Q54.9967 675.645 46.5303 675.645 Q37.7774 675.645 32.6531 670.934 Q27.4968 666.192 27.4968 658.171 Q27.4968 650.978 32.1438 646.808 Q36.7589 642.607 44.7161 642.607 M42.9973 648.463 Q38.1912 648.527 35.3266 651.169 Q32.4621 653.779 32.4621 658.107 Q32.4621 663.009 35.2312 665.969 Q38.0002 668.897 43.0292 669.343 L42.9973 648.463 Z\" fill=\"#000000\" fill-rule=\"nonzero\" fill-opacity=\"1\" /><path clip-path=\"url(#clip960)\" d=\"M28.3562 637.196 L28.3562 630.989 L58.275 619.849 L28.3562 608.709 L28.3562 602.503 L64.0042 615.871 L64.0042 623.828 L28.3562 637.196 Z\" fill=\"#000000\" fill-rule=\"nonzero\" fill-opacity=\"1\" /><path clip-path=\"url(#clip960)\" d=\"M74.8259 567.332 L79.3773 567.332 L79.3773 601.198 L74.8259 601.198 L74.8259 567.332 Z\" fill=\"#000000\" fill-rule=\"nonzero\" fill-opacity=\"1\" /><path clip-path=\"url(#clip960)\" d=\"M16.4842 561.571 L16.4842 531.525 L21.895 531.525 L21.895 555.142 L35.9632 555.142 L35.9632 532.512 L41.3741 532.512 L41.3741 555.142 L58.5933 555.142 L58.5933 530.952 L64.0042 530.952 L64.0042 561.571 L16.4842 561.571 Z\" fill=\"#000000\" fill-rule=\"nonzero\" fill-opacity=\"1\" /><path clip-path=\"url(#clip960)\" d=\"M16.4842 526.974 L16.4842 486.774 L21.895 486.774 L21.895 503.643 L64.0042 503.643 L64.0042 510.105 L21.895 510.105 L21.895 526.974 L16.4842 526.974 Z\" fill=\"#000000\" fill-rule=\"nonzero\" fill-opacity=\"1\" /><path clip-path=\"url(#clip960)\" d=\"M20.8447 461.28 Q20.8447 468.282 26.0645 472.42 Q31.2844 476.526 40.2919 476.526 Q49.2675 476.526 54.4874 472.42 Q59.7073 468.282 59.7073 461.28 Q59.7073 454.277 54.4874 450.203 Q49.2675 446.097 40.2919 446.097 Q31.2844 446.097 26.0645 450.203 Q20.8447 454.277 20.8447 461.28 M15.6248 461.28 Q15.6248 451.286 22.3406 445.302 Q29.0246 439.318 40.2919 439.318 Q51.5274 439.318 58.2432 445.302 Q64.9272 451.286 64.9272 461.28 Q64.9272 471.306 58.2432 477.321 Q51.5592 483.305 40.2919 483.305 Q29.0246 483.305 22.3406 477.321 Q15.6248 471.306 15.6248 461.28 Z\" fill=\"#000000\" fill-rule=\"nonzero\" fill-opacity=\"1\" /><path clip-path=\"url(#clip960)\" d=\"M74.8259 402.429 L79.3773 402.429 L79.3773 436.294 L74.8259 436.294 L74.8259 402.429 Z\" fill=\"#000000\" fill-rule=\"nonzero\" fill-opacity=\"1\" /><path clip-path=\"url(#clip960)\" d=\"M22.818 380.785 L46.4666 389.506 L46.4666 372.032 L22.818 380.785 M16.4842 384.414 L16.4842 377.125 L64.0042 359.015 L64.0042 365.699 L51.8138 370.027 L51.8138 391.448 L64.0042 395.777 L64.0042 402.556 L16.4842 384.414 Z\" fill=\"#000000\" fill-rule=\"nonzero\" fill-opacity=\"1\" /><path clip-path=\"url(#clip960)\" d=\"M28.3562 360.351 L28.3562 354.145 L58.275 343.005 L28.3562 331.865 L28.3562 325.658 L64.0042 339.026 L64.0042 346.983 L28.3562 360.351 Z\" fill=\"#000000\" fill-rule=\"nonzero\" fill-opacity=\"1\" /><path clip-path=\"url(#clip960)\" d=\"M45.7664 294.116 Q39.4007 294.116 35.8996 296.758 Q32.3984 299.368 32.3984 304.11 Q32.3984 308.821 35.8996 311.463 Q39.4007 314.073 45.7664 314.073 Q52.1003 314.073 55.6014 311.463 Q59.1026 308.821 59.1026 304.11 Q59.1026 299.368 55.6014 296.758 Q52.1003 294.116 45.7664 294.116 M59.58 288.26 Q68.683 288.26 73.1071 292.302 Q77.5631 296.344 77.5631 304.683 Q77.5631 307.771 77.0857 310.508 Q76.6401 313.245 75.6852 315.823 L69.9879 315.823 Q71.3884 313.245 72.0568 310.731 Q72.7252 308.216 72.7252 305.606 Q72.7252 299.845 69.7015 296.981 Q66.7096 294.116 60.6303 294.116 L57.7339 294.116 Q60.885 295.93 62.4446 298.763 Q64.0042 301.596 64.0042 305.543 Q64.0042 312.099 59.0071 316.11 Q54.01 320.12 45.7664 320.12 Q37.491 320.12 32.4939 316.11 Q27.4968 312.099 27.4968 305.543 Q27.4968 301.596 29.0564 298.763 Q30.616 295.93 33.7671 294.116 L28.3562 294.116 L28.3562 288.26 L59.58 288.26 Z\" fill=\"#000000\" fill-rule=\"nonzero\" fill-opacity=\"1\" /><polyline clip-path=\"url(#clip962)\" style=\"stroke:#009af9; stroke-linecap:round; stroke-linejoin:round; stroke-width:4; stroke-opacity:1; fill:none\" points=\"279.579,877.281 346.672,554.528 615.044,250.114 950.51,86.1857 1084.7,190.793 1285.98,217.849 1621.44,429.487 1956.91,1325.53 2292.37,1384.24 \"/>\n",
       "<path clip-path=\"url(#clip962)\" d=\"M279.579 893.281 L268.267 888.593 L263.579 877.281 L268.267 865.969 L279.579 861.281 L290.891 865.969 L295.579 877.281 L290.891 888.593 Z\" fill=\"#009af9\" fill-rule=\"evenodd\" fill-opacity=\"1\" stroke=\"#000000\" stroke-opacity=\"1\" stroke-width=\"3.2\"/>\n",
       "<path clip-path=\"url(#clip962)\" d=\"M346.672 570.528 L335.36 565.84 L330.672 554.528 L335.36 543.216 L346.672 538.528 L357.984 543.216 L362.672 554.528 L357.984 565.84 Z\" fill=\"#009af9\" fill-rule=\"evenodd\" fill-opacity=\"1\" stroke=\"#000000\" stroke-opacity=\"1\" stroke-width=\"3.2\"/>\n",
       "<path clip-path=\"url(#clip962)\" d=\"M615.044 266.114 L603.732 261.426 L599.044 250.114 L603.732 238.802 L615.044 234.114 L626.356 238.802 L631.044 250.114 L626.356 261.426 Z\" fill=\"#009af9\" fill-rule=\"evenodd\" fill-opacity=\"1\" stroke=\"#000000\" stroke-opacity=\"1\" stroke-width=\"3.2\"/>\n",
       "<path clip-path=\"url(#clip962)\" d=\"M950.51 102.186 L939.198 97.4977 L934.51 86.1857 L939.198 74.8737 L950.51 70.1857 L961.822 74.8737 L966.51 86.1857 L961.822 97.4977 Z\" fill=\"#009af9\" fill-rule=\"evenodd\" fill-opacity=\"1\" stroke=\"#000000\" stroke-opacity=\"1\" stroke-width=\"3.2\"/>\n",
       "<path clip-path=\"url(#clip962)\" d=\"M1084.7 206.793 L1073.38 202.105 L1068.7 190.793 L1073.38 179.481 L1084.7 174.793 L1096.01 179.481 L1100.7 190.793 L1096.01 202.105 Z\" fill=\"#009af9\" fill-rule=\"evenodd\" fill-opacity=\"1\" stroke=\"#000000\" stroke-opacity=\"1\" stroke-width=\"3.2\"/>\n",
       "<path clip-path=\"url(#clip962)\" d=\"M1285.98 233.849 L1274.66 229.161 L1269.98 217.849 L1274.66 206.537 L1285.98 201.849 L1297.29 206.537 L1301.98 217.849 L1297.29 229.161 Z\" fill=\"#009af9\" fill-rule=\"evenodd\" fill-opacity=\"1\" stroke=\"#000000\" stroke-opacity=\"1\" stroke-width=\"3.2\"/>\n",
       "<path clip-path=\"url(#clip962)\" d=\"M1621.44 445.487 L1610.13 440.799 L1605.44 429.487 L1610.13 418.175 L1621.44 413.487 L1632.75 418.175 L1637.44 429.487 L1632.75 440.799 Z\" fill=\"#009af9\" fill-rule=\"evenodd\" fill-opacity=\"1\" stroke=\"#000000\" stroke-opacity=\"1\" stroke-width=\"3.2\"/>\n",
       "<path clip-path=\"url(#clip962)\" d=\"M1956.91 1341.53 L1945.59 1336.84 L1940.91 1325.53 L1945.59 1314.22 L1956.91 1309.53 L1968.22 1314.22 L1972.91 1325.53 L1968.22 1336.84 Z\" fill=\"#009af9\" fill-rule=\"evenodd\" fill-opacity=\"1\" stroke=\"#000000\" stroke-opacity=\"1\" stroke-width=\"3.2\"/>\n",
       "<path clip-path=\"url(#clip962)\" d=\"M2292.37 1400.24 L2281.06 1395.55 L2276.37 1384.24 L2281.06 1372.93 L2292.37 1368.24 L2303.68 1372.93 L2308.37 1384.24 L2303.68 1395.55 Z\" fill=\"#009af9\" fill-rule=\"evenodd\" fill-opacity=\"1\" stroke=\"#000000\" stroke-opacity=\"1\" stroke-width=\"3.2\"/>\n",
       "<polyline clip-path=\"url(#clip962)\" style=\"stroke:#ff0000; stroke-linecap:round; stroke-linejoin:round; stroke-width:4; stroke-opacity:1; fill:none\" stroke-dasharray=\"16, 10\" points=\"-1914.37,877.281 4486.32,877.281 \"/>\n",
       "</svg>\n"
      ],
      "text/html": [
       "<img src=\"data:image/png;base64,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\" />"
      ]
     },
     "metadata": {},
     "output_type": "display_data"
    }
   ],
   "source": [
    "ratio = Rev_RO_Avg ./ mean(Rev_ETO)\n",
    "plot(RO_coef_all, ratio, marker=:o, xlabel=\"RO_coef\", ylabel=\"Rev_RO_Avg / Rev_ETO_Avg\", legend=false)\n",
    "hline!([1.0], linestyle=:dash, color=:red, label=\"y=1.0\")\n",
    "# savefig(plt, \"Rev_RO_Avg_vs_Rev_ETO_Avg.png\")  # 保存为当前目录下的PNG图片"
   ]
  },
  {
   "cell_type": "code",
   "execution_count": null,
   "id": "e86416fc",
   "metadata": {},
   "outputs": [],
   "source": [
    "plot_boxplot(RO_coef_all[1:5],Rev_ETO,Rev_RO)"
   ]
  },
  {
   "cell_type": "markdown",
   "id": "ad4e147e",
   "metadata": {},
   "source": [
    "### offdiag is positive"
   ]
  },
  {
   "cell_type": "code",
   "execution_count": null,
   "id": "98b91a59",
   "metadata": {},
   "outputs": [],
   "source": [
    "# offdiag_sign = \"positive\";\n",
    "# Params = set_Params(N, N_u, K, S_train, S_test, offdiag_sign, max_offdiag, P_bar, RO_coef_all, seed)"
   ]
  },
  {
   "cell_type": "code",
   "execution_count": null,
   "id": "5ef2df46",
   "metadata": {},
   "outputs": [],
   "source": [
    "# sub_file_name = \"N=$(N)_N_u=$(N_u)_K=$(K)_S_train=$(S_train)_offdiag_sign=$(offdiag_sign)_max_offdiag=$(max_offdiag)/\"\n",
    "# this_data_file = string(data_dir,project_name,sub_file_name)\n",
    "# if !isdir(this_data_file)\n",
    "#     mkpath(this_data_file)\n",
    "# end\n",
    "# save(string(this_data_file, \"Params.jld2\"), Params);"
   ]
  },
  {
   "cell_type": "code",
   "execution_count": null,
   "id": "db9af694",
   "metadata": {},
   "outputs": [],
   "source": [
    "# Random.seed!(seed)\n",
    "# Input_Data = generate_Input_Data(S_train,S_test,iterations, N, N_u, K, offdiag_sign,max_offdiag,P_bar);\n",
    "# Input_Data = Calculate_Hyper_Param(RO_coef_all, iterations, N, N_u, K, Input_Data);\n",
    "# save(string(this_data_file, \"Input_Data.jld2\"), Input_Data);"
   ]
  },
  {
   "cell_type": "code",
   "execution_count": null,
   "id": "0f054212",
   "metadata": {},
   "outputs": [],
   "source": [
    "# print_flag=true\n",
    "# RST_Oracle = Run_Oracle(iterations, N, N_u, K, Input_Data,print_flag);\n",
    "# Rev_Oracle = [RST_Oracle[\"iter=$(iter)_Rev\"] for iter in 1:iterations];\n",
    "# save(string(this_data_file, \"RST_Oracle.jld2\"), RST_Oracle);"
   ]
  },
  {
   "cell_type": "code",
   "execution_count": null,
   "id": "eb30444d",
   "metadata": {},
   "outputs": [],
   "source": [
    "# RST_ETO = Run_ETO(iterations, N, N_u, K, Input_Data,print_flag);\n",
    "# Rev_ETO = [RST_ETO[\"iter=$(iter)_Rev\"] for iter in 1:iterations]\n",
    "# println(\"Rev_ETO/Rev_Oracle = \",round.(Rev_ETO./Rev_Oracle,digits=4))\n",
    "# save(string(this_data_file, \"RST_ETO.jld2\"), RST_ETO);"
   ]
  },
  {
   "cell_type": "code",
   "execution_count": null,
   "id": "ac14eb87",
   "metadata": {},
   "outputs": [],
   "source": [
    "# model_name=\"Two_Side\"\n",
    "# RST_RO = Dict(); Rev_RO = Dict();\n",
    "# for RO_coef in RO_coef_all\n",
    "#     println(\"Running RO with RO_coef = \",RO_coef)\n",
    "#     RST_RO_this = Run_RO_with_RO_coef(RO_coef, iterations, N, N_u, K, Input_Data, 0.0,model_name,false);\n",
    "#     RST_RO[\"RO_coef=$(RO_coef)\"] = RST_RO_this\n",
    "#     Rev_RO[\"RO_coef=$(RO_coef)\"] = [RST_RO_this[\"iter=$(iter)_Rev\"] for iter in 1:iterations]\n",
    "# end\n",
    "# save(string(this_data_file, \"RST_RO.jld2\"), RST_RO);"
   ]
  },
  {
   "cell_type": "code",
   "execution_count": null,
   "id": "db2af615",
   "metadata": {},
   "outputs": [],
   "source": [
    "# for RO_coef in RO_coef_all\n",
    "#     Rev_RO_this = Rev_RO[\"RO_coef=$(RO_coef)\"]\n",
    "#     println(\"Average = \",round(mean(Rev_RO_this./Rev_ETO),digits=4),\", Rev_RO/Rev_ETO for RO_coef=$(RO_coef) = \",round.(Rev_RO_this./Rev_ETO,digits=4),)\n",
    "# end"
   ]
  },
  {
   "cell_type": "markdown",
   "id": "211a7218",
   "metadata": {},
   "source": [
    "### offdiag is negative"
   ]
  },
  {
   "cell_type": "code",
   "execution_count": null,
   "id": "c4cf05bd",
   "metadata": {},
   "outputs": [],
   "source": [
    "# offdiag_sign = \"negative\";\n",
    "# Params = set_Params(N, N_u, K, S_train, S_test, offdiag_sign, max_offdiag, P_bar, RO_coef_all, seed)"
   ]
  },
  {
   "cell_type": "code",
   "execution_count": null,
   "id": "a72702ab",
   "metadata": {},
   "outputs": [],
   "source": [
    "# sub_file_name = \"N=$(N)_N_u=$(N_u)_K=$(K)_S_train=$(S_train)_offdiag_sign=$(offdiag_sign)_max_offdiag=$(max_offdiag)/\"\n",
    "# this_data_file = string(data_dir,project_name,sub_file_name)\n",
    "# if !isdir(this_data_file)\n",
    "#     mkpath(this_data_file)\n",
    "# end\n",
    "# save(string(this_data_file, \"Params.jld2\"), Params);"
   ]
  },
  {
   "cell_type": "code",
   "execution_count": null,
   "id": "9071c26c",
   "metadata": {},
   "outputs": [],
   "source": [
    "# print_flag=true\n",
    "# RST_Oracle = Run_Oracle(iterations, N, N_u, K, Input_Data,print_flag);\n",
    "# Rev_Oracle = [RST_Oracle[\"iter=$(iter)_Rev\"] for iter in 1:iterations];\n",
    "# save(string(this_data_file, \"RST_Oracle.jld2\"), RST_Oracle);"
   ]
  },
  {
   "cell_type": "code",
   "execution_count": null,
   "id": "610d6a10",
   "metadata": {},
   "outputs": [],
   "source": [
    "# RST_ETO = Run_ETO(iterations, N, N_u, K, Input_Data,print_flag);\n",
    "# Rev_ETO = [RST_ETO[\"iter=$(iter)_Rev\"] for iter in 1:iterations]\n",
    "# println(\"Rev_ETO/Rev_Oracle = \",round.(Rev_ETO./Rev_Oracle,digits=4))\n",
    "# save(string(this_data_file, \"RST_ETO.jld2\"), RST_ETO);"
   ]
  },
  {
   "cell_type": "code",
   "execution_count": null,
   "id": "b995846a",
   "metadata": {},
   "outputs": [],
   "source": [
    "# model_name=\"Two_Side\"\n",
    "# RST_RO = Dict(); Rev_RO = Dict();\n",
    "# for RO_coef in RO_coef_all\n",
    "#     println(\"Running RO with RO_coef = \",RO_coef)\n",
    "#     RST_RO_this = Run_RO_with_RO_coef(RO_coef, iterations, N, N_u, K, Input_Data, 0.0,model_name,false);\n",
    "#     RST_RO[\"RO_coef=$(RO_coef)\"] = RST_RO_this\n",
    "#     Rev_RO[\"RO_coef=$(RO_coef)\"] = [RST_RO_this[\"iter=$(iter)_Rev\"] for iter in 1:iterations]\n",
    "# end\n",
    "# save(string(this_data_file, \"RST_RO.jld2\"), RST_RO);"
   ]
  }
 ],
 "metadata": {
  "kernelspec": {
   "display_name": "Julia 1.11.7",
   "language": "julia",
   "name": "julia-1.11"
  },
  "language_info": {
   "file_extension": ".jl",
   "mimetype": "application/julia",
   "name": "julia",
   "version": "1.11.7"
  }
 },
 "nbformat": 4,
 "nbformat_minor": 5
}
