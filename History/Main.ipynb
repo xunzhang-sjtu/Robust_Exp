{
 "cells": [
  {
   "cell_type": "code",
   "execution_count": 36,
   "id": "ea7846fb",
   "metadata": {},
   "outputs": [
    {
     "data": {
      "text/plain": [
       "plot_boxplot (generic function with 1 method)"
      ]
     },
     "metadata": {},
     "output_type": "display_data"
    }
   ],
   "source": [
    "using LinearAlgebra\n",
    "using Distributions\n",
    "using Optim\n",
    "using Random\n",
    "using StatsFuns\n",
    "using JuMP\n",
    "using MosekTools\n",
    "using JLD2\n",
    "\n",
    "include(\"ETO.jl\")\n",
    "include(\"RO.jl\")\n",
    "include(\"Data.jl\")\n",
    "include(\"Estimate.jl\")\n",
    "include(\"Performance.jl\")\n",
    "include(\"Plot_Figures.jl\")"
   ]
  },
  {
   "cell_type": "code",
   "execution_count": 2,
   "id": "f424ebee",
   "metadata": {},
   "outputs": [],
   "source": [
    "current_dir = pwd()\n",
    "parent_dir = dirname(current_dir)\n",
    "grand_pa_dir = dirname(parent_dir)\n",
    "data_dir = string(grand_pa_dir, \"/Data/\")\n",
    "if !isdir(data_dir)\n",
    "    mkpath(data_dir)\n",
    "end"
   ]
  },
  {
   "cell_type": "markdown",
   "id": "bc1238ab",
   "metadata": {},
   "source": [
    "## Functions"
   ]
  },
  {
   "cell_type": "code",
   "execution_count": 3,
   "id": "be70475e",
   "metadata": {},
   "outputs": [
    {
     "data": {
      "text/plain": [
       "generate_Input_Data (generic function with 1 method)"
      ]
     },
     "metadata": {},
     "output_type": "display_data"
    }
   ],
   "source": [
    "function generate_Input_Data(S_train,S_test,iterations, N, N_u, K, offdiag_sign,max_offdiag,P_bar)\n",
    "    Input_Data = Dict()\n",
    "    for iter in 1:iterations\n",
    "        A_true, B_true = Generate_Coef(N_u, N,max_offdiag,offdiag_sign);\n",
    "        U_train, P_train = Generate_Feat_Data(N_u, N, S_train);\n",
    "        U_test, P_test = Generate_Feat_Data(N_u, N, S_test);\n",
    "\n",
    "        Input_Data[\"iter=$(iter)_Obs_Feat\"] = U_test[1,:];\n",
    "        Input_Data[\"iter=$(iter)_A_true\"] = A_true;\n",
    "        Input_Data[\"iter=$(iter)_B_true\"] = B_true;\n",
    "        Input_Data[\"iter=$(iter)_P_dag\"] = round.(rand(N, K) .* P_bar; digits=2);\n",
    "        Input_Data[\"iter=$(iter)_U_train\"] = U_train;\n",
    "        Input_Data[\"iter=$(iter)_P_train\"] = P_train;\n",
    "\n",
    "        A_hat, B_hat = Estimate_MNL_Para(U_train, P_train, S_train, N, N_u, N, A_true, B_true);\n",
    "\n",
    "        Input_Data[\"iter=$(iter)_A_hat\"] = A_hat\n",
    "        Input_Data[\"iter=$(iter)_B_hat\"] = B_hat\n",
    "    end\n",
    "    return Input_Data\n",
    "end"
   ]
  },
  {
   "cell_type": "code",
   "execution_count": 4,
   "id": "269d261d",
   "metadata": {},
   "outputs": [
    {
     "data": {
      "text/plain": [
       "Run_Oracle (generic function with 1 method)"
      ]
     },
     "metadata": {},
     "output_type": "display_data"
    }
   ],
   "source": [
    "function Run_Oracle(iterations, N, N_u, K, Input_Data,print_flag)\n",
    "    RST_ = Dict()\n",
    "    for iter in 1:iterations\n",
    "        Obs_Feat = Input_Data[\"iter=$(iter)_Obs_Feat\"]\n",
    "        A_true = Input_Data[\"iter=$(iter)_A_true\"]\n",
    "        B_true = Input_Data[\"iter=$(iter)_B_true\"]\n",
    "        P_dag = Input_Data[\"iter=$(iter)_P_dag\"]\n",
    "        \n",
    "        obj_ETO,X_ETO,time_ETO = Solve_ETO(N,N_u,K,A_true,B_true,Obs_Feat,P_dag)\n",
    "        rev_ETO, price_ETO = compute_oof(X_ETO, A_true, B_true, Obs_Feat, P_dag)\n",
    "        if print_flag\n",
    "            println(\"iter=$(iter): rev_Oracle = \",round(rev_ETO,digits=6),\", price_Oracle = \",price_ETO)\n",
    "        end\n",
    "        RST_[\"iter=$(iter)_Time\"] = time_ETO\n",
    "        RST_[\"iter=$(iter)_Rev\"] = rev_ETO\n",
    "        RST_[\"iter=$(iter)_Price\"] = price_ETO\n",
    "        RST_[\"iter=$(iter)_Obj\"] = obj_ETO\n",
    "    end\n",
    "    return RST_\n",
    "end"
   ]
  },
  {
   "cell_type": "code",
   "execution_count": 5,
   "id": "89994bc2",
   "metadata": {},
   "outputs": [
    {
     "data": {
      "text/plain": [
       "Run_ETO (generic function with 1 method)"
      ]
     },
     "metadata": {},
     "output_type": "display_data"
    }
   ],
   "source": [
    "function Run_ETO(iterations, N, N_u, K, Input_Data,print_flag)\n",
    "    RST_ETO = Dict()\n",
    "    for iter in 1:iterations\n",
    "        Obs_Feat = Input_Data[\"iter=$(iter)_Obs_Feat\"]\n",
    "        A_hat = Input_Data[\"iter=$(iter)_A_hat\"]\n",
    "        B_hat = Input_Data[\"iter=$(iter)_B_hat\"]\n",
    "        A_true = Input_Data[\"iter=$(iter)_A_true\"]\n",
    "        B_true = Input_Data[\"iter=$(iter)_B_true\"]\n",
    "        P_dag = Input_Data[\"iter=$(iter)_P_dag\"]\n",
    "        \n",
    "        obj_ETO,X_ETO,time_ETO = Solve_ETO(N,N_u,K,A_hat,B_hat,Obs_Feat,P_dag)\n",
    "        rev_ETO, price_ETO = compute_oof(X_ETO, A_true, B_true, Obs_Feat, P_dag)\n",
    "        if print_flag\n",
    "            println(\"iter=$(iter): rev_ETO = \",round(rev_ETO,digits=6),\", price_ETO = \",price_ETO)\n",
    "        end\n",
    "        RST_ETO[\"iter=$(iter)_Time\"] = time_ETO\n",
    "        RST_ETO[\"iter=$(iter)_Rev\"] = rev_ETO\n",
    "        RST_ETO[\"iter=$(iter)_Price\"] = price_ETO\n",
    "        RST_ETO[\"iter=$(iter)_Obj\"] = obj_ETO\n",
    "    end\n",
    "    return RST_ETO\n",
    "end"
   ]
  },
  {
   "cell_type": "code",
   "execution_count": 6,
   "id": "09c3b5b0",
   "metadata": {},
   "outputs": [
    {
     "data": {
      "text/plain": [
       "search_opt_price (generic function with 1 method)"
      ]
     },
     "metadata": {},
     "output_type": "display_data"
    }
   ],
   "source": [
    "function search_opt_price(N,p_lb,p_ub,b_n)\n",
    "    model = Model(Mosek.Optimizer)\n",
    "    set_attribute(model, \"QUIET\", true)\n",
    "    # 定义变量\n",
    "    @variable(model, price[1:N])                      # y_{nk}\n",
    "    @constraint(model, price .>= p_lb)\n",
    "    @constraint(model, price .<= p_ub)\n",
    "    @objective(model, Max,b_n' * price )\n",
    "    optimize!(model)\n",
    "    obj_val = objective_value(model)\n",
    "    return obj_val\n",
    "end"
   ]
  },
  {
   "cell_type": "code",
   "execution_count": 7,
   "id": "262a1844",
   "metadata": {},
   "outputs": [
    {
     "data": {
      "text/plain": [
       "Calculate_Hyper_Param (generic function with 1 method)"
      ]
     },
     "metadata": {},
     "output_type": "display_data"
    }
   ],
   "source": [
    "function Calculate_Hyper_Param(RO_coef_all, iterations, N, N_u, K, Input_Data)\n",
    "    for iter in 1:iterations\n",
    "        Obs_Feat = Input_Data[\"iter=$(iter)_Obs_Feat\"]\n",
    "        # A_true = Input_Data[\"iter=$(iter)_A_true\"]\n",
    "        # B_true = Input_Data[\"iter=$(iter)_B_true\"]\n",
    "        P_dag = Input_Data[\"iter=$(iter)_P_dag\"]\n",
    "        A_hat = Input_Data[\"iter=$(iter)_A_hat\"]\n",
    "        B_hat = Input_Data[\"iter=$(iter)_B_hat\"]\n",
    "\n",
    "        for RO_coef in RO_coef_all\n",
    "            A_lb = A_hat .- RO_coef .* abs.(A_hat);\n",
    "            A_ub = A_hat .+ RO_coef .* abs.(A_hat);\n",
    "            B_lb = B_hat .- RO_coef .* abs.(B_hat);\n",
    "            B_ub = B_hat .+ RO_coef .* abs.(B_hat);\n",
    "            \n",
    "            p_ub = vec(maximum(P_dag,dims=2))\n",
    "            p_lb = vec(minimum(P_dag,dims=2))\n",
    "            p_max = maximum(p_ub)\n",
    "            p_min = minimum(p_lb)\n",
    "            Obs_Feat_Trun = [max(-Obs_Feat[ind],0) for ind in 1:N_u]\n",
    "            psi_lb = zeros(N)\n",
    "            for n in 1:N\n",
    "                b_n = B_lb[n,:]\n",
    "                obj_n = search_opt_price(N,p_lb,p_ub,b_n)\n",
    "                psi_lb[n] = max(-10000,-exp(-Obs_Feat_Trun' * (A_ub[n,:] - A_lb[n,:]) + Obs_Feat' * A_lb[n,:] + obj_n)*(p_max-p_min))\n",
    "            end        \n",
    "\n",
    "            Input_Data[\"iter=$(iter)_RO_coef=$(RO_coef)_psi_lb\"] = psi_lb\n",
    "            Input_Data[\"iter=$(iter)_RO_coef=$(RO_coef)_psi_ub\"] = zeros(N)\n",
    "            Input_Data[\"iter=$(iter)_RO_coef=$(RO_coef)_phi_lb\"] = [p_min - p_max for i in 1:N]\n",
    "            Input_Data[\"iter=$(iter)_RO_coef=$(RO_coef)_phi_ub\"] = zeros(N)\n",
    "\n",
    "            Input_Data[\"iter=$(iter)_RO_coef=$(RO_coef)_A_lb\"] = A_lb\n",
    "            Input_Data[\"iter=$(iter)_RO_coef=$(RO_coef)_A_ub\"] = A_ub\n",
    "            Input_Data[\"iter=$(iter)_RO_coef=$(RO_coef)_B_lb\"] = B_lb\n",
    "            Input_Data[\"iter=$(iter)_RO_coef=$(RO_coef)_B_ub\"] = B_ub\n",
    "        end\n",
    "    end\n",
    "    return Input_Data\n",
    "end"
   ]
  },
  {
   "cell_type": "code",
   "execution_count": 8,
   "id": "016c89dc",
   "metadata": {},
   "outputs": [
    {
     "data": {
      "text/plain": [
       "Run_RO (generic function with 1 method)"
      ]
     },
     "metadata": {},
     "output_type": "display_data"
    }
   ],
   "source": [
    "function Run_RO(RO_coef, iterations, N, N_u, K, Input_Data,psi_coef,model_name,print_flag)\n",
    "    RST_RO = Dict()\n",
    "    for iter in 1:iterations\n",
    "        Obs_Feat = Input_Data[\"iter=$(iter)_Obs_Feat\"]\n",
    "        A_true = Input_Data[\"iter=$(iter)_A_true\"]\n",
    "        B_true = Input_Data[\"iter=$(iter)_B_true\"]\n",
    "        P_dag = Input_Data[\"iter=$(iter)_P_dag\"]\n",
    "\n",
    "        psi_lb = Input_Data[\"iter=$(iter)_RO_coef=$(RO_coef)_psi_lb\"]\n",
    "        psi_ub = Input_Data[\"iter=$(iter)_RO_coef=$(RO_coef)_psi_ub\"]\n",
    "        phi_lb = Input_Data[\"iter=$(iter)_RO_coef=$(RO_coef)_phi_lb\"]\n",
    "        phi_ub = Input_Data[\"iter=$(iter)_RO_coef=$(RO_coef)_phi_ub\"]\n",
    "\n",
    "        A_lb = Input_Data[\"iter=$(iter)_RO_coef=$(RO_coef)_A_lb\"]\n",
    "        A_ub = Input_Data[\"iter=$(iter)_RO_coef=$(RO_coef)_A_ub\"]\n",
    "        B_lb = Input_Data[\"iter=$(iter)_RO_coef=$(RO_coef)_B_lb\"]\n",
    "        B_ub = Input_Data[\"iter=$(iter)_RO_coef=$(RO_coef)_B_ub\"]\n",
    "        if model_name == \"Two_Side\"\n",
    "            obj_RO,X_RO,time_RO = Solve_RO(N,N_u,K,A_lb,A_ub,B_lb,B_ub,Obs_Feat,P_dag,psi_lb,psi_ub,phi_lb,phi_ub)\n",
    "        else\n",
    "            obj_RO,X_RO,time_RO = Solve_RO_one_side_exp(N,N_u,K,A_lb,A_ub,B_lb,B_ub,Obs_Feat,P_dag,psi_lb,psi_ub)\n",
    "        end\n",
    "        \n",
    "        rev_RO, price_RO = compute_oof(X_RO, A_true, B_true, Obs_Feat, P_dag)\n",
    "        if print_flag\n",
    "            println(\"iter=$(iter): rev_RO = \",round(rev_RO,digits=6),\", price_RO = \",price_RO)\n",
    "        end\n",
    "        RST_RO[\"iter=$(iter)_Time\"] = time_RO\n",
    "        RST_RO[\"iter=$(iter)_Rev\"] = rev_RO\n",
    "        RST_RO[\"iter=$(iter)_Price\"] = price_RO\n",
    "        RST_RO[\"iter=$(iter)_Obj\"] = obj_RO\n",
    "    end\n",
    "    return RST_RO\n",
    "end"
   ]
  },
  {
   "cell_type": "code",
   "execution_count": 9,
   "id": "6a3970f5",
   "metadata": {},
   "outputs": [
    {
     "data": {
      "text/plain": [
       "Run_RO_with_RO_coef (generic function with 1 method)"
      ]
     },
     "metadata": {},
     "output_type": "display_data"
    }
   ],
   "source": [
    "function Run_RO_with_RO_coef(RO_coef, iterations, N, N_u, K, Input_Data, psi_coef,model_name,print_flag)\n",
    "    RST_RO = Run_RO(RO_coef, iterations, N, N_u, K, Input_Data,psi_coef,model_name,print_flag);\n",
    "    return RST_RO\n",
    "end"
   ]
  },
  {
   "cell_type": "code",
   "execution_count": 10,
   "id": "83d6f208",
   "metadata": {},
   "outputs": [
    {
     "data": {
      "text/plain": [
       "set_Params (generic function with 1 method)"
      ]
     },
     "metadata": {},
     "output_type": "display_data"
    }
   ],
   "source": [
    "function set_Params(N, N_u, K, S_train, S_test, offdiag_sign, max_offdiag, P_bar, RO_coef_all, seed)\n",
    "    Params = Dict()\n",
    "    Params[\"N\"] = N\n",
    "    Params[\"N_u\"] = N_u\n",
    "    Params[\"K\"] = K\n",
    "    Params[\"S_train\"] = S_train\n",
    "    Params[\"S_test\"] = S_test\n",
    "    Params[\"offdiag_sign\"] = offdiag_sign\n",
    "    Params[\"max_offdiag\"] = max_offdiag\n",
    "    Params[\"P_bar\"] = P_bar\n",
    "    Params[\"RO_coef_all\"] = RO_coef_all\n",
    "    Params[\"seed\"] = seed\n",
    "    return Params\n",
    "end"
   ]
  },
  {
   "cell_type": "markdown",
   "id": "9568927e",
   "metadata": {},
   "source": [
    "## Evaluate"
   ]
  },
  {
   "cell_type": "markdown",
   "id": "b6eef9dc",
   "metadata": {},
   "source": [
    "#### Baseline Parameters"
   ]
  },
  {
   "cell_type": "code",
   "execution_count": 11,
   "id": "f8321a1a",
   "metadata": {},
   "outputs": [],
   "source": [
    "project_name = \"Assortment_Pricing_Simulated_Data_Test/\"\n",
    "seed = 1;\n",
    "N = 3;\n",
    "N_u = 1;\n",
    "K = 10;\n",
    "S_test = 1000;\n",
    "P_bar = 5.0;\n",
    "iterations = 100;\n",
    "# RO_coef_all = [0.0,0.01,0.05,0.1,0.12,0.14,0.16,0.18,0.2];\n",
    "RO_coef_all = [0.0,0.01,0.05,0.1,0.12];"
   ]
  },
  {
   "cell_type": "markdown",
   "id": "6314b1a2",
   "metadata": {},
   "source": [
    "### offdiag is mix"
   ]
  },
  {
   "cell_type": "code",
   "execution_count": 12,
   "id": "d7167bf6",
   "metadata": {},
   "outputs": [],
   "source": [
    "S_train = 100;\n",
    "offdiag_sign = \"mix\";\n",
    "max_offdiag = 1.0;\n",
    "Params = set_Params(N, N_u, K, S_train, S_test, offdiag_sign, max_offdiag, P_bar, RO_coef_all, seed);"
   ]
  },
  {
   "cell_type": "code",
   "execution_count": 13,
   "id": "fca93210",
   "metadata": {},
   "outputs": [],
   "source": [
    "sub_file_name = \"N=$(N)_N_u=$(N_u)_K=$(K)_S_train=$(S_train)_offdiag_sign=$(offdiag_sign)_max_offdiag=$(max_offdiag)/\"\n",
    "this_data_file = string(data_dir,project_name,sub_file_name)\n",
    "if !isdir(this_data_file)\n",
    "    mkpath(this_data_file)\n",
    "end\n",
    "save(string(this_data_file, \"Params.jld2\"), Params);"
   ]
  },
  {
   "cell_type": "markdown",
   "id": "e03b3e9c",
   "metadata": {},
   "source": [
    "- Generate Data"
   ]
  },
  {
   "cell_type": "code",
   "execution_count": 14,
   "id": "d1a43034",
   "metadata": {},
   "outputs": [],
   "source": [
    "Random.seed!(seed)\n",
    "Input_Data = generate_Input_Data(S_train,S_test,iterations, N, N_u, K, offdiag_sign,max_offdiag,P_bar);\n",
    "Input_Data = Calculate_Hyper_Param(RO_coef_all, iterations, N, N_u, K, Input_Data);\n",
    "save(string(this_data_file, \"Input_Data.jld2\"), Input_Data);"
   ]
  },
  {
   "cell_type": "code",
   "execution_count": 15,
   "id": "e8e29adb",
   "metadata": {},
   "outputs": [],
   "source": [
    "Input_Data = Calculate_Hyper_Param(RO_coef_all, iterations, N, N_u, K, Input_Data);"
   ]
  },
  {
   "cell_type": "markdown",
   "id": "43aff417",
   "metadata": {},
   "source": [
    "- Run Oracle"
   ]
  },
  {
   "cell_type": "code",
   "execution_count": 16,
   "id": "cd4813fa",
   "metadata": {},
   "outputs": [
    {
     "name": "stdout",
     "output_type": "stream",
     "text": [
      "iter=1: rev_Oracle = 0.613145, price_Oracle = [0.93, 3.63, 0.5]\n",
      "iter=2: rev_Oracle = 1.410996, price_Oracle = [4.82, 2.68, 4.14]\n",
      "iter=3: rev_Oracle = 1.919721, price_Oracle = [4.96, 2.24, 3.08]\n",
      "iter=4: rev_Oracle = 1.708866, price_Oracle = [4.42, 4.7, 2.57]\n",
      "iter=5: rev_Oracle = 0.929387, price_Oracle = [4.8, 1.45, 0.57]\n",
      "iter=6: rev_Oracle = 0.564078, price_Oracle = [2.1, 0.31, 4.51]\n",
      "iter=7: rev_Oracle = 1.199992, price_Oracle = [0.79, 4.62, 2.58]\n",
      "iter=8: rev_Oracle = 1.480268, price_Oracle = [2.0, 4.81, 3.92]\n",
      "iter=9: rev_Oracle = 0.567877, price_Oracle = [4.2, 0.6, 2.14]\n",
      "iter=10: rev_Oracle = 0.959138, price_Oracle = [1.0, 1.55, 4.68]\n",
      "iter=11: rev_Oracle = 2.024549, price_Oracle = [4.96, 4.79, 2.22]\n",
      "iter=12: rev_Oracle = 1.624291, price_Oracle = [4.82, 1.89, 3.21]\n",
      "iter=13: rev_Oracle = 1.581446, price_Oracle = [4.51, 2.16, 4.94]\n",
      "iter=14: rev_Oracle = 1.203803, price_Oracle = [3.25, 4.89, 0.42]\n",
      "iter=15: rev_Oracle = 0.759632, price_Oracle = [4.34, 0.82, 1.19]\n",
      "iter=16: rev_Oracle = 1.962531, price_Oracle = [2.24, 5.0, 4.84]\n",
      "iter=17: rev_Oracle = 1.788096, price_Oracle = [3.15, 2.99, 4.67]\n",
      "iter=18: rev_Oracle = 2.56015, price_Oracle = [3.06, 4.74, 4.12]\n",
      "iter=19: rev_Oracle = 0.604268, price_Oracle = [4.82, 1.27, 0.31]\n",
      "iter=20: rev_Oracle = 2.936338, price_Oracle = [3.64, 4.57, 4.73]\n",
      "iter=21: rev_Oracle = 2.52947, price_Oracle = [4.19, 4.91, 3.84]\n",
      "iter=22: rev_Oracle = 2.443211, price_Oracle = [2.86, 3.66, 4.9]\n",
      "iter=23: rev_Oracle = 0.636388, price_Oracle = [0.51, 3.38, 1.44]\n",
      "iter=24: rev_Oracle = 2.220056, price_Oracle = [4.72, 2.4, 4.28]\n",
      "iter=25: rev_Oracle = 2.255702, price_Oracle = [4.59, 4.74, 3.1]\n",
      "iter=26: rev_Oracle = 1.154395, price_Oracle = [2.16, 2.09, 4.83]\n",
      "iter=27: rev_Oracle = 1.629367, price_Oracle = [1.96, 4.86, 4.75]\n",
      "iter=28: rev_Oracle = 0.797585, price_Oracle = [2.99, 0.11, 4.9]\n",
      "iter=29: rev_Oracle = 0.991225, price_Oracle = [1.52, 4.9, 4.52]\n",
      "iter=30: rev_Oracle = 2.058021, price_Oracle = [4.2, 2.89, 4.11]\n",
      "iter=31: rev_Oracle = 1.384021, price_Oracle = [4.59, 4.16, 1.67]\n",
      "iter=32: rev_Oracle = 0.305764, price_Oracle = [0.51, 0.9, 1.12]\n",
      "iter=33: rev_Oracle = 1.068419, price_Oracle = [1.38, 1.75, 4.98]\n",
      "iter=34: rev_Oracle = 1.926018, price_Oracle = [2.49, 0.16, 4.95]\n",
      "iter=35: rev_Oracle = 0.869078, price_Oracle = [0.76, 1.18, 4.7]\n",
      "iter=36: rev_Oracle = 2.202076, price_Oracle = [3.73, 3.32, 4.45]\n",
      "iter=37: rev_Oracle = 1.614713, price_Oracle = [4.93, 4.01, 2.33]\n",
      "iter=38: rev_Oracle = 3.099097, price_Oracle = [3.65, 4.71, 4.62]\n",
      "iter=39: rev_Oracle = 1.28708, price_Oracle = [4.2, 0.43, 4.53]\n",
      "iter=40: rev_Oracle = 1.88157, price_Oracle = [3.08, 2.31, 4.89]\n",
      "iter=41: rev_Oracle = 0.254809, price_Oracle = [0.88, 0.04, 4.86]\n",
      "iter=42: rev_Oracle = 1.981156, price_Oracle = [2.71, 4.7, 4.59]\n",
      "iter=43: rev_Oracle = 0.842238, price_Oracle = [4.94, 1.02, 0.58]\n",
      "iter=44: rev_Oracle = 1.342579, price_Oracle = [1.5, 4.93, 0.89]\n",
      "iter=45: rev_Oracle = 0.984019, price_Oracle = [0.65, 1.13, 4.31]\n",
      "iter=46: rev_Oracle = 2.143057, price_Oracle = [2.66, 4.41, 4.48]\n",
      "iter=47: rev_Oracle = 0.721174, price_Oracle = [0.55, 4.8, 0.93]\n",
      "iter=48: rev_Oracle = 0.404835, price_Oracle = [1.02, 3.32, 0.02]\n",
      "iter=49: rev_Oracle = 2.437048, price_Oracle = [4.8, 3.07, 4.02]\n",
      "iter=50: rev_Oracle = 2.512172, price_Oracle = [4.08, 4.53, 3.51]\n",
      "iter=51: rev_Oracle = 0.91888, price_Oracle = [1.96, 1.65, 4.28]\n",
      "iter=52: rev_Oracle = 1.071812, price_Oracle = [1.54, 2.03, 3.11]\n",
      "iter=53: rev_Oracle = 2.469991, price_Oracle = [4.79, 4.28, 3.77]\n",
      "iter=54: rev_Oracle = 0.941128, price_Oracle = [3.92, 2.3, 3.6]\n",
      "iter=55: rev_Oracle = 1.154864, price_Oracle = [3.97, 0.69, 1.91]\n",
      "iter=56: rev_Oracle = 0.635895, price_Oracle = [4.8, 1.22, 1.32]\n",
      "iter=57: rev_Oracle = 1.983465, price_Oracle = [4.26, 2.44, 4.89]\n",
      "iter=58: rev_Oracle = 1.723497, price_Oracle = [4.93, 2.18, 2.17]\n",
      "iter=59: rev_Oracle = 0.805131, price_Oracle = [1.93, 1.28, 4.47]\n",
      "iter=60: rev_Oracle = 0.535298, price_Oracle = [1.59, 4.98, 4.21]\n",
      "iter=61: rev_Oracle = 1.546353, price_Oracle = [0.15, 2.63, 4.91]\n",
      "iter=62: rev_Oracle = 1.835892, price_Oracle = [4.63, 2.71, 5.0]\n",
      "iter=63: rev_Oracle = 1.331565, price_Oracle = [1.83, 4.86, 1.44]\n",
      "iter=64: rev_Oracle = 0.554634, price_Oracle = [0.65, 1.21, 4.6]\n",
      "iter=65: rev_Oracle = 0.435783, price_Oracle = [4.99, 2.68, 1.66]\n",
      "iter=66: rev_Oracle = 1.570905, price_Oracle = [3.96, 1.83, 4.78]\n",
      "iter=67: rev_Oracle = 1.670471, price_Oracle = [4.95, 2.41, 4.91]\n",
      "iter=68: rev_Oracle = 2.411695, price_Oracle = [2.98, 4.86, 4.85]\n",
      "iter=69: rev_Oracle = 1.31124, price_Oracle = [3.4, 3.95, 2.12]\n",
      "iter=70: rev_Oracle = 1.130276, price_Oracle = [4.31, 1.56, 2.16]\n",
      "iter=71: rev_Oracle = 2.221933, price_Oracle = [4.75, 4.77, 3.03]\n",
      "iter=72: rev_Oracle = 1.632487, price_Oracle = [2.1, 4.73, 4.56]\n",
      "iter=73: rev_Oracle = 0.155973, price_Oracle = [0.29, 1.54, 0.32]\n",
      "iter=74: rev_Oracle = 1.62113, price_Oracle = [4.67, 4.34, 2.67]\n",
      "iter=75: rev_Oracle = 1.120384, price_Oracle = [3.18, 4.23, 0.44]\n",
      "iter=76: rev_Oracle = 2.185685, price_Oracle = [3.38, 4.75, 4.69]\n",
      "iter=77: rev_Oracle = 0.718008, price_Oracle = [4.4, 1.06, 0.88]\n",
      "iter=78: rev_Oracle = 1.779047, price_Oracle = [2.6, 4.68, 4.75]\n",
      "iter=79: rev_Oracle = 1.013846, price_Oracle = [1.71, 4.58, 3.5]\n",
      "iter=80: rev_Oracle = 2.041513, price_Oracle = [4.37, 3.09, 4.74]\n",
      "iter=81: rev_Oracle = 3.16775, price_Oracle = [4.16, 4.79, 4.83]\n",
      "iter=82: rev_Oracle = 0.267861, price_Oracle = [0.89, 0.79, 0.48]\n",
      "iter=83: rev_Oracle = 2.574177, price_Oracle = [3.84, 4.87, 4.08]\n",
      "iter=84: rev_Oracle = 1.361673, price_Oracle = [4.89, 3.41, 0.48]\n",
      "iter=85: rev_Oracle = 1.055228, price_Oracle = [1.13, 4.91, 1.74]\n",
      "iter=86: rev_Oracle = 2.426329, price_Oracle = [4.94, 3.37, 4.19]\n",
      "iter=87: rev_Oracle = 1.860633, price_Oracle = [3.12, 4.95, 2.67]\n",
      "iter=88: rev_Oracle = 2.462424, price_Oracle = [3.15, 4.83, 4.68]\n",
      "iter=89: rev_Oracle = 1.095697, price_Oracle = [2.73, 4.45, 1.98]\n",
      "iter=90: rev_Oracle = 2.642188, price_Oracle = [3.92, 4.41, 4.85]\n",
      "iter=91: rev_Oracle = 2.273482, price_Oracle = [4.74, 4.16, 2.94]\n",
      "iter=92: rev_Oracle = 0.688837, price_Oracle = [0.91, 0.96, 4.79]\n",
      "iter=93: rev_Oracle = 2.375884, price_Oracle = [3.57, 4.49, 4.95]\n",
      "iter=94: rev_Oracle = 1.430704, price_Oracle = [2.45, 5.0, 1.7]\n",
      "iter=95: rev_Oracle = 0.467161, price_Oracle = [4.95, 1.28, 0.98]\n",
      "iter=96: rev_Oracle = 1.611091, price_Oracle = [4.54, 4.53, 1.96]\n",
      "iter=97: rev_Oracle = 2.483233, price_Oracle = [4.75, 3.45, 0.11]\n",
      "iter=98: rev_Oracle = 0.970729, price_Oracle = [0.83, 4.1, 1.39]\n",
      "iter=99: rev_Oracle = 1.893744, price_Oracle = [2.68, 4.87, 4.92]\n",
      "iter=100: rev_Oracle = 0.457505, price_Oracle = [1.76, 0.49, 4.59]\n"
     ]
    }
   ],
   "source": [
    "print_flag=true\n",
    "RST_Oracle = Run_Oracle(iterations, N, N_u, K, Input_Data,print_flag);\n",
    "Rev_Oracle = [RST_Oracle[\"iter=$(iter)_Rev\"] for iter in 1:iterations];\n",
    "save(string(this_data_file, \"RST_Oracle.jld2\"), RST_Oracle);"
   ]
  },
  {
   "cell_type": "markdown",
   "id": "152240c0",
   "metadata": {},
   "source": [
    "- Run ETO"
   ]
  },
  {
   "cell_type": "code",
   "execution_count": 17,
   "id": "e37110c4",
   "metadata": {},
   "outputs": [
    {
     "name": "stdout",
     "output_type": "stream",
     "text": [
      "iter=1: rev_ETO = 0.13871, price_ETO = [0.93, 2.81, 3.77]\n",
      "iter=2: rev_ETO = 0.301583, price_ETO = [4.82, 4.74, 0.55]\n",
      "iter=3: rev_ETO = 1.093242, price_ETO = [3.85, 0.25, 5.0]\n",
      "iter=4: rev_ETO = 0.033693, price_ETO = [1.0, 4.7, 4.86]\n",
      "iter=5: rev_ETO = 0.500114, price_ETO = [4.8, 2.9, 0.31]\n",
      "iter=6: rev_ETO = 0.488278, price_ETO = [0.73, 0.31, 4.51]\n",
      "iter=7: rev_ETO = 0.143536, price_ETO = [0.79, 4.62, 4.94]\n",
      "iter=8: rev_ETO = 1.390151, price_ETO = [2.79, 4.81, 3.92]\n",
      "iter=9: rev_ETO = 0.079531, price_ETO = [0.33, 0.6, 4.86]\n",
      "iter=10: rev_ETO = 0.522185, price_ETO = [1.82, 2.1, 4.68]\n",
      "iter=11: rev_ETO = 1.668173, price_ETO = [4.96, 4.79, 1.71]\n",
      "iter=12: rev_ETO = 0.751155, price_ETO = [4.82, 0.02, 4.32]\n",
      "iter=13: rev_ETO = 1.148249, price_ETO = [4.51, 0.8, 4.94]\n",
      "iter=14: rev_ETO = 0.542763, price_ETO = [3.98, 4.89, 4.9]\n",
      "iter=15: rev_ETO = 0.028785, price_ETO = [4.34, 0.11, 4.88]\n",
      "iter=16: rev_ETO = 1.118574, price_ETO = [1.12, 5.0, 4.84]\n",
      "iter=17: rev_ETO = 0.297334, price_ETO = [4.93, 4.9, 0.6]\n",
      "iter=18: rev_ETO = 1.766749, price_ETO = [4.81, 4.74, 4.12]\n",
      "iter=19: rev_ETO = 0.392055, price_ETO = [4.82, 1.56, 1.35]\n",
      "iter=20: rev_ETO = 0.886395, price_ETO = [3.8, 1.56, 4.73]\n",
      "iter=21: rev_ETO = 2.074724, price_ETO = [1.08, 4.91, 4.58]\n",
      "iter=22: rev_ETO = 0.030124, price_ETO = [4.57, 0.2, 4.9]\n",
      "iter=23: rev_ETO = 0.150667, price_ETO = [2.41, 3.38, 2.67]\n",
      "iter=24: rev_ETO = 0.20021, price_ETO = [4.72, 4.85, 4.28]\n",
      "iter=25: rev_ETO = 0.287742, price_ETO = [0.27, 4.74, 3.34]\n",
      "iter=26: rev_ETO = 0.490041, price_ETO = [3.64, 4.96, 2.91]\n",
      "iter=27: rev_ETO = 0.965603, price_ETO = [1.96, 4.86, 0.41]\n",
      "iter=28: rev_ETO = 0.174523, price_ETO = [4.92, 4.73, 4.9]\n",
      "iter=29: rev_ETO = 0.315872, price_ETO = [3.74, 0.03, 4.52]\n",
      "iter=30: rev_ETO = 2.058021, price_ETO = [4.2, 2.89, 4.11]\n",
      "iter=31: rev_ETO = 0.6494, price_ETO = [4.59, 4.16, 3.73]\n",
      "iter=32: rev_ETO = 0.152833, price_ETO = [1.41, 4.85, 1.55]\n",
      "iter=33: rev_ETO = 0.181478, price_ETO = [0.14, 3.03, 0.45]\n",
      "iter=34: rev_ETO = 1.68988, price_ETO = [3.44, 0.16, 4.95]\n",
      "iter=35: rev_ETO = 0.051259, price_ETO = [3.4, 4.83, 1.95]\n",
      "iter=36: rev_ETO = 1.621983, price_ETO = [3.73, 4.61, 4.45]\n",
      "iter=37: rev_ETO = 1.614713, price_ETO = [4.93, 4.01, 2.33]\n",
      "iter=38: rev_ETO = 0.773862, price_ETO = [4.93, 1.73, 0.07]\n",
      "iter=39: rev_ETO = 0.823893, price_ETO = [4.2, 4.94, 1.75]\n",
      "iter=40: rev_ETO = 0.759549, price_ETO = [3.08, 4.24, 2.95]\n",
      "iter=41: rev_ETO = 0.005073, price_ETO = [0.88, 4.69, 4.86]\n",
      "iter=42: rev_ETO = 0.913519, price_ETO = [4.15, 0.54, 4.59]\n",
      "iter=43: rev_ETO = 0.610364, price_ETO = [0.85, 4.41, 2.09]\n",
      "iter=44: rev_ETO = 1.335724, price_ETO = [1.5, 4.93, 4.66]\n",
      "iter=45: rev_ETO = 0.029008, price_ETO = [4.62, 4.98, 3.44]\n",
      "iter=46: rev_ETO = 0.457401, price_ETO = [4.67, 3.03, 4.48]\n",
      "iter=47: rev_ETO = 0.115164, price_ETO = [0.55, 2.21, 3.51]\n",
      "iter=48: rev_ETO = 0.029655, price_ETO = [0.59, 3.32, 4.76]\n",
      "iter=49: rev_ETO = 1.284288, price_ETO = [4.8, 4.46, 4.02]\n",
      "iter=50: rev_ETO = 1.58753, price_ETO = [4.08, 4.53, 1.64]\n",
      "iter=51: rev_ETO = 0.381398, price_ETO = [3.21, 0.22, 4.28]\n",
      "iter=52: rev_ETO = 0.281981, price_ETO = [4.32, 4.93, 3.11]\n",
      "iter=53: rev_ETO = 2.172705, price_ETO = [4.79, 4.28, 4.83]\n",
      "iter=54: rev_ETO = 0.52144, price_ETO = [0.02, 1.5, 1.04]\n",
      "iter=55: rev_ETO = 0.124209, price_ETO = [0.12, 1.71, 4.9]\n",
      "iter=56: rev_ETO = 0.589113, price_ETO = [4.8, 1.22, 1.03]\n",
      "iter=57: rev_ETO = 1.983465, price_ETO = [4.26, 2.44, 4.89]\n",
      "iter=58: rev_ETO = 0.167612, price_ETO = [4.93, 4.78, 4.73]\n",
      "iter=59: rev_ETO = 0.614143, price_ETO = [3.63, 1.28, 4.47]\n",
      "iter=60: rev_ETO = 0.110494, price_ETO = [4.36, 1.19, 4.21]\n",
      "iter=61: rev_ETO = 0.573018, price_ETO = [4.89, 0.57, 0.85]\n",
      "iter=62: rev_ETO = 0.233553, price_ETO = [1.86, 4.86, 5.0]\n",
      "iter=63: rev_ETO = 0.575667, price_ETO = [4.98, 4.86, 1.44]\n",
      "iter=64: rev_ETO = 0.336885, price_ETO = [0.65, 2.0, 4.6]\n",
      "iter=65: rev_ETO = 0.181734, price_ETO = [0.59, 0.05, 1.66]\n",
      "iter=66: rev_ETO = 0.434872, price_ETO = [0.81, 4.85, 3.13]\n",
      "iter=67: rev_ETO = 0.907408, price_ETO = [4.95, 0.93, 4.91]\n",
      "iter=68: rev_ETO = 1.653184, price_ETO = [2.98, 2.25, 4.85]\n",
      "iter=69: rev_ETO = 0.180619, price_ETO = [0.1, 2.76, 3.78]\n",
      "iter=70: rev_ETO = 0.054369, price_ETO = [4.31, 4.78, 4.48]\n",
      "iter=71: rev_ETO = 2.07317, price_ETO = [4.75, 4.77, 2.62]\n",
      "iter=72: rev_ETO = 1.632487, price_ETO = [2.1, 4.73, 4.56]\n",
      "iter=73: rev_ETO = 0.025233, price_ETO = [0.29, 1.54, 4.18]\n",
      "iter=74: rev_ETO = 1.62113, price_ETO = [4.67, 4.34, 2.67]\n",
      "iter=75: rev_ETO = 0.554067, price_ETO = [4.72, 4.23, 4.9]\n",
      "iter=76: rev_ETO = 0.896898, price_ETO = [1.66, 1.09, 4.69]\n",
      "iter=77: rev_ETO = 0.438756, price_ETO = [4.4, 2.12, 0.27]\n",
      "iter=78: rev_ETO = 1.227076, price_ETO = [1.73, 0.26, 4.75]\n",
      "iter=79: rev_ETO = 0.820007, price_ETO = [2.16, 4.58, 3.5]\n",
      "iter=80: rev_ETO = 1.663, price_ETO = [4.37, 4.0, 4.74]\n",
      "iter=81: rev_ETO = 2.42209, price_ETO = [2.58, 3.2, 4.83]\n",
      "iter=82: rev_ETO = 0.032328, price_ETO = [2.22, 0.35, 4.31]\n",
      "iter=83: rev_ETO = 2.214743, price_ETO = [4.7, 4.87, 4.08]\n",
      "iter=84: rev_ETO = 0.896216, price_ETO = [1.44, 4.42, 1.1]\n",
      "iter=85: rev_ETO = 1.055228, price_ETO = [1.13, 4.91, 1.74]\n",
      "iter=86: rev_ETO = 1.826841, price_ETO = [4.94, 3.37, 0.64]\n",
      "iter=87: rev_ETO = 1.772155, price_ETO = [4.07, 4.95, 2.12]\n",
      "iter=88: rev_ETO = 2.462424, price_ETO = [3.15, 4.83, 4.68]\n",
      "iter=89: rev_ETO = 0.203424, price_ETO = [3.83, 0.36, 4.67]\n",
      "iter=90: rev_ETO = 2.515437, price_ETO = [2.97, 3.03, 4.85]\n",
      "iter=91: rev_ETO = 1.842839, price_ETO = [4.74, 4.93, 4.99]\n",
      "iter=92: rev_ETO = 0.012208, price_ETO = [4.75, 4.63, 1.02]\n",
      "iter=93: rev_ETO = 1.522225, price_ETO = [1.57, 4.49, 4.95]\n",
      "iter=94: rev_ETO = 0.737122, price_ETO = [4.55, 5.0, 2.95]\n",
      "iter=95: rev_ETO = 0.437335, price_ETO = [4.95, 1.28, 0.62]\n",
      "iter=96: rev_ETO = 1.611091, price_ETO = [4.54, 4.53, 1.96]\n",
      "iter=97: rev_ETO = 2.145051, price_ETO = [3.24, 4.75, 4.85]\n",
      "iter=98: rev_ETO = 0.104616, price_ETO = [0.83, 4.1, 4.57]\n",
      "iter=99: rev_ETO = 0.509604, price_ETO = [4.56, 4.87, 4.05]\n",
      "iter=100: rev_ETO = 0.232547, price_ETO = [4.12, 0.21, 1.24]\n",
      "Rev_ETO/Rev_Oracle = [0.2262, 0.2137, 0.5695, 0.0197, 0.5381, 0.8656, 0.1196, 0.9391, 0.1401, 0.5444, 0.824, 0.4625, 0.7261, 0.4509, 0.0379, 0.57, 0.1663, 0.6901, 0.6488, 0.3019, 0.8202, 0.0123, 0.2368, 0.0902, 0.1276, 0.4245, 0.5926, 0.2188, 0.3187, 1.0, 0.4692, 0.4998, 0.1699, 0.8774, 0.059, 0.7366, 1.0, 0.2497, 0.6401, 0.4037, 0.0199, 0.4611, 0.7247, 0.9949, 0.0295, 0.2134, 0.1597, 0.0733, 0.527, 0.6319, 0.4151, 0.2631, 0.8796, 0.5541, 0.1076, 0.9264, 1.0, 0.0973, 0.7628, 0.2064, 0.3706, 0.1272, 0.4323, 0.6074, 0.417, 0.2768, 0.5432, 0.6855, 0.1377, 0.0481, 0.933, 1.0, 0.1618, 1.0, 0.4945, 0.4104, 0.6111, 0.6897, 0.8088, 0.8146, 0.7646, 0.1207, 0.8604, 0.6582, 1.0, 0.7529, 0.9524, 1.0, 0.1857, 0.952, 0.8106, 0.0177, 0.6407, 0.5152, 0.9362, 1.0, 0.8638, 0.1078, 0.2691, 0.5083]\n"
     ]
    }
   ],
   "source": [
    "RST_ETO = Run_ETO(iterations, N, N_u, K, Input_Data,print_flag);\n",
    "Rev_ETO = [RST_ETO[\"iter=$(iter)_Rev\"] for iter in 1:iterations]\n",
    "println(\"Rev_ETO/Rev_Oracle = \",round.(Rev_ETO./Rev_Oracle,digits=4))\n",
    "save(string(this_data_file, \"RST_ETO.jld2\"), RST_ETO);"
   ]
  },
  {
   "cell_type": "markdown",
   "id": "5c54f0ee",
   "metadata": {},
   "source": [
    "- Run RO under different uncertainty set"
   ]
  },
  {
   "cell_type": "code",
   "execution_count": 18,
   "id": "964da926",
   "metadata": {},
   "outputs": [
    {
     "name": "stdout",
     "output_type": "stream",
     "text": [
      "Running RO with RO_coef = 0.0\n",
      "Running RO with RO_coef = 0.01\n",
      "Running RO with RO_coef = 0.05\n",
      "Running RO with RO_coef = 0.1\n",
      "Running RO with RO_coef = 0.12\n"
     ]
    }
   ],
   "source": [
    "model_name=\"Two_Side\"\n",
    "RST_RO = Dict(); Rev_RO = Dict();\n",
    "for RO_coef in RO_coef_all\n",
    "    println(\"Running RO with RO_coef = \",RO_coef)\n",
    "    RST_RO_this = Run_RO_with_RO_coef(RO_coef, iterations, N, N_u, K, Input_Data, 0.0,model_name,false);\n",
    "    RST_RO[\"RO_coef=$(RO_coef)\"] = RST_RO_this\n",
    "    Rev_RO[\"RO_coef=$(RO_coef)\"] = [RST_RO_this[\"iter=$(iter)_Rev\"] for iter in 1:iterations]\n",
    "end\n",
    "save(string(this_data_file, \"RST_RO.jld2\"), RST_RO);"
   ]
  },
  {
   "cell_type": "code",
   "execution_count": 19,
   "id": "20974eb4",
   "metadata": {},
   "outputs": [
    {
     "name": "stdout",
     "output_type": "stream",
     "text": [
      "Mean Rev_Oracle: 1.4847002193577055\n",
      "Mean Rev_ETO: 0.8231057792632598\n",
      "Mean Rev_RO: [0.8231057792632598, 0.8288821614618992, 0.8196493446633434, 0.845140786848969, 0.8582873676191924]\n"
     ]
    }
   ],
   "source": [
    "Rev_Oracle = [RST_Oracle[\"iter=$(iter)_Rev\"] for iter in 1:iterations];\n",
    "Rev_ETO = [RST_ETO[\"iter=$(iter)_Rev\"] for iter in 1:iterations];\n",
    "Rev_RO = Dict();\n",
    "for RO_coef in RO_coef_all\n",
    "    RST_RO_this = RST_RO[\"RO_coef=$(RO_coef)\"]\n",
    "    Rev_RO[\"RO_coef=$(RO_coef)\"] = [RST_RO_this[\"iter=$(iter)_Rev\"] for iter in 1:iterations];\n",
    "end\n",
    "\n",
    "println(\"Mean Rev_Oracle: \", mean(Rev_Oracle));\n",
    "println(\"Mean Rev_ETO: \", mean(Rev_ETO));\n",
    "Rev_RO_Avg = [mean(Rev_RO[\"RO_coef=$(RO_coef)\"]) for RO_coef in RO_coef_all];\n",
    "println(\"Mean Rev_RO: \", Rev_RO_Avg);"
   ]
  },
  {
   "cell_type": "code",
   "execution_count": 22,
   "id": "351a2f18",
   "metadata": {},
   "outputs": [
    {
     "name": "stdout",
     "output_type": "stream",
     "text": [
      "Average = 1.0, Rev_RO/Rev_ETO for RO_coef=0.0 = [1.0, 1.0, 1.0, 1.0, 1.0, 1.0, 1.0, 1.0, 1.0, 1.0, 1.0, 1.0, 1.0, 1.0, 1.0, 1.0, 1.0, 1.0, 1.0, 1.0, 1.0, 1.0, 1.0, 1.0, 1.0, 1.0, 1.0, 1.0, 1.0, 1.0, 1.0, 1.0, 1.0, 1.0, 1.0, 1.0, 1.0, 1.0, 1.0, 1.0, 1.0, 1.0, 1.0, 1.0, 1.0, 1.0, 1.0, 1.0, 1.0, 1.0, 1.0, 1.0, 1.0, 1.0, 1.0, 1.0, 1.0, 1.0, 1.0, 1.0, 1.0, 1.0, 1.0, 1.0, 1.0, 1.0, 1.0, 1.0, 1.0, 1.0, 1.0, 1.0, 1.0, 1.0, 1.0, 1.0, 1.0, 1.0, 1.0, 1.0, 1.0, 1.0, 1.0, 1.0, 1.0, 1.0, 1.0, 1.0, 1.0, 1.0, 1.0, 1.0, 1.0, 1.0, 1.0, 1.0, 1.0, 1.0, 1.0, 1.0]\n",
      "Average = 1.0233, Rev_RO/Rev_ETO for RO_coef=0.01 = [1.0, 1.0, 1.0, 1.0, 1.0, 1.0, 1.0, 1.0, 1.0, 1.0, 1.0, 1.0, 1.0, 1.0, 1.0, 1.0, 1.0, 1.0, 1.0, 1.0, 1.0, 1.0, 1.0, 1.0, 1.0, 1.0, 1.0, 1.0, 1.0, 1.0, 1.6028, 1.0, 1.0, 1.0, 1.0, 1.0, 1.0, 1.0, 1.0, 1.0, 1.0, 1.0, 1.0, 1.0, 1.0666, 1.0, 1.0, 1.0, 1.0, 1.0, 1.0, 1.0, 1.0, 1.0, 1.0, 1.0, 1.0, 1.0, 1.217, 1.0, 1.0, 1.0, 1.0, 1.0, 1.0, 1.0, 1.0, 1.0, 1.0, 1.0, 1.0, 1.0, 1.0, 1.0, 1.0086, 1.0, 1.0, 1.0, 1.0, 1.0, 1.0, 2.4311, 1.0, 1.0, 1.0, 1.0, 1.0, 1.0, 1.0, 1.0, 1.0, 1.0, 1.0, 1.0, 1.0, 1.0, 1.0, 1.0, 1.0, 1.0]\n",
      "Average = 1.0606, Rev_RO/Rev_ETO for RO_coef=0.05 = [0.6568, 1.0, 1.0, 1.0, 1.0398, 0.0166, 1.2838, 1.0, 1.0, 1.0, 0.0316, 1.0, 1.0, 1.0435, 2.0038, 1.0, 1.0, 1.1618, 1.0, 0.9053, 1.0212, 1.0, 1.3996, 1.0, 1.0878, 1.0, 1.0, 1.0465, 1.1663, 0.9946, 1.6368, 1.0, 1.0, 1.0, 1.159, 1.0, 0.8271, 1.0, 1.0, 1.5357, 1.0, 1.0, 1.0, 1.0, 1.0666, 1.0, 1.0, 1.0, 1.0, 1.0, 2.4092, 1.0, 1.0, 1.0, 1.0326, 1.0, 1.0, 1.1896, 1.217, 1.4944, 1.0, 1.0, 1.2789, 1.0, 1.0, 1.272, 1.0, 1.0, 1.0, 1.0, 0.9368, 1.0, 1.0, 1.0, 1.0086, 1.0, 1.6204, 1.0, 1.0, 1.0, 0.9204, 2.4311, 1.0, 0.9916, 0.7959, 1.0, 1.0, 1.0, 1.08, 0.9917, 1.0, 1.0, 0.9521, 1.0, 1.0, 1.0, 1.0, 1.4141, 0.9412, 1.0]\n",
      "Average = 1.7852, Rev_RO/Rev_ETO for RO_coef=0.1 = [0.6568, 1.0, 1.1423, 1.0, 1.4431, 0.0166, 2.9153, 1.0648, 1.0, 1.0, 0.0316, 1.927, 1.0, 1.0822, 2.5257, 1.0, 1.0, 1.1618, 1.0, 0.8161, 1.0212, 1.0, 1.5196, 4.1384, 1.0878, 1.0, 1.0, 1.0465, 1.1663, 0.8708, 1.6368, 1.0, 1.0, 1.1397, 2.0798, 1.0, 0.8271, 1.0028, 1.0, 1.5357, 1.0, 1.0, 1.0, 1.0, 1.378, 1.0, 6.2621, 0.9905, 1.0, 0.7182, 1.2523, 1.0, 1.0, 1.0, 1.0326, 1.0, 0.9926, 3.272, 1.2104, 2.0595, 1.0, 1.0, 0.6546, 1.0, 1.0, 1.2168, 1.0, 1.0, 2.1743, 1.0, 0.9135, 1.0, 1.0, 1.0, 1.1081, 1.0, 1.6204, 0.9658, 1.2364, 1.0, 0.7524, 2.4311, 1.0, 0.9916, 0.7959, 1.0, 1.0, 0.9472, 2.6044, 0.9562, 1.0, 56.1625, 0.8791, 1.1264, 1.0, 1.0, 1.014, 2.0009, 0.9412, 1.0]\n",
      "Average = 1.2831, Rev_RO/Rev_ETO for RO_coef=0.12 = [0.6568, 1.0, 1.1423, 1.0, 1.4431, 0.0166, 2.9153, 1.0648, 1.0, 1.0, 0.0316, 2.0141, 1.0, 1.0876, 2.5257, 1.0, 1.0, 1.4491, 1.0515, 0.8161, 1.0212, 1.0, 1.5196, 4.1384, 1.8516, 1.0, 1.0, 1.5168, 1.1663, 0.8708, 1.6368, 1.1918, 1.1784, 1.1397, 2.0798, 1.0, 0.8271, 1.0028, 1.0, 1.5357, 1.0, 1.0, 1.0, 1.0, 1.378, 1.0, 6.2621, 0.8686, 1.0, 0.7182, 1.2523, 1.2995, 1.0, 1.0, 1.0326, 1.0, 0.8827, 3.272, 1.2104, 2.0595, 1.0, 1.0, 0.6546, 1.0, 1.0, 3.6123, 1.0, 1.0, 2.1743, 1.0, 0.8789, 1.0, 1.0, 1.0, 1.1081, 1.0, 1.6204, 0.9658, 1.2364, 1.1459, 0.7524, 2.4311, 1.0, 0.9916, 0.7959, 1.0, 1.0, 0.9472, 2.6044, 0.9562, 1.0, 0.9532, 0.8174, 1.1264, 1.0, 1.0, 1.014, 2.4568, 0.9412, 1.0]\n"
     ]
    }
   ],
   "source": [
    "for RO_coef in RO_coef_all\n",
    "    Rev_RO_this = Rev_RO[\"RO_coef=$(RO_coef)\"]\n",
    "    println(\"Average = \",round(mean(Rev_RO_this./Rev_ETO),digits=4),\", Rev_RO/Rev_ETO for RO_coef=$(RO_coef) = \",round.(Rev_RO_this./Rev_ETO,digits=4),)\n",
    "end"
   ]
  },
  {
   "cell_type": "markdown",
   "id": "ad4e147e",
   "metadata": {},
   "source": [
    "### offdiag is positive"
   ]
  },
  {
   "cell_type": "code",
   "execution_count": 23,
   "id": "98b91a59",
   "metadata": {},
   "outputs": [],
   "source": [
    "# offdiag_sign = \"positive\";\n",
    "# Params = set_Params(N, N_u, K, S_train, S_test, offdiag_sign, max_offdiag, P_bar, RO_coef_all, seed)"
   ]
  },
  {
   "cell_type": "code",
   "execution_count": 24,
   "id": "5ef2df46",
   "metadata": {},
   "outputs": [],
   "source": [
    "# sub_file_name = \"N=$(N)_N_u=$(N_u)_K=$(K)_S_train=$(S_train)_offdiag_sign=$(offdiag_sign)_max_offdiag=$(max_offdiag)/\"\n",
    "# this_data_file = string(data_dir,project_name,sub_file_name)\n",
    "# if !isdir(this_data_file)\n",
    "#     mkpath(this_data_file)\n",
    "# end\n",
    "# save(string(this_data_file, \"Params.jld2\"), Params);"
   ]
  },
  {
   "cell_type": "code",
   "execution_count": 25,
   "id": "db9af694",
   "metadata": {},
   "outputs": [],
   "source": [
    "# Random.seed!(seed)\n",
    "# Input_Data = generate_Input_Data(S_train,S_test,iterations, N, N_u, K, offdiag_sign,max_offdiag,P_bar);\n",
    "# Input_Data = Calculate_Hyper_Param(RO_coef_all, iterations, N, N_u, K, Input_Data);\n",
    "# save(string(this_data_file, \"Input_Data.jld2\"), Input_Data);"
   ]
  },
  {
   "cell_type": "code",
   "execution_count": 26,
   "id": "0f054212",
   "metadata": {},
   "outputs": [],
   "source": [
    "# print_flag=true\n",
    "# RST_Oracle = Run_Oracle(iterations, N, N_u, K, Input_Data,print_flag);\n",
    "# Rev_Oracle = [RST_Oracle[\"iter=$(iter)_Rev\"] for iter in 1:iterations];\n",
    "# save(string(this_data_file, \"RST_Oracle.jld2\"), RST_Oracle);"
   ]
  },
  {
   "cell_type": "code",
   "execution_count": 27,
   "id": "eb30444d",
   "metadata": {},
   "outputs": [],
   "source": [
    "# RST_ETO = Run_ETO(iterations, N, N_u, K, Input_Data,print_flag);\n",
    "# Rev_ETO = [RST_ETO[\"iter=$(iter)_Rev\"] for iter in 1:iterations]\n",
    "# println(\"Rev_ETO/Rev_Oracle = \",round.(Rev_ETO./Rev_Oracle,digits=4))\n",
    "# save(string(this_data_file, \"RST_ETO.jld2\"), RST_ETO);"
   ]
  },
  {
   "cell_type": "code",
   "execution_count": 28,
   "id": "ac14eb87",
   "metadata": {},
   "outputs": [],
   "source": [
    "# model_name=\"Two_Side\"\n",
    "# RST_RO = Dict(); Rev_RO = Dict();\n",
    "# for RO_coef in RO_coef_all\n",
    "#     println(\"Running RO with RO_coef = \",RO_coef)\n",
    "#     RST_RO_this = Run_RO_with_RO_coef(RO_coef, iterations, N, N_u, K, Input_Data, 0.0,model_name,false);\n",
    "#     RST_RO[\"RO_coef=$(RO_coef)\"] = RST_RO_this\n",
    "#     Rev_RO[\"RO_coef=$(RO_coef)\"] = [RST_RO_this[\"iter=$(iter)_Rev\"] for iter in 1:iterations]\n",
    "# end\n",
    "# save(string(this_data_file, \"RST_RO.jld2\"), RST_RO);"
   ]
  },
  {
   "cell_type": "code",
   "execution_count": 29,
   "id": "db2af615",
   "metadata": {},
   "outputs": [],
   "source": [
    "# for RO_coef in RO_coef_all\n",
    "#     Rev_RO_this = Rev_RO[\"RO_coef=$(RO_coef)\"]\n",
    "#     println(\"Average = \",round(mean(Rev_RO_this./Rev_ETO),digits=4),\", Rev_RO/Rev_ETO for RO_coef=$(RO_coef) = \",round.(Rev_RO_this./Rev_ETO,digits=4),)\n",
    "# end"
   ]
  },
  {
   "cell_type": "markdown",
   "id": "211a7218",
   "metadata": {},
   "source": [
    "### offdiag is negative"
   ]
  },
  {
   "cell_type": "code",
   "execution_count": 30,
   "id": "c4cf05bd",
   "metadata": {},
   "outputs": [],
   "source": [
    "# offdiag_sign = \"negative\";\n",
    "# Params = set_Params(N, N_u, K, S_train, S_test, offdiag_sign, max_offdiag, P_bar, RO_coef_all, seed)"
   ]
  },
  {
   "cell_type": "code",
   "execution_count": 31,
   "id": "a72702ab",
   "metadata": {},
   "outputs": [],
   "source": [
    "# sub_file_name = \"N=$(N)_N_u=$(N_u)_K=$(K)_S_train=$(S_train)_offdiag_sign=$(offdiag_sign)_max_offdiag=$(max_offdiag)/\"\n",
    "# this_data_file = string(data_dir,project_name,sub_file_name)\n",
    "# if !isdir(this_data_file)\n",
    "#     mkpath(this_data_file)\n",
    "# end\n",
    "# save(string(this_data_file, \"Params.jld2\"), Params);"
   ]
  },
  {
   "cell_type": "code",
   "execution_count": 32,
   "id": "9071c26c",
   "metadata": {},
   "outputs": [],
   "source": [
    "# print_flag=true\n",
    "# RST_Oracle = Run_Oracle(iterations, N, N_u, K, Input_Data,print_flag);\n",
    "# Rev_Oracle = [RST_Oracle[\"iter=$(iter)_Rev\"] for iter in 1:iterations];\n",
    "# save(string(this_data_file, \"RST_Oracle.jld2\"), RST_Oracle);"
   ]
  },
  {
   "cell_type": "code",
   "execution_count": 33,
   "id": "610d6a10",
   "metadata": {},
   "outputs": [],
   "source": [
    "# RST_ETO = Run_ETO(iterations, N, N_u, K, Input_Data,print_flag);\n",
    "# Rev_ETO = [RST_ETO[\"iter=$(iter)_Rev\"] for iter in 1:iterations]\n",
    "# println(\"Rev_ETO/Rev_Oracle = \",round.(Rev_ETO./Rev_Oracle,digits=4))\n",
    "# save(string(this_data_file, \"RST_ETO.jld2\"), RST_ETO);"
   ]
  },
  {
   "cell_type": "code",
   "execution_count": 34,
   "id": "b995846a",
   "metadata": {},
   "outputs": [],
   "source": [
    "# model_name=\"Two_Side\"\n",
    "# RST_RO = Dict(); Rev_RO = Dict();\n",
    "# for RO_coef in RO_coef_all\n",
    "#     println(\"Running RO with RO_coef = \",RO_coef)\n",
    "#     RST_RO_this = Run_RO_with_RO_coef(RO_coef, iterations, N, N_u, K, Input_Data, 0.0,model_name,false);\n",
    "#     RST_RO[\"RO_coef=$(RO_coef)\"] = RST_RO_this\n",
    "#     Rev_RO[\"RO_coef=$(RO_coef)\"] = [RST_RO_this[\"iter=$(iter)_Rev\"] for iter in 1:iterations]\n",
    "# end\n",
    "# save(string(this_data_file, \"RST_RO.jld2\"), RST_RO);"
   ]
  }
 ],
 "metadata": {
  "kernelspec": {
   "display_name": "Julia 1.10.3",
   "language": "julia",
   "name": "julia-1.10"
  },
  "language_info": {
   "file_extension": ".jl",
   "mimetype": "application/julia",
   "name": "julia",
   "version": "1.10.3"
  }
 },
 "nbformat": 4,
 "nbformat_minor": 5
}
