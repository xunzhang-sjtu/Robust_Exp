{
 "cells": [
  {
   "cell_type": "code",
   "execution_count": 1,
   "id": "efb07b62",
   "metadata": {},
   "outputs": [
    {
     "data": {
      "text/plain": [
       "Generate_Wang_Qi_Max_True_Data (generic function with 1 method)"
      ]
     },
     "metadata": {},
     "output_type": "display_data"
    }
   ],
   "source": [
    "using LinearAlgebra\n",
    "using Distributions\n",
    "using Optim\n",
    "using Random\n",
    "using StatsFuns\n",
    "using JuMP\n",
    "using MosekTools\n",
    "using StatsBase\n",
    "using SparseArrays # 可选，用于处理稀疏性（如果数据量很大）\n",
    "using FileIO\n",
    "using JLD2\n",
    "using Plots\n",
    "using LaTeXStrings\n",
    "\n",
    "using DataFrames, Colors\n",
    "using StatsPlots   # 提供 boxplot，基于 Plots\n",
    "\n",
    "include(\"Data_Generation_PLD.jl\")\n",
    "# include(\"Estimation_PLD.jl\")\n",
    "# include(\"Models_PLD.jl\")\n",
    "# include(\"Evaluation_PLD.jl\")"
   ]
  },
  {
   "cell_type": "code",
   "execution_count": 2,
   "id": "0c69fc09",
   "metadata": {},
   "outputs": [
    {
     "data": {
      "text/plain": [
       "\"N=2_N_x=20_N_u=5_S_train=200_N_nonzero=5/\""
      ]
     },
     "metadata": {},
     "output_type": "display_data"
    }
   ],
   "source": [
    "N = 2 # num of product\n",
    "N_x = 20 # num of product feature\n",
    "c_l = ones(N_x)  # X * c_l >= d_r\n",
    "d_r = ones(N) * 5\n",
    "rev_gap = 0.001\n",
    "N_u = 5 # num of customer feature\n",
    "S_train = 200 # num of training samples\n",
    "S_test = 1 # num of training samples\n",
    "m = 5 # num of candidates in training samples\n",
    "N_nonzero = 5 # num of nonzero entries in A\n",
    "lambda_list = [0.01]\n",
    "gamma_list = [0.0,0.01,0.05,0.1,0.15,0.2,0.3,0.4,0.5]\n",
    "gamma_list = [0.0]\n",
    "\n",
    "instances = 10\n",
    "Random.seed!(2)\n",
    "project_dir = \"N=$(N)_N_x=$(N_x)_N_u=$(N_u)_S_train=$(S_train)_N_nonzero=$(N_nonzero)/\""
   ]
  },
  {
   "cell_type": "code",
   "execution_count": 3,
   "id": "7cd637ae",
   "metadata": {},
   "outputs": [
    {
     "name": "stdout",
     "output_type": "stream",
     "text": [
      "Data directory: /Users/zhangxun/Dropbox/Research/Robust_Exp/Data/Product_Line_Design/N=2_N_x=20_N_u=5_S_train=200_N_nonzero=5/\n"
     ]
    }
   ],
   "source": [
    "current_dir = pwd()\n",
    "parent_dir = dirname(current_dir)\n",
    "grand_pa_dir = dirname(parent_dir)\n",
    "data_dir = string(dirname(grand_pa_dir), \"/Data/Product_Line_Design/\")\n",
    "if !isdir(data_dir)\n",
    "    mkpath(data_dir)\n",
    "end\n",
    "data_dir = string(data_dir,project_dir)\n",
    "println(\"Data directory: \", data_dir)"
   ]
  },
  {
   "cell_type": "markdown",
   "id": "6b9d6a50",
   "metadata": {},
   "source": [
    "#### Data Generation"
   ]
  },
  {
   "cell_type": "code",
   "execution_count": 4,
   "id": "8f29673d",
   "metadata": {},
   "outputs": [
    {
     "data": {
      "text/plain": [
       "compute_w (generic function with 1 method)"
      ]
     },
     "metadata": {},
     "output_type": "display_data"
    }
   ],
   "source": [
    "function compute_w(alpha0,alpha,beta,A,z_input)\n",
    "    nu0 = alpha0 + beta' * z_input;\n",
    "    nu = alpha .+ A * z_input;\n",
    "    return nu0,nu\n",
    "end"
   ]
  },
  {
   "cell_type": "code",
   "execution_count": 5,
   "id": "c01ffde8",
   "metadata": {},
   "outputs": [
    {
     "name": "stdout",
     "output_type": "stream",
     "text": [
      "/Users/zhangxun/Dropbox/Research/Robust_Exp/Data/Product_Line_Design/N=2_N_x=20_N_u=5_S_train=200_N_nonzero=5/instance=1/\n",
      "/Users/zhangxun/Dropbox/Research/Robust_Exp/Data/Product_Line_Design/N=2_N_x=20_N_u=5_S_train=200_N_nonzero=5/instance=2/\n",
      "/Users/zhangxun/Dropbox/Research/Robust_Exp/Data/Product_Line_Design/N=2_N_x=20_N_u=5_S_train=200_N_nonzero=5/instance=3/\n",
      "/Users/zhangxun/Dropbox/Research/Robust_Exp/Data/Product_Line_Design/N=2_N_x=20_N_u=5_S_train=200_N_nonzero=5/instance=4/\n",
      "/Users/zhangxun/Dropbox/Research/Robust_Exp/Data/Product_Line_Design/N=2_N_x=20_N_u=5_S_train=200_N_nonzero=5/instance=5/\n",
      "/Users/zhangxun/Dropbox/Research/Robust_Exp/Data/Product_Line_Design/N=2_N_x=20_N_u=5_S_train=200_N_nonzero=5/instance=6/\n",
      "/Users/zhangxun/Dropbox/Research/Robust_Exp/Data/Product_Line_Design/N=2_N_x=20_N_u=5_S_train=200_N_nonzero=5/instance=7/\n",
      "/Users/zhangxun/Dropbox/Research/Robust_Exp/Data/Product_Line_Design/N=2_N_x=20_N_u=5_S_train=200_N_nonzero=5/instance=8/\n",
      "/Users/zhangxun/Dropbox/Research/Robust_Exp/Data/Product_Line_Design/N=2_N_x=20_N_u=5_S_train=200_N_nonzero=5/instance=9/\n",
      "/Users/zhangxun/Dropbox/Research/Robust_Exp/Data/Product_Line_Design/N=2_N_x=20_N_u=5_S_train=200_N_nonzero=5/instance=10/\n"
     ]
    }
   ],
   "source": [
    "Input_Data = Dict()\n",
    "ins = 1\n",
    "while ins <= instances\n",
    "    data_dir_ins = string(data_dir, \"instance=$ins/\")\n",
    "    # ****** Data ******\n",
    "    theta_true, r_params = Generate_Wang_Qi_Max_True_Paras(N_x,N_u,N_nonzero);\n",
    "    X_train,Y_train,Z_train = Generate_Wang_Qi_Max_True_Data(N_x, N_u, S_train, m,theta_true);\n",
    "    X_test,Y_test,Z_test = Generate_Wang_Qi_Max_True_Data(N_x, N_u, S_test, m,theta_true);\n",
    "\n",
    "    Input_Data[\"theta_true_ins=$ins\"] = theta_true\n",
    "    Input_Data[\"r_params_ins=$ins\"] = r_params\n",
    "    Input_Data[\"X_train_ins=$ins\"] = X_train\n",
    "    Input_Data[\"Y_train_ins=$ins\"] = Y_train\n",
    "    Input_Data[\"Z_train_ins=$ins\"] = Z_train\n",
    "    Input_Data[\"X_test_ins=$ins\"] = X_test\n",
    "    Input_Data[\"Y_test_ins=$ins\"] = Y_test\n",
    "    Input_Data[\"Z_test_ins=$ins\"] = Z_test\n",
    "    \n",
    "    ins = ins + 1\n",
    "    println(data_dir_ins)\n",
    "end\n",
    "save(string(data_dir,\"Input_Data.jld2\"),Input_Data)"
   ]
  },
  {
   "cell_type": "code",
   "execution_count": null,
   "id": "610ede21",
   "metadata": {},
   "outputs": [],
   "source": [
    "using LinearAlgebra, Optim, Random\n",
    "\n",
    "# ------------------------------------------------------------\n",
    "# 1. 预计算所有扩展设计矩阵\n",
    "# ------------------------------------------------------------\n",
    "function precompute_extended_designs(X::Vector{Matrix{Float64}}, Z::Matrix{Float64})\n",
    "    n = length(X)\n",
    "    d = size(X[1], 2)\n",
    "    p = size(Z, 2)\n",
    "    total_dim = (d + 1) * (p + 1)\n",
    "    X_tilde = Vector{Matrix{Float64}}(undef, n)\n",
    "\n",
    "    # 预分配临时向量以避免重复分配\n",
    "    x_tilde_temp = Vector{Float64}(undef, total_dim)\n",
    "\n",
    "    for i in 1:n\n",
    "        mi = size(X[i], 1)\n",
    "        Xt = Matrix{Float64}(undef, mi, total_dim)\n",
    "\n",
    "        @inbounds for j in 1:mi\n",
    "            x_ij = @view X[i][j, :]\n",
    "            z_i = @view Z[i, :]\n",
    "\n",
    "            idx = 1\n",
    "            x_tilde_temp[idx] = 1.0\n",
    "            idx += 1\n",
    "\n",
    "            @views x_tilde_temp[idx:idx+d-1] .= x_ij\n",
    "            idx += d\n",
    "\n",
    "            @inbounds for k in 1:p\n",
    "                zk = z_i[k]\n",
    "                x_tilde_temp[idx] = zk\n",
    "                idx += 1\n",
    "                @views x_tilde_temp[idx:idx+d-1] .= zk .* x_ij\n",
    "                idx += d\n",
    "            end\n",
    "\n",
    "            @views Xt[j, :] .= x_tilde_temp\n",
    "        end\n",
    "        X_tilde[i] = Xt\n",
    "    end\n",
    "    return X_tilde\n",
    "end\n",
    "\n",
    "# ------------------------------------------------------------\n",
    "# 2. 快速单样本负对数似然（使用预计算的 Xt_i）\n",
    "# ------------------------------------------------------------\n",
    "function neg_log_likelihood_single_fast(theta::AbstractVector, Xt_i::AbstractMatrix, y_i::Int)\n",
    "    mi = size(Xt_i, 1)\n",
    "    # 计算所有产品的效用：<θ, x̃_ij> for j=1..mi\n",
    "    utilities = Xt_i * theta          # mi 维向量\n",
    "    # 添加默认选项（效用为 0）\n",
    "    m_val = maximum(utilities)\n",
    "    # 数值稳定的 log-sum-exp: log(sum(exp(u))) = m + log(sum(exp(u - m)))\n",
    "    shifted_utils = utilities .- m_val\n",
    "    sum_exp = sum(exp, shifted_utils) + exp(-m_val)  # + exp(0 - m_val) for default option\n",
    "    log_denominator = m_val + log(sum_exp)\n",
    "\n",
    "    if y_i == 0\n",
    "        log_prob = -log_denominator  # 因为 U0 = 0 → log(exp(0)/denom) = -log_denom\n",
    "    else\n",
    "        log_prob = utilities[y_i] - log_denominator\n",
    "    end\n",
    "\n",
    "    return -log_prob\n",
    "end\n",
    "\n",
    "# ------------------------------------------------------------\n",
    "# 3. 快速整体负对数似然\n",
    "# ------------------------------------------------------------\n",
    "function neg_log_likelihood_fast(theta::AbstractVector, X_tilde::Vector{Matrix{Float64}}, Y::Vector{Int})\n",
    "    n = length(Y)\n",
    "    total_neg_ll = 0.0\n",
    "    @inbounds for i in 1:n\n",
    "        total_neg_ll += neg_log_likelihood_single_fast(theta, X_tilde[i], Y[i])\n",
    "    end\n",
    "    return total_neg_ll / n\n",
    "end\n",
    "\n",
    "# ------------------------------------------------------------\n",
    "# 4. Lasso 目标函数（使用预计算数据）\n",
    "# ------------------------------------------------------------\n",
    "function lasso_objective_fast(theta::AbstractVector, lambda::Float64, X_tilde::Vector{Matrix{Float64}}, Y::Vector{Int})\n",
    "    nll = neg_log_likelihood_fast(theta, X_tilde, Y)\n",
    "    l1_penalty = lambda * norm(theta, 1)\n",
    "    return nll + l1_penalty\n",
    "end\n",
    "\n",
    "# ------------------------------------------------------------\n",
    "# 5. 参数解析（不变）\n",
    "# ------------------------------------------------------------\n",
    "function parameter_divide(theta_hat, d::Int, p::Int)\n",
    "    alpha0_hat = 0.0\n",
    "    alpha_hat = zeros(d)\n",
    "    beta_hat = zeros(p)\n",
    "    A_hat = zeros(d, p)\n",
    "\n",
    "    idx = 1\n",
    "    alpha0_hat = theta_hat[idx]\n",
    "    idx += 1\n",
    "\n",
    "    alpha_hat = theta_hat[idx:idx+d-1]\n",
    "    idx += d\n",
    "\n",
    "    for k in 1:p\n",
    "        beta_hat[k] = theta_hat[idx]\n",
    "        idx += 1\n",
    "        A_hat[:, k] = theta_hat[idx:idx+d-1]\n",
    "        idx += d\n",
    "    end\n",
    "    return alpha0_hat, alpha_hat, beta_hat, A_hat\n",
    "end\n",
    "\n",
    "# ------------------------------------------------------------\n",
    "# 6. 主估计函数（优化版）\n",
    "# ------------------------------------------------------------\n",
    "function estimate_parameters_fast(\n",
    "    X::Vector{Matrix{Float64}},\n",
    "    Y::Vector{Int64},\n",
    "    Z::Matrix{Float64},\n",
    "    lambda::Float64,\n",
    "    d::Int,\n",
    "    p::Int;\n",
    "    initial_theta = nothing,\n",
    "    precomputed_X_tilde = nothing\n",
    ")\n",
    "    # 预计算扩展设计（如果未提供）\n",
    "    if isnothing(precomputed_X_tilde)\n",
    "        @time X_tilde = precompute_extended_designs(X, Z)\n",
    "    else\n",
    "        X_tilde = precomputed_X_tilde\n",
    "    end\n",
    "\n",
    "    total_dim = (d + 1) * (p + 1)\n",
    "    if isnothing(initial_theta)\n",
    "        initial_theta = randn(total_dim) * 0.1\n",
    "    end\n",
    "\n",
    "    # 目标函数闭包\n",
    "    obj(theta) = lasso_objective_fast(theta, lambda, X_tilde, Y)\n",
    "\n",
    "    # 使用 OWLQN 优化（专为 L1 设计）\n",
    "    result = optimize(\n",
    "        obj,\n",
    "        initial_theta,\n",
    "        OWLQN(lambda),\n",
    "        Optim.Options(show_trace = false, g_tol = 1e-6, iterations = 1000, time_limit = 300)\n",
    "    )\n",
    "\n",
    "    theta_hat = Optim.minimizer(result)\n",
    "    alpha0_hat, alpha_hat, beta_hat, A_hat = parameter_divide(theta_hat, d, p)\n",
    "\n",
    "    return alpha0_hat, alpha_hat, beta_hat, A_hat, result, X_tilde\n",
    "end"
   ]
  },
  {
   "cell_type": "code",
   "execution_count": null,
   "id": "43072df7",
   "metadata": {},
   "outputs": [],
   "source": [
    "ins = 1\n",
    "theta_true = Input_Data[\"theta_true_ins=$ins\"]\n",
    "r_params = Input_Data[\"r_params_ins=$ins\"]\n",
    "X_train = Input_Data[\"X_train_ins=$ins\"]\n",
    "Y_train = Input_Data[\"Y_train_ins=$ins\"]\n",
    "Z_train = Input_Data[\"Z_train_ins=$ins\"]\n",
    "X_test = Input_Data[\"X_test_ins=$ins\"]\n",
    "Y_test = Input_Data[\"Y_test_ins=$ins\"]\n",
    "Z_test = Input_Data[\"Z_test_ins=$ins\"]"
   ]
  },
  {
   "cell_type": "code",
   "execution_count": null,
   "id": "934dacd0",
   "metadata": {},
   "outputs": [],
   "source": [
    "lambda = 0.01\n",
    "\n",
    "alpha0, alpha, beta, A, result, X_tilde = estimate_parameters_fast(X_train, Y_train, Z_train, lambda, N_x, N_u)\n",
    "\n",
    "println(\"Converged: \", Optim.converged(result))\n",
    "println(\"Objective: \", Optim.minimum(result))"
   ]
  },
  {
   "cell_type": "code",
   "execution_count": 12,
   "id": "186932cc",
   "metadata": {},
   "outputs": [
    {
     "name": "stderr",
     "output_type": "stream",
     "text": [
      "\u001b[32m\u001b[1m    Updating\u001b[22m\u001b[39m `~/Dropbox/Research/Robust_Exp/Code_Macbook/Robust_Exp/Project.toml`\n",
      "  \u001b[90m[429524aa] \u001b[39m\u001b[91m- Optim v1.13.2\u001b[39m\n",
      "\u001b[32m\u001b[1m    Updating\u001b[22m\u001b[39m `~/Dropbox/Research/Robust_Exp/Code_Macbook/Robust_Exp/Manifest.toml`\n",
      "  \u001b[90m[47edcb42] \u001b[39m\u001b[91m- ADTypes v1.18.0\u001b[39m\n",
      "  \u001b[90m[79e6a3ab] \u001b[39m\u001b[91m- Adapt v4.4.0\u001b[39m\n",
      "  \u001b[90m[4fba245c] \u001b[39m\u001b[91m- ArrayInterface v7.20.0\u001b[39m\n",
      "  \u001b[90m[187b0558] \u001b[39m\u001b[91m- ConstructionBase v1.6.0\u001b[39m\n",
      "  \u001b[90m[a0c0ee7d] \u001b[39m\u001b[91m- DifferentiationInterface v0.7.8\u001b[39m\n",
      "  \u001b[90m[4e289a0a] \u001b[39m\u001b[91m- EnumX v1.0.5\u001b[39m\n",
      "  \u001b[90m[6a86dc24] \u001b[39m\u001b[91m- FiniteDiff v2.28.1\u001b[39m\n",
      "  \u001b[90m[d3d80556] \u001b[39m\u001b[91m- LineSearches v7.4.0\u001b[39m\n",
      "  \u001b[90m[d41bc354] \u001b[39m\u001b[91m- NLSolversBase v7.10.0\u001b[39m\n",
      "  \u001b[90m[429524aa] \u001b[39m\u001b[91m- Optim v1.13.2\u001b[39m\n",
      "  \u001b[90m[d96e819e] \u001b[39m\u001b[91m- Parameters v0.12.3\u001b[39m\n",
      "  \u001b[90m[85a6dd25] \u001b[39m\u001b[91m- PositiveFactorizations v0.2.4\u001b[39m\n",
      "  \u001b[90m[efcf1570] \u001b[39m\u001b[91m- Setfield v1.1.2\u001b[39m\n",
      "  \u001b[90m[3a884ed6] \u001b[39m\u001b[91m- UnPack v1.0.2\u001b[39m\n",
      "  \u001b[90m[8ba89e20] \u001b[39m\u001b[91m- Distributed\u001b[39m\n",
      "  \u001b[90m[9fa8497b] \u001b[39m\u001b[91m- Future\u001b[39m\n",
      "\u001b[32m\u001b[1m      Active\u001b[22m\u001b[39m manifest files: 8 found\n",
      "\u001b[32m\u001b[1m      Active\u001b[22m\u001b[39m artifact files: 152 found\n",
      "\u001b[32m\u001b[1m      Active\u001b[22m\u001b[39m scratchspaces: 13 found\n",
      "\u001b[32m\u001b[1m     Deleted\u001b[22m\u001b[39m no artifacts, repos, packages or scratchspaces\n",
      "\u001b[32m\u001b[1m   Resolving\u001b[22m\u001b[39m package versions...\n",
      "\u001b[32m\u001b[1m    Updating\u001b[22m\u001b[39m `~/Dropbox/Research/Robust_Exp/Code_Macbook/Robust_Exp/Project.toml`\n",
      "  \u001b[90m[429524aa] \u001b[39m\u001b[92m+ Optim v1.13.2\u001b[39m\n",
      "\u001b[32m\u001b[1m    Updating\u001b[22m\u001b[39m `~/Dropbox/Research/Robust_Exp/Code_Macbook/Robust_Exp/Manifest.toml`\n",
      "  \u001b[90m[47edcb42] \u001b[39m\u001b[92m+ ADTypes v1.18.0\u001b[39m\n",
      "  \u001b[90m[79e6a3ab] \u001b[39m\u001b[92m+ Adapt v4.4.0\u001b[39m\n",
      "  \u001b[90m[4fba245c] \u001b[39m\u001b[92m+ ArrayInterface v7.20.0\u001b[39m\n",
      "  \u001b[90m[187b0558] \u001b[39m\u001b[92m+ ConstructionBase v1.6.0\u001b[39m\n",
      "  \u001b[90m[a0c0ee7d] \u001b[39m\u001b[92m+ DifferentiationInterface v0.7.8\u001b[39m\n",
      "  \u001b[90m[4e289a0a] \u001b[39m\u001b[92m+ EnumX v1.0.5\u001b[39m\n",
      "  \u001b[90m[6a86dc24] \u001b[39m\u001b[92m+ FiniteDiff v2.28.1\u001b[39m\n",
      "  \u001b[90m[d3d80556] \u001b[39m\u001b[92m+ LineSearches v7.4.0\u001b[39m\n",
      "  \u001b[90m[d41bc354] \u001b[39m\u001b[92m+ NLSolversBase v7.10.0\u001b[39m\n",
      "  \u001b[90m[429524aa] \u001b[39m\u001b[92m+ Optim v1.13.2\u001b[39m\n",
      "  \u001b[90m[d96e819e] \u001b[39m\u001b[92m+ Parameters v0.12.3\u001b[39m\n",
      "  \u001b[90m[85a6dd25] \u001b[39m\u001b[92m+ PositiveFactorizations v0.2.4\u001b[39m\n",
      "  \u001b[90m[efcf1570] \u001b[39m\u001b[92m+ Setfield v1.1.2\u001b[39m\n",
      "  \u001b[90m[3a884ed6] \u001b[39m\u001b[92m+ UnPack v1.0.2\u001b[39m\n",
      "  \u001b[90m[8ba89e20] \u001b[39m\u001b[92m+ Distributed\u001b[39m\n",
      "  \u001b[90m[9fa8497b] \u001b[39m\u001b[92m+ Future\u001b[39m\n"
     ]
    }
   ],
   "source": [
    "using Pkg\n",
    "Pkg.rm(\"Optim\")\n",
    "Pkg.gc()  # 清理缓存\n",
    "Pkg.add(\"Optim\")  # 不指定版本！"
   ]
  },
  {
   "cell_type": "code",
   "execution_count": 13,
   "id": "1cdfc7c6",
   "metadata": {},
   "outputs": [
    {
     "name": "stdout",
     "output_type": "stream",
     "text": [
      "\u001b[32m\u001b[1mStatus\u001b[22m\u001b[39m `~/Dropbox/Research/Robust_Exp/Code_Macbook/Robust_Exp/Project.toml`\n",
      "  \u001b[90m[429524aa] \u001b[39mOptim v1.13.2\n"
     ]
    }
   ],
   "source": [
    "using Pkg\n",
    "Pkg.status(\"Optim\")"
   ]
  },
  {
   "cell_type": "code",
   "execution_count": 10,
   "id": "0fc441f1",
   "metadata": {},
   "outputs": [
    {
     "ename": "UndefVarError",
     "evalue": "UndefVarError: `OWLQN` not defined",
     "output_type": "error",
     "traceback": [
      "UndefVarError: `OWLQN` not defined\n",
      "\n",
      "Stacktrace:\n",
      "  [1] eval\n",
      "    @ ./boot.jl:385 [inlined]\n",
      "  [2] include_string(mapexpr::typeof(REPL.softscope), mod::Module, code::String, filename::String)\n",
      "    @ Base ./loading.jl:2076\n",
      "  [3] #invokelatest#2\n",
      "    @ ./essentials.jl:892 [inlined]\n",
      "  [4] invokelatest\n",
      "    @ ./essentials.jl:889 [inlined]\n",
      "  [5] (::VSCodeServer.var\"#217#218\"{VSCodeServer.NotebookRunCellArguments, String})()\n",
      "    @ VSCodeServer ~/.vscode/extensions/julialang.language-julia-1.149.2/scripts/packages/VSCodeServer/src/serve_notebook.jl:24\n",
      "  [6] withpath(f::VSCodeServer.var\"#217#218\"{VSCodeServer.NotebookRunCellArguments, String}, path::String)\n",
      "    @ VSCodeServer ~/.vscode/extensions/julialang.language-julia-1.149.2/scripts/packages/VSCodeServer/src/repl.jl:276\n",
      "  [7] notebook_runcell_request(conn::VSCodeServer.JSONRPC.JSONRPCEndpoint{Base.PipeEndpoint, Base.PipeEndpoint, VSCodeServer.JSON.Serializations.StandardSerialization}, params::VSCodeServer.NotebookRunCellArguments, token::VSCodeServer.CancellationTokens.CancellationToken)\n",
      "    @ VSCodeServer ~/.vscode/extensions/julialang.language-julia-1.149.2/scripts/packages/VSCodeServer/src/serve_notebook.jl:13\n",
      "  [8] dispatch_msg(x::VSCodeServer.JSONRPC.JSONRPCEndpoint{Base.PipeEndpoint, Base.PipeEndpoint, VSCodeServer.JSON.Serializations.StandardSerialization}, dispatcher::VSCodeServer.JSONRPC.MsgDispatcher, msg::VSCodeServer.JSONRPC.Request)\n",
      "    @ VSCodeServer.JSONRPC ~/.vscode/extensions/julialang.language-julia-1.149.2/scripts/packages/JSONRPC/src/typed.jl:68\n",
      "  [9] serve_notebook(pipename::String, debugger_pipename::String, outputchannel_logger::Base.CoreLogging.SimpleLogger; error_handler::var\"#5#10\"{String})\n",
      "    @ VSCodeServer ~/.vscode/extensions/julialang.language-julia-1.149.2/scripts/packages/VSCodeServer/src/serve_notebook.jl:147\n",
      " [10] top-level scope\n",
      "    @ ~/.vscode/extensions/julialang.language-julia-1.149.2/scripts/notebook/notebook.jl:35"
     ]
    }
   ],
   "source": [
    "using Optim: OWLQN   # 👈 关键！显式导入 OWLQN"
   ]
  }
 ],
 "metadata": {
  "kernelspec": {
   "display_name": "Julia 1.10.3",
   "language": "julia",
   "name": "julia-1.10"
  },
  "language_info": {
   "file_extension": ".jl",
   "mimetype": "application/julia",
   "name": "julia",
   "version": "1.10.3"
  }
 },
 "nbformat": 4,
 "nbformat_minor": 5
}
