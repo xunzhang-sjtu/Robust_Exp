{
 "cells": [
  {
   "cell_type": "code",
   "execution_count": 1,
   "id": "efb07b62",
   "metadata": {},
   "outputs": [
    {
     "data": {
      "text/plain": [
       "calculate_profit (generic function with 1 method)"
      ]
     },
     "metadata": {},
     "output_type": "display_data"
    }
   ],
   "source": [
    "using LinearAlgebra\n",
    "using Distributions\n",
    "using Optim\n",
    "using Random\n",
    "using StatsFuns\n",
    "using JuMP\n",
    "using MosekTools\n",
    "using StatsBase\n",
    "using SparseArrays # 可选，用于处理稀疏性（如果数据量很大）\n",
    "using FileIO\n",
    "using JLD2\n",
    "using Plots\n",
    "using LaTeXStrings\n",
    "\n",
    "using DataFrames, Colors\n",
    "using StatsPlots   # 提供 boxplot，基于 Plots\n",
    "\n",
    "include(\"Data_Generation_PLD.jl\")\n",
    "include(\"Estimation_PLD.jl\")\n",
    "include(\"Models_PLD.jl\")\n",
    "include(\"Evaluation_PLD.jl\")"
   ]
  },
  {
   "cell_type": "code",
   "execution_count": 2,
   "id": "0c69fc09",
   "metadata": {},
   "outputs": [
    {
     "data": {
      "text/plain": [
       "\"N=2_N_x=20_N_u=5_S_train=200_N_nonzero=5/\""
      ]
     },
     "metadata": {},
     "output_type": "display_data"
    }
   ],
   "source": [
    "N = 2 # num of product\n",
    "N_x = 20 # num of product feature\n",
    "c_l = ones(N_x)  # X * c_l >= d_r\n",
    "d_r = ones(N) * 5\n",
    "rev_gap = 0.001\n",
    "N_u = 5 # num of customer feature\n",
    "S_train = 200 # num of training samples\n",
    "S_test = 1 # num of training samples\n",
    "m = 5 # num of candidates in training samples\n",
    "N_nonzero = 5 # num of nonzero entries in A\n",
    "lambda_list = [0.0]\n",
    "gamma_list = [0.0,0.01,0.05,0.1,0.15,0.2,0.3,0.4,0.5]\n",
    "gamma_list = [0.0]\n",
    "\n",
    "instances = 10\n",
    "Random.seed!(2)\n",
    "project_dir = \"N=$(N)_N_x=$(N_x)_N_u=$(N_u)_S_train=$(S_train)_N_nonzero=$(N_nonzero)/\""
   ]
  },
  {
   "cell_type": "code",
   "execution_count": 3,
   "id": "7cd637ae",
   "metadata": {},
   "outputs": [
    {
     "name": "stdout",
     "output_type": "stream",
     "text": [
      "Data directory: /Users/zhangxun/Dropbox/Research/Robust_Exp/Data/Product_Line_Design/N=2_N_x=20_N_u=5_S_train=200_N_nonzero=5/\n"
     ]
    }
   ],
   "source": [
    "current_dir = pwd()\n",
    "parent_dir = dirname(current_dir)\n",
    "grand_pa_dir = dirname(parent_dir)\n",
    "data_dir = string(dirname(grand_pa_dir), \"/Data/Product_Line_Design/\")\n",
    "if !isdir(data_dir)\n",
    "    mkpath(data_dir)\n",
    "end\n",
    "data_dir = string(data_dir,project_dir)\n",
    "println(\"Data directory: \", data_dir)"
   ]
  },
  {
   "cell_type": "markdown",
   "id": "6b9d6a50",
   "metadata": {},
   "source": [
    "#### Data Generation"
   ]
  },
  {
   "cell_type": "code",
   "execution_count": 4,
   "id": "8f29673d",
   "metadata": {},
   "outputs": [
    {
     "data": {
      "text/plain": [
       "compute_w (generic function with 1 method)"
      ]
     },
     "metadata": {},
     "output_type": "display_data"
    }
   ],
   "source": [
    "function compute_w(alpha0,alpha,beta,A,z_input)\n",
    "    nu0 = alpha0 + beta' * z_input;\n",
    "    nu = alpha .+ A * z_input;\n",
    "    return nu0,nu\n",
    "end"
   ]
  },
  {
   "cell_type": "code",
   "execution_count": null,
   "id": "c01ffde8",
   "metadata": {},
   "outputs": [
    {
     "name": "stdout",
     "output_type": "stream",
     "text": [
      "ins=1_w_hat=[10.69, 1.76, -3.05, -0.59, -0.5, -0.07, -0.87, 0.41, -0.78, -0.74, -0.28, -1.42, 0.35, -0.61, -1.4, 1.37, -2.88, 0.46, 2.37, 0.66, -3.36]\n",
      "ins=1_w_hat=[-1.89, 1.83, -0.49, 1.36, 0.03, -0.08, -1.98, -0.12, 0.37, 2.47, -0.63, 0.82, 2.94, -0.27, -1.58, 1.02, 1.56, -2.35, -0.47, -0.67, 0.91]\n",
      "/Users/zhangxun/Dropbox/Research/Robust_Exp/Data/Product_Line_Design/N=2_N_x=20_N_u=5_S_train=200_N_nonzero=5/instance=1/\n",
      "ins=2_w_hat=[5.05, -0.7, -1.89, -1.3, 3.06, 0.16, -0.45, -1.18, 3.32, 2.61, -0.65, -4.27, 1.13, 2.26, -0.93, -4.75, 0.06, 1.02, 1.13, -3.12, 1.12]\n",
      "/Users/zhangxun/Dropbox/Research/Robust_Exp/Data/Product_Line_Design/N=2_N_x=20_N_u=5_S_train=200_N_nonzero=5/instance=2/\n",
      "ins=3_w_hat=[0.2, 0.7, 0.39, 0.29, -0.69, -0.73, -1.08, -1.74, -0.45, 1.06, -1.23, -0.88, 0.05, 0.19, -1.25, 0.41, 0.38, -0.58, -0.19, -0.05, -1.09]\n",
      "/Users/zhangxun/Dropbox/Research/Robust_Exp/Data/Product_Line_Design/N=2_N_x=20_N_u=5_S_train=200_N_nonzero=5/instance=3/\n",
      "ins=4_w_hat=[-1.12, -0.04, -0.53, -0.11, -0.55, -0.83, -0.18, 0.84, -0.31, -1.78, 2.08, -0.85, 1.16, 0.74, -0.08, -1.22, 1.12, 2.14, 0.03, -1.17, 1.01]\n",
      "/Users/zhangxun/Dropbox/Research/Robust_Exp/Data/Product_Line_Design/N=2_N_x=20_N_u=5_S_train=200_N_nonzero=5/instance=4/\n",
      "ins=5_w_hat=[1.91, -0.99, 0.81, -1.21, 0.63, 0.94, -0.9, -2.46, 2.31, -1.1, 0.21, 2.63, -1.03, 1.04, -1.67, -0.48, 3.23, 0.93, -2.49, 0.75, -2.67]\n",
      "/Users/zhangxun/Dropbox/Research/Robust_Exp/Data/Product_Line_Design/N=2_N_x=20_N_u=5_S_train=200_N_nonzero=5/instance=5/\n",
      "ins=6_w_hat=[4.4, -1.79, 0.47, -2.46, 0.84, -0.06, -1.09, 0.95, -0.65, -2.09, -4.03, 0.81, -1.2, -1.47, -0.6, -0.63, 0.91, -1.48, -1.93, -0.03, -0.33]\n",
      "/Users/zhangxun/Dropbox/Research/Robust_Exp/Data/Product_Line_Design/N=2_N_x=20_N_u=5_S_train=200_N_nonzero=5/instance=6/\n",
      "ins=7_w_hat=[22.35, 1.96, -0.29, -1.83, -0.03, -2.69, 3.46, -1.59, 0.52, 2.06, -1.81, 0.83, 1.97, -2.52, 0.47, -0.43, 0.43, 1.57, -0.16, -2.99, 1.09]\n",
      "ins=7_w_hat=[2.54, -0.55, 0.65, 2.22, 1.77, -1.0, 1.46, 0.88, 2.54, -0.89, 1.3, 3.07, -2.77, -1.95, -0.78, -2.52, -1.35, 2.51, -2.71, 0.03, -0.34]\n",
      "/Users/zhangxun/Dropbox/Research/Robust_Exp/Data/Product_Line_Design/N=2_N_x=20_N_u=5_S_train=200_N_nonzero=5/instance=7/\n",
      "ins=8_w_hat=[2.72, -0.39, -0.23, 0.2, -0.68, -0.87, 1.38, 0.53, -1.01, -0.46, -0.68, 0.11, -0.8, -1.45, 0.69, 0.96, 1.08, -0.58, -1.43, -1.71, -0.77]\n",
      "/Users/zhangxun/Dropbox/Research/Robust_Exp/Data/Product_Line_Design/N=2_N_x=20_N_u=5_S_train=200_N_nonzero=5/instance=8/\n",
      "ins=9_w_hat=[0.53, -0.82, 0.4, 0.67, -2.42, -1.68, 1.84, -0.79, -1.26, 0.19, 0.39, 0.48, 0.14, -2.71, -0.08, 1.69, 0.97, 0.96, 2.18, -2.24, -0.74]\n",
      "/Users/zhangxun/Dropbox/Research/Robust_Exp/Data/Product_Line_Design/N=2_N_x=20_N_u=5_S_train=200_N_nonzero=5/instance=9/\n",
      "ins=10_w_hat=[4.43, 1.07, -2.47, -1.71, 2.51, 1.26, -1.39, -0.11, -1.08, -1.88, -0.24, -1.79, -2.28, 0.54, 1.42, 1.49, 2.64, 1.05, 0.34, 0.61, 2.11]\n",
      "/Users/zhangxun/Dropbox/Research/Robust_Exp/Data/Product_Line_Design/N=2_N_x=20_N_u=5_S_train=200_N_nonzero=5/instance=10/\n"
     ]
    }
   ],
   "source": [
    "Input_Data = Dict()\n",
    "ins = 1\n",
    "while ins <= instances\n",
    "    data_dir_ins = string(data_dir, \"instance=$ins/\")\n",
    "    # ****** Data ******\n",
    "    theta_true, r_params = Generate_Wang_Qi_Max_True_Paras(N_x,N_u,N_nonzero);\n",
    "    X_train,Y_train,Z_train = Generate_Wang_Qi_Max_True_Data(N_x, N_u, S_train, m,theta_true);\n",
    "    X_test,Y_test,Z_test = Generate_Wang_Qi_Max_True_Data(N_x, N_u, S_test, m,theta_true);\n",
    "    z_input = Z_test[1,:];\n",
    "    nu0_true,nu_true = compute_w(theta_true.alpha0,theta_true.alpha,theta_true.beta,theta_true.A,z_input)\n",
    "    w_true = [nu0_true;nu_true]\n",
    "\n",
    "    is_extreme_estimation = false\n",
    "    Estimate_Dict = Dict()\n",
    "    for lambda in lambda_list\n",
    "        alpha0_hat, alpha_hat, beta_hat, A_hat, opt_result = estimate_parameters(X_train,Y_train,Z_train,lambda, N_x, N_u, initial_theta=randn((N_x+1)*(N_u+1)) * 0.1);\n",
    "        nu0_hat,nu_hat = compute_w(alpha0_hat,alpha_hat,beta_hat,A_hat,z_input)\n",
    "        w_hat = [nu0_hat;nu_hat]\n",
    "\n",
    "        if norm(w_hat .- w_true,2) >= 20\n",
    "            println(\"ins=$(ins)_w_hat=\",round.(w_hat,digits=2))\n",
    "            is_extreme_estimation = true\n",
    "            break\n",
    "        else\n",
    "            println(\"ins=$(ins)_w_hat=\",round.(w_hat,digits=2))\n",
    "            Estimate_Dict[\"alpha0_lambda=$lambda\"] = alpha0_hat\n",
    "            Estimate_Dict[\"alpha_lambda=$lambda\"] = alpha_hat\n",
    "            Estimate_Dict[\"beta_lambda=$lambda\"] = beta_hat\n",
    "            Estimate_Dict[\"A_lambda=$lambda\"] = A_hat\n",
    "            Estimate_Dict[\"opt_result_lambda=$lambda\"] = opt_result\n",
    "            Estimate_Dict[\"nu0_lambda=$lambda\"] = nu0_hat\n",
    "            Estimate_Dict[\"nu_lambda=$lambda\"] = nu_hat\n",
    "        end\n",
    "    end\n",
    "    if is_extreme_estimation\n",
    "        continue\n",
    "    else\n",
    "        Input_Data[\"theta_true_ins=$ins\"] = theta_true\n",
    "        Input_Data[\"r_params_ins=$ins\"] = r_params\n",
    "        Input_Data[\"X_train_ins=$ins\"] = X_train\n",
    "        Input_Data[\"Y_train_ins=$ins\"] = Y_train\n",
    "        Input_Data[\"Z_train_ins=$ins\"] = Z_train\n",
    "        Input_Data[\"X_test_ins=$ins\"] = X_test\n",
    "        Input_Data[\"Y_test_ins=$ins\"] = Y_test\n",
    "        Input_Data[\"Z_test_ins=$ins\"] = Z_test\n",
    "        Input_Data[\"Estimate_ins=$ins\"] = Estimate_Dict\n",
    "        Input_Data[\"nu0_ins=$ins\"] = nu0_true\n",
    "        Input_Data[\"nu_ins=$ins\"] = nu_true\n",
    "        ins = ins + 1\n",
    "    end\n",
    "    println(data_dir_ins)\n",
    "end\n",
    "save(string(data_dir,\"Input_Data.jld2\"),Input_Data)"
   ]
  },
  {
   "cell_type": "markdown",
   "id": "9dda3c03",
   "metadata": {},
   "source": [
    "#### True"
   ]
  },
  {
   "cell_type": "code",
   "execution_count": 6,
   "id": "a27d4c52",
   "metadata": {},
   "outputs": [
    {
     "data": {
      "text/plain": [
       "get_input_data_ins (generic function with 1 method)"
      ]
     },
     "metadata": {},
     "output_type": "display_data"
    }
   ],
   "source": [
    "function get_input_data_ins(Input_Data,ins)\n",
    "    theta_true = Input_Data[\"theta_true_ins=$ins\"]\n",
    "    r_params = Input_Data[\"r_params_ins=$ins\"]\n",
    "    X_train = Input_Data[\"X_train_ins=$ins\"]\n",
    "    Y_train = Input_Data[\"Y_train_ins=$ins\"]\n",
    "    Z_train = Input_Data[\"Z_train_ins=$ins\"]\n",
    "    X_test = Input_Data[\"X_test_ins=$ins\"]\n",
    "    Y_test = Input_Data[\"Y_test_ins=$ins\"]\n",
    "    Z_test = Input_Data[\"Z_test_ins=$ins\"]\n",
    "    r0 = r_params.r0;\n",
    "    r = r_params.r;\n",
    "    alp0_true = theta_true.alpha0;\n",
    "    alp_true = theta_true.alpha;\n",
    "    beta_true = theta_true.beta;\n",
    "    A_true = theta_true.A;\n",
    "    return r0,r,alp0_true,alp_true,beta_true,A_true,Z_test\n",
    "end"
   ]
  },
  {
   "cell_type": "code",
   "execution_count": 23,
   "id": "24ba5ed2",
   "metadata": {},
   "outputs": [
    {
     "name": "stdout",
     "output_type": "stream",
     "text": [
      "diff=[1.69, -1.33, -0.49, -1.15, 0.55, 0.07, 1.25, 0.23, -1.07, -1.57, -0.37, -0.57, -1.68, -0.41, 0.61, -0.22, -0.6, 2.39, 1.0, 0.15, -1.45]\n",
      "norm = 4.9785968079343235\n",
      "diff=[-2.74, -0.55, 0.91, 0.62, -1.89, 0.2, 0.4, 1.34, -1.89, -2.09, 0.65, 3.19, -1.26, -1.3, 0.04, 3.95, -0.32, -0.34, -0.35, 2.9, -0.59]\n",
      "norm = 7.821512227864024\n",
      "diff=[-0.53, 0.29, -0.59, 0.16, -0.03, -0.09, 0.68, 1.07, -0.51, 0.11, 0.65, 0.04, 0.46, 0.2, 0.32, -0.84, -0.06, -0.69, 0.6, 0.08, 0.37]\n",
      "norm = 2.255111600046209\n",
      "diff=[1.87, -0.34, 0.69, 0.09, 0.64, 0.18, -0.11, -0.3, -0.05, 1.71, -1.25, 0.06, -0.55, -1.31, 0.3, 0.36, -0.45, -1.2, 0.43, 0.51, -0.54]\n",
      "norm = 3.7084053294576673\n",
      "diff=[-0.67, 0.61, 0.14, 0.8, -0.3, 0.04, 0.46, 1.53, -2.12, 1.08, 0.37, -1.96, 0.7, -0.26, 0.64, 0.07, -2.69, -0.23, 2.11, -1.04, 2.01]\n",
      "norm = 5.618365832688122\n",
      "diff=[-3.41, 1.2, -0.79, 2.04, -0.33, -0.75, 1.08, -0.57, 0.72, 1.29, 3.2, -0.88, -0.79, 1.14, 0.92, 0.73, -0.74, 0.95, 1.18, 0.53, 0.42]\n",
      "norm = 6.31226391283854\n",
      "diff=[-1.99, 0.87, -1.07, -2.2, -1.67, -0.0, -0.58, -1.35, -1.58, 0.88, -0.34, -2.57, 1.83, 1.14, 0.79, 2.19, 1.25, -1.78, 2.63, -0.38, -0.05]\n",
      "norm = 6.890002621009079\n",
      "diff=[-1.04, 0.4, -0.54, 0.08, 0.41, 0.17, -0.55, 0.13, 0.42, 0.18, 1.2, -0.1, -0.2, 0.86, -0.55, -0.23, -0.59, -0.07, 1.2, 1.21, 0.34]\n",
      "norm = 2.866125436809674\n",
      "diff=[0.69, 0.27, -0.36, -0.34, 1.76, 1.85, -1.04, 0.26, 0.37, -0.29, -0.64, -0.03, -1.48, 2.15, 0.24, -0.78, -0.46, 0.02, -1.55, 0.5, 0.45]\n",
      "norm = 4.428282561857101\n",
      "diff=[-0.11, -0.63, 1.09, 0.74, -1.58, -0.53, 1.12, -0.16, 0.8, 0.95, 0.51, 1.25, 1.29, -0.05, -0.91, -0.74, -1.8, -1.1, -0.91, 0.78, -1.79]\n",
      "norm = 4.652284124223945\n"
     ]
    }
   ],
   "source": [
    "for ins in 1:instances\n",
    "    data_dir_ins = string(data_dir, \"instance=$ins/\")\n",
    "    r0,r,alp0_true,alp_true,beta_true,A_true,Z_test = get_input_data_ins(Input_Data,ins)\n",
    "    nu0_true = Input_Data[\"nu0_ins=$ins\"]\n",
    "    nu_true = Input_Data[\"nu_ins=$ins\"]\n",
    "    w_true = [nu0_true;nu_true]\n",
    "\n",
    "    Estimate_Dict = Input_Data[\"Estimate_ins=$ins\"]\n",
    "    l_index = 1\n",
    "    lambda = lambda_list[l_index]\n",
    "\n",
    "    nu0 = Estimate_Dict[\"nu0_lambda=$lambda\"]\n",
    "    nu = Estimate_Dict[\"nu_lambda=$lambda\"]\n",
    "    w_hat = [nu0;nu]\n",
    "    println(\"diff=\",round.(w_true .- w_hat,digits=2))\n",
    "    println(\"norm = \",norm(w_hat .- w_true,2))\n",
    "\n",
    "end"
   ]
  },
  {
   "cell_type": "code",
   "execution_count": 24,
   "id": "fad7ef64",
   "metadata": {},
   "outputs": [
    {
     "data": {
      "text/plain": [
       "4"
      ]
     },
     "metadata": {},
     "output_type": "display_data"
    }
   ],
   "source": [
    "num_c = 4"
   ]
  },
  {
   "cell_type": "code",
   "execution_count": 25,
   "id": "34687a4c",
   "metadata": {},
   "outputs": [
    {
     "name": "stdout",
     "output_type": "stream",
     "text": [
      "************ data_dir_ins: /Users/zhangxun/Dropbox/Research/Robust_Exp/Data/Product_Line_Design/N=2_N_x=20_N_u=5_S_train=200_N_nonzero=5/instance=1/*************\n",
      "************ data_dir_ins: /Users/zhangxun/Dropbox/Research/Robust_Exp/Data/Product_Line_Design/N=2_N_x=20_N_u=5_S_train=200_N_nonzero=5/instance=2/*************\n",
      "************ data_dir_ins: /Users/zhangxun/Dropbox/Research/Robust_Exp/Data/Product_Line_Design/N=2_N_x=20_N_u=5_S_train=200_N_nonzero=5/instance=3/*************\n",
      "************ data_dir_ins: /Users/zhangxun/Dropbox/Research/Robust_Exp/Data/Product_Line_Design/N=2_N_x=20_N_u=5_S_train=200_N_nonzero=5/instance=4/*************\n",
      "************ data_dir_ins: /Users/zhangxun/Dropbox/Research/Robust_Exp/Data/Product_Line_Design/N=2_N_x=20_N_u=5_S_train=200_N_nonzero=5/instance=5/*************\n",
      "************ data_dir_ins: /Users/zhangxun/Dropbox/Research/Robust_Exp/Data/Product_Line_Design/N=2_N_x=20_N_u=5_S_train=200_N_nonzero=5/instance=6/*************\n",
      "************ data_dir_ins: /Users/zhangxun/Dropbox/Research/Robust_Exp/Data/Product_Line_Design/N=2_N_x=20_N_u=5_S_train=200_N_nonzero=5/instance=7/*************\n",
      "************ data_dir_ins: /Users/zhangxun/Dropbox/Research/Robust_Exp/Data/Product_Line_Design/N=2_N_x=20_N_u=5_S_train=200_N_nonzero=5/instance=8/*************\n",
      "************ data_dir_ins: /Users/zhangxun/Dropbox/Research/Robust_Exp/Data/Product_Line_Design/N=2_N_x=20_N_u=5_S_train=200_N_nonzero=5/instance=9/*************\n",
      "************ data_dir_ins: /Users/zhangxun/Dropbox/Research/Robust_Exp/Data/Product_Line_Design/N=2_N_x=20_N_u=5_S_train=200_N_nonzero=5/instance=10/*************\n"
     ]
    }
   ],
   "source": [
    "Result_True_Dict = Dict();\n",
    "for ins in 1:instances\n",
    "    data_dir_ins = string(data_dir, \"instance=$ins/\")\n",
    "    r0,r,alp0_true,alp_true,beta_true,A_true,Z_test = get_input_data_ins(Input_Data,ins)\n",
    "    nu0 = Input_Data[\"nu0_ins=$ins\"]\n",
    "    nu = Input_Data[\"nu_ins=$ins\"]\n",
    "\n",
    "    obj_True_list = zeros(S_test);\n",
    "    x_True_list = zeros(S_test,N,N_x);\n",
    "    time_True_list = zeros(S_test);\n",
    "    profit_True_list = zeros(S_test);\n",
    "    for i in 1:S_test\n",
    "        z_input = Z_test[i,:];\n",
    "        obj_True_list[i], x_True_list[i,:,:], time_True_list[i] = ETO_PLD(N,N_x,nu0, nu, r0, r,c_l,d_r,rev_gap,num_c);\n",
    "        profit_True_list[i] = calculate_profit(alp0_true, alp_true, beta_true, A_true, r0, r, x_True_list[i,:,:], z_input)\n",
    "        # if i % 20 == 1\n",
    "        #     println(\"True: i=$i, obj=$(round(obj_True_list[i], digits=4)), profit=$(round(profit_True_list[i], digits=4)), time=$(round(time_True_list[i],digits=4))\")\n",
    "        # end                         \n",
    "    end\n",
    "    println(\"************ data_dir_ins: \", data_dir_ins,\"*************\")\n",
    "    Result_True_Dict[\"obj_ins=$ins\"] = obj_True_list\n",
    "    Result_True_Dict[\"sol_ins=$ins\"] = x_True_list\n",
    "    Result_True_Dict[\"time_ins=$ins\"] = time_True_list\n",
    "    Result_True_Dict[\"profit_ins=$ins\"] = profit_True_list\n",
    "end\n",
    "save(string(data_dir,\"Result_True.jld2\"),Result_True_Dict) "
   ]
  },
  {
   "cell_type": "markdown",
   "id": "ff0f7b4d",
   "metadata": {},
   "source": [
    "#### Estimate-then-optimize"
   ]
  },
  {
   "cell_type": "code",
   "execution_count": 26,
   "id": "520aec26",
   "metadata": {},
   "outputs": [
    {
     "name": "stdout",
     "output_type": "stream",
     "text": [
      "************ data_dir_ins: /Users/zhangxun/Dropbox/Research/Robust_Exp/Data/Product_Line_Design/N=2_N_x=20_N_u=5_S_train=200_N_nonzero=5/instance=1/*************\n",
      "************ data_dir_ins: /Users/zhangxun/Dropbox/Research/Robust_Exp/Data/Product_Line_Design/N=2_N_x=20_N_u=5_S_train=200_N_nonzero=5/instance=2/*************\n",
      "************ data_dir_ins: /Users/zhangxun/Dropbox/Research/Robust_Exp/Data/Product_Line_Design/N=2_N_x=20_N_u=5_S_train=200_N_nonzero=5/instance=3/*************\n",
      "************ data_dir_ins: /Users/zhangxun/Dropbox/Research/Robust_Exp/Data/Product_Line_Design/N=2_N_x=20_N_u=5_S_train=200_N_nonzero=5/instance=4/*************\n",
      "************ data_dir_ins: /Users/zhangxun/Dropbox/Research/Robust_Exp/Data/Product_Line_Design/N=2_N_x=20_N_u=5_S_train=200_N_nonzero=5/instance=5/*************\n",
      "************ data_dir_ins: /Users/zhangxun/Dropbox/Research/Robust_Exp/Data/Product_Line_Design/N=2_N_x=20_N_u=5_S_train=200_N_nonzero=5/instance=6/*************\n",
      "************ data_dir_ins: /Users/zhangxun/Dropbox/Research/Robust_Exp/Data/Product_Line_Design/N=2_N_x=20_N_u=5_S_train=200_N_nonzero=5/instance=7/*************\n",
      "************ data_dir_ins: /Users/zhangxun/Dropbox/Research/Robust_Exp/Data/Product_Line_Design/N=2_N_x=20_N_u=5_S_train=200_N_nonzero=5/instance=8/*************\n",
      "************ data_dir_ins: /Users/zhangxun/Dropbox/Research/Robust_Exp/Data/Product_Line_Design/N=2_N_x=20_N_u=5_S_train=200_N_nonzero=5/instance=9/*************\n",
      "************ data_dir_ins: /Users/zhangxun/Dropbox/Research/Robust_Exp/Data/Product_Line_Design/N=2_N_x=20_N_u=5_S_train=200_N_nonzero=5/instance=10/*************\n"
     ]
    }
   ],
   "source": [
    "Result_ETO_Dict = Dict();\n",
    "for ins in 1:instances\n",
    "    data_dir_ins = string(data_dir, \"instance=$ins/\")\n",
    "    r0,r,alp0_true,alp_true,beta_true,A_true,Z_test = get_input_data_ins(Input_Data,ins)\n",
    "    Estimate_Dict = Input_Data[\"Estimate_ins=$ins\"]\n",
    "    lambda_len = length(lambda_list)\n",
    "    for l_index in 1:lambda_len\n",
    "        lambda = lambda_list[l_index]\n",
    "\n",
    "        nu0 = Estimate_Dict[\"nu0_lambda=$lambda\"]\n",
    "        nu = Estimate_Dict[\"nu_lambda=$lambda\"]\n",
    "\n",
    "        obj_ETO_list = zeros(S_test);\n",
    "        x_ETO_list = zeros(S_test,N,N_x);\n",
    "        time_ETO_list = zeros(S_test);\n",
    "        profit_ETO_list = zeros(S_test);\n",
    "        for i in 1:S_test\n",
    "            z_input = Z_test[i,:];\n",
    "            obj_ETO_list[i], x_ETO_list[i,:,:], time_ETO_list[i] = ETO_PLD(N,N_x,nu0, nu, r0, r,c_l,d_r,rev_gap,num_c);\n",
    "            profit_ETO_list[i] = calculate_profit(alp0_true, alp_true, beta_true, A_true, r0, r, x_ETO_list[i,:,:], z_input)\n",
    "            # if i % 20 == 1\n",
    "            #     println(\"ETO: lambda=$lambda,i=$i, obj=$(round(obj_ETO_list[i], digits=4)), profit=$(round(profit_ETO_list[i], digits=4)),time=$(round(time_ETO_list[i],digits=4))\")\n",
    "            # end\n",
    "        end\n",
    "        Result_ETO_Dict[\"obj_ins=$(ins)_lambda=$lambda\"] = obj_ETO_list\n",
    "        Result_ETO_Dict[\"sol_ins=$(ins)_lambda=$lambda\"] = x_ETO_list\n",
    "        Result_ETO_Dict[\"time_ins=$(ins)_lambda=$lambda\"] = time_ETO_list\n",
    "        Result_ETO_Dict[\"profit_ins=$(ins)_lambda=$lambda\"] = profit_ETO_list\n",
    "    end\n",
    "    println(\"************ data_dir_ins: \", data_dir_ins,\"*************\")\n",
    "end\n",
    "save(string(data_dir,\"Result_ETO.jld2\"),Result_ETO_Dict) "
   ]
  },
  {
   "cell_type": "markdown",
   "id": "aaefafcd",
   "metadata": {},
   "source": [
    "#### Robust"
   ]
  },
  {
   "cell_type": "code",
   "execution_count": 11,
   "id": "11455bc4",
   "metadata": {},
   "outputs": [
    {
     "data": {
      "text/plain": [
       "calculate_phi_bounds (generic function with 1 method)"
      ]
     },
     "metadata": {},
     "output_type": "display_data"
    }
   ],
   "source": [
    "function calculate_phi_bounds(N_x,r0,r,c_l,d_r_this,is_lb)\n",
    "    model = Model(Mosek.Optimizer)\n",
    "    set_attribute(model, \"QUIET\", true)\n",
    "    # 定义变量\n",
    "    @variable(model, X[1:N_x], Bin)        # 二进制变量 x_{jk}    \n",
    "    @constraint(model, X' * c_l >= d_r_this)\n",
    "    if is_lb\n",
    "        @objective(model, Min, r0 + r' * X)\n",
    "    else\n",
    "        @objective(model, Max, r0 + r' * X)\n",
    "    end\n",
    "    optimize!(model)\n",
    "    status = JuMP.termination_status(model)\n",
    "    obj_val = objective_value(model)\n",
    "    X_val = round.(value.(X))\n",
    "    return obj_val,X_val\n",
    "end"
   ]
  },
  {
   "cell_type": "code",
   "execution_count": 35,
   "id": "e424e92c",
   "metadata": {},
   "outputs": [
    {
     "name": "stdout",
     "output_type": "stream",
     "text": [
      "************ data_dir_ins: /Users/zhangxun/Dropbox/Research/Robust_Exp/Data/Product_Line_Design/N=2_N_x=20_N_u=5_S_train=200_N_nonzero=5/instance=1/*************\n",
      "************ data_dir_ins: /Users/zhangxun/Dropbox/Research/Robust_Exp/Data/Product_Line_Design/N=2_N_x=20_N_u=5_S_train=200_N_nonzero=5/instance=2/*************\n",
      "************ data_dir_ins: /Users/zhangxun/Dropbox/Research/Robust_Exp/Data/Product_Line_Design/N=2_N_x=20_N_u=5_S_train=200_N_nonzero=5/instance=3/*************\n",
      "************ data_dir_ins: /Users/zhangxun/Dropbox/Research/Robust_Exp/Data/Product_Line_Design/N=2_N_x=20_N_u=5_S_train=200_N_nonzero=5/instance=4/*************\n",
      "************ data_dir_ins: /Users/zhangxun/Dropbox/Research/Robust_Exp/Data/Product_Line_Design/N=2_N_x=20_N_u=5_S_train=200_N_nonzero=5/instance=5/*************\n",
      "************ data_dir_ins: /Users/zhangxun/Dropbox/Research/Robust_Exp/Data/Product_Line_Design/N=2_N_x=20_N_u=5_S_train=200_N_nonzero=5/instance=6/*************\n",
      "************ data_dir_ins: /Users/zhangxun/Dropbox/Research/Robust_Exp/Data/Product_Line_Design/N=2_N_x=20_N_u=5_S_train=200_N_nonzero=5/instance=7/*************\n",
      "************ data_dir_ins: /Users/zhangxun/Dropbox/Research/Robust_Exp/Data/Product_Line_Design/N=2_N_x=20_N_u=5_S_train=200_N_nonzero=5/instance=8/*************\n",
      "************ data_dir_ins: /Users/zhangxun/Dropbox/Research/Robust_Exp/Data/Product_Line_Design/N=2_N_x=20_N_u=5_S_train=200_N_nonzero=5/instance=9/*************\n",
      "************ data_dir_ins: /Users/zhangxun/Dropbox/Research/Robust_Exp/Data/Product_Line_Design/N=2_N_x=20_N_u=5_S_train=200_N_nonzero=5/instance=10/*************\n"
     ]
    }
   ],
   "source": [
    "dual_norm = 2\n",
    "Result_RO_Dict = Dict();\n",
    "for ins in 1:instances\n",
    "    data_dir_ins = string(data_dir, \"instance=$ins/\")\n",
    "    r0,r,alp0_true,alp_true,beta_true,A_true,Z_test = get_input_data_ins(Input_Data,ins)\n",
    "    Estimate_Dict = Input_Data[\"Estimate_ins=$ins\"]\n",
    "    lambda_len = length(lambda_list)\n",
    "    gamma_len = length(gamma_list)\n",
    "    for l_index in 1:lambda_len\n",
    "        lambda = lambda_list[l_index]\n",
    "        nu0 = Estimate_Dict[\"nu0_lambda=$lambda\"]\n",
    "        nu = Estimate_Dict[\"nu_lambda=$lambda\"]\n",
    "\n",
    "        for g_index in 1:gamma_len\n",
    "            gamma = gamma_list[g_index]\n",
    "            obj_RO_list = zeros(S_test);\n",
    "            x_RO_list = zeros(S_test,N,N_x);\n",
    "            time_RO_list = zeros(S_test);\n",
    "            profit_RO_list = zeros(S_test);\n",
    "            for i in 1:S_test\n",
    "                z_input = Z_test[i,:];                \n",
    "                r_lb,x_lb = calculate_phi_bounds(N_x,r0,r,c_l,d_r[1],true)\n",
    "                r_ub,x_ub = calculate_phi_bounds(N_x,r0,r,c_l,d_r[1],false);\n",
    "                phi_lb_cal = r_lb - r_ub\n",
    "                psi_lb = -10 * ones(N)\n",
    "                psi_ub = 0 * ones(N)\n",
    "                phi_lb = -10 * ones(N)\n",
    "                phi_ub = 0 * ones(N)\n",
    "\n",
    "                obj_RO_list[i], x_RO_list[i,:,:], time_RO_list[i] = RO_PLD(N,N_x,nu0,nu,r0,r,c_l,d_r,rev_gap,psi_lb,psi_ub,phi_lb,phi_ub,gamma,dual_norm,num_c)\n",
    "                profit_RO_list[i] = calculate_profit(alp0_true, alp_true, beta_true, A_true, r0, r, x_RO_list[i,:,:], z_input)\n",
    "                # if i % 20 == 1\n",
    "                #     println(\"RO: lambda=$lambda,gamma=$gamma, i=$i, obj=$(round(obj_RO_list[i], digits=4)), profit=$(round(profit_RO_list[i], digits=4)),x=$(round.(x_RO_list[i,:], digits=4)), time=$(round(time_RO_list[i],digits=4))\")\n",
    "                # end\n",
    "            end\n",
    "            Result_RO_Dict[\"obj_ins=$(ins)_lambda=$(lambda)_gamma=$gamma\"] = obj_RO_list\n",
    "            Result_RO_Dict[\"sol_ins=$(ins)_lambda=$(lambda)_gamma=$gamma\"] = x_RO_list\n",
    "            Result_RO_Dict[\"time_ins=$(ins)_lambda=$(lambda)_gamma=$gamma\"] = time_RO_list\n",
    "            Result_RO_Dict[\"profit_ins=$(ins)_lambda=$(lambda)_gamma=$gamma\"] = profit_RO_list\n",
    "        end\n",
    "    end\n",
    "    println(\"************ data_dir_ins: \", data_dir_ins,\"*************\")\n",
    "end\n",
    "save(string(data_dir,\"Result_RO.jld2\"),Result_RO_Dict) "
   ]
  },
  {
   "cell_type": "markdown",
   "id": "38244b35",
   "metadata": {},
   "source": [
    "#### Results"
   ]
  },
  {
   "cell_type": "code",
   "execution_count": 30,
   "id": "2c419804",
   "metadata": {},
   "outputs": [],
   "source": [
    "Result_True_Dict = load(string(data_dir,\"Result_True.jld2\"));\n",
    "Result_ETO_Dict = load(string(data_dir,\"Result_ETO.jld2\"));\n",
    "Result_RO_Dict = load(string(data_dir,\"Result_RO.jld2\"));"
   ]
  },
  {
   "cell_type": "code",
   "execution_count": 14,
   "id": "2aac7ae6",
   "metadata": {},
   "outputs": [],
   "source": [
    "# for k in keys(Result_RO_Dict)\n",
    "#     if occursin(\"profit_ins=99\", k)\n",
    "#         println(k)\n",
    "#     end\n",
    "# end"
   ]
  },
  {
   "cell_type": "code",
   "execution_count": 31,
   "id": "34e2d4db",
   "metadata": {},
   "outputs": [],
   "source": [
    "obj_True_avg = zeros(instances);\n",
    "obj_ETO_avg = zeros(instances, length(lambda_list));\n",
    "obj_RO_avg = zeros(instances, length(lambda_list), length(gamma_list));\n",
    "for ins in 1:instances\n",
    "    obj_True_avg[ins] = mean(Result_True_Dict[\"obj_ins=$ins\"])\n",
    "    for l_index in 1:length(lambda_list)\n",
    "        lambda = lambda_list[l_index]\n",
    "        obj_ETO_avg[ins,l_index] = mean(Result_ETO_Dict[\"obj_ins=$(ins)_lambda=$lambda\"])\n",
    "        for g_index in 1:length(gamma_list)\n",
    "            gamma = gamma_list[g_index]\n",
    "            obj_RO_avg[ins,l_index,g_index] = mean(Result_RO_Dict[\"obj_ins=$(ins)_lambda=$(lambda)_gamma=$gamma\"])\n",
    "            # println(\"ins=$ins, lambda=$lambda, gamma=$gamma, profit_True_avg=$(round(profit_True_avg,digits=4)), profit_ETO_avg=$(round(profit_ETO_avg,digits=4)), profit_RO_avg=$(round(profit_RO_avg,digits=4))\")\n",
    "        end\n",
    "    end\n",
    "end"
   ]
  },
  {
   "cell_type": "code",
   "execution_count": 32,
   "id": "0b8be368",
   "metadata": {},
   "outputs": [
    {
     "name": "stdout",
     "output_type": "stream",
     "text": [
      "obj_ETO:[4.09, 5.29, 3.43, 4.08, 4.3, 3.92, 3.83, 3.96, 4.09, 4.56]\n",
      "obj_RO:[4.04, 5.28, 3.34, 4.03, 4.29, 3.9, 3.79, 3.93, 4.02, 4.48]\n",
      "obj_ETO avg:4.155660615474995\n",
      "obj_RO avg:4.108884715344325\n"
     ]
    }
   ],
   "source": [
    "println(\"obj_ETO:\",round.(obj_ETO_avg[:,1],digits=2))\n",
    "println(\"obj_RO:\",round.(obj_RO_avg[:,1,1],digits=2))\n",
    "println(\"obj_ETO avg:\",mean(obj_ETO_avg[:,1]))\n",
    "println(\"obj_RO avg:\",mean(obj_RO_avg[:,1,1]))"
   ]
  },
  {
   "cell_type": "code",
   "execution_count": 33,
   "id": "386a40f1",
   "metadata": {},
   "outputs": [],
   "source": [
    "profit_True_avg = zeros(instances);\n",
    "profit_ETO_avg = zeros(instances, length(lambda_list));\n",
    "profit_RO_avg = zeros(instances, length(lambda_list), length(gamma_list));\n",
    "for ins in 1:instances\n",
    "    profit_True_avg[ins] = mean(Result_True_Dict[\"profit_ins=$ins\"])\n",
    "    for l_index in 1:length(lambda_list)\n",
    "        lambda = lambda_list[l_index]\n",
    "        profit_ETO_avg[ins,l_index] = mean(Result_ETO_Dict[\"profit_ins=$(ins)_lambda=$lambda\"])\n",
    "        for g_index in 1:length(gamma_list)\n",
    "            gamma = gamma_list[g_index]\n",
    "            profit_RO_avg[ins,l_index,g_index] = mean(Result_RO_Dict[\"profit_ins=$(ins)_lambda=$(lambda)_gamma=$gamma\"])\n",
    "            # println(\"ins=$ins, lambda=$lambda, gamma=$gamma, profit_True_avg=$(round(profit_True_avg,digits=4)), profit_ETO_avg=$(round(profit_ETO_avg,digits=4)), profit_RO_avg=$(round(profit_RO_avg,digits=4))\")\n",
    "        end\n",
    "    end\n",
    "end"
   ]
  },
  {
   "cell_type": "code",
   "execution_count": 34,
   "id": "539fa1e3",
   "metadata": {},
   "outputs": [
    {
     "name": "stdout",
     "output_type": "stream",
     "text": [
      "profit_ETO/profit_True = 0.910616159779931\n",
      "profit_ETO:[3.85, 5.05, 3.0, 3.96, 4.27, 1.69, 2.43, 3.95, 3.67, 4.44]\n",
      "profit_RO:[3.85, 5.19, 3.0, 3.96, 4.27, 2.44, 2.43, 3.9, 3.69, 4.49]\n"
     ]
    }
   ],
   "source": [
    "println(\"profit_ETO/profit_True = \",mean(profit_ETO_avg[:,1])/mean(profit_True_avg))\n",
    "println(\"profit_ETO:\",round.(profit_ETO_avg[:,1],digits=2))\n",
    "println(\"profit_RO:\",round.(profit_RO_avg[:,1,1],digits=2))"
   ]
  },
  {
   "cell_type": "markdown",
   "id": "b82e94f7",
   "metadata": {},
   "source": [
    "##### Line plot "
   ]
  },
  {
   "cell_type": "code",
   "execution_count": 19,
   "id": "5d280ad9",
   "metadata": {},
   "outputs": [
    {
     "name": "stdout",
     "output_type": "stream",
     "text": [
      "gamma=0.0,Mean =1.0049351760947183, Std =0.9877336348356306\n"
     ]
    }
   ],
   "source": [
    "l_index = 1\n",
    "RO_ETO_Ratio_Mean = zeros(length(gamma_list))\n",
    "RO_ETO_Ratio_Std = zeros(length(gamma_list))\n",
    "for g_index in 1:length(gamma_list)\n",
    "    gamma = gamma_list[g_index]\n",
    "    RO_ETO_Ratio_Mean[g_index] = mean(profit_RO_avg[:,l_index,g_index])/mean(profit_ETO_avg[:,l_index])\n",
    "    RO_ETO_Ratio_Std[g_index] = std(profit_RO_avg[:,l_index,g_index])/std(profit_ETO_avg[:,l_index])\n",
    "    println(\"gamma=$gamma,Mean =\",RO_ETO_Ratio_Mean[g_index],\", Std =\",RO_ETO_Ratio_Std[g_index])\n",
    "end"
   ]
  },
  {
   "cell_type": "code",
   "execution_count": 20,
   "id": "c25064ff",
   "metadata": {},
   "outputs": [
    {
     "data": {
      "image/png": "[encoded data removed]",
      "image/svg+xml": [
       "<?xml version=\"1.0\" encoding=\"utf-8\"?>\n",
       "<svg xmlns=\"http://www.w3.org/2000/svg\" xmlns:xlink=\"http://www.w3.org/1999/xlink\" width=\"600\" height=\"400\" viewBox=\"0 0 2400 1600\">\n",
       "<defs>\n",
       "  <clipPath id=\"clip500\">\n",
       "    <rect x=\"0\" y=\"0\" width=\"2400\" height=\"1600\"/>\n",
       "  </clipPath>\n",
       "</defs>\n",
       "<path clip-path=\"url(#clip500)\" d=\"M0 1600 L2400 1600 L2400 8.88178e-14 L0 8.88178e-14  Z\" fill=\"#ffffff\" fill-rule=\"evenodd\" fill-opacity=\"1\"/>\n",
       "<defs>\n",
       "  <clipPath id=\"clip501\">\n",
       "    <rect x=\"480\" y=\"0\" width=\"1681\" height=\"1600\"/>\n",
       "  </clipPath>\n",
       "</defs>\n",
       "<path clip-path=\"url(#clip500)\" d=\"M279.704 1423.18 L2352.76 1423.18 L2352.76 47.2441 L279.704 47.2441  Z\" fill=\"#ffffff\" fill-rule=\"evenodd\" fill-opacity=\"1\"/>\n",
       "<defs>\n",
       "  <clipPath id=\"clip502\">\n",
       "    <rect x=\"279\" y=\"47\" width=\"2074\" height=\"1377\"/>\n",
       "  </clipPath>\n",
       "</defs>\n",
       "<polyline clip-path=\"url(#clip502)\" style=\"stroke:#000000; stroke-linecap:round; stroke-linejoin:round; stroke-width:2; stroke-opacity:0.1; fill:none\" points=\"338.375,1423.18 338.375,47.2441 \"/>\n",
       "<polyline clip-path=\"url(#clip500)\" style=\"stroke:#000000; stroke-linecap:round; stroke-linejoin:round; stroke-width:4; stroke-opacity:1; fill:none\" points=\"279.704,1423.18 2352.76,1423.18 \"/>\n",
       "<polyline clip-path=\"url(#clip500)\" style=\"stroke:#000000; stroke-linecap:round; stroke-linejoin:round; stroke-width:4; stroke-opacity:1; fill:none\" points=\"338.375,1423.18 338.375,1404.28 \"/>\n",
       "<path clip-path=\"url(#clip500)\" d=\"M315.76 1454.1 Q312.148 1454.1 310.32 1457.66 Q308.514 1461.2 308.514 1468.33 Q308.514 1475.44 310.32 1479.01 Q312.148 1482.55 315.76 1482.55 Q319.394 1482.55 321.199 1479.01 Q323.028 1475.44 323.028 1468.33 Q323.028 1461.2 321.199 1457.66 Q319.394 1454.1 315.76 1454.1 M315.76 1450.39 Q321.57 1450.39 324.625 1455 Q327.704 1459.58 327.704 1468.33 Q327.704 1477.06 324.625 1481.67 Q321.57 1486.25 315.76 1486.25 Q309.949 1486.25 306.871 1481.67 Q303.815 1477.06 303.815 1468.33 Q303.815 1459.58 306.871 1455 Q309.949 1450.39 315.76 1450.39 Z\" fill=\"#000000\" fill-rule=\"nonzero\" fill-opacity=\"1\" /><path clip-path=\"url(#clip500)\" d=\"M335.922 1479.7 L340.806 1479.7 L340.806 1485.58 L335.922 1485.58 L335.922 1479.7 Z\" fill=\"#000000\" fill-rule=\"nonzero\" fill-opacity=\"1\" /><path clip-path=\"url(#clip500)\" d=\"M360.991 1454.1 Q357.38 1454.1 355.551 1457.66 Q353.745 1461.2 353.745 1468.33 Q353.745 1475.44 355.551 1479.01 Q357.38 1482.55 360.991 1482.55 Q364.625 1482.55 366.431 1479.01 Q368.259 1475.44 368.259 1468.33 Q368.259 1461.2 366.431 1457.66 Q364.625 1454.1 360.991 1454.1 M360.991 1450.39 Q366.801 1450.39 369.857 1455 Q372.935 1459.58 372.935 1468.33 Q372.935 1477.06 369.857 1481.67 Q366.801 1486.25 360.991 1486.25 Q355.181 1486.25 352.102 1481.67 Q349.046 1477.06 349.046 1468.33 Q349.046 1459.58 352.102 1455 Q355.181 1450.39 360.991 1450.39 Z\" fill=\"#000000\" fill-rule=\"nonzero\" fill-opacity=\"1\" /><path clip-path=\"url(#clip500)\" d=\"M1333.95 1519.19 Q1333.95 1519.45 1332.69 1521.7 Q1330.6 1525.86 1327.92 1532.2 Q1325.25 1538.55 1323.74 1543.25 Q1323.41 1544.38 1323.19 1545.83 Q1322.61 1550.27 1320.74 1557.16 Q1320.1 1559.32 1319.68 1560.22 Q1319.26 1561.12 1318.65 1561.12 Q1317.78 1561.12 1317.78 1559.93 Q1317.78 1558.74 1318.87 1554.3 Q1320 1549.85 1321.22 1545.76 Q1322 1543.51 1322 1539.29 Q1322 1537.94 1321.93 1536.71 Q1321.87 1535.49 1321.61 1533.72 Q1321.35 1531.95 1320.93 1530.5 Q1320.52 1529.05 1319.71 1527.53 Q1318.9 1525.99 1317.81 1524.96 Q1316.71 1523.89 1315.04 1523.22 Q1313.4 1522.54 1311.34 1522.54 Q1310.82 1522.54 1310.18 1522.61 Q1309.57 1522.64 1308.08 1523.06 Q1306.63 1523.48 1305.41 1524.22 Q1304.19 1524.92 1302.87 1526.5 Q1301.55 1528.08 1300.84 1530.21 L1300.58 1530.53 Q1300.16 1530.53 1299.94 1530.53 Q1299.74 1530.5 1299.52 1530.34 Q1299.32 1530.17 1299.32 1529.88 Q1299.32 1529.21 1299.84 1527.86 Q1300.39 1526.5 1301.48 1524.76 Q1302.61 1523.02 1304.06 1521.48 Q1305.54 1519.93 1307.7 1518.87 Q1309.86 1517.81 1312.17 1517.81 Q1318.13 1517.81 1320.97 1525.05 Q1323.45 1531.21 1323.67 1538.52 Q1328.82 1525.54 1332.37 1519 Q1332.56 1518.52 1333.14 1518.52 Q1333.95 1518.55 1333.95 1519.19 Z\" fill=\"#000000\" fill-rule=\"nonzero\" fill-opacity=\"1\" /><polyline clip-path=\"url(#clip502)\" style=\"stroke:#000000; stroke-linecap:round; stroke-linejoin:round; stroke-width:2; stroke-opacity:0.1; fill:none\" points=\"279.704,1213.22 2352.76,1213.22 \"/>\n",
       "<polyline clip-path=\"url(#clip502)\" style=\"stroke:#000000; stroke-linecap:round; stroke-linejoin:round; stroke-width:2; stroke-opacity:0.1; fill:none\" points=\"279.704,835.908 2352.76,835.908 \"/>\n",
       "<polyline clip-path=\"url(#clip502)\" style=\"stroke:#000000; stroke-linecap:round; stroke-linejoin:round; stroke-width:2; stroke-opacity:0.1; fill:none\" points=\"279.704,458.601 2352.76,458.601 \"/>\n",
       "<polyline clip-path=\"url(#clip502)\" style=\"stroke:#000000; stroke-linecap:round; stroke-linejoin:round; stroke-width:2; stroke-opacity:0.1; fill:none\" points=\"279.704,81.294 2352.76,81.294 \"/>\n",
       "<polyline clip-path=\"url(#clip500)\" style=\"stroke:#000000; stroke-linecap:round; stroke-linejoin:round; stroke-width:4; stroke-opacity:1; fill:none\" points=\"279.704,1423.18 279.704,47.2441 \"/>\n",
       "<polyline clip-path=\"url(#clip500)\" style=\"stroke:#000000; stroke-linecap:round; stroke-linejoin:round; stroke-width:4; stroke-opacity:1; fill:none\" points=\"279.704,1213.22 298.602,1213.22 \"/>\n",
       "<polyline clip-path=\"url(#clip500)\" style=\"stroke:#000000; stroke-linecap:round; stroke-linejoin:round; stroke-width:4; stroke-opacity:1; fill:none\" points=\"279.704,835.908 298.602,835.908 \"/>\n",
       "<polyline clip-path=\"url(#clip500)\" style=\"stroke:#000000; stroke-linecap:round; stroke-linejoin:round; stroke-width:4; stroke-opacity:1; fill:none\" points=\"279.704,458.601 298.602,458.601 \"/>\n",
       "<polyline clip-path=\"url(#clip500)\" style=\"stroke:#000000; stroke-linecap:round; stroke-linejoin:round; stroke-width:4; stroke-opacity:1; fill:none\" points=\"279.704,81.294 298.602,81.294 \"/>\n",
       "<path clip-path=\"url(#clip500)\" d=\"M126.205 1199.01 Q122.593 1199.01 120.765 1202.58 Q118.959 1206.12 118.959 1213.25 Q118.959 1220.36 120.765 1223.92 Q122.593 1227.46 126.205 1227.46 Q129.839 1227.46 131.644 1223.92 Q133.473 1220.36 133.473 1213.25 Q133.473 1206.12 131.644 1202.58 Q129.839 1199.01 126.205 1199.01 M126.205 1195.31 Q132.015 1195.31 135.07 1199.92 Q138.149 1204.5 138.149 1213.25 Q138.149 1221.98 135.07 1226.58 Q132.015 1231.17 126.205 1231.17 Q120.394 1231.17 117.316 1226.58 Q114.26 1221.98 114.26 1213.25 Q114.26 1204.5 117.316 1199.92 Q120.394 1195.31 126.205 1195.31 Z\" fill=\"#000000\" fill-rule=\"nonzero\" fill-opacity=\"1\" /><path clip-path=\"url(#clip500)\" d=\"M146.366 1224.62 L151.251 1224.62 L151.251 1230.5 L146.366 1230.5 L146.366 1224.62 Z\" fill=\"#000000\" fill-rule=\"nonzero\" fill-opacity=\"1\" /><path clip-path=\"url(#clip500)\" d=\"M161.575 1229.78 L161.575 1225.52 Q163.334 1226.35 165.14 1226.79 Q166.945 1227.23 168.681 1227.23 Q173.311 1227.23 175.741 1224.13 Q178.195 1221 178.542 1214.66 Q177.2 1216.65 175.139 1217.72 Q173.079 1218.78 170.579 1218.78 Q165.394 1218.78 162.362 1215.66 Q159.353 1212.51 159.353 1207.07 Q159.353 1201.75 162.501 1198.53 Q165.649 1195.31 170.88 1195.31 Q176.876 1195.31 180.024 1199.92 Q183.195 1204.5 183.195 1213.25 Q183.195 1221.42 179.306 1226.31 Q175.44 1231.17 168.889 1231.17 Q167.13 1231.17 165.325 1230.82 Q163.519 1230.47 161.575 1229.78 M170.88 1215.12 Q174.028 1215.12 175.857 1212.97 Q177.709 1210.82 177.709 1207.07 Q177.709 1203.34 175.857 1201.19 Q174.028 1199.01 170.88 1199.01 Q167.732 1199.01 165.88 1201.19 Q164.052 1203.34 164.052 1207.07 Q164.052 1210.82 165.88 1212.97 Q167.732 1215.12 170.88 1215.12 Z\" fill=\"#000000\" fill-rule=\"nonzero\" fill-opacity=\"1\" /><path clip-path=\"url(#clip500)\" d=\"M191.737 1229.78 L191.737 1225.52 Q193.496 1226.35 195.301 1226.79 Q197.107 1227.23 198.843 1227.23 Q203.473 1227.23 205.903 1224.13 Q208.357 1221 208.704 1214.66 Q207.362 1216.65 205.301 1217.72 Q203.241 1218.78 200.741 1218.78 Q195.556 1218.78 192.524 1215.66 Q189.514 1212.51 189.514 1207.07 Q189.514 1201.75 192.663 1198.53 Q195.811 1195.31 201.042 1195.31 Q207.037 1195.31 210.186 1199.92 Q213.357 1204.5 213.357 1213.25 Q213.357 1221.42 209.468 1226.31 Q205.602 1231.17 199.051 1231.17 Q197.292 1231.17 195.487 1230.82 Q193.681 1230.47 191.737 1229.78 M201.042 1215.12 Q204.19 1215.12 206.019 1212.97 Q207.871 1210.82 207.871 1207.07 Q207.871 1203.34 206.019 1201.19 Q204.19 1199.01 201.042 1199.01 Q197.894 1199.01 196.042 1201.19 Q194.213 1203.34 194.213 1207.07 Q194.213 1210.82 196.042 1212.97 Q197.894 1215.12 201.042 1215.12 Z\" fill=\"#000000\" fill-rule=\"nonzero\" fill-opacity=\"1\" /><path clip-path=\"url(#clip500)\" d=\"M231.76 1199.01 Q228.148 1199.01 226.32 1202.58 Q224.514 1206.12 224.514 1213.25 Q224.514 1220.36 226.32 1223.92 Q228.148 1227.46 231.76 1227.46 Q235.394 1227.46 237.199 1223.92 Q239.028 1220.36 239.028 1213.25 Q239.028 1206.12 237.199 1202.58 Q235.394 1199.01 231.76 1199.01 M231.76 1195.31 Q237.57 1195.31 240.625 1199.92 Q243.704 1204.5 243.704 1213.25 Q243.704 1221.98 240.625 1226.58 Q237.57 1231.17 231.76 1231.17 Q225.949 1231.17 222.871 1226.58 Q219.815 1221.98 219.815 1213.25 Q219.815 1204.5 222.871 1199.92 Q225.949 1195.31 231.76 1195.31 Z\" fill=\"#000000\" fill-rule=\"nonzero\" fill-opacity=\"1\" /><path clip-path=\"url(#clip500)\" d=\"M127.2 821.707 Q123.589 821.707 121.76 825.272 Q119.955 828.813 119.955 835.943 Q119.955 843.049 121.76 846.614 Q123.589 850.156 127.2 850.156 Q130.834 850.156 132.64 846.614 Q134.468 843.049 134.468 835.943 Q134.468 828.813 132.64 825.272 Q130.834 821.707 127.2 821.707 M127.2 818.003 Q133.01 818.003 136.066 822.61 Q139.144 827.193 139.144 835.943 Q139.144 844.67 136.066 849.276 Q133.01 853.859 127.2 853.859 Q121.39 853.859 118.311 849.276 Q115.256 844.67 115.256 835.943 Q115.256 827.193 118.311 822.61 Q121.39 818.003 127.2 818.003 Z\" fill=\"#000000\" fill-rule=\"nonzero\" fill-opacity=\"1\" /><path clip-path=\"url(#clip500)\" d=\"M147.362 847.308 L152.246 847.308 L152.246 853.188 L147.362 853.188 L147.362 847.308 Z\" fill=\"#000000\" fill-rule=\"nonzero\" fill-opacity=\"1\" /><path clip-path=\"url(#clip500)\" d=\"M162.57 852.471 L162.57 848.211 Q164.329 849.045 166.135 849.484 Q167.94 849.924 169.677 849.924 Q174.306 849.924 176.737 846.822 Q179.19 843.697 179.538 837.355 Q178.195 839.346 176.135 840.41 Q174.075 841.475 171.575 841.475 Q166.39 841.475 163.357 838.35 Q160.348 835.202 160.348 829.762 Q160.348 824.438 163.496 821.221 Q166.644 818.003 171.876 818.003 Q177.871 818.003 181.019 822.61 Q184.19 827.193 184.19 835.943 Q184.19 844.114 180.301 848.998 Q176.436 853.859 169.885 853.859 Q168.126 853.859 166.32 853.512 Q164.515 853.165 162.57 852.471 M171.876 837.818 Q175.024 837.818 176.852 835.665 Q178.704 833.512 178.704 829.762 Q178.704 826.035 176.852 823.883 Q175.024 821.707 171.876 821.707 Q168.727 821.707 166.876 823.883 Q165.047 826.035 165.047 829.762 Q165.047 833.512 166.876 835.665 Q168.727 837.818 171.876 837.818 Z\" fill=\"#000000\" fill-rule=\"nonzero\" fill-opacity=\"1\" /><path clip-path=\"url(#clip500)\" d=\"M192.732 852.471 L192.732 848.211 Q194.491 849.045 196.297 849.484 Q198.102 849.924 199.838 849.924 Q204.468 849.924 206.899 846.822 Q209.352 843.697 209.699 837.355 Q208.357 839.346 206.297 840.41 Q204.237 841.475 201.737 841.475 Q196.551 841.475 193.519 838.35 Q190.51 835.202 190.51 829.762 Q190.51 824.438 193.658 821.221 Q196.806 818.003 202.037 818.003 Q208.033 818.003 211.181 822.61 Q214.352 827.193 214.352 835.943 Q214.352 844.114 210.463 848.998 Q206.598 853.859 200.047 853.859 Q198.287 853.859 196.482 853.512 Q194.676 853.165 192.732 852.471 M202.037 837.818 Q205.186 837.818 207.014 835.665 Q208.866 833.512 208.866 829.762 Q208.866 826.035 207.014 823.883 Q205.186 821.707 202.037 821.707 Q198.889 821.707 197.037 823.883 Q195.209 826.035 195.209 829.762 Q195.209 833.512 197.037 835.665 Q198.889 837.818 202.037 837.818 Z\" fill=\"#000000\" fill-rule=\"nonzero\" fill-opacity=\"1\" /><path clip-path=\"url(#clip500)\" d=\"M222.801 818.628 L241.158 818.628 L241.158 822.563 L227.084 822.563 L227.084 831.035 Q228.102 830.688 229.121 830.526 Q230.139 830.341 231.158 830.341 Q236.945 830.341 240.324 833.512 Q243.704 836.684 243.704 842.1 Q243.704 847.679 240.232 850.781 Q236.76 853.859 230.44 853.859 Q228.264 853.859 225.996 853.489 Q223.75 853.119 221.343 852.378 L221.343 847.679 Q223.426 848.813 225.648 849.369 Q227.871 849.924 230.347 849.924 Q234.352 849.924 236.69 847.818 Q239.028 845.711 239.028 842.1 Q239.028 838.489 236.69 836.383 Q234.352 834.276 230.347 834.276 Q228.473 834.276 226.598 834.693 Q224.746 835.109 222.801 835.989 L222.801 818.628 Z\" fill=\"#000000\" fill-rule=\"nonzero\" fill-opacity=\"1\" /><path clip-path=\"url(#clip500)\" d=\"M117.015 471.946 L124.654 471.946 L124.654 445.58 L116.343 447.247 L116.343 442.988 L124.607 441.321 L129.283 441.321 L129.283 471.946 L136.922 471.946 L136.922 475.881 L117.015 475.881 L117.015 471.946 Z\" fill=\"#000000\" fill-rule=\"nonzero\" fill-opacity=\"1\" /><path clip-path=\"url(#clip500)\" d=\"M146.366 470.001 L151.251 470.001 L151.251 475.881 L146.366 475.881 L146.366 470.001 Z\" fill=\"#000000\" fill-rule=\"nonzero\" fill-opacity=\"1\" /><path clip-path=\"url(#clip500)\" d=\"M171.436 444.4 Q167.825 444.4 165.996 447.965 Q164.19 451.506 164.19 458.636 Q164.19 465.742 165.996 469.307 Q167.825 472.849 171.436 472.849 Q175.07 472.849 176.876 469.307 Q178.704 465.742 178.704 458.636 Q178.704 451.506 176.876 447.965 Q175.07 444.4 171.436 444.4 M171.436 440.696 Q177.246 440.696 180.301 445.302 Q183.38 449.886 183.38 458.636 Q183.38 467.363 180.301 471.969 Q177.246 476.552 171.436 476.552 Q165.626 476.552 162.547 471.969 Q159.491 467.363 159.491 458.636 Q159.491 449.886 162.547 445.302 Q165.626 440.696 171.436 440.696 Z\" fill=\"#000000\" fill-rule=\"nonzero\" fill-opacity=\"1\" /><path clip-path=\"url(#clip500)\" d=\"M201.598 444.4 Q197.987 444.4 196.158 447.965 Q194.352 451.506 194.352 458.636 Q194.352 465.742 196.158 469.307 Q197.987 472.849 201.598 472.849 Q205.232 472.849 207.037 469.307 Q208.866 465.742 208.866 458.636 Q208.866 451.506 207.037 447.965 Q205.232 444.4 201.598 444.4 M201.598 440.696 Q207.408 440.696 210.463 445.302 Q213.542 449.886 213.542 458.636 Q213.542 467.363 210.463 471.969 Q207.408 476.552 201.598 476.552 Q195.787 476.552 192.709 471.969 Q189.653 467.363 189.653 458.636 Q189.653 449.886 192.709 445.302 Q195.787 440.696 201.598 440.696 Z\" fill=\"#000000\" fill-rule=\"nonzero\" fill-opacity=\"1\" /><path clip-path=\"url(#clip500)\" d=\"M231.76 444.4 Q228.148 444.4 226.32 447.965 Q224.514 451.506 224.514 458.636 Q224.514 465.742 226.32 469.307 Q228.148 472.849 231.76 472.849 Q235.394 472.849 237.199 469.307 Q239.028 465.742 239.028 458.636 Q239.028 451.506 237.199 447.965 Q235.394 444.4 231.76 444.4 M231.76 440.696 Q237.57 440.696 240.625 445.302 Q243.704 449.886 243.704 458.636 Q243.704 467.363 240.625 471.969 Q237.57 476.552 231.76 476.552 Q225.949 476.552 222.871 471.969 Q219.815 467.363 219.815 458.636 Q219.815 449.886 222.871 445.302 Q225.949 440.696 231.76 440.696 Z\" fill=\"#000000\" fill-rule=\"nonzero\" fill-opacity=\"1\" /><path clip-path=\"url(#clip500)\" d=\"M118.01 94.6388 L125.649 94.6388 L125.649 68.2732 L117.339 69.9399 L117.339 65.6806 L125.603 64.014 L130.279 64.014 L130.279 94.6388 L137.917 94.6388 L137.917 98.574 L118.01 98.574 L118.01 94.6388 Z\" fill=\"#000000\" fill-rule=\"nonzero\" fill-opacity=\"1\" /><path clip-path=\"url(#clip500)\" d=\"M147.362 92.6944 L152.246 92.6944 L152.246 98.574 L147.362 98.574 L147.362 92.6944 Z\" fill=\"#000000\" fill-rule=\"nonzero\" fill-opacity=\"1\" /><path clip-path=\"url(#clip500)\" d=\"M172.431 67.0927 Q168.82 67.0927 166.991 70.6575 Q165.186 74.1991 165.186 81.3287 Q165.186 88.4351 166.991 91.9999 Q168.82 95.5416 172.431 95.5416 Q176.065 95.5416 177.871 91.9999 Q179.7 88.4351 179.7 81.3287 Q179.7 74.1991 177.871 70.6575 Q176.065 67.0927 172.431 67.0927 M172.431 63.389 Q178.241 63.389 181.297 67.9954 Q184.376 72.5787 184.376 81.3287 Q184.376 90.0555 181.297 94.662 Q178.241 99.2453 172.431 99.2453 Q166.621 99.2453 163.542 94.662 Q160.487 90.0555 160.487 81.3287 Q160.487 72.5787 163.542 67.9954 Q166.621 63.389 172.431 63.389 Z\" fill=\"#000000\" fill-rule=\"nonzero\" fill-opacity=\"1\" /><path clip-path=\"url(#clip500)\" d=\"M202.593 67.0927 Q198.982 67.0927 197.153 70.6575 Q195.348 74.1991 195.348 81.3287 Q195.348 88.4351 197.153 91.9999 Q198.982 95.5416 202.593 95.5416 Q206.227 95.5416 208.033 91.9999 Q209.861 88.4351 209.861 81.3287 Q209.861 74.1991 208.033 70.6575 Q206.227 67.0927 202.593 67.0927 M202.593 63.389 Q208.403 63.389 211.459 67.9954 Q214.537 72.5787 214.537 81.3287 Q214.537 90.0555 211.459 94.662 Q208.403 99.2453 202.593 99.2453 Q196.783 99.2453 193.704 94.662 Q190.649 90.0555 190.649 81.3287 Q190.649 72.5787 193.704 67.9954 Q196.783 63.389 202.593 63.389 Z\" fill=\"#000000\" fill-rule=\"nonzero\" fill-opacity=\"1\" /><path clip-path=\"url(#clip500)\" d=\"M222.801 64.014 L241.158 64.014 L241.158 67.9491 L227.084 67.9491 L227.084 76.4213 Q228.102 76.0741 229.121 75.9121 Q230.139 75.7269 231.158 75.7269 Q236.945 75.7269 240.324 78.8981 Q243.704 82.0694 243.704 87.4861 Q243.704 93.0647 240.232 96.1666 Q236.76 99.2453 230.44 99.2453 Q228.264 99.2453 225.996 98.8749 Q223.75 98.5045 221.343 97.7638 L221.343 93.0647 Q223.426 94.199 225.648 94.7545 Q227.871 95.3101 230.347 95.3101 Q234.352 95.3101 236.69 93.2036 Q239.028 91.0972 239.028 87.4861 Q239.028 83.875 236.69 81.7685 Q234.352 79.662 230.347 79.662 Q228.473 79.662 226.598 80.0787 Q224.746 80.4954 222.801 81.375 L222.801 64.014 Z\" fill=\"#000000\" fill-rule=\"nonzero\" fill-opacity=\"1\" /><path clip-path=\"url(#clip500)\" d=\"M41.7242 896.837 Q42.4244 894.768 44.7161 892.827 Q47.0077 890.853 51.0181 888.88 L64.0042 882.355 L64.0042 889.262 L51.8138 895.341 Q47.0395 897.697 45.48 899.925 Q43.9204 902.121 43.9204 905.94 L43.9204 912.942 L64.0042 912.942 L64.0042 919.372 L16.4842 919.372 L16.4842 904.858 Q16.4842 896.71 19.8898 892.7 Q23.2955 888.689 30.1704 888.689 Q34.6582 888.689 37.6183 890.79 Q40.5784 892.859 41.7242 896.837 M21.7677 912.942 L38.6368 912.942 L38.6368 904.858 Q38.6368 900.211 36.5043 897.856 Q34.34 895.469 30.1704 895.469 Q26.0009 895.469 23.9002 897.856 Q21.7677 900.211 21.7677 904.858 L21.7677 912.942 Z\" fill=\"#000000\" fill-rule=\"nonzero\" fill-opacity=\"1\" /><path clip-path=\"url(#clip500)\" d=\"M21.7677 867.65 L39.6235 867.65 L39.6235 859.566 Q39.6235 855.078 37.3 852.627 Q34.9765 850.177 30.6797 850.177 Q26.4147 850.177 24.0912 852.627 Q21.7677 855.078 21.7677 859.566 L21.7677 867.65 M16.4842 874.08 L16.4842 859.566 Q16.4842 851.577 20.1126 847.503 Q23.7092 843.397 30.6797 843.397 Q37.7138 843.397 41.3104 847.503 Q44.907 851.577 44.907 859.566 L44.907 867.65 L64.0042 867.65 L64.0042 874.08 L16.4842 874.08 Z\" fill=\"#000000\" fill-rule=\"nonzero\" fill-opacity=\"1\" /><path clip-path=\"url(#clip500)\" d=\"M21.7677 828.342 L58.7206 828.342 L58.7206 820.576 Q58.7206 810.741 54.2646 806.19 Q49.8086 801.606 40.1964 801.606 Q30.6479 801.606 26.2237 806.19 Q21.7677 810.741 21.7677 820.576 L21.7677 828.342 M16.4842 834.772 L16.4842 821.563 Q16.4842 807.749 22.2451 801.288 Q27.9743 794.827 40.1964 794.827 Q52.4822 794.827 58.2432 801.32 Q64.0042 807.813 64.0042 821.563 L64.0042 834.772 L16.4842 834.772 Z\" fill=\"#000000\" fill-rule=\"nonzero\" fill-opacity=\"1\" /><path clip-path=\"url(#clip500)\" d=\"M16.4842 774.425 L16.4842 769.014 L70.0516 785.565 L70.0516 790.976 L16.4842 774.425 Z\" fill=\"#000000\" fill-rule=\"nonzero\" fill-opacity=\"1\" /><path clip-path=\"url(#clip500)\" d=\"M16.4842 762.616 L16.4842 732.57 L21.895 732.57 L21.895 756.187 L35.9632 756.187 L35.9632 733.557 L41.3741 733.557 L41.3741 756.187 L58.5933 756.187 L58.5933 731.997 L64.0042 731.997 L64.0042 762.616 L16.4842 762.616 Z\" fill=\"#000000\" fill-rule=\"nonzero\" fill-opacity=\"1\" /><path clip-path=\"url(#clip500)\" d=\"M16.4842 728.019 L16.4842 687.819 L21.895 687.819 L21.895 704.688 L64.0042 704.688 L64.0042 711.15 L21.895 711.15 L21.895 728.019 L16.4842 728.019 Z\" fill=\"#000000\" fill-rule=\"nonzero\" fill-opacity=\"1\" /><path clip-path=\"url(#clip500)\" d=\"M20.8447 662.325 Q20.8447 669.327 26.0645 673.465 Q31.2844 677.57 40.2919 677.57 Q49.2675 677.57 54.4874 673.465 Q59.7073 669.327 59.7073 662.325 Q59.7073 655.322 54.4874 651.248 Q49.2675 647.142 40.2919 647.142 Q31.2844 647.142 26.0645 651.248 Q20.8447 655.322 20.8447 662.325 M15.6248 662.325 Q15.6248 652.33 22.3406 646.347 Q29.0246 640.363 40.2919 640.363 Q51.5274 640.363 58.2432 646.347 Q64.9272 652.33 64.9272 662.325 Q64.9272 672.351 58.2432 678.366 Q51.5592 684.35 40.2919 684.35 Q29.0246 684.35 22.3406 678.366 Q15.6248 672.351 15.6248 662.325 Z\" fill=\"#000000\" fill-rule=\"nonzero\" fill-opacity=\"1\" /><path clip-path=\"url(#clip500)\" d=\"M21.7677 623.876 L39.6235 623.876 L39.6235 615.791 Q39.6235 611.303 37.3 608.853 Q34.9765 606.402 30.6797 606.402 Q26.4147 606.402 24.0912 608.853 Q21.7677 611.303 21.7677 615.791 L21.7677 623.876 M16.4842 630.305 L16.4842 615.791 Q16.4842 607.802 20.1126 603.728 Q23.7092 599.622 30.6797 599.622 Q37.7138 599.622 41.3104 603.728 Q44.907 607.802 44.907 615.791 L44.907 623.876 L64.0042 623.876 L64.0042 630.305 L16.4842 630.305 Z\" fill=\"#000000\" fill-rule=\"nonzero\" fill-opacity=\"1\" /><path clip-path=\"url(#clip500)\" d=\"M21.7677 584.568 L58.7206 584.568 L58.7206 576.801 Q58.7206 566.966 54.2646 562.415 Q49.8086 557.832 40.1964 557.832 Q30.6479 557.832 26.2237 562.415 Q21.7677 566.966 21.7677 576.801 L21.7677 584.568 M16.4842 590.997 L16.4842 577.788 Q16.4842 563.974 22.2451 557.513 Q27.9743 551.052 40.1964 551.052 Q52.4822 551.052 58.2432 557.545 Q64.0042 564.038 64.0042 577.788 L64.0042 590.997 L16.4842 590.997 Z\" fill=\"#000000\" fill-rule=\"nonzero\" fill-opacity=\"1\" /><path clip-path=\"url(#clip502)\" d=\"M338.375 102.186 L327.063 97.4977 L322.375 86.1857 L327.063 74.8737 L338.375 70.1857 L349.687 74.8737 L354.375 86.1857 L349.687 97.4977 Z\" fill=\"#009af9\" fill-rule=\"evenodd\" fill-opacity=\"1\" stroke=\"#000000\" stroke-opacity=\"1\" stroke-width=\"3.2\"/>\n",
       "<path clip-path=\"url(#clip502)\" d=\"M338.375 1400.24 L327.063 1395.55 L322.375 1384.24 L327.063 1372.93 L338.375 1368.24 L349.687 1372.93 L354.375 1384.24 L349.687 1395.55 Z\" fill=\"#e26f46\" fill-rule=\"evenodd\" fill-opacity=\"1\" stroke=\"#000000\" stroke-opacity=\"1\" stroke-width=\"3.2\"/>\n",
       "<polyline clip-path=\"url(#clip502)\" style=\"stroke:#ff0000; stroke-linecap:round; stroke-linejoin:round; stroke-width:4; stroke-opacity:1; fill:none\" stroke-dasharray=\"16, 10\" points=\"-1793.35,458.601 4425.81,458.601 \"/>\n",
       "<path clip-path=\"url(#clip500)\" d=\"M1744.45 248.629 L2283.65 248.629 L2283.65 93.1086 L1744.45 93.1086  Z\" fill=\"#ffffff\" fill-rule=\"evenodd\" fill-opacity=\"1\"/>\n",
       "<polyline clip-path=\"url(#clip500)\" style=\"stroke:#000000; stroke-linecap:round; stroke-linejoin:round; stroke-width:4; stroke-opacity:1; fill:none\" points=\"1744.45,248.629 2283.65,248.629 2283.65,93.1086 1744.45,93.1086 1744.45,248.629 \"/>\n",
       "<polyline clip-path=\"url(#clip500)\" style=\"stroke:#009af9; stroke-linecap:round; stroke-linejoin:round; stroke-width:4; stroke-opacity:1; fill:none\" points=\"1767.49,144.949 1905.69,144.949 \"/>\n",
       "<path clip-path=\"url(#clip500)\" d=\"M1836.59 166.276 L1821.51 160.027 L1815.26 144.949 L1821.51 129.87 L1836.59 123.621 L1851.67 129.87 L1857.92 144.949 L1851.67 160.027 Z\" fill=\"#009af9\" fill-rule=\"evenodd\" fill-opacity=\"1\" stroke=\"#000000\" stroke-opacity=\"1\" stroke-width=\"4.55111\"/>\n",
       "<path clip-path=\"url(#clip500)\" d=\"M1944.56 132.275 L1938.21 149.474 L1950.92 149.474 L1944.56 132.275 M1941.92 127.669 L1947.22 127.669 L1960.39 162.229 L1955.53 162.229 L1952.38 153.363 L1936.8 153.363 L1933.65 162.229 L1928.72 162.229 L1941.92 127.669 Z\" fill=\"#000000\" fill-rule=\"nonzero\" fill-opacity=\"1\" /><path clip-path=\"url(#clip500)\" d=\"M1959.42 136.303 L1963.93 136.303 L1972.03 158.062 L1980.14 136.303 L1984.65 136.303 L1974.93 162.229 L1969.14 162.229 L1959.42 136.303 Z\" fill=\"#000000\" fill-rule=\"nonzero\" fill-opacity=\"1\" /><path clip-path=\"url(#clip500)\" d=\"M2012.7 148.201 L2012.7 150.284 L1993.12 150.284 Q1993.4 154.682 1995.76 156.997 Q1998.14 159.289 2002.38 159.289 Q2004.83 159.289 2007.13 158.687 Q2009.44 158.085 2011.71 156.881 L2011.71 160.909 Q2009.42 161.881 2007.01 162.391 Q2004.6 162.9 2002.13 162.9 Q1995.92 162.9 1992.29 159.289 Q1988.68 155.678 1988.68 149.52 Q1988.68 143.155 1992.1 139.428 Q1995.55 135.678 2001.39 135.678 Q2006.62 135.678 2009.65 139.057 Q2012.7 142.414 2012.7 148.201 M2008.45 146.951 Q2008.4 143.456 2006.48 141.372 Q2004.58 139.289 2001.43 139.289 Q1997.87 139.289 1995.71 141.303 Q1993.58 143.317 1993.26 146.974 L2008.45 146.951 Z\" fill=\"#000000\" fill-rule=\"nonzero\" fill-opacity=\"1\" /><path clip-path=\"url(#clip500)\" d=\"M2034.72 140.284 Q2034 139.868 2033.14 139.682 Q2032.31 139.474 2031.29 139.474 Q2027.68 139.474 2025.74 141.835 Q2023.82 144.173 2023.82 148.571 L2023.82 162.229 L2019.53 162.229 L2019.53 136.303 L2023.82 136.303 L2023.82 140.331 Q2025.16 137.969 2027.31 136.835 Q2029.46 135.678 2032.54 135.678 Q2032.98 135.678 2033.51 135.747 Q2034.05 135.794 2034.7 135.909 L2034.72 140.284 Z\" fill=\"#000000\" fill-rule=\"nonzero\" fill-opacity=\"1\" /><path clip-path=\"url(#clip500)\" d=\"M2050.97 149.196 Q2045.81 149.196 2043.82 150.377 Q2041.83 151.557 2041.83 154.405 Q2041.83 156.673 2043.31 158.016 Q2044.81 159.335 2047.38 159.335 Q2050.92 159.335 2053.05 156.835 Q2055.2 154.312 2055.2 150.145 L2055.2 149.196 L2050.97 149.196 M2059.46 147.437 L2059.46 162.229 L2055.2 162.229 L2055.2 158.293 Q2053.75 160.655 2051.57 161.789 Q2049.39 162.9 2046.25 162.9 Q2042.26 162.9 2039.9 160.678 Q2037.57 158.432 2037.57 154.682 Q2037.57 150.307 2040.48 148.085 Q2043.42 145.863 2049.23 145.863 L2055.2 145.863 L2055.2 145.446 Q2055.2 142.507 2053.26 140.909 Q2051.34 139.289 2047.84 139.289 Q2045.62 139.289 2043.51 139.821 Q2041.41 140.354 2039.46 141.419 L2039.46 137.483 Q2041.8 136.581 2044 136.141 Q2046.2 135.678 2048.28 135.678 Q2053.91 135.678 2056.69 138.594 Q2059.46 141.511 2059.46 147.437 Z\" fill=\"#000000\" fill-rule=\"nonzero\" fill-opacity=\"1\" /><path clip-path=\"url(#clip500)\" d=\"M2085.3 148.965 Q2085.3 144.335 2083.38 141.789 Q2081.48 139.243 2078.03 139.243 Q2074.6 139.243 2072.68 141.789 Q2070.78 144.335 2070.78 148.965 Q2070.78 153.571 2072.68 156.118 Q2074.6 158.664 2078.03 158.664 Q2081.48 158.664 2083.38 156.118 Q2085.3 153.571 2085.3 148.965 M2089.56 159.011 Q2089.56 165.631 2086.62 168.849 Q2083.68 172.09 2077.61 172.09 Q2075.37 172.09 2073.38 171.742 Q2071.39 171.418 2069.51 170.724 L2069.51 166.58 Q2071.39 167.599 2073.21 168.085 Q2075.04 168.571 2076.94 168.571 Q2081.13 168.571 2083.21 166.372 Q2085.3 164.196 2085.3 159.775 L2085.3 157.668 Q2083.98 159.96 2081.92 161.094 Q2079.86 162.229 2076.99 162.229 Q2072.22 162.229 2069.3 158.594 Q2066.39 154.96 2066.39 148.965 Q2066.39 142.946 2069.3 139.312 Q2072.22 135.678 2076.99 135.678 Q2079.86 135.678 2081.92 136.812 Q2083.98 137.946 2085.3 140.238 L2085.3 136.303 L2089.56 136.303 L2089.56 159.011 Z\" fill=\"#000000\" fill-rule=\"nonzero\" fill-opacity=\"1\" /><path clip-path=\"url(#clip500)\" d=\"M2120.51 148.201 L2120.51 150.284 L2100.92 150.284 Q2101.2 154.682 2103.56 156.997 Q2105.95 159.289 2110.18 159.289 Q2112.63 159.289 2114.93 158.687 Q2117.24 158.085 2119.51 156.881 L2119.51 160.909 Q2117.22 161.881 2114.81 162.391 Q2112.4 162.9 2109.93 162.9 Q2103.72 162.9 2100.09 159.289 Q2096.48 155.678 2096.48 149.52 Q2096.48 143.155 2099.9 139.428 Q2103.35 135.678 2109.19 135.678 Q2114.42 135.678 2117.45 139.057 Q2120.51 142.414 2120.51 148.201 M2116.25 146.951 Q2116.2 143.456 2114.28 141.372 Q2112.38 139.289 2109.23 139.289 Q2105.67 139.289 2103.51 141.303 Q2101.39 143.317 2101.06 146.974 L2116.25 146.951 Z\" fill=\"#000000\" fill-rule=\"nonzero\" fill-opacity=\"1\" /><path clip-path=\"url(#clip500)\" d=\"M2147.43 131.511 L2147.43 144.497 L2153.31 144.497 Q2156.57 144.497 2158.35 142.807 Q2160.13 141.118 2160.13 137.993 Q2160.13 134.891 2158.35 133.201 Q2156.57 131.511 2153.31 131.511 L2147.43 131.511 M2142.75 127.669 L2153.31 127.669 Q2159.12 127.669 2162.08 130.307 Q2165.07 132.923 2165.07 137.993 Q2165.07 143.108 2162.08 145.724 Q2159.12 148.34 2153.31 148.34 L2147.43 148.34 L2147.43 162.229 L2142.75 162.229 L2142.75 127.669 Z\" fill=\"#000000\" fill-rule=\"nonzero\" fill-opacity=\"1\" /><path clip-path=\"url(#clip500)\" d=\"M2185.34 140.284 Q2184.63 139.868 2183.77 139.682 Q2182.94 139.474 2181.92 139.474 Q2178.31 139.474 2176.36 141.835 Q2174.44 144.173 2174.44 148.571 L2174.44 162.229 L2170.16 162.229 L2170.16 136.303 L2174.44 136.303 L2174.44 140.331 Q2175.78 137.969 2177.94 136.835 Q2180.09 135.678 2183.17 135.678 Q2183.61 135.678 2184.14 135.747 Q2184.67 135.794 2185.32 135.909 L2185.34 140.284 Z\" fill=\"#000000\" fill-rule=\"nonzero\" fill-opacity=\"1\" /><path clip-path=\"url(#clip500)\" d=\"M2198.82 139.289 Q2195.39 139.289 2193.4 141.974 Q2191.41 144.636 2191.41 149.289 Q2191.41 153.942 2193.38 156.627 Q2195.37 159.289 2198.82 159.289 Q2202.22 159.289 2204.21 156.604 Q2206.2 153.918 2206.2 149.289 Q2206.2 144.682 2204.21 141.997 Q2202.22 139.289 2198.82 139.289 M2198.82 135.678 Q2204.37 135.678 2207.54 139.289 Q2210.71 142.9 2210.71 149.289 Q2210.71 155.655 2207.54 159.289 Q2204.37 162.9 2198.82 162.9 Q2193.24 162.9 2190.07 159.289 Q2186.92 155.655 2186.92 149.289 Q2186.92 142.9 2190.07 139.289 Q2193.24 135.678 2198.82 135.678 Z\" fill=\"#000000\" fill-rule=\"nonzero\" fill-opacity=\"1\" /><path clip-path=\"url(#clip500)\" d=\"M2230.9 126.21 L2230.9 129.752 L2226.82 129.752 Q2224.53 129.752 2223.63 130.678 Q2222.75 131.604 2222.75 134.011 L2222.75 136.303 L2229.76 136.303 L2229.76 139.613 L2222.75 139.613 L2222.75 162.229 L2218.47 162.229 L2218.47 139.613 L2214.39 139.613 L2214.39 136.303 L2218.47 136.303 L2218.47 134.497 Q2218.47 130.169 2220.48 128.201 Q2222.5 126.21 2226.87 126.21 L2230.9 126.21 Z\" fill=\"#000000\" fill-rule=\"nonzero\" fill-opacity=\"1\" /><path clip-path=\"url(#clip500)\" d=\"M2234.46 136.303 L2238.72 136.303 L2238.72 162.229 L2234.46 162.229 L2234.46 136.303 M2234.46 126.21 L2238.72 126.21 L2238.72 131.604 L2234.46 131.604 L2234.46 126.21 Z\" fill=\"#000000\" fill-rule=\"nonzero\" fill-opacity=\"1\" /><path clip-path=\"url(#clip500)\" d=\"M2251.85 128.942 L2251.85 136.303 L2260.62 136.303 L2260.62 139.613 L2251.85 139.613 L2251.85 153.687 Q2251.85 156.858 2252.7 157.761 Q2253.58 158.664 2256.25 158.664 L2260.62 158.664 L2260.62 162.229 L2256.25 162.229 Q2251.31 162.229 2249.44 160.4 Q2247.56 158.548 2247.56 153.687 L2247.56 139.613 L2244.44 139.613 L2244.44 136.303 L2247.56 136.303 L2247.56 128.942 L2251.85 128.942 Z\" fill=\"#000000\" fill-rule=\"nonzero\" fill-opacity=\"1\" /><polyline clip-path=\"url(#clip500)\" style=\"stroke:#e26f46; stroke-linecap:round; stroke-linejoin:round; stroke-width:4; stroke-opacity:1; fill:none\" points=\"1767.49,196.789 1905.69,196.789 \"/>\n",
       "<path clip-path=\"url(#clip500)\" d=\"M1836.59 218.116 L1821.51 211.867 L1815.26 196.789 L1821.51 181.71 L1836.59 175.461 L1851.67 181.71 L1857.92 196.789 L1851.67 211.867 Z\" fill=\"#e26f46\" fill-rule=\"evenodd\" fill-opacity=\"1\" stroke=\"#000000\" stroke-opacity=\"1\" stroke-width=\"4.55111\"/>\n",
       "<path clip-path=\"url(#clip500)\" d=\"M1950.97 180.643 L1950.97 185.203 Q1948.31 183.93 1945.95 183.305 Q1943.58 182.68 1941.39 182.68 Q1937.57 182.68 1935.48 184.161 Q1933.42 185.643 1933.42 188.374 Q1933.42 190.666 1934.79 191.847 Q1936.18 193.004 1940.02 193.722 L1942.84 194.3 Q1948.08 195.296 1950.55 197.819 Q1953.05 200.319 1953.05 204.532 Q1953.05 209.555 1949.67 212.147 Q1946.32 214.74 1939.81 214.74 Q1937.36 214.74 1934.58 214.184 Q1931.83 213.629 1928.86 212.541 L1928.86 207.726 Q1931.71 209.323 1934.44 210.133 Q1937.17 210.944 1939.81 210.944 Q1943.82 210.944 1945.99 209.37 Q1948.17 207.796 1948.17 204.879 Q1948.17 202.333 1946.59 200.897 Q1945.04 199.462 1941.48 198.745 L1938.63 198.189 Q1933.4 197.147 1931.06 194.925 Q1928.72 192.703 1928.72 188.745 Q1928.72 184.161 1931.94 181.522 Q1935.18 178.884 1940.85 178.884 Q1943.28 178.884 1945.81 179.323 Q1948.33 179.763 1950.97 180.643 Z\" fill=\"#000000\" fill-rule=\"nonzero\" fill-opacity=\"1\" /><path clip-path=\"url(#clip500)\" d=\"M1964.37 180.782 L1964.37 188.143 L1973.14 188.143 L1973.14 191.453 L1964.37 191.453 L1964.37 205.527 Q1964.37 208.698 1965.23 209.601 Q1966.11 210.504 1968.77 210.504 L1973.14 210.504 L1973.14 214.069 L1968.77 214.069 Q1963.84 214.069 1961.96 212.24 Q1960.09 210.388 1960.09 205.527 L1960.09 191.453 L1956.96 191.453 L1956.96 188.143 L1960.09 188.143 L1960.09 180.782 L1964.37 180.782 Z\" fill=\"#000000\" fill-rule=\"nonzero\" fill-opacity=\"1\" /><path clip-path=\"url(#clip500)\" d=\"M1995.81 192.078 L1995.81 178.05 L2000.07 178.05 L2000.07 214.069 L1995.81 214.069 L1995.81 210.18 Q1994.46 212.495 1992.4 213.629 Q1990.37 214.74 1987.5 214.74 Q1982.8 214.74 1979.83 210.99 Q1976.89 207.24 1976.89 201.129 Q1976.89 195.018 1979.83 191.268 Q1982.8 187.518 1987.5 187.518 Q1990.37 187.518 1992.4 188.652 Q1994.46 189.763 1995.81 192.078 M1981.29 201.129 Q1981.29 205.828 1983.21 208.513 Q1985.16 211.175 1988.54 211.175 Q1991.92 211.175 1993.86 208.513 Q1995.81 205.828 1995.81 201.129 Q1995.81 196.43 1993.86 193.768 Q1991.92 191.083 1988.54 191.083 Q1985.16 191.083 1983.21 193.768 Q1981.29 196.43 1981.29 201.129 Z\" fill=\"#000000\" fill-rule=\"nonzero\" fill-opacity=\"1\" /><path clip-path=\"url(#clip500)\" d=\"M2033.95 191.129 Q2030.53 191.129 2028.54 193.814 Q2026.55 196.476 2026.55 201.129 Q2026.55 205.782 2028.52 208.467 Q2030.51 211.129 2033.95 211.129 Q2037.36 211.129 2039.35 208.444 Q2041.34 205.758 2041.34 201.129 Q2041.34 196.522 2039.35 193.837 Q2037.36 191.129 2033.95 191.129 M2033.95 187.518 Q2039.51 187.518 2042.68 191.129 Q2045.85 194.74 2045.85 201.129 Q2045.85 207.495 2042.68 211.129 Q2039.51 214.74 2033.95 214.74 Q2028.38 214.74 2025.2 211.129 Q2022.06 207.495 2022.06 201.129 Q2022.06 194.74 2025.2 191.129 Q2028.38 187.518 2033.95 187.518 Z\" fill=\"#000000\" fill-rule=\"nonzero\" fill-opacity=\"1\" /><path clip-path=\"url(#clip500)\" d=\"M2066.04 178.05 L2066.04 181.592 L2061.96 181.592 Q2059.67 181.592 2058.77 182.518 Q2057.89 183.444 2057.89 185.851 L2057.89 188.143 L2064.9 188.143 L2064.9 191.453 L2057.89 191.453 L2057.89 214.069 L2053.61 214.069 L2053.61 191.453 L2049.53 191.453 L2049.53 188.143 L2053.61 188.143 L2053.61 186.337 Q2053.61 182.009 2055.62 180.041 Q2057.64 178.05 2062.01 178.05 L2066.04 178.05 Z\" fill=\"#000000\" fill-rule=\"nonzero\" fill-opacity=\"1\" /><path clip-path=\"url(#clip500)\" d=\"M2089.53 183.351 L2089.53 196.337 L2095.41 196.337 Q2098.68 196.337 2100.46 194.647 Q2102.24 192.958 2102.24 189.833 Q2102.24 186.731 2100.46 185.041 Q2098.68 183.351 2095.41 183.351 L2089.53 183.351 M2084.86 179.509 L2095.41 179.509 Q2101.22 179.509 2104.19 182.147 Q2107.17 184.763 2107.17 189.833 Q2107.17 194.948 2104.19 197.564 Q2101.22 200.18 2095.41 200.18 L2089.53 200.18 L2089.53 214.069 L2084.86 214.069 L2084.86 179.509 Z\" fill=\"#000000\" fill-rule=\"nonzero\" fill-opacity=\"1\" /><path clip-path=\"url(#clip500)\" d=\"M2127.45 192.124 Q2126.73 191.708 2125.88 191.522 Q2125.04 191.314 2124.02 191.314 Q2120.41 191.314 2118.47 193.675 Q2116.55 196.013 2116.55 200.411 L2116.55 214.069 L2112.26 214.069 L2112.26 188.143 L2116.55 188.143 L2116.55 192.171 Q2117.89 189.809 2120.04 188.675 Q2122.2 187.518 2125.27 187.518 Q2125.71 187.518 2126.25 187.587 Q2126.78 187.634 2127.43 187.749 L2127.45 192.124 Z\" fill=\"#000000\" fill-rule=\"nonzero\" fill-opacity=\"1\" /><path clip-path=\"url(#clip500)\" d=\"M2140.92 191.129 Q2137.5 191.129 2135.51 193.814 Q2133.51 196.476 2133.51 201.129 Q2133.51 205.782 2135.48 208.467 Q2137.47 211.129 2140.92 211.129 Q2144.32 211.129 2146.32 208.444 Q2148.31 205.758 2148.31 201.129 Q2148.31 196.522 2146.32 193.837 Q2144.32 191.129 2140.92 191.129 M2140.92 187.518 Q2146.48 187.518 2149.65 191.129 Q2152.82 194.74 2152.82 201.129 Q2152.82 207.495 2149.65 211.129 Q2146.48 214.74 2140.92 214.74 Q2135.34 214.74 2132.17 211.129 Q2129.02 207.495 2129.02 201.129 Q2129.02 194.74 2132.17 191.129 Q2135.34 187.518 2140.92 187.518 Z\" fill=\"#000000\" fill-rule=\"nonzero\" fill-opacity=\"1\" /><path clip-path=\"url(#clip500)\" d=\"M2173 178.05 L2173 181.592 L2168.93 181.592 Q2166.64 181.592 2165.74 182.518 Q2164.86 183.444 2164.86 185.851 L2164.86 188.143 L2171.87 188.143 L2171.87 191.453 L2164.86 191.453 L2164.86 214.069 L2160.57 214.069 L2160.57 191.453 L2156.5 191.453 L2156.5 188.143 L2160.57 188.143 L2160.57 186.337 Q2160.57 182.009 2162.59 180.041 Q2164.6 178.05 2168.98 178.05 L2173 178.05 Z\" fill=\"#000000\" fill-rule=\"nonzero\" fill-opacity=\"1\" /><path clip-path=\"url(#clip500)\" d=\"M2176.57 188.143 L2180.83 188.143 L2180.83 214.069 L2176.57 214.069 L2176.57 188.143 M2176.57 178.05 L2180.83 178.05 L2180.83 183.444 L2176.57 183.444 L2176.57 178.05 Z\" fill=\"#000000\" fill-rule=\"nonzero\" fill-opacity=\"1\" /><path clip-path=\"url(#clip500)\" d=\"M2193.95 180.782 L2193.95 188.143 L2202.73 188.143 L2202.73 191.453 L2193.95 191.453 L2193.95 205.527 Q2193.95 208.698 2194.81 209.601 Q2195.69 210.504 2198.35 210.504 L2202.73 210.504 L2202.73 214.069 L2198.35 214.069 Q2193.42 214.069 2191.55 212.24 Q2189.67 210.388 2189.67 205.527 L2189.67 191.453 L2186.55 191.453 L2186.55 188.143 L2189.67 188.143 L2189.67 180.782 L2193.95 180.782 Z\" fill=\"#000000\" fill-rule=\"nonzero\" fill-opacity=\"1\" /></svg>\n"
      ],
      "text/html": [
       "<?xml version=\"1.0\" encoding=\"utf-8\"?>\n",
       "<svg xmlns=\"http://www.w3.org/2000/svg\" xmlns:xlink=\"http://www.w3.org/1999/xlink\" width=\"600\" height=\"400\" viewBox=\"0 0 2400 1600\">\n",
       "<defs>\n",
       "  <clipPath id=\"clip550\">\n",
       "    <rect x=\"0\" y=\"0\" width=\"2400\" height=\"1600\"/>\n",
       "  </clipPath>\n",
       "</defs>\n",
       "<path clip-path=\"url(#clip550)\" d=\"M0 1600 L2400 1600 L2400 8.88178e-14 L0 8.88178e-14  Z\" fill=\"#ffffff\" fill-rule=\"evenodd\" fill-opacity=\"1\"/>\n",
       "<defs>\n",
       "  <clipPath id=\"clip551\">\n",
       "    <rect x=\"480\" y=\"0\" width=\"1681\" height=\"1600\"/>\n",
       "  </clipPath>\n",
       "</defs>\n",
       "<path clip-path=\"url(#clip550)\" d=\"M279.704 1423.18 L2352.76 1423.18 L2352.76 47.2441 L279.704 47.2441  Z\" fill=\"#ffffff\" fill-rule=\"evenodd\" fill-opacity=\"1\"/>\n",
       "<defs>\n",
       "  <clipPath id=\"clip552\">\n",
       "    <rect x=\"279\" y=\"47\" width=\"2074\" height=\"1377\"/>\n",
       "  </clipPath>\n",
       "</defs>\n",
       "<polyline clip-path=\"url(#clip552)\" style=\"stroke:#000000; stroke-linecap:round; stroke-linejoin:round; stroke-width:2; stroke-opacity:0.1; fill:none\" points=\"338.375,1423.18 338.375,47.2441 \"/>\n",
       "<polyline clip-path=\"url(#clip550)\" style=\"stroke:#000000; stroke-linecap:round; stroke-linejoin:round; stroke-width:4; stroke-opacity:1; fill:none\" points=\"279.704,1423.18 2352.76,1423.18 \"/>\n",
       "<polyline clip-path=\"url(#clip550)\" style=\"stroke:#000000; stroke-linecap:round; stroke-linejoin:round; stroke-width:4; stroke-opacity:1; fill:none\" points=\"338.375,1423.18 338.375,1404.28 \"/>\n",
       "<path clip-path=\"url(#clip550)\" d=\"M315.76 1454.1 Q312.148 1454.1 310.32 1457.66 Q308.514 1461.2 308.514 1468.33 Q308.514 1475.44 310.32 1479.01 Q312.148 1482.55 315.76 1482.55 Q319.394 1482.55 321.199 1479.01 Q323.028 1475.44 323.028 1468.33 Q323.028 1461.2 321.199 1457.66 Q319.394 1454.1 315.76 1454.1 M315.76 1450.39 Q321.57 1450.39 324.625 1455 Q327.704 1459.58 327.704 1468.33 Q327.704 1477.06 324.625 1481.67 Q321.57 1486.25 315.76 1486.25 Q309.949 1486.25 306.871 1481.67 Q303.815 1477.06 303.815 1468.33 Q303.815 1459.58 306.871 1455 Q309.949 1450.39 315.76 1450.39 Z\" fill=\"#000000\" fill-rule=\"nonzero\" fill-opacity=\"1\" /><path clip-path=\"url(#clip550)\" d=\"M335.922 1479.7 L340.806 1479.7 L340.806 1485.58 L335.922 1485.58 L335.922 1479.7 Z\" fill=\"#000000\" fill-rule=\"nonzero\" fill-opacity=\"1\" /><path clip-path=\"url(#clip550)\" d=\"M360.991 1454.1 Q357.38 1454.1 355.551 1457.66 Q353.745 1461.2 353.745 1468.33 Q353.745 1475.44 355.551 1479.01 Q357.38 1482.55 360.991 1482.55 Q364.625 1482.55 366.431 1479.01 Q368.259 1475.44 368.259 1468.33 Q368.259 1461.2 366.431 1457.66 Q364.625 1454.1 360.991 1454.1 M360.991 1450.39 Q366.801 1450.39 369.857 1455 Q372.935 1459.58 372.935 1468.33 Q372.935 1477.06 369.857 1481.67 Q366.801 1486.25 360.991 1486.25 Q355.181 1486.25 352.102 1481.67 Q349.046 1477.06 349.046 1468.33 Q349.046 1459.58 352.102 1455 Q355.181 1450.39 360.991 1450.39 Z\" fill=\"#000000\" fill-rule=\"nonzero\" fill-opacity=\"1\" /><path clip-path=\"url(#clip550)\" d=\"M1333.95 1519.19 Q1333.95 1519.45 1332.69 1521.7 Q1330.6 1525.86 1327.92 1532.2 Q1325.25 1538.55 1323.74 1543.25 Q1323.41 1544.38 1323.19 1545.83 Q1322.61 1550.27 1320.74 1557.16 Q1320.1 1559.32 1319.68 1560.22 Q1319.26 1561.12 1318.65 1561.12 Q1317.78 1561.12 1317.78 1559.93 Q1317.78 1558.74 1318.87 1554.3 Q1320 1549.85 1321.22 1545.76 Q1322 1543.51 1322 1539.29 Q1322 1537.94 1321.93 1536.71 Q1321.87 1535.49 1321.61 1533.72 Q1321.35 1531.95 1320.93 1530.5 Q1320.52 1529.05 1319.71 1527.53 Q1318.9 1525.99 1317.81 1524.96 Q1316.71 1523.89 1315.04 1523.22 Q1313.4 1522.54 1311.34 1522.54 Q1310.82 1522.54 1310.18 1522.61 Q1309.57 1522.64 1308.08 1523.06 Q1306.63 1523.48 1305.41 1524.22 Q1304.19 1524.92 1302.87 1526.5 Q1301.55 1528.08 1300.84 1530.21 L1300.58 1530.53 Q1300.16 1530.53 1299.94 1530.53 Q1299.74 1530.5 1299.52 1530.34 Q1299.32 1530.17 1299.32 1529.88 Q1299.32 1529.21 1299.84 1527.86 Q1300.39 1526.5 1301.48 1524.76 Q1302.61 1523.02 1304.06 1521.48 Q1305.54 1519.93 1307.7 1518.87 Q1309.86 1517.81 1312.17 1517.81 Q1318.13 1517.81 1320.97 1525.05 Q1323.45 1531.21 1323.67 1538.52 Q1328.82 1525.54 1332.37 1519 Q1332.56 1518.52 1333.14 1518.52 Q1333.95 1518.55 1333.95 1519.19 Z\" fill=\"#000000\" fill-rule=\"nonzero\" fill-opacity=\"1\" /><polyline clip-path=\"url(#clip552)\" style=\"stroke:#000000; stroke-linecap:round; stroke-linejoin:round; stroke-width:2; stroke-opacity:0.1; fill:none\" points=\"279.704,1213.22 2352.76,1213.22 \"/>\n",
       "<polyline clip-path=\"url(#clip552)\" style=\"stroke:#000000; stroke-linecap:round; stroke-linejoin:round; stroke-width:2; stroke-opacity:0.1; fill:none\" points=\"279.704,835.908 2352.76,835.908 \"/>\n",
       "<polyline clip-path=\"url(#clip552)\" style=\"stroke:#000000; stroke-linecap:round; stroke-linejoin:round; stroke-width:2; stroke-opacity:0.1; fill:none\" points=\"279.704,458.601 2352.76,458.601 \"/>\n",
       "<polyline clip-path=\"url(#clip552)\" style=\"stroke:#000000; stroke-linecap:round; stroke-linejoin:round; stroke-width:2; stroke-opacity:0.1; fill:none\" points=\"279.704,81.294 2352.76,81.294 \"/>\n",
       "<polyline clip-path=\"url(#clip550)\" style=\"stroke:#000000; stroke-linecap:round; stroke-linejoin:round; stroke-width:4; stroke-opacity:1; fill:none\" points=\"279.704,1423.18 279.704,47.2441 \"/>\n",
       "<polyline clip-path=\"url(#clip550)\" style=\"stroke:#000000; stroke-linecap:round; stroke-linejoin:round; stroke-width:4; stroke-opacity:1; fill:none\" points=\"279.704,1213.22 298.602,1213.22 \"/>\n",
       "<polyline clip-path=\"url(#clip550)\" style=\"stroke:#000000; stroke-linecap:round; stroke-linejoin:round; stroke-width:4; stroke-opacity:1; fill:none\" points=\"279.704,835.908 298.602,835.908 \"/>\n",
       "<polyline clip-path=\"url(#clip550)\" style=\"stroke:#000000; stroke-linecap:round; stroke-linejoin:round; stroke-width:4; stroke-opacity:1; fill:none\" points=\"279.704,458.601 298.602,458.601 \"/>\n",
       "<polyline clip-path=\"url(#clip550)\" style=\"stroke:#000000; stroke-linecap:round; stroke-linejoin:round; stroke-width:4; stroke-opacity:1; fill:none\" points=\"279.704,81.294 298.602,81.294 \"/>\n",
       "<path clip-path=\"url(#clip550)\" d=\"M126.205 1199.01 Q122.593 1199.01 120.765 1202.58 Q118.959 1206.12 118.959 1213.25 Q118.959 1220.36 120.765 1223.92 Q122.593 1227.46 126.205 1227.46 Q129.839 1227.46 131.644 1223.92 Q133.473 1220.36 133.473 1213.25 Q133.473 1206.12 131.644 1202.58 Q129.839 1199.01 126.205 1199.01 M126.205 1195.31 Q132.015 1195.31 135.07 1199.92 Q138.149 1204.5 138.149 1213.25 Q138.149 1221.98 135.07 1226.58 Q132.015 1231.17 126.205 1231.17 Q120.394 1231.17 117.316 1226.58 Q114.26 1221.98 114.26 1213.25 Q114.26 1204.5 117.316 1199.92 Q120.394 1195.31 126.205 1195.31 Z\" fill=\"#000000\" fill-rule=\"nonzero\" fill-opacity=\"1\" /><path clip-path=\"url(#clip550)\" d=\"M146.366 1224.62 L151.251 1224.62 L151.251 1230.5 L146.366 1230.5 L146.366 1224.62 Z\" fill=\"#000000\" fill-rule=\"nonzero\" fill-opacity=\"1\" /><path clip-path=\"url(#clip550)\" d=\"M161.575 1229.78 L161.575 1225.52 Q163.334 1226.35 165.14 1226.79 Q166.945 1227.23 168.681 1227.23 Q173.311 1227.23 175.741 1224.13 Q178.195 1221 178.542 1214.66 Q177.2 1216.65 175.139 1217.72 Q173.079 1218.78 170.579 1218.78 Q165.394 1218.78 162.362 1215.66 Q159.353 1212.51 159.353 1207.07 Q159.353 1201.75 162.501 1198.53 Q165.649 1195.31 170.88 1195.31 Q176.876 1195.31 180.024 1199.92 Q183.195 1204.5 183.195 1213.25 Q183.195 1221.42 179.306 1226.31 Q175.44 1231.17 168.889 1231.17 Q167.13 1231.17 165.325 1230.82 Q163.519 1230.47 161.575 1229.78 M170.88 1215.12 Q174.028 1215.12 175.857 1212.97 Q177.709 1210.82 177.709 1207.07 Q177.709 1203.34 175.857 1201.19 Q174.028 1199.01 170.88 1199.01 Q167.732 1199.01 165.88 1201.19 Q164.052 1203.34 164.052 1207.07 Q164.052 1210.82 165.88 1212.97 Q167.732 1215.12 170.88 1215.12 Z\" fill=\"#000000\" fill-rule=\"nonzero\" fill-opacity=\"1\" /><path clip-path=\"url(#clip550)\" d=\"M191.737 1229.78 L191.737 1225.52 Q193.496 1226.35 195.301 1226.79 Q197.107 1227.23 198.843 1227.23 Q203.473 1227.23 205.903 1224.13 Q208.357 1221 208.704 1214.66 Q207.362 1216.65 205.301 1217.72 Q203.241 1218.78 200.741 1218.78 Q195.556 1218.78 192.524 1215.66 Q189.514 1212.51 189.514 1207.07 Q189.514 1201.75 192.663 1198.53 Q195.811 1195.31 201.042 1195.31 Q207.037 1195.31 210.186 1199.92 Q213.357 1204.5 213.357 1213.25 Q213.357 1221.42 209.468 1226.31 Q205.602 1231.17 199.051 1231.17 Q197.292 1231.17 195.487 1230.82 Q193.681 1230.47 191.737 1229.78 M201.042 1215.12 Q204.19 1215.12 206.019 1212.97 Q207.871 1210.82 207.871 1207.07 Q207.871 1203.34 206.019 1201.19 Q204.19 1199.01 201.042 1199.01 Q197.894 1199.01 196.042 1201.19 Q194.213 1203.34 194.213 1207.07 Q194.213 1210.82 196.042 1212.97 Q197.894 1215.12 201.042 1215.12 Z\" fill=\"#000000\" fill-rule=\"nonzero\" fill-opacity=\"1\" /><path clip-path=\"url(#clip550)\" d=\"M231.76 1199.01 Q228.148 1199.01 226.32 1202.58 Q224.514 1206.12 224.514 1213.25 Q224.514 1220.36 226.32 1223.92 Q228.148 1227.46 231.76 1227.46 Q235.394 1227.46 237.199 1223.92 Q239.028 1220.36 239.028 1213.25 Q239.028 1206.12 237.199 1202.58 Q235.394 1199.01 231.76 1199.01 M231.76 1195.31 Q237.57 1195.31 240.625 1199.92 Q243.704 1204.5 243.704 1213.25 Q243.704 1221.98 240.625 1226.58 Q237.57 1231.17 231.76 1231.17 Q225.949 1231.17 222.871 1226.58 Q219.815 1221.98 219.815 1213.25 Q219.815 1204.5 222.871 1199.92 Q225.949 1195.31 231.76 1195.31 Z\" fill=\"#000000\" fill-rule=\"nonzero\" fill-opacity=\"1\" /><path clip-path=\"url(#clip550)\" d=\"M127.2 821.707 Q123.589 821.707 121.76 825.272 Q119.955 828.813 119.955 835.943 Q119.955 843.049 121.76 846.614 Q123.589 850.156 127.2 850.156 Q130.834 850.156 132.64 846.614 Q134.468 843.049 134.468 835.943 Q134.468 828.813 132.64 825.272 Q130.834 821.707 127.2 821.707 M127.2 818.003 Q133.01 818.003 136.066 822.61 Q139.144 827.193 139.144 835.943 Q139.144 844.67 136.066 849.276 Q133.01 853.859 127.2 853.859 Q121.39 853.859 118.311 849.276 Q115.256 844.67 115.256 835.943 Q115.256 827.193 118.311 822.61 Q121.39 818.003 127.2 818.003 Z\" fill=\"#000000\" fill-rule=\"nonzero\" fill-opacity=\"1\" /><path clip-path=\"url(#clip550)\" d=\"M147.362 847.308 L152.246 847.308 L152.246 853.188 L147.362 853.188 L147.362 847.308 Z\" fill=\"#000000\" fill-rule=\"nonzero\" fill-opacity=\"1\" /><path clip-path=\"url(#clip550)\" d=\"M162.57 852.471 L162.57 848.211 Q164.329 849.045 166.135 849.484 Q167.94 849.924 169.677 849.924 Q174.306 849.924 176.737 846.822 Q179.19 843.697 179.538 837.355 Q178.195 839.346 176.135 840.41 Q174.075 841.475 171.575 841.475 Q166.39 841.475 163.357 838.35 Q160.348 835.202 160.348 829.762 Q160.348 824.438 163.496 821.221 Q166.644 818.003 171.876 818.003 Q177.871 818.003 181.019 822.61 Q184.19 827.193 184.19 835.943 Q184.19 844.114 180.301 848.998 Q176.436 853.859 169.885 853.859 Q168.126 853.859 166.32 853.512 Q164.515 853.165 162.57 852.471 M171.876 837.818 Q175.024 837.818 176.852 835.665 Q178.704 833.512 178.704 829.762 Q178.704 826.035 176.852 823.883 Q175.024 821.707 171.876 821.707 Q168.727 821.707 166.876 823.883 Q165.047 826.035 165.047 829.762 Q165.047 833.512 166.876 835.665 Q168.727 837.818 171.876 837.818 Z\" fill=\"#000000\" fill-rule=\"nonzero\" fill-opacity=\"1\" /><path clip-path=\"url(#clip550)\" d=\"M192.732 852.471 L192.732 848.211 Q194.491 849.045 196.297 849.484 Q198.102 849.924 199.838 849.924 Q204.468 849.924 206.899 846.822 Q209.352 843.697 209.699 837.355 Q208.357 839.346 206.297 840.41 Q204.237 841.475 201.737 841.475 Q196.551 841.475 193.519 838.35 Q190.51 835.202 190.51 829.762 Q190.51 824.438 193.658 821.221 Q196.806 818.003 202.037 818.003 Q208.033 818.003 211.181 822.61 Q214.352 827.193 214.352 835.943 Q214.352 844.114 210.463 848.998 Q206.598 853.859 200.047 853.859 Q198.287 853.859 196.482 853.512 Q194.676 853.165 192.732 852.471 M202.037 837.818 Q205.186 837.818 207.014 835.665 Q208.866 833.512 208.866 829.762 Q208.866 826.035 207.014 823.883 Q205.186 821.707 202.037 821.707 Q198.889 821.707 197.037 823.883 Q195.209 826.035 195.209 829.762 Q195.209 833.512 197.037 835.665 Q198.889 837.818 202.037 837.818 Z\" fill=\"#000000\" fill-rule=\"nonzero\" fill-opacity=\"1\" /><path clip-path=\"url(#clip550)\" d=\"M222.801 818.628 L241.158 818.628 L241.158 822.563 L227.084 822.563 L227.084 831.035 Q228.102 830.688 229.121 830.526 Q230.139 830.341 231.158 830.341 Q236.945 830.341 240.324 833.512 Q243.704 836.684 243.704 842.1 Q243.704 847.679 240.232 850.781 Q236.76 853.859 230.44 853.859 Q228.264 853.859 225.996 853.489 Q223.75 853.119 221.343 852.378 L221.343 847.679 Q223.426 848.813 225.648 849.369 Q227.871 849.924 230.347 849.924 Q234.352 849.924 236.69 847.818 Q239.028 845.711 239.028 842.1 Q239.028 838.489 236.69 836.383 Q234.352 834.276 230.347 834.276 Q228.473 834.276 226.598 834.693 Q224.746 835.109 222.801 835.989 L222.801 818.628 Z\" fill=\"#000000\" fill-rule=\"nonzero\" fill-opacity=\"1\" /><path clip-path=\"url(#clip550)\" d=\"M117.015 471.946 L124.654 471.946 L124.654 445.58 L116.343 447.247 L116.343 442.988 L124.607 441.321 L129.283 441.321 L129.283 471.946 L136.922 471.946 L136.922 475.881 L117.015 475.881 L117.015 471.946 Z\" fill=\"#000000\" fill-rule=\"nonzero\" fill-opacity=\"1\" /><path clip-path=\"url(#clip550)\" d=\"M146.366 470.001 L151.251 470.001 L151.251 475.881 L146.366 475.881 L146.366 470.001 Z\" fill=\"#000000\" fill-rule=\"nonzero\" fill-opacity=\"1\" /><path clip-path=\"url(#clip550)\" d=\"M171.436 444.4 Q167.825 444.4 165.996 447.965 Q164.19 451.506 164.19 458.636 Q164.19 465.742 165.996 469.307 Q167.825 472.849 171.436 472.849 Q175.07 472.849 176.876 469.307 Q178.704 465.742 178.704 458.636 Q178.704 451.506 176.876 447.965 Q175.07 444.4 171.436 444.4 M171.436 440.696 Q177.246 440.696 180.301 445.302 Q183.38 449.886 183.38 458.636 Q183.38 467.363 180.301 471.969 Q177.246 476.552 171.436 476.552 Q165.626 476.552 162.547 471.969 Q159.491 467.363 159.491 458.636 Q159.491 449.886 162.547 445.302 Q165.626 440.696 171.436 440.696 Z\" fill=\"#000000\" fill-rule=\"nonzero\" fill-opacity=\"1\" /><path clip-path=\"url(#clip550)\" d=\"M201.598 444.4 Q197.987 444.4 196.158 447.965 Q194.352 451.506 194.352 458.636 Q194.352 465.742 196.158 469.307 Q197.987 472.849 201.598 472.849 Q205.232 472.849 207.037 469.307 Q208.866 465.742 208.866 458.636 Q208.866 451.506 207.037 447.965 Q205.232 444.4 201.598 444.4 M201.598 440.696 Q207.408 440.696 210.463 445.302 Q213.542 449.886 213.542 458.636 Q213.542 467.363 210.463 471.969 Q207.408 476.552 201.598 476.552 Q195.787 476.552 192.709 471.969 Q189.653 467.363 189.653 458.636 Q189.653 449.886 192.709 445.302 Q195.787 440.696 201.598 440.696 Z\" fill=\"#000000\" fill-rule=\"nonzero\" fill-opacity=\"1\" /><path clip-path=\"url(#clip550)\" d=\"M231.76 444.4 Q228.148 444.4 226.32 447.965 Q224.514 451.506 224.514 458.636 Q224.514 465.742 226.32 469.307 Q228.148 472.849 231.76 472.849 Q235.394 472.849 237.199 469.307 Q239.028 465.742 239.028 458.636 Q239.028 451.506 237.199 447.965 Q235.394 444.4 231.76 444.4 M231.76 440.696 Q237.57 440.696 240.625 445.302 Q243.704 449.886 243.704 458.636 Q243.704 467.363 240.625 471.969 Q237.57 476.552 231.76 476.552 Q225.949 476.552 222.871 471.969 Q219.815 467.363 219.815 458.636 Q219.815 449.886 222.871 445.302 Q225.949 440.696 231.76 440.696 Z\" fill=\"#000000\" fill-rule=\"nonzero\" fill-opacity=\"1\" /><path clip-path=\"url(#clip550)\" d=\"M118.01 94.6388 L125.649 94.6388 L125.649 68.2732 L117.339 69.9399 L117.339 65.6806 L125.603 64.014 L130.279 64.014 L130.279 94.6388 L137.917 94.6388 L137.917 98.574 L118.01 98.574 L118.01 94.6388 Z\" fill=\"#000000\" fill-rule=\"nonzero\" fill-opacity=\"1\" /><path clip-path=\"url(#clip550)\" d=\"M147.362 92.6944 L152.246 92.6944 L152.246 98.574 L147.362 98.574 L147.362 92.6944 Z\" fill=\"#000000\" fill-rule=\"nonzero\" fill-opacity=\"1\" /><path clip-path=\"url(#clip550)\" d=\"M172.431 67.0927 Q168.82 67.0927 166.991 70.6575 Q165.186 74.1991 165.186 81.3287 Q165.186 88.4351 166.991 91.9999 Q168.82 95.5416 172.431 95.5416 Q176.065 95.5416 177.871 91.9999 Q179.7 88.4351 179.7 81.3287 Q179.7 74.1991 177.871 70.6575 Q176.065 67.0927 172.431 67.0927 M172.431 63.389 Q178.241 63.389 181.297 67.9954 Q184.376 72.5787 184.376 81.3287 Q184.376 90.0555 181.297 94.662 Q178.241 99.2453 172.431 99.2453 Q166.621 99.2453 163.542 94.662 Q160.487 90.0555 160.487 81.3287 Q160.487 72.5787 163.542 67.9954 Q166.621 63.389 172.431 63.389 Z\" fill=\"#000000\" fill-rule=\"nonzero\" fill-opacity=\"1\" /><path clip-path=\"url(#clip550)\" d=\"M202.593 67.0927 Q198.982 67.0927 197.153 70.6575 Q195.348 74.1991 195.348 81.3287 Q195.348 88.4351 197.153 91.9999 Q198.982 95.5416 202.593 95.5416 Q206.227 95.5416 208.033 91.9999 Q209.861 88.4351 209.861 81.3287 Q209.861 74.1991 208.033 70.6575 Q206.227 67.0927 202.593 67.0927 M202.593 63.389 Q208.403 63.389 211.459 67.9954 Q214.537 72.5787 214.537 81.3287 Q214.537 90.0555 211.459 94.662 Q208.403 99.2453 202.593 99.2453 Q196.783 99.2453 193.704 94.662 Q190.649 90.0555 190.649 81.3287 Q190.649 72.5787 193.704 67.9954 Q196.783 63.389 202.593 63.389 Z\" fill=\"#000000\" fill-rule=\"nonzero\" fill-opacity=\"1\" /><path clip-path=\"url(#clip550)\" d=\"M222.801 64.014 L241.158 64.014 L241.158 67.9491 L227.084 67.9491 L227.084 76.4213 Q228.102 76.0741 229.121 75.9121 Q230.139 75.7269 231.158 75.7269 Q236.945 75.7269 240.324 78.8981 Q243.704 82.0694 243.704 87.4861 Q243.704 93.0647 240.232 96.1666 Q236.76 99.2453 230.44 99.2453 Q228.264 99.2453 225.996 98.8749 Q223.75 98.5045 221.343 97.7638 L221.343 93.0647 Q223.426 94.199 225.648 94.7545 Q227.871 95.3101 230.347 95.3101 Q234.352 95.3101 236.69 93.2036 Q239.028 91.0972 239.028 87.4861 Q239.028 83.875 236.69 81.7685 Q234.352 79.662 230.347 79.662 Q228.473 79.662 226.598 80.0787 Q224.746 80.4954 222.801 81.375 L222.801 64.014 Z\" fill=\"#000000\" fill-rule=\"nonzero\" fill-opacity=\"1\" /><path clip-path=\"url(#clip550)\" d=\"M41.7242 896.837 Q42.4244 894.768 44.7161 892.827 Q47.0077 890.853 51.0181 888.88 L64.0042 882.355 L64.0042 889.262 L51.8138 895.341 Q47.0395 897.697 45.48 899.925 Q43.9204 902.121 43.9204 905.94 L43.9204 912.942 L64.0042 912.942 L64.0042 919.372 L16.4842 919.372 L16.4842 904.858 Q16.4842 896.71 19.8898 892.7 Q23.2955 888.689 30.1704 888.689 Q34.6582 888.689 37.6183 890.79 Q40.5784 892.859 41.7242 896.837 M21.7677 912.942 L38.6368 912.942 L38.6368 904.858 Q38.6368 900.211 36.5043 897.856 Q34.34 895.469 30.1704 895.469 Q26.0009 895.469 23.9002 897.856 Q21.7677 900.211 21.7677 904.858 L21.7677 912.942 Z\" fill=\"#000000\" fill-rule=\"nonzero\" fill-opacity=\"1\" /><path clip-path=\"url(#clip550)\" d=\"M21.7677 867.65 L39.6235 867.65 L39.6235 859.566 Q39.6235 855.078 37.3 852.627 Q34.9765 850.177 30.6797 850.177 Q26.4147 850.177 24.0912 852.627 Q21.7677 855.078 21.7677 859.566 L21.7677 867.65 M16.4842 874.08 L16.4842 859.566 Q16.4842 851.577 20.1126 847.503 Q23.7092 843.397 30.6797 843.397 Q37.7138 843.397 41.3104 847.503 Q44.907 851.577 44.907 859.566 L44.907 867.65 L64.0042 867.65 L64.0042 874.08 L16.4842 874.08 Z\" fill=\"#000000\" fill-rule=\"nonzero\" fill-opacity=\"1\" /><path clip-path=\"url(#clip550)\" d=\"M21.7677 828.342 L58.7206 828.342 L58.7206 820.576 Q58.7206 810.741 54.2646 806.19 Q49.8086 801.606 40.1964 801.606 Q30.6479 801.606 26.2237 806.19 Q21.7677 810.741 21.7677 820.576 L21.7677 828.342 M16.4842 834.772 L16.4842 821.563 Q16.4842 807.749 22.2451 801.288 Q27.9743 794.827 40.1964 794.827 Q52.4822 794.827 58.2432 801.32 Q64.0042 807.813 64.0042 821.563 L64.0042 834.772 L16.4842 834.772 Z\" fill=\"#000000\" fill-rule=\"nonzero\" fill-opacity=\"1\" /><path clip-path=\"url(#clip550)\" d=\"M16.4842 774.425 L16.4842 769.014 L70.0516 785.565 L70.0516 790.976 L16.4842 774.425 Z\" fill=\"#000000\" fill-rule=\"nonzero\" fill-opacity=\"1\" /><path clip-path=\"url(#clip550)\" d=\"M16.4842 762.616 L16.4842 732.57 L21.895 732.57 L21.895 756.187 L35.9632 756.187 L35.9632 733.557 L41.3741 733.557 L41.3741 756.187 L58.5933 756.187 L58.5933 731.997 L64.0042 731.997 L64.0042 762.616 L16.4842 762.616 Z\" fill=\"#000000\" fill-rule=\"nonzero\" fill-opacity=\"1\" /><path clip-path=\"url(#clip550)\" d=\"M16.4842 728.019 L16.4842 687.819 L21.895 687.819 L21.895 704.688 L64.0042 704.688 L64.0042 711.15 L21.895 711.15 L21.895 728.019 L16.4842 728.019 Z\" fill=\"#000000\" fill-rule=\"nonzero\" fill-opacity=\"1\" /><path clip-path=\"url(#clip550)\" d=\"M20.8447 662.325 Q20.8447 669.327 26.0645 673.465 Q31.2844 677.57 40.2919 677.57 Q49.2675 677.57 54.4874 673.465 Q59.7073 669.327 59.7073 662.325 Q59.7073 655.322 54.4874 651.248 Q49.2675 647.142 40.2919 647.142 Q31.2844 647.142 26.0645 651.248 Q20.8447 655.322 20.8447 662.325 M15.6248 662.325 Q15.6248 652.33 22.3406 646.347 Q29.0246 640.363 40.2919 640.363 Q51.5274 640.363 58.2432 646.347 Q64.9272 652.33 64.9272 662.325 Q64.9272 672.351 58.2432 678.366 Q51.5592 684.35 40.2919 684.35 Q29.0246 684.35 22.3406 678.366 Q15.6248 672.351 15.6248 662.325 Z\" fill=\"#000000\" fill-rule=\"nonzero\" fill-opacity=\"1\" /><path clip-path=\"url(#clip550)\" d=\"M21.7677 623.876 L39.6235 623.876 L39.6235 615.791 Q39.6235 611.303 37.3 608.853 Q34.9765 606.402 30.6797 606.402 Q26.4147 606.402 24.0912 608.853 Q21.7677 611.303 21.7677 615.791 L21.7677 623.876 M16.4842 630.305 L16.4842 615.791 Q16.4842 607.802 20.1126 603.728 Q23.7092 599.622 30.6797 599.622 Q37.7138 599.622 41.3104 603.728 Q44.907 607.802 44.907 615.791 L44.907 623.876 L64.0042 623.876 L64.0042 630.305 L16.4842 630.305 Z\" fill=\"#000000\" fill-rule=\"nonzero\" fill-opacity=\"1\" /><path clip-path=\"url(#clip550)\" d=\"M21.7677 584.568 L58.7206 584.568 L58.7206 576.801 Q58.7206 566.966 54.2646 562.415 Q49.8086 557.832 40.1964 557.832 Q30.6479 557.832 26.2237 562.415 Q21.7677 566.966 21.7677 576.801 L21.7677 584.568 M16.4842 590.997 L16.4842 577.788 Q16.4842 563.974 22.2451 557.513 Q27.9743 551.052 40.1964 551.052 Q52.4822 551.052 58.2432 557.545 Q64.0042 564.038 64.0042 577.788 L64.0042 590.997 L16.4842 590.997 Z\" fill=\"#000000\" fill-rule=\"nonzero\" fill-opacity=\"1\" /><path clip-path=\"url(#clip552)\" d=\"M338.375 102.186 L327.063 97.4977 L322.375 86.1857 L327.063 74.8737 L338.375 70.1857 L349.687 74.8737 L354.375 86.1857 L349.687 97.4977 Z\" fill=\"#009af9\" fill-rule=\"evenodd\" fill-opacity=\"1\" stroke=\"#000000\" stroke-opacity=\"1\" stroke-width=\"3.2\"/>\n",
       "<path clip-path=\"url(#clip552)\" d=\"M338.375 1400.24 L327.063 1395.55 L322.375 1384.24 L327.063 1372.93 L338.375 1368.24 L349.687 1372.93 L354.375 1384.24 L349.687 1395.55 Z\" fill=\"#e26f46\" fill-rule=\"evenodd\" fill-opacity=\"1\" stroke=\"#000000\" stroke-opacity=\"1\" stroke-width=\"3.2\"/>\n",
       "<polyline clip-path=\"url(#clip552)\" style=\"stroke:#ff0000; stroke-linecap:round; stroke-linejoin:round; stroke-width:4; stroke-opacity:1; fill:none\" stroke-dasharray=\"16, 10\" points=\"-1793.35,458.601 4425.81,458.601 \"/>\n",
       "<path clip-path=\"url(#clip550)\" d=\"M1744.45 248.629 L2283.65 248.629 L2283.65 93.1086 L1744.45 93.1086  Z\" fill=\"#ffffff\" fill-rule=\"evenodd\" fill-opacity=\"1\"/>\n",
       "<polyline clip-path=\"url(#clip550)\" style=\"stroke:#000000; stroke-linecap:round; stroke-linejoin:round; stroke-width:4; stroke-opacity:1; fill:none\" points=\"1744.45,248.629 2283.65,248.629 2283.65,93.1086 1744.45,93.1086 1744.45,248.629 \"/>\n",
       "<polyline clip-path=\"url(#clip550)\" style=\"stroke:#009af9; stroke-linecap:round; stroke-linejoin:round; stroke-width:4; stroke-opacity:1; fill:none\" points=\"1767.49,144.949 1905.69,144.949 \"/>\n",
       "<path clip-path=\"url(#clip550)\" d=\"M1836.59 166.276 L1821.51 160.027 L1815.26 144.949 L1821.51 129.87 L1836.59 123.621 L1851.67 129.87 L1857.92 144.949 L1851.67 160.027 Z\" fill=\"#009af9\" fill-rule=\"evenodd\" fill-opacity=\"1\" stroke=\"#000000\" stroke-opacity=\"1\" stroke-width=\"4.55111\"/>\n",
       "<path clip-path=\"url(#clip550)\" d=\"M1944.56 132.275 L1938.21 149.474 L1950.92 149.474 L1944.56 132.275 M1941.92 127.669 L1947.22 127.669 L1960.39 162.229 L1955.53 162.229 L1952.38 153.363 L1936.8 153.363 L1933.65 162.229 L1928.72 162.229 L1941.92 127.669 Z\" fill=\"#000000\" fill-rule=\"nonzero\" fill-opacity=\"1\" /><path clip-path=\"url(#clip550)\" d=\"M1959.42 136.303 L1963.93 136.303 L1972.03 158.062 L1980.14 136.303 L1984.65 136.303 L1974.93 162.229 L1969.14 162.229 L1959.42 136.303 Z\" fill=\"#000000\" fill-rule=\"nonzero\" fill-opacity=\"1\" /><path clip-path=\"url(#clip550)\" d=\"M2012.7 148.201 L2012.7 150.284 L1993.12 150.284 Q1993.4 154.682 1995.76 156.997 Q1998.14 159.289 2002.38 159.289 Q2004.83 159.289 2007.13 158.687 Q2009.44 158.085 2011.71 156.881 L2011.71 160.909 Q2009.42 161.881 2007.01 162.391 Q2004.6 162.9 2002.13 162.9 Q1995.92 162.9 1992.29 159.289 Q1988.68 155.678 1988.68 149.52 Q1988.68 143.155 1992.1 139.428 Q1995.55 135.678 2001.39 135.678 Q2006.62 135.678 2009.65 139.057 Q2012.7 142.414 2012.7 148.201 M2008.45 146.951 Q2008.4 143.456 2006.48 141.372 Q2004.58 139.289 2001.43 139.289 Q1997.87 139.289 1995.71 141.303 Q1993.58 143.317 1993.26 146.974 L2008.45 146.951 Z\" fill=\"#000000\" fill-rule=\"nonzero\" fill-opacity=\"1\" /><path clip-path=\"url(#clip550)\" d=\"M2034.72 140.284 Q2034 139.868 2033.14 139.682 Q2032.31 139.474 2031.29 139.474 Q2027.68 139.474 2025.74 141.835 Q2023.82 144.173 2023.82 148.571 L2023.82 162.229 L2019.53 162.229 L2019.53 136.303 L2023.82 136.303 L2023.82 140.331 Q2025.16 137.969 2027.31 136.835 Q2029.46 135.678 2032.54 135.678 Q2032.98 135.678 2033.51 135.747 Q2034.05 135.794 2034.7 135.909 L2034.72 140.284 Z\" fill=\"#000000\" fill-rule=\"nonzero\" fill-opacity=\"1\" /><path clip-path=\"url(#clip550)\" d=\"M2050.97 149.196 Q2045.81 149.196 2043.82 150.377 Q2041.83 151.557 2041.83 154.405 Q2041.83 156.673 2043.31 158.016 Q2044.81 159.335 2047.38 159.335 Q2050.92 159.335 2053.05 156.835 Q2055.2 154.312 2055.2 150.145 L2055.2 149.196 L2050.97 149.196 M2059.46 147.437 L2059.46 162.229 L2055.2 162.229 L2055.2 158.293 Q2053.75 160.655 2051.57 161.789 Q2049.39 162.9 2046.25 162.9 Q2042.26 162.9 2039.9 160.678 Q2037.57 158.432 2037.57 154.682 Q2037.57 150.307 2040.48 148.085 Q2043.42 145.863 2049.23 145.863 L2055.2 145.863 L2055.2 145.446 Q2055.2 142.507 2053.26 140.909 Q2051.34 139.289 2047.84 139.289 Q2045.62 139.289 2043.51 139.821 Q2041.41 140.354 2039.46 141.419 L2039.46 137.483 Q2041.8 136.581 2044 136.141 Q2046.2 135.678 2048.28 135.678 Q2053.91 135.678 2056.69 138.594 Q2059.46 141.511 2059.46 147.437 Z\" fill=\"#000000\" fill-rule=\"nonzero\" fill-opacity=\"1\" /><path clip-path=\"url(#clip550)\" d=\"M2085.3 148.965 Q2085.3 144.335 2083.38 141.789 Q2081.48 139.243 2078.03 139.243 Q2074.6 139.243 2072.68 141.789 Q2070.78 144.335 2070.78 148.965 Q2070.78 153.571 2072.68 156.118 Q2074.6 158.664 2078.03 158.664 Q2081.48 158.664 2083.38 156.118 Q2085.3 153.571 2085.3 148.965 M2089.56 159.011 Q2089.56 165.631 2086.62 168.849 Q2083.68 172.09 2077.61 172.09 Q2075.37 172.09 2073.38 171.742 Q2071.39 171.418 2069.51 170.724 L2069.51 166.58 Q2071.39 167.599 2073.21 168.085 Q2075.04 168.571 2076.94 168.571 Q2081.13 168.571 2083.21 166.372 Q2085.3 164.196 2085.3 159.775 L2085.3 157.668 Q2083.98 159.96 2081.92 161.094 Q2079.86 162.229 2076.99 162.229 Q2072.22 162.229 2069.3 158.594 Q2066.39 154.96 2066.39 148.965 Q2066.39 142.946 2069.3 139.312 Q2072.22 135.678 2076.99 135.678 Q2079.86 135.678 2081.92 136.812 Q2083.98 137.946 2085.3 140.238 L2085.3 136.303 L2089.56 136.303 L2089.56 159.011 Z\" fill=\"#000000\" fill-rule=\"nonzero\" fill-opacity=\"1\" /><path clip-path=\"url(#clip550)\" d=\"M2120.51 148.201 L2120.51 150.284 L2100.92 150.284 Q2101.2 154.682 2103.56 156.997 Q2105.95 159.289 2110.18 159.289 Q2112.63 159.289 2114.93 158.687 Q2117.24 158.085 2119.51 156.881 L2119.51 160.909 Q2117.22 161.881 2114.81 162.391 Q2112.4 162.9 2109.93 162.9 Q2103.72 162.9 2100.09 159.289 Q2096.48 155.678 2096.48 149.52 Q2096.48 143.155 2099.9 139.428 Q2103.35 135.678 2109.19 135.678 Q2114.42 135.678 2117.45 139.057 Q2120.51 142.414 2120.51 148.201 M2116.25 146.951 Q2116.2 143.456 2114.28 141.372 Q2112.38 139.289 2109.23 139.289 Q2105.67 139.289 2103.51 141.303 Q2101.39 143.317 2101.06 146.974 L2116.25 146.951 Z\" fill=\"#000000\" fill-rule=\"nonzero\" fill-opacity=\"1\" /><path clip-path=\"url(#clip550)\" d=\"M2147.43 131.511 L2147.43 144.497 L2153.31 144.497 Q2156.57 144.497 2158.35 142.807 Q2160.13 141.118 2160.13 137.993 Q2160.13 134.891 2158.35 133.201 Q2156.57 131.511 2153.31 131.511 L2147.43 131.511 M2142.75 127.669 L2153.31 127.669 Q2159.12 127.669 2162.08 130.307 Q2165.07 132.923 2165.07 137.993 Q2165.07 143.108 2162.08 145.724 Q2159.12 148.34 2153.31 148.34 L2147.43 148.34 L2147.43 162.229 L2142.75 162.229 L2142.75 127.669 Z\" fill=\"#000000\" fill-rule=\"nonzero\" fill-opacity=\"1\" /><path clip-path=\"url(#clip550)\" d=\"M2185.34 140.284 Q2184.63 139.868 2183.77 139.682 Q2182.94 139.474 2181.92 139.474 Q2178.31 139.474 2176.36 141.835 Q2174.44 144.173 2174.44 148.571 L2174.44 162.229 L2170.16 162.229 L2170.16 136.303 L2174.44 136.303 L2174.44 140.331 Q2175.78 137.969 2177.94 136.835 Q2180.09 135.678 2183.17 135.678 Q2183.61 135.678 2184.14 135.747 Q2184.67 135.794 2185.32 135.909 L2185.34 140.284 Z\" fill=\"#000000\" fill-rule=\"nonzero\" fill-opacity=\"1\" /><path clip-path=\"url(#clip550)\" d=\"M2198.82 139.289 Q2195.39 139.289 2193.4 141.974 Q2191.41 144.636 2191.41 149.289 Q2191.41 153.942 2193.38 156.627 Q2195.37 159.289 2198.82 159.289 Q2202.22 159.289 2204.21 156.604 Q2206.2 153.918 2206.2 149.289 Q2206.2 144.682 2204.21 141.997 Q2202.22 139.289 2198.82 139.289 M2198.82 135.678 Q2204.37 135.678 2207.54 139.289 Q2210.71 142.9 2210.71 149.289 Q2210.71 155.655 2207.54 159.289 Q2204.37 162.9 2198.82 162.9 Q2193.24 162.9 2190.07 159.289 Q2186.92 155.655 2186.92 149.289 Q2186.92 142.9 2190.07 139.289 Q2193.24 135.678 2198.82 135.678 Z\" fill=\"#000000\" fill-rule=\"nonzero\" fill-opacity=\"1\" /><path clip-path=\"url(#clip550)\" d=\"M2230.9 126.21 L2230.9 129.752 L2226.82 129.752 Q2224.53 129.752 2223.63 130.678 Q2222.75 131.604 2222.75 134.011 L2222.75 136.303 L2229.76 136.303 L2229.76 139.613 L2222.75 139.613 L2222.75 162.229 L2218.47 162.229 L2218.47 139.613 L2214.39 139.613 L2214.39 136.303 L2218.47 136.303 L2218.47 134.497 Q2218.47 130.169 2220.48 128.201 Q2222.5 126.21 2226.87 126.21 L2230.9 126.21 Z\" fill=\"#000000\" fill-rule=\"nonzero\" fill-opacity=\"1\" /><path clip-path=\"url(#clip550)\" d=\"M2234.46 136.303 L2238.72 136.303 L2238.72 162.229 L2234.46 162.229 L2234.46 136.303 M2234.46 126.21 L2238.72 126.21 L2238.72 131.604 L2234.46 131.604 L2234.46 126.21 Z\" fill=\"#000000\" fill-rule=\"nonzero\" fill-opacity=\"1\" /><path clip-path=\"url(#clip550)\" d=\"M2251.85 128.942 L2251.85 136.303 L2260.62 136.303 L2260.62 139.613 L2251.85 139.613 L2251.85 153.687 Q2251.85 156.858 2252.7 157.761 Q2253.58 158.664 2256.25 158.664 L2260.62 158.664 L2260.62 162.229 L2256.25 162.229 Q2251.31 162.229 2249.44 160.4 Q2247.56 158.548 2247.56 153.687 L2247.56 139.613 L2244.44 139.613 L2244.44 136.303 L2247.56 136.303 L2247.56 128.942 L2251.85 128.942 Z\" fill=\"#000000\" fill-rule=\"nonzero\" fill-opacity=\"1\" /><polyline clip-path=\"url(#clip550)\" style=\"stroke:#e26f46; stroke-linecap:round; stroke-linejoin:round; stroke-width:4; stroke-opacity:1; fill:none\" points=\"1767.49,196.789 1905.69,196.789 \"/>\n",
       "<path clip-path=\"url(#clip550)\" d=\"M1836.59 218.116 L1821.51 211.867 L1815.26 196.789 L1821.51 181.71 L1836.59 175.461 L1851.67 181.71 L1857.92 196.789 L1851.67 211.867 Z\" fill=\"#e26f46\" fill-rule=\"evenodd\" fill-opacity=\"1\" stroke=\"#000000\" stroke-opacity=\"1\" stroke-width=\"4.55111\"/>\n",
       "<path clip-path=\"url(#clip550)\" d=\"M1950.97 180.643 L1950.97 185.203 Q1948.31 183.93 1945.95 183.305 Q1943.58 182.68 1941.39 182.68 Q1937.57 182.68 1935.48 184.161 Q1933.42 185.643 1933.42 188.374 Q1933.42 190.666 1934.79 191.847 Q1936.18 193.004 1940.02 193.722 L1942.84 194.3 Q1948.08 195.296 1950.55 197.819 Q1953.05 200.319 1953.05 204.532 Q1953.05 209.555 1949.67 212.147 Q1946.32 214.74 1939.81 214.74 Q1937.36 214.74 1934.58 214.184 Q1931.83 213.629 1928.86 212.541 L1928.86 207.726 Q1931.71 209.323 1934.44 210.133 Q1937.17 210.944 1939.81 210.944 Q1943.82 210.944 1945.99 209.37 Q1948.17 207.796 1948.17 204.879 Q1948.17 202.333 1946.59 200.897 Q1945.04 199.462 1941.48 198.745 L1938.63 198.189 Q1933.4 197.147 1931.06 194.925 Q1928.72 192.703 1928.72 188.745 Q1928.72 184.161 1931.94 181.522 Q1935.18 178.884 1940.85 178.884 Q1943.28 178.884 1945.81 179.323 Q1948.33 179.763 1950.97 180.643 Z\" fill=\"#000000\" fill-rule=\"nonzero\" fill-opacity=\"1\" /><path clip-path=\"url(#clip550)\" d=\"M1964.37 180.782 L1964.37 188.143 L1973.14 188.143 L1973.14 191.453 L1964.37 191.453 L1964.37 205.527 Q1964.37 208.698 1965.23 209.601 Q1966.11 210.504 1968.77 210.504 L1973.14 210.504 L1973.14 214.069 L1968.77 214.069 Q1963.84 214.069 1961.96 212.24 Q1960.09 210.388 1960.09 205.527 L1960.09 191.453 L1956.96 191.453 L1956.96 188.143 L1960.09 188.143 L1960.09 180.782 L1964.37 180.782 Z\" fill=\"#000000\" fill-rule=\"nonzero\" fill-opacity=\"1\" /><path clip-path=\"url(#clip550)\" d=\"M1995.81 192.078 L1995.81 178.05 L2000.07 178.05 L2000.07 214.069 L1995.81 214.069 L1995.81 210.18 Q1994.46 212.495 1992.4 213.629 Q1990.37 214.74 1987.5 214.74 Q1982.8 214.74 1979.83 210.99 Q1976.89 207.24 1976.89 201.129 Q1976.89 195.018 1979.83 191.268 Q1982.8 187.518 1987.5 187.518 Q1990.37 187.518 1992.4 188.652 Q1994.46 189.763 1995.81 192.078 M1981.29 201.129 Q1981.29 205.828 1983.21 208.513 Q1985.16 211.175 1988.54 211.175 Q1991.92 211.175 1993.86 208.513 Q1995.81 205.828 1995.81 201.129 Q1995.81 196.43 1993.86 193.768 Q1991.92 191.083 1988.54 191.083 Q1985.16 191.083 1983.21 193.768 Q1981.29 196.43 1981.29 201.129 Z\" fill=\"#000000\" fill-rule=\"nonzero\" fill-opacity=\"1\" /><path clip-path=\"url(#clip550)\" d=\"M2033.95 191.129 Q2030.53 191.129 2028.54 193.814 Q2026.55 196.476 2026.55 201.129 Q2026.55 205.782 2028.52 208.467 Q2030.51 211.129 2033.95 211.129 Q2037.36 211.129 2039.35 208.444 Q2041.34 205.758 2041.34 201.129 Q2041.34 196.522 2039.35 193.837 Q2037.36 191.129 2033.95 191.129 M2033.95 187.518 Q2039.51 187.518 2042.68 191.129 Q2045.85 194.74 2045.85 201.129 Q2045.85 207.495 2042.68 211.129 Q2039.51 214.74 2033.95 214.74 Q2028.38 214.74 2025.2 211.129 Q2022.06 207.495 2022.06 201.129 Q2022.06 194.74 2025.2 191.129 Q2028.38 187.518 2033.95 187.518 Z\" fill=\"#000000\" fill-rule=\"nonzero\" fill-opacity=\"1\" /><path clip-path=\"url(#clip550)\" d=\"M2066.04 178.05 L2066.04 181.592 L2061.96 181.592 Q2059.67 181.592 2058.77 182.518 Q2057.89 183.444 2057.89 185.851 L2057.89 188.143 L2064.9 188.143 L2064.9 191.453 L2057.89 191.453 L2057.89 214.069 L2053.61 214.069 L2053.61 191.453 L2049.53 191.453 L2049.53 188.143 L2053.61 188.143 L2053.61 186.337 Q2053.61 182.009 2055.62 180.041 Q2057.64 178.05 2062.01 178.05 L2066.04 178.05 Z\" fill=\"#000000\" fill-rule=\"nonzero\" fill-opacity=\"1\" /><path clip-path=\"url(#clip550)\" d=\"M2089.53 183.351 L2089.53 196.337 L2095.41 196.337 Q2098.68 196.337 2100.46 194.647 Q2102.24 192.958 2102.24 189.833 Q2102.24 186.731 2100.46 185.041 Q2098.68 183.351 2095.41 183.351 L2089.53 183.351 M2084.86 179.509 L2095.41 179.509 Q2101.22 179.509 2104.19 182.147 Q2107.17 184.763 2107.17 189.833 Q2107.17 194.948 2104.19 197.564 Q2101.22 200.18 2095.41 200.18 L2089.53 200.18 L2089.53 214.069 L2084.86 214.069 L2084.86 179.509 Z\" fill=\"#000000\" fill-rule=\"nonzero\" fill-opacity=\"1\" /><path clip-path=\"url(#clip550)\" d=\"M2127.45 192.124 Q2126.73 191.708 2125.88 191.522 Q2125.04 191.314 2124.02 191.314 Q2120.41 191.314 2118.47 193.675 Q2116.55 196.013 2116.55 200.411 L2116.55 214.069 L2112.26 214.069 L2112.26 188.143 L2116.55 188.143 L2116.55 192.171 Q2117.89 189.809 2120.04 188.675 Q2122.2 187.518 2125.27 187.518 Q2125.71 187.518 2126.25 187.587 Q2126.78 187.634 2127.43 187.749 L2127.45 192.124 Z\" fill=\"#000000\" fill-rule=\"nonzero\" fill-opacity=\"1\" /><path clip-path=\"url(#clip550)\" d=\"M2140.92 191.129 Q2137.5 191.129 2135.51 193.814 Q2133.51 196.476 2133.51 201.129 Q2133.51 205.782 2135.48 208.467 Q2137.47 211.129 2140.92 211.129 Q2144.32 211.129 2146.32 208.444 Q2148.31 205.758 2148.31 201.129 Q2148.31 196.522 2146.32 193.837 Q2144.32 191.129 2140.92 191.129 M2140.92 187.518 Q2146.48 187.518 2149.65 191.129 Q2152.82 194.74 2152.82 201.129 Q2152.82 207.495 2149.65 211.129 Q2146.48 214.74 2140.92 214.74 Q2135.34 214.74 2132.17 211.129 Q2129.02 207.495 2129.02 201.129 Q2129.02 194.74 2132.17 191.129 Q2135.34 187.518 2140.92 187.518 Z\" fill=\"#000000\" fill-rule=\"nonzero\" fill-opacity=\"1\" /><path clip-path=\"url(#clip550)\" d=\"M2173 178.05 L2173 181.592 L2168.93 181.592 Q2166.64 181.592 2165.74 182.518 Q2164.86 183.444 2164.86 185.851 L2164.86 188.143 L2171.87 188.143 L2171.87 191.453 L2164.86 191.453 L2164.86 214.069 L2160.57 214.069 L2160.57 191.453 L2156.5 191.453 L2156.5 188.143 L2160.57 188.143 L2160.57 186.337 Q2160.57 182.009 2162.59 180.041 Q2164.6 178.05 2168.98 178.05 L2173 178.05 Z\" fill=\"#000000\" fill-rule=\"nonzero\" fill-opacity=\"1\" /><path clip-path=\"url(#clip550)\" d=\"M2176.57 188.143 L2180.83 188.143 L2180.83 214.069 L2176.57 214.069 L2176.57 188.143 M2176.57 178.05 L2180.83 178.05 L2180.83 183.444 L2176.57 183.444 L2176.57 178.05 Z\" fill=\"#000000\" fill-rule=\"nonzero\" fill-opacity=\"1\" /><path clip-path=\"url(#clip550)\" d=\"M2193.95 180.782 L2193.95 188.143 L2202.73 188.143 L2202.73 191.453 L2193.95 191.453 L2193.95 205.527 Q2193.95 208.698 2194.81 209.601 Q2195.69 210.504 2198.35 210.504 L2202.73 210.504 L2202.73 214.069 L2198.35 214.069 Q2193.42 214.069 2191.55 212.24 Q2189.67 210.388 2189.67 205.527 L2189.67 191.453 L2186.55 191.453 L2186.55 188.143 L2189.67 188.143 L2189.67 180.782 L2193.95 180.782 Z\" fill=\"#000000\" fill-rule=\"nonzero\" fill-opacity=\"1\" /></svg>\n"
      ]
     },
     "metadata": {},
     "output_type": "display_data"
    }
   ],
   "source": [
    "end_index = length(gamma_list)\n",
    "plot(gamma_list[1:end_index], RO_ETO_Ratio_Mean[1:end_index], marker=:o, xlabel=L\"\\gamma\", label=\"Average Profit\", xticks=(gamma_list[1:end_index], string.(gamma_list[1:end_index])))\n",
    "plot!(gamma_list[1:end_index], RO_ETO_Ratio_Std[1:end_index], marker=:o, xlabel=L\"\\gamma\", ylabel=\"RPD/ETOPD\", label=\"Std of Profit\")\n",
    "hline!([1.0], linestyle=:dash, color=:red, label=\"\")\n",
    "# savefig(string(data_dir, \"RPD_vs_ETOPD.pdf\"))"
   ]
  },
  {
   "cell_type": "markdown",
   "id": "09d67d7f",
   "metadata": {},
   "source": [
    "##### Boxplot"
   ]
  },
  {
   "cell_type": "code",
   "execution_count": 21,
   "id": "073b327d",
   "metadata": {},
   "outputs": [],
   "source": [
    "# Profit_ETO_All_Ins = profit_ETO_avg[:,1];\n",
    "# Profit_RO_All_Ins = Dict();\n",
    "# for g_index in 1:length(gamma_list)\n",
    "#     gamma=gamma_list[g_index]\n",
    "#     Profit_RO_All_Ins[\"gamma=$(gamma)\"] = profit_RO_avg[:,1,g_index]\n",
    "# end"
   ]
  },
  {
   "cell_type": "code",
   "execution_count": 22,
   "id": "04b1962a",
   "metadata": {},
   "outputs": [],
   "source": [
    "# gamma_chosen = gamma_list[1:5]\n",
    "# data = [Profit_ETO_All_Ins, [Profit_RO_All_Ins[\"gamma=$(gamma)\"] for gamma in gamma_chosen]...]\n",
    "# labels = [\"ETO\"; [\"RO($gamma)\" for gamma in gamma_chosen]]\n",
    "# # --- 1) 展开成长表 ---\n",
    "# df = DataFrame(\n",
    "#     value = vcat(data...),\n",
    "#     group = repeat(labels, inner = length(data[1]))\n",
    "# )\n",
    "\n",
    "# mycolors = palette(:tab10)[1:length(labels)]   # tab10 最多10个颜色\n",
    "\n",
    "# # --- 3) 绘制箱线图 ---\n",
    "# @df df boxplot(:group, :value;\n",
    "#     group = :group,\n",
    "#     palette = mycolors,\n",
    "#     legend = false,\n",
    "#     ylabel = \"Revenue\",\n",
    "#     # title = \"Revenue Distribution\"\n",
    "# )\n",
    "\n",
    "# # --- 4) 计算均值 ---\n",
    "# means = combine(groupby(df, :group), :value => mean => :mean_val)\n",
    "\n",
    "# for i in 1:length(labels)\n",
    "#     scatter!([labels[i]], [means.mean_val[i]];\n",
    "#         color = :red,\n",
    "#         marker = (:star, 10),\n",
    "#         label = \"\")\n",
    "# end\n",
    "\n",
    "# # # --- 6) 绘制均值连线（这里必须把类别转为数值 1:N） ---\n",
    "# plot!(labels, means.mean_val;\n",
    "#     seriestype = :line,\n",
    "#     color = :red,\n",
    "#     lw = 2,\n",
    "#     ls = :dash,\n",
    "#     label = \"Mean trend\"\n",
    "# )"
   ]
  }
 ],
 "metadata": {
  "kernelspec": {
   "display_name": "Julia 1.10.3",
   "language": "julia",
   "name": "julia-1.10"
  },
  "language_info": {
   "file_extension": ".jl",
   "mimetype": "application/julia",
   "name": "julia",
   "version": "1.10.3"
  }
 },
 "nbformat": 4,
 "nbformat_minor": 5
}
