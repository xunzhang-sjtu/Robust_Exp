{
 "cells": [
  {
   "cell_type": "code",
   "execution_count": 1,
   "id": "efb07b62",
   "metadata": {},
   "outputs": [
    {
     "data": {
      "text/plain": [
       "calculate_profit (generic function with 1 method)"
      ]
     },
     "metadata": {},
     "output_type": "display_data"
    }
   ],
   "source": [
    "using LinearAlgebra\n",
    "using Distributions\n",
    "using Optim\n",
    "using Random\n",
    "using StatsFuns\n",
    "using JuMP\n",
    "using MosekTools\n",
    "using StatsBase\n",
    "using SparseArrays # 可选，用于处理稀疏性（如果数据量很大）\n",
    "using FileIO\n",
    "using JLD2\n",
    "using Plots\n",
    "using LaTeXStrings\n",
    "using DataFrames, Colors\n",
    "using StatsPlots   # 提供 boxplot，基于 Plots\n",
    "\n",
    "include(\"Data_Generation_PLD.jl\")\n",
    "include(\"Estimation_PLD.jl\")\n",
    "include(\"Estimation_PLD_Fast.jl\")\n",
    "include(\"Models_PLD.jl\")\n",
    "include(\"Evaluation_PLD.jl\")"
   ]
  },
  {
   "cell_type": "code",
   "execution_count": 2,
   "id": "0c69fc09",
   "metadata": {},
   "outputs": [
    {
     "data": {
      "text/plain": [
       "\"N=2_N_x=12_N_u=5_S_train=100_N_nonzero=5/\""
      ]
     },
     "metadata": {},
     "output_type": "display_data"
    }
   ],
   "source": [
    "N = 2 # num of product\n",
    "N_x = 12 # num of product feature\n",
    "c_l = ones(N_x)  # X * c_l >= d_r\n",
    "d_r = ones(N) * 5\n",
    "rev_gap = 0.001\n",
    "N_u = 5 # num of customer feature\n",
    "S_train = 100 # num of training samples\n",
    "S_test = 1 # num of training samples\n",
    "Time_Limit = 180.0\n",
    "m = 5 # num of candidates in training samples\n",
    "N_nonzero = 5 # num of nonzero entries in A\n",
    "lambda_list = [0.001,0.01]\n",
    "gamma_list = [0.0,0.1,0.2,0.3,0.4,0.5,0.6,0.8,1.0]\n",
    "# gamma_list = [0.0]\n",
    "num_c = 4\n",
    "instances = 1\n",
    "Random.seed!(2)\n",
    "project_dir = \"N=$(N)_N_x=$(N_x)_N_u=$(N_u)_S_train=$(S_train)_N_nonzero=$(N_nonzero)/\""
   ]
  },
  {
   "cell_type": "code",
   "execution_count": 3,
   "id": "7cd637ae",
   "metadata": {},
   "outputs": [
    {
     "name": "stdout",
     "output_type": "stream",
     "text": [
      "Data directory: /Users/zhangxun/Dropbox/Research/Robust_Exp/Data/Product_Line_Design/N=2_N_x=12_N_u=5_S_train=100_N_nonzero=5/\n"
     ]
    }
   ],
   "source": [
    "current_dir = pwd()\n",
    "parent_dir = dirname(current_dir)\n",
    "grand_pa_dir = dirname(parent_dir)\n",
    "data_dir = string(dirname(grand_pa_dir), \"/Data/Product_Line_Design/\")\n",
    "if !isdir(data_dir)\n",
    "    mkpath(data_dir)\n",
    "end\n",
    "data_dir = string(data_dir,project_dir)\n",
    "println(\"Data directory: \", data_dir)"
   ]
  },
  {
   "cell_type": "markdown",
   "id": "6b9d6a50",
   "metadata": {},
   "source": [
    "#### Data Generation"
   ]
  },
  {
   "cell_type": "code",
   "execution_count": 4,
   "id": "8f29673d",
   "metadata": {},
   "outputs": [
    {
     "data": {
      "text/plain": [
       "compute_w (generic function with 1 method)"
      ]
     },
     "metadata": {},
     "output_type": "display_data"
    }
   ],
   "source": [
    "function compute_w(alpha0,alpha,beta,A,z_input)\n",
    "    nu0 = alpha0 + beta' * z_input;\n",
    "    nu = alpha .+ A * z_input;\n",
    "    return nu0,nu\n",
    "end"
   ]
  },
  {
   "cell_type": "code",
   "execution_count": 5,
   "id": "c01ffde8",
   "metadata": {},
   "outputs": [
    {
     "name": "stdout",
     "output_type": "stream",
     "text": [
      "True:[0.96, 0.89, -0.59, -1.08, -0.07, 1.53, 0.2, 1.44, -0.5, 1.56, 0.95, 0.25, 0.27]\n",
      "  0.000115 seconds (304 allocations: 359.406 KiB)\n",
      "  0.000074 seconds (304 allocations: 359.406 KiB)\n",
      "/Users/zhangxun/Dropbox/Research/Robust_Exp/Data/Product_Line_Design/N=2_N_x=12_N_u=5_S_train=100_N_nonzero=5/instance=1/\n"
     ]
    }
   ],
   "source": [
    "Input_Data = Dict()\n",
    "ins = 1\n",
    "while ins <= instances\n",
    "    data_dir_ins = string(data_dir, \"instance=$ins/\")\n",
    "    # ****** Data ******\n",
    "    theta_true, r_params = Generate_Wang_Qi_Max_True_Paras(N_x,N_u,N_nonzero);\n",
    "    X_train,Y_train,Z_train = Generate_Wang_Qi_Max_True_Data(N_x, N_u, S_train, m,theta_true);\n",
    "    X_test,Y_test,Z_test = Generate_Wang_Qi_Max_True_Data(N_x, N_u, S_test, m,theta_true);\n",
    "    z_input = Z_test[1,:];\n",
    "    nu0_true,nu_true = compute_w(theta_true.alpha0,theta_true.alpha,theta_true.beta,theta_true.A,z_input)\n",
    "    w_true = [nu0_true;nu_true]\n",
    "    println(\"True:\",round.(w_true,digits=2))\n",
    "    is_extreme_estimation = false\n",
    "    Estimate_Dict = Dict()\n",
    "    for lambda in lambda_list\n",
    "        # alpha0_hat, alpha_hat, beta_hat, A_hat, opt_result = estimate_parameters(X_train,Y_train,Z_train,lambda, N_x, N_u, initial_theta=randn((N_x+1)*(N_u+1)) * 0.1);\n",
    "        alpha0_hat, alpha_hat, beta_hat, A_hat, opt_result, X_tilde = estimate_parameters_fast(X_train, Y_train, Z_train, lambda, N_x, N_u);\n",
    "        nu0_hat,nu_hat = compute_w(alpha0_hat,alpha_hat,beta_hat,A_hat,z_input)\n",
    "        w_hat = [nu0_hat;nu_hat]\n",
    "\n",
    "        if norm(w_hat .- w_true,2) >= 20.0\n",
    "            # println(\"ins=$(ins)_w_hat=\",round.(w_hat,digits=2))\n",
    "            is_extreme_estimation = true\n",
    "            break\n",
    "        else\n",
    "            # println(\"ins=$(ins)_w_hat=\",round.(w_hat,digits=2))\n",
    "            Estimate_Dict[\"alpha0_lambda=$lambda\"] = alpha0_hat\n",
    "            Estimate_Dict[\"alpha_lambda=$lambda\"] = alpha_hat\n",
    "            Estimate_Dict[\"beta_lambda=$lambda\"] = beta_hat\n",
    "            Estimate_Dict[\"A_lambda=$lambda\"] = A_hat\n",
    "            Estimate_Dict[\"opt_result_lambda=$lambda\"] = opt_result\n",
    "            Estimate_Dict[\"nu0_lambda=$lambda\"] = nu0_hat\n",
    "            Estimate_Dict[\"nu_lambda=$lambda\"] = nu_hat\n",
    "        end\n",
    "    end\n",
    "    if is_extreme_estimation\n",
    "        continue\n",
    "    else\n",
    "        Input_Data[\"theta_true_ins=$ins\"] = theta_true\n",
    "        Input_Data[\"r_params_ins=$ins\"] = r_params\n",
    "        Input_Data[\"X_train_ins=$ins\"] = X_train\n",
    "        Input_Data[\"Y_train_ins=$ins\"] = Y_train\n",
    "        Input_Data[\"Z_train_ins=$ins\"] = Z_train\n",
    "        Input_Data[\"X_test_ins=$ins\"] = X_test\n",
    "        Input_Data[\"Y_test_ins=$ins\"] = Y_test\n",
    "        Input_Data[\"Z_test_ins=$ins\"] = Z_test\n",
    "        Input_Data[\"Estimate_ins=$ins\"] = Estimate_Dict\n",
    "        Input_Data[\"nu0_ins=$ins\"] = nu0_true\n",
    "        Input_Data[\"nu_ins=$ins\"] = nu_true\n",
    "        ins = ins + 1\n",
    "    end\n",
    "    println(data_dir_ins)\n",
    "end\n",
    "save(string(data_dir,\"Input_Data.jld2\"),Input_Data)"
   ]
  },
  {
   "cell_type": "code",
   "execution_count": 6,
   "id": "932d7c18",
   "metadata": {},
   "outputs": [
    {
     "name": "stdout",
     "output_type": "stream",
     "text": [
      "ins=1_w_hat=[2.0929, 1.5012, -0.7841, -5.5066, -0.2131, 0.4736, 0.2372, 3.156, -7.7124, 6.2948, 5.6572, 0.5732, 1.3928]\n"
     ]
    },
    {
     "ename": "InterruptException",
     "evalue": "InterruptException:",
     "output_type": "error",
     "traceback": [
      "InterruptException:\n",
      "\n",
      "Stacktrace:\n",
      "  [1] *(A::Float64, B::Vector{Float64})\n",
      "    @ Base ./arraymath.jl:21\n",
      "  [2] create_extended_design(x_ij::Vector{Float64}, z_i::Vector{Float64})\n",
      "    @ Main ~/Dropbox/Research/Robust_Exp/Code_Macbook/Robust_Exp/Product_Line_Design/Estimation_PLD.jl:22\n",
      "  [3] neg_log_likelihood_single(theta::Vector{Float64}, X_i::Matrix{Float64}, z_i::Vector{Float64}, y_i::Int64)\n",
      "    @ Main ~/Dropbox/Research/Robust_Exp/Code_Macbook/Robust_Exp/Product_Line_Design/Estimation_PLD.jl:51\n",
      "  [4] neg_log_likelihood(theta::Vector{Float64}, X::Vector{Matrix{Float64}}, Y::Vector{Int64}, Z::Matrix{Float64})\n",
      "    @ Main ~/Dropbox/Research/Robust_Exp/Code_Macbook/Robust_Exp/Product_Line_Design/Estimation_PLD.jl:88\n",
      "  [5] lasso_objective\n",
      "    @ ~/Dropbox/Research/Robust_Exp/Code_Macbook/Robust_Exp/Product_Line_Design/Estimation_PLD.jl:107 [inlined]\n",
      "  [6] objective_function\n",
      "    @ ~/Dropbox/Research/Robust_Exp/Code_Macbook/Robust_Exp/Product_Line_Design/Estimation_PLD.jl:160 [inlined]\n",
      "  [7] finite_difference_gradient!(df::Vector{Float64}, f::var\"#objective_function#12\"{Vector{Matrix{Float64}}, Vector{Int64}, Matrix{Float64}, Float64}, x::Vector{Float64}, cache::FiniteDiff.GradientCache{Nothing, Nothing, Nothing, Vector{Float64}, Val{:central}(), Float64, Val{true}()}; relstep::Float64, absstep::Float64, dir::Bool)\n",
      "    @ FiniteDiff ~/.julia/packages/FiniteDiff/FMCCa/src/gradients.jl:402\n",
      "  [8] finite_difference_gradient!\n",
      "    @ ~/.julia/packages/FiniteDiff/FMCCa/src/gradients.jl:356 [inlined]\n",
      "  [9] value_and_gradient!\n",
      "    @ ~/.julia/packages/DifferentiationInterface/cZ1tI/ext/DifferentiationInterfaceFiniteDiffExt/onearg.jl:329 [inlined]\n",
      " [10] (::NLSolversBase.var\"#fg!#14\"{var\"#objective_function#12\"{Vector{Matrix{Float64}}, Vector{Int64}, Matrix{Float64}, Float64}, DifferentiationInterfaceFiniteDiffExt.FiniteDiffGradientPrep{Tuple{var\"#objective_function#12\"{Vector{Matrix{Float64}}, Vector{Int64}, Matrix{Float64}, Float64}, ADTypes.AutoFiniteDiff{Val{:central}, Val{:central}, Val{:hcentral}, Nothing, Nothing, Bool}, Vector{Float64}, Tuple{}}, FiniteDiff.GradientCache{Nothing, Nothing, Nothing, Vector{Float64}, Val{:central}(), Float64, Val{true}()}, Float64, Float64, Bool}, ADTypes.AutoFiniteDiff{Val{:central}, Val{:central}, Val{:hcentral}, Nothing, Nothing, Bool}})(_g::Vector{Float64}, _x::Vector{Float64})\n",
      "    @ NLSolversBase ~/.julia/packages/NLSolversBase/n7XXO/src/objective_types/oncedifferentiable.jl:53\n",
      " [11] value_gradient!!(obj::OnceDifferentiable{Float64, Vector{Float64}, Vector{Float64}}, x::Vector{Float64})\n",
      "    @ NLSolversBase ~/.julia/packages/NLSolversBase/n7XXO/src/interface.jl:82\n",
      " [12] value_gradient!(obj::OnceDifferentiable{Float64, Vector{Float64}, Vector{Float64}}, x::Vector{Float64})\n",
      "    @ NLSolversBase ~/.julia/packages/NLSolversBase/n7XXO/src/interface.jl:69\n",
      " [13] value_gradient!(obj::Optim.ManifoldObjective{OnceDifferentiable{Float64, Vector{Float64}, Vector{Float64}}}, x::Vector{Float64})\n",
      "    @ Optim ~/.julia/packages/Optim/7krni/src/Manifolds.jl:50\n",
      " [14] (::LineSearches.var\"#ϕdϕ#6\"{Optim.ManifoldObjective{OnceDifferentiable{Float64, Vector{Float64}, Vector{Float64}}}, Vector{Float64}, Vector{Float64}, Vector{Float64}})(α::Float64)\n",
      "    @ LineSearches ~/.julia/packages/LineSearches/b4CwT/src/LineSearches.jl:83\n",
      " [15] (::LineSearches.HagerZhang{Float64, Base.RefValue{Bool}})(ϕ::Function, ϕdϕ::LineSearches.var\"#ϕdϕ#6\"{Optim.ManifoldObjective{OnceDifferentiable{Float64, Vector{Float64}, Vector{Float64}}}, Vector{Float64}, Vector{Float64}, Vector{Float64}}, c::Float64, phi_0::Float64, dphi_0::Float64)\n",
      "    @ LineSearches ~/.julia/packages/LineSearches/b4CwT/src/hagerzhang.jl:234\n",
      " [16] HagerZhang\n",
      "    @ ~/.julia/packages/LineSearches/b4CwT/src/hagerzhang.jl:103 [inlined]\n",
      " [17] perform_linesearch!(state::Optim.LBFGSState{Vector{Float64}, Vector{Vector{Float64}}, Vector{Vector{Float64}}, Float64, Vector{Float64}}, method::LBFGS{Nothing, LineSearches.InitialStatic{Float64}, LineSearches.HagerZhang{Float64, Base.RefValue{Bool}}, Returns{Nothing}}, d::Optim.ManifoldObjective{OnceDifferentiable{Float64, Vector{Float64}, Vector{Float64}}})\n",
      "    @ Optim ~/.julia/packages/Optim/7krni/src/utilities/perform_linesearch.jl:58\n",
      " [18] update_state!(d::OnceDifferentiable{Float64, Vector{Float64}, Vector{Float64}}, state::Optim.LBFGSState{Vector{Float64}, Vector{Vector{Float64}}, Vector{Vector{Float64}}, Float64, Vector{Float64}}, method::LBFGS{Nothing, LineSearches.InitialStatic{Float64}, LineSearches.HagerZhang{Float64, Base.RefValue{Bool}}, Returns{Nothing}})\n",
      "    @ Optim ~/.julia/packages/Optim/7krni/src/multivariate/solvers/first_order/l_bfgs.jl:220\n",
      " [19] optimize(d::OnceDifferentiable{Float64, Vector{Float64}, Vector{Float64}}, initial_x::Vector{Float64}, method::LBFGS{Nothing, LineSearches.InitialStatic{Float64}, LineSearches.HagerZhang{Float64, Base.RefValue{Bool}}, Returns{Nothing}}, options::Optim.Options{Float64, Nothing}, state::Optim.LBFGSState{Vector{Float64}, Vector{Vector{Float64}}, Vector{Vector{Float64}}, Float64, Vector{Float64}})\n",
      "    @ Optim ~/.julia/packages/Optim/7krni/src/multivariate/optimize/optimize.jl:65\n",
      " [20] optimize\n",
      "    @ ~/.julia/packages/Optim/7krni/src/multivariate/optimize/optimize.jl:43 [inlined]\n",
      " [21] #optimize#77\n",
      "    @ ~/.julia/packages/Optim/7krni/src/multivariate/optimize/interface.jl:274 [inlined]\n",
      " [22] optimize\n",
      "    @ ~/.julia/packages/Optim/7krni/src/multivariate/optimize/interface.jl:264 [inlined]\n",
      " [23] #estimate_parameters#11\n",
      "    @ ~/Dropbox/Research/Robust_Exp/Code_Macbook/Robust_Exp/Product_Line_Design/Estimation_PLD.jl:163 [inlined]\n",
      " [24] top-level scope\n",
      "    @ ~/Dropbox/Research/Robust_Exp/Code_Macbook/Robust_Exp/Product_Line_Design/jl_notebook_cell_df34fa98e69747e1a8f8a730347b8e2f_X11sZmlsZQ==.jl:20"
     ]
    }
   ],
   "source": [
    "# ins = 1\n",
    "# while ins <= instances\n",
    "#     data_dir_ins = string(data_dir, \"instance=$ins/\")\n",
    "#     # ****** Data ******\n",
    "#     theta_true = Input_Data[\"theta_true_ins=$ins\"]\n",
    "#     r_params = Input_Data[\"r_params_ins=$ins\"]\n",
    "#     X_train = Input_Data[\"X_train_ins=$ins\"]\n",
    "#     Y_train = Input_Data[\"Y_train_ins=$ins\"]\n",
    "#     Z_train = Input_Data[\"Z_train_ins=$ins\"]\n",
    "#     X_test = Input_Data[\"X_test_ins=$ins\"]\n",
    "#     Y_test = Input_Data[\"Y_test_ins=$ins\"]\n",
    "#     Z_test = Input_Data[\"Z_test_ins=$ins\"]\n",
    "#     z_input = Z_test[1,:];\n",
    "#     nu0_true,nu_true = compute_w(theta_true.alpha0,theta_true.alpha,theta_true.beta,theta_true.A,z_input)\n",
    "#     w_true = [nu0_true;nu_true]\n",
    "\n",
    "#     is_extreme_estimation = false\n",
    "#     Estimate_Dict = Dict()\n",
    "#     for lambda in lambda_list\n",
    "#         alpha0_hat, alpha_hat, beta_hat, A_hat, opt_result = estimate_parameters(X_train,Y_train,Z_train,lambda, N_x, N_u, initial_theta=randn((N_x+1)*(N_u+1)) * 0.1);\n",
    "#         nu0_hat,nu_hat = compute_w(alpha0_hat,alpha_hat,beta_hat,A_hat,z_input)\n",
    "#         w_hat = [nu0_hat;nu_hat]\n",
    "#         println(\"ins=$(ins)_w_hat=\",round.(w_hat,digits=4))\n",
    "#     end\n",
    "#     ins = ins + 1\n",
    "#     println(data_dir_ins)\n",
    "# end"
   ]
  },
  {
   "cell_type": "markdown",
   "id": "9dda3c03",
   "metadata": {},
   "source": [
    "#### True"
   ]
  },
  {
   "cell_type": "code",
   "execution_count": 7,
   "id": "24ba5ed2",
   "metadata": {},
   "outputs": [
    {
     "ename": "UndefVarError",
     "evalue": "UndefVarError: `get_input_data_ins` not defined in `Main`\nSuggestion: check for spelling errors or missing imports.",
     "output_type": "error",
     "traceback": [
      "UndefVarError: `get_input_data_ins` not defined in `Main`\n",
      "Suggestion: check for spelling errors or missing imports.\n",
      "\n",
      "Stacktrace:\n",
      " [1] top-level scope\n",
      "   @ ~/Dropbox/Research/Robust_Exp/Code_Macbook/Robust_Exp/Product_Line_Design/jl_notebook_cell_df34fa98e69747e1a8f8a730347b8e2f_X14sZmlsZQ==.jl:3"
     ]
    }
   ],
   "source": [
    "# for ins in 1:instances\n",
    "#     data_dir_ins = string(data_dir, \"instance=$ins/\")\n",
    "#     r0,r,alp0_true,alp_true,beta_true,A_true,Z_test = get_input_data_ins(Input_Data,ins)\n",
    "#     nu0_true = Input_Data[\"nu0_ins=$ins\"]\n",
    "#     nu_true = Input_Data[\"nu_ins=$ins\"]\n",
    "#     w_true = [nu0_true;nu_true]\n",
    "\n",
    "#     Estimate_Dict = Input_Data[\"Estimate_ins=$ins\"]\n",
    "#     l_index = 1\n",
    "#     lambda = lambda_list[l_index]\n",
    "\n",
    "#     nu0 = Estimate_Dict[\"nu0_lambda=$lambda\"]\n",
    "#     nu = Estimate_Dict[\"nu_lambda=$lambda\"]\n",
    "#     w_hat = [nu0;nu]\n",
    "#     println(\"diff=\",round.(w_true .- w_hat,digits=2))\n",
    "#     println(\"norm = \",norm(w_hat .- w_true,2))\n",
    "\n",
    "# end"
   ]
  },
  {
   "cell_type": "code",
   "execution_count": 8,
   "id": "34687a4c",
   "metadata": {},
   "outputs": [
    {
     "ename": "UndefVarError",
     "evalue": "UndefVarError: `get_input_data_ins` not defined in `Main`\nSuggestion: check for spelling errors or missing imports.",
     "output_type": "error",
     "traceback": [
      "UndefVarError: `get_input_data_ins` not defined in `Main`\n",
      "Suggestion: check for spelling errors or missing imports.\n",
      "\n",
      "Stacktrace:\n",
      " [1] top-level scope\n",
      "   @ ~/Dropbox/Research/Robust_Exp/Code_Macbook/Robust_Exp/Product_Line_Design/jl_notebook_cell_df34fa98e69747e1a8f8a730347b8e2f_X15sZmlsZQ==.jl:4"
     ]
    }
   ],
   "source": [
    "Result_True_Dict = Dict();\n",
    "for ins in 1:instances\n",
    "    data_dir_ins = string(data_dir, \"instance=$ins/\")\n",
    "    r0,r,alp0_true,alp_true,beta_true,A_true,Z_test = get_input_data_ins(Input_Data,ins)\n",
    "    nu0 = Input_Data[\"nu0_ins=$ins\"]\n",
    "    nu = Input_Data[\"nu_ins=$ins\"]\n",
    "\n",
    "    obj_True_list = zeros(S_test);\n",
    "    x_True_list = zeros(S_test,N,N_x);\n",
    "    time_True_list = zeros(S_test);\n",
    "    profit_True_list = zeros(S_test);\n",
    "    for i in 1:S_test\n",
    "        z_input = Z_test[i,:];\n",
    "        obj_True_list[i], x_True_list[i,:,:], time_True_list[i],status = ETO_PLD(N,N_x,nu0, nu, r0, r,c_l,d_r,rev_gap,num_c,Time_Limit);\n",
    "        profit_True_list[i] = calculate_profit(alp0_true, alp_true, beta_true, A_true, r0, r, x_True_list[i,:,:], z_input)\n",
    "        # if i % 20 == 1\n",
    "        #     println(\"True: i=$i, obj=$(round(obj_True_list[i], digits=4)), profit=$(round(profit_True_list[i], digits=4)), time=$(round(time_True_list[i],digits=4))\")\n",
    "        # end                         \n",
    "    end\n",
    "    println(\"************ data_dir_ins: \", data_dir_ins,\"*************\")\n",
    "    Result_True_Dict[\"obj_ins=$ins\"] = obj_True_list\n",
    "    Result_True_Dict[\"sol_ins=$ins\"] = x_True_list\n",
    "    Result_True_Dict[\"time_ins=$ins\"] = time_True_list\n",
    "    Result_True_Dict[\"profit_ins=$ins\"] = profit_True_list\n",
    "end\n",
    "save(string(data_dir,\"Result_True.jld2\"),Result_True_Dict) "
   ]
  },
  {
   "cell_type": "markdown",
   "id": "ff0f7b4d",
   "metadata": {},
   "source": [
    "#### Estimate-then-optimize"
   ]
  },
  {
   "cell_type": "code",
   "execution_count": 9,
   "id": "520aec26",
   "metadata": {},
   "outputs": [
    {
     "ename": "UndefVarError",
     "evalue": "UndefVarError: `get_input_data_ins` not defined in `Main`\nSuggestion: check for spelling errors or missing imports.",
     "output_type": "error",
     "traceback": [
      "UndefVarError: `get_input_data_ins` not defined in `Main`\n",
      "Suggestion: check for spelling errors or missing imports.\n",
      "\n",
      "Stacktrace:\n",
      " [1] top-level scope\n",
      "   @ ~/Dropbox/Research/Robust_Exp/Code_Macbook/Robust_Exp/Product_Line_Design/jl_notebook_cell_df34fa98e69747e1a8f8a730347b8e2f_X20sZmlsZQ==.jl:4"
     ]
    }
   ],
   "source": [
    "Result_ETO_Dict = Dict();\n",
    "for ins in 1:instances\n",
    "    data_dir_ins = string(data_dir, \"instance=$ins/\")\n",
    "    r0,r,alp0_true,alp_true,beta_true,A_true,Z_test = get_input_data_ins(Input_Data,ins)\n",
    "    Estimate_Dict = Input_Data[\"Estimate_ins=$ins\"]\n",
    "    lambda_len = length(lambda_list)\n",
    "    for l_index in 1:lambda_len\n",
    "        lambda = lambda_list[l_index]\n",
    "\n",
    "        nu0 = Estimate_Dict[\"nu0_lambda=$lambda\"]\n",
    "        nu = Estimate_Dict[\"nu_lambda=$lambda\"]\n",
    "\n",
    "        obj_ETO_list = zeros(S_test);\n",
    "        x_ETO_list = zeros(S_test,N,N_x);\n",
    "        time_ETO_list = zeros(S_test);\n",
    "        profit_ETO_list = zeros(S_test);\n",
    "        for i in 1:S_test\n",
    "            z_input = Z_test[i,:];\n",
    "            obj_ETO_list[i], x_ETO_list[i,:,:], time_ETO_list[i],status = ETO_PLD(N,N_x,nu0, nu, r0, r,c_l,d_r,rev_gap,num_c,Time_Limit);\n",
    "            profit_ETO_list[i] = calculate_profit(alp0_true, alp_true, beta_true, A_true, r0, r, x_ETO_list[i,:,:], z_input)\n",
    "            # if i % 20 == 1\n",
    "            #     println(\"ETO: lambda=$lambda,i=$i, obj=$(round(obj_ETO_list[i], digits=4)), profit=$(round(profit_ETO_list[i], digits=4)),time=$(round(time_ETO_list[i],digits=4))\")\n",
    "            # end\n",
    "        end\n",
    "        Result_ETO_Dict[\"obj_ins=$(ins)_lambda=$lambda\"] = obj_ETO_list\n",
    "        Result_ETO_Dict[\"sol_ins=$(ins)_lambda=$lambda\"] = x_ETO_list\n",
    "        Result_ETO_Dict[\"time_ins=$(ins)_lambda=$lambda\"] = time_ETO_list\n",
    "        Result_ETO_Dict[\"profit_ins=$(ins)_lambda=$lambda\"] = profit_ETO_list\n",
    "    end\n",
    "    println(\"************ data_dir_ins: \", data_dir_ins,\"*************\")\n",
    "end\n",
    "save(string(data_dir,\"Result_ETO.jld2\"),Result_ETO_Dict) "
   ]
  },
  {
   "cell_type": "markdown",
   "id": "aaefafcd",
   "metadata": {},
   "source": [
    "#### Robust"
   ]
  },
  {
   "cell_type": "code",
   "execution_count": 10,
   "id": "11455bc4",
   "metadata": {},
   "outputs": [
    {
     "data": {
      "text/plain": [
       "calculate_phi_bounds (generic function with 1 method)"
      ]
     },
     "metadata": {},
     "output_type": "display_data"
    }
   ],
   "source": [
    "function calculate_phi_bounds(N_x,r0,r,c_l,d_r_this,is_lb)\n",
    "    model = Model(Mosek.Optimizer)\n",
    "    set_attribute(model, \"QUIET\", true)\n",
    "    # 定义变量\n",
    "    @variable(model, X[1:N_x], Bin)        # 二进制变量 x_{jk}    \n",
    "    @constraint(model, X' * c_l >= d_r_this)\n",
    "    if is_lb\n",
    "        @objective(model, Min, r0 + r' * X)\n",
    "    else\n",
    "        @objective(model, Max, r0 + r' * X)\n",
    "    end\n",
    "    optimize!(model)\n",
    "    status = JuMP.termination_status(model)\n",
    "    obj_val = objective_value(model)\n",
    "    X_val = round.(value.(X))\n",
    "    return obj_val,X_val\n",
    "end"
   ]
  },
  {
   "cell_type": "code",
   "execution_count": 11,
   "id": "e424e92c",
   "metadata": {},
   "outputs": [
    {
     "ename": "UndefVarError",
     "evalue": "UndefVarError: `get_input_data_ins` not defined in `Main`\nSuggestion: check for spelling errors or missing imports.",
     "output_type": "error",
     "traceback": [
      "UndefVarError: `get_input_data_ins` not defined in `Main`\n",
      "Suggestion: check for spelling errors or missing imports.\n",
      "\n",
      "Stacktrace:\n",
      " [1] top-level scope\n",
      "   @ ~/Dropbox/Research/Robust_Exp/Code_Macbook/Robust_Exp/Product_Line_Design/jl_notebook_cell_df34fa98e69747e1a8f8a730347b8e2f_X23sZmlsZQ==.jl:5"
     ]
    }
   ],
   "source": [
    "dual_norm = 2\n",
    "Result_RO_Dict = Dict();\n",
    "for ins in 1:instances\n",
    "    data_dir_ins = string(data_dir, \"instance=$ins/\")\n",
    "    r0,r,alp0_true,alp_true,beta_true,A_true,Z_test = get_input_data_ins(Input_Data,ins)\n",
    "    Estimate_Dict = Input_Data[\"Estimate_ins=$ins\"]\n",
    "    lambda_len = length(lambda_list)\n",
    "    gamma_len = length(gamma_list)\n",
    "    for l_index in 1:lambda_len\n",
    "        lambda = lambda_list[l_index]\n",
    "        nu0 = Estimate_Dict[\"nu0_lambda=$lambda\"]\n",
    "        nu = Estimate_Dict[\"nu_lambda=$lambda\"]\n",
    "\n",
    "        for g_index in 1:gamma_len\n",
    "            gamma = gamma_list[g_index]\n",
    "            obj_RO_list = zeros(S_test);\n",
    "            x_RO_list = zeros(S_test,N,N_x);\n",
    "            time_RO_list = zeros(S_test);\n",
    "            profit_RO_list = zeros(S_test);\n",
    "            for i in 1:S_test\n",
    "                z_input = Z_test[i,:];                \n",
    "                r_lb,x_lb = calculate_phi_bounds(N_x,r0,r,c_l,d_r[1],true)\n",
    "                r_ub,x_ub = calculate_phi_bounds(N_x,r0,r,c_l,d_r[1],false);\n",
    "                phi_lb_cal = r_lb - r_ub\n",
    "                psi_lb = -10 * ones(N)\n",
    "                psi_ub = 0 * ones(N)\n",
    "                phi_lb = -10 * ones(N)\n",
    "                phi_ub = 0 * ones(N)\n",
    "\n",
    "                obj_RO_list[i], x_RO_list[i,:,:], time_RO_list[i],status = RO_PLD(N,N_x,nu0,nu,r0,r,c_l,d_r,rev_gap,psi_lb,psi_ub,phi_lb,phi_ub,gamma,dual_norm,num_c,Time_Limit)\n",
    "                profit_RO_list[i] = calculate_profit(alp0_true, alp_true, beta_true, A_true, r0, r, x_RO_list[i,:,:], z_input)\n",
    "                # if i % 20 == 1\n",
    "                #     println(\"RO: lambda=$lambda,gamma=$gamma, i=$i, obj=$(round(obj_RO_list[i], digits=4)), profit=$(round(profit_RO_list[i], digits=4)),x=$(round.(x_RO_list[i,:], digits=4)), time=$(round(time_RO_list[i],digits=4))\")\n",
    "                # end\n",
    "            end\n",
    "            Result_RO_Dict[\"obj_ins=$(ins)_lambda=$(lambda)_gamma=$gamma\"] = obj_RO_list\n",
    "            Result_RO_Dict[\"sol_ins=$(ins)_lambda=$(lambda)_gamma=$gamma\"] = x_RO_list\n",
    "            Result_RO_Dict[\"time_ins=$(ins)_lambda=$(lambda)_gamma=$gamma\"] = time_RO_list\n",
    "            Result_RO_Dict[\"profit_ins=$(ins)_lambda=$(lambda)_gamma=$gamma\"] = profit_RO_list\n",
    "        end\n",
    "    end\n",
    "    println(\"************ data_dir_ins: \", data_dir_ins,\"*************\")\n",
    "end\n",
    "save(string(data_dir,\"Result_RO.jld2\"),Result_RO_Dict) "
   ]
  },
  {
   "cell_type": "markdown",
   "id": "38244b35",
   "metadata": {},
   "source": [
    "#### Results"
   ]
  },
  {
   "cell_type": "code",
   "execution_count": 12,
   "id": "2c419804",
   "metadata": {},
   "outputs": [
    {
     "ename": "ArgumentError",
     "evalue": "ArgumentError: No file exists at given path: /Users/zhangxun/Dropbox/Research/Robust_Exp/Data/Product_Line_Design/N=2_N_x=12_N_u=5_S_train=100_N_nonzero=5/Result_True.jld2",
     "output_type": "error",
     "traceback": [
      "ArgumentError: No file exists at given path: /Users/zhangxun/Dropbox/Research/Robust_Exp/Data/Product_Line_Design/N=2_N_x=12_N_u=5_S_train=100_N_nonzero=5/Result_True.jld2\n",
      "\n",
      "Stacktrace:\n",
      " [1] checkpath_load(file::String)\n",
      "   @ FileIO ~/.julia/packages/FileIO/ePyCW/src/loadsave.jl:167\n",
      " [2] load(::String; options::@Kwargs{})\n",
      "   @ FileIO ~/.julia/packages/FileIO/ePyCW/src/loadsave.jl:110\n",
      " [3] load(::String)\n",
      "   @ FileIO ~/.julia/packages/FileIO/ePyCW/src/loadsave.jl:109\n",
      " [4] top-level scope\n",
      "   @ ~/Dropbox/Research/Robust_Exp/Code_Macbook/Robust_Exp/Product_Line_Design/jl_notebook_cell_df34fa98e69747e1a8f8a730347b8e2f_X25sZmlsZQ==.jl:1"
     ]
    }
   ],
   "source": [
    "Result_True_Dict = load(string(data_dir,\"Result_True.jld2\"));\n",
    "Result_ETO_Dict = load(string(data_dir,\"Result_ETO.jld2\"));\n",
    "# Result_RO_Dict = load(string(data_dir,\"Result_RO.jld2\"));"
   ]
  },
  {
   "cell_type": "code",
   "execution_count": 13,
   "id": "2aac7ae6",
   "metadata": {},
   "outputs": [],
   "source": [
    "# for k in keys(Result_RO_Dict)\n",
    "#     if occursin(\"profit_ins=99\", k)\n",
    "#         println(k)\n",
    "#     end\n",
    "# end"
   ]
  },
  {
   "cell_type": "code",
   "execution_count": 14,
   "id": "34e2d4db",
   "metadata": {},
   "outputs": [],
   "source": [
    "# obj_True_avg = zeros(instances);\n",
    "# obj_ETO_avg = zeros(instances, length(lambda_list));\n",
    "# obj_RO_avg = zeros(instances, length(lambda_list), length(gamma_list));\n",
    "# for ins in 1:instances\n",
    "#     obj_True_avg[ins] = mean(Result_True_Dict[\"obj_ins=$ins\"])\n",
    "#     for l_index in 1:length(lambda_list)\n",
    "#         lambda = lambda_list[l_index]\n",
    "#         obj_ETO_avg[ins,l_index] = mean(Result_ETO_Dict[\"obj_ins=$(ins)_lambda=$lambda\"])\n",
    "#         for g_index in 1:length(gamma_list)\n",
    "#             gamma = gamma_list[g_index]\n",
    "#             obj_RO_avg[ins,l_index,g_index] = mean(Result_RO_Dict[\"obj_ins=$(ins)_lambda=$(lambda)_gamma=$gamma\"])\n",
    "#             # println(\"ins=$ins, lambda=$lambda, gamma=$gamma, profit_True_avg=$(round(profit_True_avg,digits=4)), profit_ETO_avg=$(round(profit_ETO_avg,digits=4)), profit_RO_avg=$(round(profit_RO_avg,digits=4))\")\n",
    "#         end\n",
    "#     end\n",
    "# end"
   ]
  },
  {
   "cell_type": "code",
   "execution_count": 15,
   "id": "0b8be368",
   "metadata": {},
   "outputs": [],
   "source": [
    "# println(\"obj_ETO:\",round.(obj_ETO_avg[:,1],digits=2))\n",
    "# println(\"obj_RO:\",round.(obj_RO_avg[:,1,1],digits=2))\n",
    "# println(\"obj_ETO avg:\",mean(obj_ETO_avg[:,1]))\n",
    "# println(\"obj_RO avg:\",mean(obj_RO_avg[:,1,1]))"
   ]
  },
  {
   "cell_type": "code",
   "execution_count": 16,
   "id": "386a40f1",
   "metadata": {},
   "outputs": [
    {
     "ename": "KeyError",
     "evalue": "KeyError: key \"profit_ins=1\" not found",
     "output_type": "error",
     "traceback": [
      "KeyError: key \"profit_ins=1\" not found\n",
      "\n",
      "Stacktrace:\n",
      " [1] getindex(h::Dict{Any, Any}, key::String)\n",
      "   @ Base ./dict.jl:477\n",
      " [2] top-level scope\n",
      "   @ ~/Dropbox/Research/Robust_Exp/Code_Macbook/Robust_Exp/Product_Line_Design/jl_notebook_cell_df34fa98e69747e1a8f8a730347b8e2f_X32sZmlsZQ==.jl:5"
     ]
    }
   ],
   "source": [
    "profit_True_avg = zeros(instances);\n",
    "profit_ETO_avg = zeros(instances, length(lambda_list));\n",
    "profit_RO_avg = zeros(instances, length(lambda_list), length(gamma_list));\n",
    "for ins in 1:instances\n",
    "    profit_True_avg[ins] = mean(Result_True_Dict[\"profit_ins=$ins\"])\n",
    "    for l_index in 1:length(lambda_list)\n",
    "        lambda = lambda_list[l_index]\n",
    "        profit_ETO_avg[ins,l_index] = mean(Result_ETO_Dict[\"profit_ins=$(ins)_lambda=$lambda\"])\n",
    "        # for g_index in 1:length(gamma_list)\n",
    "        #     gamma = gamma_list[g_index]\n",
    "        #     profit_RO_avg[ins,l_index,g_index] = mean(Result_RO_Dict[\"profit_ins=$(ins)_lambda=$(lambda)_gamma=$gamma\"])\n",
    "        #     # println(\"ins=$ins, lambda=$lambda, gamma=$gamma, profit_True_avg=$(round(profit_True_avg,digits=4)), profit_ETO_avg=$(round(profit_ETO_avg,digits=4)), profit_RO_avg=$(round(profit_RO_avg,digits=4))\")\n",
    "        # end\n",
    "    end\n",
    "end"
   ]
  },
  {
   "cell_type": "code",
   "execution_count": 17,
   "id": "539fa1e3",
   "metadata": {},
   "outputs": [
    {
     "name": "stdout",
     "output_type": "stream",
     "text": [
      "profit_ETO/profit_True = NaN\n"
     ]
    }
   ],
   "source": [
    "println(\"profit_ETO/profit_True = \",mean(profit_ETO_avg[:,1])/mean(profit_True_avg))\n",
    "# println(\"profit_ETO:\",round.(profit_ETO_avg[:,1],digits=2))\n",
    "# println(\"profit_RO:\",round.(profit_RO_avg[:,1,1],digits=2))"
   ]
  },
  {
   "cell_type": "markdown",
   "id": "b82e94f7",
   "metadata": {},
   "source": [
    "##### Line plot "
   ]
  },
  {
   "cell_type": "code",
   "execution_count": 18,
   "id": "5d280ad9",
   "metadata": {},
   "outputs": [],
   "source": [
    "# l_index = 1\n",
    "# RO_ETO_Ratio_Mean = zeros(length(gamma_list))\n",
    "# RO_ETO_Ratio_Std = zeros(length(gamma_list))\n",
    "# for g_index in 1:length(gamma_list)\n",
    "#     gamma = gamma_list[g_index]\n",
    "#     RO_ETO_Ratio_Mean[g_index] = mean(profit_RO_avg[:,l_index,g_index])/mean(profit_ETO_avg[:,l_index])\n",
    "#     RO_ETO_Ratio_Std[g_index] = std(profit_RO_avg[:,l_index,g_index])/std(profit_ETO_avg[:,l_index])\n",
    "#     println(\"gamma=$gamma,Mean =\",RO_ETO_Ratio_Mean[g_index],\", Std =\",RO_ETO_Ratio_Std[g_index])\n",
    "# end"
   ]
  },
  {
   "cell_type": "code",
   "execution_count": 19,
   "id": "c25064ff",
   "metadata": {},
   "outputs": [],
   "source": [
    "# end_index = length(gamma_list)\n",
    "# plot(gamma_list[1:end_index], RO_ETO_Ratio_Mean[1:end_index], marker=:o, xlabel=L\"\\gamma\", label=\"Average Profit\", xticks=(gamma_list[1:end_index], string.(gamma_list[1:end_index])))\n",
    "# plot!(gamma_list[1:end_index], RO_ETO_Ratio_Std[1:end_index], marker=:o, xlabel=L\"\\gamma\", ylabel=\"RPD/ETOPD\", label=\"Std of Profit\")\n",
    "# hline!([1.0], linestyle=:dash, color=:red, label=\"\")\n",
    "# # savefig(string(data_dir, \"RPD_vs_ETOPD.pdf\"))"
   ]
  },
  {
   "cell_type": "markdown",
   "id": "09d67d7f",
   "metadata": {},
   "source": [
    "##### Boxplot"
   ]
  },
  {
   "cell_type": "code",
   "execution_count": 20,
   "id": "073b327d",
   "metadata": {},
   "outputs": [],
   "source": [
    "# Profit_ETO_All_Ins = profit_ETO_avg[:,1];\n",
    "# Profit_RO_All_Ins = Dict();\n",
    "# for g_index in 1:length(gamma_list)\n",
    "#     gamma=gamma_list[g_index]\n",
    "#     Profit_RO_All_Ins[\"gamma=$(gamma)\"] = profit_RO_avg[:,1,g_index]\n",
    "# end"
   ]
  },
  {
   "cell_type": "code",
   "execution_count": 21,
   "id": "04b1962a",
   "metadata": {},
   "outputs": [],
   "source": [
    "# gamma_chosen = gamma_list[1:5]\n",
    "# data = [Profit_ETO_All_Ins, [Profit_RO_All_Ins[\"gamma=$(gamma)\"] for gamma in gamma_chosen]...]\n",
    "# labels = [\"ETO\"; [\"RO($gamma)\" for gamma in gamma_chosen]]\n",
    "# # --- 1) 展开成长表 ---\n",
    "# df = DataFrame(\n",
    "#     value = vcat(data...),\n",
    "#     group = repeat(labels, inner = length(data[1]))\n",
    "# )\n",
    "\n",
    "# mycolors = palette(:tab10)[1:length(labels)]   # tab10 最多10个颜色\n",
    "\n",
    "# # --- 3) 绘制箱线图 ---\n",
    "# @df df boxplot(:group, :value;\n",
    "#     group = :group,\n",
    "#     palette = mycolors,\n",
    "#     legend = false,\n",
    "#     ylabel = \"Revenue\",\n",
    "#     # title = \"Revenue Distribution\"\n",
    "# )\n",
    "\n",
    "# # --- 4) 计算均值 ---\n",
    "# means = combine(groupby(df, :group), :value => mean => :mean_val)\n",
    "\n",
    "# for i in 1:length(labels)\n",
    "#     scatter!([labels[i]], [means.mean_val[i]];\n",
    "#         color = :red,\n",
    "#         marker = (:star, 10),\n",
    "#         label = \"\")\n",
    "# end\n",
    "\n",
    "# # # --- 6) 绘制均值连线（这里必须把类别转为数值 1:N） ---\n",
    "# plot!(labels, means.mean_val;\n",
    "#     seriestype = :line,\n",
    "#     color = :red,\n",
    "#     lw = 2,\n",
    "#     ls = :dash,\n",
    "#     label = \"Mean trend\"\n",
    "# )"
   ]
  }
 ],
 "metadata": {
  "kernelspec": {
   "display_name": "Julia 1.11.7",
   "language": "julia",
   "name": "julia-1.11"
  },
  "language_info": {
   "file_extension": ".jl",
   "mimetype": "application/julia",
   "name": "julia",
   "version": "1.11.7"
  }
 },
 "nbformat": 4,
 "nbformat_minor": 5
}
