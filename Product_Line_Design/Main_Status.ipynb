{
 "cells": [
  {
   "cell_type": "code",
   "execution_count": null,
   "id": "efb07b62",
   "metadata": {},
   "outputs": [],
   "source": [
    "using LinearAlgebra\n",
    "using Distributions\n",
    "using Optim\n",
    "using Random\n",
    "using StatsFuns\n",
    "using JuMP\n",
    "using MosekTools\n",
    "using StatsBase\n",
    "using SparseArrays # 可选，用于处理稀疏性（如果数据量很大）\n",
    "using FileIO\n",
    "using JLD2\n",
    "using Plots\n",
    "using LaTeXStrings\n",
    "using DataFrames, Colors\n",
    "using StatsPlots   # 提供 boxplot，基于 Plots\n",
    "\n",
    "include(\"Params_PLD.jl\")\n",
    "include(\"Data_Generation_PLD.jl\")\n",
    "include(\"Estimation_PLD.jl\")\n",
    "include(\"Estimation_PLD_Fast.jl\")\n",
    "include(\"Models_PLD.jl\")\n",
    "include(\"Evaluation_PLD.jl\")\n",
    "include(\"Implement_All_Methods_PLD.jl\")"
   ]
  },
  {
   "cell_type": "code",
   "execution_count": null,
   "id": "24ca7a74",
   "metadata": {},
   "outputs": [],
   "source": [
    "Params = get_default_params_PLD()\n",
    "N = Params[\"N\"]\n",
    "N_x = Params[\"N_x\"]\n",
    "c_l = Params[\"c_l\"]\n",
    "d_r = Params[\"d_r\"]\n",
    "rev_gap = Params[\"rev_gap\"]\n",
    "N_u = Params[\"N_u\"]\n",
    "S_train = Params[\"S_train\"]\n",
    "S_test = Params[\"S_test\"]\n",
    "m = Params[\"m\"]\n",
    "N_nonzero = Params[\"N_nonzero\"]\n",
    "Time_Limit = Params[\"Time_Limit\"]\n",
    "dual_norm = Params[\"dual_norm\"]\n",
    "gamma_list = Params[\"gamma_list\"]\n",
    "psi_lb = Params[\"psi_lb\"]\n",
    "psi_ub = Params[\"psi_ub\"]\n",
    "phi_lb = Params[\"phi_lb\"]\n",
    "phi_ub = Params[\"phi_ub\"]\n",
    "num_c = Params[\"num_c\"]\n",
    "instances = Params[\"instances\"]\n",
    "seed = Params[\"seed\"]\n",
    "coef_this = Params[\"coef_this\"]\n",
    "coef_Wang_Qi_Shen = Params[\"coef_Wang_Qi_Shen\"]"
   ]
  },
  {
   "cell_type": "code",
   "execution_count": null,
   "id": "4e5b1e80",
   "metadata": {},
   "outputs": [],
   "source": [
    "Random.seed!(seed)\n",
    "is_Wang_Qi_Shen = false;\n",
    "is_same_util_para = true;\n",
    "if is_Wang_Qi_Shen\n",
    "    coef_para_Input = coef_Wang_Qi_Shen;\n",
    "    project_dir = \"Wang_Qi_Shen_N=$(N)_N_x=$(N_x)_N_u=$(N_u)_S_train=$(S_train)_N_nonzero=$(N_nonzero)_dr=$(d_r[1])_seed=$(seed)\"\n",
    "else\n",
    "    coef_para_Input = coef_this;\n",
    "    project_dir = \"N=$(N)_N_x=$(N_x)_N_u=$(N_u)_S_train=$(S_train)_N_nonzero=$(N_nonzero)_dr=$(d_r[1])_seed=$(seed)\"\n",
    "end\n",
    "if is_same_util_para\n",
    "    println(\"Generate data with the same utility parameters for all instances.\")\n",
    "    theta_true_Fixed, r_params_Fixed = Generate_Wang_Qi_Max_True_Paras(N_x,N_u,N_nonzero,coef_para_Input);\n",
    "    project_dir = string(project_dir, \"_Same_Util_Para/\")\n",
    "end\n",
    "current_dir = pwd()\n",
    "parent_dir = dirname(current_dir)\n",
    "grand_pa_dir = dirname(parent_dir)\n",
    "data_dir = string(dirname(grand_pa_dir), \"/Data/Product_Line_Design/\")\n",
    "data_dir = string(data_dir,project_dir)\n",
    "if !isdir(data_dir)\n",
    "    mkpath(data_dir)\n",
    "end\n",
    "println(\"Data directory: \", data_dir)\n",
    "save(string(data_dir, \"Params.jld2\"), Params);"
   ]
  },
  {
   "cell_type": "code",
   "execution_count": null,
   "id": "8f29673d",
   "metadata": {},
   "outputs": [],
   "source": [
    "function compute_w(params,z_input)\n",
    "    alpha0 = params.alpha0\n",
    "    alpha = params.alpha\n",
    "    beta = params.beta\n",
    "    A = params.A\n",
    "    nu0 = alpha0 + beta' * z_input;\n",
    "    nu = alpha .+ A * z_input;\n",
    "    return nu0,nu\n",
    "end"
   ]
  },
  {
   "cell_type": "markdown",
   "id": "befb93c1",
   "metadata": {},
   "source": [
    "### Lambda = 0.01"
   ]
  },
  {
   "cell_type": "code",
   "execution_count": null,
   "id": "887908fa",
   "metadata": {},
   "outputs": [],
   "source": [
    "lambda = 0.01\n",
    "Input_Data = Dict()\n",
    "RST_True_All = Dict()\n",
    "RST_ETO_All = Dict()\n",
    "RST_RO_All = Dict()\n",
    "ins = 1\n",
    "while ins <= instances\n",
    "    if is_same_util_para\n",
    "        Input_Data_this = Generate_Data_this_Same_Para(N_x,N_u,N_nonzero,S_train,S_test,m,coef_para_Input,theta_true_Fixed, r_params_Fixed)\n",
    "    else\n",
    "        Input_Data_this = Generate_Data_this(N_x,N_u,N_nonzero,S_train,S_test,m,coef_para_Input)\n",
    "    end\n",
    "    theta_true,r_params,X_train,Y_train,Z_train,X_test,Y_test,Z_test = Get_Input_Data(Input_Data_this)\n",
    "    Input_Data[\"ins=$(ins)\"] = Input_Data_this\n",
    "    nu0_true,nu_true = compute_w(theta_true,Z_test[1,:])  \n",
    "    nu_all_true = [nu0_true;nu_true]\n",
    "\n",
    "    theta_Input = theta_true\n",
    "    RST_True,status_True = solve_ETO_This(S_test,N,N_x,theta_Input,theta_true,r_params,c_l,d_r,rev_gap,num_c,Time_Limit,Z_test)\n",
    "    # println(\"Oracle: status = \",status_True,\",obj=\",RST_True[\"obj\"][1])\n",
    "    if status_True != \"OPTIMAL\"\n",
    "        println(\"Warning: The true model did not reach optimality\")\n",
    "        continue\n",
    "    end\n",
    "    RST_True_All[\"ins=$(ins)\"] = RST_True\n",
    "\n",
    "    theta_hat = Estimation_This(lambda,X_train,Y_train,Z_train,N_x,N_u)\n",
    "    nu0_hat,nu_hat = compute_w(theta_hat,Z_test[1,:])  \n",
    "    nu_all_hat = [nu0_hat;nu_hat]\n",
    "    if any(isnan, nu_all_hat) || norm(vec(nu_all_true .- nu_all_hat),2) >= 10\n",
    "        println(\"Estimate contains NaN values or is too far from true parameters.\")\n",
    "        continue\n",
    "    end\n",
    "\n",
    "    RST_ETO,status_ETO = solve_ETO_This(S_test,N,N_x,theta_hat,theta_true,r_params,c_l,d_r,rev_gap,num_c,Time_Limit,Z_test)\n",
    "    # println(\"ETO: status = \",status_ETO,\",obj=\",RST_ETO[\"obj\"][1])\n",
    "    if status_ETO != \"OPTIMAL\"\n",
    "        println(\"Warning: The ETO model did not reach optimality\")\n",
    "        continue\n",
    "    end\n",
    "    RST_ETO_All[\"ins=$(ins)\"] = RST_ETO\n",
    "    \n",
    "    RST_RO_this = Dict()\n",
    "    gamma = gamma_list[1]\n",
    "    RST_RO,status_RO = solve_RO_this(S_test,N,N_x,theta_hat,theta_true,r_params,c_l,d_r,rev_gap,num_c,Time_Limit,Z_test,gamma,psi_lb,psi_ub,phi_lb,phi_ub)\n",
    "    # println(\"gamma = $gamma, RO: status = \",status_RO,\",obj=\",RST_RO[\"obj\"][1])\n",
    "    if status_RO != \"OPTIMAL\"\n",
    "        println(\"Warning: The ETO model did not reach optimality\")\n",
    "        continue\n",
    "    end\n",
    "    if abs(RST_RO[\"profit\"][1] - RST_ETO[\"profit\"][1]) > 1e-4\n",
    "        println(\"Warning: The RO profit is not equivalent to ETO profit\")\n",
    "        continue\n",
    "    end\n",
    "    RST_RO_this[string(\"gamma=\",gamma)] = RST_RO\n",
    "\n",
    "    for g_index in 2:length(gamma_list)\n",
    "        gamma = gamma_list[g_index]\n",
    "        RST_RO,status_RO = solve_RO_this(S_test,N,N_x,theta_hat,theta_true,r_params,c_l,d_r,rev_gap,num_c,Time_Limit,Z_test,gamma,psi_lb,psi_ub,phi_lb,phi_ub)\n",
    "        # println(\"gamma = $gamma, RO: status = \",status_RO,\",obj=\",RST_RO[\"obj\"][1])\n",
    "        RST_RO_this[string(\"gamma=\",gamma)] = RST_RO\n",
    "    end\n",
    "    RST_RO_All[\"ins=$(ins)\"] = RST_RO_this\n",
    "    println(\"******* ins = \",ins,\"*********\")\n",
    "    ins = ins + 1\n",
    "end\n",
    "save(string(data_dir, \"Input_Data_lambda=$(lambda).jld2\"), Input_Data);\n",
    "save(string(data_dir, \"RST_True_lambda=$(lambda).jld2\"), RST_True_All);\n",
    "save(string(data_dir, \"RST_ETO_lambda=$(lambda).jld2\"), RST_ETO_All);\n",
    "save(string(data_dir, \"RST_RO_lambda=$(lambda).jld2\"), RST_RO_All);"
   ]
  },
  {
   "cell_type": "code",
   "execution_count": null,
   "id": "3e3387e4",
   "metadata": {},
   "outputs": [],
   "source": [
    "profit_True = zeros(instances);\n",
    "profit_ETO = zeros(instances);\n",
    "profit_RO = zeros(instances, length(gamma_list));\n",
    "for ins in 1:instances\n",
    "    profit_True[ins] = mean(RST_True_All[\"ins=$(ins)\"][\"profit\"])\n",
    "    profit_ETO[ins] = mean(RST_ETO_All[\"ins=$(ins)\"][\"profit\"])\n",
    "end\n",
    "println(\"True profit: mean = \", mean(profit_True), \", std = \", std(profit_True))\n",
    "println(\"ETO profit: mean = \", mean(profit_ETO), \", std = \", std(profit_ETO))"
   ]
  },
  {
   "cell_type": "markdown",
   "id": "38244b35",
   "metadata": {},
   "source": [
    "- Results"
   ]
  },
  {
   "cell_type": "code",
   "execution_count": null,
   "id": "44711d02",
   "metadata": {},
   "outputs": [],
   "source": [
    "lambda = 0.01\n",
    "Input_Data = load(string(data_dir, \"Input_Data_lambda=$(lambda).jld2\"));\n",
    "RST_True_All = load(string(data_dir, \"RST_True_lambda=$(lambda).jld2\"));\n",
    "RST_ETO_All = load(string(data_dir, \"RST_ETO_lambda=$(lambda).jld2\"));\n",
    "RST_RO_All = load(string(data_dir, \"RST_RO_lambda=$(lambda).jld2\"));"
   ]
  },
  {
   "cell_type": "code",
   "execution_count": null,
   "id": "41a667cb",
   "metadata": {},
   "outputs": [],
   "source": [
    "profit_True, profit_ETO, profit_RO = obtain_profits(RST_True_All, RST_ETO_All, RST_RO_All, instances, gamma_list);\n",
    "println(\"profit True:\",round.(mean(profit_True),digits=4))\n",
    "println(\"profit ETO:\",round.(mean(profit_ETO),digits=4))\n",
    "println(\"profit RO:\",round.(mean(profit_RO,dims=1),digits=4))"
   ]
  },
  {
   "cell_type": "markdown",
   "id": "b82e94f7",
   "metadata": {},
   "source": [
    "- Line plot "
   ]
  },
  {
   "cell_type": "code",
   "execution_count": null,
   "id": "5d280ad9",
   "metadata": {},
   "outputs": [],
   "source": [
    "# RO_ETO_Ratio_Mean = (mean(profit_RO,dims=1)/mean(profit_ETO))[1,:];\n",
    "# RO_ETO_Ratio_Std = (std(profit_RO,dims=1)/std(profit_ETO))[1,:];\n",
    "\n",
    "# end_index = length(gamma_list)\n",
    "# plot(gamma_list[1:end_index], RO_ETO_Ratio_Mean[1:end_index], marker=:o, xlabel=L\"\\gamma\", label=\"Average Profit\", xticks=(gamma_list[1:end_index], string.(gamma_list[1:end_index])))\n",
    "# plot!(gamma_list[1:end_index], RO_ETO_Ratio_Std[1:end_index], marker=:o, xlabel=L\"\\gamma\", ylabel=\"RPD/ETOPD\", label=\"Std of Profit\")\n",
    "# hline!([1.0], linestyle=:dash, color=:red, label=\"\")\n",
    "# display(current())\n",
    "# savefig(string(data_dir, \"RPLD_vs_ETOPLD_lambda=$lambda.pdf\"))"
   ]
  },
  {
   "cell_type": "code",
   "execution_count": null,
   "id": "54871b85",
   "metadata": {},
   "outputs": [],
   "source": [
    "# RO_ETO_Ratio_Mean = (mean(profit_RO,dims=1)/mean(profit_ETO))[1,:];\n",
    "# RO_ETO_Ratio_Std = (std(profit_RO,dims=1)/std(profit_ETO))[1,:];\n",
    "\n",
    "# end_index = length(gamma_list)\n",
    "# xvals = gamma_list[1:end_index]\n",
    "\n",
    "# # 计算25%和75%分位点\n",
    "# RO_ETO_Ratio_Q25 = [quantile(profit_RO[:,i] ./ profit_ETO, 0.25) for i in 1:end_index]\n",
    "# RO_ETO_Ratio_Q75 = [quantile(profit_RO[:,i] ./ profit_ETO, 0.75) for i in 1:end_index]\n",
    "\n",
    "# plot(xvals, RO_ETO_Ratio_Mean[1:end_index], marker=:o, xlabel=L\"\\gamma\", label=\"Average Profit\", xticks=(xvals, string.(xvals)))\n",
    "# plot!(xvals, RO_ETO_Ratio_Std[1:end_index], marker=:o, xlabel=L\"\\gamma\", ylabel=\"RPD/ETOPD\", label=\"Std of Profit\")\n",
    "# plot!(xvals, RO_ETO_Ratio_Q25, marker=:diamond, linestyle=:dash, color=:green, label=\"25% Quantile\")\n",
    "# plot!(xvals, RO_ETO_Ratio_Q75, marker=:diamond, linestyle=:dash, color=:orange, label=\"75% Quantile\")\n",
    "# hline!([1.0], linestyle=:dash, color=:red, label=\"\")\n",
    "# display(current())\n",
    "# # savefig(string(data_dir, \"RPLD_vs_ETOPLD_lambda=$lambda.pdf\"))"
   ]
  },
  {
   "cell_type": "code",
   "execution_count": null,
   "id": "3d2989f9",
   "metadata": {},
   "outputs": [],
   "source": [
    "# RO_ETO_Ratio_Mean = (mean(profit_RO,dims=1)/mean(profit_ETO))[1,:];\n",
    "# RO_ETO_Ratio_Std = (std(profit_RO,dims=1)/std(profit_ETO))[1,:];\n",
    "\n",
    "# end_index = length(gamma_list)\n",
    "# xvals = gamma_list[1:end_index]\n",
    "\n",
    "# # 计算25%和75%分位点\n",
    "# RO_ETO_Ratio_Q25 = [quantile(profit_RO[:,i] ./ profit_ETO, 0.25) for i in 1:end_index]\n",
    "# RO_ETO_Ratio_Q75 = [quantile(profit_RO[:,i] ./ profit_ETO, 0.75) for i in 1:end_index]\n",
    "\n",
    "# plot(xvals, RO_ETO_Ratio_Mean[1:end_index], marker=:o, xlabel=L\"\\gamma\", label=\"Average Profit\",color=:gray, xticks=(xvals, string.(xvals)))\n",
    "# # plot!(xvals, RO_ETO_Ratio_Std[1:end_index], marker=:o, xlabel=L\"\\gamma\", ylabel=\"RPD/ETOPD\", label=\"Std of Profit\")\n",
    "# # 添加25%-75%分位点阴影\n",
    "# plot!(xvals, RO_ETO_Ratio_Q25, fillrange=RO_ETO_Ratio_Q75, fillalpha=0.2, color=:gray,label=\"\")\n",
    "# # plot!(xvals, RO_ETO_Ratio_Q25, marker=:diamond, linestyle=:dash, color=:green, label=\"25% Quantile\")\n",
    "# # plot!(xvals, RO_ETO_Ratio_Q75, marker=:diamond, linestyle=:dash, color=:orange, label=\"75% Quantile\")\n",
    "# hline!([1.0], linestyle=:dash, color=:red, label=\"\")\n",
    "# display(current())\n",
    "# # savefig(string(data_dir, \"RPLD_vs_ETOPLD_lambda=$lambda.pdf\"))"
   ]
  },
  {
   "cell_type": "markdown",
   "id": "09d67d7f",
   "metadata": {},
   "source": [
    "- Boxplot"
   ]
  },
  {
   "cell_type": "code",
   "execution_count": null,
   "id": "073b327d",
   "metadata": {},
   "outputs": [],
   "source": [
    "# Profit_ETO_All_Ins = profit_ETO./mean(profit_ETO);\n",
    "# Profit_RO_All_Ins = Dict();\n",
    "# for g_index in 1:length(gamma_list)\n",
    "#     gamma=gamma_list[g_index]\n",
    "#     Profit_RO_All_Ins[\"gamma=$(gamma)\"] = profit_RO[:,g_index]./mean(profit_ETO)\n",
    "# end"
   ]
  },
  {
   "cell_type": "code",
   "execution_count": null,
   "id": "04b1962a",
   "metadata": {},
   "outputs": [],
   "source": [
    "# chosen_indices = [1,3,6,9,10]\n",
    "# gamma_chosen = gamma_list[chosen_indices]\n",
    "# data = [Profit_ETO_All_Ins, [Profit_RO_All_Ins[\"gamma=$(gamma)\"] for gamma in gamma_chosen]...]\n",
    "# labels = [\"ETO\"; [\"RO($gamma)\" for gamma in gamma_chosen]]\n",
    "# # --- 1) 展开成长表 ---\n",
    "# df = DataFrame(\n",
    "#     value = vcat(data...),\n",
    "#     group = repeat(labels, inner = length(data[1]))\n",
    "# )\n",
    "\n",
    "# mycolors = palette(:tab10)[1:length(labels)]   # tab10 最多10个颜色\n",
    "\n",
    "# # --- 3) 绘制箱线图 ---\n",
    "# @df df boxplot(:group, :value;\n",
    "#     group = :group,\n",
    "#     palette = mycolors,\n",
    "#     legend = false,\n",
    "#     ylabel = \"Normalized Revenue\",\n",
    "#     # title = \"Revenue Distribution\"\n",
    "# )\n",
    "\n",
    "# # --- 4) 计算均值 ---\n",
    "# means = combine(groupby(df, :group), :value => mean => :mean_val)\n",
    "\n",
    "# for i in 1:length(labels)\n",
    "#     scatter!([labels[i]], [means.mean_val[i]];\n",
    "#         color = :red,\n",
    "#         marker = (:star, 10),\n",
    "#         label = \"\")\n",
    "# end\n",
    "\n",
    "# # # --- 6) 绘制均值连线（这里必须把类别转为数值 1:N） ---\n",
    "# plot!(labels, means.mean_val;\n",
    "#     seriestype = :line,\n",
    "#     color = :red,\n",
    "#     lw = 2,\n",
    "#     ls = :dash,\n",
    "#     label = \"Mean trend\"\n",
    "# )\n",
    "# display(current())\n",
    "# savefig(string(data_dir, \"RPLD_vs_ETOPLD_BoxPlot_lambda=$lambda.pdf\"))"
   ]
  },
  {
   "cell_type": "code",
   "execution_count": null,
   "id": "7fa08b78",
   "metadata": {},
   "outputs": [],
   "source": [
    "# histogram(profit_ETO, alpha=0.5, label=\"profit_ETO\", xlabel=\"Profit\", ylabel=\"Frequency\", legend=:topright, nbins=20)\n",
    "# histogram!(profit_RO[:,length(gamma_list)], alpha=0.5, label=\"profit_RO (max gamma)\", nbins=20)\n",
    "# display(current())\n",
    "# savefig(string(data_dir, \"RPLD_vs_ETOPLD_Distribution_lambda=$lambda.pdf\"))"
   ]
  },
  {
   "cell_type": "markdown",
   "id": "14435a5e",
   "metadata": {},
   "source": [
    "# Lambda = 0.0"
   ]
  },
  {
   "cell_type": "code",
   "execution_count": null,
   "id": "38234a60",
   "metadata": {},
   "outputs": [],
   "source": [
    "lambda = 0.0\n",
    "Input_Data = Dict()\n",
    "RST_True_All = Dict()\n",
    "RST_ETO_All = Dict()\n",
    "RST_RO_All = Dict()\n",
    "ins = 1\n",
    "while ins <= instances\n",
    "    if is_same_util_para\n",
    "        Input_Data_this = Generate_Data_this_Same_Para(N_x,N_u,N_nonzero,S_train,S_test,m,coef_para_Input,theta_true_Fixed, r_params_Fixed)\n",
    "    else\n",
    "        Input_Data_this = Generate_Data_this(N_x,N_u,N_nonzero,S_train,S_test,m,coef_para_Input)\n",
    "    end\n",
    "    theta_true,r_params,X_train,Y_train,Z_train,X_test,Y_test,Z_test = Get_Input_Data(Input_Data_this)\n",
    "    Input_Data[\"ins=$(ins)\"] = Input_Data_this\n",
    "    nu0_true,nu_true = compute_w(theta_true,Z_test[1,:])  \n",
    "    nu_all_true = [nu0_true;nu_true]\n",
    "\n",
    "    theta_Input = theta_true\n",
    "    RST_True,status_True = solve_ETO_This(S_test,N,N_x,theta_Input,theta_true,r_params,c_l,d_r,rev_gap,num_c,Time_Limit,Z_test)\n",
    "    # println(\"Oracle: status = \",status_True,\",obj=\",RST_True[\"obj\"][1])\n",
    "    if status_True != \"OPTIMAL\"\n",
    "        println(\"Warning: The true model did not reach optimality\")\n",
    "        continue\n",
    "    end\n",
    "    RST_True_All[\"ins=$(ins)\"] = RST_True\n",
    "\n",
    "    theta_hat = Estimation_This(lambda,X_train,Y_train,Z_train,N_x,N_u)\n",
    "    nu0_hat,nu_hat = compute_w(theta_hat,Z_test[1,:])  \n",
    "    nu_all_hat = [nu0_hat;nu_hat]\n",
    "    if any(isnan, nu_all_hat) || norm(vec(nu_all_true .- nu_all_hat),2) >= 10\n",
    "        println(\"Estimate contains NaN values or is too far from true parameters.\")\n",
    "        continue\n",
    "    end\n",
    "\n",
    "    RST_ETO,status_ETO = solve_ETO_This(S_test,N,N_x,theta_hat,theta_true,r_params,c_l,d_r,rev_gap,num_c,Time_Limit,Z_test)\n",
    "    # println(\"ETO: status = \",status_ETO,\",obj=\",RST_ETO[\"obj\"][1])\n",
    "    if status_ETO != \"OPTIMAL\"\n",
    "        println(\"Warning: The ETO model did not reach optimality\")\n",
    "        continue\n",
    "    end\n",
    "    RST_ETO_All[\"ins=$(ins)\"] = RST_ETO\n",
    "    \n",
    "    RST_RO_this = Dict()\n",
    "    gamma = gamma_list[1]\n",
    "    RST_RO,status_RO = solve_RO_this(S_test,N,N_x,theta_hat,theta_true,r_params,c_l,d_r,rev_gap,num_c,Time_Limit,Z_test,gamma,psi_lb,psi_ub,phi_lb,phi_ub)\n",
    "    # println(\"gamma = $gamma, RO: status = \",status_RO,\",obj=\",RST_RO[\"obj\"][1])\n",
    "    if status_RO != \"OPTIMAL\"\n",
    "        println(\"Warning: The ETO model did not reach optimality\")\n",
    "        continue\n",
    "    end\n",
    "    if abs(RST_RO[\"profit\"][1] - RST_ETO[\"profit\"][1]) > 1e-4\n",
    "        println(\"Warning: The RO profit is not equivalent to ETO profit\")\n",
    "        continue\n",
    "    end\n",
    "    RST_RO_this[string(\"gamma=\",gamma)] = RST_RO\n",
    "\n",
    "    for g_index in 2:length(gamma_list)\n",
    "        gamma = gamma_list[g_index]\n",
    "        RST_RO,status_RO = solve_RO_this(S_test,N,N_x,theta_hat,theta_true,r_params,c_l,d_r,rev_gap,num_c,Time_Limit,Z_test,gamma,psi_lb,psi_ub,phi_lb,phi_ub)\n",
    "        # println(\"gamma = $gamma, RO: status = \",status_RO,\",obj=\",RST_RO[\"obj\"][1])\n",
    "        RST_RO_this[string(\"gamma=\",gamma)] = RST_RO\n",
    "    end\n",
    "    RST_RO_All[\"ins=$(ins)\"] = RST_RO_this\n",
    "    println(\"******* ins = \",ins,\"*********\")\n",
    "    ins = ins + 1\n",
    "end\n",
    "save(string(data_dir, \"Input_Data_lambda=$(lambda).jld2\"), Input_Data);\n",
    "save(string(data_dir, \"RST_True_lambda=$(lambda).jld2\"), RST_True_All);\n",
    "save(string(data_dir, \"RST_ETO_lambda=$(lambda).jld2\"), RST_ETO_All);\n",
    "save(string(data_dir, \"RST_RO_lambda=$(lambda).jld2\"), RST_RO_All);"
   ]
  },
  {
   "cell_type": "code",
   "execution_count": null,
   "id": "18446703",
   "metadata": {},
   "outputs": [],
   "source": [
    "lambda = 0.0\n",
    "Input_Data = load(string(data_dir, \"Input_Data_lambda=$(lambda).jld2\"));\n",
    "RST_True_All = load(string(data_dir, \"RST_True_lambda=$(lambda).jld2\"));\n",
    "RST_ETO_All = load(string(data_dir, \"RST_ETO_lambda=$(lambda).jld2\"));\n",
    "RST_RO_All = load(string(data_dir, \"RST_RO_lambda=$(lambda).jld2\"));"
   ]
  },
  {
   "cell_type": "code",
   "execution_count": null,
   "id": "667f03f3",
   "metadata": {},
   "outputs": [],
   "source": [
    "profit_True, profit_ETO, profit_RO = obtain_profits(RST_True_All, RST_ETO_All, RST_RO_All, instances, gamma_list);\n",
    "println(\"profit True:\",round.(mean(profit_True),digits=4))\n",
    "println(\"profit ETO:\",round.(mean(profit_ETO),digits=4))\n",
    "println(\"profit RO:\",round.(mean(profit_RO,dims=1),digits=4))"
   ]
  },
  {
   "cell_type": "code",
   "execution_count": null,
   "id": "b34d9b4c",
   "metadata": {},
   "outputs": [],
   "source": [
    "# RO_ETO_Ratio_Mean = (mean(profit_RO,dims=1)/mean(profit_ETO))[1,:];\n",
    "# RO_ETO_Ratio_Std = (std(profit_RO,dims=1)/std(profit_ETO))[1,:];\n",
    "\n",
    "# end_index = length(gamma_list)\n",
    "# plot(gamma_list[1:end_index], RO_ETO_Ratio_Mean[1:end_index], marker=:o, xlabel=L\"\\gamma\", label=\"Average Profit\", xticks=(gamma_list[1:end_index], string.(gamma_list[1:end_index])))\n",
    "# plot!(gamma_list[1:end_index], RO_ETO_Ratio_Std[1:end_index], marker=:o, xlabel=L\"\\gamma\", ylabel=\"RPD/ETOPD\", label=\"Std of Profit\")\n",
    "# hline!([1.0], linestyle=:dash, color=:red, label=\"\")\n",
    "# display(current())\n",
    "# savefig(string(data_dir, \"RPLD_vs_ETOPLD_lambda=$lambda.pdf\"))"
   ]
  },
  {
   "cell_type": "code",
   "execution_count": null,
   "id": "b7be2447",
   "metadata": {},
   "outputs": [],
   "source": [
    "# Profit_ETO_All_Ins = profit_ETO./mean(profit_ETO);\n",
    "# Profit_RO_All_Ins = Dict();\n",
    "# for g_index in 1:length(gamma_list)\n",
    "#     gamma=gamma_list[g_index]\n",
    "#     Profit_RO_All_Ins[\"gamma=$(gamma)\"] = profit_RO[:,g_index]./mean(profit_ETO)\n",
    "# end"
   ]
  },
  {
   "cell_type": "code",
   "execution_count": null,
   "id": "311a7b94",
   "metadata": {},
   "outputs": [],
   "source": [
    "# chosen_indices = [1,3,6,9,10]\n",
    "# gamma_chosen = gamma_list[chosen_indices]\n",
    "# data = [Profit_ETO_All_Ins, [Profit_RO_All_Ins[\"gamma=$(gamma)\"] for gamma in gamma_chosen]...]\n",
    "# labels = [\"ETO\"; [\"RO($gamma)\" for gamma in gamma_chosen]]\n",
    "# # --- 1) 展开成长表 ---\n",
    "# df = DataFrame(\n",
    "#     value = vcat(data...),\n",
    "#     group = repeat(labels, inner = length(data[1]))\n",
    "# )\n",
    "\n",
    "# mycolors = palette(:tab10)[1:length(labels)]   # tab10 最多10个颜色\n",
    "\n",
    "# # --- 3) 绘制箱线图 ---\n",
    "# @df df boxplot(:group, :value;\n",
    "#     group = :group,\n",
    "#     palette = mycolors,\n",
    "#     legend = false,\n",
    "#     ylabel = \"Normalized Revenue\",\n",
    "#     # title = \"Revenue Distribution\"\n",
    "# )\n",
    "\n",
    "# # --- 4) 计算均值 ---\n",
    "# means = combine(groupby(df, :group), :value => mean => :mean_val)\n",
    "\n",
    "# for i in 1:length(labels)\n",
    "#     scatter!([labels[i]], [means.mean_val[i]];\n",
    "#         color = :red,\n",
    "#         marker = (:star, 10),\n",
    "#         label = \"\")\n",
    "# end\n",
    "\n",
    "# # # --- 6) 绘制均值连线（这里必须把类别转为数值 1:N） ---\n",
    "# plot!(labels, means.mean_val;\n",
    "#     seriestype = :line,\n",
    "#     color = :red,\n",
    "#     lw = 2,\n",
    "#     ls = :dash,\n",
    "#     label = \"Mean trend\"\n",
    "# )\n",
    "# display(current())\n",
    "# savefig(string(data_dir, \"RPLD_vs_ETOPLD_BoxPlot_lambda=$lambda.pdf\"))"
   ]
  },
  {
   "cell_type": "markdown",
   "id": "751b7564",
   "metadata": {},
   "source": [
    "#### Wang_Qi_Max"
   ]
  },
  {
   "cell_type": "code",
   "execution_count": null,
   "id": "830f6973",
   "metadata": {},
   "outputs": [],
   "source": [
    "# lambda = 0.01\n",
    "\n",
    "# Input_Data_this = Generate_Data_this(N_x,N_u,N_nonzero,S_train,S_test,m,coef_Wang_Qi_Shen)\n",
    "# theta_true,r_params,X_train,Y_train,Z_train,X_test,Y_test,Z_test = Get_Input_Data(Input_Data_this)\n",
    "\n",
    "# theta_Input = theta_true\n",
    "# RST_True,status_True = solve_ETO_This(S_test,N,N_x,theta_Input,theta_true,r_params,c_l,d_r,rev_gap,num_c,Time_Limit,Z_test)\n",
    "\n",
    "# theta_hat = Estimation_This(lambda,X_train,Y_train,Z_train,N_x,N_u)\n",
    "# RST_ETO,status_ETO = solve_ETO_This(S_test,N,N_x,theta_hat,theta_true,r_params,c_l,d_r,rev_gap,num_c,Time_Limit,Z_test)"
   ]
  },
  {
   "cell_type": "code",
   "execution_count": null,
   "id": "b7fb62e4",
   "metadata": {},
   "outputs": [],
   "source": [
    "# nu0_true, nu_true = compute_w(theta_true,Z_test[1,:])\n",
    "# nu0_hat, nu_hat = compute_w(theta_hat,Z_test[1,:])\n",
    "# println(\"W true = \", round.([nu0_true; nu_true],digits=4))\n",
    "# println(\"W hat  = \", round.([nu0_hat; nu_hat],digits=4))"
   ]
  },
  {
   "cell_type": "code",
   "execution_count": null,
   "id": "4bdb33c0",
   "metadata": {},
   "outputs": [],
   "source": [
    "# println(\"Price coef = \",round.(r_params.r,digits=4))"
   ]
  },
  {
   "cell_type": "code",
   "execution_count": null,
   "id": "1127e262",
   "metadata": {},
   "outputs": [],
   "source": [
    "# RST_True[\"X\"][1,:,:]"
   ]
  },
  {
   "cell_type": "code",
   "execution_count": null,
   "id": "681b4618",
   "metadata": {},
   "outputs": [],
   "source": [
    "# RST_ETO[\"X\"][1,:,:]"
   ]
  },
  {
   "cell_type": "code",
   "execution_count": null,
   "id": "b0fd4e1e",
   "metadata": {},
   "outputs": [],
   "source": [
    "# price_true = RST_True[\"X\"][1,:,:] * r_params.r\n",
    "# price_eto = RST_ETO[\"X\"][1,:,:] * r_params.r\n",
    "# println(\"True Price = \", round.(price_true,digits=4))\n",
    "# println(\"ETO  Price = \", round.(price_eto,digits=4))"
   ]
  },
  {
   "cell_type": "code",
   "execution_count": null,
   "id": "1e5c5b92",
   "metadata": {},
   "outputs": [],
   "source": [
    "# util_true = nu0_true .+ RST_True[\"X\"][1,:,:] * nu_true;\n",
    "# exp_util_true = exp.(util_true);\n",
    "# prob_util_true = exp_util_true ./ (1+sum(exp_util_true))"
   ]
  },
  {
   "cell_type": "code",
   "execution_count": null,
   "id": "9ac10366",
   "metadata": {},
   "outputs": [],
   "source": [
    "# util_hat = nu0_hat .+ RST_ETO[\"X\"][1,:,:] * nu_hat;\n",
    "# exp_util_hat = exp.(util_hat);\n",
    "# prob_util_hat = exp_util_hat ./ (1+sum(exp_util_hat))"
   ]
  },
  {
   "cell_type": "code",
   "execution_count": null,
   "id": "db296de6",
   "metadata": {},
   "outputs": [],
   "source": [
    "# println(\"True rev = \",prob_util_true' * price_true)\n",
    "# println(\"True rev = \",prob_util_hat' * price_eto)"
   ]
  }
 ],
 "metadata": {
  "kernelspec": {
   "display_name": "Julia 1.11.7",
   "language": "julia",
   "name": "julia-1.11"
  },
  "language_info": {
   "file_extension": ".jl",
   "mimetype": "application/julia",
   "name": "julia",
   "version": "1.11.7"
  }
 },
 "nbformat": 4,
 "nbformat_minor": 5
}
