{
 "cells": [
  {
   "cell_type": "code",
   "execution_count": 1,
   "id": "ea7846fb",
   "metadata": {},
   "outputs": [
    {
     "data": {
      "text/plain": [
       "compute_Profit (generic function with 1 method)"
      ]
     },
     "metadata": {},
     "output_type": "display_data"
    }
   ],
   "source": [
    "using LinearAlgebra\n",
    "using Distributions\n",
    "using Optim\n",
    "using Random\n",
    "using StatsFuns\n",
    "using JuMP\n",
    "using MosekTools\n",
    "using StatsBase\n",
    "using SparseArrays # 可选，用于处理稀疏性（如果数据量很大）\n",
    "using FileIO\n",
    "using JLD2\n",
    "using Plots\n",
    "using LaTeXStrings\n",
    "using DataFrames, Colors\n",
    "using StatsPlots   # 提供 boxplot，基于 Plots\n",
    "\n",
    "include(\"Data_Generation_PP.jl\")\n",
    "include(\"Estimation_PP.jl\")\n",
    "include(\"Models_PP.jl\")\n",
    "include(\"Evaluation_PP.jl\")"
   ]
  },
  {
   "cell_type": "markdown",
   "id": "bc1238ab",
   "metadata": {},
   "source": [
    "## Functions"
   ]
  },
  {
   "cell_type": "code",
   "execution_count": 2,
   "id": "83d6f208",
   "metadata": {},
   "outputs": [
    {
     "data": {
      "text/plain": [
       "set_Params (generic function with 1 method)"
      ]
     },
     "metadata": {},
     "output_type": "display_data"
    }
   ],
   "source": [
    "function set_Params(N, N_u, K, S_train, S_test, offdiag_sign, max_offdiag, P_bar, RO_coef_all, seed)\n",
    "    Params = Dict()\n",
    "    Params[\"N\"] = N\n",
    "    Params[\"N_u\"] = N_u\n",
    "    Params[\"K\"] = K\n",
    "    Params[\"S_train\"] = S_train\n",
    "    Params[\"S_test\"] = S_test\n",
    "    # Params[\"offdiag_sign\"] = offdiag_sign\n",
    "    # Params[\"max_offdiag\"] = max_offdiag\n",
    "    Params[\"P_bar\"] = P_bar\n",
    "    # Params[\"RO_coef_all\"] = RO_coef_all\n",
    "    Params[\"seed\"] = seed\n",
    "    return Params\n",
    "end"
   ]
  },
  {
   "cell_type": "markdown",
   "id": "9568927e",
   "metadata": {},
   "source": [
    "## Evaluate"
   ]
  },
  {
   "cell_type": "markdown",
   "id": "b6eef9dc",
   "metadata": {},
   "source": [
    "#### Baseline Parameters"
   ]
  },
  {
   "cell_type": "code",
   "execution_count": 3,
   "id": "f8321a1a",
   "metadata": {},
   "outputs": [
    {
     "data": {
      "text/plain": [
       "\"N=3_N_u=1_S_train=200/\""
      ]
     },
     "metadata": {},
     "output_type": "display_data"
    }
   ],
   "source": [
    "seed = 1;\n",
    "N = 3; # num of products\n",
    "N_u = 1; \n",
    "K = 20;\n",
    "P_dag = repeat(collect(range(0, 30, length=K))', N, 1);\n",
    "S_train = 200;\n",
    "S_test = 1000;\n",
    "P_bar = 30.0;\n",
    "iterations = 10;\n",
    "# RO_coef_all = [0.0];\n",
    "RO_coef_all = [0.0,0.01,0.05,0.1,0.12,0.15,0.2,0.25,0.3];\n",
    "instances = 1\n",
    "is_original = false\n",
    "Random.seed!(seed)\n",
    "project_dir = \"N=$(N)_N_u=$(N_u)_S_train=$(S_train)/\""
   ]
  },
  {
   "cell_type": "code",
   "execution_count": 4,
   "id": "11004c48",
   "metadata": {},
   "outputs": [
    {
     "name": "stdout",
     "output_type": "stream",
     "text": [
      "Data directory: /Users/zhangxun/Dropbox/Research/Robust_Exp/Data/Pricing_Promotion/N=3_N_u=1_S_train=200/\n"
     ]
    }
   ],
   "source": [
    "current_dir = pwd()\n",
    "parent_dir = dirname(current_dir)\n",
    "grand_pa_dir = dirname(parent_dir)\n",
    "data_dir = string(dirname(grand_pa_dir), \"/Data/Pricing_Promotion/\")\n",
    "if !isdir(data_dir)\n",
    "    mkpath(data_dir)\n",
    "end\n",
    "data_dir = string(data_dir,project_dir)\n",
    "println(\"Data directory: \", data_dir)\n",
    "Params = set_Params(N, N_u, K, S_train, S_test, \"mix\", 1.0, P_bar, RO_coef_all, seed);\n",
    "save(string(data_dir, \"Params.jld2\"), Params);"
   ]
  },
  {
   "cell_type": "markdown",
   "id": "e03b3e9c",
   "metadata": {},
   "source": [
    "- Generate Data"
   ]
  },
  {
   "cell_type": "code",
   "execution_count": 5,
   "id": "16e278b7",
   "metadata": {},
   "outputs": [
    {
     "name": "stdout",
     "output_type": "stream",
     "text": [
      "/Users/zhangxun/Dropbox/Research/Robust_Exp/Data/Pricing_Promotion/N=3_N_u=1_S_train=200/instance=1/\n"
     ]
    }
   ],
   "source": [
    "Input_Data = Dict()\n",
    "ins = 1\n",
    "while ins <= instances\n",
    "    data_dir_ins = string(data_dir, \"instance=$ins/\")\n",
    "    # ****** Data ******\n",
    "    a_true,b_true,c_true = Generate_Params(N,is_original);\n",
    "    P_sample, PM_sample, choice_sample = Generate_Data(a_true,b_true,c_true,N, N_u, S_train,P_bar);\n",
    "    a_hat,b_hat,c_hat = Estimate(N,P_sample, PM_sample, choice_sample);\n",
    "\n",
    "    w_true = [a_true;b_true;c_true]\n",
    "    w_hat = [a_hat;b_hat;c_hat]\n",
    "    if norm(w_hat .- w_true,2) >= 10.0 # avoid extreme estimation case\n",
    "        continue\n",
    "    else\n",
    "        Input_Data[\"a_true_ins=$ins\"] = a_true\n",
    "        Input_Data[\"b_true_ins=$ins\"] = b_true\n",
    "        Input_Data[\"c_true_ins=$ins\"] = c_true\n",
    "        Input_Data[\"P_sample_ins=$ins\"] = P_sample\n",
    "        Input_Data[\"PM_sample_ins=$ins\"] = PM_sample\n",
    "        Input_Data[\"choice_sample_ins=$ins\"] = choice_sample\n",
    "        Input_Data[\"a_hat_ins=$ins\"] = a_hat\n",
    "        Input_Data[\"b_hat_ins=$ins\"] = b_hat\n",
    "        Input_Data[\"c_hat_ins=$ins\"] = c_hat\n",
    "        ins = ins + 1\n",
    "    end\n",
    "    println(data_dir_ins)\n",
    "end\n",
    "save(string(data_dir,\"Input_Data.jld2\"),Input_Data)"
   ]
  },
  {
   "cell_type": "markdown",
   "id": "43aff417",
   "metadata": {},
   "source": [
    "- Run Oracle"
   ]
  },
  {
   "cell_type": "code",
   "execution_count": 6,
   "id": "d3ebf7c3",
   "metadata": {},
   "outputs": [
    {
     "data": {
      "text/plain": [
       "get_input_data_ins (generic function with 1 method)"
      ]
     },
     "metadata": {},
     "output_type": "display_data"
    }
   ],
   "source": [
    "function get_input_data_ins(Input_Data,ins)\n",
    "    a_true = Input_Data[\"a_true_ins=$ins\"]\n",
    "    b_true = Input_Data[\"b_true_ins=$ins\"]\n",
    "    c_true = Input_Data[\"c_true_ins=$ins\"]\n",
    "    # Input_Data[\"P_sample_ins=$ins\"] = P_sample\n",
    "    # Input_Data[\"PM_sample_ins=$ins\"] = PM_sample\n",
    "    # Input_Data[\"choice_sample_ins=$ins\"] = choice_sample\n",
    "    a_hat = Input_Data[\"a_hat_ins=$ins\"]\n",
    "    b_hat = Input_Data[\"b_hat_ins=$ins\"]\n",
    "    c_hat = Input_Data[\"c_hat_ins=$ins\"]\n",
    "    return a_true,b_true,c_true,a_hat,b_hat,c_hat\n",
    "end"
   ]
  },
  {
   "cell_type": "code",
   "execution_count": null,
   "id": "3c7c2625",
   "metadata": {},
   "outputs": [],
   "source": [
    "Result_True = Dict();\n",
    "for ins in 1:instances\n",
    "    data_dir_ins = string(data_dir, \"instance=$ins/\")\n",
    "    a_true,b_true,c_true,a_hat,b_hat,c_hat = get_input_data_ins(Input_Data,ins)\n",
    "\n",
    "    obj_val,Y_val,x_val,solve_time = ETO_PP(N,K,a_true,b_true,c_true,P_dag);\n",
    "    price,profit = compute_Profit(N,a_true,b_true,c_true,Y_val,x_val,P_dag)\n",
    "    Result_True[\"obj_ins=$ins\"] = obj_val\n",
    "    Result_True[\"price_ins=$ins\"] = price\n",
    "    Result_True[\"Prom_ins=$ins\"] = x_val\n",
    "    Result_True[\"time_ins=$ins\"] = solve_time\n",
    "    Result_True[\"profit_ins=$ins\"] = profit\n",
    "    println(data_dir_ins)\n",
    "end\n",
    "save(string(data_dir,\"Result_True.jld2\"),Result_True) "
   ]
  },
  {
   "cell_type": "markdown",
   "id": "152240c0",
   "metadata": {},
   "source": [
    "- Run ETO"
   ]
  },
  {
   "cell_type": "code",
   "execution_count": null,
   "id": "a07de3e8",
   "metadata": {},
   "outputs": [],
   "source": [
    "Result_ETO = Dict();\n",
    "for ins in 1:instances\n",
    "    data_dir_ins = string(data_dir, \"instance=$ins/\")\n",
    "    a_true,b_true,c_true,a_hat,b_hat,c_hat = get_input_data_ins(Input_Data,ins)\n",
    "\n",
    "    obj_val,Y_val,x_val,solve_time = ETO_PP(N,K,a_hat,b_hat,c_hat,P_dag);\n",
    "    price,profit = compute_Profit(N,a_true,b_true,c_true,Y_val,x_val,P_dag)\n",
    "    Result_ETO[\"obj_ins=$ins\"] = obj_val\n",
    "    Result_ETO[\"price_ins=$ins\"] = price\n",
    "    Result_ETO[\"Prom_ins=$ins\"] = x_val\n",
    "    Result_ETO[\"time_ins=$ins\"] = solve_time\n",
    "    Result_ETO[\"profit_ins=$ins\"] = profit\n",
    "    println(data_dir_ins)\n",
    "end\n",
    "save(string(data_dir,\"Result_ETO.jld2\"),Result_ETO) "
   ]
  },
  {
   "cell_type": "code",
   "execution_count": null,
   "id": "f432bb04",
   "metadata": {},
   "outputs": [],
   "source": [
    "obj_Oracle = [Result_True[\"obj_ins=$ins\"] for ins in 1:instances];\n",
    "obj_ETO = [Result_ETO[\"obj_ins=$ins\"] for ins in 1:instances];\n",
    "println(\"Mean obj_Oracle: \", mean(obj_Oracle));\n",
    "println(\"Mean obj_ETO: \", mean(obj_ETO));\n",
    "println(\"ETO/Oracle: \", mean(obj_ETO)/mean(obj_Oracle));"
   ]
  },
  {
   "cell_type": "code",
   "execution_count": null,
   "id": "20974eb4",
   "metadata": {},
   "outputs": [],
   "source": [
    "Profit_Oracle = [Result_True[\"profit_ins=$ins\"] for ins in 1:instances];\n",
    "Profit_ETO = [Result_ETO[\"profit_ins=$ins\"] for ins in 1:instances];\n",
    "# Rev_RO = Dict();\n",
    "# for RO_coef in RO_coef_all\n",
    "#     RST_RO_this = RST_RO[\"RO_coef=$(RO_coef)\"]\n",
    "#     Rev_RO[\"RO_coef=$(RO_coef)\"] = [RST_RO_this[\"iter=$(iter)_Rev\"] for iter in 1:iterations];\n",
    "# end\n",
    "\n",
    "println(\"Mean Rev_Oracle: \", mean(Profit_Oracle));\n",
    "println(\"Mean Rev_ETO: \", mean(Profit_ETO));\n",
    "println(\"ETO/Oracle: \", mean(Profit_ETO)/mean(Profit_Oracle));\n",
    "# Rev_RO_Avg = [mean(Rev_RO[\"RO_coef=$(RO_coef)\"]) for RO_coef in RO_coef_all];\n",
    "# println(\"Mean Rev_RO: \", Rev_RO_Avg);"
   ]
  },
  {
   "cell_type": "code",
   "execution_count": null,
   "id": "16c2c78c",
   "metadata": {},
   "outputs": [],
   "source": [
    "println(\"Oracle = \",round.(Profit_Oracle,digits=4))\n",
    "println(\"ETO = \",round.(Profit_ETO,digits=4))"
   ]
  }
 ],
 "metadata": {
  "kernelspec": {
   "display_name": "Julia 1.10.3",
   "language": "julia",
   "name": "julia-1.10"
  },
  "language_info": {
   "file_extension": ".jl",
   "mimetype": "application/julia",
   "name": "julia",
   "version": "1.10.3"
  }
 },
 "nbformat": 4,
 "nbformat_minor": 5
}
