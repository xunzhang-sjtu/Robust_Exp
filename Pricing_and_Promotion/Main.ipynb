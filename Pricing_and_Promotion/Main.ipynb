{
 "cells": [
  {
   "cell_type": "code",
   "execution_count": 1,
   "id": "ea7846fb",
   "metadata": {},
   "outputs": [],
   "source": [
    "using LinearAlgebra\n",
    "using Distributions\n",
    "using Optim\n",
    "using Random\n",
    "using StatsFuns\n",
    "using JuMP\n",
    "using MosekTools\n",
    "using JLD2"
   ]
  },
  {
   "cell_type": "code",
   "execution_count": 2,
   "id": "f424ebee",
   "metadata": {},
   "outputs": [
    {
     "name": "stdout",
     "output_type": "stream",
     "text": [
      "data_dir:/Users/zhangxun/Dropbox/Research/Robust_Exp/Data/\n"
     ]
    }
   ],
   "source": [
    "current_dir = pwd()\n",
    "parent_dir = dirname(current_dir)\n",
    "grand_pa_dir = dirname(dirname(parent_dir))\n",
    "data_dir = string(grand_pa_dir, \"/Data/\")\n",
    "if !isdir(data_dir)\n",
    "    mkpath(data_dir)\n",
    "end\n",
    "println(\"data_dir:\",data_dir)"
   ]
  },
  {
   "cell_type": "markdown",
   "id": "bc1238ab",
   "metadata": {},
   "source": [
    "## Functions"
   ]
  },
  {
   "cell_type": "code",
   "execution_count": 3,
   "id": "83d6f208",
   "metadata": {},
   "outputs": [
    {
     "data": {
      "text/plain": [
       "set_Params (generic function with 1 method)"
      ]
     },
     "metadata": {},
     "output_type": "display_data"
    }
   ],
   "source": [
    "function set_Params(N, N_u, K, S_train, S_test, offdiag_sign, max_offdiag, P_bar, RO_coef_all, seed)\n",
    "    Params = Dict()\n",
    "    Params[\"N\"] = N\n",
    "    Params[\"N_u\"] = N_u\n",
    "    Params[\"K\"] = K\n",
    "    Params[\"S_train\"] = S_train\n",
    "    Params[\"S_test\"] = S_test\n",
    "    Params[\"offdiag_sign\"] = offdiag_sign\n",
    "    Params[\"max_offdiag\"] = max_offdiag\n",
    "    Params[\"P_bar\"] = P_bar\n",
    "    Params[\"RO_coef_all\"] = RO_coef_all\n",
    "    Params[\"seed\"] = seed\n",
    "    return Params\n",
    "end"
   ]
  },
  {
   "cell_type": "markdown",
   "id": "9568927e",
   "metadata": {},
   "source": [
    "## Evaluate"
   ]
  },
  {
   "cell_type": "markdown",
   "id": "b6eef9dc",
   "metadata": {},
   "source": [
    "#### Baseline Parameters"
   ]
  },
  {
   "cell_type": "code",
   "execution_count": null,
   "id": "f8321a1a",
   "metadata": {},
   "outputs": [],
   "source": [
    "project_name = \"Pricing_Promotion/\"\n",
    "seed = 1;\n",
    "N = 3; # num of products\n",
    "N_u = 1; \n",
    "K = 10;\n",
    "S_train = 500;\n",
    "S_test = 1000;\n",
    "P_bar = 30.0;\n",
    "iterations = 10;\n",
    "# RO_coef_all = [0.0];\n",
    "RO_coef_all = [0.0,0.01,0.05,0.1,0.12,0.15,0.2,0.25,0.3];\n",
    "Random.seed!(seed)"
   ]
  },
  {
   "cell_type": "code",
   "execution_count": 20,
   "id": "3f399550",
   "metadata": {},
   "outputs": [
    {
     "data": {
      "text/plain": [
       "3×10 Matrix{Float64}:\n",
       " 2.66  1.35  4.79  1.75  3.85  4.54  4.36  0.4   0.22  4.95\n",
       " 4.34  4.62  2.65  4.09  0.32  0.41  4.19  4.38  4.78  3.99\n",
       " 0.95  0.55  3.52  3.64  3.51  2.47  4.41  2.79  1.14  1.31"
      ]
     },
     "metadata": {},
     "output_type": "display_data"
    }
   ],
   "source": [
    "P_dag = round.(rand(N, K) .* P_bar; digits=2)"
   ]
  },
  {
   "cell_type": "markdown",
   "id": "6314b1a2",
   "metadata": {},
   "source": [
    "### offdiag is mix"
   ]
  },
  {
   "cell_type": "code",
   "execution_count": 5,
   "id": "d7167bf6",
   "metadata": {},
   "outputs": [],
   "source": [
    "offdiag_sign = \"mix\";\n",
    "max_offdiag = 1.0;\n",
    "Params = set_Params(N, N_u, K, S_train, S_test, offdiag_sign, max_offdiag, P_bar, RO_coef_all, seed);"
   ]
  },
  {
   "cell_type": "code",
   "execution_count": 6,
   "id": "fca93210",
   "metadata": {},
   "outputs": [],
   "source": [
    "sub_file_name = \"N=$(N)_N_u=$(N_u)_K=$(K)_S_train=$(S_train)_offdiag_sign=$(offdiag_sign)_max_offdiag=$(max_offdiag)/\"\n",
    "this_data_file = string(data_dir,project_name,sub_file_name)\n",
    "if !isdir(this_data_file)\n",
    "    mkpath(this_data_file)\n",
    "end\n",
    "save(string(this_data_file, \"Params.jld2\"), Params);"
   ]
  },
  {
   "cell_type": "markdown",
   "id": "e03b3e9c",
   "metadata": {},
   "source": [
    "- Generate Data"
   ]
  },
  {
   "cell_type": "code",
   "execution_count": 7,
   "id": "1cb5e18f",
   "metadata": {},
   "outputs": [
    {
     "data": {
      "text/plain": [
       "Generate_Params (generic function with 1 method)"
      ]
     },
     "metadata": {},
     "output_type": "display_data"
    }
   ],
   "source": [
    "function Generate_Params(N,N_u)\n",
    "    alpha = [1,1,1]\n",
    "    beta = [0.1,0.2,0.3]\n",
    "    gamma = [0.8,0.3,0.5]\n",
    "    return alpha, beta,gamma\n",
    "end"
   ]
  },
  {
   "cell_type": "code",
   "execution_count": 8,
   "id": "8be71917",
   "metadata": {},
   "outputs": [
    {
     "data": {
      "text/plain": [
       "([1, 1, 1], [0.1, 0.2, 0.3], [0.8, 0.3, 0.5])"
      ]
     },
     "metadata": {},
     "output_type": "display_data"
    }
   ],
   "source": [
    "alpha, beta,gamma = Generate_Params(N,N_u)"
   ]
  },
  {
   "cell_type": "markdown",
   "id": "43aff417",
   "metadata": {},
   "source": [
    "- Run Oracle"
   ]
  },
  {
   "cell_type": "code",
   "execution_count": 38,
   "id": "a1a2aefa",
   "metadata": {},
   "outputs": [],
   "source": [
    "model = Model(Mosek.Optimizer)\n",
    "set_attribute(model, \"QUIET\", true)\n",
    "# model = Model(COPT.ConeOptimizer)\n",
    "# 定义变量\n",
    "@variable(model, rho_0 >= 0);                       # ρ₀ ≥ 0\n",
    "@variable(model, rho[1:N] >= 0);                    # ρ_n ≥ 0\n",
    "@variable(model, rho_P0[1:N]);                      # φ_n\n",
    "@variable(model, rho_X0[1:N]);                       # ς = ρ₀ * u\n",
    "\n",
    "@variable(model, rho_P[1:N]);                      # φ_n\n",
    "@variable(model, rho_X[1:N]);                       # ς = ρ₀ * u\n",
    "\n",
    "@variable(model, Y[1:N, 1:K]);                      # y_{nk}\n",
    "@variable(model, Z[1:N, 1:K]);                      # z_{nk}\n",
    "@variable(model, X_P[1:N, 1:K], Bin);               # x_{nk} ∈ {0,1}\n",
    "@variable(model, X_PM[1:N], Bin);                   # x_{nk} ∈ {0,1}\n",
    "@variable(model, W[1:N,1:N,1:K]);                   # z_{nk}\n"
   ]
  },
  {
   "cell_type": "code",
   "execution_count": 39,
   "id": "755d5f79",
   "metadata": {},
   "outputs": [
    {
     "data": {
      "text/latex": [
       "$$ rho\\_0 + rho_{1} + rho_{2} + rho_{3} = 1 $$"
      ],
      "text/plain": [
       "rho_0 + rho[1] + rho[2] + rho[3] = 1"
      ]
     },
     "metadata": {},
     "output_type": "display_data"
    }
   ],
   "source": [
    "@constraint(model, rho_0 + sum(rho) == 1)"
   ]
  },
  {
   "cell_type": "code",
   "execution_count": 40,
   "id": "20a2fe93",
   "metadata": {},
   "outputs": [],
   "source": [
    "for n in 1:N\n",
    "    @constraint(model, [alpha[n] * rho_0 - beta[n] * rho_P0[n] + gamma[n] * rho_X0[n],rho_0,rho[n]] in MOI.ExponentialCone())\n",
    "end"
   ]
  },
  {
   "cell_type": "code",
   "execution_count": 41,
   "id": "2ad09b2e",
   "metadata": {},
   "outputs": [
    {
     "data": {
      "text/plain": [
       "3×1 Matrix{ConstraintRef{Model, MathOptInterface.ConstraintIndex{MathOptInterface.ScalarAffineFunction{Float64}, MathOptInterface.EqualTo{Float64}}, ScalarShape}}:\n",
       " rho_P0[1] - 2.66 X_P[1,1] - 1.35 X_P[1,2] - 4.79 X_P[1,3] - 1.75 X_P[1,4] - 3.85 X_P[1,5] - 4.54 X_P[1,6] - 4.36 X_P[1,7] - 0.4 X_P[1,8] - 0.22 X_P[1,9] - 4.95 X_P[1,10] = 0\n",
       " rho_P0[2] - 4.34 X_P[2,1] - 4.62 X_P[2,2] - 2.65 X_P[2,3] - 4.09 X_P[2,4] - 0.32 X_P[2,5] - 0.41 X_P[2,6] - 4.19 X_P[2,7] - 4.38 X_P[2,8] - 4.78 X_P[2,9] - 3.99 X_P[2,10] = 0\n",
       " rho_P0[3] - 0.95 X_P[3,1] - 0.55 X_P[3,2] - 3.52 X_P[3,3] - 3.64 X_P[3,4] - 3.51 X_P[3,5] - 2.47 X_P[3,6] - 4.41 X_P[3,7] - 2.79 X_P[3,8] - 1.14 X_P[3,9] - 1.31 X_P[3,10] = 0"
      ]
     },
     "metadata": {},
     "output_type": "display_data"
    }
   ],
   "source": [
    "@constraint(model, rho_P0 .== sum(X_P .* P_dag, dims=2))"
   ]
  },
  {
   "cell_type": "code",
   "execution_count": 42,
   "id": "0f828196",
   "metadata": {},
   "outputs": [],
   "source": [
    "for n in 1:N\n",
    "    for k in 1:K\n",
    "        @constraint(model, 0 <= rho_P0[n])\n",
    "        @constraint(model, rho_P0[n] <= X_P[n, k])\n",
    "        @constraint(model, rho_P0[n] >= rho_0 - (1 - X_P[n, k]))\n",
    "        @constraint(model, rho_P0[n] <= rho_0)\n",
    "    end\n",
    "end"
   ]
  },
  {
   "cell_type": "code",
   "execution_count": 43,
   "id": "73fc7e8a",
   "metadata": {},
   "outputs": [
    {
     "data": {
      "text/plain": [
       "3-element Vector{ConstraintRef{Model, MathOptInterface.ConstraintIndex{MathOptInterface.ScalarAffineFunction{Float64}, MathOptInterface.EqualTo{Float64}}, ScalarShape}}:\n",
       " X_P[1,1] + X_P[1,2] + X_P[1,3] + X_P[1,4] + X_P[1,5] + X_P[1,6] + X_P[1,7] + X_P[1,8] + X_P[1,9] + X_P[1,10] = 1\n",
       " X_P[2,1] + X_P[2,2] + X_P[2,3] + X_P[2,4] + X_P[2,5] + X_P[2,6] + X_P[2,7] + X_P[2,8] + X_P[2,9] + X_P[2,10] = 1\n",
       " X_P[3,1] + X_P[3,2] + X_P[3,3] + X_P[3,4] + X_P[3,5] + X_P[3,6] + X_P[3,7] + X_P[3,8] + X_P[3,9] + X_P[3,10] = 1"
      ]
     },
     "metadata": {},
     "output_type": "display_data"
    }
   ],
   "source": [
    "@constraint(model, X_P * ones(K) .== 1)"
   ]
  },
  {
   "cell_type": "code",
   "execution_count": 44,
   "id": "df76f1fc",
   "metadata": {},
   "outputs": [],
   "source": [
    "for n in 1:N\n",
    "    @constraint(model, 0 <= rho_X0[n])\n",
    "    @constraint(model, rho_X0[n] <= X_PM[n])\n",
    "    @constraint(model, rho_X0[n] >= rho_0 - (1 - X_PM[n]))\n",
    "    @constraint(model, rho_X0[n] <= rho_0)\n",
    "end"
   ]
  },
  {
   "cell_type": "code",
   "execution_count": 45,
   "id": "fddc6b6c",
   "metadata": {},
   "outputs": [
    {
     "data": {
      "text/latex": [
       "$$ X\\_PM_{1} + X\\_PM_{2} + X\\_PM_{3} = 1 $$"
      ],
      "text/plain": [
       "X_PM[1] + X_PM[2] + X_PM[3] = 1"
      ]
     },
     "metadata": {},
     "output_type": "display_data"
    }
   ],
   "source": [
    "@constraint(model, sum(X_PM) == 1)"
   ]
  },
  {
   "cell_type": "code",
   "execution_count": 46,
   "id": "1acab8da",
   "metadata": {},
   "outputs": [],
   "source": [
    "for n in 1:N\n",
    "    @constraint(model, [-alpha[n] * rho[n] + beta[n] * rho_P[n] - gamma[n] * rho_X[n], rho[n], rho_0] in MOI.ExponentialCone())\n",
    "end"
   ]
  },
  {
   "cell_type": "code",
   "execution_count": null,
   "id": "e723d2c5",
   "metadata": {},
   "outputs": [],
   "source": [
    "@constraint(model, rho_P .== sum(X_P .* P_dag, dims=2))"
   ]
  },
  {
   "cell_type": "code",
   "execution_count": null,
   "id": "7b119ef8",
   "metadata": {},
   "outputs": [],
   "source": [
    "\n",
    "@constraint(model, v_pi0 .== Y)\n",
    "for n in 1:N\n",
    "        @constraint(model, 0 <= Y[n])\n",
    "        @constraint(model, Y[n] <= X_PM[n])\n",
    "        @constraint(model, Y[n] >= rho_0 - (1 - X_PM[n]))\n",
    "        @constraint(model, Y[n] <= rho_0)\n",
    "end\n",
    "@constraint(model, v_phi0 .== sum(Z .* p_dag, dims=2))\n",
    "for n in 1:N\n",
    "    for k in 1:K\n",
    "        # z_{nk} bounds\n",
    "        @constraint(model, 0 <= Z[n, k])\n",
    "        @constraint(model, Z[n, k] <= X_P[n, k])\n",
    "        @constraint(model, Z[n, k] >= rho_0 - (1 - X_P[n, k]))\n",
    "        @constraint(model, Z[n, k] <= rho_0)\n",
    "    end\n",
    "end\n",
    "\n",
    "for n in 1:N\n",
    "    @constraint(model, [-alpha[n] * v_sigma_i[n] + beta[n] * v_phi_i[n] - gamma[n] * v_pi_i[n], rho[n], rho_0] in MOI.ExponentialCone())\n",
    "end\n",
    "\n",
    "@constraint(model, v_sigma_i .== rho_0 .* u)\n",
    "@constraint(model, v_pi_i .== Y_i)\n",
    "for n in 1:N\n",
    "        @constraint(model, 0 <= Y_i[n])\n",
    "        @constraint(model, Y_i[n] <= X_PM[n])\n",
    "        @constraint(model, Y_i[n] >= rho[n] - (1 - X_PM[n]))\n",
    "        @constraint(model, Y_i[n] <= rho[n])\n",
    "end\n",
    "@constraint(model, v_phi_i .== sum(Z_i .* p_dag, dims=2))\n",
    "for n in 1:N\n",
    "    for k in 1:K\n",
    "        # z_{nk} bounds\n",
    "        @constraint(model, 0 <= Z_i[n, k])\n",
    "        @constraint(model, Z_i[n, k] <= X_P[n, k])\n",
    "        @constraint(model, Z_i[n, k] >= rho[n] - (1 - X_P[n, k]))\n",
    "        @constraint(model, Z_i[n, k] <= rho[n])\n",
    "    end\n",
    "end\n",
    "\n",
    "\n",
    "@constraint(model, sum(X_PM) == 1)\n",
    "\n",
    "@objective(model, Max,sum(Y .* p_dag))\n",
    "\n",
    "optimize!(model)\n",
    "status = JuMP.termination_status(model)\n",
    "# solution_summary(model)\n",
    "if status == MOI.OPTIMAL\n",
    "    obj_val = objective_value(model)\n",
    "    X_val = value.(X)\n",
    "    solve_time = JuMP.solve_time(model)\n",
    "else\n",
    "    obj_val = NaN\n",
    "    X_val = ones(N,N) .* NaN\n",
    "    solve_time = NaN\n",
    "end"
   ]
  },
  {
   "cell_type": "code",
   "execution_count": null,
   "id": "14f966f4",
   "metadata": {},
   "outputs": [],
   "source": [
    "function ETO_Pricing_Promotion(N,N_u,K,A,B,u,p_dag)\n",
    "    model = Model(Mosek.Optimizer)\n",
    "    set_attribute(model, \"QUIET\", true)\n",
    "    # model = Model(COPT.ConeOptimizer)\n",
    "    # 定义变量\n",
    "    @variable(model, rho_0 >= 0)                       # ρ₀ ≥ 0\n",
    "    @variable(model, rho[1:N] >= 0)                    # ρ_n ≥ 0\n",
    "    @variable(model, v_sigma[1:N_u])                   # ς = ρ₀ * u\n",
    "    @variable(model, v_phi[1:N])                       # φ_n\n",
    "    @variable(model, v_theta[1:N,1:N_u])               # ς = ρ₀ * u\n",
    "    @variable(model, v_pi[1:N,1:N])  \n",
    "    @variable(model, Y[1:N, 1:K])                      # y_{nk}\n",
    "    @variable(model, Z[1:N, 1:K])                      # z_{nk}\n",
    "    @variable(model, X[1:N, 1:K], Bin)                 # x_{nk} ∈ {0,1}\n",
    "    @variable(model, W[1:N,1:N,1:K])                   # z_{nk}\n",
    "    \n",
    "    @constraint(model, rho_0 + sum(rho) == 1)\n",
    "\n",
    "    for n in 1:N\n",
    "        @constraint(model, [A[n,:]' * v_sigma + B[n,:]' * v_phi,rho_0,rho[n]] in MOI.ExponentialCone())\n",
    "    end\n",
    "\n",
    "    @constraint(model, v_sigma .== rho_0 .* u)\n",
    "    @constraint(model, v_phi .== sum(Z .* p_dag, dims=2))\n",
    "    for n in 1:N\n",
    "        for k in 1:K\n",
    "            # z_{nk} bounds\n",
    "            @constraint(model, 0 <= Z[n, k])\n",
    "            @constraint(model, Z[n, k] <= X[n, k])\n",
    "            @constraint(model, Z[n, k] >= rho_0 - (1 - X[n, k]))\n",
    "            @constraint(model, Z[n, k] <= rho_0)\n",
    "        end\n",
    "    end\n",
    "\n",
    "    for n in 1:N\n",
    "        @constraint(model, [-A[n,:]' * v_theta[n,:] - B[n,:]' * v_pi[n,:], rho[n], rho_0] in MOI.ExponentialCone())\n",
    "    end\n",
    "    for n in 1:N\n",
    "        @constraint(model, v_theta[n,:] .== rho[n] .* u)\n",
    "    end\n",
    "    for n in 1:N\n",
    "        @constraint(model, v_pi[n,:] .== sum(W[n,:,:] .* p_dag, dims=2))\n",
    "    end\n",
    "    for n in 1:N\n",
    "        for j in 1:N\n",
    "            for k in 1:K\n",
    "                # z_{nk} bounds\n",
    "                @constraint(model, 0 <= W[n,j, k])\n",
    "                @constraint(model, W[n,j,k] <= X[j, k])\n",
    "                @constraint(model, W[n,j,k] >= rho[n] - (1 - X[j, k]))\n",
    "                @constraint(model, W[n,j, k] <= rho[n])\n",
    "            end\n",
    "        end\n",
    "    end\n",
    "\n",
    "    # objective \n",
    "    for n in 1:N\n",
    "        for k in 1:K\n",
    "            # y_{nk} bounds\n",
    "            @constraint(model, 0 <= Y[n, k])\n",
    "            @constraint(model, Y[n, k] <= X[n, k])\n",
    "            @constraint(model, Y[n, k] >= rho[n] - (1 - X[n, k]))\n",
    "            @constraint(model, Y[n, k] <= rho[n])\n",
    "        end\n",
    "    end\n",
    "\n",
    "    @constraint(model, sum(X,dims=2) .== 1)\n",
    "\n",
    "    @objective(model, Max,sum(Y .* p_dag))\n",
    "\n",
    "    optimize!(model)\n",
    "    status = JuMP.termination_status(model)\n",
    "    # solution_summary(model)\n",
    "    if status == MOI.OPTIMAL\n",
    "        obj_val = objective_value(model)\n",
    "        X_val = value.(X)\n",
    "        solve_time = JuMP.solve_time(model)\n",
    "    else\n",
    "        obj_val = NaN\n",
    "        X_val = ones(N,N) .* NaN\n",
    "        solve_time = NaN\n",
    "    end\n",
    "    return obj_val, X_val,solve_time\n",
    "end\n"
   ]
  },
  {
   "cell_type": "code",
   "execution_count": null,
   "id": "cd4813fa",
   "metadata": {},
   "outputs": [],
   "source": [
    "print_flag=true\n",
    "RST_Oracle = Run_Oracle(iterations, N, N_u, K, Input_Data,print_flag);\n",
    "Rev_Oracle = [RST_Oracle[\"iter=$(iter)_Rev\"] for iter in 1:iterations];\n",
    "save(string(this_data_file, \"RST_Oracle.jld2\"), RST_Oracle);"
   ]
  },
  {
   "cell_type": "markdown",
   "id": "152240c0",
   "metadata": {},
   "source": [
    "- Run ETO"
   ]
  },
  {
   "cell_type": "code",
   "execution_count": null,
   "id": "e37110c4",
   "metadata": {},
   "outputs": [],
   "source": [
    "RST_ETO = Run_ETO(iterations, N, N_u, K, Input_Data,print_flag);\n",
    "Rev_ETO = [RST_ETO[\"iter=$(iter)_Rev\"] for iter in 1:iterations]\n",
    "println(\"Rev_ETO/Rev_Oracle = \",round.(Rev_ETO./Rev_Oracle,digits=4))\n",
    "save(string(this_data_file, \"RST_ETO.jld2\"), RST_ETO);"
   ]
  },
  {
   "cell_type": "markdown",
   "id": "5c54f0ee",
   "metadata": {},
   "source": [
    "- Run RO under different uncertainty set"
   ]
  },
  {
   "cell_type": "code",
   "execution_count": null,
   "id": "964da926",
   "metadata": {},
   "outputs": [],
   "source": [
    "model_name=\"Two_Side\"\n",
    "RST_RO = Dict(); Rev_RO = Dict();\n",
    "for RO_coef in RO_coef_all\n",
    "    println(\"Running RO with RO_coef = \",RO_coef)\n",
    "    RST_RO_this = Run_RO_with_RO_coef(RO_coef, iterations, N, N_u, K, Input_Data, 0.0,model_name,false);\n",
    "    RST_RO[\"RO_coef=$(RO_coef)\"] = RST_RO_this\n",
    "    Rev_RO[\"RO_coef=$(RO_coef)\"] = [RST_RO_this[\"iter=$(iter)_Rev\"] for iter in 1:iterations]\n",
    "end\n",
    "save(string(this_data_file, \"RST_RO.jld2\"), RST_RO);"
   ]
  },
  {
   "cell_type": "code",
   "execution_count": null,
   "id": "20974eb4",
   "metadata": {},
   "outputs": [],
   "source": [
    "Rev_Oracle = [RST_Oracle[\"iter=$(iter)_Rev\"] for iter in 1:iterations];\n",
    "Rev_ETO = [RST_ETO[\"iter=$(iter)_Rev\"] for iter in 1:iterations];\n",
    "Rev_RO = Dict();\n",
    "for RO_coef in RO_coef_all\n",
    "    RST_RO_this = RST_RO[\"RO_coef=$(RO_coef)\"]\n",
    "    Rev_RO[\"RO_coef=$(RO_coef)\"] = [RST_RO_this[\"iter=$(iter)_Rev\"] for iter in 1:iterations];\n",
    "end\n",
    "\n",
    "println(\"Mean Rev_Oracle: \", mean(Rev_Oracle));\n",
    "println(\"Mean Rev_ETO: \", mean(Rev_ETO));\n",
    "Rev_RO_Avg = [mean(Rev_RO[\"RO_coef=$(RO_coef)\"]) for RO_coef in RO_coef_all];\n",
    "println(\"Mean Rev_RO: \", Rev_RO_Avg);"
   ]
  },
  {
   "cell_type": "code",
   "execution_count": null,
   "id": "2aff52c8",
   "metadata": {},
   "outputs": [],
   "source": [
    "ratio = Rev_RO_Avg ./ mean(Rev_ETO)\n",
    "plot(RO_coef_all, ratio, marker=:o, xlabel=\"RO_coef\", ylabel=\"Rev_RO_Avg / Rev_ETO_Avg\", legend=false)\n",
    "hline!([1.0], linestyle=:dash, color=:red, label=\"y=1.0\")\n",
    "# savefig(plt, \"Rev_RO_Avg_vs_Rev_ETO_Avg.png\")  # 保存为当前目录下的PNG图片"
   ]
  },
  {
   "cell_type": "code",
   "execution_count": null,
   "id": "e86416fc",
   "metadata": {},
   "outputs": [],
   "source": [
    "plot_boxplot(RO_coef_all[1:5],Rev_ETO,Rev_RO)"
   ]
  },
  {
   "cell_type": "markdown",
   "id": "ad4e147e",
   "metadata": {},
   "source": [
    "### offdiag is positive"
   ]
  },
  {
   "cell_type": "code",
   "execution_count": null,
   "id": "98b91a59",
   "metadata": {},
   "outputs": [],
   "source": [
    "# offdiag_sign = \"positive\";\n",
    "# Params = set_Params(N, N_u, K, S_train, S_test, offdiag_sign, max_offdiag, P_bar, RO_coef_all, seed)"
   ]
  },
  {
   "cell_type": "code",
   "execution_count": null,
   "id": "5ef2df46",
   "metadata": {},
   "outputs": [],
   "source": [
    "# sub_file_name = \"N=$(N)_N_u=$(N_u)_K=$(K)_S_train=$(S_train)_offdiag_sign=$(offdiag_sign)_max_offdiag=$(max_offdiag)/\"\n",
    "# this_data_file = string(data_dir,project_name,sub_file_name)\n",
    "# if !isdir(this_data_file)\n",
    "#     mkpath(this_data_file)\n",
    "# end\n",
    "# save(string(this_data_file, \"Params.jld2\"), Params);"
   ]
  },
  {
   "cell_type": "code",
   "execution_count": null,
   "id": "db9af694",
   "metadata": {},
   "outputs": [],
   "source": [
    "# Random.seed!(seed)\n",
    "# Input_Data = generate_Input_Data(S_train,S_test,iterations, N, N_u, K, offdiag_sign,max_offdiag,P_bar);\n",
    "# Input_Data = Calculate_Hyper_Param(RO_coef_all, iterations, N, N_u, K, Input_Data);\n",
    "# save(string(this_data_file, \"Input_Data.jld2\"), Input_Data);"
   ]
  },
  {
   "cell_type": "code",
   "execution_count": null,
   "id": "0f054212",
   "metadata": {},
   "outputs": [],
   "source": [
    "# print_flag=true\n",
    "# RST_Oracle = Run_Oracle(iterations, N, N_u, K, Input_Data,print_flag);\n",
    "# Rev_Oracle = [RST_Oracle[\"iter=$(iter)_Rev\"] for iter in 1:iterations];\n",
    "# save(string(this_data_file, \"RST_Oracle.jld2\"), RST_Oracle);"
   ]
  },
  {
   "cell_type": "code",
   "execution_count": null,
   "id": "eb30444d",
   "metadata": {},
   "outputs": [],
   "source": [
    "# RST_ETO = Run_ETO(iterations, N, N_u, K, Input_Data,print_flag);\n",
    "# Rev_ETO = [RST_ETO[\"iter=$(iter)_Rev\"] for iter in 1:iterations]\n",
    "# println(\"Rev_ETO/Rev_Oracle = \",round.(Rev_ETO./Rev_Oracle,digits=4))\n",
    "# save(string(this_data_file, \"RST_ETO.jld2\"), RST_ETO);"
   ]
  },
  {
   "cell_type": "code",
   "execution_count": null,
   "id": "ac14eb87",
   "metadata": {},
   "outputs": [],
   "source": [
    "# model_name=\"Two_Side\"\n",
    "# RST_RO = Dict(); Rev_RO = Dict();\n",
    "# for RO_coef in RO_coef_all\n",
    "#     println(\"Running RO with RO_coef = \",RO_coef)\n",
    "#     RST_RO_this = Run_RO_with_RO_coef(RO_coef, iterations, N, N_u, K, Input_Data, 0.0,model_name,false);\n",
    "#     RST_RO[\"RO_coef=$(RO_coef)\"] = RST_RO_this\n",
    "#     Rev_RO[\"RO_coef=$(RO_coef)\"] = [RST_RO_this[\"iter=$(iter)_Rev\"] for iter in 1:iterations]\n",
    "# end\n",
    "# save(string(this_data_file, \"RST_RO.jld2\"), RST_RO);"
   ]
  },
  {
   "cell_type": "code",
   "execution_count": null,
   "id": "db2af615",
   "metadata": {},
   "outputs": [],
   "source": [
    "# for RO_coef in RO_coef_all\n",
    "#     Rev_RO_this = Rev_RO[\"RO_coef=$(RO_coef)\"]\n",
    "#     println(\"Average = \",round(mean(Rev_RO_this./Rev_ETO),digits=4),\", Rev_RO/Rev_ETO for RO_coef=$(RO_coef) = \",round.(Rev_RO_this./Rev_ETO,digits=4),)\n",
    "# end"
   ]
  },
  {
   "cell_type": "markdown",
   "id": "211a7218",
   "metadata": {},
   "source": [
    "### offdiag is negative"
   ]
  },
  {
   "cell_type": "code",
   "execution_count": null,
   "id": "c4cf05bd",
   "metadata": {},
   "outputs": [],
   "source": [
    "# offdiag_sign = \"negative\";\n",
    "# Params = set_Params(N, N_u, K, S_train, S_test, offdiag_sign, max_offdiag, P_bar, RO_coef_all, seed)"
   ]
  },
  {
   "cell_type": "code",
   "execution_count": null,
   "id": "a72702ab",
   "metadata": {},
   "outputs": [],
   "source": [
    "# sub_file_name = \"N=$(N)_N_u=$(N_u)_K=$(K)_S_train=$(S_train)_offdiag_sign=$(offdiag_sign)_max_offdiag=$(max_offdiag)/\"\n",
    "# this_data_file = string(data_dir,project_name,sub_file_name)\n",
    "# if !isdir(this_data_file)\n",
    "#     mkpath(this_data_file)\n",
    "# end\n",
    "# save(string(this_data_file, \"Params.jld2\"), Params);"
   ]
  },
  {
   "cell_type": "code",
   "execution_count": null,
   "id": "9071c26c",
   "metadata": {},
   "outputs": [],
   "source": [
    "# print_flag=true\n",
    "# RST_Oracle = Run_Oracle(iterations, N, N_u, K, Input_Data,print_flag);\n",
    "# Rev_Oracle = [RST_Oracle[\"iter=$(iter)_Rev\"] for iter in 1:iterations];\n",
    "# save(string(this_data_file, \"RST_Oracle.jld2\"), RST_Oracle);"
   ]
  },
  {
   "cell_type": "code",
   "execution_count": null,
   "id": "610d6a10",
   "metadata": {},
   "outputs": [],
   "source": [
    "# RST_ETO = Run_ETO(iterations, N, N_u, K, Input_Data,print_flag);\n",
    "# Rev_ETO = [RST_ETO[\"iter=$(iter)_Rev\"] for iter in 1:iterations]\n",
    "# println(\"Rev_ETO/Rev_Oracle = \",round.(Rev_ETO./Rev_Oracle,digits=4))\n",
    "# save(string(this_data_file, \"RST_ETO.jld2\"), RST_ETO);"
   ]
  },
  {
   "cell_type": "code",
   "execution_count": null,
   "id": "b995846a",
   "metadata": {},
   "outputs": [],
   "source": [
    "# model_name=\"Two_Side\"\n",
    "# RST_RO = Dict(); Rev_RO = Dict();\n",
    "# for RO_coef in RO_coef_all\n",
    "#     println(\"Running RO with RO_coef = \",RO_coef)\n",
    "#     RST_RO_this = Run_RO_with_RO_coef(RO_coef, iterations, N, N_u, K, Input_Data, 0.0,model_name,false);\n",
    "#     RST_RO[\"RO_coef=$(RO_coef)\"] = RST_RO_this\n",
    "#     Rev_RO[\"RO_coef=$(RO_coef)\"] = [RST_RO_this[\"iter=$(iter)_Rev\"] for iter in 1:iterations]\n",
    "# end\n",
    "# save(string(this_data_file, \"RST_RO.jld2\"), RST_RO);"
   ]
  }
 ],
 "metadata": {
  "kernelspec": {
   "display_name": "Julia 1.10.3",
   "language": "julia",
   "name": "julia-1.10"
  },
  "language_info": {
   "file_extension": ".jl",
   "mimetype": "application/julia",
   "name": "julia",
   "version": "1.10.3"
  }
 },
 "nbformat": 4,
 "nbformat_minor": 5
}
