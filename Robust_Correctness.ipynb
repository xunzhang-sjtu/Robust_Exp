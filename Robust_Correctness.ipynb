{
 "cells": [
  {
   "cell_type": "code",
   "execution_count": 1,
   "id": "ea7846fb",
   "metadata": {},
   "outputs": [],
   "source": [
    "using LinearAlgebra\n",
    "using Distributions\n",
    "using Optim\n",
    "using Random\n",
    "using StatsFuns\n",
    "using JuMP\n",
    "using MosekTools\n",
    "include(\"ETO.jl\")\n",
    "include(\"RO.jl\")\n",
    "include(\"Data.jl\")\n",
    "include(\"Estimate.jl\")\n",
    "include(\"Performance.jl\");"
   ]
  },
  {
   "cell_type": "markdown",
   "id": "02f62a07",
   "metadata": {},
   "source": [
    "### Generate Data"
   ]
  },
  {
   "cell_type": "code",
   "execution_count": 2,
   "id": "1f728ba7",
   "metadata": {},
   "outputs": [
    {
     "data": {
      "text/plain": [
       "generate_Data (generic function with 1 method)"
      ]
     },
     "metadata": {},
     "output_type": "display_data"
    }
   ],
   "source": [
    "function generate_Data(iterations, N, N_u, K, offdiag_sign)\n",
    "    Input_Data = Dict()\n",
    "    for iter in 1:iterations\n",
    "        Input_Data[\"iter=$(iter)_Obs_Feat\"] = rand(N_u);\n",
    "        Input_Data[\"iter=$(iter)_A_true\"] = rand(N,N_u);\n",
    "        Input_Data[\"iter=$(iter)_B_true\"] = generate_strictly_row_diagonally_dominant(N, 1.0,offdiag_sign);\n",
    "        Input_Data[\"iter=$(iter)_P_dag\"] = round.(rand(N, K),digits=2);\n",
    "    end\n",
    "    return Input_Data\n",
    "end"
   ]
  },
  {
   "cell_type": "markdown",
   "id": "8abb6c9c",
   "metadata": {},
   "source": [
    "### ETO "
   ]
  },
  {
   "cell_type": "code",
   "execution_count": 3,
   "id": "4f4507c2",
   "metadata": {},
   "outputs": [
    {
     "data": {
      "text/plain": [
       "Run_ETO (generic function with 1 method)"
      ]
     },
     "metadata": {},
     "output_type": "display_data"
    }
   ],
   "source": [
    "function Run_ETO(iterations, N, N_u, K, Input_Data)\n",
    "    RST_ETO = Dict()\n",
    "    for iter in 1:iterations\n",
    "        Obs_Feat = Input_Data[\"iter=$(iter)_Obs_Feat\"]\n",
    "        A_true = Input_Data[\"iter=$(iter)_A_true\"]\n",
    "        B_true = Input_Data[\"iter=$(iter)_B_true\"]\n",
    "        P_dag = Input_Data[\"iter=$(iter)_P_dag\"]\n",
    "        \n",
    "        obj_ETO,X_ETO,time_ETO = Solve_ETO(N,N_u,K,A_true,B_true,Obs_Feat,P_dag)\n",
    "        rev_ETO, price_ETO = compute_oof(X_ETO, A_true, B_true, Obs_Feat, P_dag)\n",
    "        println(\"rev_ETO=\",round(rev_ETO,digits=6),\",price_ETO = \",price_ETO)\n",
    "        RST_ETO[\"iter=$(iter)_Rev\"] = rev_ETO\n",
    "        RST_ETO[\"iter=$(iter)_Price\"] = price_ETO\n",
    "    end\n",
    "    return RST_ETO\n",
    "end"
   ]
  },
  {
   "cell_type": "markdown",
   "id": "6d37f8de",
   "metadata": {},
   "source": [
    "### RO"
   ]
  },
  {
   "cell_type": "code",
   "execution_count": 4,
   "id": "d1d2431c",
   "metadata": {},
   "outputs": [
    {
     "data": {
      "text/plain": [
       "search_opt_price (generic function with 1 method)"
      ]
     },
     "metadata": {},
     "output_type": "display_data"
    }
   ],
   "source": [
    "function search_opt_price(N,p_lb,p_ub,b_n)\n",
    "    model = Model(Mosek.Optimizer)\n",
    "    set_attribute(model, \"QUIET\", true)\n",
    "    # 定义变量\n",
    "    @variable(model, price[1:N])                      # y_{nk}\n",
    "    @constraint(model, price .>= p_lb)\n",
    "    @constraint(model, price .<= p_ub)\n",
    "    @objective(model, Max,b_n' * price )\n",
    "    optimize!(model)\n",
    "    obj_val = objective_value(model)\n",
    "    return obj_val\n",
    "end\n"
   ]
  },
  {
   "cell_type": "code",
   "execution_count": null,
   "id": "fe87b482",
   "metadata": {},
   "outputs": [],
   "source": [
    "function Run_RO(bd_coef, iterations, N, N_u, K, Input_Data,psi_coef)\n",
    "    RST_RO = Dict(); RST_RO_Two_Side = Dict()\n",
    "    # psi_coef = 1\n",
    "    # bd_coef = 0.000001\n",
    "    for iter in 1:iterations\n",
    "        Obs_Feat = Input_Data[\"iter=$(iter)_Obs_Feat\"]\n",
    "        A_true = Input_Data[\"iter=$(iter)_A_true\"]\n",
    "        B_true = Input_Data[\"iter=$(iter)_B_true\"]\n",
    "        P_dag = Input_Data[\"iter=$(iter)_P_dag\"]\n",
    "        \n",
    "        A_lb = A_true .- bd_coef .* abs.(ones(N,N_u));\n",
    "        A_ub = A_true .+ bd_coef .* abs.(ones(N,N_u));\n",
    "        B_lb = B_true .- bd_coef .* abs.(ones(N,N));\n",
    "        B_ub = B_true .+ bd_coef .* abs.(ones(N,N));\n",
    "\n",
    "        \n",
    "        p_ub = vec(maximum(P_dag,dims=2))\n",
    "        p_lb = vec(minimum(P_dag,dims=2))\n",
    "        p_max = maximum(p_ub)\n",
    "        p_min = minimum(p_lb)\n",
    "        Obs_Feat_Trun = [max(-Obs_Feat[ind],0) for ind in 1:N_u]\n",
    "        psi_lb = zeros(N)\n",
    "        for n in 1:N\n",
    "            b_n = B_lb[n,:]\n",
    "            obj_n = search_opt_price(N,p_lb,p_ub,b_n)\n",
    "            psi_lb[n] = -exp(-Obs_Feat_Trun' * (A_ub[n,:] - A_lb[n,:]) + Obs_Feat' * A_lb[n,:] + obj_n)*(p_max-p_min)\n",
    "        end\n",
    "        \n",
    "        # psi_lb = 0.0 - psi_coef * 10\n",
    "        psi_ub = 0.0\n",
    "\n",
    "        obj_RO,X_RO,time_RO = Solve_RO_one_side_exp(N,N_u,K,A_lb,A_ub,B_lb,B_ub,Obs_Feat,P_dag,psi_lb,psi_ub)\n",
    "        rev_RO, price_RO = compute_oof(X_RO, A_true, B_true, Obs_Feat, P_dag)\n",
    "        println(\"psi_lb = \",round.(psi_lb,digits=2),\",rev_RO = \",round(rev_RO,digits=6),\",price_RO = \",price_RO)\n",
    "        RST_RO[\"iter=$(iter)_Rev\"] = rev_RO\n",
    "        RST_RO[\"iter=$(iter)_Price\"] = price_RO\n",
    "    end\n",
    "    return RST_RO\n",
    "end"
   ]
  },
  {
   "cell_type": "code",
   "execution_count": null,
   "id": "eddf6f71",
   "metadata": {},
   "outputs": [],
   "source": [
    "function Run_Two_Side_RO(bd_coef, iterations, N, N_u, K, Input_Data,psi_coef,phi_coef)\n",
    "    RST_RO_Two_Side = Dict()\n",
    "    for iter in 1:iterations\n",
    "        Obs_Feat = Input_Data[\"iter=$(iter)_Obs_Feat\"]\n",
    "        A_true = Input_Data[\"iter=$(iter)_A_true\"]\n",
    "        B_true = Input_Data[\"iter=$(iter)_B_true\"]\n",
    "        P_dag = Input_Data[\"iter=$(iter)_P_dag\"]\n",
    "        \n",
    "        A_lb = A_true .- bd_coef .* abs.(ones(N,N_u));\n",
    "        A_ub = A_true .+ bd_coef .* abs.(ones(N,N_u));\n",
    "        B_lb = B_true .- bd_coef .* abs.(ones(N,N));\n",
    "        B_ub = B_true .+ bd_coef .* abs.(ones(N,N));\n",
    "\n",
    "        psi_lb = 0.0 - psi_coef * 10\n",
    "        psi_ub = 0.0\n",
    "        phi_lb = 0.0 - phi_coef * 10\n",
    "        phi_ub = 0.0\n",
    "\n",
    "        # Two-sided RO\n",
    "        obj_RO_2,X_RO_2,time_RO_2 = Solve_RO(N,N_u,K,A_lb,A_ub,B_lb,B_ub,Obs_Feat, P_dag,psi_lb,psi_ub,phi_lb,phi_ub)\n",
    "        rev_RO_2, price_RO_2 = compute_oof(X_RO_2, A_true, B_true, Obs_Feat, P_dag)\n",
    "        println(\"psi_lb = \",psi_lb,\",phi_lb = \",phi_lb,\",rev_RO = \",round(rev_RO_2,digits=6),\",price_RO = \",price_RO_2)\n",
    "        RST_RO_Two_Side[\"iter=$(iter)_Rev\"] = rev_RO_2\n",
    "        RST_RO_Two_Side[\"iter=$(iter)_Price\"] = price_RO_2\n",
    "    end\n",
    "    return RST_RO_Two_Side\n",
    "end"
   ]
  },
  {
   "cell_type": "code",
   "execution_count": null,
   "id": "62113ed0",
   "metadata": {},
   "outputs": [],
   "source": [
    "function Run_Two_Side_RO_Cross_validation(bd_coef, iterations, N, N_u, K, Input_Data,psi_coef_all,phi_coef_all)\n",
    "    RST_RO_Two_Side = Dict()\n",
    "    for iter in 1:iterations\n",
    "        Obs_Feat = Input_Data[\"iter=$(iter)_Obs_Feat\"]\n",
    "        A_true = Input_Data[\"iter=$(iter)_A_true\"]\n",
    "        B_true = Input_Data[\"iter=$(iter)_B_true\"]\n",
    "        P_dag = Input_Data[\"iter=$(iter)_P_dag\"]\n",
    "        \n",
    "        A_lb = A_true .- bd_coef .* abs.(ones(N,N_u));\n",
    "        A_ub = A_true .+ bd_coef .* abs.(ones(N,N_u));\n",
    "        B_lb = B_true .- bd_coef .* abs.(ones(N,N));\n",
    "        B_ub = B_true .+ bd_coef .* abs.(ones(N,N));\n",
    "\n",
    "        psi_ub = 0.0\n",
    "        phi_ub = 0.0\n",
    "        obj_opt = -100000\n",
    "        for psi_coef in psi_coef_all\n",
    "            psi_lb = 0.0 - psi_coef * 10\n",
    "            for phi_coef in phi_coef_all\n",
    "                phi_lb = 0.0 - phi_coef * 10\n",
    "\n",
    "                obj_RO_2,X_RO_2,time_RO_2 = Solve_RO(N,N_u,K,A_lb,A_ub,B_lb,B_ub,Obs_Feat, P_dag,psi_lb,psi_ub,phi_lb,phi_ub)\n",
    "                println(\"psi_lb = \",psi_lb,\",phi_lb = \",phi_lb,\",obj_RO_2 = \",round(obj_RO_2,digits=6))\n",
    "                if obj_RO_2 > obj_opt\n",
    "                    obj_opt = obj_RO_2\n",
    "\n",
    "                    rev_RO_2, price_RO_2 = compute_oof(X_RO_2, A_true, B_true, Obs_Feat, P_dag)\n",
    "                    println(\"psi_lb = \",psi_lb,\",phi_lb = \",phi_lb,\",rev_RO = \",round(rev_RO_2,digits=6),\",price_RO = \",price_RO_2)\n",
    "                    RST_RO_Two_Side[\"iter=$(iter)_Rev\"] = rev_RO_2\n",
    "                    RST_RO_Two_Side[\"iter=$(iter)_Price\"] = price_RO_2\n",
    "\n",
    "                end\n",
    "            end\n",
    "        end\n",
    "\n",
    "    end\n",
    "    return RST_RO_Two_Side\n",
    "end"
   ]
  },
  {
   "cell_type": "markdown",
   "id": "b67d8388",
   "metadata": {},
   "source": [
    "## offdiag is zero"
   ]
  },
  {
   "cell_type": "code",
   "execution_count": null,
   "id": "b94d6ec2",
   "metadata": {},
   "outputs": [],
   "source": [
    "Random.seed!(2)\n",
    "# 设置参数\n",
    "N = 3   # 产品数\n",
    "K = 10   # 每个产品的选择项数量\n",
    "tau = 10 # 给定常数\n",
    "N_u = 2\n",
    "offdiag_sign = \"zero\"\n",
    "iterations = 10"
   ]
  },
  {
   "cell_type": "code",
   "execution_count": null,
   "id": "f1f81129",
   "metadata": {},
   "outputs": [],
   "source": [
    "Input_Data = generate_Data(iterations, N, N_u, K, offdiag_sign);"
   ]
  },
  {
   "cell_type": "code",
   "execution_count": null,
   "id": "0eb7ce9d",
   "metadata": {},
   "outputs": [],
   "source": [
    "iter = 1\n",
    "Obs_Feat = Input_Data[\"iter=$(iter)_Obs_Feat\"]\n",
    "A_true = Input_Data[\"iter=$(iter)_A_true\"]\n",
    "B_true = Input_Data[\"iter=$(iter)_B_true\"]\n",
    "P_dag = Input_Data[\"iter=$(iter)_P_dag\"]\n",
    "\n",
    "obj_ETO,X_ETO,time_ETO = Solve_ETO(N,N_u,K,A_true,B_true,Obs_Feat,P_dag)\n",
    "rev_ETO, price_ETO = compute_oof(X_ETO, A_true, B_true, Obs_Feat, P_dag)\n",
    "println(\"rev_ETO=\",round(rev_ETO,digits=6),\",price_ETO = \",price_ETO)"
   ]
  },
  {
   "cell_type": "code",
   "execution_count": null,
   "id": "11e8e14c",
   "metadata": {},
   "outputs": [],
   "source": [
    "obj_ETO,X_ETO,time_ETO = Solve_ETO_COPT_Version(N,N_u,K,A_true,B_true,Obs_Feat,P_dag)\n",
    "rev_ETO, price_ETO = compute_oof(X_ETO, A_true, B_true, Obs_Feat, P_dag)\n",
    "println(\"rev_ETO=\",round(rev_ETO,digits=6),\",price_ETO = \",price_ETO)"
   ]
  },
  {
   "cell_type": "code",
   "execution_count": null,
   "id": "35d01f0b",
   "metadata": {},
   "outputs": [],
   "source": [
    "RST_ETO = Run_ETO(iterations, N, N_u, K, Input_Data);"
   ]
  },
  {
   "cell_type": "code",
   "execution_count": null,
   "id": "4afc4b7a",
   "metadata": {},
   "outputs": [],
   "source": [
    "# bd_coef = 0.000001\n",
    "bd_coef = 0.0\n",
    "psi_coef = 1\n",
    "RST_RO = Run_RO(bd_coef, iterations, N, N_u, K, Input_Data,psi_coef);"
   ]
  },
  {
   "cell_type": "code",
   "execution_count": null,
   "id": "bfbec259",
   "metadata": {},
   "outputs": [],
   "source": [
    "# psi_coef = 0.05\n",
    "# phi_coef = 0.05\n",
    "# RST_RO_Two_Side = Run_Two_Side_RO(bd_coef, iterations, N, N_u, K, Input_Data,psi_coef,phi_coef);"
   ]
  },
  {
   "cell_type": "code",
   "execution_count": null,
   "id": "1291743b",
   "metadata": {},
   "outputs": [],
   "source": [
    "Rev_ETO = [RST_ETO[\"iter=$(iter)_Rev\"] for iter in 1:iterations]\n",
    "Rev_RO = [RST_RO[\"iter=$(iter)_Rev\"] for iter in 1:iterations]\n",
    "# Rev_RO_2 = [RST_RO_Two_Side[\"iter=$(iter)_Rev\"] for iter in 1:iterations]\n",
    "\n",
    "# println(\"Rev_ETO = \",round.(Rev_ETO,digits=4))\n",
    "println(\"Rev_RO/Rev_ETO = \",round.(Rev_RO./Rev_ETO,digits=4))\n",
    "# println(\"Rev_Two_Side_Ro/Rev_ETO = \",round.(Rev_RO_2./Rev_ETO,digits=4))"
   ]
  },
  {
   "cell_type": "markdown",
   "id": "d3d669dd",
   "metadata": {},
   "source": [
    "## offdiag is positive"
   ]
  },
  {
   "cell_type": "code",
   "execution_count": null,
   "id": "3a42bff7",
   "metadata": {},
   "outputs": [],
   "source": [
    "Random.seed!(2)\n",
    "# 设置参数\n",
    "N = 5   # 产品数\n",
    "K = 10   # 每个产品的选择项数量\n",
    "tau = 10 # 给定常数\n",
    "N_u = 2\n",
    "offdiag_sign = \"positive\"\n",
    "iterations = 10"
   ]
  },
  {
   "cell_type": "code",
   "execution_count": null,
   "id": "5c5660fe",
   "metadata": {},
   "outputs": [],
   "source": [
    "Input_Data = generate_Data(iterations, N, N_u, K, offdiag_sign);"
   ]
  },
  {
   "cell_type": "code",
   "execution_count": null,
   "id": "02b622b2",
   "metadata": {},
   "outputs": [],
   "source": [
    "RST_ETO = Run_ETO(iterations, N, N_u, K, Input_Data);"
   ]
  },
  {
   "cell_type": "code",
   "execution_count": null,
   "id": "2dd81f10",
   "metadata": {},
   "outputs": [],
   "source": [
    "bd_coef = 0.0\n",
    "psi_coef = 1\n",
    "RST_RO = Run_RO(bd_coef, iterations, N, N_u, K, Input_Data,psi_coef);"
   ]
  },
  {
   "cell_type": "code",
   "execution_count": null,
   "id": "5aec8cd7",
   "metadata": {},
   "outputs": [],
   "source": [
    "# psi_coef = 0.01\n",
    "# phi_coef = 0.01\n",
    "# RST_RO_Two_Side = Run_Two_Side_RO(bd_coef, iterations, N, N_u, K, Input_Data,psi_coef,phi_coef);"
   ]
  },
  {
   "cell_type": "code",
   "execution_count": null,
   "id": "ae8ec67d",
   "metadata": {},
   "outputs": [],
   "source": [
    "Rev_ETO = [RST_ETO[\"iter=$(iter)_Rev\"] for iter in 1:iterations]\n",
    "Rev_RO = [RST_RO[\"iter=$(iter)_Rev\"] for iter in 1:iterations]\n",
    "# Rev_RO_2 = [RST_RO_Two_Side[\"iter=$(iter)_Rev\"] for iter in 1:iterations]\n",
    "\n",
    "# println(\"Rev_ETO = \",round.(Rev_ETO,digits=4))\n",
    "println(\"Rev_RO/Rev_ETO = \",round.(Rev_RO./Rev_ETO,digits=4))\n",
    "# println(\"Rev_Two_Side_Ro/Rev_ETO = \",round.(Rev_RO_2./Rev_ETO,digits=4))"
   ]
  },
  {
   "cell_type": "code",
   "execution_count": null,
   "id": "eceda817",
   "metadata": {},
   "outputs": [],
   "source": [
    "# psi_coef_all = [0.001,0.005,0.01, 0.02,0.04,0.06,0.08, 0.1]\n",
    "# phi_coef_all = [0.001,0.005,0.01, 0.02,0.04,0.06,0.08, 0.1]\n",
    "# Run_Two_Side_RO_Cross_validation(bd_coef, iterations, N, N_u, K, Input_Data,psi_coef_all,phi_coef_all)"
   ]
  },
  {
   "cell_type": "markdown",
   "id": "10870827",
   "metadata": {},
   "source": [
    "## offdiag is negative"
   ]
  },
  {
   "cell_type": "code",
   "execution_count": null,
   "id": "94d4c309",
   "metadata": {},
   "outputs": [],
   "source": [
    "Random.seed!(2)\n",
    "# 设置参数\n",
    "N = 5   # 产品数\n",
    "K = 10   # 每个产品的选择项数量\n",
    "tau = 10 # 给定常数\n",
    "N_u = 2\n",
    "offdiag_sign = \"negative\"\n",
    "iterations = 10"
   ]
  },
  {
   "cell_type": "code",
   "execution_count": null,
   "id": "5954e94c",
   "metadata": {},
   "outputs": [],
   "source": [
    "Input_Data = generate_Data(iterations, N, N_u, K, offdiag_sign);"
   ]
  },
  {
   "cell_type": "code",
   "execution_count": null,
   "id": "e034efd1",
   "metadata": {},
   "outputs": [],
   "source": [
    "RST_ETO = Run_ETO(iterations, N, N_u, K, Input_Data);"
   ]
  },
  {
   "cell_type": "code",
   "execution_count": null,
   "id": "285ba907",
   "metadata": {},
   "outputs": [],
   "source": [
    "bd_coef = 0.0\n",
    "psi_coef = 1\n",
    "RST_RO = Run_RO(bd_coef, iterations, N, N_u, K, Input_Data,psi_coef);"
   ]
  },
  {
   "cell_type": "code",
   "execution_count": null,
   "id": "2ff929d4",
   "metadata": {},
   "outputs": [],
   "source": [
    "# psi_coef = 1\n",
    "# phi_coef = 1\n",
    "# RST_RO_Two_Side = Run_Two_Side_RO(bd_coef, iterations, N, N_u, K, Input_Data,psi_coef,phi_coef);"
   ]
  },
  {
   "cell_type": "code",
   "execution_count": null,
   "id": "c5c0d13f",
   "metadata": {},
   "outputs": [],
   "source": [
    "Rev_ETO = [RST_ETO[\"iter=$(iter)_Rev\"] for iter in 1:iterations]\n",
    "Rev_RO = [RST_RO[\"iter=$(iter)_Rev\"] for iter in 1:iterations]\n",
    "# Rev_RO_2 = [RST_RO_Two_Side[\"iter=$(iter)_Rev\"] for iter in 1:iterations]\n",
    "\n",
    "# println(\"Rev_ETO = \",round.(Rev_ETO,digits=4))\n",
    "println(\"Rev_RO/Rev_ETO = \",round.(Rev_RO./Rev_ETO,digits=4))\n",
    "# println(\"Rev_Two_Side_Ro/Rev_ETO = \",round.(Rev_RO_2./Rev_ETO,digits=4))"
   ]
  },
  {
   "cell_type": "markdown",
   "id": "25bb1028",
   "metadata": {},
   "source": [
    "## offdiag is mix"
   ]
  },
  {
   "cell_type": "code",
   "execution_count": null,
   "id": "58092d31",
   "metadata": {},
   "outputs": [],
   "source": [
    "Random.seed!(2)\n",
    "# 设置参数\n",
    "N = 5   # 产品数\n",
    "K = 10   # 每个产品的选择项数量\n",
    "tau = 10 # 给定常数\n",
    "N_u = 2\n",
    "offdiag_sign = \"mix\"\n",
    "iterations = 10"
   ]
  },
  {
   "cell_type": "code",
   "execution_count": null,
   "id": "34bf88a5",
   "metadata": {},
   "outputs": [],
   "source": [
    "Input_Data = generate_Data(iterations, N, N_u, K, offdiag_sign);"
   ]
  },
  {
   "cell_type": "code",
   "execution_count": null,
   "id": "70b5436e",
   "metadata": {},
   "outputs": [],
   "source": [
    "RST_ETO = Run_ETO(iterations, N, N_u, K, Input_Data);"
   ]
  },
  {
   "cell_type": "code",
   "execution_count": null,
   "id": "82822b58",
   "metadata": {},
   "outputs": [],
   "source": [
    "bd_coef = 0.0\n",
    "psi_coef = 1\n",
    "RST_RO = Run_RO(bd_coef, iterations, N, N_u, K, Input_Data,psi_coef);"
   ]
  },
  {
   "cell_type": "code",
   "execution_count": null,
   "id": "875f353b",
   "metadata": {},
   "outputs": [],
   "source": [
    "# psi_coef = 1\n",
    "# phi_coef = 1\n",
    "# RST_RO_Two_Side = Run_Two_Side_RO(bd_coef, iterations, N, N_u, K, Input_Data,psi_coef,phi_coef);"
   ]
  },
  {
   "cell_type": "code",
   "execution_count": null,
   "id": "c310dd39",
   "metadata": {},
   "outputs": [],
   "source": [
    "Rev_ETO = [RST_ETO[\"iter=$(iter)_Rev\"] for iter in 1:iterations]\n",
    "Rev_RO = [RST_RO[\"iter=$(iter)_Rev\"] for iter in 1:iterations]\n",
    "# Rev_RO_2 = [RST_RO_Two_Side[\"iter=$(iter)_Rev\"] for iter in 1:iterations]\n",
    "\n",
    "# println(\"Rev_ETO = \",round.(Rev_ETO,digits=4))\n",
    "println(\"Rev_RO/Rev_ETO = \",round.(Rev_RO./Rev_ETO,digits=4))\n",
    "# println(\"Rev_Two_Side_Ro/Rev_ETO = \",round.(Rev_RO_2./Rev_ETO,digits=4))"
   ]
  }
 ],
 "metadata": {
  "kernelspec": {
   "display_name": "Julia 1.10.3",
   "language": "julia",
   "name": "julia-1.10"
  },
  "language_info": {
   "file_extension": ".jl",
   "mimetype": "application/julia",
   "name": "julia",
   "version": "1.10.3"
  }
 },
 "nbformat": 4,
 "nbformat_minor": 5
}
