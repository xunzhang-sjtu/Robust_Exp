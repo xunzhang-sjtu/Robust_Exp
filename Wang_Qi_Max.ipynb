{
 "cells": [
  {
   "cell_type": "code",
   "execution_count": 1,
   "id": "fdaeca86",
   "metadata": {},
   "outputs": [
    {
     "data": {
      "text/plain": [
       "estimate_parameters (generic function with 1 method)"
      ]
     },
     "metadata": {},
     "output_type": "display_data"
    }
   ],
   "source": [
    "using LinearAlgebra\n",
    "using Distributions\n",
    "using Optim\n",
    "using Random\n",
    "using StatsFuns\n",
    "using JuMP\n",
    "using MosekTools\n",
    "using StatsBase\n",
    "using SparseArrays # 可选，用于处理稀疏性（如果数据量很大）\n",
    "\n",
    "include(\"Data_Generation.jl\")\n",
    "include(\"Estimation_Wang_Qi_Max.jl\")"
   ]
  },
  {
   "cell_type": "code",
   "execution_count": 2,
   "id": "b30d1459",
   "metadata": {},
   "outputs": [
    {
     "data": {
      "text/plain": [
       "TaskLocalRNG()"
      ]
     },
     "metadata": {},
     "output_type": "display_data"
    }
   ],
   "source": [
    "d = 5 # num of product feature\n",
    "p = 10 # num of customer feature\n",
    "n = 1000 # num of training samples\n",
    "m = 5 # num of products\n",
    "s = 10\n",
    "Random.seed!(2024)"
   ]
  },
  {
   "cell_type": "markdown",
   "id": "5c2cfadc",
   "metadata": {},
   "source": [
    "### Data Generation"
   ]
  },
  {
   "cell_type": "code",
   "execution_count": 3,
   "id": "32f74f4c",
   "metadata": {},
   "outputs": [],
   "source": [
    "theta_true, r_params = Generate_Wang_Qi_Max_True_Paras(d,p,s);"
   ]
  },
  {
   "cell_type": "code",
   "execution_count": 4,
   "id": "4099dcd4",
   "metadata": {},
   "outputs": [],
   "source": [
    "X,Y,Z = Generate_Wang_Qi_Max_True_Data(d, p, n, m,theta_true);"
   ]
  },
  {
   "cell_type": "markdown",
   "id": "1509cbf5",
   "metadata": {},
   "source": [
    "### Estimation"
   ]
  },
  {
   "cell_type": "code",
   "execution_count": 5,
   "id": "30bf3501",
   "metadata": {},
   "outputs": [],
   "source": [
    "lambda = 0.0001\n",
    "theta_hat, opt_result = estimate_parameters(X,Y,Z,lambda, d, p, initial_theta=randn((d+1)*(p+1)) * 0.1);"
   ]
  }
 ],
 "metadata": {
  "kernelspec": {
   "display_name": "Julia 1.10.3",
   "language": "julia",
   "name": "julia-1.10"
  },
  "language_info": {
   "file_extension": ".jl",
   "mimetype": "application/julia",
   "name": "julia",
   "version": "1.10.3"
  }
 },
 "nbformat": 4,
 "nbformat_minor": 5
}
