{
 "cells": [
  {
   "cell_type": "code",
   "execution_count": 1,
   "id": "fdaeca86",
   "metadata": {},
   "outputs": [
    {
     "data": {
      "text/plain": [
       "estimate_parameters (generic function with 1 method)"
      ]
     },
     "metadata": {},
     "output_type": "display_data"
    }
   ],
   "source": [
    "using LinearAlgebra\n",
    "using Distributions\n",
    "using Optim\n",
    "using Random\n",
    "using StatsFuns\n",
    "using JuMP\n",
    "using MosekTools\n",
    "using StatsBase\n",
    "using SparseArrays # 可选，用于处理稀疏性（如果数据量很大）\n",
    "\n",
    "include(\"Data_Generation.jl\")\n",
    "include(\"Estimation_Wang_Qi_Max.jl\")"
   ]
  },
  {
   "cell_type": "code",
   "execution_count": 2,
   "id": "b30d1459",
   "metadata": {},
   "outputs": [
    {
     "data": {
      "text/plain": [
       "TaskLocalRNG()"
      ]
     },
     "metadata": {},
     "output_type": "display_data"
    }
   ],
   "source": [
    "d = 5 # num of product feature\n",
    "p = 10 # num of customer feature\n",
    "n = 1000 # num of training samples\n",
    "n_test = 1000\n",
    "m = 5 # num of products\n",
    "s = 10\n",
    "Random.seed!(2024)"
   ]
  },
  {
   "cell_type": "markdown",
   "id": "5c2cfadc",
   "metadata": {},
   "source": [
    "### Data Generation"
   ]
  },
  {
   "cell_type": "code",
   "execution_count": 3,
   "id": "32f74f4c",
   "metadata": {},
   "outputs": [],
   "source": [
    "theta_true, r_params = Generate_Wang_Qi_Max_True_Paras(d,p,s);"
   ]
  },
  {
   "cell_type": "code",
   "execution_count": 4,
   "id": "4099dcd4",
   "metadata": {},
   "outputs": [],
   "source": [
    "X_train,Y_train,Z_train = Generate_Wang_Qi_Max_True_Data(d, p, n, m,theta_true);"
   ]
  },
  {
   "cell_type": "code",
   "execution_count": 5,
   "id": "678cc579",
   "metadata": {},
   "outputs": [],
   "source": [
    "X_test,Y_test,Z_test = Generate_Wang_Qi_Max_True_Data(d, p, n_test, m,theta_true);"
   ]
  },
  {
   "cell_type": "markdown",
   "id": "1509cbf5",
   "metadata": {},
   "source": [
    "### Estimation"
   ]
  },
  {
   "cell_type": "code",
   "execution_count": null,
   "id": "30bf3501",
   "metadata": {},
   "outputs": [],
   "source": [
    "lambda = 0.0001\n",
    "theta_hat, opt_result = estimate_parameters(X_train,Y_train,Z_train,lambda, d, p, initial_theta=randn((d+1)*(p+1)) * 0.1);"
   ]
  },
  {
   "cell_type": "markdown",
   "id": "4864948c",
   "metadata": {},
   "source": [
    "### Estimate-then-optimize model"
   ]
  },
  {
   "cell_type": "code",
   "execution_count": 127,
   "id": "fb651220",
   "metadata": {},
   "outputs": [
    {
     "data": {
      "text/plain": [
       "Product_Design_Ours_ETO (generic function with 1 method)"
      ]
     },
     "metadata": {},
     "output_type": "display_data"
    }
   ],
   "source": [
    "function Product_Design_Ours_ETO(d,nu0, nu, r0, r, z_input)\n",
    "\n",
    "    model = Model(Mosek.Optimizer)\n",
    "    set_attribute(model, \"QUIET\", true)\n",
    "    # 定义变量\n",
    "    @variable(model, a0 >= 0)                       \n",
    "    @variable(model, a1 >= 0) \n",
    "    @variable(model, u)                       \n",
    "    @variable(model, v)\n",
    "    @variable(model, x[1:d], Bin)\n",
    "    @variable(model, y[1:d])\n",
    "    @variable(model, z_int[1:d])\n",
    "\n",
    "    @constraint(model, sum(x) >= 1)\n",
    "    @constraint(model, a0 + a1 == 1)\n",
    "    @constraint(model, [u,a0,a1] in MOI.ExponentialCone())\n",
    "    @constraint(model, [-v,a1,a0] in MOI.ExponentialCone())\n",
    "    @constraint(model, u == nu0 * a0 + nu' * z_int)\n",
    "    @constraint(model, v == a1 * nu0 + nu' * y)\n",
    "    for ind in 1:d\n",
    "        @constraint(model, z_int[ind] <= a0)\n",
    "        @constraint(model, z_int[ind] <= x[ind])\n",
    "        @constraint(model, z_int[ind] >= x[ind] - (1 - a0))\n",
    "        @constraint(model, z_int[ind] >= 0)\n",
    "    end\n",
    "    for ind in 1:d\n",
    "        @constraint(model, y[ind] <= a1)\n",
    "        @constraint(model, y[ind] <= x[ind])\n",
    "        @constraint(model, y[ind] >= x[ind] - (1 - a1))\n",
    "        @constraint(model, y[ind] >= 0)\n",
    "    end\n",
    "    @objective(model, Max,r0 * a1 + r' * y)\n",
    "    optimize!(model)\n",
    "    status = JuMP.termination_status(model)\n",
    "    if status == MOI.OPTIMAL\n",
    "        obj_val = objective_value(model)\n",
    "        x_val = value.(x)\n",
    "        solve_time = JuMP.solve_time(model)\n",
    "    else\n",
    "        obj_val = NaN\n",
    "        x_val = ones(d) .* NaN\n",
    "        solve_time = NaN\n",
    "    end\n",
    "    return obj_val, x_val, solve_time\n",
    "end"
   ]
  },
  {
   "cell_type": "code",
   "execution_count": 137,
   "id": "adf9ee83",
   "metadata": {},
   "outputs": [
    {
     "data": {
      "text/plain": [
       "Product_Design_ETO (generic function with 2 methods)"
      ]
     },
     "metadata": {},
     "output_type": "display_data"
    }
   ],
   "source": [
    "function Product_Design_ETO(d,nu0, nu, r0,r, z_input)\n",
    "    model = Model(Mosek.Optimizer)\n",
    "    set_attribute(model, \"QUIET\", true)\n",
    "    # 定义变量\n",
    "    @variable(model, a0 >= 0)                       \n",
    "    @variable(model, a1 >= 0) \n",
    "    @variable(model, b0)                       \n",
    "    @variable(model, b1) \n",
    "    @variable(model, v0)                       \n",
    "    @variable(model, v1)\n",
    "    @variable(model, u)                       \n",
    "    @variable(model, w)\n",
    "    @variable(model, x[1:d], Bin)\n",
    "    @variable(model, y[1:d])\n",
    "    @variable(model, phi)\n",
    "\n",
    "    @constraint(model, a0 + a1 == 1)\n",
    "    @constraint(model, w + b1 + b0 >= phi)\n",
    "    @constraint(model, [b1,a1,1] in MOI.ExponentialCone())\n",
    "    @constraint(model, [b0,a0,1] in MOI.ExponentialCone())\n",
    "    @constraint(model, v0 + v1 <= 1)\n",
    "    @constraint(model, [u-phi,1,v1] in MOI.ExponentialCone())\n",
    "    @constraint(model, [-phi,1,v0] in MOI.ExponentialCone())\n",
    "    @constraint(model, w == nu0 * a1 + nu' * y)\n",
    "    @constraint(model, u == nu0 + nu' * x)\n",
    "    for ind in 1:d\n",
    "        @constraint(model, y[ind] <= a1)\n",
    "        @constraint(model, y[ind] <= x[ind])\n",
    "        @constraint(model, y[ind] >= x[ind] - (1 - a1))\n",
    "        @constraint(model, y[ind] >= 0)\n",
    "    end\n",
    "    @objective(model, Max,r0 * a1 + r' * y)\n",
    "\n",
    "    optimize!(model)\n",
    "    status = JuMP.termination_status(model)\n",
    "\n",
    "    if status == MOI.OPTIMAL\n",
    "        obj_val = objective_value(model)\n",
    "        x_val = value.(x)\n",
    "        solve_time = JuMP.solve_time(model)\n",
    "    else\n",
    "        obj_val = NaN\n",
    "        x_val = ones(d) .* NaN\n",
    "        solve_time = NaN\n",
    "    end\n",
    "    return obj_val, x_val, solve_time\n",
    "end"
   ]
  },
  {
   "cell_type": "code",
   "execution_count": 154,
   "id": "41e15ce1",
   "metadata": {},
   "outputs": [],
   "source": [
    "z_input = Z_test[3,:];\n",
    "r0 = r_params.r0;\n",
    "r = r_params.r;\n",
    "alp0 = theta_true.alpha0;\n",
    "alp = theta_true.alpha;\n",
    "beta = theta_true.beta;\n",
    "A = theta_true.A;\n",
    "nu0 = alp0 + beta' * z_input;\n",
    "nu = alp .+ A * z_input;"
   ]
  },
  {
   "cell_type": "code",
   "execution_count": 155,
   "id": "ad023054",
   "metadata": {},
   "outputs": [],
   "source": [
    "obj_True_Our, x_True_our, solve_time_true = Product_Design_Ours_ETO(d,nu0, nu, r0, r, z_input);"
   ]
  },
  {
   "cell_type": "code",
   "execution_count": 156,
   "id": "d89d3cae",
   "metadata": {},
   "outputs": [],
   "source": [
    "obj_True, x_True, solve_time = Product_Design_ETO(d,nu0, nu, r0, r, z_input);"
   ]
  },
  {
   "cell_type": "code",
   "execution_count": 159,
   "id": "c201b75c",
   "metadata": {},
   "outputs": [
    {
     "name": "stdout",
     "output_type": "stream",
     "text": [
      "objective value of our model: 0.7871483882747676\n",
      "objective value of Wang_Qi_Max (2019): 0.7873610960644186\n"
     ]
    }
   ],
   "source": [
    "println(\"objective value of our model: \", obj_True_Our)\n",
    "println(\"objective value of Wang_Qi_Max (2019): \", obj_True)"
   ]
  },
  {
   "cell_type": "markdown",
   "id": "ca2e9c13",
   "metadata": {},
   "source": [
    "### Performance"
   ]
  },
  {
   "cell_type": "code",
   "execution_count": 161,
   "id": "c8db5561",
   "metadata": {},
   "outputs": [
    {
     "data": {
      "text/plain": [
       "calculate_profit (generic function with 1 method)"
      ]
     },
     "metadata": {},
     "output_type": "display_data"
    }
   ],
   "source": [
    "function calculate_profit(alp0, alp, beta, A, r0, r, x_val, z_input)\n",
    "    utility = alp0 + alp' * x_val + beta' * z_input + x_val' * A * z_input\n",
    "    prob = exp(utility)/(1+exp(utility))\n",
    "    profits = r0 + r' * x_val\n",
    "    total_profit = profits * prob\n",
    "    return total_profit\n",
    "end"
   ]
  },
  {
   "cell_type": "code",
   "execution_count": 162,
   "id": "2598cbb6",
   "metadata": {},
   "outputs": [
    {
     "name": "stdout",
     "output_type": "stream",
     "text": [
      "total profit of our model: 0.7871483877515713\n",
      "total profit of Wang_Qi_Max (2019): 0.7871483877515713\n"
     ]
    }
   ],
   "source": [
    "profit_True_ours = calculate_profit(alp0, alp, beta, A, r0, r, x_True_our, z_input)\n",
    "profit_True = calculate_profit(alp0, alp, beta, A, r0, r, x_True, z_input)\n",
    "println(\"total profit of our model: \", profit_True_ours)\n",
    "println(\"total profit of Wang_Qi_Max (2019): \", profit_True)"
   ]
  }
 ],
 "metadata": {
  "kernelspec": {
   "display_name": "Julia 1.10.3",
   "language": "julia",
   "name": "julia-1.10"
  },
  "language_info": {
   "file_extension": ".jl",
   "mimetype": "application/julia",
   "name": "julia",
   "version": "1.10.3"
  }
 },
 "nbformat": 4,
 "nbformat_minor": 5
}
