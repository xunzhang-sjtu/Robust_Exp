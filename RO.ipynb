{
 "cells": [
  {
   "cell_type": "code",
   "execution_count": 1,
   "id": "ea7846fb",
   "metadata": {},
   "outputs": [
    {
     "data": {
      "text/plain": [
       "TaskLocalRNG()"
      ]
     },
     "metadata": {},
     "output_type": "display_data"
    }
   ],
   "source": [
    "using LinearAlgebra\n",
    "using Distributions\n",
    "using Optim\n",
    "using Random\n",
    "using StatsFuns\n",
    "using JuMP\n",
    "using MosekTools\n",
    "# 设置随机种子\n",
    "Random.seed!(123)"
   ]
  },
  {
   "cell_type": "markdown",
   "id": "a9f432d1",
   "metadata": {},
   "source": [
    "### Predict-then-optimize "
   ]
  },
  {
   "cell_type": "code",
   "execution_count": 2,
   "id": "51af1382",
   "metadata": {},
   "outputs": [
    {
     "data": {
      "text/plain": [
       "3×10 Matrix{Float64}:\n",
       " 0.0802658  0.654101   0.271636  0.88463   …  0.862761  0.387374  0.875555\n",
       " 0.0490284  0.256433   0.688575  0.810734     0.158312  0.771916  0.264568\n",
       " 0.915866   0.0862789  0.789013  0.257922     0.5403    0.377383  0.901877"
      ]
     },
     "metadata": {},
     "output_type": "display_data"
    }
   ],
   "source": [
    "Random.seed!(123)\n",
    "# 设置参数\n",
    "N = 3   # 样本数量（或产品组数）\n",
    "K = 10   # 每个样本的选择项数量\n",
    "tau = 10 # 给定常数\n",
    "N_u = 2\n",
    "\n",
    "# 预设数据（根据你的实际问题替换这些值）\n",
    "u = rand(N_u)        # u 向量 ∈ ℝ^N\n",
    "A = rand(N,N_u)      # a_n ∈ ℝ^N\n",
    "# B = rand(N,N)        # b_n ∈ ℝ^N\n",
    "p_dag = rand(N, K)   # p_{nk}^† 数据矩阵"
   ]
  },
  {
   "cell_type": "code",
   "execution_count": 3,
   "id": "ed77dd7d",
   "metadata": {},
   "outputs": [
    {
     "name": "stdout",
     "output_type": "stream",
     "text": [
      "Generated B matrix:\n",
      "[-2.66 0.51 0.41; 0.88 -2.49 0.54; 0.78 0.98 -2.76]\n"
     ]
    }
   ],
   "source": [
    "B = rand(N, N)  # 随机生成矩阵\n",
    "for i in 1:N\n",
    "    for j in 1:N\n",
    "        if i == j\n",
    "            B[i, j] = -abs(B[i, j]) * 10  # 对角线元素为负\n",
    "        else\n",
    "            B[i, j] = abs(B[i, j])  # 非对角线元素为正\n",
    "        end\n",
    "    end\n",
    "end\n",
    "\n",
    "# 确保对角线元素大于所在行和列的其他元素之和\n",
    "for i in 1:N\n",
    "    row_sum = sum(B[i, :]) - B[i, i]  # 当前行其他元素之和\n",
    "    col_sum = sum(B[:, i]) - B[i, i]  # 当前列其他元素之和\n",
    "    B[i, i] = -max(row_sum, col_sum) - 1  # 确保对角线元素更小\n",
    "end\n",
    "\n",
    "println(\"Generated B matrix:\")\n",
    "println(round.(B, digits=2))"
   ]
  },
  {
   "cell_type": "code",
   "execution_count": null,
   "id": "30f888b0",
   "metadata": {},
   "outputs": [
    {
     "name": "stdout",
     "output_type": "stream",
     "text": [
      "Problem\n",
      "  Name                   :                 \n",
      "  Objective sense        : minimize        \n",
      "  Type                   : CONIC (conic optimization problem)\n",
      "  Constraints            : 276             \n",
      "  Affine conic cons.     : 3 (9 rows)\n",
      "  Disjunctive cons.      : 0               \n",
      "  Cones                  : 0               \n",
      "  Scalar variables       : 99              \n",
      "  Matrix variables       : 0               \n",
      "  Integer variables      : 30              \n",
      "\n",
      "Optimizer started.\n",
      "Mixed integer optimizer started.\n",
      "Threads used: 8\n",
      "Presolve started.\n",
      "Presolve terminated. Time = 0.00, probing time =  0.00\n",
      "Clique table size: 0\n",
      "BRANCHES RELAXS   ACT_NDS  DEPTH    BEST_INT_OBJ         BEST_RELAX_OBJ       REL_GAP(%)  TIME  \n",
      "\n",
      "Objective of best integer solution : Not available.\n",
      "Best objective bound               : Not available.\n",
      "Initial feasible solution objective: Undefined\n",
      "Construct solution objective       : Not employed\n",
      "User objective cut value           : Not employed\n",
      "Number of cuts generated           : 0\n",
      "Number of branches                 : 0\n",
      "Number of relaxations solved       : 0\n",
      "Number of interior point iterations: 0\n",
      "Number of simplex iterations       : 0\n",
      "Time spend presolving the root     : 0.00\n",
      "Time spend optimizing the root     : 0.00\n",
      "Mixed integer optimizer terminated. Time: 0.00\n",
      "\n",
      "Optimizer terminated. Time: 0.00    \n",
      "\n"
     ]
    }
   ],
   "source": [
    "model = Model(Mosek.Optimizer)\n",
    "# model = Model(COPT.ConeOptimizer)\n",
    "# 定义变量\n",
    "@variable(model, rho_0 >= 0)                       # ρ₀ ≥ 0\n",
    "@variable(model, rho[1:N] >= 0)                    # ρ_n ≥ 0\n",
    "@variable(model, v_sigma[1:N_u])                   # ς = ρ₀ * u\n",
    "@variable(model, v_phi[1:N])                       # φ_n\n",
    "@variable(model, Y[1:N, 1:K])                      # y_{nk}\n",
    "@variable(model, Z[1:N, 1:K])                      # z_{nk}\n",
    "@variable(model, X[1:N, 1:K], Bin)                 # x_{nk} ∈ {0,1}\n",
    "\n",
    "# 1. 总和约束\n",
    "@constraint(model, rho_0 + sum(rho) == 1)\n",
    "\n",
    "# 2. ς = ρ₀ * u\n",
    "@constraint(model, v_sigma .== rho_0 * u)\n",
    "\n",
    "# 3. φ_n = ∑_k z_{nk} * p_{nk}^†\n",
    "@constraint(model, v_phi .== sum(Z .* p_dag, dims=2))\n",
    "\n",
    "# 4. 辅助变量上下界\n",
    "for n in 1:N\n",
    "    for k in 1:K\n",
    "        # y_{nk} bounds\n",
    "        @constraint(model, 0 <= Y[n, k])\n",
    "        @constraint(model, Y[n, k] <= X[n, k])\n",
    "        @constraint(model, Y[n, k] >= rho[n] - (1 - X[n, k]))\n",
    "        @constraint(model, Y[n, k] <= rho[n])\n",
    "\n",
    "        # z_{nk} bounds\n",
    "        @constraint(model, 0 <= Z[n, k])\n",
    "        @constraint(model, Z[n, k] <= X[n, k])\n",
    "        @constraint(model, Z[n, k] >= rho_0 - (1 - X[n, k]))\n",
    "        @constraint(model, Z[n, k] <= rho_0)\n",
    "    end\n",
    "end\n",
    "\n",
    "\n",
    "@constraint(model, 1 .== sum(X, dims=2))\n",
    "\n",
    "# X_given = zeros(N, K)  # 给定的 X 矩阵\n",
    "# X_given[1, :] = [1, 0, 0]\n",
    "# X_given[2, :] = [0, 1, 0]   \n",
    "# X_given[3, :] = [0, 0, 1]\n",
    "# @constraint(model, X .== X_given)\n",
    "\n",
    "for n in 1:N\n",
    "    @constraint(model, [rho[n], rho_0, A[n,:]' * v_sigma + B[n,:]' * v_phi] in MOI.ExponentialCone())\n",
    "end\n",
    "\n",
    "@objective(model, Min,sum(Y .* p_dag) - tau * sum(rho))\n",
    "\n",
    "optimize!(model)"
   ]
  },
  {
   "cell_type": "code",
   "execution_count": 8,
   "id": "b0f3fce1",
   "metadata": {},
   "outputs": [
    {
     "name": "stdout",
     "output_type": "stream",
     "text": [
      "求解状态：INFEASIBLE\n",
      "最优目标值：0.0\n",
      "\n",
      "估计的变量：\n",
      "rho_0 = 0.0\n",
      "rho = [0.0, 0.0, 0.0]\n",
      "X = \n",
      "[0 0 0 0 0 0 0 0 0 0; 0 0 0 0 0 0 0 0 0 0; 0 0 0 0 0 0 0 0 0 0]\n"
     ]
    }
   ],
   "source": [
    "# 输出状态与目标值\n",
    "println(\"求解状态：\", termination_status(model))\n",
    "println(\"最优目标值：\", objective_value(model))\n",
    "\n",
    "# 输出部分变量（可选）\n",
    "println(\"\\n估计的变量：\")\n",
    "println(\"rho_0 = \", value(rho_0))\n",
    "println(\"rho = \", value.(rho))\n",
    "println(\"X = \\n\", round.(Int, value.(X)))"
   ]
  },
  {
   "cell_type": "code",
   "execution_count": null,
   "id": "07b9fe46",
   "metadata": {},
   "outputs": [],
   "source": [
    "argmax_indices = argmax(value.(X), dims=2)  \n",
    "for n in 1:N\n",
    "    println(\"样本 $n 的最大值索引：\", argmax_indices[n])\n",
    "end"
   ]
  }
 ],
 "metadata": {
  "kernelspec": {
   "display_name": "Julia 1.10.3",
   "language": "julia",
   "name": "julia-1.10"
  },
  "language_info": {
   "file_extension": ".jl",
   "mimetype": "application/julia",
   "name": "julia",
   "version": "1.10.3"
  }
 },
 "nbformat": 4,
 "nbformat_minor": 5
}
