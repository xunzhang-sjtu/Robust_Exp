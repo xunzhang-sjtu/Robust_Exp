{
 "cells": [
  {
   "cell_type": "code",
   "execution_count": 1,
   "id": "fdaeca86",
   "metadata": {},
   "outputs": [],
   "source": [
    "using LinearAlgebra\n",
    "using Distributions\n",
    "using Optim\n",
    "using Random\n",
    "using StatsFuns\n",
    "using JuMP\n",
    "using MosekTools\n",
    "using StatsBase\n",
    "using SparseArrays # 可选，用于处理稀疏性（如果数据量很大）\n",
    "using FileIO\n",
    "using JLD2"
   ]
  },
  {
   "cell_type": "code",
   "execution_count": 2,
   "id": "2e628bb1",
   "metadata": {},
   "outputs": [
    {
     "name": "stdout",
     "output_type": "stream",
     "text": [
      "Data directory: /Users/zhangxun/Dropbox/Research/Robust_Exp/Data/Product_Design/\n"
     ]
    }
   ],
   "source": [
    "current_dir = pwd()\n",
    "parent_dir = dirname(current_dir)\n",
    "grand_pa_dir = dirname(parent_dir)\n",
    "project_dir = dirname(grand_pa_dir)\n",
    "data_dir = string(project_dir, \"/Data/Product_Design/\")\n",
    "println(\"Data directory: \", data_dir)"
   ]
  },
  {
   "cell_type": "code",
   "execution_count": 20,
   "id": "88665ebe",
   "metadata": {},
   "outputs": [],
   "source": [
    "gamma_list = [0.0,0.0001,0.005,0.01,0.02,0.04,0.06,0.08,0.1];"
   ]
  },
  {
   "cell_type": "code",
   "execution_count": 12,
   "id": "87f9c0dd",
   "metadata": {},
   "outputs": [
    {
     "data": {
      "text/plain": [
       "\"/Users/zhangxun/Dropbox/Research/Robust_Exp/Data/Product_Design/instance=2/\""
      ]
     },
     "metadata": {},
     "output_type": "display_data"
    }
   ],
   "source": [
    "ins = 2\n",
    "data_dir_ins = string(data_dir, \"instance=$ins/\")"
   ]
  },
  {
   "cell_type": "code",
   "execution_count": 13,
   "id": "f1f61e12",
   "metadata": {},
   "outputs": [],
   "source": [
    "Result_True = load(string(data_dir_ins,\"Result_True.jld2\"));"
   ]
  },
  {
   "cell_type": "code",
   "execution_count": 14,
   "id": "aeb19c70",
   "metadata": {},
   "outputs": [],
   "source": [
    "Result_ETO = load(string(data_dir_ins,\"Result_ETO.jld2\"));"
   ]
  },
  {
   "cell_type": "code",
   "execution_count": 15,
   "id": "70e6bc67",
   "metadata": {},
   "outputs": [],
   "source": [
    "Result_RO = load(string(data_dir_ins,\"Result_RO.jld2\"));"
   ]
  },
  {
   "cell_type": "code",
   "execution_count": 19,
   "id": "73bf3f86",
   "metadata": {},
   "outputs": [
    {
     "name": "stdout",
     "output_type": "stream",
     "text": [
      "profit_True_avg = 1.5732\n",
      "profit_ETO_avg = 1.463\n"
     ]
    }
   ],
   "source": [
    "profit_True_avg = mean(Result_True[\"profit\"])\n",
    "profit_ETO_avg = mean(Result_ETO[\"profit\"])\n",
    "println(\"profit_True_avg = \", round(profit_True_avg,digits=4))\n",
    "println(\"profit_ETO_avg = \", round(profit_ETO_avg,digits=4))"
   ]
  },
  {
   "cell_type": "code",
   "execution_count": 17,
   "id": "22337aa9",
   "metadata": {},
   "outputs": [
    {
     "name": "stdout",
     "output_type": "stream",
     "text": [
      "gamma=0.0, profit_RO_avg=1.463\n",
      "gamma=0.0001, profit_RO_avg=1.463\n",
      "gamma=0.005, profit_RO_avg=1.463\n",
      "gamma=0.01, profit_RO_avg=1.463\n",
      "gamma=0.02, profit_RO_avg=1.4585\n",
      "gamma=0.04, profit_RO_avg=1.4556\n",
      "gamma=0.06, profit_RO_avg=1.4525\n",
      "gamma=0.08, profit_RO_avg=1.4596\n",
      "gamma=0.1, profit_RO_avg=1.4529\n"
     ]
    }
   ],
   "source": [
    "for gamma in gamma_list\n",
    "    profit_RO_avg = mean(Result_RO[\"profit\"][\"gamma=$gamma\"])\n",
    "    println(\"gamma=$gamma, profit_RO_avg=$(round(profit_RO_avg,digits=4))\")\n",
    "end"
   ]
  }
 ],
 "metadata": {
  "kernelspec": {
   "display_name": "Julia 1.10.3",
   "language": "julia",
   "name": "julia-1.10"
  },
  "language_info": {
   "file_extension": ".jl",
   "mimetype": "application/julia",
   "name": "julia",
   "version": "1.10.3"
  }
 },
 "nbformat": 4,
 "nbformat_minor": 5
}
