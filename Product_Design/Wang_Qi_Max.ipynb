{
 "cells": [
  {
   "cell_type": "code",
   "execution_count": 39,
   "id": "fdaeca86",
   "metadata": {},
   "outputs": [
    {
     "data": {
      "text/plain": [
       "calculate_profit (generic function with 1 method)"
      ]
     },
     "metadata": {},
     "output_type": "display_data"
    }
   ],
   "source": [
    "using LinearAlgebra\n",
    "using Distributions\n",
    "using Optim\n",
    "using Random\n",
    "using StatsFuns\n",
    "using JuMP\n",
    "using MosekTools\n",
    "using StatsBase\n",
    "using SparseArrays # 可选，用于处理稀疏性（如果数据量很大）\n",
    "using FileIO\n",
    "using JLD2\n",
    "\n",
    "include(\"Data_Generation_Product_Design.jl\")\n",
    "include(\"Estimation_Product_Design.jl\")\n",
    "include(\"Product_Design_Models.jl\")\n",
    "include(\"Evaluation_Product_Design.jl\")"
   ]
  },
  {
   "cell_type": "code",
   "execution_count": 32,
   "id": "2e628bb1",
   "metadata": {},
   "outputs": [
    {
     "name": "stdout",
     "output_type": "stream",
     "text": [
      "Data directory: /Users/zhangxun/Dropbox/Research/Robust_Exp/Data/Product_Design/\n"
     ]
    }
   ],
   "source": [
    "current_dir = pwd()\n",
    "parent_dir = dirname(current_dir)\n",
    "grand_pa_dir = dirname(parent_dir)\n",
    "project_dir = dirname(grand_pa_dir)\n",
    "data_dir = string(project_dir, \"/Data/Product_Design/\")\n",
    "if !isdir(data_dir)\n",
    "    mkpath(data_dir)\n",
    "end\n",
    "println(\"Data directory: \", data_dir)"
   ]
  },
  {
   "cell_type": "code",
   "execution_count": 40,
   "id": "aeb19c70",
   "metadata": {},
   "outputs": [
    {
     "data": {
      "text/plain": [
       "\"/Users/zhangxun/Dropbox/Research/Robust_Exp/Data/Product_Design/obj_True_list.jld2\""
      ]
     },
     "metadata": {},
     "output_type": "display_data"
    }
   ],
   "source": [
    "string(data_dir,\"obj_True_list.jld2\")"
   ]
  },
  {
   "cell_type": "code",
   "execution_count": 41,
   "id": "c29d9296",
   "metadata": {},
   "outputs": [
    {
     "name": "stderr",
     "output_type": "stream",
     "text": [
      "Error encountered while save File{DataFormat{:JLD2}, String}(\"/Users/zhangxun/Dropbox/Research/Robust_Exp/Data/Product_Design/obj_True_list.jld2\").\n",
      "\n",
      "Fatal error:\n"
     ]
    },
    {
     "ename": "CapturedException",
     "evalue": "must supply a name for each variable\nStacktrace:\n  [1] error(s::String)\n    @ Base ./error.jl:35\n  [2] fileio_save(f::File{DataFormat{:JLD2}, String}, value::Vector{Float64}; kwargs::@Kwargs{})\n    @ JLD2 ~/.julia/packages/JLD2/9xHXH/src/fileio.jl:33\n  [3] #invokelatest#2\n    @ ./essentials.jl:892 [inlined]\n  [4] invokelatest\n    @ ./essentials.jl:889 [inlined]\n  [5] action(call::Symbol, libraries::Vector{Union{Base.PkgId, Module}}, file::Formatted, args::Vector{Float64}; options::@Kwargs{})\n    @ FileIO ~/.julia/packages/FileIO/ePyCW/src/loadsave.jl:219\n  [6] action\n    @ ~/.julia/packages/FileIO/ePyCW/src/loadsave.jl:196 [inlined]\n  [7] action\n    @ ~/.julia/packages/FileIO/ePyCW/src/loadsave.jl:185 [inlined]\n  [8] save(file::String, args::Vector{Float64}; options::@Kwargs{})\n    @ FileIO ~/.julia/packages/FileIO/ePyCW/src/loadsave.jl:129\n  [9] save(file::String, args::Vector{Float64})\n    @ FileIO ~/.julia/packages/FileIO/ePyCW/src/loadsave.jl:125\n [10] top-level scope\n    @ ~/Dropbox/Research/Robust_Exp/Code_Macbook/Robust_Exp/Product_Design/jl_notebook_cell_df34fa98e69747e1a8f8a730347b8e2f_Y111sZmlsZQ==.jl:1",
     "output_type": "error",
     "traceback": [
      "must supply a name for each variable\n",
      "Stacktrace:\n",
      "  [1] error(s::String)\n",
      "    @ Base ./error.jl:35\n",
      "  [2] fileio_save(f::File{DataFormat{:JLD2}, String}, value::Vector{Float64}; kwargs::@Kwargs{})\n",
      "    @ JLD2 ~/.julia/packages/JLD2/9xHXH/src/fileio.jl:33\n",
      "  [3] #invokelatest#2\n",
      "    @ ./essentials.jl:892 [inlined]\n",
      "  [4] invokelatest\n",
      "    @ ./essentials.jl:889 [inlined]\n",
      "  [5] action(call::Symbol, libraries::Vector{Union{Base.PkgId, Module}}, file::Formatted, args::Vector{Float64}; options::@Kwargs{})\n",
      "    @ FileIO ~/.julia/packages/FileIO/ePyCW/src/loadsave.jl:219\n",
      "  [6] action\n",
      "    @ ~/.julia/packages/FileIO/ePyCW/src/loadsave.jl:196 [inlined]\n",
      "  [7] action\n",
      "    @ ~/.julia/packages/FileIO/ePyCW/src/loadsave.jl:185 [inlined]\n",
      "  [8] save(file::String, args::Vector{Float64}; options::@Kwargs{})\n",
      "    @ FileIO ~/.julia/packages/FileIO/ePyCW/src/loadsave.jl:129\n",
      "  [9] save(file::String, args::Vector{Float64})\n",
      "    @ FileIO ~/.julia/packages/FileIO/ePyCW/src/loadsave.jl:125\n",
      " [10] top-level scope\n",
      "    @ ~/Dropbox/Research/Robust_Exp/Code_Macbook/Robust_Exp/Product_Design/jl_notebook_cell_df34fa98e69747e1a8f8a730347b8e2f_Y111sZmlsZQ==.jl:1\n",
      "\n",
      "Stacktrace:\n",
      " [1] handle_error(e::ErrorException, q::Base.PkgId, bt::Vector{Union{Ptr{Nothing}, Base.InterpreterIP}})\n",
      "   @ FileIO ~/.julia/packages/FileIO/ePyCW/src/error_handling.jl:71\n",
      " [2] handle_exceptions(exceptions::Vector{Tuple{Any, Union{Base.PkgId, Module}, Vector}}, action::String)\n",
      "   @ FileIO ~/.julia/packages/FileIO/ePyCW/src/error_handling.jl:66\n",
      " [3] action(call::Symbol, libraries::Vector{Union{Base.PkgId, Module}}, file::Formatted, args::Vector{Float64}; options::@Kwargs{})\n",
      "   @ FileIO ~/.julia/packages/FileIO/ePyCW/src/loadsave.jl:228\n",
      " [4] action\n",
      "   @ ~/.julia/packages/FileIO/ePyCW/src/loadsave.jl:196 [inlined]\n",
      " [5] action\n",
      "   @ ~/.julia/packages/FileIO/ePyCW/src/loadsave.jl:185 [inlined]\n",
      " [6] save(file::String, args::Vector{Float64}; options::@Kwargs{})\n",
      "   @ FileIO ~/.julia/packages/FileIO/ePyCW/src/loadsave.jl:129\n",
      " [7] save(file::String, args::Vector{Float64})\n",
      "   @ FileIO ~/.julia/packages/FileIO/ePyCW/src/loadsave.jl:125\n",
      " [8] top-level scope\n",
      "   @ ~/Dropbox/Research/Robust_Exp/Code_Macbook/Robust_Exp/Product_Design/jl_notebook_cell_df34fa98e69747e1a8f8a730347b8e2f_Y111sZmlsZQ==.jl:1"
     ]
    }
   ],
   "source": [
    "save(string(data_dir,\"obj_True_list.jld2\"),obj_True_list) "
   ]
  },
  {
   "cell_type": "code",
   "execution_count": 38,
   "id": "72ba25b1",
   "metadata": {},
   "outputs": [
    {
     "data": {
      "text/plain": [
       "100-element Vector{Float64}:\n",
       " 1.7801027682122357\n",
       " 1.8356519378920155\n",
       " 0.4739111223335175\n",
       " 1.787921328075917\n",
       " 1.822145644075634\n",
       " 1.8369753608665573\n",
       " 1.8229855035118034\n",
       " 1.8385292016718233\n",
       " 1.8301385003336976\n",
       " 1.0766000582391881\n",
       " ⋮\n",
       " 1.1328964408600934\n",
       " 1.592896357876563\n",
       " 0.1430869354433337\n",
       " 1.2076807644326963\n",
       " 1.6507171931472382\n",
       " 1.8047365907048731\n",
       " 0.6949994159231704\n",
       " 0.7545134278738004\n",
       " 0.9210849362232238"
      ]
     },
     "metadata": {},
     "output_type": "display_data"
    }
   ],
   "source": [
    "obj_True_list"
   ]
  },
  {
   "cell_type": "code",
   "execution_count": 4,
   "id": "b30d1459",
   "metadata": {},
   "outputs": [
    {
     "data": {
      "text/plain": [
       "TaskLocalRNG()"
      ]
     },
     "metadata": {},
     "output_type": "display_data"
    }
   ],
   "source": [
    "d = 5 # num of product feature\n",
    "p = 10 # num of customer feature\n",
    "n = 100 # num of training samples\n",
    "n_test = 100\n",
    "m = 5 # num of products\n",
    "s = 10\n",
    "Random.seed!(1)"
   ]
  },
  {
   "cell_type": "markdown",
   "id": "5c2cfadc",
   "metadata": {},
   "source": [
    "### Data Generation"
   ]
  },
  {
   "cell_type": "code",
   "execution_count": 5,
   "id": "32f74f4c",
   "metadata": {},
   "outputs": [],
   "source": [
    "theta_true, r_params = Generate_Wang_Qi_Max_True_Paras(d,p,s);"
   ]
  },
  {
   "cell_type": "code",
   "execution_count": 6,
   "id": "4099dcd4",
   "metadata": {},
   "outputs": [],
   "source": [
    "X_train,Y_train,Z_train = Generate_Wang_Qi_Max_True_Data(d, p, n, m,theta_true);"
   ]
  },
  {
   "cell_type": "code",
   "execution_count": 7,
   "id": "678cc579",
   "metadata": {},
   "outputs": [],
   "source": [
    "X_test,Y_test,Z_test = Generate_Wang_Qi_Max_True_Data(d, p, n_test, m,theta_true);"
   ]
  },
  {
   "cell_type": "markdown",
   "id": "1509cbf5",
   "metadata": {},
   "source": [
    "### Estimation"
   ]
  },
  {
   "cell_type": "code",
   "execution_count": 8,
   "id": "30bf3501",
   "metadata": {},
   "outputs": [],
   "source": [
    "lambda = 0.0001\n",
    "alpha0_hat, alpha_hat, beta_hat, A_hat, opt_result = estimate_parameters(X_train,Y_train,Z_train,lambda, d, p, initial_theta=randn((d+1)*(p+1)) * 0.1);"
   ]
  },
  {
   "cell_type": "markdown",
   "id": "d241dc3b",
   "metadata": {},
   "source": [
    "### Oracle"
   ]
  },
  {
   "cell_type": "code",
   "execution_count": 9,
   "id": "5c772b33",
   "metadata": {},
   "outputs": [],
   "source": [
    "r0 = r_params.r0;\n",
    "r = r_params.r;\n",
    "alp0_true = theta_true.alpha0;\n",
    "alp_true = theta_true.alpha;\n",
    "beta_true = theta_true.beta;\n",
    "A_true = theta_true.A;"
   ]
  },
  {
   "cell_type": "code",
   "execution_count": 14,
   "id": "1c74829f",
   "metadata": {},
   "outputs": [
    {
     "name": "stdout",
     "output_type": "stream",
     "text": [
      "i=1, obj=1.7801, profit=1.78,x=[1.0, 0.0, 0.0, 1.0, 1.0], time=0.0223\n",
      "i=21, obj=1.2758, profit=1.2758,x=[1.0, 0.0, 1.0, 1.0, 1.0], time=0.0292\n",
      "i=41, obj=1.6859, profit=1.6856,x=[1.0, 0.0, 0.0, 1.0, 1.0], time=0.0361\n",
      "i=61, obj=1.8377, profit=1.8377,x=[1.0, 0.0, 0.0, 1.0, 1.0], time=0.015\n",
      "i=81, obj=0.5898, profit=0.5898,x=[1.0, 0.0, 1.0, 1.0, 1.0], time=0.0276\n"
     ]
    }
   ],
   "source": [
    "obj_True_list = zeros(n_test);\n",
    "x_True_list = zeros(n_test,d);\n",
    "time_True_list = zeros(n_test);\n",
    "profit_True_list = zeros(n_test);\n",
    "for i in 1:n_test\n",
    "    z_input = Z_test[i,:];\n",
    "    nu0 = alp0_true + beta_true' * z_input;\n",
    "    nu = alp_true .+ A_true * z_input;\n",
    "    # obj_True_list[i], x_True_list[i,:], time_True_list[i] = Product_Design_Ours_ETO(d,nu0, nu, r0, r, z_input);\n",
    "    obj_True_list[i], x_True_list[i,:], time_True_list[i] = Product_Design_ETO(d,nu0, nu, r0, r, z_input);\n",
    "    profit_True_list[i] = calculate_profit(alp0_true, alp_true, beta_true, A_true, r0, r, x_True_list[i,:], z_input)\n",
    "    if i % 20 == 1\n",
    "        println(\"i=$i, obj=$(round(obj_True_list[i], digits=4)), profit=$(round(profit_True_list[i], digits=4)),x=$(round.(x_True_list[i,:], digits=4)), time=$(round(time_True_list[i],digits=4))\")\n",
    "    end\n",
    "end"
   ]
  },
  {
   "cell_type": "code",
   "execution_count": null,
   "id": "b6cbeb78",
   "metadata": {},
   "outputs": [],
   "source": [
    "Result_True = Dict(\"obj_True_list\"=>obj_True_list, \"x_True_list\"=>x_True_list, \"time_True_list\"=>time_True_list, \"profit_True_list\"=>profit_True_list);\n",
    "save(string(data_dir,\"Result_True.jld2\"),Result_True) "
   ]
  },
  {
   "cell_type": "markdown",
   "id": "4864948c",
   "metadata": {},
   "source": [
    "### Estimate-then-optimize model"
   ]
  },
  {
   "cell_type": "code",
   "execution_count": 15,
   "id": "eba1d560",
   "metadata": {},
   "outputs": [
    {
     "name": "stdout",
     "output_type": "stream",
     "text": [
      "i=1, obj=1.8321, profit=1.78,x=[1.0, 0.0, 0.0, 1.0, 1.0], time=0.0131\n",
      "i=21, obj=1.7206, profit=1.0408,x=[1.0, 0.0, 0.0, 1.0, 1.0], time=0.0274\n",
      "i=41, obj=1.8385, profit=1.6856,x=[1.0, 0.0, 0.0, 1.0, 1.0], time=0.011\n",
      "i=61, obj=1.8396, profit=1.8377,x=[1.0, 0.0, 0.0, 1.0, 1.0], time=0.0018\n",
      "i=81, obj=0.6491, profit=0.2685,x=[1.0, 1.0, 0.0, 1.0, 1.0], time=0.0271\n"
     ]
    }
   ],
   "source": [
    "obj_ETO_list = zeros(n_test);\n",
    "x_ETO_list = zeros(n_test,d);\n",
    "time_ETO_list = zeros(n_test);\n",
    "profit_ETO_list = zeros(n_test);\n",
    "for i in 1:n_test\n",
    "    z_input = Z_test[i,:];\n",
    "    nu0 = alpha0_hat + beta_hat' * z_input;\n",
    "    nu = alpha_hat .+ A_hat * z_input;\n",
    "    # obj_ETO_list[i], x_ETO_list[i,:], time_ETO_list[i] = Product_Design_Ours_ETO(d,nu0, nu, r0, r, z_input);\n",
    "    obj_ETO_list[i], x_ETO_list[i,:], time_ETO_list[i] = Product_Design_ETO(d,nu0, nu, r0, r, z_input);\n",
    "    profit_ETO_list[i] = calculate_profit(alp0_true, alp_true, beta_true, A_true, r0, r, x_ETO_list[i,:], z_input)\n",
    "    if i % 20 == 1\n",
    "        println(\"i=$i, obj=$(round(obj_ETO_list[i], digits=4)), profit=$(round(profit_ETO_list[i], digits=4)),x=$(round.(x_ETO_list[i,:], digits=4)), time=$(round(time_ETO_list[i],digits=4))\")\n",
    "    end\n",
    "end"
   ]
  },
  {
   "cell_type": "code",
   "execution_count": null,
   "id": "956f8abe",
   "metadata": {},
   "outputs": [],
   "source": []
  },
  {
   "cell_type": "code",
   "execution_count": null,
   "id": "c201b75c",
   "metadata": {},
   "outputs": [
    {
     "name": "stdout",
     "output_type": "stream",
     "text": [
      "Average Profit of True Model: 1.2409160158553614\n",
      "Average Profit of ETO Model: 1.138143717247198\n"
     ]
    }
   ],
   "source": [
    "println(\"Average Profit of True Model: \", mean(profit_True_list))\n",
    "println(\"Average Profit of ETO Model: \", mean(profit_ETO_list))"
   ]
  },
  {
   "cell_type": "code",
   "execution_count": 28,
   "id": "0ab02783",
   "metadata": {},
   "outputs": [
    {
     "data": {
      "text/plain": [
       "100-element Vector{Float64}:\n",
       " 1.7800069745910145\n",
       " 1.8356300744491958\n",
       " 0.473618581811355\n",
       " 1.7878792071312535\n",
       " 1.8220663892962063\n",
       " 1.8369318550718645\n",
       " 1.8229634030700606\n",
       " 1.8385157950359103\n",
       " 1.8301211710072538\n",
       " 0.7334694306652048\n",
       " ⋮\n",
       " 1.1194922947833637\n",
       " 1.592759101609332\n",
       " 0.01410995705639024\n",
       " 0.888932256771347\n",
       " 1.6504181505163082\n",
       " 1.8046255209075819\n",
       " 0.46448012062646904\n",
       " 0.17154994191021017\n",
       " 0.6217602526649578"
      ]
     },
     "metadata": {},
     "output_type": "display_data"
    }
   ],
   "source": [
    "profit_ETO_list"
   ]
  },
  {
   "cell_type": "markdown",
   "id": "78dc3e4b",
   "metadata": {},
   "source": [
    "### Robust Model"
   ]
  },
  {
   "cell_type": "code",
   "execution_count": null,
   "id": "307dc530",
   "metadata": {},
   "outputs": [
    {
     "data": {
      "text/plain": [
       "100"
      ]
     },
     "metadata": {},
     "output_type": "display_data"
    }
   ],
   "source": [
    "gamma_list = [0.0,0.0001,0.01,0.1]\n",
    "psi_lb = -100\n",
    "psi_ub = 100\n",
    "phi_lb = -100\n",
    "phi_ub = 100"
   ]
  },
  {
   "cell_type": "code",
   "execution_count": 25,
   "id": "0dabdf41",
   "metadata": {},
   "outputs": [
    {
     "name": "stdout",
     "output_type": "stream",
     "text": [
      "gamma=0.0, i=1, obj=1.8321, profit=1.78,x=[1.0, 0.0, 0.0, 1.0, 1.0], time=0.0299\n",
      "gamma=0.0, i=21, obj=1.7204, profit=1.0408,x=[1.0, 0.0, 0.0, 1.0, 1.0], time=0.0257\n",
      "gamma=0.0, i=41, obj=1.8385, profit=1.6856,x=[1.0, 0.0, 0.0, 1.0, 1.0], time=0.026\n",
      "gamma=0.0, i=61, obj=1.8395, profit=1.8377,x=[1.0, 0.0, 0.0, 1.0, 1.0], time=0.0314\n",
      "gamma=0.0, i=81, obj=0.6491, profit=0.2685,x=[1.0, 1.0, 0.0, 1.0, 1.0], time=0.0261\n",
      "gamma=0.0001, i=1, obj=1.8321, profit=1.78,x=[1.0, 0.0, 0.0, 1.0, 1.0], time=0.0292\n",
      "gamma=0.0001, i=21, obj=1.7204, profit=1.0408,x=[1.0, 0.0, 0.0, 1.0, 1.0], time=0.0266\n",
      "gamma=0.0001, i=41, obj=1.8385, profit=1.6856,x=[1.0, 0.0, 0.0, 1.0, 1.0], time=0.0298\n",
      "gamma=0.0001, i=61, obj=1.8395, profit=1.8377,x=[1.0, 0.0, 0.0, 1.0, 1.0], time=0.0312\n",
      "gamma=0.0001, i=81, obj=0.649, profit=0.2685,x=[1.0, 1.0, 0.0, 1.0, 1.0], time=0.0271\n",
      "gamma=0.01, i=1, obj=1.8318, profit=1.78,x=[1.0, 0.0, 0.0, 1.0, 1.0], time=0.029\n",
      "gamma=0.01, i=21, obj=1.7157, profit=1.0408,x=[1.0, 0.0, 0.0, 1.0, 1.0], time=0.0269\n",
      "gamma=0.01, i=41, obj=1.8384, profit=1.6856,x=[1.0, 0.0, 0.0, 1.0, 1.0], time=0.0288\n",
      "gamma=0.01, i=61, obj=1.8395, profit=1.8377,x=[1.0, 0.0, 0.0, 1.0, 1.0], time=0.0327\n",
      "gamma=0.01, i=81, obj=0.6394, profit=0.2685,x=[1.0, 1.0, 0.0, 1.0, 1.0], time=0.0264\n",
      "gamma=0.1, i=1, obj=1.8283, profit=1.78,x=[1.0, 0.0, 0.0, 1.0, 1.0], time=0.0305\n",
      "gamma=0.1, i=21, obj=1.6644, profit=1.0408,x=[1.0, 0.0, 0.0, 1.0, 1.0], time=0.0277\n",
      "gamma=0.1, i=41, obj=1.8379, profit=1.6856,x=[1.0, 0.0, 0.0, 1.0, 1.0], time=0.0267\n",
      "gamma=0.1, i=61, obj=1.8395, profit=1.8377,x=[1.0, 0.0, 0.0, 1.0, 1.0], time=0.0299\n",
      "gamma=0.1, i=81, obj=0.55, profit=0.2685,x=[1.0, 1.0, 0.0, 1.0, 1.0], time=0.0283\n"
     ]
    }
   ],
   "source": [
    "obj_RO_Dict = Dict(); x_RO_Dict = Dict(); time_RO_Dict = Dict(); profit_RO_Dict = Dict();\n",
    "for gamma in gamma_list\n",
    "    obj_RO_list = zeros(n_test);\n",
    "    x_RO_list = zeros(n_test,d);\n",
    "    time_RO_list = zeros(n_test);\n",
    "    profit_RO_list = zeros(n_test);\n",
    "    for i in 1:n_test\n",
    "        z_input = Z_test[i,:];\n",
    "        obj_RO_list[i], x_RO_list[i,:], time_RO_list[i] = Robust_Product_Design(2, d, p, gamma, psi_lb, psi_ub, phi_lb, phi_ub, alpha0_hat, alpha_hat, beta_hat, A_hat, r0, r, z_input);\n",
    "        profit_RO_list[i] = calculate_profit(alp0_true, alp_true, beta_true, A_true, r0, r, x_RO_list[i,:], z_input)\n",
    "        if i % 20 == 1\n",
    "            println(\"gamma=$gamma, i=$i, obj=$(round(obj_RO_list[i], digits=4)), profit=$(round(profit_RO_list[i], digits=4)),x=$(round.(x_RO_list[i,:], digits=4)), time=$(round(time_RO_list[i],digits=4))\")\n",
    "        end\n",
    "    end\n",
    "    obj_RO_Dict[\"gamma=$gamma\"] = obj_RO_list\n",
    "    x_RO_Dict[\"gamma=$gamma\"] = x_RO_list       \n",
    "    time_RO_Dict[\"gamma=$gamma\"] = time_RO_list\n",
    "    profit_RO_Dict[\"gamma=$gamma\"] = profit_RO_list\n",
    "end"
   ]
  },
  {
   "cell_type": "code",
   "execution_count": 26,
   "id": "9242b8fd",
   "metadata": {},
   "outputs": [
    {
     "name": "stdout",
     "output_type": "stream",
     "text": [
      "gamma=0.0, Average Profit of RO Model: 1.1381440576822428\n",
      "gamma=0.0001, Average Profit of RO Model: 1.1381440576822428\n",
      "gamma=0.01, Average Profit of RO Model: 1.1413311863074125\n",
      "gamma=0.1, Average Profit of RO Model: 1.1398810719966246\n"
     ]
    }
   ],
   "source": [
    "for gamma in gamma_list\n",
    "    println(\"gamma=$gamma, Average Profit of RO Model: \", mean(profit_RO_Dict[\"gamma=$gamma\"]))\n",
    "end"
   ]
  }
 ],
 "metadata": {
  "kernelspec": {
   "display_name": "Julia 1.10.3",
   "language": "julia",
   "name": "julia-1.10"
  },
  "language_info": {
   "file_extension": ".jl",
   "mimetype": "application/julia",
   "name": "julia",
   "version": "1.10.3"
  }
 },
 "nbformat": 4,
 "nbformat_minor": 5
}
