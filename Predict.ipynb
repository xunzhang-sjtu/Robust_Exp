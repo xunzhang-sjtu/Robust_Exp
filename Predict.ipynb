{
 "cells": [
  {
   "cell_type": "code",
   "execution_count": 1,
   "id": "ea7846fb",
   "metadata": {},
   "outputs": [
    {
     "data": {
      "text/plain": [
       "TaskLocalRNG()"
      ]
     },
     "metadata": {},
     "output_type": "display_data"
    }
   ],
   "source": [
    "using LinearAlgebra\n",
    "using Distributions\n",
    "using Optim\n",
    "using Random\n",
    "using StatsFuns\n",
    "# 设置随机种子\n",
    "Random.seed!(123)"
   ]
  },
  {
   "cell_type": "markdown",
   "id": "366c8699",
   "metadata": {},
   "source": [
    "# Parameter"
   ]
  },
  {
   "cell_type": "code",
   "execution_count": null,
   "id": "565b7c8e",
   "metadata": {},
   "outputs": [],
   "source": [
    "# 参数设置\n",
    "S = 10000    # 样本数量\n",
    "N = 2       # 选项数量\n",
    "P = 3       # 协变量维度（每个样本的特征维度）\n",
    "\n",
    "# 真实参数：每个选项 n 有自己的 θ_n ∈ ℝ^P\n",
    "θ_true = [randn(P)*10 for n in 1:N]  # N × P 的参数列表"
   ]
  },
  {
   "cell_type": "code",
   "execution_count": null,
   "id": "7d64a8c7",
   "metadata": {},
   "outputs": [],
   "source": [
    "# 生成协变量：每个样本每个选项都有一个特征向量 x_sn ∈ ℝ^P\n",
    "X = [randn(P) for s in 1:S]  # 长度为 S 的数组，每个元素是 P 维向量"
   ]
  },
  {
   "cell_type": "code",
   "execution_count": null,
   "id": "3c68ca1d",
   "metadata": {},
   "outputs": [],
   "source": [
    "# 计算效用并生成选择结果 y_s ∈ {1, ..., N}\n",
    "y = zeros(Int, S)\n",
    "for s in 1:S\n",
    "    utility = [dot(θ_true[n], X[s]) for n in 1:N]   # 所有选项共享 x_s\n",
    "    prob = exp.(utility .- logsumexp(utility))      # softmax\n",
    "    choice = Categorical(prob) |> rand\n",
    "    y[s] = choice\n",
    "end"
   ]
  },
  {
   "cell_type": "code",
   "execution_count": null,
   "id": "f58d60e2",
   "metadata": {},
   "outputs": [],
   "source": [
    "# 定义负对数似然函数\n",
    "function neg_log_likelihood(θ_vec::Vector, X, y; N, P)\n",
    "    # 将参数向量展开成 N × P 的结构\n",
    "    Θ = reshape(θ_vec, (P, N))  # 每列是一个 θ_n\n",
    "    θ_list = [Θ[:, n] for n in 1:N]\n",
    "\n",
    "    ll = 0.0\n",
    "    for s in 1:length(y)\n",
    "        utility = [dot(θ_list[n], X[s]) for n in 1:N]\n",
    "        log_denom = logsumexp(utility)\n",
    "        ll += utility[y[s]] - log_denom\n",
    "    end\n",
    "    return -ll\n",
    "end"
   ]
  },
  {
   "cell_type": "code",
   "execution_count": null,
   "id": "782592dd",
   "metadata": {},
   "outputs": [],
   "source": [
    "# 初始猜测值：N × P 个参数，拉成一个向量\n",
    "θ_init = zeros(N * P)\n",
    "\n",
    "# 使用 Optim 进行优化\n",
    "res = optimize(\n",
    "    θ -> neg_log_likelihood(θ, X, y, N=N, P=P),\n",
    "    θ_init,\n",
    "    BFGS(),\n",
    "    Optim.Options(iterations=1000, show_trace=false)\n",
    ")\n",
    "\n",
    "# 恢复估计出的参数矩阵\n",
    "θ_hat_matrix = reshape(Optim.minimizer(res), (P, N))\n",
    "θ_hat_list = [θ_hat_matrix[:, n] for n in 1:N]\n",
    "\n",
    "# 输出结果\n",
    "println(\"真实参数 θ_true:\")\n",
    "for n in 1:N\n",
    "    println(\"Option $n: \", θ_true[n])\n",
    "end\n",
    "\n",
    "println(\"\\n估计参数 θ_hat:\")\n",
    "for n in 1:N\n",
    "    println(\"Option $n: \", θ_hat_list[n])\n",
    "end"
   ]
  },
  {
   "cell_type": "markdown",
   "id": "a9f432d1",
   "metadata": {},
   "source": [
    "### Predict-then-optimize "
   ]
  },
  {
   "cell_type": "code",
   "execution_count": 2,
   "id": "5d20fabb",
   "metadata": {},
   "outputs": [],
   "source": [
    "using JuMP\n",
    "using MosekTools"
   ]
  },
  {
   "cell_type": "code",
   "execution_count": 3,
   "id": "51af1382",
   "metadata": {},
   "outputs": [
    {
     "data": {
      "text/plain": [
       "3×3 Matrix{Float64}:\n",
       " 0.0508083  0.835334  0.880073\n",
       " 0.38644    0.160222  0.784441\n",
       " 0.846458   0.904766  0.795366"
      ]
     },
     "metadata": {},
     "output_type": "display_data"
    }
   ],
   "source": [
    "Random.seed!(123)\n",
    "# 设置参数\n",
    "N = 3   # 样本数量（或产品组数）\n",
    "K = 3   # 每个样本的选择项数量\n",
    "tau = 10 # 给定常数 τ\n",
    "N_u = 2\n",
    "\n",
    "# 预设数据（根据你的实际问题替换这些值）\n",
    "u = rand(N_u)                         # u 向量 ∈ ℝ^N\n",
    "A = rand(N,N_u)        # a_n ∈ ℝ^N\n",
    "B = rand(N,N) .- 1        # b_n ∈ ℝ^N\n",
    "p_dag = rand(N, K)                  # p_{nk}^† 数据矩阵"
   ]
  },
  {
   "cell_type": "code",
   "execution_count": 10,
   "id": "30f888b0",
   "metadata": {},
   "outputs": [
    {
     "name": "stdout",
     "output_type": "stream",
     "text": [
      "Problem\n",
      "  Name                   :                 \n",
      "  Objective sense        : minimize        \n",
      "  Type                   : CONIC (conic optimization problem)\n",
      "  Constraints            : 87              \n",
      "  Affine conic cons.     : 3 (9 rows)\n",
      "  Disjunctive cons.      : 0               \n",
      "  Cones                  : 0               \n",
      "  Scalar variables       : 36              \n",
      "  Matrix variables       : 0               \n",
      "  Integer variables      : 9               \n",
      "\n",
      "Optimizer started.\n",
      "Mixed integer optimizer started.\n",
      "Threads used: 8\n",
      "Presolve started.\n",
      "Presolve terminated. Time = 0.00, probing time =  0.00\n",
      "Clique table size: 0\n",
      "BRANCHES RELAXS   ACT_NDS  DEPTH    BEST_INT_OBJ         BEST_RELAX_OBJ       REL_GAP(%)  TIME  \n",
      "\n",
      "Objective of best integer solution : Not available.\n",
      "Best objective bound               : Not available.\n",
      "Initial feasible solution objective: Undefined\n",
      "Construct solution objective       : Not employed\n",
      "User objective cut value           : Not employed\n",
      "Number of cuts generated           : 0\n",
      "Number of branches                 : 0\n",
      "Number of relaxations solved       : 0\n",
      "Number of interior point iterations: 0\n",
      "Number of simplex iterations       : 0\n",
      "Time spend presolving the root     : 0.00\n",
      "Time spend optimizing the root     : 0.00\n",
      "Mixed integer optimizer terminated. Time: 0.00\n",
      "\n",
      "Optimizer terminated. Time: 0.00    \n",
      "\n"
     ]
    }
   ],
   "source": [
    "model = Model(Mosek.Optimizer)\n",
    "# 定义变量\n",
    "@variable(model, rho_0 >= 0)                          # ρ₀ ≥ 0\n",
    "@variable(model, rho[1:N] >= 0)                      # ρ_n ≥ 0\n",
    "@variable(model, v_sigma[1:N_u])                           # ς = ρ₀ * u\n",
    "@variable(model, v_phi[1:N])                           # φ_n\n",
    "@variable(model, Y[1:N, 1:K])                      # y_{nk}\n",
    "@variable(model, Z[1:N, 1:K])                      # z_{nk}\n",
    "@variable(model, X[1:N, 1:K], Bin)                 # x_{nk} ∈ {0,1}\n",
    "\n",
    "# 1. 总和约束\n",
    "@constraint(model, rho_0 + sum(rho) == 1)\n",
    "\n",
    "# 2. ς = ρ₀ * u\n",
    "@constraint(model, v_sigma .== rho_0 * u)\n",
    "\n",
    "# 3. φ_n = ∑_k z_{nk} * p_{nk}^†\n",
    "@constraint(model, v_phi .== sum(Z .* p_dag, dims=2))\n",
    "\n",
    "# 4. 辅助变量上下界\n",
    "for n in 1:N\n",
    "    for k in 1:K\n",
    "        # y_{nk} bounds\n",
    "        @constraint(model, 0 <= Y[n, k])\n",
    "        @constraint(model, Y[n, k] <= X[n, k])\n",
    "        @constraint(model, Y[n, k] >= rho[n] - (1 - X[n, k]))\n",
    "        @constraint(model, Y[n, k] <= rho[n])\n",
    "\n",
    "        # z_{nk} bounds\n",
    "        @constraint(model, 0 <= Z[n, k])\n",
    "        @constraint(model, Z[n, k] <= X[n, k])\n",
    "        @constraint(model, Z[n, k] >= rho_0 - (1 - X[n, k]))\n",
    "        @constraint(model, Z[n, k] <= rho_0)\n",
    "    end\n",
    "end\n",
    "\n",
    "\n",
    "# @constraint(model, 1 .== sum(X, dims=2))\n",
    "\n",
    "# X_given = zeros(N, K)  # 给定的 X 矩阵\n",
    "# X_given[1, :] = [1, 0, 0]\n",
    "# X_given[2, :] = [0, 1, 0]   \n",
    "# X_given[3, :] = [0, 0, 1]\n",
    "# @constraint(model, X .== X_given)\n",
    "\n",
    "for n in 1:N\n",
    "    @constraint(model, [rho[n], rho_0, A[n,:]' * v_sigma + B[n,:]' * v_phi] in MOI.ExponentialCone())\n",
    "end\n",
    "\n",
    "@objective(model, Min,sum(Y .* p_dag) - tau * sum(rho))\n",
    "\n",
    "optimize!(model)"
   ]
  },
  {
   "cell_type": "code",
   "execution_count": 11,
   "id": "b0f3fce1",
   "metadata": {},
   "outputs": [
    {
     "name": "stdout",
     "output_type": "stream",
     "text": [
      "求解状态：INFEASIBLE\n",
      "最优目标值：0.0\n",
      "\n",
      "估计的变量：\n",
      "rho_0 = 0.0\n",
      "rho = [0.0, 0.0, 0.0]\n",
      "X = \n",
      "[0 0 0; 0 0 0; 0 0 0]\n"
     ]
    }
   ],
   "source": [
    "# 输出状态与目标值\n",
    "println(\"求解状态：\", termination_status(model))\n",
    "println(\"最优目标值：\", objective_value(model))\n",
    "\n",
    "# 输出部分变量（可选）\n",
    "println(\"\\n估计的变量：\")\n",
    "println(\"rho_0 = \", value(rho_0))\n",
    "println(\"rho = \", value.(rho))\n",
    "println(\"X = \\n\", round.(Int, value.(X)))"
   ]
  }
 ],
 "metadata": {
  "kernelspec": {
   "display_name": "Julia 1.10.3",
   "language": "julia",
   "name": "julia-1.10"
  },
  "language_info": {
   "file_extension": ".jl",
   "mimetype": "application/julia",
   "name": "julia",
   "version": "1.10.3"
  }
 },
 "nbformat": 4,
 "nbformat_minor": 5
}
