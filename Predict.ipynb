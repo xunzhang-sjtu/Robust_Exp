{
 "cells": [
  {
   "cell_type": "code",
   "execution_count": 12,
   "id": "ea7846fb",
   "metadata": {},
   "outputs": [
    {
     "data": {
      "text/plain": [
       "TaskLocalRNG()"
      ]
     },
     "metadata": {},
     "output_type": "display_data"
    }
   ],
   "source": [
    "using LinearAlgebra\n",
    "using Distributions\n",
    "using Optim\n",
    "using Random\n",
    "using StatsFuns\n",
    "using DataFrames\n",
    "using StatsBase\n",
    "# 设置随机种子\n",
    "Random.seed!(123)"
   ]
  },
  {
   "cell_type": "markdown",
   "id": "5d3a9a99",
   "metadata": {},
   "source": [
    "## Parameters"
   ]
  },
  {
   "cell_type": "code",
   "execution_count": 13,
   "id": "b2257b52",
   "metadata": {},
   "outputs": [
    {
     "data": {
      "text/plain": [
       "5000"
      ]
     },
     "metadata": {},
     "output_type": "display_data"
    }
   ],
   "source": [
    "# 模型设置\n",
    "N = 3           # 选项数（不含baseline）\n",
    "d_u = 1         # u 的维度\n",
    "d_p = N         # p 的维度\n",
    "S = 5000         # 样本数量"
   ]
  },
  {
   "cell_type": "markdown",
   "id": "e1067fbf",
   "metadata": {},
   "source": [
    "## Generate true coef and training data"
   ]
  },
  {
   "cell_type": "markdown",
   "id": "de0efbb2",
   "metadata": {},
   "source": [
    "- True coef"
   ]
  },
  {
   "cell_type": "code",
   "execution_count": 14,
   "id": "3ad2a752",
   "metadata": {},
   "outputs": [
    {
     "data": {
      "text/plain": [
       "3-element Vector{Vector{Float64}}:\n",
       " [-0.62, 0.05, -0.22]\n",
       " [-0.91, 0.87, 0.16]\n",
       " [-0.35, 0.05, 0.67]"
      ]
     },
     "metadata": {},
     "output_type": "display_data"
    }
   ],
   "source": [
    "a_star = [rand(Uniform(-1, 1), d_u) for n in 1:N]\n",
    "b_star = [rand(Uniform(-1, 1), d_p) for n in 1:N]\n",
    "a_star = [round.(a; digits=2) for a in a_star]\n",
    "b_star = [round.(b; digits=2) for b in b_star]"
   ]
  },
  {
   "cell_type": "markdown",
   "id": "84a977f7",
   "metadata": {},
   "source": [
    "- Training data"
   ]
  },
  {
   "cell_type": "code",
   "execution_count": 15,
   "id": "cb172688",
   "metadata": {},
   "outputs": [],
   "source": [
    "# Step 2: 生成样本 (u, p)，标准正态分布\n",
    "U_train = [randn(d_u) for s in 1:S];\n",
    "P_train = [randn(d_p) for s in 1:S];"
   ]
  },
  {
   "cell_type": "code",
   "execution_count": 16,
   "id": "ca6f4927",
   "metadata": {},
   "outputs": [],
   "source": [
    "# Step 3: 计算每个样本的选择概率\n",
    "probs = Matrix{Float64}(undef, S, N)  # 每行一个样本，每列一个选项\n",
    "for s in 1:S\n",
    "    u_this = U_train[s]\n",
    "    p_this = P_train[s]\n",
    "    logits = [dot(a_star[n], u_this) + dot(b_star[n], p_this) for n in 1:N]\n",
    "    exp_logits = exp.(logits)\n",
    "    denom = 1 + sum(exp_logits)\n",
    "    probs[s, :] = exp_logits ./ denom\n",
    "end"
   ]
  },
  {
   "cell_type": "code",
   "execution_count": 17,
   "id": "2c37ee57",
   "metadata": {},
   "outputs": [
    {
     "name": "stdout",
     "output_type": "stream",
     "text": [
      "\u001b[1m10×1 DataFrame\u001b[0m\n",
      "\u001b[1m Row \u001b[0m│\u001b[1m choice \u001b[0m\n",
      "     │\u001b[90m Int64  \u001b[0m\n",
      "─────┼────────\n",
      "   1 │      3\n",
      "   2 │      1\n",
      "   3 │      2\n",
      "   4 │      0\n",
      "   5 │      2\n",
      "   6 │      3\n",
      "   7 │      3\n",
      "   8 │      1\n",
      "   9 │      2\n",
      "  10 │      1\n"
     ]
    }
   ],
   "source": [
    "# Step 4（可选）: 基于概率采样选项（含 baseline，编号为 0）\n",
    "choices = Vector{Int}(undef, S)\n",
    "for s in 1:S\n",
    "    p = probs[s, :]\n",
    "    baseline_prob = 1 - sum(p)\n",
    "    full_p = vcat(baseline_prob, p)  # 添加 baseline 的概率\n",
    "    choices[s] = sample(0:N, Weights(full_p))  # 随机选择（含baseline）\n",
    "end\n",
    "# 打印部分结果\n",
    "df = DataFrame(choice = choices)\n",
    "println(first(df, 10))"
   ]
  },
  {
   "cell_type": "code",
   "execution_count": 18,
   "id": "4d9fe468",
   "metadata": {},
   "outputs": [
    {
     "data": {
      "text/plain": [
       "neg_log_likelihood (generic function with 2 methods)"
      ]
     },
     "metadata": {},
     "output_type": "display_data"
    }
   ],
   "source": [
    "using Optim\n",
    "\n",
    "# 将参数向量 vec_theta 展平为 a 和 b 的矩阵\n",
    "function unpack_params(vec_theta, N, d_u, d_p)\n",
    "    offset_a = N * d_u\n",
    "    a = reshape(vec_theta[1:offset_a], (d_u, N))\n",
    "    b = reshape(vec_theta[offset_a+1:end], (d_p, N))\n",
    "    return a, b\n",
    "end\n",
    "\n",
    "# 构建负对数似然函数\n",
    "function neg_log_likelihood(vec_theta::Vector{Float64})\n",
    "    a, b = unpack_params(vec_theta, N, d_u, d_p)\n",
    "\n",
    "    total_log_likelihood = 0.0\n",
    "\n",
    "    for s in 1:S\n",
    "        u = U_train[s]\n",
    "        p = P_train[s]\n",
    "        y = choices[s]  # true label in {0,1,...,N}\n",
    "\n",
    "        logits = [dot(a[:,n], u) + dot(b[:,n], p) for n in 1:N]\n",
    "        exp_logits = exp.(logits)\n",
    "        denom = 1 + sum(exp_logits)\n",
    "\n",
    "        if y == 0\n",
    "            prob = 1 / denom\n",
    "        else\n",
    "            prob = exp_logits[y] / denom\n",
    "        end\n",
    "\n",
    "        total_log_likelihood += log(prob + 1e-12)  # 加epsilon避免log(0)\n",
    "    end\n",
    "\n",
    "    return -total_log_likelihood\n",
    "end\n"
   ]
  },
  {
   "cell_type": "code",
   "execution_count": 19,
   "id": "ccb0d39e",
   "metadata": {},
   "outputs": [
    {
     "name": "stdout",
     "output_type": "stream",
     "text": [
      "Optimization completed:\n",
      " * Status: success\n",
      "\n",
      " * Candidate solution\n",
      "    Final objective value:     5.981057e+03\n",
      "\n",
      " * Found with\n",
      "    Algorithm:     BFGS\n",
      "\n",
      " * Convergence measures\n",
      "    |x - x'|               = 0.00e+00 ≤ 0.0e+00\n",
      "    |x - x'|/|x'|          = 0.00e+00 ≤ 0.0e+00\n",
      "    |f(x) - f(x')|         = 0.00e+00 ≤ 0.0e+00\n",
      "    |f(x) - f(x')|/|f(x')| = 0.00e+00 ≤ 0.0e+00\n",
      "    |g(x)|                 = 3.23e-06 ≰ 1.0e-08\n",
      "\n",
      " * Work counters\n",
      "    Seconds run:   85  (vs limit Inf)\n",
      "    Iterations:    231\n",
      "    f(x) calls:    686\n",
      "    ∇f(x) calls:   686\n",
      "\n"
     ]
    }
   ],
   "source": [
    "# 初始化参数向量（a 和 b），共 N*(d_u + d_p) 个变量\n",
    "theta_init = randn(N * (d_u + d_p))\n",
    "\n",
    "# 用 BFGS 进行优化\n",
    "result = optimize(neg_log_likelihood, theta_init, BFGS())\n",
    "\n",
    "# 输出结果\n",
    "println(\"Optimization completed:\")\n",
    "println(result)\n"
   ]
  },
  {
   "cell_type": "code",
   "execution_count": 20,
   "id": "bd5e5e7b",
   "metadata": {},
   "outputs": [
    {
     "data": {
      "text/plain": [
       "([0.09242659659959769 0.21125114577045984 0.8087371811520461], [-0.6874727044549884 -0.9848223823890944 -0.39939743757782975; 0.12911783755173314 0.9307403240322467 0.10088940923316135; -0.12767346846610003 0.20716011259572353 0.7101380592437164])"
      ]
     },
     "metadata": {},
     "output_type": "display_data"
    }
   ],
   "source": [
    "theta_hat = Optim.minimizer(result)\n",
    "a_hat, b_hat = unpack_params(theta_hat, N, d_u, d_p)"
   ]
  },
  {
   "cell_type": "code",
   "execution_count": 21,
   "id": "0ad7a67c",
   "metadata": {},
   "outputs": [
    {
     "data": {
      "text/plain": [
       "3-element Vector{Vector{Float64}}:\n",
       " [0.04]\n",
       " [0.17]\n",
       " [0.78]"
      ]
     },
     "metadata": {},
     "output_type": "display_data"
    }
   ],
   "source": [
    "[round.(a; digits=2) for a in a_star]"
   ]
  },
  {
   "cell_type": "code",
   "execution_count": 25,
   "id": "fea23dea",
   "metadata": {},
   "outputs": [
    {
     "data": {
      "text/plain": [
       "1×3 Matrix{Float64}:\n",
       " 0.09  0.21  0.81"
      ]
     },
     "metadata": {},
     "output_type": "display_data"
    }
   ],
   "source": [
    "[round.(a; digits=2) for a in a_hat]"
   ]
  },
  {
   "cell_type": "code",
   "execution_count": 26,
   "id": "40fc00b7",
   "metadata": {},
   "outputs": [
    {
     "data": {
      "text/plain": [
       "3-element Vector{Vector{Float64}}:\n",
       " [-0.62, 0.05, -0.22]\n",
       " [-0.91, 0.87, 0.16]\n",
       " [-0.35, 0.05, 0.67]"
      ]
     },
     "metadata": {},
     "output_type": "display_data"
    }
   ],
   "source": [
    "[round.(b; digits=2) for b in b_star]"
   ]
  },
  {
   "cell_type": "code",
   "execution_count": 27,
   "id": "57a3524c",
   "metadata": {},
   "outputs": [
    {
     "data": {
      "text/plain": [
       "3×3 Matrix{Float64}:\n",
       " -0.69  -0.98  -0.4\n",
       "  0.13   0.93   0.1\n",
       " -0.13   0.21   0.71"
      ]
     },
     "metadata": {},
     "output_type": "display_data"
    }
   ],
   "source": [
    "[round.(b; digits=2) for b in b_hat]"
   ]
  },
  {
   "cell_type": "code",
   "execution_count": null,
   "id": "30f888b0",
   "metadata": {},
   "outputs": [],
   "source": [
    "model = Model(Mosek.Optimizer)\n",
    "# 定义变量\n",
    "@variable(model, rho_0 >= 0)                          # ρ₀ ≥ 0\n",
    "@variable(model, rho[1:N] >= 0)                      # ρ_n ≥ 0\n",
    "@variable(model, v_sigma[1:N_u])                           # ς = ρ₀ * u\n",
    "@variable(model, v_phi[1:N])                           # φ_n\n",
    "@variable(model, Y[1:N, 1:K])                      # y_{nk}\n",
    "@variable(model, Z[1:N, 1:K])                      # z_{nk}\n",
    "@variable(model, X[1:N, 1:K], Bin)                 # x_{nk} ∈ {0,1}\n",
    "\n",
    "# 1. 总和约束\n",
    "@constraint(model, rho_0 + sum(rho) == 1)\n",
    "\n",
    "# 2. ς = ρ₀ * u\n",
    "@constraint(model, v_sigma .== rho_0 * u)\n",
    "\n",
    "# 3. φ_n = ∑_k z_{nk} * p_{nk}^†\n",
    "@constraint(model, v_phi .== sum(Z .* p_dag, dims=2))\n",
    "\n",
    "# 4. 辅助变量上下界\n",
    "for n in 1:N\n",
    "    for k in 1:K\n",
    "        # y_{nk} bounds\n",
    "        @constraint(model, 0 <= Y[n, k])\n",
    "        @constraint(model, Y[n, k] <= X[n, k])\n",
    "        @constraint(model, Y[n, k] >= rho[n] - (1 - X[n, k]))\n",
    "        @constraint(model, Y[n, k] <= rho[n])\n",
    "\n",
    "        # z_{nk} bounds\n",
    "        @constraint(model, 0 <= Z[n, k])\n",
    "        @constraint(model, Z[n, k] <= X[n, k])\n",
    "        @constraint(model, Z[n, k] >= rho_0 - (1 - X[n, k]))\n",
    "        @constraint(model, Z[n, k] <= rho_0)\n",
    "    end\n",
    "end\n",
    "\n",
    "\n",
    "# @constraint(model, 1 .== sum(X, dims=2))\n",
    "\n",
    "# X_given = zeros(N, K)  # 给定的 X 矩阵\n",
    "# X_given[1, :] = [1, 0, 0]\n",
    "# X_given[2, :] = [0, 1, 0]   \n",
    "# X_given[3, :] = [0, 0, 1]\n",
    "# @constraint(model, X .== X_given)\n",
    "\n",
    "for n in 1:N\n",
    "    @constraint(model, [rho[n], rho_0, A[n,:]' * v_sigma + B[n,:]' * v_phi] in MOI.ExponentialCone())\n",
    "end\n",
    "\n",
    "@objective(model, Min,sum(Y .* p_dag) - tau * sum(rho))\n",
    "\n",
    "optimize!(model)"
   ]
  },
  {
   "cell_type": "code",
   "execution_count": null,
   "id": "b0f3fce1",
   "metadata": {},
   "outputs": [],
   "source": [
    "# 输出状态与目标值\n",
    "println(\"求解状态：\", termination_status(model))\n",
    "println(\"最优目标值：\", objective_value(model))\n",
    "\n",
    "# 输出部分变量（可选）\n",
    "println(\"\\n估计的变量：\")\n",
    "println(\"rho_0 = \", value(rho_0))\n",
    "println(\"rho = \", value.(rho))\n",
    "println(\"X = \\n\", round.(Int, value.(X)))"
   ]
  },
  {
   "cell_type": "markdown",
   "id": "d317ce69",
   "metadata": {},
   "source": []
  },
  {
   "cell_type": "markdown",
   "id": "e7dabd02",
   "metadata": {},
   "source": []
  },
  {
   "cell_type": "code",
   "execution_count": 11,
   "id": "6482909e",
   "metadata": {},
   "outputs": [
    {
     "name": "stdout",
     "output_type": "stream",
     "text": [
      "True β: [1.5, -1.0]\n",
      "Estimated β: [1.6857721562197523, -1.0560371362921575]\n",
      "Converged: true\n"
     ]
    }
   ],
   "source": [
    "using Optim, LinearAlgebra, Random, DataFrames, CSV\n",
    "\n",
    "# 生成模拟数据（用于演示）\n",
    "function simulate_mnl_data(n_obs=1000, n_choices=4, n_features=2)\n",
    "    Random.seed!(123)\n",
    "    X = randn(n_obs, n_choices, n_features)  # 每个个体每个选项的特征\n",
    "    β_true = [1.5, -1.0]  # 真实参数\n",
    "\n",
    "    # 计算选择概率\n",
    "    utility = zeros(n_obs, n_choices)\n",
    "    for j in 1:n_choices\n",
    "        utility[:, j] = X[:, j, :] * β_true\n",
    "    end\n",
    "    logits = exp.(utility)\n",
    "    probs = logits ./ sum(logits, dims=2)\n",
    "\n",
    "    # 抽样选择\n",
    "    y = [sample(1:n_choices, Weights(probs[i, :])) for i in 1:n_obs]\n",
    "\n",
    "    return X, y, β_true\n",
    "end\n",
    "\n",
    "# 负对数似然函数\n",
    "function neg_log_likelihood(β, X, y)\n",
    "    n_obs, n_choices, n_features = size(X)\n",
    "    ll = 0.0\n",
    "\n",
    "    for i in 1:n_obs\n",
    "        utility = zeros(n_choices)\n",
    "        for j in 1:n_choices\n",
    "            utility[j] = dot(X[i, j, :], β)\n",
    "        end\n",
    "        max_u = maximum(utility)\n",
    "        log_sum_exp = max_u + log(sum(exp.(utility .- max_u)))  # 数值稳定\n",
    "        ll += utility[y[i]] - log_sum_exp\n",
    "    end\n",
    "\n",
    "    return -ll  # 返回负值用于最小化\n",
    "end\n",
    "\n",
    "# 参数估计主函数\n",
    "function estimate_mnl(X, y; β_init=nothing)\n",
    "    n_features = size(X, 3)\n",
    "    if isnothing(β_init)\n",
    "        β_init = zeros(n_features)\n",
    "    end\n",
    "\n",
    "    # 使用 Optim 进行优化\n",
    "    result = optimize(\n",
    "        β -> neg_log_likelihood(β, X, y),\n",
    "        β_init,\n",
    "        BFGS(),\n",
    "        Optim.Options(g_tol=1e-6, iterations=1000, show_trace=false)\n",
    "    )\n",
    "\n",
    "    if !Optim.converged(result)\n",
    "        @warn \"Optimization did not converge\"\n",
    "    end\n",
    "\n",
    "    β_hat = Optim.minimizer(result)\n",
    "    return β_hat, result\n",
    "end\n",
    "\n",
    "# --- 主程序 ---\n",
    "X, y, β_true = simulate_mnl_data(1000, 4, 2)\n",
    "β_hat, result = estimate_mnl(X, y)\n",
    "\n",
    "println(\"True β: \", β_true)\n",
    "println(\"Estimated β: \", β_hat)\n",
    "println(\"Converged: \", Optim.converged(result))"
   ]
  }
 ],
 "metadata": {
  "kernelspec": {
   "display_name": "Julia 1.10.3",
   "language": "julia",
   "name": "julia-1.10"
  },
  "language_info": {
   "file_extension": ".jl",
   "mimetype": "application/julia",
   "name": "julia",
   "version": "1.10.3"
  }
 },
 "nbformat": 4,
 "nbformat_minor": 5
}
