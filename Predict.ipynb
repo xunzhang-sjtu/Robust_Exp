{
 "cells": [
  {
   "cell_type": "code",
   "execution_count": 19,
   "id": "ea7846fb",
   "metadata": {},
   "outputs": [
    {
     "data": {
      "text/plain": [
       "TaskLocalRNG()"
      ]
     },
     "metadata": {},
     "output_type": "display_data"
    }
   ],
   "source": [
    "using LinearAlgebra\n",
    "using Distributions\n",
    "using Optim\n",
    "using Random\n",
    "using StatsFuns\n",
    "using JuMP\n",
    "using MosekTools\n",
    "include(\"ETO.jl\")\n",
    "include(\"RO.jl\")\n",
    "include(\"Data.jl\")\n",
    "include(\"Estimate.jl\")\n",
    "include(\"Performance.jl\")\n",
    "Random.seed!(2)"
   ]
  },
  {
   "cell_type": "markdown",
   "id": "5d3a9a99",
   "metadata": {},
   "source": [
    "## Parameters"
   ]
  },
  {
   "cell_type": "code",
   "execution_count": 20,
   "id": "b2257b52",
   "metadata": {},
   "outputs": [],
   "source": [
    "N_u = 1\n",
    "N = 2\n",
    "S = 10000\n",
    "S_test = 10000\n",
    "K = 10   # 每个产品的选择项数量\n",
    "\n",
    "max_offdiag = 1\n",
    "offdiag_sign = \"mix\"\n",
    "\n",
    "A_true, B_true = Generate_Coef(N_u, N,max_offdiag,offdiag_sign);\n",
    "\n",
    "U_train, P_train = Generate_Feat_Data(N_u, N, S);\n",
    "U_test, P_test = Generate_Feat_Data(N_u, N, S_test);"
   ]
  },
  {
   "cell_type": "code",
   "execution_count": 21,
   "id": "9d6b4699",
   "metadata": {},
   "outputs": [
    {
     "data": {
      "text/plain": [
       "([-0.015840789957723554; 0.68975772589879;;], [-0.8382448110729309 0.6990317973304774; 0.7264339365303866 -1.1205929961815257])"
      ]
     },
     "metadata": {},
     "output_type": "display_data"
    }
   ],
   "source": [
    "A_hat, B_hat = Estimate_MNL_Para(U_train, P_train, S, N, N_u, N, A_true, B_true)"
   ]
  },
  {
   "cell_type": "code",
   "execution_count": 22,
   "id": "d411f357",
   "metadata": {},
   "outputs": [
    {
     "data": {
      "text/plain": [
       "2×1 Matrix{Float64}:\n",
       " -0.015840789957723554\n",
       "  0.68975772589879"
      ]
     },
     "metadata": {},
     "output_type": "display_data"
    }
   ],
   "source": [
    "A_hat"
   ]
  },
  {
   "cell_type": "code",
   "execution_count": 23,
   "id": "feb56809",
   "metadata": {},
   "outputs": [
    {
     "data": {
      "text/plain": [
       "2×1 Matrix{Float64}:\n",
       " 0.0022505868897625403\n",
       " 0.6807475064887184"
      ]
     },
     "metadata": {},
     "output_type": "display_data"
    }
   ],
   "source": [
    "A_true"
   ]
  },
  {
   "cell_type": "code",
   "execution_count": 24,
   "id": "9e8b895d",
   "metadata": {},
   "outputs": [
    {
     "data": {
      "text/plain": [
       "2×2 Matrix{Float64}:\n",
       " -0.838245   0.699032\n",
       "  0.726434  -1.12059"
      ]
     },
     "metadata": {},
     "output_type": "display_data"
    }
   ],
   "source": [
    "B_hat"
   ]
  },
  {
   "cell_type": "code",
   "execution_count": 25,
   "id": "6dc50cf4",
   "metadata": {},
   "outputs": [
    {
     "data": {
      "text/plain": [
       "2×2 Matrix{Float64}:\n",
       " -0.855881   0.613463\n",
       "  0.733886  -1.17778"
      ]
     },
     "metadata": {},
     "output_type": "display_data"
    }
   ],
   "source": [
    "B_true"
   ]
  }
 ],
 "metadata": {
  "kernelspec": {
   "display_name": "Julia 1.10.3",
   "language": "julia",
   "name": "julia-1.10"
  },
  "language_info": {
   "file_extension": ".jl",
   "mimetype": "application/julia",
   "name": "julia",
   "version": "1.10.3"
  }
 },
 "nbformat": 4,
 "nbformat_minor": 5
}
