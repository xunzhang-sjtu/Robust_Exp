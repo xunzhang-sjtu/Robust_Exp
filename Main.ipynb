{
 "cells": [
  {
   "cell_type": "code",
   "execution_count": 1,
   "id": "ea7846fb",
   "metadata": {},
   "outputs": [
    {
     "data": {
      "text/plain": [
       "greedy_search_optimal_price (generic function with 1 method)"
      ]
     },
     "metadata": {},
     "output_type": "display_data"
    }
   ],
   "source": [
    "using LinearAlgebra\n",
    "using Distributions\n",
    "using Optim\n",
    "using Random\n",
    "using StatsFuns\n",
    "using JuMP\n",
    "using MosekTools\n",
    "using JLD2\n",
    "include(\"ETO.jl\")\n",
    "include(\"RO.jl\")\n",
    "include(\"Data.jl\")\n",
    "include(\"Estimate.jl\")\n",
    "include(\"Performance.jl\")"
   ]
  },
  {
   "cell_type": "code",
   "execution_count": 2,
   "id": "f424ebee",
   "metadata": {},
   "outputs": [],
   "source": [
    "current_dir = pwd()\n",
    "parent_dir = dirname(current_dir)\n",
    "grand_pa_dir = dirname(parent_dir)\n",
    "data_dir = string(grand_pa_dir, \"/Data/\")\n",
    "if !isdir(data_dir)\n",
    "    mkpath(data_dir)\n",
    "end"
   ]
  },
  {
   "cell_type": "markdown",
   "id": "bc1238ab",
   "metadata": {},
   "source": [
    "## Functions"
   ]
  },
  {
   "cell_type": "code",
   "execution_count": 3,
   "id": "be70475e",
   "metadata": {},
   "outputs": [
    {
     "data": {
      "text/plain": [
       "generate_Input_Data (generic function with 1 method)"
      ]
     },
     "metadata": {},
     "output_type": "display_data"
    }
   ],
   "source": [
    "function generate_Input_Data(S_train,S_test,iterations, N, N_u, K, offdiag_sign,max_offdiag,P_bar)\n",
    "    Input_Data = Dict()\n",
    "    for iter in 1:iterations\n",
    "        A_true, B_true = Generate_Coef(N_u, N,max_offdiag,offdiag_sign);\n",
    "        U_train, P_train = Generate_Feat_Data(N_u, N, S_train);\n",
    "        U_test, P_test = Generate_Feat_Data(N_u, N, S_test);\n",
    "\n",
    "        Input_Data[\"iter=$(iter)_Obs_Feat\"] = U_test[1,:];\n",
    "        Input_Data[\"iter=$(iter)_A_true\"] = A_true;\n",
    "        Input_Data[\"iter=$(iter)_B_true\"] = B_true;\n",
    "        Input_Data[\"iter=$(iter)_P_dag\"] = round.(rand(N, K) .* P_bar; digits=2);\n",
    "        Input_Data[\"iter=$(iter)_U_train\"] = U_train;\n",
    "        Input_Data[\"iter=$(iter)_P_train\"] = P_train;\n",
    "\n",
    "        A_hat, B_hat = Estimate_MNL_Para(U_train, P_train, S_train, N, N_u, N, A_true, B_true);\n",
    "\n",
    "        Input_Data[\"iter=$(iter)_A_hat\"] = A_hat\n",
    "        Input_Data[\"iter=$(iter)_B_hat\"] = B_hat\n",
    "    end\n",
    "    return Input_Data\n",
    "end"
   ]
  },
  {
   "cell_type": "code",
   "execution_count": 4,
   "id": "269d261d",
   "metadata": {},
   "outputs": [
    {
     "data": {
      "text/plain": [
       "Run_Oracle (generic function with 1 method)"
      ]
     },
     "metadata": {},
     "output_type": "display_data"
    }
   ],
   "source": [
    "function Run_Oracle(iterations, N, N_u, K, Input_Data,print_flag)\n",
    "    RST_ = Dict()\n",
    "    for iter in 1:iterations\n",
    "        Obs_Feat = Input_Data[\"iter=$(iter)_Obs_Feat\"]\n",
    "        A_true = Input_Data[\"iter=$(iter)_A_true\"]\n",
    "        B_true = Input_Data[\"iter=$(iter)_B_true\"]\n",
    "        P_dag = Input_Data[\"iter=$(iter)_P_dag\"]\n",
    "        \n",
    "        obj_ETO,X_ETO,time_ETO = Solve_ETO(N,N_u,K,A_true,B_true,Obs_Feat,P_dag)\n",
    "        rev_ETO, price_ETO = compute_oof(X_ETO, A_true, B_true, Obs_Feat, P_dag)\n",
    "        if print_flag\n",
    "            println(\"iter=$(iter): rev_Oracle = \",round(rev_ETO,digits=6),\", price_Oracle = \",price_ETO)\n",
    "        end\n",
    "        RST_[\"iter=$(iter)_Time\"] = time_ETO\n",
    "        RST_[\"iter=$(iter)_Rev\"] = rev_ETO\n",
    "        RST_[\"iter=$(iter)_Price\"] = price_ETO\n",
    "        RST_[\"iter=$(iter)_Obj\"] = obj_ETO\n",
    "    end\n",
    "    return RST_\n",
    "end"
   ]
  },
  {
   "cell_type": "code",
   "execution_count": 5,
   "id": "89994bc2",
   "metadata": {},
   "outputs": [
    {
     "data": {
      "text/plain": [
       "Run_ETO (generic function with 1 method)"
      ]
     },
     "metadata": {},
     "output_type": "display_data"
    }
   ],
   "source": [
    "function Run_ETO(iterations, N, N_u, K, Input_Data,print_flag)\n",
    "    RST_ETO = Dict()\n",
    "    for iter in 1:iterations\n",
    "        Obs_Feat = Input_Data[\"iter=$(iter)_Obs_Feat\"]\n",
    "        A_hat = Input_Data[\"iter=$(iter)_A_hat\"]\n",
    "        B_hat = Input_Data[\"iter=$(iter)_B_hat\"]\n",
    "        A_true = Input_Data[\"iter=$(iter)_A_true\"]\n",
    "        B_true = Input_Data[\"iter=$(iter)_B_true\"]\n",
    "        P_dag = Input_Data[\"iter=$(iter)_P_dag\"]\n",
    "        \n",
    "        obj_ETO,X_ETO,time_ETO = Solve_ETO(N,N_u,K,A_hat,B_hat,Obs_Feat,P_dag)\n",
    "        rev_ETO, price_ETO = compute_oof(X_ETO, A_true, B_true, Obs_Feat, P_dag)\n",
    "        if print_flag\n",
    "            println(\"iter=$(iter): rev_ETO = \",round(rev_ETO,digits=6),\", price_ETO = \",price_ETO)\n",
    "        end\n",
    "        RST_ETO[\"iter=$(iter)_Time\"] = time_ETO\n",
    "        RST_ETO[\"iter=$(iter)_Rev\"] = rev_ETO\n",
    "        RST_ETO[\"iter=$(iter)_Price\"] = price_ETO\n",
    "        RST_ETO[\"iter=$(iter)_Obj\"] = obj_ETO\n",
    "    end\n",
    "    return RST_ETO\n",
    "end"
   ]
  },
  {
   "cell_type": "code",
   "execution_count": 6,
   "id": "09c3b5b0",
   "metadata": {},
   "outputs": [
    {
     "data": {
      "text/plain": [
       "search_opt_price (generic function with 1 method)"
      ]
     },
     "metadata": {},
     "output_type": "display_data"
    }
   ],
   "source": [
    "function search_opt_price(N,p_lb,p_ub,b_n)\n",
    "    model = Model(Mosek.Optimizer)\n",
    "    set_attribute(model, \"QUIET\", true)\n",
    "    # 定义变量\n",
    "    @variable(model, price[1:N])                      # y_{nk}\n",
    "    @constraint(model, price .>= p_lb)\n",
    "    @constraint(model, price .<= p_ub)\n",
    "    @objective(model, Max,b_n' * price )\n",
    "    optimize!(model)\n",
    "    obj_val = objective_value(model)\n",
    "    return obj_val\n",
    "end"
   ]
  },
  {
   "cell_type": "code",
   "execution_count": 7,
   "id": "262a1844",
   "metadata": {},
   "outputs": [
    {
     "data": {
      "text/plain": [
       "Calculate_Hyper_Param (generic function with 1 method)"
      ]
     },
     "metadata": {},
     "output_type": "display_data"
    }
   ],
   "source": [
    "function Calculate_Hyper_Param(RO_coef_all, iterations, N, N_u, K, Input_Data)\n",
    "    for iter in 1:iterations\n",
    "        Obs_Feat = Input_Data[\"iter=$(iter)_Obs_Feat\"]\n",
    "        # A_true = Input_Data[\"iter=$(iter)_A_true\"]\n",
    "        # B_true = Input_Data[\"iter=$(iter)_B_true\"]\n",
    "        P_dag = Input_Data[\"iter=$(iter)_P_dag\"]\n",
    "        A_hat = Input_Data[\"iter=$(iter)_A_hat\"]\n",
    "        B_hat = Input_Data[\"iter=$(iter)_B_hat\"]\n",
    "\n",
    "        for RO_coef in RO_coef_all\n",
    "            A_lb = A_hat .- RO_coef .* abs.(A_hat);\n",
    "            A_ub = A_hat .+ RO_coef .* abs.(A_hat);\n",
    "            B_lb = B_hat .- RO_coef .* abs.(B_hat);\n",
    "            B_ub = B_hat .+ RO_coef .* abs.(B_hat);\n",
    "            \n",
    "            p_ub = vec(maximum(P_dag,dims=2))\n",
    "            p_lb = vec(minimum(P_dag,dims=2))\n",
    "            p_max = maximum(p_ub)\n",
    "            p_min = minimum(p_lb)\n",
    "            Obs_Feat_Trun = [max(-Obs_Feat[ind],0) for ind in 1:N_u]\n",
    "            psi_lb = zeros(N)\n",
    "            for n in 1:N\n",
    "                b_n = B_lb[n,:]\n",
    "                obj_n = search_opt_price(N,p_lb,p_ub,b_n)\n",
    "                psi_lb[n] = -exp(-Obs_Feat_Trun' * (A_ub[n,:] - A_lb[n,:]) + Obs_Feat' * A_lb[n,:] + obj_n)*(p_max-p_min)\n",
    "            end        \n",
    "\n",
    "            Input_Data[\"iter=$(iter)_RO_coef=$(RO_coef)_psi_lb\"] = psi_lb\n",
    "            Input_Data[\"iter=$(iter)_RO_coef=$(RO_coef)_psi_ub\"] = zeros(N)\n",
    "            Input_Data[\"iter=$(iter)_RO_coef=$(RO_coef)_phi_lb\"] = [p_min - p_max for i in 1:N]\n",
    "            Input_Data[\"iter=$(iter)_RO_coef=$(RO_coef)_phi_ub\"] = zeros(N)\n",
    "\n",
    "            Input_Data[\"iter=$(iter)_RO_coef=$(RO_coef)_A_lb\"] = A_lb\n",
    "            Input_Data[\"iter=$(iter)_RO_coef=$(RO_coef)_A_ub\"] = A_ub\n",
    "            Input_Data[\"iter=$(iter)_RO_coef=$(RO_coef)_B_lb\"] = B_lb\n",
    "            Input_Data[\"iter=$(iter)_RO_coef=$(RO_coef)_B_ub\"] = B_ub\n",
    "        end\n",
    "    end\n",
    "    return Input_Data\n",
    "end"
   ]
  },
  {
   "cell_type": "code",
   "execution_count": 8,
   "id": "016c89dc",
   "metadata": {},
   "outputs": [
    {
     "data": {
      "text/plain": [
       "Run_RO (generic function with 1 method)"
      ]
     },
     "metadata": {},
     "output_type": "display_data"
    }
   ],
   "source": [
    "function Run_RO(RO_coef, iterations, N, N_u, K, Input_Data,psi_coef,model_name,print_flag)\n",
    "    RST_RO = Dict()\n",
    "    for iter in 1:iterations\n",
    "        Obs_Feat = Input_Data[\"iter=$(iter)_Obs_Feat\"]\n",
    "        A_true = Input_Data[\"iter=$(iter)_A_true\"]\n",
    "        B_true = Input_Data[\"iter=$(iter)_B_true\"]\n",
    "        P_dag = Input_Data[\"iter=$(iter)_P_dag\"]\n",
    "\n",
    "        psi_lb = Input_Data[\"iter=$(iter)_RO_coef=$(RO_coef)_psi_lb\"]\n",
    "        psi_ub = Input_Data[\"iter=$(iter)_RO_coef=$(RO_coef)_psi_ub\"]\n",
    "        phi_lb = Input_Data[\"iter=$(iter)_RO_coef=$(RO_coef)_phi_lb\"]\n",
    "        phi_ub = Input_Data[\"iter=$(iter)_RO_coef=$(RO_coef)_phi_ub\"]\n",
    "\n",
    "        A_lb = Input_Data[\"iter=$(iter)_RO_coef=$(RO_coef)_A_lb\"]\n",
    "        A_ub = Input_Data[\"iter=$(iter)_RO_coef=$(RO_coef)_A_ub\"]\n",
    "        B_lb = Input_Data[\"iter=$(iter)_RO_coef=$(RO_coef)_B_lb\"]\n",
    "        B_ub = Input_Data[\"iter=$(iter)_RO_coef=$(RO_coef)_B_ub\"]\n",
    "        if model_name == \"Two_Side\"\n",
    "            obj_RO,X_RO,time_RO = Solve_RO(N,N_u,K,A_lb,A_ub,B_lb,B_ub,Obs_Feat,P_dag,psi_lb,psi_ub,phi_lb,phi_ub)\n",
    "        else\n",
    "            obj_RO,X_RO,time_RO = Solve_RO_one_side_exp(N,N_u,K,A_lb,A_ub,B_lb,B_ub,Obs_Feat,P_dag,psi_lb,psi_ub)\n",
    "        end\n",
    "        \n",
    "        rev_RO, price_RO = compute_oof(X_RO, A_true, B_true, Obs_Feat, P_dag)\n",
    "        if print_flag\n",
    "            println(\"iter=$(iter): rev_RO = \",round(rev_RO,digits=6),\", price_RO = \",price_RO)\n",
    "        end\n",
    "        RST_RO[\"iter=$(iter)_Time\"] = time_RO\n",
    "        RST_RO[\"iter=$(iter)_Rev\"] = rev_RO\n",
    "        RST_RO[\"iter=$(iter)_Price\"] = price_RO\n",
    "        RST_RO[\"iter=$(iter)_Obj\"] = obj_RO\n",
    "    end\n",
    "    return RST_RO\n",
    "end"
   ]
  },
  {
   "cell_type": "code",
   "execution_count": 9,
   "id": "6a3970f5",
   "metadata": {},
   "outputs": [
    {
     "data": {
      "text/plain": [
       "Run_RO_with_RO_coef (generic function with 1 method)"
      ]
     },
     "metadata": {},
     "output_type": "display_data"
    }
   ],
   "source": [
    "function Run_RO_with_RO_coef(RO_coef, iterations, N, N_u, K, Input_Data, psi_coef,model_name,print_flag)\n",
    "    RST_RO = Run_RO(RO_coef, iterations, N, N_u, K, Input_Data,psi_coef,model_name,print_flag);\n",
    "    return RST_RO\n",
    "end"
   ]
  },
  {
   "cell_type": "code",
   "execution_count": 10,
   "id": "83d6f208",
   "metadata": {},
   "outputs": [
    {
     "data": {
      "text/plain": [
       "set_Params (generic function with 1 method)"
      ]
     },
     "metadata": {},
     "output_type": "display_data"
    }
   ],
   "source": [
    "function set_Params(N, N_u, K, S_train, S_test, offdiag_sign, max_offdiag, P_bar, RO_coef_all, seed)\n",
    "    Params = Dict()\n",
    "    Params[\"N\"] = N\n",
    "    Params[\"N_u\"] = N_u\n",
    "    Params[\"K\"] = K\n",
    "    Params[\"S_train\"] = S_train\n",
    "    Params[\"S_test\"] = S_test\n",
    "    Params[\"offdiag_sign\"] = offdiag_sign\n",
    "    Params[\"max_offdiag\"] = max_offdiag\n",
    "    Params[\"P_bar\"] = P_bar\n",
    "    Params[\"RO_coef_all\"] = RO_coef_all\n",
    "    Params[\"seed\"] = seed\n",
    "    return Params\n",
    "end"
   ]
  },
  {
   "cell_type": "markdown",
   "id": "9568927e",
   "metadata": {},
   "source": [
    "## Evaluate"
   ]
  },
  {
   "cell_type": "markdown",
   "id": "b6eef9dc",
   "metadata": {},
   "source": [
    "#### Baseline Parameters"
   ]
  },
  {
   "cell_type": "code",
   "execution_count": 11,
   "id": "f8321a1a",
   "metadata": {},
   "outputs": [],
   "source": [
    "project_name = \"Assortment_Pricing_Simulated_Data/\"\n",
    "seed = 1;\n",
    "N = 5;\n",
    "N_u = 1;\n",
    "K = 10;\n",
    "S_train = 100;\n",
    "S_test = 1000;\n",
    "offdiag_sign = \"mix\";\n",
    "max_offdiag = 0.3;\n",
    "P_bar = 1.0;\n",
    "iterations = 10;\n",
    "RO_coef_all = [0.0,0.01,0.05,0.1,0.12,0.14,0.16,0.18,0.2];"
   ]
  },
  {
   "cell_type": "markdown",
   "id": "6314b1a2",
   "metadata": {},
   "source": [
    "### offdiag is mix"
   ]
  },
  {
   "cell_type": "code",
   "execution_count": 12,
   "id": "d7167bf6",
   "metadata": {},
   "outputs": [
    {
     "data": {
      "text/plain": [
       "Dict{Any, Any} with 10 entries:\n",
       "  \"RO_coef_all\"  => [0.0, 0.01, 0.05, 0.1, 0.12, 0.14, 0.16, 0.18, 0.2]\n",
       "  \"S_train\"      => 100\n",
       "  \"N\"            => 5\n",
       "  \"S_test\"       => 1000\n",
       "  \"seed\"         => 1\n",
       "  \"P_bar\"        => 1.0\n",
       "  \"N_u\"          => 1\n",
       "  \"K\"            => 10\n",
       "  \"offdiag_sign\" => \"mix\"\n",
       "  \"max_offdiag\"  => 0.3"
      ]
     },
     "metadata": {},
     "output_type": "display_data"
    }
   ],
   "source": [
    "offdiag_sign = \"mix\";\n",
    "Params = set_Params(N, N_u, K, S_train, S_test, offdiag_sign, max_offdiag, P_bar, RO_coef_all, seed)"
   ]
  },
  {
   "cell_type": "code",
   "execution_count": 13,
   "id": "fca93210",
   "metadata": {},
   "outputs": [],
   "source": [
    "sub_file_name = \"N=$(N)_N_u=$(N_u)_K=$(K)_S_train=$(S_train)_offdiag_sign=$(offdiag_sign)_max_offdiag=$(max_offdiag)/\"\n",
    "this_data_file = string(data_dir,project_name,sub_file_name)\n",
    "if !isdir(this_data_file)\n",
    "    mkpath(this_data_file)\n",
    "end\n",
    "save(string(this_data_file, \"Params.jld2\"), Params);"
   ]
  },
  {
   "cell_type": "markdown",
   "id": "e03b3e9c",
   "metadata": {},
   "source": [
    "- Generate Data"
   ]
  },
  {
   "cell_type": "code",
   "execution_count": 14,
   "id": "d1a43034",
   "metadata": {},
   "outputs": [],
   "source": [
    "Random.seed!(seed)\n",
    "Input_Data = generate_Input_Data(S_train,S_test,iterations, N, N_u, K, offdiag_sign,max_offdiag,P_bar);\n",
    "Input_Data = Calculate_Hyper_Param(RO_coef_all, iterations, N, N_u, K, Input_Data);\n",
    "save(string(this_data_file, \"Input_Data.jld2\"), Input_Data);"
   ]
  },
  {
   "cell_type": "markdown",
   "id": "43aff417",
   "metadata": {},
   "source": [
    "- Run Oracle"
   ]
  },
  {
   "cell_type": "code",
   "execution_count": 15,
   "id": "cd4813fa",
   "metadata": {},
   "outputs": [
    {
     "name": "stdout",
     "output_type": "stream",
     "text": [
      "iter=1: rev_Oracle = 0.732646, price_Oracle = [0.76, 0.86, 0.96, 0.99, 0.81]\n",
      "iter=2: rev_Oracle = 0.749816, price_Oracle = [0.97, 0.95, 0.98, 1.0, 0.97]\n",
      "iter=3: rev_Oracle = 0.668777, price_Oracle = [0.89, 0.97, 0.99, 0.81, 0.85]\n",
      "iter=4: rev_Oracle = 0.691708, price_Oracle = [0.98, 0.88, 0.99, 0.64, 0.84]\n",
      "iter=5: rev_Oracle = 0.681864, price_Oracle = [0.95, 0.78, 0.93, 0.84, 0.92]\n",
      "iter=6: rev_Oracle = 0.696875, price_Oracle = [1.0, 0.89, 0.88, 0.91, 0.91]\n",
      "iter=7: rev_Oracle = 0.611267, price_Oracle = [0.9, 0.81, 0.63, 0.99, 0.82]\n",
      "iter=8: rev_Oracle = 0.769298, price_Oracle = [0.81, 0.8, 0.98, 0.97, 0.91]\n",
      "iter=9: rev_Oracle = 0.682768, price_Oracle = [0.82, 0.85, 0.97, 0.97, 0.95]\n",
      "iter=10: rev_Oracle = 0.699545, price_Oracle = [0.89, 0.89, 0.79, 0.97, 0.97]\n"
     ]
    }
   ],
   "source": [
    "print_flag=true\n",
    "RST_Oracle = Run_Oracle(iterations, N, N_u, K, Input_Data,print_flag);\n",
    "Rev_Oracle = [RST_Oracle[\"iter=$(iter)_Rev\"] for iter in 1:iterations];\n",
    "save(string(this_data_file, \"RST_Oracle.jld2\"), RST_Oracle);"
   ]
  },
  {
   "cell_type": "markdown",
   "id": "152240c0",
   "metadata": {},
   "source": [
    "- Run ETO"
   ]
  },
  {
   "cell_type": "code",
   "execution_count": 16,
   "id": "e37110c4",
   "metadata": {},
   "outputs": [
    {
     "name": "stdout",
     "output_type": "stream",
     "text": [
      "iter=1: rev_ETO = 0.642982, price_ETO = [0.24, 0.86, 0.96, 0.99, 0.81]\n",
      "iter=2: rev_ETO = 0.643008, price_ETO = [0.97, 0.95, 0.98, 1.0, 0.27]\n",
      "iter=3: rev_ETO = 0.286645, price_ETO = [0.12, 0.97, 0.99, 0.1, 0.85]\n",
      "iter=4: rev_ETO = 0.683653, price_ETO = [0.98, 0.88, 0.94, 0.64, 0.84]\n",
      "iter=5: rev_ETO = 0.559875, price_ETO = [0.95, 0.78, 0.93, 0.29, 0.92]\n",
      "iter=6: rev_ETO = 0.564284, price_ETO = [1.0, 0.89, 0.88, 0.26, 0.79]\n",
      "iter=7: rev_ETO = 0.611267, price_ETO = [0.9, 0.81, 0.63, 0.99, 0.82]\n",
      "iter=8: rev_ETO = 0.551575, price_ETO = [0.07, 0.8, 0.98, 0.97, 0.66]\n",
      "iter=9: rev_ETO = 0.490063, price_ETO = [0.82, 0.71, 0.97, 0.97, 0.03]\n",
      "iter=10: rev_ETO = 0.57984, price_ETO = [0.65, 0.89, 0.79, 0.08, 0.97]\n",
      "Rev_ETO/Rev_Oracle = [0.8776, 0.8576, 0.4286, 0.9884, 0.8211, 0.8097, 1.0, 0.717, 0.7178, 0.8289]\n"
     ]
    }
   ],
   "source": [
    "RST_ETO = Run_ETO(iterations, N, N_u, K, Input_Data,print_flag);\n",
    "Rev_ETO = [RST_ETO[\"iter=$(iter)_Rev\"] for iter in 1:iterations]\n",
    "println(\"Rev_ETO/Rev_Oracle = \",round.(Rev_ETO./Rev_Oracle,digits=4))\n",
    "save(string(this_data_file, \"RST_ETO.jld2\"), RST_ETO);"
   ]
  },
  {
   "cell_type": "markdown",
   "id": "5c54f0ee",
   "metadata": {},
   "source": [
    "- Run RO under different uncertainty set"
   ]
  },
  {
   "cell_type": "code",
   "execution_count": null,
   "id": "964da926",
   "metadata": {},
   "outputs": [
    {
     "name": "stdout",
     "output_type": "stream",
     "text": [
      "Running RO with RO_coef = 0.0\n",
      "Running RO with RO_coef = 0.01\n",
      "Running RO with RO_coef = 0.05\n",
      "Running RO with RO_coef = "
     ]
    }
   ],
   "source": [
    "model_name=\"Two_Side\"\n",
    "RST_RO = Dict(); Rev_RO = Dict();\n",
    "for RO_coef in RO_coef_all\n",
    "    println(\"Running RO with RO_coef = \",RO_coef)\n",
    "    RST_RO_this = Run_RO_with_RO_coef(RO_coef, iterations, N, N_u, K, Input_Data, 0.0,model_name,false);\n",
    "    RST_RO[\"RO_coef=$(RO_coef)\"] = RST_RO_this\n",
    "    Rev_RO[\"RO_coef=$(RO_coef)\"] = [RST_RO_this[\"iter=$(iter)_Rev\"] for iter in 1:iterations]\n",
    "end\n",
    "save(string(this_data_file, \"RST_RO.jld2\"), RST_RO);"
   ]
  },
  {
   "cell_type": "code",
   "execution_count": null,
   "id": "351a2f18",
   "metadata": {},
   "outputs": [],
   "source": [
    "for RO_coef in RO_coef_all\n",
    "    Rev_RO_this = Rev_RO[\"RO_coef=$(RO_coef)\"]\n",
    "    println(\"Average = \",round(mean(Rev_RO_this./Rev_ETO),digits=4),\", Rev_RO/Rev_ETO for RO_coef=$(RO_coef) = \",round.(Rev_RO_this./Rev_ETO,digits=4),)\n",
    "end"
   ]
  },
  {
   "cell_type": "markdown",
   "id": "ad4e147e",
   "metadata": {},
   "source": [
    "### offdiag is positive"
   ]
  },
  {
   "cell_type": "code",
   "execution_count": null,
   "id": "98b91a59",
   "metadata": {},
   "outputs": [],
   "source": [
    "offdiag_sign = \"positive\";\n",
    "Params = set_Params(N, N_u, K, S_train, S_test, offdiag_sign, max_offdiag, P_bar, RO_coef_all, seed)"
   ]
  },
  {
   "cell_type": "code",
   "execution_count": null,
   "id": "5ef2df46",
   "metadata": {},
   "outputs": [],
   "source": [
    "sub_file_name = \"N=$(N)_N_u=$(N_u)_K=$(K)_S_train=$(S_train)_offdiag_sign=$(offdiag_sign)_max_offdiag=$(max_offdiag)/\"\n",
    "this_data_file = string(data_dir,project_name,sub_file_name)\n",
    "if !isdir(this_data_file)\n",
    "    mkpath(this_data_file)\n",
    "end\n",
    "save(string(this_data_file, \"Params.jld2\"), Params);"
   ]
  },
  {
   "cell_type": "code",
   "execution_count": null,
   "id": "db9af694",
   "metadata": {},
   "outputs": [],
   "source": [
    "Random.seed!(seed)\n",
    "Input_Data = generate_Input_Data(S_train,S_test,iterations, N, N_u, K, offdiag_sign,max_offdiag,P_bar);\n",
    "Input_Data = Calculate_Hyper_Param(RO_coef_all, iterations, N, N_u, K, Input_Data);\n",
    "save(string(this_data_file, \"Input_Data.jld2\"), Input_Data);"
   ]
  },
  {
   "cell_type": "code",
   "execution_count": null,
   "id": "0f054212",
   "metadata": {},
   "outputs": [],
   "source": [
    "print_flag=true\n",
    "RST_Oracle = Run_Oracle(iterations, N, N_u, K, Input_Data,print_flag);\n",
    "Rev_Oracle = [RST_Oracle[\"iter=$(iter)_Rev\"] for iter in 1:iterations];\n",
    "save(string(this_data_file, \"RST_Oracle.jld2\"), RST_Oracle);"
   ]
  },
  {
   "cell_type": "code",
   "execution_count": null,
   "id": "eb30444d",
   "metadata": {},
   "outputs": [],
   "source": [
    "RST_ETO = Run_ETO(iterations, N, N_u, K, Input_Data,print_flag);\n",
    "Rev_ETO = [RST_ETO[\"iter=$(iter)_Rev\"] for iter in 1:iterations]\n",
    "println(\"Rev_ETO/Rev_Oracle = \",round.(Rev_ETO./Rev_Oracle,digits=4))\n",
    "save(string(this_data_file, \"RST_ETO.jld2\"), RST_ETO);"
   ]
  },
  {
   "cell_type": "code",
   "execution_count": null,
   "id": "ac14eb87",
   "metadata": {},
   "outputs": [],
   "source": [
    "model_name=\"Two_Side\"\n",
    "RST_RO = Dict(); Rev_RO = Dict();\n",
    "for RO_coef in RO_coef_all\n",
    "    println(\"Running RO with RO_coef = \",RO_coef)\n",
    "    RST_RO_this = Run_RO_with_RO_coef(RO_coef, iterations, N, N_u, K, Input_Data, 0.0,model_name,false);\n",
    "    RST_RO[\"RO_coef=$(RO_coef)\"] = RST_RO_this\n",
    "    Rev_RO[\"RO_coef=$(RO_coef)\"] = [RST_RO_this[\"iter=$(iter)_Rev\"] for iter in 1:iterations]\n",
    "end\n",
    "save(string(this_data_file, \"RST_RO.jld2\"), RST_RO);"
   ]
  },
  {
   "cell_type": "code",
   "execution_count": null,
   "id": "db2af615",
   "metadata": {},
   "outputs": [],
   "source": [
    "# for RO_coef in RO_coef_all\n",
    "#     Rev_RO_this = Rev_RO[\"RO_coef=$(RO_coef)\"]\n",
    "#     println(\"Average = \",round(mean(Rev_RO_this./Rev_ETO),digits=4),\", Rev_RO/Rev_ETO for RO_coef=$(RO_coef) = \",round.(Rev_RO_this./Rev_ETO,digits=4),)\n",
    "# end"
   ]
  },
  {
   "cell_type": "markdown",
   "id": "211a7218",
   "metadata": {},
   "source": [
    "### offdiag is negative"
   ]
  },
  {
   "cell_type": "code",
   "execution_count": null,
   "id": "c4cf05bd",
   "metadata": {},
   "outputs": [],
   "source": [
    "offdiag_sign = \"negative\";\n",
    "Params = set_Params(N, N_u, K, S_train, S_test, offdiag_sign, max_offdiag, P_bar, RO_coef_all, seed)"
   ]
  },
  {
   "cell_type": "code",
   "execution_count": null,
   "id": "a72702ab",
   "metadata": {},
   "outputs": [],
   "source": [
    "sub_file_name = \"N=$(N)_N_u=$(N_u)_K=$(K)_S_train=$(S_train)_offdiag_sign=$(offdiag_sign)_max_offdiag=$(max_offdiag)/\"\n",
    "this_data_file = string(data_dir,project_name,sub_file_name)\n",
    "if !isdir(this_data_file)\n",
    "    mkpath(this_data_file)\n",
    "end\n",
    "save(string(this_data_file, \"Params.jld2\"), Params);"
   ]
  },
  {
   "cell_type": "code",
   "execution_count": null,
   "id": "9071c26c",
   "metadata": {},
   "outputs": [],
   "source": [
    "print_flag=true\n",
    "RST_Oracle = Run_Oracle(iterations, N, N_u, K, Input_Data,print_flag);\n",
    "Rev_Oracle = [RST_Oracle[\"iter=$(iter)_Rev\"] for iter in 1:iterations];\n",
    "save(string(this_data_file, \"RST_Oracle.jld2\"), RST_Oracle);"
   ]
  },
  {
   "cell_type": "code",
   "execution_count": null,
   "id": "610d6a10",
   "metadata": {},
   "outputs": [],
   "source": [
    "RST_ETO = Run_ETO(iterations, N, N_u, K, Input_Data,print_flag);\n",
    "Rev_ETO = [RST_ETO[\"iter=$(iter)_Rev\"] for iter in 1:iterations]\n",
    "println(\"Rev_ETO/Rev_Oracle = \",round.(Rev_ETO./Rev_Oracle,digits=4))\n",
    "save(string(this_data_file, \"RST_ETO.jld2\"), RST_ETO);"
   ]
  },
  {
   "cell_type": "code",
   "execution_count": null,
   "id": "b995846a",
   "metadata": {},
   "outputs": [],
   "source": [
    "model_name=\"Two_Side\"\n",
    "RST_RO = Dict(); Rev_RO = Dict();\n",
    "for RO_coef in RO_coef_all\n",
    "    println(\"Running RO with RO_coef = \",RO_coef)\n",
    "    RST_RO_this = Run_RO_with_RO_coef(RO_coef, iterations, N, N_u, K, Input_Data, 0.0,model_name,false);\n",
    "    RST_RO[\"RO_coef=$(RO_coef)\"] = RST_RO_this\n",
    "    Rev_RO[\"RO_coef=$(RO_coef)\"] = [RST_RO_this[\"iter=$(iter)_Rev\"] for iter in 1:iterations]\n",
    "end\n",
    "save(string(this_data_file, \"RST_RO.jld2\"), RST_RO);"
   ]
  }
 ],
 "metadata": {
  "kernelspec": {
   "display_name": "Julia 1.10.3",
   "language": "julia",
   "name": "julia-1.10"
  },
  "language_info": {
   "file_extension": ".jl",
   "mimetype": "application/julia",
   "name": "julia",
   "version": "1.10.3"
  }
 },
 "nbformat": 4,
 "nbformat_minor": 5
}
