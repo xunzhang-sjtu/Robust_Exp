{
 "cells": [
  {
   "cell_type": "code",
   "execution_count": 1,
   "id": "ea7846fb",
   "metadata": {},
   "outputs": [
    {
     "data": {
      "text/plain": [
       "greedy_search_optimal_price (generic function with 1 method)"
      ]
     },
     "metadata": {},
     "output_type": "display_data"
    }
   ],
   "source": [
    "using LinearAlgebra\n",
    "using Distributions\n",
    "using Optim\n",
    "using Random\n",
    "using StatsFuns\n",
    "using JuMP\n",
    "using MosekTools\n",
    "using JLD2\n",
    "include(\"ETO.jl\")\n",
    "include(\"RO.jl\")\n",
    "include(\"Data.jl\")\n",
    "include(\"Estimate.jl\")\n",
    "include(\"Performance.jl\")"
   ]
  },
  {
   "cell_type": "code",
   "execution_count": 2,
   "id": "f424ebee",
   "metadata": {},
   "outputs": [],
   "source": [
    "current_dir = pwd()\n",
    "parent_dir = dirname(current_dir)\n",
    "grand_pa_dir = dirname(parent_dir)\n",
    "data_dir = string(grand_pa_dir, \"/Data/\")\n",
    "if !isdir(data_dir)\n",
    "    mkpath(data_dir)\n",
    "end"
   ]
  },
  {
   "cell_type": "markdown",
   "id": "bc1238ab",
   "metadata": {},
   "source": [
    "## Functions"
   ]
  },
  {
   "cell_type": "code",
   "execution_count": 3,
   "id": "be70475e",
   "metadata": {},
   "outputs": [
    {
     "data": {
      "text/plain": [
       "generate_Input_Data (generic function with 1 method)"
      ]
     },
     "metadata": {},
     "output_type": "display_data"
    }
   ],
   "source": [
    "function generate_Input_Data(S_train,S_test,iterations, N, N_u, K, offdiag_sign,max_offdiag,P_bar)\n",
    "    Input_Data = Dict()\n",
    "    for iter in 1:iterations\n",
    "        A_true, B_true = Generate_Coef(N_u, N,max_offdiag,offdiag_sign);\n",
    "        U_train, P_train = Generate_Feat_Data(N_u, N, S_train);\n",
    "        U_test, P_test = Generate_Feat_Data(N_u, N, S_test);\n",
    "\n",
    "        Input_Data[\"iter=$(iter)_Obs_Feat\"] = U_test[1,:];\n",
    "        Input_Data[\"iter=$(iter)_A_true\"] = A_true;\n",
    "        Input_Data[\"iter=$(iter)_B_true\"] = B_true;\n",
    "        Input_Data[\"iter=$(iter)_P_dag\"] = round.(rand(N, K) .* P_bar; digits=2);\n",
    "        Input_Data[\"iter=$(iter)_U_train\"] = U_train;\n",
    "        Input_Data[\"iter=$(iter)_P_train\"] = P_train;\n",
    "\n",
    "        A_hat, B_hat = Estimate_MNL_Para(U_train, P_train, S_train, N, N_u, N, A_true, B_true);\n",
    "\n",
    "        Input_Data[\"iter=$(iter)_A_hat\"] = A_hat\n",
    "        Input_Data[\"iter=$(iter)_B_hat\"] = B_hat\n",
    "    end\n",
    "    return Input_Data\n",
    "end"
   ]
  },
  {
   "cell_type": "code",
   "execution_count": 4,
   "id": "269d261d",
   "metadata": {},
   "outputs": [
    {
     "data": {
      "text/plain": [
       "Run_Oracle (generic function with 1 method)"
      ]
     },
     "metadata": {},
     "output_type": "display_data"
    }
   ],
   "source": [
    "function Run_Oracle(iterations, N, N_u, K, Input_Data)\n",
    "    RST_ = Dict()\n",
    "    for iter in 1:iterations\n",
    "        Obs_Feat = Input_Data[\"iter=$(iter)_Obs_Feat\"]\n",
    "        A_true = Input_Data[\"iter=$(iter)_A_true\"]\n",
    "        B_true = Input_Data[\"iter=$(iter)_B_true\"]\n",
    "        P_dag = Input_Data[\"iter=$(iter)_P_dag\"]\n",
    "        \n",
    "        obj_ETO,X_ETO,time_ETO = Solve_ETO(N,N_u,K,A_true,B_true,Obs_Feat,P_dag)\n",
    "        rev_ETO, price_ETO = compute_oof(X_ETO, A_true, B_true, Obs_Feat, P_dag)\n",
    "        # println(\"rev_ETO=\",round(rev_ETO,digits=6),\",price_ETO = \",price_ETO)\n",
    "        RST_[\"iter=$(iter)_Rev\"] = rev_ETO\n",
    "        RST_[\"iter=$(iter)_Price\"] = price_ETO\n",
    "        RST_[\"iter=$(iter)_Obj\"] = obj_ETO\n",
    "    end\n",
    "    return RST_\n",
    "end"
   ]
  },
  {
   "cell_type": "code",
   "execution_count": 5,
   "id": "89994bc2",
   "metadata": {},
   "outputs": [
    {
     "data": {
      "text/plain": [
       "Run_ETO (generic function with 1 method)"
      ]
     },
     "metadata": {},
     "output_type": "display_data"
    }
   ],
   "source": [
    "function Run_ETO(iterations, N, N_u, K, Input_Data)\n",
    "    RST_ETO = Dict()\n",
    "    for iter in 1:iterations\n",
    "        Obs_Feat = Input_Data[\"iter=$(iter)_Obs_Feat\"]\n",
    "        A_hat = Input_Data[\"iter=$(iter)_A_hat\"]\n",
    "        B_hat = Input_Data[\"iter=$(iter)_B_hat\"]\n",
    "        A_true = Input_Data[\"iter=$(iter)_A_true\"]\n",
    "        B_true = Input_Data[\"iter=$(iter)_B_true\"]\n",
    "        P_dag = Input_Data[\"iter=$(iter)_P_dag\"]\n",
    "        \n",
    "        obj_ETO,X_ETO,time_ETO = Solve_ETO(N,N_u,K,A_hat,B_hat,Obs_Feat,P_dag)\n",
    "        rev_ETO, price_ETO = compute_oof(X_ETO, A_true, B_true, Obs_Feat, P_dag)\n",
    "        # println(\"rev_ETO=\",round(rev_ETO,digits=6),\",price_ETO = \",price_ETO)\n",
    "        RST_ETO[\"iter=$(iter)_Rev\"] = rev_ETO\n",
    "        RST_ETO[\"iter=$(iter)_Price\"] = price_ETO\n",
    "        RST_ETO[\"iter=$(iter)_Obj\"] = obj_ETO\n",
    "    end\n",
    "    return RST_ETO\n",
    "end"
   ]
  },
  {
   "cell_type": "code",
   "execution_count": null,
   "id": "5d539405",
   "metadata": {},
   "outputs": [],
   "source": [
    "# function Run_RO(bd_coef, iterations, N, N_u, K, Input_Data, psi_coef)\n",
    "#     RST_RO = Dict()\n",
    "#     for iter in 1:iterations\n",
    "#         Obs_Feat = Input_Data[\"iter=$(iter)_Obs_Feat\"]\n",
    "#         A_hat = Input_Data[\"iter=$(iter)_A_hat\"]\n",
    "#         B_hat = Input_Data[\"iter=$(iter)_B_hat\"]\n",
    "#         A_true = Input_Data[\"iter=$(iter)_A_true\"]\n",
    "#         B_true = Input_Data[\"iter=$(iter)_B_true\"]\n",
    "#         P_dag = Input_Data[\"iter=$(iter)_P_dag\"]\n",
    "        \n",
    "#         A_lb = A_hat .- bd_coef .* abs.(ones(N,N_u));\n",
    "#         A_ub = A_hat .+ bd_coef .* abs.(ones(N,N_u));\n",
    "#         B_lb = B_hat .- bd_coef .* abs.(ones(N,N));\n",
    "#         B_ub = B_hat .+ bd_coef .* abs.(ones(N,N));\n",
    "#         psi_lb = 0.0 - psi_coef * 10\n",
    "#         psi_ub = 0.1\n",
    "\n",
    "#         obj_RO,X_RO,time_RO = Solve_RO_one_side_exp(N,N_u,K,A_lb,A_ub,B_lb,B_ub,Obs_Feat,P_dag,psi_lb,psi_ub)\n",
    "#         rev_RO, price_RO = compute_oof(X_RO, A_true, B_true, Obs_Feat, P_dag)\n",
    "#         # println(\"psi_lb = \",psi_lb,\",rev_RO = \",round(rev_RO,digits=6),\",price_RO = \",price_RO)\n",
    "#         RST_RO[\"iter=$(iter)_Rev\"] = rev_RO\n",
    "#         RST_RO[\"iter=$(iter)_Price\"] = price_RO\n",
    "#     end\n",
    "#     return RST_RO\n",
    "# end"
   ]
  },
  {
   "cell_type": "code",
   "execution_count": 6,
   "id": "09c3b5b0",
   "metadata": {},
   "outputs": [
    {
     "data": {
      "text/plain": [
       "search_opt_price (generic function with 1 method)"
      ]
     },
     "metadata": {},
     "output_type": "display_data"
    }
   ],
   "source": [
    "function search_opt_price(N,p_lb,p_ub,b_n)\n",
    "    model = Model(Mosek.Optimizer)\n",
    "    set_attribute(model, \"QUIET\", true)\n",
    "    # 定义变量\n",
    "    @variable(model, price[1:N])                      # y_{nk}\n",
    "    @constraint(model, price .>= p_lb)\n",
    "    @constraint(model, price .<= p_ub)\n",
    "    @objective(model, Max,b_n' * price )\n",
    "    optimize!(model)\n",
    "    obj_val = objective_value(model)\n",
    "    return obj_val\n",
    "end"
   ]
  },
  {
   "cell_type": "code",
   "execution_count": 7,
   "id": "262a1844",
   "metadata": {},
   "outputs": [
    {
     "data": {
      "text/plain": [
       "Calculate_Hyper_Param (generic function with 1 method)"
      ]
     },
     "metadata": {},
     "output_type": "display_data"
    }
   ],
   "source": [
    "function Calculate_Hyper_Param(bd_coef, iterations, N, N_u, K, Input_Data)\n",
    "    for iter in 1:iterations\n",
    "        Obs_Feat = Input_Data[\"iter=$(iter)_Obs_Feat\"]\n",
    "        A_true = Input_Data[\"iter=$(iter)_A_true\"]\n",
    "        B_true = Input_Data[\"iter=$(iter)_B_true\"]\n",
    "        P_dag = Input_Data[\"iter=$(iter)_P_dag\"]\n",
    "        A_hat = Input_Data[\"iter=$(iter)_A_hat\"]\n",
    "        B_hat = Input_Data[\"iter=$(iter)_B_hat\"]\n",
    "\n",
    "        A_lb = A_hat .- bd_coef .* abs.(ones(N,N_u));\n",
    "        A_ub = A_hat .+ bd_coef .* abs.(ones(N,N_u));\n",
    "        B_lb = B_hat .- bd_coef .* abs.(ones(N,N));\n",
    "        B_ub = B_hat .+ bd_coef .* abs.(ones(N,N));\n",
    "        \n",
    "        p_ub = vec(maximum(P_dag,dims=2))\n",
    "        p_lb = vec(minimum(P_dag,dims=2))\n",
    "        p_max = maximum(p_ub)\n",
    "        p_min = minimum(p_lb)\n",
    "        Obs_Feat_Trun = [max(-Obs_Feat[ind],0) for ind in 1:N_u]\n",
    "        psi_lb = zeros(N)\n",
    "        for n in 1:N\n",
    "            b_n = B_lb[n,:]\n",
    "            obj_n = search_opt_price(N,p_lb,p_ub,b_n)\n",
    "            psi_lb[n] = -exp(-Obs_Feat_Trun' * (A_ub[n,:] - A_lb[n,:]) + Obs_Feat' * A_lb[n,:] + obj_n)*(p_max-p_min)\n",
    "        end\n",
    "        \n",
    "        Input_Data[\"iter=$(iter)_psi_lb\"] = psi_lb\n",
    "        Input_Data[\"iter=$(iter)_psi_ub\"] = zeros(N)\n",
    "        Input_Data[\"iter=$(iter)_A_lb\"] = A_lb\n",
    "        Input_Data[\"iter=$(iter)_A_ub\"] = A_ub\n",
    "        Input_Data[\"iter=$(iter)_B_lb\"] = B_lb\n",
    "        Input_Data[\"iter=$(iter)_B_ub\"] = B_ub\n",
    "    end\n",
    "    return Input_Data\n",
    "end"
   ]
  },
  {
   "cell_type": "code",
   "execution_count": 8,
   "id": "016c89dc",
   "metadata": {},
   "outputs": [
    {
     "data": {
      "text/plain": [
       "Run_RO (generic function with 1 method)"
      ]
     },
     "metadata": {},
     "output_type": "display_data"
    }
   ],
   "source": [
    "function Run_RO(bd_coef, iterations, N, N_u, K, Input_Data,psi_coef)\n",
    "    RST_RO = Dict(); RST_RO_Two_Side = Dict()\n",
    "    for iter in 1:iterations\n",
    "        Obs_Feat = Input_Data[\"iter=$(iter)_Obs_Feat\"]\n",
    "        A_true = Input_Data[\"iter=$(iter)_A_true\"]\n",
    "        B_true = Input_Data[\"iter=$(iter)_B_true\"]\n",
    "        P_dag = Input_Data[\"iter=$(iter)_P_dag\"]\n",
    "\n",
    "        psi_lb = Input_Data[\"iter=$(iter)_psi_lb\"]\n",
    "        psi_ub = Input_Data[\"iter=$(iter)_psi_ub\"]\n",
    "        A_lb = Input_Data[\"iter=$(iter)_A_lb\"]\n",
    "        A_ub = Input_Data[\"iter=$(iter)_A_ub\"]\n",
    "        B_lb = Input_Data[\"iter=$(iter)_B_lb\"]\n",
    "        B_ub = Input_Data[\"iter=$(iter)_B_ub\"]\n",
    "\n",
    "        obj_RO,X_RO,time_RO = Solve_RO_one_side_exp(N,N_u,K,A_lb,A_ub,B_lb,B_ub,Obs_Feat,P_dag,psi_lb,psi_ub)\n",
    "        rev_RO, price_RO = compute_oof(X_RO, A_true, B_true, Obs_Feat, P_dag)\n",
    "        println(\"psi_lb = \",round.(psi_lb,digits=2),\",rev_RO = \",round(rev_RO,digits=6),\",price_RO = \",price_RO)\n",
    "        RST_RO[\"iter=$(iter)_Rev\"] = rev_RO\n",
    "        RST_RO[\"iter=$(iter)_Price\"] = price_RO\n",
    "        RST_RO[\"iter=$(iter)_Obj\"] = obj_RO\n",
    "    end\n",
    "    return RST_RO\n",
    "end"
   ]
  },
  {
   "cell_type": "code",
   "execution_count": 9,
   "id": "6a3970f5",
   "metadata": {},
   "outputs": [
    {
     "data": {
      "text/plain": [
       "Run_RO_with_Given_bd_coef (generic function with 1 method)"
      ]
     },
     "metadata": {},
     "output_type": "display_data"
    }
   ],
   "source": [
    "function Run_RO_with_Given_bd_coef(bd_coef, iterations, N, N_u, K, Input_Data, psi_coef,RST_ETO)\n",
    "    RST_RO = Run_RO(bd_coef, iterations, N, N_u, K, Input_Data,psi_coef);\n",
    "    Rev_ETO = [RST_ETO[\"iter=$(iter)_Rev\"] for iter in 1:iterations]\n",
    "    Rev_RO = [RST_RO[\"iter=$(iter)_Rev\"] for iter in 1:iterations]\n",
    "    # println(\"Rev_ETO = \",round.(Rev_ETO,digits=4))\n",
    "    println(\"Rev_RO/Rev_ETO = \",round.(Rev_RO./Rev_ETO,digits=4), \", Average = \",round.(mean(Rev_RO./Rev_ETO),digits=4))\n",
    "    return RST_RO\n",
    "end"
   ]
  },
  {
   "cell_type": "markdown",
   "id": "9568927e",
   "metadata": {},
   "source": [
    "## Evaluate"
   ]
  },
  {
   "cell_type": "markdown",
   "id": "6314b1a2",
   "metadata": {},
   "source": [
    "### offdiag is mix"
   ]
  },
  {
   "cell_type": "code",
   "execution_count": null,
   "id": "4d7d2cfa",
   "metadata": {},
   "outputs": [],
   "source": [
    "Random.seed!(1)\n",
    "N_u = 1\n",
    "N = 5\n",
    "S_train = 1000\n",
    "S_test = 1\n",
    "K = 10   # 每个产品的选择项数量\n",
    "max_offdiag = 0.3\n",
    "offdiag_sign = \"mix\"  # \"positive\" or \"negative\"\n",
    "P_bar = 1.0\n",
    "iterations = 10"
   ]
  },
  {
   "cell_type": "markdown",
   "id": "e03b3e9c",
   "metadata": {},
   "source": [
    "- Generate Data"
   ]
  },
  {
   "cell_type": "code",
   "execution_count": null,
   "id": "d1a43034",
   "metadata": {},
   "outputs": [],
   "source": [
    "Input_Data = generate_Input_Data(S_train,S_test,iterations, N, N_u, K, offdiag_sign,max_offdiag,P_bar);"
   ]
  },
  {
   "cell_type": "code",
   "execution_count": null,
   "id": "2812e212",
   "metadata": {},
   "outputs": [],
   "source": [
    "bd_coef = 0.0\n",
    "Input_Data = Calculate_Hyper_Param(bd_coef, iterations, N, N_u, K, Input_Data)\n",
    "save(string(data_dir, \"Input_Data_\",offdiag_sign,\".jld2\"), Input_Data)"
   ]
  },
  {
   "cell_type": "markdown",
   "id": "43aff417",
   "metadata": {},
   "source": [
    "- Run Oracle"
   ]
  },
  {
   "cell_type": "code",
   "execution_count": null,
   "id": "cd4813fa",
   "metadata": {},
   "outputs": [],
   "source": [
    "RST_Oracle = Run_Oracle(iterations, N, N_u, K, Input_Data);"
   ]
  },
  {
   "cell_type": "markdown",
   "id": "152240c0",
   "metadata": {},
   "source": [
    "- Run ETO"
   ]
  },
  {
   "cell_type": "code",
   "execution_count": null,
   "id": "e37110c4",
   "metadata": {},
   "outputs": [],
   "source": [
    "RST_ETO = Run_ETO(iterations, N, N_u, K, Input_Data);\n",
    "Rev_ETO = [RST_ETO[\"iter=$(iter)_Rev\"] for iter in 1:iterations]\n",
    "Rev_Oracle = [RST_Oracle[\"iter=$(iter)_Rev\"] for iter in 1:iterations]\n",
    "println(\"Rev_ETO/Rev_Oracle = \",round.(Rev_ETO./Rev_Oracle,digits=4))"
   ]
  },
  {
   "cell_type": "code",
   "execution_count": null,
   "id": "526a0e3f",
   "metadata": {},
   "outputs": [],
   "source": [
    "Price_ETO = [RST_ETO[\"iter=$(iter)_Price\"] for iter in 1:iterations]"
   ]
  },
  {
   "cell_type": "markdown",
   "id": "5c54f0ee",
   "metadata": {},
   "source": [
    "- Run RO under different uncertainty set"
   ]
  },
  {
   "cell_type": "code",
   "execution_count": null,
   "id": "964da926",
   "metadata": {},
   "outputs": [],
   "source": [
    "psi_coef = 1\n",
    "RST_RO = Run_RO_with_Given_bd_coef(bd_coef, iterations, N, N_u, K, Input_Data, psi_coef,RST_ETO);\n",
    "Rev_RO = [RST_RO[\"iter=$(iter)_Rev\"] for iter in 1:iterations]\n",
    "println(\"Rev_RO/Rev_Oracle = \",round.(Rev_RO./Rev_Oracle,digits=4))"
   ]
  },
  {
   "cell_type": "markdown",
   "id": "71b72e95",
   "metadata": {},
   "source": [
    "### offdiag is zero"
   ]
  },
  {
   "cell_type": "code",
   "execution_count": null,
   "id": "67325244",
   "metadata": {},
   "outputs": [],
   "source": [
    "offdiag_sign = \"zero\" \n",
    "Input_Data = generate_Input_Data(S_train,S_test,iterations, N, N_u, K, offdiag_sign,max_offdiag,P_bar);\n",
    "bd_coef = 0.0\n",
    "Input_Data = Calculate_Hyper_Param(bd_coef, iterations, N, N_u, K, Input_Data)\n",
    "save(string(data_dir, \"Input_Data_\",offdiag_sign,\".jld2\"), Input_Data)"
   ]
  },
  {
   "cell_type": "code",
   "execution_count": null,
   "id": "dbd5e948",
   "metadata": {},
   "outputs": [],
   "source": [
    "RST_Oracle = Run_Oracle(iterations, N, N_u, K, Input_Data);"
   ]
  },
  {
   "cell_type": "code",
   "execution_count": null,
   "id": "94145ea1",
   "metadata": {},
   "outputs": [],
   "source": [
    "RST_ETO = Run_ETO(iterations, N, N_u, K, Input_Data);\n",
    "Rev_ETO = [RST_ETO[\"iter=$(iter)_Rev\"] for iter in 1:iterations]\n",
    "Rev_Oracle = [RST_Oracle[\"iter=$(iter)_Rev\"] for iter in 1:iterations]\n",
    "println(\"Rev_ETO/Rev_Oracle = \",round.(Rev_ETO./Rev_Oracle,digits=4))"
   ]
  },
  {
   "cell_type": "code",
   "execution_count": null,
   "id": "6d3afb07",
   "metadata": {},
   "outputs": [],
   "source": [
    "Run_RO_with_Given_bd_coef(bd_coef, iterations, N, N_u, K, Input_Data, psi_coef,RST_ETO);"
   ]
  },
  {
   "cell_type": "markdown",
   "id": "ad4e147e",
   "metadata": {},
   "source": [
    "### offdiag is positive"
   ]
  },
  {
   "cell_type": "code",
   "execution_count": null,
   "id": "4094dc73",
   "metadata": {},
   "outputs": [],
   "source": [
    "offdiag_sign = \"positive\" \n",
    "Input_Data = generate_Input_Data(S_train,S_test,iterations, N, N_u, K, offdiag_sign,max_offdiag,P_bar);\n",
    "bd_coef = 0.0\n",
    "Input_Data = Calculate_Hyper_Param(bd_coef, iterations, N, N_u, K, Input_Data)\n",
    "save(string(data_dir, \"Input_Data_\",offdiag_sign,\".jld2\"), Input_Data)"
   ]
  },
  {
   "cell_type": "code",
   "execution_count": null,
   "id": "0f054212",
   "metadata": {},
   "outputs": [],
   "source": [
    "RST_Oracle = Run_Oracle(iterations, N, N_u, K, Input_Data);"
   ]
  },
  {
   "cell_type": "code",
   "execution_count": null,
   "id": "eb30444d",
   "metadata": {},
   "outputs": [],
   "source": [
    "RST_ETO = Run_ETO(iterations, N, N_u, K, Input_Data);\n",
    "Rev_ETO = [RST_ETO[\"iter=$(iter)_Rev\"] for iter in 1:iterations]\n",
    "Rev_Oracle = [RST_Oracle[\"iter=$(iter)_Rev\"] for iter in 1:iterations]\n",
    "println(\"Rev_ETO/Rev_Oracle = \",round.(Rev_ETO./Rev_Oracle,digits=4))"
   ]
  },
  {
   "cell_type": "code",
   "execution_count": null,
   "id": "ac14eb87",
   "metadata": {},
   "outputs": [],
   "source": [
    "bd_coef = 0.0\n",
    "RST_RO = Run_RO_with_Given_bd_coef(bd_coef, iterations, N, N_u, K, Input_Data, psi_coef,RST_ETO);"
   ]
  },
  {
   "cell_type": "markdown",
   "id": "211a7218",
   "metadata": {},
   "source": [
    "### offdiag is negative"
   ]
  },
  {
   "cell_type": "code",
   "execution_count": null,
   "id": "a72702ab",
   "metadata": {},
   "outputs": [],
   "source": [
    "offdiag_sign = \"negative\" \n",
    "Input_Data = generate_Input_Data(S_train,S_test,iterations, N, N_u, K, offdiag_sign,max_offdiag,P_bar);\n",
    "bd_coef = 0.0\n",
    "Input_Data = Calculate_Hyper_Param(bd_coef, iterations, N, N_u, K, Input_Data)\n",
    "save(string(data_dir, \"Input_Data_\",offdiag_sign,\".jld2\"), Input_Data)"
   ]
  },
  {
   "cell_type": "code",
   "execution_count": null,
   "id": "9071c26c",
   "metadata": {},
   "outputs": [],
   "source": [
    "RST_Oracle = Run_Oracle(iterations, N, N_u, K, Input_Data);"
   ]
  },
  {
   "cell_type": "code",
   "execution_count": null,
   "id": "610d6a10",
   "metadata": {},
   "outputs": [],
   "source": [
    "RST_ETO = Run_ETO(iterations, N, N_u, K, Input_Data);\n",
    "Rev_ETO = [RST_ETO[\"iter=$(iter)_Rev\"] for iter in 1:iterations]\n",
    "Rev_Oracle = [RST_Oracle[\"iter=$(iter)_Rev\"] for iter in 1:iterations]\n",
    "println(\"Rev_ETO/Rev_Oracle = \",round.(Rev_ETO./Rev_Oracle,digits=4))"
   ]
  },
  {
   "cell_type": "code",
   "execution_count": null,
   "id": "b995846a",
   "metadata": {},
   "outputs": [],
   "source": [
    "RST_RO = Run_RO_with_Given_bd_coef(bd_coef, iterations, N, N_u, K, Input_Data, psi_coef,RST_ETO);"
   ]
  },
  {
   "cell_type": "markdown",
   "id": "e0566842",
   "metadata": {},
   "source": [
    "## Check Correctness of Model Formulation"
   ]
  },
  {
   "cell_type": "code",
   "execution_count": 10,
   "id": "444b2b61",
   "metadata": {},
   "outputs": [
    {
     "data": {
      "text/plain": [
       "10"
      ]
     },
     "metadata": {},
     "output_type": "display_data"
    }
   ],
   "source": [
    "N_u = 1\n",
    "N = 5\n",
    "S_train = 1000\n",
    "S_test = 1\n",
    "K = 10   # 每个产品的选择项数量\n",
    "max_offdiag = 0.3\n",
    "offdiag_sign = \"mix\"  # \"positive\" or \"negative\"\n",
    "P_bar = 1.0\n",
    "iterations = 10"
   ]
  },
  {
   "cell_type": "code",
   "execution_count": 11,
   "id": "141b9414",
   "metadata": {},
   "outputs": [
    {
     "data": {
      "text/plain": [
       "\"mix\""
      ]
     },
     "metadata": {},
     "output_type": "display_data"
    }
   ],
   "source": [
    "Random.seed!(1)\n",
    "max_offdiag = 1.0\n",
    "offdiag_sign = \"mix\"  # \"positive\" or \"negative\""
   ]
  },
  {
   "cell_type": "code",
   "execution_count": 12,
   "id": "57d3dd87",
   "metadata": {},
   "outputs": [
    {
     "data": {
      "text/plain": [
       "Dict{Any, Any} with 140 entries:\n",
       "  \"iter=7_B_true\"   => [-2.80069 0.251263 … -0.951699 0.363152; 0.654146 -3.373…\n",
       "  \"iter=5_B_hat\"    => [-3.10939 0.642363 … -0.478885 -0.645334; -0.416721 -2.0…\n",
       "  \"iter=7_A_ub\"     => [0.846102; 1.11471; … ; 0.372782; 1.21583;;]\n",
       "  \"iter=5_psi_ub\"   => [0.0, 0.0, 0.0, 0.0, 0.0]\n",
       "  \"iter=7_B_ub\"     => [-2.68912 0.911353 … -1.13312 -0.23372; 0.590211 -3.9525…\n",
       "  \"iter=7_B_lb\"     => [-2.68912 0.911353 … -1.13312 -0.23372; 0.590211 -3.9525…\n",
       "  \"iter=5_A_lb\"     => [0.921217; 0.256813; … ; 0.379923; -0.128712;;]\n",
       "  \"iter=4_A_hat\"    => [0.192624; 1.23652; … ; 1.15842; 1.02723;;]\n",
       "  \"iter=3_A_true\"   => [0.418871; 0.345158; … ; 0.6974; 0.913239;;]\n",
       "  \"iter=8_B_hat\"    => [-1.37777 0.466814 … 0.386345 -0.619382; -0.129072 -2.57…\n",
       "  \"iter=8_P_train\"  => [0.44 0.75 … 0.09 0.31; 0.19 0.24 … 0.15 0.28; … ; 0.48 …\n",
       "  \"iter=5_A_hat\"    => [0.921217; 0.256813; … ; 0.379923; -0.128712;;]\n",
       "  \"iter=6_P_train\"  => [0.43 0.95 … 0.04 0.95; 0.84 0.28 … 0.42 0.62; … ; 0.78 …\n",
       "  \"iter=6_B_ub\"     => [-2.03204 -1.68928 … -0.945282 0.668615; 1.11983 -2.8384…\n",
       "  \"iter=10_A_ub\"    => [0.451546; 0.544838; … ; -0.352121; 0.654793;;]\n",
       "  \"iter=2_Obs_Feat\" => [0.59]\n",
       "  \"iter=2_psi_lb\"   => [-1.02615, -2.85421, -6.11451, -1.2353, -3.15633]\n",
       "  \"iter=1_B_ub\"     => [-2.83193 0.499929 … -0.361949 -1.2738; -0.0665289 -2.32…\n",
       "  \"iter=2_A_lb\"     => [0.204293; 0.688707; … ; 0.905915; 1.10528;;]\n",
       "  ⋮                 => ⋮"
      ]
     },
     "metadata": {},
     "output_type": "display_data"
    }
   ],
   "source": [
    "Input_Data = generate_Input_Data(S_train,S_test,iterations, N, N_u, K, offdiag_sign,max_offdiag,P_bar);\n",
    "bd_coef = 0.0;\n",
    "Input_Data = Calculate_Hyper_Param(bd_coef, iterations, N, N_u, K, Input_Data);\n",
    "# save(string(data_dir, \"Input_Data_\",offdiag_sign,\"_max_offdiag=1.jld2\"), Input_Data)"
   ]
  },
  {
   "cell_type": "code",
   "execution_count": 13,
   "id": "c9f026c4",
   "metadata": {},
   "outputs": [],
   "source": [
    "RST_Oracle = Run_Oracle(iterations, N, N_u, K, Input_Data);"
   ]
  },
  {
   "cell_type": "code",
   "execution_count": 14,
   "id": "2b18e637",
   "metadata": {},
   "outputs": [],
   "source": [
    "RST_ETO = Run_ETO(iterations, N, N_u, K, Input_Data);"
   ]
  },
  {
   "cell_type": "code",
   "execution_count": 15,
   "id": "6cd1c371",
   "metadata": {},
   "outputs": [
    {
     "name": "stdout",
     "output_type": "stream",
     "text": [
      "psi_lb = [-11.43, -2.83, -3.43, -14.91, -7.0],rev_RO = 0.592124,price_RO = [0.91, 0.96, 0.87, 0.98, 0.74]\n",
      "psi_lb = [-1.03, -2.85, -6.11, -1.24, -3.16],rev_RO = 0.338799,price_RO = [0.92, 0.71, 0.69, 0.52, 0.69]\n",
      "psi_lb = [-6.04, -1.33, -2.27, -2.52, -6.44],rev_RO = 0.628102,price_RO = [0.97, 0.94, 0.96, 0.91, 0.94]\n",
      "psi_lb = [-0.81, -3.14, -1.6, -2.34, -4.73],rev_RO = 0.601745,price_RO = [0.64, 0.81, 0.88, 0.99, 0.87]\n",
      "psi_lb = [-1.14, -4.55, -4.49, -0.61, -7.03],rev_RO = 0.416467,price_RO = [0.72, 0.92, 0.96, 1.0, 0.57]\n",
      "psi_lb = [-2.25, -3.49, -3.11, -1.04, -3.13],rev_RO = 0.268467,price_RO = [0.97, 0.76, 0.48, 0.9, 0.51]\n",
      "psi_lb = [-3.72, -2.72, -1.28, -0.81, -2.72],rev_RO = 0.3259,price_RO = [0.66, 0.83, 0.93, 0.36, 0.72]\n",
      "psi_lb = [-2.42, -1.15, -2.02, -2.15, -2.3],rev_RO = 0.641213,price_RO = [0.95, 0.85, 0.91, 0.95, 0.95]\n",
      "psi_lb = [-3.89, -1.07, -3.42, -1.56, -0.83],rev_RO = 0.380452,price_RO = [0.76, 0.46, 0.88, 0.95, 0.85]\n",
      "psi_lb = [-0.95, -8.01, -2.61, -1.75, -0.58],rev_RO = 0.570106,price_RO = [0.88, 0.92, 0.84, 0.82, 0.91]\n",
      "Rev_RO/Rev_ETO = [1.0, 1.0, 1.0, 1.0, 0.9565, 1.0, 1.037, 1.0, 1.0079, 1.0], Average = 1.0001\n"
     ]
    }
   ],
   "source": [
    "RST_RO = Run_RO_with_Given_bd_coef(bd_coef, iterations, N, N_u, K, Input_Data, 0.01,RST_ETO);"
   ]
  },
  {
   "cell_type": "code",
   "execution_count": 19,
   "id": "0827cf38",
   "metadata": {},
   "outputs": [
    {
     "name": "stdout",
     "output_type": "stream",
     "text": [
      "Rev_ETO/Rev_Oracle = [1.0, 0.9839, 1.0, 0.9896, 0.9966, 0.9677, 0.9177, 1.0, 0.986, 1.0]\n",
      "Rev_RO/Rev_ETO = [1.0, 1.0, 1.0, 1.0, 0.9565, 1.0, 1.037, 1.0, 1.0079, 1.0]\n"
     ]
    }
   ],
   "source": [
    "Rev_ETO = [RST_ETO[\"iter=$(iter)_Rev\"] for iter in 1:iterations]\n",
    "Rev_RO = [RST_RO[\"iter=$(iter)_Rev\"] for iter in 1:iterations]\n",
    "Rev_Oracle = [RST_Oracle[\"iter=$(iter)_Rev\"] for iter in 1:iterations]\n",
    "println(\"Rev_ETO/Rev_Oracle = \",round.(Rev_ETO./Rev_Oracle,digits=4))\n",
    "println(\"Rev_RO/Rev_ETO = \",round.(Rev_RO./Rev_ETO,digits=4))"
   ]
  },
  {
   "cell_type": "code",
   "execution_count": 20,
   "id": "d35665d6",
   "metadata": {},
   "outputs": [],
   "source": [
    "Price_ETO = [RST_ETO[\"iter=$(iter)_Price\"] for iter in 1:iterations];\n",
    "Price_RO = [RST_RO[\"iter=$(iter)_Price\"] for iter in 1:iterations];"
   ]
  },
  {
   "cell_type": "code",
   "execution_count": 22,
   "id": "fcdac3ed",
   "metadata": {},
   "outputs": [],
   "source": [
    "Obj_RO = [RST_RO[\"iter=$(iter)_Obj\"] for iter in 1:iterations];\n",
    "Obj_ETO = [RST_ETO[\"iter=$(iter)_Obj\"] for iter in 1:iterations];"
   ]
  },
  {
   "cell_type": "markdown",
   "id": "5f68e50d",
   "metadata": {},
   "source": [
    "#### iter = 5, ETO和RO的结果不一致"
   ]
  },
  {
   "cell_type": "code",
   "execution_count": 25,
   "id": "4c0745b8",
   "metadata": {},
   "outputs": [
    {
     "data": {
      "text/plain": [
       "5×5 Matrix{Float64}:\n",
       " -3.10939     0.642363  -1.12004   -0.478885  -0.645334\n",
       " -0.416721   -2.00953    0.697422   0.915325  -0.561428\n",
       " -0.662881   -0.288796  -3.15126    0.645496   1.14564\n",
       " -0.0515566   0.250163  -0.065452  -1.28855   -0.450305\n",
       "  0.279711    1.11319   -0.319817   1.2211    -4.15333"
      ]
     },
     "metadata": {},
     "output_type": "display_data"
    }
   ],
   "source": [
    "iter = 5\n",
    "Obs_Feat = Input_Data[\"iter=$(iter)_Obs_Feat\"]\n",
    "A_true = Input_Data[\"iter=$(iter)_A_true\"]\n",
    "B_true = Input_Data[\"iter=$(iter)_B_true\"]\n",
    "A_hat = Input_Data[\"iter=$(iter)_A_hat\"]\n",
    "B_hat = Input_Data[\"iter=$(iter)_B_hat\"]\n",
    "P_dag = Input_Data[\"iter=$(iter)_P_dag\"]\n",
    "\n",
    "psi_lb = Input_Data[\"iter=$(iter)_psi_lb\"]\n",
    "psi_ub = Input_Data[\"iter=$(iter)_psi_ub\"]\n",
    "A_lb = Input_Data[\"iter=$(iter)_A_lb\"] \n",
    "A_ub = Input_Data[\"iter=$(iter)_A_ub\"]\n",
    "B_lb = Input_Data[\"iter=$(iter)_B_lb\"] \n",
    "B_ub = Input_Data[\"iter=$(iter)_B_ub\"] "
   ]
  },
  {
   "cell_type": "code",
   "execution_count": 26,
   "id": "074b4e96",
   "metadata": {},
   "outputs": [
    {
     "data": {
      "text/plain": [
       "(0.4714548470711699, [-0.0 0.0 … 0.0 0.0; -0.0 0.0 … 0.0 0.0; … ; 1.0 0.0 … 0.0 0.0; -0.0 0.0 … 0.0 0.0], 26.645320892333984)"
      ]
     },
     "metadata": {},
     "output_type": "display_data"
    }
   ],
   "source": [
    "obj_ETO,X_ETO,time_ETO = Solve_ETO(N,N_u,K,A_hat,B_hat,Obs_Feat,P_dag)"
   ]
  },
  {
   "cell_type": "code",
   "execution_count": 28,
   "id": "f510d908",
   "metadata": {},
   "outputs": [
    {
     "data": {
      "text/plain": [
       "5×1 Matrix{Float64}:\n",
       " 0.41\n",
       " 0.92\n",
       " 0.96\n",
       " 1.0\n",
       " 0.78"
      ]
     },
     "metadata": {},
     "output_type": "display_data"
    }
   ],
   "source": [
    "sum(X_ETO .* P_dag,dims=2)"
   ]
  },
  {
   "cell_type": "code",
   "execution_count": 29,
   "id": "f96a21d4",
   "metadata": {},
   "outputs": [
    {
     "data": {
      "text/plain": [
       "(0.46344750069641333, [-0.0 0.0 … 1.0 0.0; -0.0 0.0 … 0.0 0.0; … ; 1.0 0.0 … 0.0 0.0; -0.0 1.0 … 0.0 0.0], 0.5829989910125732)"
      ]
     },
     "metadata": {},
     "output_type": "display_data"
    }
   ],
   "source": [
    "obj_RO,X_RO,time_RO = Solve_RO_one_side_exp(N,N_u,K,A_lb,A_ub,B_lb,B_ub,Obs_Feat,P_dag,psi_lb,psi_ub)"
   ]
  },
  {
   "cell_type": "code",
   "execution_count": 30,
   "id": "505ac641",
   "metadata": {},
   "outputs": [
    {
     "data": {
      "text/plain": [
       "5×1 Matrix{Float64}:\n",
       " 0.72\n",
       " 0.92\n",
       " 0.96\n",
       " 1.0\n",
       " 0.57"
      ]
     },
     "metadata": {},
     "output_type": "display_data"
    }
   ],
   "source": [
    "sum(X_RO .* P_dag,dims=2)"
   ]
  },
  {
   "cell_type": "markdown",
   "id": "cb7f5455",
   "metadata": {},
   "source": [
    "#### 固定ETO模型中的solution为RO的solution,i.e., X_ETO = X_RO, 检查下结果是否和RO的结果一致"
   ]
  },
  {
   "cell_type": "code",
   "execution_count": 31,
   "id": "4df1c67a",
   "metadata": {},
   "outputs": [
    {
     "name": "stdout",
     "output_type": "stream",
     "text": [
      "Problem\n",
      "  Name                   :                 \n",
      "  Objective sense        : maximize        \n",
      "  Type                   : CONIC (conic optimization problem)\n",
      "  Constraints            : 666             \n",
      "  Affine conic cons.     : 0               \n",
      "  Disjunctive cons.      : 0               \n",
      "  Cones                  : 5               \n",
      "  Scalar variables       : 376             \n",
      "  Matrix variables       : 0               \n",
      "  Integer variables      : 50              \n",
      "\n",
      "Optimizer started.\n",
      "Mixed integer optimizer started.\n",
      "Threads used: 8\n",
      "Presolve started.\n",
      "Presolve terminated. Time = 0.00, probing time =  0.00\n",
      "Presolved problem: 41 variables, 31 constraints, 96 non-zeros\n",
      "Presolved problem: 0 general integer, 0 binary, 41 continuous\n",
      "Presolved problem: 5 cones\n",
      "Clique table size: 0\n",
      "BRANCHES RELAXS   ACT_NDS  DEPTH    BEST_INT_OBJ         BEST_RELAX_OBJ       REL_GAP(%)  TIME  \n",
      "0        0        1        0        -0.0000000000e+00    NA                   NA          0.0   \n",
      "0        1        1        0        4.6344748967e-01     4.6344748967e-01     0.00e+00    0.0   \n",
      "An optimal solution satisfying the relative gap tolerance of 1.00e-05(%) has been located.\n",
      "The relative gap is 0.00e+00(%).\n",
      "An optimal solution satisfying the absolute gap tolerance of 1.00e-07 has been located.\n",
      "The absolute gap is 0.00e+00.\n",
      "\n",
      "Objective of best integer solution : 4.634474896686e-01      \n",
      "Best objective bound               : 4.634474896686e-01      \n",
      "Initial feasible solution objective: Undefined\n",
      "Construct solution objective       : Not employed\n",
      "User objective cut value           : Not employed\n",
      "Number of cuts generated           : 0\n",
      "Number of branches                 : 0\n",
      "Number of relaxations solved       : 1\n",
      "Number of interior point iterations: 10\n",
      "Number of simplex iterations       : 0\n",
      "Time spend presolving the root     : 0.00\n",
      "Time spend optimizing the root     : 0.00\n",
      "Mixed integer optimizer terminated. Time: 0.00\n",
      "\n",
      "Optimizer terminated. Time: 0.01    \n",
      "\n"
     ]
    },
    {
     "data": {
      "text/plain": [
       "0.00584101676940918"
      ]
     },
     "metadata": {},
     "output_type": "display_data"
    }
   ],
   "source": [
    "u = Obs_Feat\n",
    "p_dag = P_dag\n",
    "X_given = X_RO\n",
    "# X_given\n",
    "model = Model(Mosek.Optimizer)\n",
    "# set_attribute(model, \"mioTolRelGap\", 0.00000001)\n",
    "set_attribute(model, \"MSK_DPAR_MIO_TOL_REL_GAP\", 1e-7)\n",
    "set_attribute(model, \"MSK_DPAR_MIO_TOL_ABS_GAP\", 1e-7)\n",
    "# 定义变量\n",
    "@variable(model, delta)                           # 标量 δ\n",
    "@variable(model, omega_lb[1:N,1:N_u] >= 0)            \n",
    "@variable(model, omega_ub[1:N,1:N_u] >= 0)           \n",
    "@variable(model, pi_lb[1:N,1:N] >= 0)     \n",
    "@variable(model, pi_ub[1:N,1:N] >= 0)     \n",
    "\n",
    "# exponential variables\n",
    "@variable(model, psi_1[1:N])                   \n",
    "@variable(model, psi_2[1:N])                   \n",
    "@variable(model, psi_3[1:N])        \n",
    "\n",
    "@variable(model, X[1:N, 1:K], Bin)        # 二进制变量 x_{jk}\n",
    "@variable(model, Y[1:N,1:N,1:K] <= 0)    \n",
    "\n",
    "for n in 1:N\n",
    "    @constraint(model, omega_lb[n,:] .- omega_ub[n,:] .+ psi_3[n] .* u .== 0)\n",
    "end\n",
    "\n",
    "for n in 1:N\n",
    "    @constraint(model, pi_lb[n,:] .- pi_ub[n,:] .+ sum(Y[n,:,:] .* p_dag,dims=2) .== 0)\n",
    "end\n",
    "\n",
    "@constraint(model, sum(omega_ub .* A_ub) - sum(omega_lb .* A_lb) + sum(pi_ub .* B_ub) - sum(pi_lb .* B_lb) + delta + sum(psi_2) <= 0)\n",
    "\n",
    "for n in 1:N\n",
    "    @constraint(model, delta + psi_1[n] - X[n,:]' * p_dag[n,:] <= 0)\n",
    "end\n",
    "\n",
    "for n in 1:N\n",
    "    @constraint(model, [psi_3[n], psi_2[n], psi_1[n]] in MOI.DualExponentialCone())\n",
    "end\n",
    "\n",
    "for n in 1:N\n",
    "    for j in 1:N\n",
    "        for k in 1:K\n",
    "            @constraint(model, Y[n,j,k] >= psi_lb[n] * X[j,k])\n",
    "            @constraint(model, Y[n,j,k] <= psi_ub[n])\n",
    "        end\n",
    "    end\n",
    "end    \n",
    "for n in 1:N\n",
    "    for j in 1:N\n",
    "        @constraint(model, sum(Y[n,j,:]) == psi_3[n])\n",
    "    end\n",
    "end\n",
    "\n",
    "@constraint(model, sum(X,dims=2) .== 1)\n",
    "\n",
    "@constraint(model, X .- X_given .== 0)  # 固定X的值\n",
    "@objective(model, Max, delta)\n",
    "\n",
    "optimize!(model)\n",
    "status = JuMP.termination_status(model)\n",
    "# println(\"status: \", status)\n",
    "# solution_summary(model)\n",
    "if status == MOI.OPTIMAL\n",
    "    obj_val = objective_value(model)\n",
    "    X_val = round.(value.(X))\n",
    "    solve_time = JuMP.solve_time(model)\n",
    "else\n",
    "    obj_val = NaN\n",
    "    X_val = ones(N,N) .* NaN\n",
    "    solve_time = NaN\n",
    "end"
   ]
  },
  {
   "cell_type": "code",
   "execution_count": 33,
   "id": "f70b5000",
   "metadata": {},
   "outputs": [
    {
     "name": "stdout",
     "output_type": "stream",
     "text": [
      "Objective value when X_ETO = X_RO:0.4634474896685801\n"
     ]
    }
   ],
   "source": [
    "println(\"Objective value when X_ETO = X_RO:\",obj_val)"
   ]
  },
  {
   "cell_type": "markdown",
   "id": "31154d3b",
   "metadata": {},
   "source": [
    "#### 固定RO的solution为ETO的solution，检查RO的目标函数值是否等于ETO的目标函数值"
   ]
  },
  {
   "cell_type": "markdown",
   "id": "22e85d44",
   "metadata": {},
   "source": [
    "- 计算模型中用到的L 和 M"
   ]
  },
  {
   "cell_type": "code",
   "execution_count": null,
   "id": "03379f1b",
   "metadata": {},
   "outputs": [],
   "source": [
    "price = vec(sum(X_ETO .* P_dag,dims=2)) # 设定价格为ETO的价格\n",
    "Obs_Feat_Trun = [max(-Obs_Feat[ind],0) for ind in 1:N_u]\n",
    "Obs_Feat_Trun2 = [max(Obs_Feat[ind],0) for ind in 1:N_u]\n",
    "psi_lb = zeros(N)\n",
    "L_arr = zeros(N)\n",
    "M_arr = zeros(N)\n",
    "for n in 1:N\n",
    "    L_arr[n] = -Obs_Feat_Trun' * (A_ub[n,:] - A_lb[n,:]) - Obs_Feat' * A_lb[n,:] - price' * B_lb[n,:]\n",
    "    M_arr[n] = Obs_Feat_Trun2' * (A_ub[n,:] - A_lb[n,:]) + Obs_Feat' * A_lb[n,:] + price' * B_lb[n,:]\n",
    "end"
   ]
  },
  {
   "cell_type": "markdown",
   "id": "3ab8a1bc",
   "metadata": {},
   "source": [
    "- <font color=\"red\">我们首先考虑如下的简化模型：\n",
    "\\begin{equation}\n",
    "    \\begin{array}{rcll}\n",
    "         & \\sup & \\displaystyle \\delta \\\\\n",
    "         & {\\rm s.t.} \n",
    "         & \\sum\\limits_{n \\in [N]}-\\psi_n^3 L_n + \\psi_{n}^{2}  \\leq -\\delta, \\\\\n",
    "         &&  - \\psi_n^3 \\exp\\left(\\frac{\\psi_n^2}{\\psi_n^3}-1\\right) \\le p_{n} - \\delta,& \\forall n \\in [N] \\\\\n",
    "    \\end{array}\n",
    "\\end{equation}\n",
    "- 本质上来说，我们只考虑了如下的Exponential cone：\n",
    "$\\rho_n \\geq \\rho_0 \\exp(a_u^\\top u + b_u^\\top p)$\n",
    "- 结果是采用ETO的价格，RO模型得到的目标函数值不等于ETO模型的目标函数值\n",
    "</font>"
   ]
  },
  {
   "cell_type": "code",
   "execution_count": 43,
   "id": "8c20cfd9",
   "metadata": {},
   "outputs": [
    {
     "name": "stdout",
     "output_type": "stream",
     "text": [
      "Problem\n",
      "  Name                   :                 \n",
      "  Objective sense        : maximize        \n",
      "  Type                   : CONIC (conic optimization problem)\n",
      "  Constraints            : 6               \n",
      "  Affine conic cons.     : 0               \n",
      "  Disjunctive cons.      : 0               \n",
      "  Cones                  : 5               \n",
      "  Scalar variables       : 16              \n",
      "  Matrix variables       : 0               \n",
      "  Integer variables      : 0               \n",
      "\n",
      "Optimizer started.\n",
      "Presolve started.\n",
      "Linear dependency checker started.\n",
      "Linear dependency checker terminated.\n",
      "Eliminator started.\n",
      "Freed constraints in eliminator : 1\n",
      "Eliminator terminated.\n",
      "Eliminator started.\n",
      "Freed constraints in eliminator : 0\n",
      "Eliminator terminated.\n",
      "Eliminator - tries                  : 2                 time                   : 0.00            \n",
      "Lin. dep.  - tries                  : 1                 time                   : 0.00            \n",
      "Lin. dep.  - primal attempts        : 1                 successes              : 1               \n",
      "Lin. dep.  - dual attempts          : 0                 successes              : 0               \n",
      "Lin. dep.  - primal deps.           : 0                 dual deps.             : 0               \n",
      "Presolve terminated. Time: 0.00    \n",
      "Optimizer  - threads                : 8               \n",
      "Optimizer  - solved problem         : the primal      \n",
      "Optimizer  - Constraints            : 5               \n",
      "Optimizer  - Cones                  : 5               \n",
      "Optimizer  - Scalar variables       : 16                conic                  : 15              \n",
      "Optimizer  - Semi-definite variables: 0                 scalarized             : 0               \n",
      "Factor     - setup time             : 0.00            \n",
      "Factor     - dense det. time        : 0.00              GP order time          : 0.00            \n",
      "Factor     - nonzeros before factor : 15                after factor           : 15              \n",
      "Factor     - dense dim.             : 0                 flops                  : 2.47e+02        \n",
      "ITE PFEAS    DFEAS    GFEAS    PRSTATUS   POBJ              DOBJ              MU       TIME  \n",
      "0   2.6e+00  1.3e+00  1.5e+00  0.00e+00   -4.749057645e-01  -0.000000000e+00  1.0e+00  0.00  \n",
      "1   3.9e-01  2.0e-01  1.8e-01  -1.27e-01  -4.002106396e-01  -6.398148309e-01  1.5e-01  0.00  \n",
      "2   1.4e-01  6.9e-02  9.5e-03  2.41e+00   2.689128341e-01   3.176558456e-01   5.3e-02  0.00  \n",
      "3   3.1e-02  1.6e-02  1.0e-03  1.66e+00   4.048453707e-01   4.125896825e-01   1.2e-02  0.00  \n",
      "4   1.8e-03  9.0e-04  1.3e-05  1.26e+00   4.086007603e-01   4.089909695e-01   7.0e-04  0.00  \n",
      "5   6.4e-05  3.2e-05  9.0e-08  1.02e+00   4.099659316e-01   4.099797690e-01   2.5e-05  0.00  \n",
      "6   2.4e-06  1.2e-06  6.6e-10  1.00e+00   4.099990214e-01   4.099995424e-01   9.5e-07  0.00  \n",
      "7   6.9e-08  3.5e-08  3.2e-12  1.00e+00   4.099999428e-01   4.099999576e-01   2.7e-08  0.00  \n",
      "8   4.6e-10  2.3e-10  1.7e-15  1.00e+00   4.099999995e-01   4.099999996e-01   1.8e-10  0.00  \n",
      "Optimizer terminated. Time: 0.00    \n",
      "\n"
     ]
    }
   ],
   "source": [
    "model = Model(Mosek.Optimizer)\n",
    "# set_attribute(model, \"mioTolRelGap\", 0.00000001)\n",
    "set_attribute(model, \"MSK_DPAR_MIO_TOL_REL_GAP\", 1e-7)\n",
    "set_attribute(model, \"MSK_DPAR_MIO_TOL_ABS_GAP\", 1e-7)\n",
    "# 定义变量\n",
    "@variable(model, delta)                           # 标量 δ\n",
    "# exponential variables\n",
    "@variable(model, psi_1[1:N])                   \n",
    "@variable(model, psi_2[1:N])                   \n",
    "@variable(model, psi_3[1:N])        \n",
    "\n",
    "@constraint(model, -L_arr' * psi_3 + sum(psi_2) <= -delta)\n",
    "\n",
    "\n",
    "for n in 1:N\n",
    "    @constraint(model, psi_1[n] <= price[n] - delta)\n",
    "end\n",
    "\n",
    "for n in 1:N\n",
    "    @constraint(model, [psi_3[n], psi_2[n], psi_1[n]] in MOI.DualExponentialCone())\n",
    "end\n",
    "\n",
    "@objective(model, Max, delta)\n",
    "\n",
    "optimize!(model)\n",
    "obj_val = objective_value(model);"
   ]
  },
  {
   "cell_type": "code",
   "execution_count": 44,
   "id": "bf8dda05",
   "metadata": {},
   "outputs": [
    {
     "name": "stdout",
     "output_type": "stream",
     "text": [
      "Objective value when X_RO = X_ETO:0.40999999951933247\n"
     ]
    }
   ],
   "source": [
    "println(\"Objective value when X_RO = X_ETO:\",obj_val)"
   ]
  },
  {
   "cell_type": "markdown",
   "id": "7da5f9e7",
   "metadata": {},
   "source": [
    "- 我们之后考虑如下的简化模型：\n",
    "\\begin{equation}\n",
    "    \\begin{array}{rcll}\n",
    "         & \\sup & \\displaystyle \\delta \\\\\n",
    "         & {\\rm s.t.} \n",
    "         & \\sum\\limits_{n \\in [N]}-\\psi_n^3 L_n + \\psi_{n}^{2}  - \\phi_n^3 \\exp\\left(\\frac{\\phi_n^2}{\\phi_n^3}-1\\right) \\leq -\\delta, \\\\\n",
    "         && - \\phi_{n}^{3} M_n  - \\psi_n^3 \\exp\\left(\\frac{\\psi_n^2}{\\psi_n^3}-1\\right) + \\phi_{n}^{2} \\le p_{n} - \\delta,& \\forall n \\in [N] \\\\\n",
    "    \\end{array}\n",
    "\\end{equation}\n",
    "<font color=\"red\">\n",
    "- 该模型考虑了如下两个的Exponential cone：\n",
    "$\\rho_n \\geq \\rho_0 \\exp(a_u^\\top u + b_u^\\top p)$ 和 $\\rho_n \\leq \\rho_0 \\exp(a_u^\\top u + b_u^\\top p)$\n",
    "- 结果是采用ETO的价格，RO模型得到的目标函数值等于ETO模型的目标函数值\n",
    "</font>"
   ]
  },
  {
   "cell_type": "code",
   "execution_count": 37,
   "id": "cf01611c",
   "metadata": {},
   "outputs": [
    {
     "name": "stdout",
     "output_type": "stream",
     "text": [
      "Problem\n",
      "  Name                   :                 \n",
      "  Objective sense        : maximize        \n",
      "  Type                   : CONIC (conic optimization problem)\n",
      "  Constraints            : 6               \n",
      "  Affine conic cons.     : 0               \n",
      "  Disjunctive cons.      : 0               \n",
      "  Cones                  : 10              \n",
      "  Scalar variables       : 31              \n",
      "  Matrix variables       : 0               \n",
      "  Integer variables      : 0               \n",
      "\n",
      "Optimizer started.\n",
      "Presolve started.\n",
      "Linear dependency checker started.\n",
      "Linear dependency checker terminated.\n",
      "Eliminator started.\n",
      "Freed constraints in eliminator : 1\n",
      "Eliminator terminated.\n",
      "Eliminator started.\n",
      "Freed constraints in eliminator : 0\n",
      "Eliminator terminated.\n",
      "Eliminator - tries                  : 2                 time                   : 0.00            \n",
      "Lin. dep.  - tries                  : 1                 time                   : 0.00            \n",
      "Lin. dep.  - primal attempts        : 1                 successes              : 1               \n",
      "Lin. dep.  - dual attempts          : 0                 successes              : 0               \n",
      "Lin. dep.  - primal deps.           : 0                 dual deps.             : 0               \n",
      "Presolve terminated. Time: 0.00    \n",
      "Optimizer  - threads                : 8               \n",
      "Optimizer  - solved problem         : the primal      \n",
      "Optimizer  - Constraints            : 5               \n",
      "Optimizer  - Cones                  : 10              \n",
      "Optimizer  - Scalar variables       : 31                conic                  : 30              \n",
      "Optimizer  - Semi-definite variables: 0                 scalarized             : 0               \n",
      "Factor     - setup time             : 0.00            \n",
      "Factor     - dense det. time        : 0.00              GP order time          : 0.00            \n",
      "Factor     - nonzeros before factor : 15                after factor           : 15              \n",
      "Factor     - dense dim.             : 0                 flops                  : 4.09e+02        \n",
      "ITE PFEAS    DFEAS    GFEAS    PRSTATUS   POBJ              DOBJ              MU       TIME  \n",
      "0   3.5e+00  4.0e+00  1.6e-01  0.00e+00   8.449957994e-01   -0.000000000e+00  1.0e+00  0.00  \n",
      "1   6.0e-01  6.9e-01  8.8e-03  6.75e-01   1.749844661e-01   9.593921381e-02   1.7e-01  0.00  \n",
      "2   1.7e-01  2.0e-01  1.4e-03  1.54e+00   3.098459870e-01   2.837157040e-01   5.0e-02  0.00  \n",
      "3   5.9e-02  6.8e-02  2.8e-04  1.18e+00   4.291399928e-01   4.198465789e-01   1.7e-02  0.00  \n",
      "4   6.0e-03  6.9e-03  9.2e-06  1.07e+00   4.681083325e-01   4.671217824e-01   1.7e-03  0.00  \n",
      "5   1.2e-04  1.4e-04  2.2e-08  1.02e+00   4.713933212e-01   4.713805921e-01   3.4e-05  0.00  \n",
      "6   3.1e-06  3.6e-06  6.8e-11  1.09e+00   4.714528933e-01   4.714527615e-01   9.1e-07  0.00  \n",
      "7   1.5e-07  1.7e-07  5.3e-13  1.11e+00   4.714547078e-01   4.714547059e-01   4.2e-08  0.00  \n",
      "8   5.0e-09  5.7e-09  2.6e-15  1.09e+00   4.714548236e-01   4.714548236e-01   1.4e-09  0.00  \n",
      "Optimizer terminated. Time: 0.00    \n",
      "\n"
     ]
    }
   ],
   "source": [
    "model = Model(Mosek.Optimizer)\n",
    "# set_attribute(model, \"mioTolRelGap\", 0.00000001)\n",
    "set_attribute(model, \"MSK_DPAR_MIO_TOL_REL_GAP\", 1e-7)\n",
    "set_attribute(model, \"MSK_DPAR_MIO_TOL_ABS_GAP\", 1e-7)\n",
    "# 定义变量\n",
    "@variable(model, delta)                           # 标量 δ\n",
    "# exponential variables\n",
    "@variable(model, psi_1[1:N])                   \n",
    "@variable(model, psi_2[1:N])                   \n",
    "@variable(model, psi_3[1:N])        \n",
    "\n",
    "@variable(model, phi_1[1:N])                   \n",
    "@variable(model, phi_2[1:N])                   \n",
    "@variable(model, phi_3[1:N]) \n",
    "\n",
    "@constraint(model, -L_arr' * psi_3 + sum(psi_2) + sum(phi_1) <= -delta)\n",
    "\n",
    "for n in 1:N\n",
    "    @constraint(model, [phi_3[n], phi_2[n], phi_1[n]] in MOI.DualExponentialCone())\n",
    "end\n",
    "\n",
    "for n in 1:N\n",
    "    @constraint(model, phi_2[n] - phi_3[n] * M_arr[n] + psi_1[n] <= price[n] - delta)\n",
    "end\n",
    "\n",
    "for n in 1:N\n",
    "    @constraint(model, [psi_3[n], psi_2[n], psi_1[n]] in MOI.DualExponentialCone())\n",
    "end\n",
    "\n",
    "@objective(model, Max, delta)\n",
    "\n",
    "optimize!(model)\n",
    "obj_val = objective_value(model);"
   ]
  },
  {
   "cell_type": "code",
   "execution_count": 38,
   "id": "528a6d10",
   "metadata": {},
   "outputs": [
    {
     "name": "stdout",
     "output_type": "stream",
     "text": [
      "Objective value when X_RO = X_ETO:0.4714548235671181\n"
     ]
    }
   ],
   "source": [
    "println(\"Objective value when X_RO = X_ETO:\",obj_val)"
   ]
  },
  {
   "cell_type": "markdown",
   "id": "2656ed52",
   "metadata": {},
   "source": [
    "- 我们再尝试求解存在两个指数cone的的对偶模型\n",
    "$$\n",
    "\\begin{array}{clll}\n",
    "     \\min & \\sum\\limits_{n \\in [N]} p_n \\rho_n \\\\\n",
    "     \\mathrm{s.t.} & \\rho_0 + \\sum\\limits_{n \\in [N]} \\rho_n = 1 \\\\\n",
    "     & (\\rho_n, \\rho_0, - \\rho_0 L_n) \\in \\mathcal{K}_{\\exp} & \\forall n \\in [N] \\\\\n",
    "      & (\\rho_0, \\rho_n, - \\rho_n M_n ) \\in \\mathcal{K}_{\\exp} & \\forall n \\in [N] \\\\\n",
    "\\end{array}\n",
    "$$\n",
    "<font color=\"red\">\n",
    "- 两个指数cone的的对偶模型，采用ETO的价格，得到的目标函数值等于ETO模型的目标函数值\n",
    "</font>"
   ]
  },
  {
   "cell_type": "code",
   "execution_count": 39,
   "id": "8b72935d",
   "metadata": {},
   "outputs": [
    {
     "name": "stdout",
     "output_type": "stream",
     "text": [
      "Problem\n",
      "  Name                   :                 \n",
      "  Objective sense        : minimize        \n",
      "  Type                   : CONIC (conic optimization problem)\n",
      "  Constraints            : 7               \n",
      "  Affine conic cons.     : 10 (30 rows)\n",
      "  Disjunctive cons.      : 0               \n",
      "  Cones                  : 0               \n",
      "  Scalar variables       : 6               \n",
      "  Matrix variables       : 0               \n",
      "  Integer variables      : 0               \n",
      "\n",
      "Optimizer started.\n",
      "Presolve started.\n",
      "Linear dependency checker started.\n",
      "Linear dependency checker terminated.\n",
      "Eliminator started.\n",
      "Freed constraints in eliminator : 0\n",
      "Eliminator terminated.\n",
      "Eliminator - tries                  : 1                 time                   : 0.00            \n",
      "Lin. dep.  - tries                  : 1                 time                   : 0.00            \n",
      "Lin. dep.  - primal attempts        : 1                 successes              : 1               \n",
      "Lin. dep.  - dual attempts          : 0                 successes              : 0               \n",
      "Lin. dep.  - primal deps.           : 0                 dual deps.             : 0               \n",
      "Presolve terminated. Time: 0.00    \n",
      "Optimizer  - threads                : 8               \n",
      "Optimizer  - solved problem         : the dual        \n",
      "Optimizer  - Constraints            : 6               \n",
      "Optimizer  - Cones                  : 11              \n",
      "Optimizer  - Scalar variables       : 38                conic                  : 32              \n",
      "Optimizer  - Semi-definite variables: 0                 scalarized             : 0               \n",
      "Factor     - setup time             : 0.00            \n",
      "Factor     - dense det. time        : 0.00              GP order time          : 0.00            \n",
      "Factor     - nonzeros before factor : 21                after factor           : 21              \n",
      "Factor     - dense dim.             : 0                 flops                  : 3.67e+02        \n",
      "ITE PFEAS    DFEAS    GFEAS    PRSTATUS   POBJ              DOBJ              MU       TIME  \n",
      "0   1.3e+00  3.3e+00  1.0e+00  0.00e+00   -0.000000000e+00  -0.000000000e+00  1.0e+00  0.00  \n",
      "1   4.6e-01  1.2e+00  1.9e-01  1.98e+00   2.106044883e-01   2.593589069e-01   3.5e-01  0.00  \n",
      "2   1.0e-01  2.6e-01  2.0e-02  9.54e-01   2.797272160e-01   2.876670730e-01   7.8e-02  0.00  \n",
      "3   3.1e-02  7.8e-02  3.1e-03  9.93e-01   4.221739382e-01   4.225942288e-01   2.4e-02  0.00  \n",
      "4   8.9e-03  2.2e-02  5.0e-04  9.26e-01   4.588827752e-01   4.591389791e-01   6.9e-03  0.00  \n",
      "5   5.9e-04  1.5e-03  8.7e-06  9.93e-01   4.706479845e-01   4.706708908e-01   4.6e-04  0.00  \n",
      "6   9.1e-06  2.3e-05  1.3e-08  1.02e+00   4.714383682e-01   4.714363753e-01   7.1e-06  0.00  \n",
      "7   1.1e-06  2.8e-06  5.0e-10  1.10e+00   4.714524720e-01   4.714522138e-01   8.6e-07  0.00  \n",
      "8   2.3e-08  5.8e-08  1.2e-12  1.03e+00   4.714547731e-01   4.714547659e-01   1.8e-08  0.00  \n",
      "9   6.8e-10  1.9e-09  4.7e-15  1.10e+00   4.714548266e-01   4.714548263e-01   5.5e-10  0.00  \n",
      "Optimizer terminated. Time: 0.00    \n",
      "\n"
     ]
    },
    {
     "data": {
      "text/plain": [
       "0.47145482656676324"
      ]
     },
     "metadata": {},
     "output_type": "display_data"
    }
   ],
   "source": [
    "model = Model(Mosek.Optimizer)\n",
    "# set_attribute(model, \"mioTolRelGap\", 0.00000001)\n",
    "set_attribute(model, \"MSK_DPAR_MIO_TOL_REL_GAP\", 1e-7)\n",
    "set_attribute(model, \"MSK_DPAR_MIO_TOL_ABS_GAP\", 1e-7)\n",
    "# 定义变量\n",
    "# exponential variables\n",
    "@variable(model, rho_0)                   \n",
    "@variable(model, rho[1:N])                   \n",
    "\n",
    "@constraint(model, rho_0 >= 0)\n",
    "@constraint(model, rho >= 0)\n",
    "@constraint(model, rho_0 + sum(rho) == 1.0)\n",
    "for n in 1:N\n",
    "    @constraint(model, [-rho_0*L_arr[n], rho_0,rho[n]] in MOI.ExponentialCone())\n",
    "end\n",
    "for n in 1:N\n",
    "    @constraint(model, [-rho[n]*M_arr[n],rho[n],rho_0] in MOI.ExponentialCone())\n",
    "end\n",
    "@objective(model, Min, price' * rho)\n",
    "optimize!(model)\n",
    "obj_val = objective_value(model)"
   ]
  },
  {
   "cell_type": "code",
   "execution_count": 40,
   "id": "f5f3bc6b",
   "metadata": {},
   "outputs": [
    {
     "name": "stdout",
     "output_type": "stream",
     "text": [
      "Objective value when X_RO = X_ETO:0.47145482656676324\n"
     ]
    }
   ],
   "source": [
    "println(\"Objective value when X_RO = X_ETO:\",obj_val)"
   ]
  }
 ],
 "metadata": {
  "kernelspec": {
   "display_name": "Julia 1.10.3",
   "language": "julia",
   "name": "julia-1.10"
  },
  "language_info": {
   "file_extension": ".jl",
   "mimetype": "application/julia",
   "name": "julia",
   "version": "1.10.3"
  }
 },
 "nbformat": 4,
 "nbformat_minor": 5
}
