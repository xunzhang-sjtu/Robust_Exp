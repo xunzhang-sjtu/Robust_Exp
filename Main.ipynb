{
 "cells": [
  {
   "cell_type": "code",
   "execution_count": 1,
   "id": "ea7846fb",
   "metadata": {},
   "outputs": [
    {
     "data": {
      "text/plain": [
       "greedy_search_optimal_price (generic function with 1 method)"
      ]
     },
     "metadata": {},
     "output_type": "display_data"
    }
   ],
   "source": [
    "using LinearAlgebra\n",
    "using Distributions\n",
    "using Optim\n",
    "using Random\n",
    "using StatsFuns\n",
    "using JuMP\n",
    "using MosekTools\n",
    "include(\"ETO.jl\")\n",
    "include(\"RO.jl\")\n",
    "include(\"Data.jl\")\n",
    "include(\"Estimate.jl\")\n",
    "include(\"Performance.jl\")"
   ]
  },
  {
   "cell_type": "markdown",
   "id": "bc1238ab",
   "metadata": {},
   "source": [
    "## Functions"
   ]
  },
  {
   "cell_type": "code",
   "execution_count": 2,
   "id": "be70475e",
   "metadata": {},
   "outputs": [
    {
     "data": {
      "text/plain": [
       "generate_Input_Data (generic function with 1 method)"
      ]
     },
     "metadata": {},
     "output_type": "display_data"
    }
   ],
   "source": [
    "function generate_Input_Data(S_train,S_test,iterations, N, N_u, K, offdiag_sign,max_offdiag,P_bar)\n",
    "    Input_Data = Dict()\n",
    "    for iter in 1:iterations\n",
    "        A_true, B_true = Generate_Coef(N_u, N,max_offdiag,offdiag_sign);\n",
    "        U_train, P_train = Generate_Feat_Data(N_u, N, S_train);\n",
    "        U_test, P_test = Generate_Feat_Data(N_u, N, S_test);\n",
    "\n",
    "        Input_Data[\"iter=$(iter)_Obs_Feat\"] = U_test[1,:];\n",
    "        Input_Data[\"iter=$(iter)_A_true\"] = A_true;\n",
    "        Input_Data[\"iter=$(iter)_B_true\"] = B_true;\n",
    "        Input_Data[\"iter=$(iter)_P_dag\"] = round.(rand(N, K) .* P_bar; digits=2);\n",
    "        Input_Data[\"iter=$(iter)_U_train\"] = U_train;\n",
    "        Input_Data[\"iter=$(iter)_P_train\"] = P_train;\n",
    "\n",
    "        A_hat, B_hat = Estimate_MNL_Para(U_train, P_train, S_train, N, N_u, N, A_true, B_true);\n",
    "\n",
    "        Input_Data[\"iter=$(iter)_A_hat\"] = A_hat\n",
    "        Input_Data[\"iter=$(iter)_B_hat\"] = B_hat\n",
    "    end\n",
    "    return Input_Data\n",
    "end"
   ]
  },
  {
   "cell_type": "code",
   "execution_count": 3,
   "id": "269d261d",
   "metadata": {},
   "outputs": [
    {
     "data": {
      "text/plain": [
       "Run_Oracle (generic function with 1 method)"
      ]
     },
     "metadata": {},
     "output_type": "display_data"
    }
   ],
   "source": [
    "function Run_Oracle(iterations, N, N_u, K, Input_Data)\n",
    "    RST_ = Dict()\n",
    "    for iter in 1:iterations\n",
    "        Obs_Feat = Input_Data[\"iter=$(iter)_Obs_Feat\"]\n",
    "        A_true = Input_Data[\"iter=$(iter)_A_true\"]\n",
    "        B_true = Input_Data[\"iter=$(iter)_B_true\"]\n",
    "        P_dag = Input_Data[\"iter=$(iter)_P_dag\"]\n",
    "        \n",
    "        obj_ETO,X_ETO,time_ETO = Solve_ETO(N,N_u,K,A_true,B_true,Obs_Feat,P_dag)\n",
    "        rev_ETO, price_ETO = compute_oof(X_ETO, A_true, B_true, Obs_Feat, P_dag)\n",
    "        # println(\"rev_ETO=\",round(rev_ETO,digits=6),\",price_ETO = \",price_ETO)\n",
    "        RST_[\"iter=$(iter)_Rev\"] = rev_ETO\n",
    "        RST_[\"iter=$(iter)_Price\"] = price_ETO\n",
    "    end\n",
    "    return RST_\n",
    "end"
   ]
  },
  {
   "cell_type": "code",
   "execution_count": 4,
   "id": "89994bc2",
   "metadata": {},
   "outputs": [
    {
     "data": {
      "text/plain": [
       "Run_ETO (generic function with 1 method)"
      ]
     },
     "metadata": {},
     "output_type": "display_data"
    }
   ],
   "source": [
    "function Run_ETO(iterations, N, N_u, K, Input_Data)\n",
    "    RST_ETO = Dict()\n",
    "    for iter in 1:iterations\n",
    "        Obs_Feat = Input_Data[\"iter=$(iter)_Obs_Feat\"]\n",
    "        A_hat = Input_Data[\"iter=$(iter)_A_hat\"]\n",
    "        B_hat = Input_Data[\"iter=$(iter)_B_hat\"]\n",
    "        A_true = Input_Data[\"iter=$(iter)_A_true\"]\n",
    "        B_true = Input_Data[\"iter=$(iter)_B_true\"]\n",
    "        P_dag = Input_Data[\"iter=$(iter)_P_dag\"]\n",
    "        \n",
    "        obj_ETO,X_ETO,time_ETO = Solve_ETO(N,N_u,K,A_hat,B_hat,Obs_Feat,P_dag)\n",
    "        rev_ETO, price_ETO = compute_oof(X_ETO, A_true, B_true, Obs_Feat, P_dag)\n",
    "        # println(\"rev_ETO=\",round(rev_ETO,digits=6),\",price_ETO = \",price_ETO)\n",
    "        RST_ETO[\"iter=$(iter)_Rev\"] = rev_ETO\n",
    "        RST_ETO[\"iter=$(iter)_Price\"] = price_ETO\n",
    "    end\n",
    "    return RST_ETO\n",
    "end"
   ]
  },
  {
   "cell_type": "code",
   "execution_count": null,
   "id": "5d539405",
   "metadata": {},
   "outputs": [],
   "source": [
    "# function Run_RO(bd_coef, iterations, N, N_u, K, Input_Data, psi_coef)\n",
    "#     RST_RO = Dict()\n",
    "#     for iter in 1:iterations\n",
    "#         Obs_Feat = Input_Data[\"iter=$(iter)_Obs_Feat\"]\n",
    "#         A_hat = Input_Data[\"iter=$(iter)_A_hat\"]\n",
    "#         B_hat = Input_Data[\"iter=$(iter)_B_hat\"]\n",
    "#         A_true = Input_Data[\"iter=$(iter)_A_true\"]\n",
    "#         B_true = Input_Data[\"iter=$(iter)_B_true\"]\n",
    "#         P_dag = Input_Data[\"iter=$(iter)_P_dag\"]\n",
    "        \n",
    "#         A_lb = A_hat .- bd_coef .* abs.(ones(N,N_u));\n",
    "#         A_ub = A_hat .+ bd_coef .* abs.(ones(N,N_u));\n",
    "#         B_lb = B_hat .- bd_coef .* abs.(ones(N,N));\n",
    "#         B_ub = B_hat .+ bd_coef .* abs.(ones(N,N));\n",
    "#         psi_lb = 0.0 - psi_coef * 10\n",
    "#         psi_ub = 0.1\n",
    "\n",
    "#         obj_RO,X_RO,time_RO = Solve_RO_one_side_exp(N,N_u,K,A_lb,A_ub,B_lb,B_ub,Obs_Feat,P_dag,psi_lb,psi_ub)\n",
    "#         rev_RO, price_RO = compute_oof(X_RO, A_true, B_true, Obs_Feat, P_dag)\n",
    "#         # println(\"psi_lb = \",psi_lb,\",rev_RO = \",round(rev_RO,digits=6),\",price_RO = \",price_RO)\n",
    "#         RST_RO[\"iter=$(iter)_Rev\"] = rev_RO\n",
    "#         RST_RO[\"iter=$(iter)_Price\"] = price_RO\n",
    "#     end\n",
    "#     return RST_RO\n",
    "# end"
   ]
  },
  {
   "cell_type": "code",
   "execution_count": 5,
   "id": "09c3b5b0",
   "metadata": {},
   "outputs": [
    {
     "data": {
      "text/plain": [
       "search_opt_price (generic function with 1 method)"
      ]
     },
     "metadata": {},
     "output_type": "display_data"
    }
   ],
   "source": [
    "function search_opt_price(N,p_lb,p_ub,b_n)\n",
    "    model = Model(Mosek.Optimizer)\n",
    "    set_attribute(model, \"QUIET\", true)\n",
    "    # 定义变量\n",
    "    @variable(model, price[1:N])                      # y_{nk}\n",
    "    @constraint(model, price .>= p_lb)\n",
    "    @constraint(model, price .<= p_ub)\n",
    "    @objective(model, Max,b_n' * price )\n",
    "    optimize!(model)\n",
    "    obj_val = objective_value(model)\n",
    "    return obj_val\n",
    "end"
   ]
  },
  {
   "cell_type": "code",
   "execution_count": 6,
   "id": "016c89dc",
   "metadata": {},
   "outputs": [
    {
     "data": {
      "text/plain": [
       "Run_RO (generic function with 1 method)"
      ]
     },
     "metadata": {},
     "output_type": "display_data"
    }
   ],
   "source": [
    "function Run_RO(bd_coef, iterations, N, N_u, K, Input_Data,psi_coef)\n",
    "    RST_RO = Dict(); RST_RO_Two_Side = Dict()\n",
    "    for iter in 1:iterations\n",
    "        Obs_Feat = Input_Data[\"iter=$(iter)_Obs_Feat\"]\n",
    "        A_true = Input_Data[\"iter=$(iter)_A_true\"]\n",
    "        B_true = Input_Data[\"iter=$(iter)_B_true\"]\n",
    "        P_dag = Input_Data[\"iter=$(iter)_P_dag\"]\n",
    "        A_hat = Input_Data[\"iter=$(iter)_A_hat\"]\n",
    "        B_hat = Input_Data[\"iter=$(iter)_B_hat\"]\n",
    "\n",
    "        A_lb = A_hat .- bd_coef .* abs.(ones(N,N_u));\n",
    "        A_ub = A_hat .+ bd_coef .* abs.(ones(N,N_u));\n",
    "        B_lb = B_hat .- bd_coef .* abs.(ones(N,N));\n",
    "        B_ub = B_hat .+ bd_coef .* abs.(ones(N,N));\n",
    "        \n",
    "        p_ub = vec(maximum(P_dag,dims=2))\n",
    "        p_lb = vec(minimum(P_dag,dims=2))\n",
    "        p_max = maximum(p_ub)\n",
    "        p_min = minimum(p_lb)\n",
    "        Obs_Feat_Trun = [max(-Obs_Feat[ind],0) for ind in 1:N_u]\n",
    "        psi_lb = zeros(N)\n",
    "        for n in 1:N\n",
    "            b_n = B_lb[n,:]\n",
    "            obj_n = search_opt_price(N,p_lb,p_ub,b_n)\n",
    "            psi_lb[n] = -exp(-Obs_Feat_Trun' * (A_ub[n,:] - A_lb[n,:]) + Obs_Feat' * A_lb[n,:] + obj_n)*(p_max-p_min)\n",
    "        end\n",
    "        \n",
    "        # psi_lb = 0.0 - psi_coef * 10\n",
    "        psi_ub = 0.0\n",
    "\n",
    "        obj_RO,X_RO,time_RO = Solve_RO_one_side_exp(N,N_u,K,A_lb,A_ub,B_lb,B_ub,Obs_Feat,P_dag,psi_lb,psi_ub)\n",
    "        rev_RO, price_RO = compute_oof(X_RO, A_true, B_true, Obs_Feat, P_dag)\n",
    "        println(\"psi_lb = \",round.(psi_lb,digits=2),\",rev_RO = \",round(rev_RO,digits=6),\",price_RO = \",price_RO)\n",
    "        RST_RO[\"iter=$(iter)_Rev\"] = rev_RO\n",
    "        RST_RO[\"iter=$(iter)_Price\"] = price_RO\n",
    "    end\n",
    "    return RST_RO\n",
    "end"
   ]
  },
  {
   "cell_type": "code",
   "execution_count": 28,
   "id": "6a3970f5",
   "metadata": {},
   "outputs": [
    {
     "data": {
      "text/plain": [
       "Run_RO_with_Given_bd_coef (generic function with 1 method)"
      ]
     },
     "metadata": {},
     "output_type": "display_data"
    }
   ],
   "source": [
    "function Run_RO_with_Given_bd_coef(bd_coef, iterations, N, N_u, K, Input_Data, psi_coef,RST_ETO)\n",
    "    RST_RO = Run_RO(bd_coef, iterations, N, N_u, K, Input_Data,psi_coef);\n",
    "    Rev_ETO = [RST_ETO[\"iter=$(iter)_Rev\"] for iter in 1:iterations]\n",
    "    Rev_RO = [RST_RO[\"iter=$(iter)_Rev\"] for iter in 1:iterations]\n",
    "    # println(\"Rev_ETO = \",round.(Rev_ETO,digits=4))\n",
    "    println(\"Rev_RO/Rev_ETO = \",round.(Rev_RO./Rev_ETO,digits=4), \", Average = \",round.(mean(Rev_RO./Rev_ETO),digits=4))\n",
    "    return RST_RO\n",
    "end"
   ]
  },
  {
   "cell_type": "markdown",
   "id": "9568927e",
   "metadata": {},
   "source": [
    "## Evaluate"
   ]
  },
  {
   "cell_type": "markdown",
   "id": "6314b1a2",
   "metadata": {},
   "source": [
    "### offdiag is mix"
   ]
  },
  {
   "cell_type": "code",
   "execution_count": 43,
   "id": "4d7d2cfa",
   "metadata": {},
   "outputs": [
    {
     "data": {
      "text/plain": [
       "10"
      ]
     },
     "metadata": {},
     "output_type": "display_data"
    }
   ],
   "source": [
    "Random.seed!(1)\n",
    "N_u = 1\n",
    "N = 5\n",
    "S_train = 1000\n",
    "S_test = 1\n",
    "K = 10   # 每个产品的选择项数量\n",
    "max_offdiag = 0.3\n",
    "offdiag_sign = \"mix\"  # \"positive\" or \"negative\"\n",
    "P_bar = 1.0\n",
    "iterations = 10"
   ]
  },
  {
   "cell_type": "markdown",
   "id": "e03b3e9c",
   "metadata": {},
   "source": [
    "- Generate Data"
   ]
  },
  {
   "cell_type": "code",
   "execution_count": 44,
   "id": "d1a43034",
   "metadata": {},
   "outputs": [],
   "source": [
    "Input_Data = generate_Input_Data(S_train,S_test,iterations, N, N_u, K, offdiag_sign,max_offdiag,P_bar);"
   ]
  },
  {
   "cell_type": "markdown",
   "id": "43aff417",
   "metadata": {},
   "source": [
    "- Run Oracle"
   ]
  },
  {
   "cell_type": "code",
   "execution_count": 45,
   "id": "cd4813fa",
   "metadata": {},
   "outputs": [],
   "source": [
    "RST_Oracle = Run_Oracle(iterations, N, N_u, K, Input_Data);"
   ]
  },
  {
   "cell_type": "markdown",
   "id": "152240c0",
   "metadata": {},
   "source": [
    "- Run ETO"
   ]
  },
  {
   "cell_type": "code",
   "execution_count": 46,
   "id": "e37110c4",
   "metadata": {},
   "outputs": [
    {
     "name": "stdout",
     "output_type": "stream",
     "text": [
      "Rev_ETO/Rev_Oracle = [1.0, 1.0, 1.0, 1.0, 1.0, 1.0, 1.0, 1.0, 0.9808, 1.0]\n"
     ]
    }
   ],
   "source": [
    "RST_ETO = Run_ETO(iterations, N, N_u, K, Input_Data);\n",
    "Rev_ETO = [RST_ETO[\"iter=$(iter)_Rev\"] for iter in 1:iterations]\n",
    "Rev_Oracle = [RST_Oracle[\"iter=$(iter)_Rev\"] for iter in 1:iterations]\n",
    "println(\"Rev_ETO/Rev_Oracle = \",round.(Rev_ETO./Rev_Oracle,digits=4))"
   ]
  },
  {
   "cell_type": "markdown",
   "id": "5c54f0ee",
   "metadata": {},
   "source": [
    "- Run RO under different uncertainty set"
   ]
  },
  {
   "cell_type": "code",
   "execution_count": 49,
   "id": "964da926",
   "metadata": {},
   "outputs": [
    {
     "name": "stdout",
     "output_type": "stream",
     "text": [
      "psi_lb = [-2.9, -3.15, -4.19, -7.05, -4.06],rev_RO = 0.733612,price_RO = [0.91, 0.96, 0.87, 0.98, 0.74]\n",
      "psi_lb = [-1.75, -2.04, -3.15, -2.31, -2.06],rev_RO = 0.645775,price_RO = [0.92, 0.9, 0.74, 0.97, 0.69]\n",
      "psi_lb = [-2.96, -1.27, -2.3, -2.39, -1.95],rev_RO = 0.764505,price_RO = [0.97, 0.94, 0.96, 0.91, 0.94]\n",
      "psi_lb = [-1.18, -3.03, -2.38, -2.55, -2.51],rev_RO = 0.743258,price_RO = [0.89, 0.81, 0.88, 0.99, 0.87]\n",
      "psi_lb = [-1.71, -2.32, -2.46, -1.18, -3.27],rev_RO = 0.683563,price_RO = [0.98, 0.92, 0.96, 1.0, 0.88]\n",
      "psi_lb = [-2.19, -2.23, -1.71, -1.76, -1.7],rev_RO = 0.60551,price_RO = [0.97, 0.76, 0.88, 0.9, 0.98]\n",
      "psi_lb = [-2.53, -1.9, -1.06, -1.16, -2.53],rev_RO = 0.666927,price_RO = [0.96, 0.83, 0.93, 0.91, 0.97]\n",
      "psi_lb = [-2.02, -1.27, -1.88, -0.95, -2.01],rev_RO = 0.74936,price_RO = [0.95, 0.85, 0.91, 0.95, 0.95]\n",
      "psi_lb = [-1.31, -1.14, -2.76, -1.51, -1.33],rev_RO = 0.6788,price_RO = [0.99, 0.98, 0.88, 0.95, 0.72]\n",
      "psi_lb = [-1.78, -3.31, -1.79, -2.4, -1.72],rev_RO = 0.682955,price_RO = [0.88, 0.92, 0.84, 0.82, 0.91]\n",
      "Rev_RO/Rev_ETO = [1.0, 1.0, 1.0, 1.0, 1.0, 1.0, 1.0, 1.0, 1.0, 1.0], Average = 1.0\n",
      "Rev_RO/Rev_Oracle = [1.0, 1.0, 1.0, 1.0, 1.0, 1.0, 1.0, 1.0, 0.9808, 1.0]\n"
     ]
    }
   ],
   "source": [
    "bd_coef = 0.0\n",
    "psi_coef = 1\n",
    "RST_RO = Run_RO_with_Given_bd_coef(bd_coef, iterations, N, N_u, K, Input_Data, psi_coef,RST_ETO);\n",
    "Rev_RO = [RST_RO[\"iter=$(iter)_Rev\"] for iter in 1:iterations]\n",
    "println(\"Rev_RO/Rev_Oracle = \",round.(Rev_RO./Rev_Oracle,digits=4))"
   ]
  },
  {
   "cell_type": "markdown",
   "id": "71b72e95",
   "metadata": {},
   "source": [
    "### offdiag is zero"
   ]
  },
  {
   "cell_type": "code",
   "execution_count": 14,
   "id": "67325244",
   "metadata": {},
   "outputs": [],
   "source": [
    "offdiag_sign = \"zero\" \n",
    "Input_Data = generate_Input_Data(S_train,S_test,iterations, N, N_u, K, offdiag_sign,max_offdiag,P_bar);"
   ]
  },
  {
   "cell_type": "code",
   "execution_count": 15,
   "id": "dbd5e948",
   "metadata": {},
   "outputs": [],
   "source": [
    "RST_Oracle = Run_Oracle(iterations, N, N_u, K, Input_Data);"
   ]
  },
  {
   "cell_type": "code",
   "execution_count": 16,
   "id": "94145ea1",
   "metadata": {},
   "outputs": [
    {
     "name": "stdout",
     "output_type": "stream",
     "text": [
      "Rev_ETO/Rev_Oracle = [1.0, 1.0, 1.0, 1.0, 1.0, 1.0, 1.0, 1.0, 1.0, 1.0]\n"
     ]
    }
   ],
   "source": [
    "RST_ETO = Run_ETO(iterations, N, N_u, K, Input_Data);\n",
    "Rev_ETO = [RST_ETO[\"iter=$(iter)_Rev\"] for iter in 1:iterations]\n",
    "Rev_Oracle = [RST_Oracle[\"iter=$(iter)_Rev\"] for iter in 1:iterations]\n",
    "println(\"Rev_ETO/Rev_Oracle = \",round.(Rev_ETO./Rev_Oracle,digits=4))"
   ]
  },
  {
   "cell_type": "code",
   "execution_count": 17,
   "id": "6d3afb07",
   "metadata": {},
   "outputs": [
    {
     "name": "stdout",
     "output_type": "stream",
     "text": [
      "psi_lb = [-3.7, -2.16, -3.56, -1.64, -2.19],rev_RO = 0.776875,price_RO = [0.93, 0.96, 0.79, 0.93, 0.96]\n",
      "psi_lb = [-1.21, -1.49, -1.28, -1.36, -1.2],rev_RO = 0.690845,price_RO = [0.85, 0.85, 0.92, 0.75, 0.89]\n",
      "psi_lb = [-3.91, -3.79, -3.37, -3.03, -3.53],rev_RO = 0.779862,price_RO = [0.94, 0.88, 0.95, 0.82, 0.94]\n",
      "psi_lb = [-1.86, -2.15, -1.67, -1.99, -1.54],rev_RO = 0.768399,price_RO = [0.96, 0.99, 0.91, 0.8, 1.0]\n",
      "psi_lb = [-2.65, -2.38, -2.46, -2.14, -1.94],rev_RO = 0.697993,price_RO = [0.98, 0.66, 0.88, 0.99, 0.78]\n",
      "psi_lb = [-1.41, -1.14, -1.16, -1.49, -1.3],rev_RO = 0.774356,price_RO = [0.92, 0.95, 0.98, 0.92, 0.96]\n",
      "psi_lb = [-1.85, -2.24, -2.64, -1.76, -1.85],rev_RO = 0.762116,price_RO = [1.0, 0.88, 0.95, 0.76, 0.91]\n",
      "psi_lb = [-1.89, -2.03, -2.34, -2.2, -2.01],rev_RO = 0.729222,price_RO = [0.89, 0.96, 0.9, 0.91, 0.79]\n",
      "psi_lb = [-1.67, -4.55, -4.84, -1.8, -2.89],rev_RO = 0.824966,price_RO = [0.94, 0.95, 0.93, 0.95, 0.98]\n",
      "psi_lb = [-1.81, -2.17, -2.1, -1.49, -1.74],rev_RO = 0.785273,price_RO = [0.98, 0.84, 0.98, 0.95, 0.98]\n",
      "Rev_RO/Rev_ETO = [1.0, 1.0, 1.0, 1.0, 1.0, 1.0, 1.0, 1.0, 1.0, 1.0], Average = 1.0\n"
     ]
    }
   ],
   "source": [
    "bd_coef = 0.000001\n",
    "Run_RO_with_Given_bd_coef(bd_coef, iterations, N, N_u, K, Input_Data, psi_coef,RST_ETO)"
   ]
  },
  {
   "cell_type": "code",
   "execution_count": 19,
   "id": "8ccb9946",
   "metadata": {},
   "outputs": [
    {
     "name": "stdout",
     "output_type": "stream",
     "text": [
      "psi_lb = [-3.7, -2.16, -3.56, -1.64, -2.19],rev_RO = 0.776875,price_RO = [0.93, 0.96, 0.79, 0.93, 0.96]\n",
      "psi_lb = [-1.21, -1.49, -1.28, -1.36, -1.2],rev_RO = 0.690845,price_RO = [0.85, 0.85, 0.92, 0.75, 0.89]\n",
      "psi_lb = [-3.91, -3.79, -3.37, -3.03, -3.53],rev_RO = 0.779862,price_RO = [0.94, 0.88, 0.95, 0.82, 0.94]\n",
      "psi_lb = [-1.86, -2.15, -1.67, -1.99, -1.54],rev_RO = 0.768399,price_RO = [0.96, 0.99, 0.91, 0.8, 1.0]\n",
      "psi_lb = [-2.65, -2.38, -2.46, -2.14, -1.94],rev_RO = 0.697993,price_RO = [0.98, 0.66, 0.88, 0.99, 0.78]\n",
      "psi_lb = [-1.41, -1.14, -1.16, -1.49, -1.3],rev_RO = 0.774356,price_RO = [0.92, 0.95, 0.98, 0.92, 0.96]\n",
      "psi_lb = [-1.85, -2.24, -2.64, -1.76, -1.85],rev_RO = 0.762116,price_RO = [1.0, 0.88, 0.95, 0.76, 0.91]\n",
      "psi_lb = [-1.89, -2.03, -2.34, -2.2, -2.01],rev_RO = 0.729222,price_RO = [0.89, 0.96, 0.9, 0.91, 0.79]\n",
      "psi_lb = [-1.67, -4.55, -4.84, -1.8, -2.89],rev_RO = 0.824966,price_RO = [0.94, 0.95, 0.93, 0.95, 0.98]\n",
      "psi_lb = [-1.81, -2.17, -2.1, -1.49, -1.74],rev_RO = 0.785273,price_RO = [0.98, 0.84, 0.98, 0.95, 0.98]\n",
      "Rev_RO/Rev_ETO = [1.0, 1.0, 1.0, 1.0, 1.0, 1.0, 1.0, 1.0, 1.0, 1.0], Average = 1.0\n"
     ]
    }
   ],
   "source": [
    "bd_coef = 0.0\n",
    "Run_RO_with_Given_bd_coef(bd_coef, iterations, N, N_u, K, Input_Data, psi_coef,RST_ETO)"
   ]
  },
  {
   "cell_type": "code",
   "execution_count": null,
   "id": "1874f554",
   "metadata": {},
   "outputs": [],
   "source": [
    "bd_coef = 0.05\n",
    "Run_RO_with_Given_bd_coef(bd_coef, iterations, N, N_u, K, Input_Data, psi_coef,RST_ETO)"
   ]
  },
  {
   "cell_type": "code",
   "execution_count": null,
   "id": "0aea8dad",
   "metadata": {},
   "outputs": [],
   "source": [
    "bd_coef = 0.1\n",
    "Run_RO_with_Given_bd_coef(bd_coef, iterations, N, N_u, K, Input_Data, psi_coef,RST_ETO)"
   ]
  },
  {
   "cell_type": "markdown",
   "id": "ad4e147e",
   "metadata": {},
   "source": [
    "### offdiag is positive"
   ]
  },
  {
   "cell_type": "code",
   "execution_count": 20,
   "id": "4094dc73",
   "metadata": {},
   "outputs": [],
   "source": [
    "offdiag_sign = \"positive\" \n",
    "Input_Data = generate_Input_Data(S_train,S_test,iterations, N, N_u, K, offdiag_sign,max_offdiag,P_bar);"
   ]
  },
  {
   "cell_type": "code",
   "execution_count": 21,
   "id": "0f054212",
   "metadata": {},
   "outputs": [],
   "source": [
    "RST_Oracle = Run_Oracle(iterations, N, N_u, K, Input_Data);"
   ]
  },
  {
   "cell_type": "code",
   "execution_count": 22,
   "id": "eb30444d",
   "metadata": {},
   "outputs": [
    {
     "name": "stdout",
     "output_type": "stream",
     "text": [
      "Rev_ETO/Rev_Oracle = [1.0, 1.0, 1.0, 1.0, 1.0, 1.0, 1.0, 1.0, 1.0, 1.0]\n"
     ]
    }
   ],
   "source": [
    "RST_ETO = Run_ETO(iterations, N, N_u, K, Input_Data);\n",
    "Rev_ETO = [RST_ETO[\"iter=$(iter)_Rev\"] for iter in 1:iterations]\n",
    "Rev_Oracle = [RST_Oracle[\"iter=$(iter)_Rev\"] for iter in 1:iterations]\n",
    "println(\"Rev_ETO/Rev_Oracle = \",round.(Rev_ETO./Rev_Oracle,digits=4))"
   ]
  },
  {
   "cell_type": "code",
   "execution_count": 31,
   "id": "ac14eb87",
   "metadata": {},
   "outputs": [
    {
     "name": "stdout",
     "output_type": "stream",
     "text": [
      "psi_lb = [-1.96, -1.53, -1.8, -1.39, -1.54],rev_RO = 0.722622,price_RO = [0.85, 0.78, 0.84, 0.98, 0.99]\n",
      "psi_lb = [-1.25, -1.22, -1.58, -1.58, -1.25],rev_RO = 0.688282,price_RO = [0.98, 0.99, 0.95, 0.55, 0.99]\n",
      "psi_lb = [-1.67, -1.41, -1.21, -1.45, -1.26],rev_RO = 0.732333,price_RO = [0.96, 0.96, 0.95, 0.99, 0.94]\n",
      "psi_lb = [-1.19, -1.33, -1.91, -1.92, -1.93],rev_RO = 0.766519,price_RO = [0.95, 0.89, 0.94, 0.95, 0.99]\n",
      "psi_lb = [-1.3, -1.19, -1.28, -1.08, -2.34],rev_RO = 0.671236,price_RO = [0.87, 0.98, 0.93, 0.84, 0.68]\n",
      "psi_lb = [-1.97, -3.66, -2.24, -1.88, -1.63],rev_RO = 0.754006,price_RO = [0.9, 0.74, 0.99, 0.98, 0.86]\n",
      "psi_lb = [-1.54, -2.34, -2.2, -1.31, -1.39],rev_RO = 0.772641,price_RO = [0.88, 0.92, 0.97, 0.99, 0.99]\n",
      "psi_lb = [-2.46, -2.81, -4.1, -1.18, -1.44],rev_RO = 0.73798,price_RO = [0.97, 0.66, 0.95, 0.85, 0.9]\n",
      "psi_lb = [-1.16, -1.08, -1.19, -0.97, -1.11],rev_RO = 0.663198,price_RO = [0.9, 0.88, 0.82, 0.7, 0.94]\n",
      "psi_lb = [-3.67, -3.78, -2.16, -2.59, -1.31],rev_RO = 0.767559,price_RO = [1.0, 0.95, 0.94, 0.84, 0.86]\n",
      "Rev_RO/Rev_ETO = [1.0, 1.0, 1.0, 1.0, 1.0, 1.0, 1.0, 1.1289, 1.0, 1.0], Average = 1.0129\n"
     ]
    }
   ],
   "source": [
    "bd_coef = 0.0\n",
    "RST_RO = Run_RO_with_Given_bd_coef(bd_coef, iterations, N, N_u, K, Input_Data, psi_coef,RST_ETO);"
   ]
  },
  {
   "cell_type": "code",
   "execution_count": 33,
   "id": "e87505d7",
   "metadata": {},
   "outputs": [],
   "source": [
    "Rev_RO = [RST_RO[\"iter=$(iter)_Rev\"] for iter in 1:iterations];"
   ]
  },
  {
   "cell_type": "code",
   "execution_count": null,
   "id": "638a6f57",
   "metadata": {},
   "outputs": [],
   "source": [
    "bd_coef = 0.01\n",
    "Run_RO_with_Given_bd_coef(bd_coef, iterations, N, N_u, K, Input_Data, psi_coef,RST_ETO)"
   ]
  },
  {
   "cell_type": "code",
   "execution_count": null,
   "id": "1d0ceb30",
   "metadata": {},
   "outputs": [],
   "source": [
    "bd_coef = 0.05\n",
    "Run_RO_with_Given_bd_coef(bd_coef, iterations, N, N_u, K, Input_Data, psi_coef,RST_ETO)"
   ]
  },
  {
   "cell_type": "markdown",
   "id": "211a7218",
   "metadata": {},
   "source": [
    "### offdiag is negative"
   ]
  },
  {
   "cell_type": "code",
   "execution_count": 35,
   "id": "a72702ab",
   "metadata": {},
   "outputs": [],
   "source": [
    "offdiag_sign = \"negative\" \n",
    "Input_Data = generate_Input_Data(S_train,S_test,iterations, N, N_u, K, offdiag_sign,max_offdiag,P_bar);"
   ]
  },
  {
   "cell_type": "code",
   "execution_count": 36,
   "id": "9071c26c",
   "metadata": {},
   "outputs": [],
   "source": [
    "RST_Oracle = Run_Oracle(iterations, N, N_u, K, Input_Data);"
   ]
  },
  {
   "cell_type": "code",
   "execution_count": 26,
   "id": "610d6a10",
   "metadata": {},
   "outputs": [
    {
     "name": "stdout",
     "output_type": "stream",
     "text": [
      "Rev_ETO/Rev_Oracle = [1.0, 1.0, 1.0, 1.0, 1.0, 1.0, 1.0, 0.8858, 1.0, 1.0]\n"
     ]
    }
   ],
   "source": [
    "RST_ETO = Run_ETO(iterations, N, N_u, K, Input_Data);\n",
    "Rev_ETO = [RST_ETO[\"iter=$(iter)_Rev\"] for iter in 1:iterations]\n",
    "Rev_Oracle = [RST_Oracle[\"iter=$(iter)_Rev\"] for iter in 1:iterations]\n",
    "println(\"Rev_ETO/Rev_Oracle = \",round.(Rev_ETO./Rev_Oracle,digits=4))"
   ]
  },
  {
   "cell_type": "code",
   "execution_count": 41,
   "id": "7c19fa02",
   "metadata": {},
   "outputs": [
    {
     "data": {
      "text/plain": [
       "5×5 Matrix{Float64}:\n",
       " -0.157158   0.0276485  0.516328   0.00958104  0.180874\n",
       " -0.229653  -0.483424   0.870516  -0.246951    0.367528\n",
       " -0.404027  -0.305812   0.491409  -0.112163    0.139849\n",
       " -0.661136  -0.383169   0.930104  -0.408791    0.652909\n",
       " -0.135141  -0.270914   0.264111  -0.357327    0.0335558"
      ]
     },
     "metadata": {},
     "output_type": "display_data"
    }
   ],
   "source": [
    "iter = 1\n",
    "Input_Data[\"iter=$(iter)_B_hat\"]"
   ]
  },
  {
   "cell_type": "code",
   "execution_count": 42,
   "id": "e6fbca5f",
   "metadata": {},
   "outputs": [
    {
     "data": {
      "text/plain": [
       "5×5 Matrix{Float64}:\n",
       " -0.210471   -0.0409567  -0.0300737   -0.0143086  -0.0744612\n",
       " -0.0769913  -0.264839   -0.0683526   -0.0387731  -0.00308677\n",
       " -0.0118158  -0.0884019  -0.233518    -0.0688001  -0.0213953\n",
       " -0.0915222  -0.0342319  -0.00242837  -0.211162   -0.0100685\n",
       " -0.0691783  -0.0927674  -0.0409597   -0.0926072  -0.341258"
      ]
     },
     "metadata": {},
     "output_type": "display_data"
    }
   ],
   "source": [
    "Input_Data[\"iter=$(iter)_B_true\"]"
   ]
  },
  {
   "cell_type": "code",
   "execution_count": 27,
   "id": "b995846a",
   "metadata": {},
   "outputs": [
    {
     "name": "stdout",
     "output_type": "stream",
     "text": [
      "psi_lb = [-1.96, -1.53, -1.8, -1.39, -1.54],rev_RO = 0.722622,price_RO = [0.85, 0.78, 0.84, 0.98, 0.99]\n",
      "psi_lb = [-1.25, -1.22, -1.58, -1.58, -1.25],rev_RO = 0.688282,price_RO = [0.98, 0.99, 0.95, 0.55, 0.99]\n",
      "psi_lb = [-1.67, -1.41, -1.21, -1.45, -1.26],rev_RO = 0.732333,price_RO = [0.96, 0.96, 0.95, 0.99, 0.94]\n",
      "psi_lb = [-1.19, -1.33, -1.91, -1.92, -1.93],rev_RO = 0.766519,price_RO = [0.95, 0.89, 0.94, 0.95, 0.99]\n",
      "psi_lb = [-1.3, -1.19, -1.28, -1.08, -2.34],rev_RO = 0.671236,price_RO = [0.87, 0.98, 0.93, 0.84, 0.68]\n",
      "psi_lb = [-1.97, -3.66, -2.24, -1.88, -1.63],rev_RO = 0.754006,price_RO = [0.9, 0.74, 0.99, 0.98, 0.86]\n",
      "psi_lb = [-1.54, -2.34, -2.2, -1.31, -1.39],rev_RO = 0.772641,price_RO = [0.88, 0.92, 0.97, 0.99, 0.99]\n",
      "psi_lb = [-2.46, -2.81, -4.1, -1.18, -1.44],rev_RO = 0.73798,price_RO = [0.97, 0.66, 0.95, 0.85, 0.9]\n",
      "psi_lb = [-1.16, -1.08, -1.19, -0.97, -1.11],rev_RO = 0.663198,price_RO = [0.9, 0.88, 0.82, 0.7, 0.94]\n",
      "psi_lb = [-3.67, -3.78, -2.16, -2.59, -1.31],rev_RO = 0.767559,price_RO = [1.0, 0.95, 0.94, 0.84, 0.86]\n",
      "Rev_RO/Rev_ETO = [1.0, 1.0, 1.0, 1.0, 1.0, 1.0, 1.0, 1.1289, 1.0, 1.0], Average = 1.0129\n"
     ]
    }
   ],
   "source": [
    "bd_coef = 0.0\n",
    "Run_RO_with_Given_bd_coef(bd_coef, iterations, N, N_u, K, Input_Data, psi_coef,RST_ETO)"
   ]
  },
  {
   "cell_type": "code",
   "execution_count": null,
   "id": "7abd6965",
   "metadata": {},
   "outputs": [],
   "source": [
    "bd_coef = 0.01\n",
    "Run_RO_with_Given_bd_coef(bd_coef, iterations, N, N_u, K, Input_Data, psi_coef,RST_ETO)"
   ]
  }
 ],
 "metadata": {
  "kernelspec": {
   "display_name": "Julia 1.10.3",
   "language": "julia",
   "name": "julia-1.10"
  },
  "language_info": {
   "file_extension": ".jl",
   "mimetype": "application/julia",
   "name": "julia",
   "version": "1.10.3"
  }
 },
 "nbformat": 4,
 "nbformat_minor": 5
}
