{
 "cells": [
  {
   "cell_type": "code",
   "execution_count": 1,
   "id": "ea7846fb",
   "metadata": {},
   "outputs": [
    {
     "data": {
      "text/plain": [
       "Run_RO_with_RO_coef (generic function with 1 method)"
      ]
     },
     "metadata": {},
     "output_type": "display_data"
    }
   ],
   "source": [
    "using LinearAlgebra\n",
    "using Distributions\n",
    "using Optim\n",
    "using Random\n",
    "using StatsFuns\n",
    "using JuMP\n",
    "using MosekTools\n",
    "using JLD2\n",
    "\n",
    "include(\"ETO.jl\")\n",
    "include(\"RO.jl\")\n",
    "include(\"Data.jl\")\n",
    "include(\"Estimate.jl\")\n",
    "include(\"Performance.jl\")\n",
    "include(\"Plot_Figures.jl\")\n",
    "include(\"Data_Generation.jl\")\n",
    "include(\"Implement_ETO.jl\")\n",
    "include(\"Implement_RO.jl\")"
   ]
  },
  {
   "cell_type": "code",
   "execution_count": 2,
   "id": "f424ebee",
   "metadata": {},
   "outputs": [],
   "source": [
    "current_dir = pwd()\n",
    "parent_dir = dirname(current_dir)\n",
    "grand_pa_dir = dirname(parent_dir)\n",
    "data_dir = string(grand_pa_dir, \"/Data/\")\n",
    "if !isdir(data_dir)\n",
    "    mkpath(data_dir)\n",
    "end"
   ]
  },
  {
   "cell_type": "markdown",
   "id": "bc1238ab",
   "metadata": {},
   "source": [
    "## Functions"
   ]
  },
  {
   "cell_type": "code",
   "execution_count": 3,
   "id": "83d6f208",
   "metadata": {},
   "outputs": [
    {
     "data": {
      "text/plain": [
       "set_Params (generic function with 1 method)"
      ]
     },
     "metadata": {},
     "output_type": "display_data"
    }
   ],
   "source": [
    "function set_Params(N, N_u, K, S_train, S_test, offdiag_sign, max_offdiag, P_bar, RO_coef_all, seed)\n",
    "    Params = Dict()\n",
    "    Params[\"N\"] = N\n",
    "    Params[\"N_u\"] = N_u\n",
    "    Params[\"K\"] = K\n",
    "    Params[\"S_train\"] = S_train\n",
    "    Params[\"S_test\"] = S_test\n",
    "    Params[\"offdiag_sign\"] = offdiag_sign\n",
    "    Params[\"max_offdiag\"] = max_offdiag\n",
    "    Params[\"P_bar\"] = P_bar\n",
    "    Params[\"RO_coef_all\"] = RO_coef_all\n",
    "    Params[\"seed\"] = seed\n",
    "    return Params\n",
    "end"
   ]
  },
  {
   "cell_type": "markdown",
   "id": "9568927e",
   "metadata": {},
   "source": [
    "## Evaluate"
   ]
  },
  {
   "cell_type": "markdown",
   "id": "b6eef9dc",
   "metadata": {},
   "source": [
    "#### Baseline Parameters"
   ]
  },
  {
   "cell_type": "code",
   "execution_count": null,
   "id": "f8321a1a",
   "metadata": {},
   "outputs": [
    {
     "data": {
      "text/plain": [
       "1-element Vector{Float64}:\n",
       " 0.0"
      ]
     },
     "metadata": {},
     "output_type": "display_data"
    }
   ],
   "source": [
    "project_name = \"Assortment_Pricing_Simulated_Data/\"\n",
    "seed = 1;\n",
    "N = 5;\n",
    "N_u = 1;\n",
    "K = 10;\n",
    "S_test = 1000;\n",
    "P_bar = 5.0;\n",
    "iterations = 10;\n",
    "# RO_coef_all = [0.0];\n",
    "RO_coef_all = [0.0,0.01,0.05,0.1,0.12,0.15,0.2,0.25,0.3];"
   ]
  },
  {
   "cell_type": "markdown",
   "id": "6314b1a2",
   "metadata": {},
   "source": [
    "### offdiag is mix"
   ]
  },
  {
   "cell_type": "code",
   "execution_count": 5,
   "id": "d7167bf6",
   "metadata": {},
   "outputs": [],
   "source": [
    "S_train = 500;\n",
    "offdiag_sign = \"mix\";\n",
    "max_offdiag = 1.0;\n",
    "Params = set_Params(N, N_u, K, S_train, S_test, offdiag_sign, max_offdiag, P_bar, RO_coef_all, seed);"
   ]
  },
  {
   "cell_type": "code",
   "execution_count": 6,
   "id": "fca93210",
   "metadata": {},
   "outputs": [],
   "source": [
    "sub_file_name = \"N=$(N)_N_u=$(N_u)_K=$(K)_S_train=$(S_train)_offdiag_sign=$(offdiag_sign)_max_offdiag=$(max_offdiag)/\"\n",
    "this_data_file = string(data_dir,project_name,sub_file_name)\n",
    "if !isdir(this_data_file)\n",
    "    mkpath(this_data_file)\n",
    "end\n",
    "save(string(this_data_file, \"Params.jld2\"), Params);"
   ]
  },
  {
   "cell_type": "markdown",
   "id": "e03b3e9c",
   "metadata": {},
   "source": [
    "- Generate Data"
   ]
  },
  {
   "cell_type": "code",
   "execution_count": 7,
   "id": "d1a43034",
   "metadata": {},
   "outputs": [],
   "source": [
    "Random.seed!(seed)\n",
    "Input_Data = generate_Input_Data(S_train,S_test,iterations, N, N_u, K, offdiag_sign,max_offdiag,P_bar);\n",
    "Input_Data = Calculate_Hyper_Param(RO_coef_all, iterations, N, N_u, K, Input_Data);\n",
    "save(string(this_data_file, \"Input_Data.jld2\"), Input_Data);"
   ]
  },
  {
   "cell_type": "markdown",
   "id": "43aff417",
   "metadata": {},
   "source": [
    "- Run Oracle"
   ]
  },
  {
   "cell_type": "code",
   "execution_count": 8,
   "id": "cd4813fa",
   "metadata": {},
   "outputs": [
    {
     "name": "stdout",
     "output_type": "stream",
     "text": [
      "iter=1: rev_Oracle = 2.271869, price_Oracle = [3.82, 0.38, 4.81, 2.6, 4.07]\n",
      "iter=2: rev_Oracle = 2.279028, price_Oracle = [0.46, 2.65, 4.86, 2.81, 4.96]\n",
      "iter=3: rev_Oracle = 3.111238, price_Oracle = [3.66, 4.8, 4.33, 4.93, 4.86]\n",
      "iter=4: rev_Oracle = 1.595664, price_Oracle = [4.72, 1.03, 4.79, 2.12, 4.95]\n",
      "iter=5: rev_Oracle = 1.027239, price_Oracle = [1.29, 0.13, 4.66, 1.03, 4.62]\n",
      "iter=6: rev_Oracle = 1.784405, price_Oracle = [4.54, 0.41, 4.74, 1.94, 4.52]\n",
      "iter=7: rev_Oracle = 2.781146, price_Oracle = [4.86, 4.59, 4.75, 4.95, 3.11]\n",
      "iter=8: rev_Oracle = 0.258173, price_Oracle = [4.48, 2.37, 1.88, 0.07, 4.38]\n",
      "iter=9: rev_Oracle = 1.864865, price_Oracle = [3.92, 0.85, 2.11, 4.94, 4.82]\n",
      "iter=10: rev_Oracle = 1.939433, price_Oracle = [3.91, 4.91, 2.11, 0.66, 4.97]\n"
     ]
    }
   ],
   "source": [
    "print_flag=true\n",
    "RST_Oracle = Run_Oracle(iterations, N, N_u, K, Input_Data,print_flag);\n",
    "Rev_Oracle = [RST_Oracle[\"iter=$(iter)_Rev\"] for iter in 1:iterations];\n",
    "save(string(this_data_file, \"RST_Oracle.jld2\"), RST_Oracle);"
   ]
  },
  {
   "cell_type": "markdown",
   "id": "152240c0",
   "metadata": {},
   "source": [
    "- Run ETO"
   ]
  },
  {
   "cell_type": "code",
   "execution_count": 9,
   "id": "e37110c4",
   "metadata": {},
   "outputs": [
    {
     "name": "stdout",
     "output_type": "stream",
     "text": [
      "iter=1: rev_ETO = 0.94441, price_ETO = [3.82, 1.38, 4.81, 3.59, 4.07]\n",
      "iter=2: rev_ETO = 1.746387, price_ETO = [0.46, 3.25, 4.86, 2.81, 4.96]\n",
      "iter=3: rev_ETO = 3.046294, price_ETO = [3.26, 4.8, 4.33, 4.93, 4.86]\n",
      "iter=4: rev_ETO = 0.904006, price_ETO = [4.72, 0.13, 4.79, 2.71, 0.43]\n",
      "iter=5: rev_ETO = 1.005892, price_ETO = [1.21, 0.13, 4.66, 1.03, 4.62]\n",
      "iter=6: rev_ETO = 0.561058, price_ETO = [2.04, 0.41, 4.74, 4.76, 0.06]\n",
      "iter=7: rev_ETO = 1.33705, price_ETO = [3.3, 4.59, 4.75, 4.95, 3.81]\n",
      "iter=8: rev_ETO = 0.258173, price_ETO = [4.48, 2.37, 1.88, 0.07, 4.38]\n",
      "iter=9: rev_ETO = 1.724942, price_ETO = [3.92, 0.85, 2.56, 4.94, 4.82]\n",
      "iter=10: rev_ETO = 1.68644, price_ETO = [3.91, 4.91, 2.11, 4.57, 4.97]\n",
      "Rev_ETO/Rev_Oracle = [0.4157, 0.7663, 0.9791, 0.5665, 0.9792, 0.3144, 0.4808, 1.0, 0.925, 0.8696]\n"
     ]
    }
   ],
   "source": [
    "RST_ETO = Run_ETO(iterations, N, N_u, K, Input_Data,print_flag);\n",
    "Rev_ETO = [RST_ETO[\"iter=$(iter)_Rev\"] for iter in 1:iterations]\n",
    "println(\"Rev_ETO/Rev_Oracle = \",round.(Rev_ETO./Rev_Oracle,digits=4))\n",
    "save(string(this_data_file, \"RST_ETO.jld2\"), RST_ETO);"
   ]
  },
  {
   "cell_type": "markdown",
   "id": "5c54f0ee",
   "metadata": {},
   "source": [
    "- Run RO under different uncertainty set"
   ]
  },
  {
   "cell_type": "code",
   "execution_count": 27,
   "id": "964da926",
   "metadata": {},
   "outputs": [
    {
     "name": "stdout",
     "output_type": "stream",
     "text": [
      "Running RO with RO_coef = 0.0\n"
     ]
    }
   ],
   "source": [
    "model_name=\"Two_Side\"\n",
    "RST_RO = Dict(); Rev_RO = Dict();\n",
    "for RO_coef in RO_coef_all\n",
    "    println(\"Running RO with RO_coef = \",RO_coef)\n",
    "    RST_RO_this = Run_RO_with_RO_coef(RO_coef, iterations, N, N_u, K, Input_Data, 0.0,model_name,false);\n",
    "    RST_RO[\"RO_coef=$(RO_coef)\"] = RST_RO_this\n",
    "    Rev_RO[\"RO_coef=$(RO_coef)\"] = [RST_RO_this[\"iter=$(iter)_Rev\"] for iter in 1:iterations]\n",
    "end\n",
    "save(string(this_data_file, \"RST_RO.jld2\"), RST_RO);"
   ]
  },
  {
   "cell_type": "code",
   "execution_count": 11,
   "id": "20974eb4",
   "metadata": {},
   "outputs": [
    {
     "name": "stdout",
     "output_type": "stream",
     "text": [
      "Mean Rev_Oracle: 1.89130593520825\n",
      "Mean Rev_ETO: 1.3214652190621745\n",
      "Mean Rev_RO: [1.3214652190621745]\n"
     ]
    }
   ],
   "source": [
    "Rev_Oracle = [RST_Oracle[\"iter=$(iter)_Rev\"] for iter in 1:iterations];\n",
    "Rev_ETO = [RST_ETO[\"iter=$(iter)_Rev\"] for iter in 1:iterations];\n",
    "Rev_RO = Dict();\n",
    "for RO_coef in RO_coef_all\n",
    "    RST_RO_this = RST_RO[\"RO_coef=$(RO_coef)\"]\n",
    "    Rev_RO[\"RO_coef=$(RO_coef)\"] = [RST_RO_this[\"iter=$(iter)_Rev\"] for iter in 1:iterations];\n",
    "end\n",
    "\n",
    "println(\"Mean Rev_Oracle: \", mean(Rev_Oracle));\n",
    "println(\"Mean Rev_ETO: \", mean(Rev_ETO));\n",
    "Rev_RO_Avg = [mean(Rev_RO[\"RO_coef=$(RO_coef)\"]) for RO_coef in RO_coef_all];\n",
    "println(\"Mean Rev_RO: \", Rev_RO_Avg);"
   ]
  },
  {
   "cell_type": "code",
   "execution_count": 12,
   "id": "2aff52c8",
   "metadata": {},
   "outputs": [
    {
     "data": {
      "image/png": "[encoded data removed]",
      "image/svg+xml": [
       "<?xml version=\"1.0\" encoding=\"utf-8\"?>\n",
       "<svg xmlns=\"http://www.w3.org/2000/svg\" xmlns:xlink=\"http://www.w3.org/1999/xlink\" width=\"600\" height=\"400\" viewBox=\"0 0 2400 1600\">\n",
       "<defs>\n",
       "  <clipPath id=\"clip410\">\n",
       "    <rect x=\"0\" y=\"0\" width=\"2400\" height=\"1600\"/>\n",
       "  </clipPath>\n",
       "</defs>\n",
       "<path clip-path=\"url(#clip410)\" d=\"M0 1600 L2400 1600 L2400 8.88178e-14 L0 8.88178e-14  Z\" fill=\"#ffffff\" fill-rule=\"evenodd\" fill-opacity=\"1\"/>\n",
       "<defs>\n",
       "  <clipPath id=\"clip411\">\n",
       "    <rect x=\"480\" y=\"0\" width=\"1681\" height=\"1600\"/>\n",
       "  </clipPath>\n",
       "</defs>\n",
       "<path clip-path=\"url(#clip410)\" d=\"M249.195 1423.18 L2352.76 1423.18 L2352.76 47.2441 L249.195 47.2441  Z\" fill=\"#ffffff\" fill-rule=\"evenodd\" fill-opacity=\"1\"/>\n",
       "<defs>\n",
       "  <clipPath id=\"clip412\">\n",
       "    <rect x=\"249\" y=\"47\" width=\"2105\" height=\"1377\"/>\n",
       "  </clipPath>\n",
       "</defs>\n",
       "<polyline clip-path=\"url(#clip412)\" style=\"stroke:#000000; stroke-linecap:round; stroke-linejoin:round; stroke-width:2; stroke-opacity:0.1; fill:none\" points=\"308.73,1423.18 308.73,47.2441 \"/>\n",
       "<polyline clip-path=\"url(#clip412)\" style=\"stroke:#000000; stroke-linecap:round; stroke-linejoin:round; stroke-width:2; stroke-opacity:0.1; fill:none\" points=\"804.852,1423.18 804.852,47.2441 \"/>\n",
       "<polyline clip-path=\"url(#clip412)\" style=\"stroke:#000000; stroke-linecap:round; stroke-linejoin:round; stroke-width:2; stroke-opacity:0.1; fill:none\" points=\"1300.98,1423.18 1300.98,47.2441 \"/>\n",
       "<polyline clip-path=\"url(#clip412)\" style=\"stroke:#000000; stroke-linecap:round; stroke-linejoin:round; stroke-width:2; stroke-opacity:0.1; fill:none\" points=\"1797.1,1423.18 1797.1,47.2441 \"/>\n",
       "<polyline clip-path=\"url(#clip412)\" style=\"stroke:#000000; stroke-linecap:round; stroke-linejoin:round; stroke-width:2; stroke-opacity:0.1; fill:none\" points=\"2293.22,1423.18 2293.22,47.2441 \"/>\n",
       "<polyline clip-path=\"url(#clip410)\" style=\"stroke:#000000; stroke-linecap:round; stroke-linejoin:round; stroke-width:4; stroke-opacity:1; fill:none\" points=\"249.195,1423.18 2352.76,1423.18 \"/>\n",
       "<polyline clip-path=\"url(#clip410)\" style=\"stroke:#000000; stroke-linecap:round; stroke-linejoin:round; stroke-width:4; stroke-opacity:1; fill:none\" points=\"308.73,1423.18 308.73,1404.28 \"/>\n",
       "<polyline clip-path=\"url(#clip410)\" style=\"stroke:#000000; stroke-linecap:round; stroke-linejoin:round; stroke-width:4; stroke-opacity:1; fill:none\" points=\"804.852,1423.18 804.852,1404.28 \"/>\n",
       "<polyline clip-path=\"url(#clip410)\" style=\"stroke:#000000; stroke-linecap:round; stroke-linejoin:round; stroke-width:4; stroke-opacity:1; fill:none\" points=\"1300.98,1423.18 1300.98,1404.28 \"/>\n",
       "<polyline clip-path=\"url(#clip410)\" style=\"stroke:#000000; stroke-linecap:round; stroke-linejoin:round; stroke-width:4; stroke-opacity:1; fill:none\" points=\"1797.1,1423.18 1797.1,1404.28 \"/>\n",
       "<polyline clip-path=\"url(#clip410)\" style=\"stroke:#000000; stroke-linecap:round; stroke-linejoin:round; stroke-width:4; stroke-opacity:1; fill:none\" points=\"2293.22,1423.18 2293.22,1404.28 \"/>\n",
       "<path clip-path=\"url(#clip410)\" d=\"M271.033 1454.1 Q267.422 1454.1 265.593 1457.66 Q263.788 1461.2 263.788 1468.33 Q263.788 1475.44 265.593 1479.01 Q267.422 1482.55 271.033 1482.55 Q274.667 1482.55 276.473 1479.01 Q278.301 1475.44 278.301 1468.33 Q278.301 1461.2 276.473 1457.66 Q274.667 1454.1 271.033 1454.1 M271.033 1450.39 Q276.843 1450.39 279.899 1455 Q282.977 1459.58 282.977 1468.33 Q282.977 1477.06 279.899 1481.67 Q276.843 1486.25 271.033 1486.25 Q265.223 1486.25 262.144 1481.67 Q259.089 1477.06 259.089 1468.33 Q259.089 1459.58 262.144 1455 Q265.223 1450.39 271.033 1450.39 Z\" fill=\"#000000\" fill-rule=\"nonzero\" fill-opacity=\"1\" /><path clip-path=\"url(#clip410)\" d=\"M291.195 1479.7 L296.079 1479.7 L296.079 1485.58 L291.195 1485.58 L291.195 1479.7 Z\" fill=\"#000000\" fill-rule=\"nonzero\" fill-opacity=\"1\" /><path clip-path=\"url(#clip410)\" d=\"M316.264 1454.1 Q312.653 1454.1 310.824 1457.66 Q309.019 1461.2 309.019 1468.33 Q309.019 1475.44 310.824 1479.01 Q312.653 1482.55 316.264 1482.55 Q319.898 1482.55 321.704 1479.01 Q323.533 1475.44 323.533 1468.33 Q323.533 1461.2 321.704 1457.66 Q319.898 1454.1 316.264 1454.1 M316.264 1450.39 Q322.074 1450.39 325.13 1455 Q328.209 1459.58 328.209 1468.33 Q328.209 1477.06 325.13 1481.67 Q322.074 1486.25 316.264 1486.25 Q310.454 1486.25 307.375 1481.67 Q304.32 1477.06 304.32 1468.33 Q304.32 1459.58 307.375 1455 Q310.454 1450.39 316.264 1450.39 Z\" fill=\"#000000\" fill-rule=\"nonzero\" fill-opacity=\"1\" /><path clip-path=\"url(#clip410)\" d=\"M346.426 1454.1 Q342.815 1454.1 340.986 1457.66 Q339.181 1461.2 339.181 1468.33 Q339.181 1475.44 340.986 1479.01 Q342.815 1482.55 346.426 1482.55 Q350.06 1482.55 351.866 1479.01 Q353.695 1475.44 353.695 1468.33 Q353.695 1461.2 351.866 1457.66 Q350.06 1454.1 346.426 1454.1 M346.426 1450.39 Q352.236 1450.39 355.292 1455 Q358.37 1459.58 358.37 1468.33 Q358.37 1477.06 355.292 1481.67 Q352.236 1486.25 346.426 1486.25 Q340.616 1486.25 337.537 1481.67 Q334.482 1477.06 334.482 1468.33 Q334.482 1459.58 337.537 1455 Q340.616 1450.39 346.426 1450.39 Z\" fill=\"#000000\" fill-rule=\"nonzero\" fill-opacity=\"1\" /><path clip-path=\"url(#clip410)\" d=\"M767.654 1454.1 Q764.042 1454.1 762.214 1457.66 Q760.408 1461.2 760.408 1468.33 Q760.408 1475.44 762.214 1479.01 Q764.042 1482.55 767.654 1482.55 Q771.288 1482.55 773.093 1479.01 Q774.922 1475.44 774.922 1468.33 Q774.922 1461.2 773.093 1457.66 Q771.288 1454.1 767.654 1454.1 M767.654 1450.39 Q773.464 1450.39 776.519 1455 Q779.598 1459.58 779.598 1468.33 Q779.598 1477.06 776.519 1481.67 Q773.464 1486.25 767.654 1486.25 Q761.843 1486.25 758.765 1481.67 Q755.709 1477.06 755.709 1468.33 Q755.709 1459.58 758.765 1455 Q761.843 1450.39 767.654 1450.39 Z\" fill=\"#000000\" fill-rule=\"nonzero\" fill-opacity=\"1\" /><path clip-path=\"url(#clip410)\" d=\"M787.816 1479.7 L792.7 1479.7 L792.7 1485.58 L787.816 1485.58 L787.816 1479.7 Z\" fill=\"#000000\" fill-rule=\"nonzero\" fill-opacity=\"1\" /><path clip-path=\"url(#clip410)\" d=\"M806.913 1481.64 L823.232 1481.64 L823.232 1485.58 L801.288 1485.58 L801.288 1481.64 Q803.95 1478.89 808.533 1474.26 Q813.139 1469.61 814.32 1468.27 Q816.565 1465.74 817.445 1464.01 Q818.348 1462.25 818.348 1460.56 Q818.348 1457.8 816.403 1456.07 Q814.482 1454.33 811.38 1454.33 Q809.181 1454.33 806.727 1455.09 Q804.297 1455.86 801.519 1457.41 L801.519 1452.69 Q804.343 1451.55 806.797 1450.97 Q809.251 1450.39 811.288 1450.39 Q816.658 1450.39 819.852 1453.08 Q823.047 1455.77 823.047 1460.26 Q823.047 1462.39 822.237 1464.31 Q821.45 1466.2 819.343 1468.8 Q818.764 1469.47 815.663 1472.69 Q812.561 1475.88 806.913 1481.64 Z\" fill=\"#000000\" fill-rule=\"nonzero\" fill-opacity=\"1\" /><path clip-path=\"url(#clip410)\" d=\"M833.093 1451.02 L851.449 1451.02 L851.449 1454.96 L837.375 1454.96 L837.375 1463.43 Q838.394 1463.08 839.412 1462.92 Q840.431 1462.73 841.449 1462.73 Q847.236 1462.73 850.616 1465.9 Q853.996 1469.08 853.996 1474.49 Q853.996 1480.07 850.524 1483.17 Q847.051 1486.25 840.732 1486.25 Q838.556 1486.25 836.287 1485.88 Q834.042 1485.51 831.635 1484.77 L831.635 1480.07 Q833.718 1481.2 835.94 1481.76 Q838.162 1482.32 840.639 1482.32 Q844.644 1482.32 846.982 1480.21 Q849.32 1478.1 849.32 1474.49 Q849.32 1470.88 846.982 1468.77 Q844.644 1466.67 840.639 1466.67 Q838.764 1466.67 836.889 1467.08 Q835.037 1467.5 833.093 1468.38 L833.093 1451.02 Z\" fill=\"#000000\" fill-rule=\"nonzero\" fill-opacity=\"1\" /><path clip-path=\"url(#clip410)\" d=\"M1263.28 1454.1 Q1259.67 1454.1 1257.84 1457.66 Q1256.03 1461.2 1256.03 1468.33 Q1256.03 1475.44 1257.84 1479.01 Q1259.67 1482.55 1263.28 1482.55 Q1266.91 1482.55 1268.72 1479.01 Q1270.55 1475.44 1270.55 1468.33 Q1270.55 1461.2 1268.72 1457.66 Q1266.91 1454.1 1263.28 1454.1 M1263.28 1450.39 Q1269.09 1450.39 1272.14 1455 Q1275.22 1459.58 1275.22 1468.33 Q1275.22 1477.06 1272.14 1481.67 Q1269.09 1486.25 1263.28 1486.25 Q1257.47 1486.25 1254.39 1481.67 Q1251.33 1477.06 1251.33 1468.33 Q1251.33 1459.58 1254.39 1455 Q1257.47 1450.39 1263.28 1450.39 Z\" fill=\"#000000\" fill-rule=\"nonzero\" fill-opacity=\"1\" /><path clip-path=\"url(#clip410)\" d=\"M1283.44 1479.7 L1288.32 1479.7 L1288.32 1485.58 L1283.44 1485.58 L1283.44 1479.7 Z\" fill=\"#000000\" fill-rule=\"nonzero\" fill-opacity=\"1\" /><path clip-path=\"url(#clip410)\" d=\"M1298.56 1451.02 L1316.91 1451.02 L1316.91 1454.96 L1302.84 1454.96 L1302.84 1463.43 Q1303.86 1463.08 1304.88 1462.92 Q1305.89 1462.73 1306.91 1462.73 Q1312.7 1462.73 1316.08 1465.9 Q1319.46 1469.08 1319.46 1474.49 Q1319.46 1480.07 1315.99 1483.17 Q1312.51 1486.25 1306.2 1486.25 Q1304.02 1486.25 1301.75 1485.88 Q1299.51 1485.51 1297.1 1484.77 L1297.1 1480.07 Q1299.18 1481.2 1301.4 1481.76 Q1303.63 1482.32 1306.1 1482.32 Q1310.11 1482.32 1312.45 1480.21 Q1314.78 1478.1 1314.78 1474.49 Q1314.78 1470.88 1312.45 1468.77 Q1310.11 1466.67 1306.1 1466.67 Q1304.23 1466.67 1302.35 1467.08 Q1300.5 1467.5 1298.56 1468.38 L1298.56 1451.02 Z\" fill=\"#000000\" fill-rule=\"nonzero\" fill-opacity=\"1\" /><path clip-path=\"url(#clip410)\" d=\"M1338.67 1454.1 Q1335.06 1454.1 1333.23 1457.66 Q1331.43 1461.2 1331.43 1468.33 Q1331.43 1475.44 1333.23 1479.01 Q1335.06 1482.55 1338.67 1482.55 Q1342.31 1482.55 1344.11 1479.01 Q1345.94 1475.44 1345.94 1468.33 Q1345.94 1461.2 1344.11 1457.66 Q1342.31 1454.1 1338.67 1454.1 M1338.67 1450.39 Q1344.48 1450.39 1347.54 1455 Q1350.62 1459.58 1350.62 1468.33 Q1350.62 1477.06 1347.54 1481.67 Q1344.48 1486.25 1338.67 1486.25 Q1332.86 1486.25 1329.78 1481.67 Q1326.73 1477.06 1326.73 1468.33 Q1326.73 1459.58 1329.78 1455 Q1332.86 1450.39 1338.67 1450.39 Z\" fill=\"#000000\" fill-rule=\"nonzero\" fill-opacity=\"1\" /><path clip-path=\"url(#clip410)\" d=\"M1759.9 1454.1 Q1756.29 1454.1 1754.46 1457.66 Q1752.65 1461.2 1752.65 1468.33 Q1752.65 1475.44 1754.46 1479.01 Q1756.29 1482.55 1759.9 1482.55 Q1763.53 1482.55 1765.34 1479.01 Q1767.17 1475.44 1767.17 1468.33 Q1767.17 1461.2 1765.34 1457.66 Q1763.53 1454.1 1759.9 1454.1 M1759.9 1450.39 Q1765.71 1450.39 1768.77 1455 Q1771.84 1459.58 1771.84 1468.33 Q1771.84 1477.06 1768.77 1481.67 Q1765.71 1486.25 1759.9 1486.25 Q1754.09 1486.25 1751.01 1481.67 Q1747.96 1477.06 1747.96 1468.33 Q1747.96 1459.58 1751.01 1455 Q1754.09 1450.39 1759.9 1450.39 Z\" fill=\"#000000\" fill-rule=\"nonzero\" fill-opacity=\"1\" /><path clip-path=\"url(#clip410)\" d=\"M1780.06 1479.7 L1784.95 1479.7 L1784.95 1485.58 L1780.06 1485.58 L1780.06 1479.7 Z\" fill=\"#000000\" fill-rule=\"nonzero\" fill-opacity=\"1\" /><path clip-path=\"url(#clip410)\" d=\"M1793.95 1451.02 L1816.17 1451.02 L1816.17 1453.01 L1803.63 1485.58 L1798.74 1485.58 L1810.55 1454.96 L1793.95 1454.96 L1793.95 1451.02 Z\" fill=\"#000000\" fill-rule=\"nonzero\" fill-opacity=\"1\" /><path clip-path=\"url(#clip410)\" d=\"M1825.34 1451.02 L1843.7 1451.02 L1843.7 1454.96 L1829.62 1454.96 L1829.62 1463.43 Q1830.64 1463.08 1831.66 1462.92 Q1832.68 1462.73 1833.7 1462.73 Q1839.48 1462.73 1842.86 1465.9 Q1846.24 1469.08 1846.24 1474.49 Q1846.24 1480.07 1842.77 1483.17 Q1839.3 1486.25 1832.98 1486.25 Q1830.8 1486.25 1828.53 1485.88 Q1826.29 1485.51 1823.88 1484.77 L1823.88 1480.07 Q1825.96 1481.2 1828.19 1481.76 Q1830.41 1482.32 1832.89 1482.32 Q1836.89 1482.32 1839.23 1480.21 Q1841.57 1478.1 1841.57 1474.49 Q1841.57 1470.88 1839.23 1468.77 Q1836.89 1466.67 1832.89 1466.67 Q1831.01 1466.67 1829.14 1467.08 Q1827.28 1467.5 1825.34 1468.38 L1825.34 1451.02 Z\" fill=\"#000000\" fill-rule=\"nonzero\" fill-opacity=\"1\" /><path clip-path=\"url(#clip410)\" d=\"M2245.29 1481.64 L2252.93 1481.64 L2252.93 1455.28 L2244.62 1456.95 L2244.62 1452.69 L2252.89 1451.02 L2257.56 1451.02 L2257.56 1481.64 L2265.2 1481.64 L2265.2 1485.58 L2245.29 1485.58 L2245.29 1481.64 Z\" fill=\"#000000\" fill-rule=\"nonzero\" fill-opacity=\"1\" /><path clip-path=\"url(#clip410)\" d=\"M2274.64 1479.7 L2279.53 1479.7 L2279.53 1485.58 L2274.64 1485.58 L2274.64 1479.7 Z\" fill=\"#000000\" fill-rule=\"nonzero\" fill-opacity=\"1\" /><path clip-path=\"url(#clip410)\" d=\"M2299.71 1454.1 Q2296.1 1454.1 2294.27 1457.66 Q2292.47 1461.2 2292.47 1468.33 Q2292.47 1475.44 2294.27 1479.01 Q2296.1 1482.55 2299.71 1482.55 Q2303.35 1482.55 2305.15 1479.01 Q2306.98 1475.44 2306.98 1468.33 Q2306.98 1461.2 2305.15 1457.66 Q2303.35 1454.1 2299.71 1454.1 M2299.71 1450.39 Q2305.52 1450.39 2308.58 1455 Q2311.66 1459.58 2311.66 1468.33 Q2311.66 1477.06 2308.58 1481.67 Q2305.52 1486.25 2299.71 1486.25 Q2293.9 1486.25 2290.83 1481.67 Q2287.77 1477.06 2287.77 1468.33 Q2287.77 1459.58 2290.83 1455 Q2293.9 1450.39 2299.71 1450.39 Z\" fill=\"#000000\" fill-rule=\"nonzero\" fill-opacity=\"1\" /><path clip-path=\"url(#clip410)\" d=\"M2329.88 1454.1 Q2326.26 1454.1 2324.44 1457.66 Q2322.63 1461.2 2322.63 1468.33 Q2322.63 1475.44 2324.44 1479.01 Q2326.26 1482.55 2329.88 1482.55 Q2333.51 1482.55 2335.32 1479.01 Q2337.14 1475.44 2337.14 1468.33 Q2337.14 1461.2 2335.32 1457.66 Q2333.51 1454.1 2329.88 1454.1 M2329.88 1450.39 Q2335.69 1450.39 2338.74 1455 Q2341.82 1459.58 2341.82 1468.33 Q2341.82 1477.06 2338.74 1481.67 Q2335.69 1486.25 2329.88 1486.25 Q2324.07 1486.25 2320.99 1481.67 Q2317.93 1477.06 2317.93 1468.33 Q2317.93 1459.58 2320.99 1455 Q2324.07 1450.39 2329.88 1450.39 Z\" fill=\"#000000\" fill-rule=\"nonzero\" fill-opacity=\"1\" /><path clip-path=\"url(#clip410)\" d=\"M1192.11 1545.76 Q1194.17 1546.46 1196.12 1548.76 Q1198.09 1551.05 1200.06 1555.06 L1206.59 1568.04 L1199.68 1568.04 L1193.6 1555.85 Q1191.25 1551.08 1189.02 1549.52 Q1186.82 1547.96 1183 1547.96 L1176 1547.96 L1176 1568.04 L1169.57 1568.04 L1169.57 1520.52 L1184.09 1520.52 Q1192.23 1520.52 1196.24 1523.93 Q1200.25 1527.34 1200.25 1534.21 Q1200.25 1538.7 1198.15 1541.66 Q1196.08 1544.62 1192.11 1545.76 M1176 1525.81 L1176 1542.68 L1184.09 1542.68 Q1188.73 1542.68 1191.09 1540.54 Q1193.47 1538.38 1193.47 1534.21 Q1193.47 1530.04 1191.09 1527.94 Q1188.73 1525.81 1184.09 1525.81 L1176 1525.81 Z\" fill=\"#000000\" fill-rule=\"nonzero\" fill-opacity=\"1\" /><path clip-path=\"url(#clip410)\" d=\"M1234.15 1524.88 Q1227.15 1524.88 1223.01 1530.1 Q1218.91 1535.32 1218.91 1544.33 Q1218.91 1553.31 1223.01 1558.53 Q1227.15 1563.75 1234.15 1563.75 Q1241.15 1563.75 1245.23 1558.53 Q1249.33 1553.31 1249.33 1544.33 Q1249.33 1535.32 1245.23 1530.1 Q1241.15 1524.88 1234.15 1524.88 M1234.15 1519.66 Q1244.15 1519.66 1250.13 1526.38 Q1256.11 1533.06 1256.11 1544.33 Q1256.11 1555.57 1250.13 1562.28 Q1244.15 1568.97 1234.15 1568.97 Q1224.13 1568.97 1218.11 1562.28 Q1212.13 1555.6 1212.13 1544.33 Q1212.13 1533.06 1218.11 1526.38 Q1224.13 1519.66 1234.15 1519.66 Z\" fill=\"#000000\" fill-rule=\"nonzero\" fill-opacity=\"1\" /><path clip-path=\"url(#clip410)\" d=\"M1293 1578.87 L1293 1583.42 L1259.14 1583.42 L1259.14 1578.87 L1293 1578.87 Z\" fill=\"#000000\" fill-rule=\"nonzero\" fill-opacity=\"1\" /><path clip-path=\"url(#clip410)\" d=\"M1324.16 1533.76 L1324.16 1539.24 Q1321.68 1537.87 1319.17 1537.2 Q1316.68 1536.5 1314.14 1536.5 Q1308.44 1536.5 1305.29 1540.13 Q1302.14 1543.73 1302.14 1550.25 Q1302.14 1556.78 1305.29 1560.4 Q1308.44 1564 1314.14 1564 Q1316.68 1564 1319.17 1563.33 Q1321.68 1562.63 1324.16 1561.26 L1324.16 1566.68 Q1321.71 1567.82 1319.07 1568.39 Q1316.46 1568.97 1313.5 1568.97 Q1305.45 1568.97 1300.7 1563.91 Q1295.96 1558.85 1295.96 1550.25 Q1295.96 1541.53 1300.74 1536.53 Q1305.54 1531.54 1313.88 1531.54 Q1316.59 1531.54 1319.17 1532.11 Q1321.74 1532.65 1324.16 1533.76 Z\" fill=\"#000000\" fill-rule=\"nonzero\" fill-opacity=\"1\" /><path clip-path=\"url(#clip410)\" d=\"M1348.16 1536.5 Q1343.45 1536.5 1340.71 1540.19 Q1337.98 1543.85 1337.98 1550.25 Q1337.98 1556.65 1340.68 1560.34 Q1343.42 1564 1348.16 1564 Q1352.84 1564 1355.58 1560.31 Q1358.31 1556.62 1358.31 1550.25 Q1358.31 1543.92 1355.58 1540.23 Q1352.84 1536.5 1348.16 1536.5 M1348.16 1531.54 Q1355.8 1531.54 1360.16 1536.5 Q1364.52 1541.47 1364.52 1550.25 Q1364.52 1559 1360.16 1564 Q1355.8 1568.97 1348.16 1568.97 Q1340.49 1568.97 1336.13 1564 Q1331.8 1559 1331.8 1550.25 Q1331.8 1541.47 1336.13 1536.5 Q1340.49 1531.54 1348.16 1531.54 Z\" fill=\"#000000\" fill-rule=\"nonzero\" fill-opacity=\"1\" /><path clip-path=\"url(#clip410)\" d=\"M1404.72 1548.76 L1404.72 1551.62 L1377.79 1551.62 Q1378.18 1557.67 1381.42 1560.85 Q1384.7 1564 1390.52 1564 Q1393.9 1564 1397.05 1563.17 Q1400.23 1562.35 1403.35 1560.69 L1403.35 1566.23 Q1400.2 1567.57 1396.89 1568.27 Q1393.58 1568.97 1390.17 1568.97 Q1381.64 1568.97 1376.65 1564 Q1371.68 1559.04 1371.68 1550.57 Q1371.68 1541.82 1376.39 1536.69 Q1381.14 1531.54 1389.16 1531.54 Q1396.35 1531.54 1400.52 1536.18 Q1404.72 1540.8 1404.72 1548.76 M1398.86 1547.04 Q1398.8 1542.23 1396.16 1539.37 Q1393.55 1536.5 1389.22 1536.5 Q1384.32 1536.5 1381.36 1539.27 Q1378.43 1542.04 1377.98 1547.07 L1398.86 1547.04 Z\" fill=\"#000000\" fill-rule=\"nonzero\" fill-opacity=\"1\" /><path clip-path=\"url(#clip410)\" d=\"M1432.38 1518.52 L1432.38 1523.39 L1426.78 1523.39 Q1423.63 1523.39 1422.39 1524.66 Q1421.18 1525.93 1421.18 1529.24 L1421.18 1532.4 L1430.82 1532.4 L1430.82 1536.95 L1421.18 1536.95 L1421.18 1568.04 L1415.29 1568.04 L1415.29 1536.95 L1409.69 1536.95 L1409.69 1532.4 L1415.29 1532.4 L1415.29 1529.91 Q1415.29 1523.96 1418.06 1521.26 Q1420.83 1518.52 1426.84 1518.52 L1432.38 1518.52 Z\" fill=\"#000000\" fill-rule=\"nonzero\" fill-opacity=\"1\" /><polyline clip-path=\"url(#clip412)\" style=\"stroke:#000000; stroke-linecap:round; stroke-linejoin:round; stroke-width:2; stroke-opacity:0.1; fill:none\" points=\"249.195,1384.24 2352.76,1384.24 \"/>\n",
       "<polyline clip-path=\"url(#clip412)\" style=\"stroke:#000000; stroke-linecap:round; stroke-linejoin:round; stroke-width:2; stroke-opacity:0.1; fill:none\" points=\"249.195,1059.73 2352.76,1059.73 \"/>\n",
       "<polyline clip-path=\"url(#clip412)\" style=\"stroke:#000000; stroke-linecap:round; stroke-linejoin:round; stroke-width:2; stroke-opacity:0.1; fill:none\" points=\"249.195,735.212 2352.76,735.212 \"/>\n",
       "<polyline clip-path=\"url(#clip412)\" style=\"stroke:#000000; stroke-linecap:round; stroke-linejoin:round; stroke-width:2; stroke-opacity:0.1; fill:none\" points=\"249.195,410.699 2352.76,410.699 \"/>\n",
       "<polyline clip-path=\"url(#clip412)\" style=\"stroke:#000000; stroke-linecap:round; stroke-linejoin:round; stroke-width:2; stroke-opacity:0.1; fill:none\" points=\"249.195,86.1857 2352.76,86.1857 \"/>\n",
       "<polyline clip-path=\"url(#clip410)\" style=\"stroke:#000000; stroke-linecap:round; stroke-linejoin:round; stroke-width:4; stroke-opacity:1; fill:none\" points=\"249.195,1423.18 249.195,47.2441 \"/>\n",
       "<polyline clip-path=\"url(#clip410)\" style=\"stroke:#000000; stroke-linecap:round; stroke-linejoin:round; stroke-width:4; stroke-opacity:1; fill:none\" points=\"249.195,1384.24 268.092,1384.24 \"/>\n",
       "<polyline clip-path=\"url(#clip410)\" style=\"stroke:#000000; stroke-linecap:round; stroke-linejoin:round; stroke-width:4; stroke-opacity:1; fill:none\" points=\"249.195,1059.73 268.092,1059.73 \"/>\n",
       "<polyline clip-path=\"url(#clip410)\" style=\"stroke:#000000; stroke-linecap:round; stroke-linejoin:round; stroke-width:4; stroke-opacity:1; fill:none\" points=\"249.195,735.212 268.092,735.212 \"/>\n",
       "<polyline clip-path=\"url(#clip410)\" style=\"stroke:#000000; stroke-linecap:round; stroke-linejoin:round; stroke-width:4; stroke-opacity:1; fill:none\" points=\"249.195,410.699 268.092,410.699 \"/>\n",
       "<polyline clip-path=\"url(#clip410)\" style=\"stroke:#000000; stroke-linecap:round; stroke-linejoin:round; stroke-width:4; stroke-opacity:1; fill:none\" points=\"249.195,86.1857 268.092,86.1857 \"/>\n",
       "<path clip-path=\"url(#clip410)\" d=\"M116.668 1397.58 L124.306 1397.58 L124.306 1371.22 L115.996 1372.88 L115.996 1368.62 L124.26 1366.96 L128.936 1366.96 L128.936 1397.58 L136.575 1397.58 L136.575 1401.52 L116.668 1401.52 L116.668 1397.58 Z\" fill=\"#000000\" fill-rule=\"nonzero\" fill-opacity=\"1\" /><path clip-path=\"url(#clip410)\" d=\"M146.019 1395.64 L150.903 1395.64 L150.903 1401.52 L146.019 1401.52 L146.019 1395.64 Z\" fill=\"#000000\" fill-rule=\"nonzero\" fill-opacity=\"1\" /><path clip-path=\"url(#clip410)\" d=\"M171.089 1370.04 Q167.477 1370.04 165.649 1373.6 Q163.843 1377.14 163.843 1384.27 Q163.843 1391.38 165.649 1394.94 Q167.477 1398.49 171.089 1398.49 Q174.723 1398.49 176.528 1394.94 Q178.357 1391.38 178.357 1384.27 Q178.357 1377.14 176.528 1373.6 Q174.723 1370.04 171.089 1370.04 M171.089 1366.33 Q176.899 1366.33 179.954 1370.94 Q183.033 1375.52 183.033 1384.27 Q183.033 1393 179.954 1397.61 Q176.899 1402.19 171.089 1402.19 Q165.278 1402.19 162.2 1397.61 Q159.144 1393 159.144 1384.27 Q159.144 1375.52 162.2 1370.94 Q165.278 1366.33 171.089 1366.33 Z\" fill=\"#000000\" fill-rule=\"nonzero\" fill-opacity=\"1\" /><path clip-path=\"url(#clip410)\" d=\"M201.25 1370.04 Q197.639 1370.04 195.811 1373.6 Q194.005 1377.14 194.005 1384.27 Q194.005 1391.38 195.811 1394.94 Q197.639 1398.49 201.25 1398.49 Q204.885 1398.49 206.69 1394.94 Q208.519 1391.38 208.519 1384.27 Q208.519 1377.14 206.69 1373.6 Q204.885 1370.04 201.25 1370.04 M201.25 1366.33 Q207.061 1366.33 210.116 1370.94 Q213.195 1375.52 213.195 1384.27 Q213.195 1393 210.116 1397.61 Q207.061 1402.19 201.25 1402.19 Q195.44 1402.19 192.362 1397.61 Q189.306 1393 189.306 1384.27 Q189.306 1375.52 192.362 1370.94 Q195.44 1366.33 201.25 1366.33 Z\" fill=\"#000000\" fill-rule=\"nonzero\" fill-opacity=\"1\" /><path clip-path=\"url(#clip410)\" d=\"M117.663 1073.07 L125.302 1073.07 L125.302 1046.7 L116.992 1048.37 L116.992 1044.11 L125.255 1042.45 L129.931 1042.45 L129.931 1073.07 L137.57 1073.07 L137.57 1077.01 L117.663 1077.01 L117.663 1073.07 Z\" fill=\"#000000\" fill-rule=\"nonzero\" fill-opacity=\"1\" /><path clip-path=\"url(#clip410)\" d=\"M147.015 1071.13 L151.899 1071.13 L151.899 1077.01 L147.015 1077.01 L147.015 1071.13 Z\" fill=\"#000000\" fill-rule=\"nonzero\" fill-opacity=\"1\" /><path clip-path=\"url(#clip410)\" d=\"M166.112 1073.07 L182.431 1073.07 L182.431 1077.01 L160.487 1077.01 L160.487 1073.07 Q163.149 1070.32 167.732 1065.69 Q172.339 1061.03 173.519 1059.69 Q175.764 1057.17 176.644 1055.43 Q177.547 1053.67 177.547 1051.98 Q177.547 1049.23 175.602 1047.49 Q173.681 1045.76 170.579 1045.76 Q168.38 1045.76 165.927 1046.52 Q163.496 1047.28 160.718 1048.83 L160.718 1044.11 Q163.542 1042.98 165.996 1042.4 Q168.45 1041.82 170.487 1041.82 Q175.857 1041.82 179.051 1044.51 Q182.246 1047.19 182.246 1051.68 Q182.246 1053.81 181.436 1055.73 Q180.649 1057.63 178.542 1060.22 Q177.964 1060.89 174.862 1064.11 Q171.76 1067.31 166.112 1073.07 Z\" fill=\"#000000\" fill-rule=\"nonzero\" fill-opacity=\"1\" /><path clip-path=\"url(#clip410)\" d=\"M192.292 1042.45 L210.649 1042.45 L210.649 1046.38 L196.575 1046.38 L196.575 1054.85 Q197.593 1054.51 198.612 1054.34 Q199.63 1054.16 200.649 1054.16 Q206.436 1054.16 209.815 1057.33 Q213.195 1060.5 213.195 1065.92 Q213.195 1071.5 209.723 1074.6 Q206.25 1077.68 199.931 1077.68 Q197.755 1077.68 195.487 1077.31 Q193.241 1076.94 190.834 1076.19 L190.834 1071.5 Q192.917 1072.63 195.139 1073.19 Q197.362 1073.74 199.838 1073.74 Q203.843 1073.74 206.181 1071.63 Q208.519 1069.53 208.519 1065.92 Q208.519 1062.31 206.181 1060.2 Q203.843 1058.09 199.838 1058.09 Q197.963 1058.09 196.088 1058.51 Q194.237 1058.93 192.292 1059.81 L192.292 1042.45 Z\" fill=\"#000000\" fill-rule=\"nonzero\" fill-opacity=\"1\" /><path clip-path=\"url(#clip410)\" d=\"M116.668 748.557 L124.306 748.557 L124.306 722.191 L115.996 723.858 L115.996 719.599 L124.26 717.932 L128.936 717.932 L128.936 748.557 L136.575 748.557 L136.575 752.492 L116.668 752.492 L116.668 748.557 Z\" fill=\"#000000\" fill-rule=\"nonzero\" fill-opacity=\"1\" /><path clip-path=\"url(#clip410)\" d=\"M146.019 746.612 L150.903 746.612 L150.903 752.492 L146.019 752.492 L146.019 746.612 Z\" fill=\"#000000\" fill-rule=\"nonzero\" fill-opacity=\"1\" /><path clip-path=\"url(#clip410)\" d=\"M161.135 717.932 L179.491 717.932 L179.491 721.867 L165.417 721.867 L165.417 730.339 Q166.436 729.992 167.454 729.83 Q168.473 729.645 169.491 729.645 Q175.278 729.645 178.658 732.816 Q182.038 735.987 182.038 741.404 Q182.038 746.983 178.565 750.085 Q175.093 753.163 168.774 753.163 Q166.598 753.163 164.329 752.793 Q162.084 752.423 159.677 751.682 L159.677 746.983 Q161.76 748.117 163.982 748.673 Q166.204 749.228 168.681 749.228 Q172.686 749.228 175.024 747.122 Q177.362 745.015 177.362 741.404 Q177.362 737.793 175.024 735.687 Q172.686 733.58 168.681 733.58 Q166.806 733.58 164.931 733.997 Q163.079 734.413 161.135 735.293 L161.135 717.932 Z\" fill=\"#000000\" fill-rule=\"nonzero\" fill-opacity=\"1\" /><path clip-path=\"url(#clip410)\" d=\"M201.25 721.011 Q197.639 721.011 195.811 724.575 Q194.005 728.117 194.005 735.247 Q194.005 742.353 195.811 745.918 Q197.639 749.46 201.25 749.46 Q204.885 749.46 206.69 745.918 Q208.519 742.353 208.519 735.247 Q208.519 728.117 206.69 724.575 Q204.885 721.011 201.25 721.011 M201.25 717.307 Q207.061 717.307 210.116 721.913 Q213.195 726.497 213.195 735.247 Q213.195 743.973 210.116 748.58 Q207.061 753.163 201.25 753.163 Q195.44 753.163 192.362 748.58 Q189.306 743.973 189.306 735.247 Q189.306 726.497 192.362 721.913 Q195.44 717.307 201.25 717.307 Z\" fill=\"#000000\" fill-rule=\"nonzero\" fill-opacity=\"1\" /><path clip-path=\"url(#clip410)\" d=\"M117.663 424.044 L125.302 424.044 L125.302 397.678 L116.992 399.345 L116.992 395.085 L125.255 393.419 L129.931 393.419 L129.931 424.044 L137.57 424.044 L137.57 427.979 L117.663 427.979 L117.663 424.044 Z\" fill=\"#000000\" fill-rule=\"nonzero\" fill-opacity=\"1\" /><path clip-path=\"url(#clip410)\" d=\"M147.015 422.099 L151.899 422.099 L151.899 427.979 L147.015 427.979 L147.015 422.099 Z\" fill=\"#000000\" fill-rule=\"nonzero\" fill-opacity=\"1\" /><path clip-path=\"url(#clip410)\" d=\"M160.903 393.419 L183.126 393.419 L183.126 395.41 L170.579 427.979 L165.695 427.979 L177.501 397.354 L160.903 397.354 L160.903 393.419 Z\" fill=\"#000000\" fill-rule=\"nonzero\" fill-opacity=\"1\" /><path clip-path=\"url(#clip410)\" d=\"M192.292 393.419 L210.649 393.419 L210.649 397.354 L196.575 397.354 L196.575 405.826 Q197.593 405.479 198.612 405.317 Q199.63 405.132 200.649 405.132 Q206.436 405.132 209.815 408.303 Q213.195 411.474 213.195 416.891 Q213.195 422.47 209.723 425.571 Q206.25 428.65 199.931 428.65 Q197.755 428.65 195.487 428.28 Q193.241 427.909 190.834 427.169 L190.834 422.47 Q192.917 423.604 195.139 424.159 Q197.362 424.715 199.838 424.715 Q203.843 424.715 206.181 422.608 Q208.519 420.502 208.519 416.891 Q208.519 413.28 206.181 411.173 Q203.843 409.067 199.838 409.067 Q197.963 409.067 196.088 409.484 Q194.237 409.9 192.292 410.78 L192.292 393.419 Z\" fill=\"#000000\" fill-rule=\"nonzero\" fill-opacity=\"1\" /><path clip-path=\"url(#clip410)\" d=\"M119.885 99.5305 L136.204 99.5305 L136.204 103.466 L114.26 103.466 L114.26 99.5305 Q116.922 96.7759 121.505 92.1463 Q126.112 87.4935 127.292 86.151 Q129.538 83.6278 130.417 81.8917 Q131.32 80.1325 131.32 78.4427 Q131.32 75.688 129.376 73.9519 Q127.455 72.2158 124.353 72.2158 Q122.154 72.2158 119.7 72.9797 Q117.269 73.7436 114.492 75.2945 L114.492 70.5723 Q117.316 69.4381 119.769 68.8594 Q122.223 68.2807 124.26 68.2807 Q129.63 68.2807 132.825 70.9658 Q136.019 73.651 136.019 78.1417 Q136.019 80.2714 135.209 82.1926 Q134.422 84.0908 132.316 86.6834 Q131.737 87.3546 128.635 90.5722 Q125.533 93.7667 119.885 99.5305 Z\" fill=\"#000000\" fill-rule=\"nonzero\" fill-opacity=\"1\" /><path clip-path=\"url(#clip410)\" d=\"M146.019 97.5861 L150.903 97.5861 L150.903 103.466 L146.019 103.466 L146.019 97.5861 Z\" fill=\"#000000\" fill-rule=\"nonzero\" fill-opacity=\"1\" /><path clip-path=\"url(#clip410)\" d=\"M171.089 71.9844 Q167.477 71.9844 165.649 75.5492 Q163.843 79.0908 163.843 86.2204 Q163.843 93.3268 165.649 96.8916 Q167.477 100.433 171.089 100.433 Q174.723 100.433 176.528 96.8916 Q178.357 93.3268 178.357 86.2204 Q178.357 79.0908 176.528 75.5492 Q174.723 71.9844 171.089 71.9844 M171.089 68.2807 Q176.899 68.2807 179.954 72.8871 Q183.033 77.4704 183.033 86.2204 Q183.033 94.9472 179.954 99.5537 Q176.899 104.137 171.089 104.137 Q165.278 104.137 162.2 99.5537 Q159.144 94.9472 159.144 86.2204 Q159.144 77.4704 162.2 72.8871 Q165.278 68.2807 171.089 68.2807 Z\" fill=\"#000000\" fill-rule=\"nonzero\" fill-opacity=\"1\" /><path clip-path=\"url(#clip410)\" d=\"M201.25 71.9844 Q197.639 71.9844 195.811 75.5492 Q194.005 79.0908 194.005 86.2204 Q194.005 93.3268 195.811 96.8916 Q197.639 100.433 201.25 100.433 Q204.885 100.433 206.69 96.8916 Q208.519 93.3268 208.519 86.2204 Q208.519 79.0908 206.69 75.5492 Q204.885 71.9844 201.25 71.9844 M201.25 68.2807 Q207.061 68.2807 210.116 72.8871 Q213.195 77.4704 213.195 86.2204 Q213.195 94.9472 210.116 99.5537 Q207.061 104.137 201.25 104.137 Q195.44 104.137 192.362 99.5537 Q189.306 94.9472 189.306 86.2204 Q189.306 77.4704 192.362 72.8871 Q195.44 68.2807 201.25 68.2807 Z\" fill=\"#000000\" fill-rule=\"nonzero\" fill-opacity=\"1\" /><path clip-path=\"url(#clip410)\" d=\"M41.7242 1159.63 Q42.4244 1157.56 44.7161 1155.62 Q47.0077 1153.65 51.0181 1151.67 L64.0042 1145.15 L64.0042 1152.05 L51.8138 1158.13 Q47.0395 1160.49 45.48 1162.72 Q43.9204 1164.91 43.9204 1168.73 L43.9204 1175.73 L64.0042 1175.73 L64.0042 1182.16 L16.4842 1182.16 L16.4842 1167.65 Q16.4842 1159.5 19.8898 1155.49 Q23.2955 1151.48 30.1704 1151.48 Q34.6582 1151.48 37.6183 1153.58 Q40.5784 1155.65 41.7242 1159.63 M21.7677 1175.73 L38.6368 1175.73 L38.6368 1167.65 Q38.6368 1163 36.5043 1160.65 Q34.34 1158.26 30.1704 1158.26 Q26.0009 1158.26 23.9002 1160.65 Q21.7677 1163 21.7677 1167.65 L21.7677 1175.73 Z\" fill=\"#000000\" fill-rule=\"nonzero\" fill-opacity=\"1\" /><path clip-path=\"url(#clip410)\" d=\"M44.7161 1109.56 L47.5806 1109.56 L47.5806 1136.49 Q53.6281 1136.11 56.8109 1132.86 Q59.9619 1129.58 59.9619 1123.76 Q59.9619 1120.38 59.1344 1117.23 Q58.3069 1114.05 56.6518 1110.93 L62.1899 1110.93 Q63.5267 1114.08 64.227 1117.39 Q64.9272 1120.7 64.9272 1124.11 Q64.9272 1132.64 59.9619 1137.64 Q54.9967 1142.6 46.5303 1142.6 Q37.7774 1142.6 32.6531 1137.89 Q27.4968 1133.15 27.4968 1125.13 Q27.4968 1117.93 32.1438 1113.76 Q36.7589 1109.56 44.7161 1109.56 M42.9973 1115.42 Q38.1912 1115.48 35.3266 1118.13 Q32.4621 1120.74 32.4621 1125.06 Q32.4621 1129.97 35.2312 1132.93 Q38.0002 1135.85 43.0292 1136.3 L42.9973 1115.42 Z\" fill=\"#000000\" fill-rule=\"nonzero\" fill-opacity=\"1\" /><path clip-path=\"url(#clip410)\" d=\"M28.3562 1104.15 L28.3562 1097.95 L58.275 1086.81 L28.3562 1075.67 L28.3562 1069.46 L64.0042 1082.83 L64.0042 1090.78 L28.3562 1104.15 Z\" fill=\"#000000\" fill-rule=\"nonzero\" fill-opacity=\"1\" /><path clip-path=\"url(#clip410)\" d=\"M74.8259 1034.29 L79.3773 1034.29 L79.3773 1068.15 L74.8259 1068.15 L74.8259 1034.29 Z\" fill=\"#000000\" fill-rule=\"nonzero\" fill-opacity=\"1\" /><path clip-path=\"url(#clip410)\" d=\"M41.7242 1005.99 Q42.4244 1003.92 44.7161 1001.98 Q47.0077 1000.01 51.0181 998.036 L64.0042 991.511 L64.0042 998.418 L51.8138 1004.5 Q47.0395 1006.85 45.48 1009.08 Q43.9204 1011.28 43.9204 1015.1 L43.9204 1022.1 L64.0042 1022.1 L64.0042 1028.53 L16.4842 1028.53 L16.4842 1014.01 Q16.4842 1005.87 19.8898 1001.86 Q23.2955 997.845 30.1704 997.845 Q34.6582 997.845 37.6183 999.946 Q40.5784 1002.01 41.7242 1005.99 M21.7677 1022.1 L38.6368 1022.1 L38.6368 1014.01 Q38.6368 1009.37 36.5043 1007.01 Q34.34 1004.62 30.1704 1004.62 Q26.0009 1004.62 23.9002 1007.01 Q21.7677 1009.37 21.7677 1014.01 L21.7677 1022.1 Z\" fill=\"#000000\" fill-rule=\"nonzero\" fill-opacity=\"1\" /><path clip-path=\"url(#clip410)\" d=\"M20.8447 963.948 Q20.8447 970.95 26.0645 975.088 Q31.2844 979.194 40.2919 979.194 Q49.2675 979.194 54.4874 975.088 Q59.7073 970.95 59.7073 963.948 Q59.7073 956.945 54.4874 952.871 Q49.2675 948.766 40.2919 948.766 Q31.2844 948.766 26.0645 952.871 Q20.8447 956.945 20.8447 963.948 M15.6248 963.948 Q15.6248 953.954 22.3406 947.97 Q29.0246 941.986 40.2919 941.986 Q51.5274 941.986 58.2432 947.97 Q64.9272 953.954 64.9272 963.948 Q64.9272 973.974 58.2432 979.989 Q51.5592 985.973 40.2919 985.973 Q29.0246 985.973 22.3406 979.989 Q15.6248 973.974 15.6248 963.948 Z\" fill=\"#000000\" fill-rule=\"nonzero\" fill-opacity=\"1\" /><path clip-path=\"url(#clip410)\" d=\"M74.8259 905.097 L79.3773 905.097 L79.3773 938.962 L74.8259 938.962 L74.8259 905.097 Z\" fill=\"#000000\" fill-rule=\"nonzero\" fill-opacity=\"1\" /><path clip-path=\"url(#clip410)\" d=\"M22.818 883.453 L46.4666 892.174 L46.4666 874.701 L22.818 883.453 M16.4842 887.082 L16.4842 879.793 L64.0042 861.683 L64.0042 868.367 L51.8138 872.695 L51.8138 894.116 L64.0042 898.445 L64.0042 905.224 L16.4842 887.082 Z\" fill=\"#000000\" fill-rule=\"nonzero\" fill-opacity=\"1\" /><path clip-path=\"url(#clip410)\" d=\"M28.3562 863.019 L28.3562 856.813 L58.275 845.673 L28.3562 834.533 L28.3562 828.326 L64.0042 841.694 L64.0042 849.651 L28.3562 863.019 Z\" fill=\"#000000\" fill-rule=\"nonzero\" fill-opacity=\"1\" /><path clip-path=\"url(#clip410)\" d=\"M45.7664 796.784 Q39.4007 796.784 35.8996 799.426 Q32.3984 802.036 32.3984 806.778 Q32.3984 811.489 35.8996 814.131 Q39.4007 816.741 45.7664 816.741 Q52.1003 816.741 55.6014 814.131 Q59.1026 811.489 59.1026 806.778 Q59.1026 802.036 55.6014 799.426 Q52.1003 796.784 45.7664 796.784 M59.58 790.928 Q68.683 790.928 73.1071 794.97 Q77.5631 799.012 77.5631 807.351 Q77.5631 810.439 77.0857 813.176 Q76.6401 815.913 75.6852 818.491 L69.9879 818.491 Q71.3884 815.913 72.0568 813.399 Q72.7252 810.884 72.7252 808.274 Q72.7252 802.513 69.7015 799.649 Q66.7096 796.784 60.6303 796.784 L57.7339 796.784 Q60.885 798.598 62.4446 801.431 Q64.0042 804.264 64.0042 808.211 Q64.0042 814.767 59.0071 818.778 Q54.01 822.788 45.7664 822.788 Q37.491 822.788 32.4939 818.778 Q27.4968 814.767 27.4968 808.211 Q27.4968 804.264 29.0564 801.431 Q30.616 798.598 33.7671 796.784 L28.3562 796.784 L28.3562 790.928 L59.58 790.928 Z\" fill=\"#000000\" fill-rule=\"nonzero\" fill-opacity=\"1\" /><path clip-path=\"url(#clip410)\" d=\"M16.4842 747.736 L16.4842 742.326 L70.0516 758.876 L70.0516 764.287 L16.4842 747.736 Z\" fill=\"#000000\" fill-rule=\"nonzero\" fill-opacity=\"1\" /><path clip-path=\"url(#clip410)\" d=\"M41.7242 692.673 Q42.4244 690.604 44.7161 688.663 Q47.0077 686.689 51.0181 684.716 L64.0042 678.191 L64.0042 685.098 L51.8138 691.177 Q47.0395 693.533 45.48 695.761 Q43.9204 697.957 43.9204 701.776 L43.9204 708.778 L64.0042 708.778 L64.0042 715.208 L16.4842 715.208 L16.4842 700.694 Q16.4842 692.546 19.8898 688.535 Q23.2955 684.525 30.1704 684.525 Q34.6582 684.525 37.6183 686.626 Q40.5784 688.695 41.7242 692.673 M21.7677 708.778 L38.6368 708.778 L38.6368 700.694 Q38.6368 696.047 36.5043 693.692 Q34.34 691.305 30.1704 691.305 Q26.0009 691.305 23.9002 693.692 Q21.7677 696.047 21.7677 700.694 L21.7677 708.778 Z\" fill=\"#000000\" fill-rule=\"nonzero\" fill-opacity=\"1\" /><path clip-path=\"url(#clip410)\" d=\"M44.7161 642.607 L47.5806 642.607 L47.5806 669.534 Q53.6281 669.152 56.8109 665.905 Q59.9619 662.627 59.9619 656.802 Q59.9619 653.429 59.1344 650.278 Q58.3069 647.095 56.6518 643.975 L62.1899 643.975 Q63.5267 647.127 64.227 650.437 Q64.9272 653.747 64.9272 657.152 Q64.9272 665.683 59.9619 670.68 Q54.9967 675.645 46.5303 675.645 Q37.7774 675.645 32.6531 670.934 Q27.4968 666.192 27.4968 658.171 Q27.4968 650.978 32.1438 646.808 Q36.7589 642.607 44.7161 642.607 M42.9973 648.463 Q38.1912 648.527 35.3266 651.169 Q32.4621 653.779 32.4621 658.107 Q32.4621 663.009 35.2312 665.969 Q38.0002 668.897 43.0292 669.343 L42.9973 648.463 Z\" fill=\"#000000\" fill-rule=\"nonzero\" fill-opacity=\"1\" /><path clip-path=\"url(#clip410)\" d=\"M28.3562 637.196 L28.3562 630.989 L58.275 619.849 L28.3562 608.709 L28.3562 602.503 L64.0042 615.871 L64.0042 623.828 L28.3562 637.196 Z\" fill=\"#000000\" fill-rule=\"nonzero\" fill-opacity=\"1\" /><path clip-path=\"url(#clip410)\" d=\"M74.8259 567.332 L79.3773 567.332 L79.3773 601.198 L74.8259 601.198 L74.8259 567.332 Z\" fill=\"#000000\" fill-rule=\"nonzero\" fill-opacity=\"1\" /><path clip-path=\"url(#clip410)\" d=\"M16.4842 561.571 L16.4842 531.525 L21.895 531.525 L21.895 555.142 L35.9632 555.142 L35.9632 532.512 L41.3741 532.512 L41.3741 555.142 L58.5933 555.142 L58.5933 530.952 L64.0042 530.952 L64.0042 561.571 L16.4842 561.571 Z\" fill=\"#000000\" fill-rule=\"nonzero\" fill-opacity=\"1\" /><path clip-path=\"url(#clip410)\" d=\"M16.4842 526.974 L16.4842 486.774 L21.895 486.774 L21.895 503.643 L64.0042 503.643 L64.0042 510.105 L21.895 510.105 L21.895 526.974 L16.4842 526.974 Z\" fill=\"#000000\" fill-rule=\"nonzero\" fill-opacity=\"1\" /><path clip-path=\"url(#clip410)\" d=\"M20.8447 461.28 Q20.8447 468.282 26.0645 472.42 Q31.2844 476.526 40.2919 476.526 Q49.2675 476.526 54.4874 472.42 Q59.7073 468.282 59.7073 461.28 Q59.7073 454.277 54.4874 450.203 Q49.2675 446.097 40.2919 446.097 Q31.2844 446.097 26.0645 450.203 Q20.8447 454.277 20.8447 461.28 M15.6248 461.28 Q15.6248 451.286 22.3406 445.302 Q29.0246 439.318 40.2919 439.318 Q51.5274 439.318 58.2432 445.302 Q64.9272 451.286 64.9272 461.28 Q64.9272 471.306 58.2432 477.321 Q51.5592 483.305 40.2919 483.305 Q29.0246 483.305 22.3406 477.321 Q15.6248 471.306 15.6248 461.28 Z\" fill=\"#000000\" fill-rule=\"nonzero\" fill-opacity=\"1\" /><path clip-path=\"url(#clip410)\" d=\"M74.8259 402.429 L79.3773 402.429 L79.3773 436.294 L74.8259 436.294 L74.8259 402.429 Z\" fill=\"#000000\" fill-rule=\"nonzero\" fill-opacity=\"1\" /><path clip-path=\"url(#clip410)\" d=\"M22.818 380.785 L46.4666 389.506 L46.4666 372.032 L22.818 380.785 M16.4842 384.414 L16.4842 377.125 L64.0042 359.015 L64.0042 365.699 L51.8138 370.027 L51.8138 391.448 L64.0042 395.777 L64.0042 402.556 L16.4842 384.414 Z\" fill=\"#000000\" fill-rule=\"nonzero\" fill-opacity=\"1\" /><path clip-path=\"url(#clip410)\" d=\"M28.3562 360.351 L28.3562 354.145 L58.275 343.005 L28.3562 331.865 L28.3562 325.658 L64.0042 339.026 L64.0042 346.983 L28.3562 360.351 Z\" fill=\"#000000\" fill-rule=\"nonzero\" fill-opacity=\"1\" /><path clip-path=\"url(#clip410)\" d=\"M45.7664 294.116 Q39.4007 294.116 35.8996 296.758 Q32.3984 299.368 32.3984 304.11 Q32.3984 308.821 35.8996 311.463 Q39.4007 314.073 45.7664 314.073 Q52.1003 314.073 55.6014 311.463 Q59.1026 308.821 59.1026 304.11 Q59.1026 299.368 55.6014 296.758 Q52.1003 294.116 45.7664 294.116 M59.58 288.26 Q68.683 288.26 73.1071 292.302 Q77.5631 296.344 77.5631 304.683 Q77.5631 307.771 77.0857 310.508 Q76.6401 313.245 75.6852 315.823 L69.9879 315.823 Q71.3884 313.245 72.0568 310.731 Q72.7252 308.216 72.7252 305.606 Q72.7252 299.845 69.7015 296.981 Q66.7096 294.116 60.6303 294.116 L57.7339 294.116 Q60.885 295.93 62.4446 298.763 Q64.0042 301.596 64.0042 305.543 Q64.0042 312.099 59.0071 316.11 Q54.01 320.12 45.7664 320.12 Q37.491 320.12 32.4939 316.11 Q27.4968 312.099 27.4968 305.543 Q27.4968 301.596 29.0564 298.763 Q30.616 295.93 33.7671 294.116 L28.3562 294.116 L28.3562 288.26 L59.58 288.26 Z\" fill=\"#000000\" fill-rule=\"nonzero\" fill-opacity=\"1\" /><path clip-path=\"url(#clip412)\" d=\"M308.73 1400.24 L297.418 1395.55 L292.73 1384.24 L297.418 1372.93 L308.73 1368.24 L320.042 1372.93 L324.73 1384.24 L320.042 1395.55 Z\" fill=\"#009af9\" fill-rule=\"evenodd\" fill-opacity=\"1\" stroke=\"#000000\" stroke-opacity=\"1\" stroke-width=\"3.2\"/>\n",
       "<polyline clip-path=\"url(#clip412)\" style=\"stroke:#ff0000; stroke-linecap:round; stroke-linejoin:round; stroke-width:4; stroke-opacity:1; fill:none\" stroke-dasharray=\"16, 10\" points=\"-1854.37,1384.24 4456.32,1384.24 \"/>\n",
       "</svg>\n"
      ],
      "text/html": [
       "<?xml version=\"1.0\" encoding=\"utf-8\"?>\n",
       "<svg xmlns=\"http://www.w3.org/2000/svg\" xmlns:xlink=\"http://www.w3.org/1999/xlink\" width=\"600\" height=\"400\" viewBox=\"0 0 2400 1600\">\n",
       "<defs>\n",
       "  <clipPath id=\"clip460\">\n",
       "    <rect x=\"0\" y=\"0\" width=\"2400\" height=\"1600\"/>\n",
       "  </clipPath>\n",
       "</defs>\n",
       "<path clip-path=\"url(#clip460)\" d=\"M0 1600 L2400 1600 L2400 8.88178e-14 L0 8.88178e-14  Z\" fill=\"#ffffff\" fill-rule=\"evenodd\" fill-opacity=\"1\"/>\n",
       "<defs>\n",
       "  <clipPath id=\"clip461\">\n",
       "    <rect x=\"480\" y=\"0\" width=\"1681\" height=\"1600\"/>\n",
       "  </clipPath>\n",
       "</defs>\n",
       "<path clip-path=\"url(#clip460)\" d=\"M249.195 1423.18 L2352.76 1423.18 L2352.76 47.2441 L249.195 47.2441  Z\" fill=\"#ffffff\" fill-rule=\"evenodd\" fill-opacity=\"1\"/>\n",
       "<defs>\n",
       "  <clipPath id=\"clip462\">\n",
       "    <rect x=\"249\" y=\"47\" width=\"2105\" height=\"1377\"/>\n",
       "  </clipPath>\n",
       "</defs>\n",
       "<polyline clip-path=\"url(#clip462)\" style=\"stroke:#000000; stroke-linecap:round; stroke-linejoin:round; stroke-width:2; stroke-opacity:0.1; fill:none\" points=\"308.73,1423.18 308.73,47.2441 \"/>\n",
       "<polyline clip-path=\"url(#clip462)\" style=\"stroke:#000000; stroke-linecap:round; stroke-linejoin:round; stroke-width:2; stroke-opacity:0.1; fill:none\" points=\"804.852,1423.18 804.852,47.2441 \"/>\n",
       "<polyline clip-path=\"url(#clip462)\" style=\"stroke:#000000; stroke-linecap:round; stroke-linejoin:round; stroke-width:2; stroke-opacity:0.1; fill:none\" points=\"1300.98,1423.18 1300.98,47.2441 \"/>\n",
       "<polyline clip-path=\"url(#clip462)\" style=\"stroke:#000000; stroke-linecap:round; stroke-linejoin:round; stroke-width:2; stroke-opacity:0.1; fill:none\" points=\"1797.1,1423.18 1797.1,47.2441 \"/>\n",
       "<polyline clip-path=\"url(#clip462)\" style=\"stroke:#000000; stroke-linecap:round; stroke-linejoin:round; stroke-width:2; stroke-opacity:0.1; fill:none\" points=\"2293.22,1423.18 2293.22,47.2441 \"/>\n",
       "<polyline clip-path=\"url(#clip460)\" style=\"stroke:#000000; stroke-linecap:round; stroke-linejoin:round; stroke-width:4; stroke-opacity:1; fill:none\" points=\"249.195,1423.18 2352.76,1423.18 \"/>\n",
       "<polyline clip-path=\"url(#clip460)\" style=\"stroke:#000000; stroke-linecap:round; stroke-linejoin:round; stroke-width:4; stroke-opacity:1; fill:none\" points=\"308.73,1423.18 308.73,1404.28 \"/>\n",
       "<polyline clip-path=\"url(#clip460)\" style=\"stroke:#000000; stroke-linecap:round; stroke-linejoin:round; stroke-width:4; stroke-opacity:1; fill:none\" points=\"804.852,1423.18 804.852,1404.28 \"/>\n",
       "<polyline clip-path=\"url(#clip460)\" style=\"stroke:#000000; stroke-linecap:round; stroke-linejoin:round; stroke-width:4; stroke-opacity:1; fill:none\" points=\"1300.98,1423.18 1300.98,1404.28 \"/>\n",
       "<polyline clip-path=\"url(#clip460)\" style=\"stroke:#000000; stroke-linecap:round; stroke-linejoin:round; stroke-width:4; stroke-opacity:1; fill:none\" points=\"1797.1,1423.18 1797.1,1404.28 \"/>\n",
       "<polyline clip-path=\"url(#clip460)\" style=\"stroke:#000000; stroke-linecap:round; stroke-linejoin:round; stroke-width:4; stroke-opacity:1; fill:none\" points=\"2293.22,1423.18 2293.22,1404.28 \"/>\n",
       "<path clip-path=\"url(#clip460)\" d=\"M271.033 1454.1 Q267.422 1454.1 265.593 1457.66 Q263.788 1461.2 263.788 1468.33 Q263.788 1475.44 265.593 1479.01 Q267.422 1482.55 271.033 1482.55 Q274.667 1482.55 276.473 1479.01 Q278.301 1475.44 278.301 1468.33 Q278.301 1461.2 276.473 1457.66 Q274.667 1454.1 271.033 1454.1 M271.033 1450.39 Q276.843 1450.39 279.899 1455 Q282.977 1459.58 282.977 1468.33 Q282.977 1477.06 279.899 1481.67 Q276.843 1486.25 271.033 1486.25 Q265.223 1486.25 262.144 1481.67 Q259.089 1477.06 259.089 1468.33 Q259.089 1459.58 262.144 1455 Q265.223 1450.39 271.033 1450.39 Z\" fill=\"#000000\" fill-rule=\"nonzero\" fill-opacity=\"1\" /><path clip-path=\"url(#clip460)\" d=\"M291.195 1479.7 L296.079 1479.7 L296.079 1485.58 L291.195 1485.58 L291.195 1479.7 Z\" fill=\"#000000\" fill-rule=\"nonzero\" fill-opacity=\"1\" /><path clip-path=\"url(#clip460)\" d=\"M316.264 1454.1 Q312.653 1454.1 310.824 1457.66 Q309.019 1461.2 309.019 1468.33 Q309.019 1475.44 310.824 1479.01 Q312.653 1482.55 316.264 1482.55 Q319.898 1482.55 321.704 1479.01 Q323.533 1475.44 323.533 1468.33 Q323.533 1461.2 321.704 1457.66 Q319.898 1454.1 316.264 1454.1 M316.264 1450.39 Q322.074 1450.39 325.13 1455 Q328.209 1459.58 328.209 1468.33 Q328.209 1477.06 325.13 1481.67 Q322.074 1486.25 316.264 1486.25 Q310.454 1486.25 307.375 1481.67 Q304.32 1477.06 304.32 1468.33 Q304.32 1459.58 307.375 1455 Q310.454 1450.39 316.264 1450.39 Z\" fill=\"#000000\" fill-rule=\"nonzero\" fill-opacity=\"1\" /><path clip-path=\"url(#clip460)\" d=\"M346.426 1454.1 Q342.815 1454.1 340.986 1457.66 Q339.181 1461.2 339.181 1468.33 Q339.181 1475.44 340.986 1479.01 Q342.815 1482.55 346.426 1482.55 Q350.06 1482.55 351.866 1479.01 Q353.695 1475.44 353.695 1468.33 Q353.695 1461.2 351.866 1457.66 Q350.06 1454.1 346.426 1454.1 M346.426 1450.39 Q352.236 1450.39 355.292 1455 Q358.37 1459.58 358.37 1468.33 Q358.37 1477.06 355.292 1481.67 Q352.236 1486.25 346.426 1486.25 Q340.616 1486.25 337.537 1481.67 Q334.482 1477.06 334.482 1468.33 Q334.482 1459.58 337.537 1455 Q340.616 1450.39 346.426 1450.39 Z\" fill=\"#000000\" fill-rule=\"nonzero\" fill-opacity=\"1\" /><path clip-path=\"url(#clip460)\" d=\"M767.654 1454.1 Q764.042 1454.1 762.214 1457.66 Q760.408 1461.2 760.408 1468.33 Q760.408 1475.44 762.214 1479.01 Q764.042 1482.55 767.654 1482.55 Q771.288 1482.55 773.093 1479.01 Q774.922 1475.44 774.922 1468.33 Q774.922 1461.2 773.093 1457.66 Q771.288 1454.1 767.654 1454.1 M767.654 1450.39 Q773.464 1450.39 776.519 1455 Q779.598 1459.58 779.598 1468.33 Q779.598 1477.06 776.519 1481.67 Q773.464 1486.25 767.654 1486.25 Q761.843 1486.25 758.765 1481.67 Q755.709 1477.06 755.709 1468.33 Q755.709 1459.58 758.765 1455 Q761.843 1450.39 767.654 1450.39 Z\" fill=\"#000000\" fill-rule=\"nonzero\" fill-opacity=\"1\" /><path clip-path=\"url(#clip460)\" d=\"M787.816 1479.7 L792.7 1479.7 L792.7 1485.58 L787.816 1485.58 L787.816 1479.7 Z\" fill=\"#000000\" fill-rule=\"nonzero\" fill-opacity=\"1\" /><path clip-path=\"url(#clip460)\" d=\"M806.913 1481.64 L823.232 1481.64 L823.232 1485.58 L801.288 1485.58 L801.288 1481.64 Q803.95 1478.89 808.533 1474.26 Q813.139 1469.61 814.32 1468.27 Q816.565 1465.74 817.445 1464.01 Q818.348 1462.25 818.348 1460.56 Q818.348 1457.8 816.403 1456.07 Q814.482 1454.33 811.38 1454.33 Q809.181 1454.33 806.727 1455.09 Q804.297 1455.86 801.519 1457.41 L801.519 1452.69 Q804.343 1451.55 806.797 1450.97 Q809.251 1450.39 811.288 1450.39 Q816.658 1450.39 819.852 1453.08 Q823.047 1455.77 823.047 1460.26 Q823.047 1462.39 822.237 1464.31 Q821.45 1466.2 819.343 1468.8 Q818.764 1469.47 815.663 1472.69 Q812.561 1475.88 806.913 1481.64 Z\" fill=\"#000000\" fill-rule=\"nonzero\" fill-opacity=\"1\" /><path clip-path=\"url(#clip460)\" d=\"M833.093 1451.02 L851.449 1451.02 L851.449 1454.96 L837.375 1454.96 L837.375 1463.43 Q838.394 1463.08 839.412 1462.92 Q840.431 1462.73 841.449 1462.73 Q847.236 1462.73 850.616 1465.9 Q853.996 1469.08 853.996 1474.49 Q853.996 1480.07 850.524 1483.17 Q847.051 1486.25 840.732 1486.25 Q838.556 1486.25 836.287 1485.88 Q834.042 1485.51 831.635 1484.77 L831.635 1480.07 Q833.718 1481.2 835.94 1481.76 Q838.162 1482.32 840.639 1482.32 Q844.644 1482.32 846.982 1480.21 Q849.32 1478.1 849.32 1474.49 Q849.32 1470.88 846.982 1468.77 Q844.644 1466.67 840.639 1466.67 Q838.764 1466.67 836.889 1467.08 Q835.037 1467.5 833.093 1468.38 L833.093 1451.02 Z\" fill=\"#000000\" fill-rule=\"nonzero\" fill-opacity=\"1\" /><path clip-path=\"url(#clip460)\" d=\"M1263.28 1454.1 Q1259.67 1454.1 1257.84 1457.66 Q1256.03 1461.2 1256.03 1468.33 Q1256.03 1475.44 1257.84 1479.01 Q1259.67 1482.55 1263.28 1482.55 Q1266.91 1482.55 1268.72 1479.01 Q1270.55 1475.44 1270.55 1468.33 Q1270.55 1461.2 1268.72 1457.66 Q1266.91 1454.1 1263.28 1454.1 M1263.28 1450.39 Q1269.09 1450.39 1272.14 1455 Q1275.22 1459.58 1275.22 1468.33 Q1275.22 1477.06 1272.14 1481.67 Q1269.09 1486.25 1263.28 1486.25 Q1257.47 1486.25 1254.39 1481.67 Q1251.33 1477.06 1251.33 1468.33 Q1251.33 1459.58 1254.39 1455 Q1257.47 1450.39 1263.28 1450.39 Z\" fill=\"#000000\" fill-rule=\"nonzero\" fill-opacity=\"1\" /><path clip-path=\"url(#clip460)\" d=\"M1283.44 1479.7 L1288.32 1479.7 L1288.32 1485.58 L1283.44 1485.58 L1283.44 1479.7 Z\" fill=\"#000000\" fill-rule=\"nonzero\" fill-opacity=\"1\" /><path clip-path=\"url(#clip460)\" d=\"M1298.56 1451.02 L1316.91 1451.02 L1316.91 1454.96 L1302.84 1454.96 L1302.84 1463.43 Q1303.86 1463.08 1304.88 1462.92 Q1305.89 1462.73 1306.91 1462.73 Q1312.7 1462.73 1316.08 1465.9 Q1319.46 1469.08 1319.46 1474.49 Q1319.46 1480.07 1315.99 1483.17 Q1312.51 1486.25 1306.2 1486.25 Q1304.02 1486.25 1301.75 1485.88 Q1299.51 1485.51 1297.1 1484.77 L1297.1 1480.07 Q1299.18 1481.2 1301.4 1481.76 Q1303.63 1482.32 1306.1 1482.32 Q1310.11 1482.32 1312.45 1480.21 Q1314.78 1478.1 1314.78 1474.49 Q1314.78 1470.88 1312.45 1468.77 Q1310.11 1466.67 1306.1 1466.67 Q1304.23 1466.67 1302.35 1467.08 Q1300.5 1467.5 1298.56 1468.38 L1298.56 1451.02 Z\" fill=\"#000000\" fill-rule=\"nonzero\" fill-opacity=\"1\" /><path clip-path=\"url(#clip460)\" d=\"M1338.67 1454.1 Q1335.06 1454.1 1333.23 1457.66 Q1331.43 1461.2 1331.43 1468.33 Q1331.43 1475.44 1333.23 1479.01 Q1335.06 1482.55 1338.67 1482.55 Q1342.31 1482.55 1344.11 1479.01 Q1345.94 1475.44 1345.94 1468.33 Q1345.94 1461.2 1344.11 1457.66 Q1342.31 1454.1 1338.67 1454.1 M1338.67 1450.39 Q1344.48 1450.39 1347.54 1455 Q1350.62 1459.58 1350.62 1468.33 Q1350.62 1477.06 1347.54 1481.67 Q1344.48 1486.25 1338.67 1486.25 Q1332.86 1486.25 1329.78 1481.67 Q1326.73 1477.06 1326.73 1468.33 Q1326.73 1459.58 1329.78 1455 Q1332.86 1450.39 1338.67 1450.39 Z\" fill=\"#000000\" fill-rule=\"nonzero\" fill-opacity=\"1\" /><path clip-path=\"url(#clip460)\" d=\"M1759.9 1454.1 Q1756.29 1454.1 1754.46 1457.66 Q1752.65 1461.2 1752.65 1468.33 Q1752.65 1475.44 1754.46 1479.01 Q1756.29 1482.55 1759.9 1482.55 Q1763.53 1482.55 1765.34 1479.01 Q1767.17 1475.44 1767.17 1468.33 Q1767.17 1461.2 1765.34 1457.66 Q1763.53 1454.1 1759.9 1454.1 M1759.9 1450.39 Q1765.71 1450.39 1768.77 1455 Q1771.84 1459.58 1771.84 1468.33 Q1771.84 1477.06 1768.77 1481.67 Q1765.71 1486.25 1759.9 1486.25 Q1754.09 1486.25 1751.01 1481.67 Q1747.96 1477.06 1747.96 1468.33 Q1747.96 1459.58 1751.01 1455 Q1754.09 1450.39 1759.9 1450.39 Z\" fill=\"#000000\" fill-rule=\"nonzero\" fill-opacity=\"1\" /><path clip-path=\"url(#clip460)\" d=\"M1780.06 1479.7 L1784.95 1479.7 L1784.95 1485.58 L1780.06 1485.58 L1780.06 1479.7 Z\" fill=\"#000000\" fill-rule=\"nonzero\" fill-opacity=\"1\" /><path clip-path=\"url(#clip460)\" d=\"M1793.95 1451.02 L1816.17 1451.02 L1816.17 1453.01 L1803.63 1485.58 L1798.74 1485.58 L1810.55 1454.96 L1793.95 1454.96 L1793.95 1451.02 Z\" fill=\"#000000\" fill-rule=\"nonzero\" fill-opacity=\"1\" /><path clip-path=\"url(#clip460)\" d=\"M1825.34 1451.02 L1843.7 1451.02 L1843.7 1454.96 L1829.62 1454.96 L1829.62 1463.43 Q1830.64 1463.08 1831.66 1462.92 Q1832.68 1462.73 1833.7 1462.73 Q1839.48 1462.73 1842.86 1465.9 Q1846.24 1469.08 1846.24 1474.49 Q1846.24 1480.07 1842.77 1483.17 Q1839.3 1486.25 1832.98 1486.25 Q1830.8 1486.25 1828.53 1485.88 Q1826.29 1485.51 1823.88 1484.77 L1823.88 1480.07 Q1825.96 1481.2 1828.19 1481.76 Q1830.41 1482.32 1832.89 1482.32 Q1836.89 1482.32 1839.23 1480.21 Q1841.57 1478.1 1841.57 1474.49 Q1841.57 1470.88 1839.23 1468.77 Q1836.89 1466.67 1832.89 1466.67 Q1831.01 1466.67 1829.14 1467.08 Q1827.28 1467.5 1825.34 1468.38 L1825.34 1451.02 Z\" fill=\"#000000\" fill-rule=\"nonzero\" fill-opacity=\"1\" /><path clip-path=\"url(#clip460)\" d=\"M2245.29 1481.64 L2252.93 1481.64 L2252.93 1455.28 L2244.62 1456.95 L2244.62 1452.69 L2252.89 1451.02 L2257.56 1451.02 L2257.56 1481.64 L2265.2 1481.64 L2265.2 1485.58 L2245.29 1485.58 L2245.29 1481.64 Z\" fill=\"#000000\" fill-rule=\"nonzero\" fill-opacity=\"1\" /><path clip-path=\"url(#clip460)\" d=\"M2274.64 1479.7 L2279.53 1479.7 L2279.53 1485.58 L2274.64 1485.58 L2274.64 1479.7 Z\" fill=\"#000000\" fill-rule=\"nonzero\" fill-opacity=\"1\" /><path clip-path=\"url(#clip460)\" d=\"M2299.71 1454.1 Q2296.1 1454.1 2294.27 1457.66 Q2292.47 1461.2 2292.47 1468.33 Q2292.47 1475.44 2294.27 1479.01 Q2296.1 1482.55 2299.71 1482.55 Q2303.35 1482.55 2305.15 1479.01 Q2306.98 1475.44 2306.98 1468.33 Q2306.98 1461.2 2305.15 1457.66 Q2303.35 1454.1 2299.71 1454.1 M2299.71 1450.39 Q2305.52 1450.39 2308.58 1455 Q2311.66 1459.58 2311.66 1468.33 Q2311.66 1477.06 2308.58 1481.67 Q2305.52 1486.25 2299.71 1486.25 Q2293.9 1486.25 2290.83 1481.67 Q2287.77 1477.06 2287.77 1468.33 Q2287.77 1459.58 2290.83 1455 Q2293.9 1450.39 2299.71 1450.39 Z\" fill=\"#000000\" fill-rule=\"nonzero\" fill-opacity=\"1\" /><path clip-path=\"url(#clip460)\" d=\"M2329.88 1454.1 Q2326.26 1454.1 2324.44 1457.66 Q2322.63 1461.2 2322.63 1468.33 Q2322.63 1475.44 2324.44 1479.01 Q2326.26 1482.55 2329.88 1482.55 Q2333.51 1482.55 2335.32 1479.01 Q2337.14 1475.44 2337.14 1468.33 Q2337.14 1461.2 2335.32 1457.66 Q2333.51 1454.1 2329.88 1454.1 M2329.88 1450.39 Q2335.69 1450.39 2338.74 1455 Q2341.82 1459.58 2341.82 1468.33 Q2341.82 1477.06 2338.74 1481.67 Q2335.69 1486.25 2329.88 1486.25 Q2324.07 1486.25 2320.99 1481.67 Q2317.93 1477.06 2317.93 1468.33 Q2317.93 1459.58 2320.99 1455 Q2324.07 1450.39 2329.88 1450.39 Z\" fill=\"#000000\" fill-rule=\"nonzero\" fill-opacity=\"1\" /><path clip-path=\"url(#clip460)\" d=\"M1192.11 1545.76 Q1194.17 1546.46 1196.12 1548.76 Q1198.09 1551.05 1200.06 1555.06 L1206.59 1568.04 L1199.68 1568.04 L1193.6 1555.85 Q1191.25 1551.08 1189.02 1549.52 Q1186.82 1547.96 1183 1547.96 L1176 1547.96 L1176 1568.04 L1169.57 1568.04 L1169.57 1520.52 L1184.09 1520.52 Q1192.23 1520.52 1196.24 1523.93 Q1200.25 1527.34 1200.25 1534.21 Q1200.25 1538.7 1198.15 1541.66 Q1196.08 1544.62 1192.11 1545.76 M1176 1525.81 L1176 1542.68 L1184.09 1542.68 Q1188.73 1542.68 1191.09 1540.54 Q1193.47 1538.38 1193.47 1534.21 Q1193.47 1530.04 1191.09 1527.94 Q1188.73 1525.81 1184.09 1525.81 L1176 1525.81 Z\" fill=\"#000000\" fill-rule=\"nonzero\" fill-opacity=\"1\" /><path clip-path=\"url(#clip460)\" d=\"M1234.15 1524.88 Q1227.15 1524.88 1223.01 1530.1 Q1218.91 1535.32 1218.91 1544.33 Q1218.91 1553.31 1223.01 1558.53 Q1227.15 1563.75 1234.15 1563.75 Q1241.15 1563.75 1245.23 1558.53 Q1249.33 1553.31 1249.33 1544.33 Q1249.33 1535.32 1245.23 1530.1 Q1241.15 1524.88 1234.15 1524.88 M1234.15 1519.66 Q1244.15 1519.66 1250.13 1526.38 Q1256.11 1533.06 1256.11 1544.33 Q1256.11 1555.57 1250.13 1562.28 Q1244.15 1568.97 1234.15 1568.97 Q1224.13 1568.97 1218.11 1562.28 Q1212.13 1555.6 1212.13 1544.33 Q1212.13 1533.06 1218.11 1526.38 Q1224.13 1519.66 1234.15 1519.66 Z\" fill=\"#000000\" fill-rule=\"nonzero\" fill-opacity=\"1\" /><path clip-path=\"url(#clip460)\" d=\"M1293 1578.87 L1293 1583.42 L1259.14 1583.42 L1259.14 1578.87 L1293 1578.87 Z\" fill=\"#000000\" fill-rule=\"nonzero\" fill-opacity=\"1\" /><path clip-path=\"url(#clip460)\" d=\"M1324.16 1533.76 L1324.16 1539.24 Q1321.68 1537.87 1319.17 1537.2 Q1316.68 1536.5 1314.14 1536.5 Q1308.44 1536.5 1305.29 1540.13 Q1302.14 1543.73 1302.14 1550.25 Q1302.14 1556.78 1305.29 1560.4 Q1308.44 1564 1314.14 1564 Q1316.68 1564 1319.17 1563.33 Q1321.68 1562.63 1324.16 1561.26 L1324.16 1566.68 Q1321.71 1567.82 1319.07 1568.39 Q1316.46 1568.97 1313.5 1568.97 Q1305.45 1568.97 1300.7 1563.91 Q1295.96 1558.85 1295.96 1550.25 Q1295.96 1541.53 1300.74 1536.53 Q1305.54 1531.54 1313.88 1531.54 Q1316.59 1531.54 1319.17 1532.11 Q1321.74 1532.65 1324.16 1533.76 Z\" fill=\"#000000\" fill-rule=\"nonzero\" fill-opacity=\"1\" /><path clip-path=\"url(#clip460)\" d=\"M1348.16 1536.5 Q1343.45 1536.5 1340.71 1540.19 Q1337.98 1543.85 1337.98 1550.25 Q1337.98 1556.65 1340.68 1560.34 Q1343.42 1564 1348.16 1564 Q1352.84 1564 1355.58 1560.31 Q1358.31 1556.62 1358.31 1550.25 Q1358.31 1543.92 1355.58 1540.23 Q1352.84 1536.5 1348.16 1536.5 M1348.16 1531.54 Q1355.8 1531.54 1360.16 1536.5 Q1364.52 1541.47 1364.52 1550.25 Q1364.52 1559 1360.16 1564 Q1355.8 1568.97 1348.16 1568.97 Q1340.49 1568.97 1336.13 1564 Q1331.8 1559 1331.8 1550.25 Q1331.8 1541.47 1336.13 1536.5 Q1340.49 1531.54 1348.16 1531.54 Z\" fill=\"#000000\" fill-rule=\"nonzero\" fill-opacity=\"1\" /><path clip-path=\"url(#clip460)\" d=\"M1404.72 1548.76 L1404.72 1551.62 L1377.79 1551.62 Q1378.18 1557.67 1381.42 1560.85 Q1384.7 1564 1390.52 1564 Q1393.9 1564 1397.05 1563.17 Q1400.23 1562.35 1403.35 1560.69 L1403.35 1566.23 Q1400.2 1567.57 1396.89 1568.27 Q1393.58 1568.97 1390.17 1568.97 Q1381.64 1568.97 1376.65 1564 Q1371.68 1559.04 1371.68 1550.57 Q1371.68 1541.82 1376.39 1536.69 Q1381.14 1531.54 1389.16 1531.54 Q1396.35 1531.54 1400.52 1536.18 Q1404.72 1540.8 1404.72 1548.76 M1398.86 1547.04 Q1398.8 1542.23 1396.16 1539.37 Q1393.55 1536.5 1389.22 1536.5 Q1384.32 1536.5 1381.36 1539.27 Q1378.43 1542.04 1377.98 1547.07 L1398.86 1547.04 Z\" fill=\"#000000\" fill-rule=\"nonzero\" fill-opacity=\"1\" /><path clip-path=\"url(#clip460)\" d=\"M1432.38 1518.52 L1432.38 1523.39 L1426.78 1523.39 Q1423.63 1523.39 1422.39 1524.66 Q1421.18 1525.93 1421.18 1529.24 L1421.18 1532.4 L1430.82 1532.4 L1430.82 1536.95 L1421.18 1536.95 L1421.18 1568.04 L1415.29 1568.04 L1415.29 1536.95 L1409.69 1536.95 L1409.69 1532.4 L1415.29 1532.4 L1415.29 1529.91 Q1415.29 1523.96 1418.06 1521.26 Q1420.83 1518.52 1426.84 1518.52 L1432.38 1518.52 Z\" fill=\"#000000\" fill-rule=\"nonzero\" fill-opacity=\"1\" /><polyline clip-path=\"url(#clip462)\" style=\"stroke:#000000; stroke-linecap:round; stroke-linejoin:round; stroke-width:2; stroke-opacity:0.1; fill:none\" points=\"249.195,1384.24 2352.76,1384.24 \"/>\n",
       "<polyline clip-path=\"url(#clip462)\" style=\"stroke:#000000; stroke-linecap:round; stroke-linejoin:round; stroke-width:2; stroke-opacity:0.1; fill:none\" points=\"249.195,1059.73 2352.76,1059.73 \"/>\n",
       "<polyline clip-path=\"url(#clip462)\" style=\"stroke:#000000; stroke-linecap:round; stroke-linejoin:round; stroke-width:2; stroke-opacity:0.1; fill:none\" points=\"249.195,735.212 2352.76,735.212 \"/>\n",
       "<polyline clip-path=\"url(#clip462)\" style=\"stroke:#000000; stroke-linecap:round; stroke-linejoin:round; stroke-width:2; stroke-opacity:0.1; fill:none\" points=\"249.195,410.699 2352.76,410.699 \"/>\n",
       "<polyline clip-path=\"url(#clip462)\" style=\"stroke:#000000; stroke-linecap:round; stroke-linejoin:round; stroke-width:2; stroke-opacity:0.1; fill:none\" points=\"249.195,86.1857 2352.76,86.1857 \"/>\n",
       "<polyline clip-path=\"url(#clip460)\" style=\"stroke:#000000; stroke-linecap:round; stroke-linejoin:round; stroke-width:4; stroke-opacity:1; fill:none\" points=\"249.195,1423.18 249.195,47.2441 \"/>\n",
       "<polyline clip-path=\"url(#clip460)\" style=\"stroke:#000000; stroke-linecap:round; stroke-linejoin:round; stroke-width:4; stroke-opacity:1; fill:none\" points=\"249.195,1384.24 268.092,1384.24 \"/>\n",
       "<polyline clip-path=\"url(#clip460)\" style=\"stroke:#000000; stroke-linecap:round; stroke-linejoin:round; stroke-width:4; stroke-opacity:1; fill:none\" points=\"249.195,1059.73 268.092,1059.73 \"/>\n",
       "<polyline clip-path=\"url(#clip460)\" style=\"stroke:#000000; stroke-linecap:round; stroke-linejoin:round; stroke-width:4; stroke-opacity:1; fill:none\" points=\"249.195,735.212 268.092,735.212 \"/>\n",
       "<polyline clip-path=\"url(#clip460)\" style=\"stroke:#000000; stroke-linecap:round; stroke-linejoin:round; stroke-width:4; stroke-opacity:1; fill:none\" points=\"249.195,410.699 268.092,410.699 \"/>\n",
       "<polyline clip-path=\"url(#clip460)\" style=\"stroke:#000000; stroke-linecap:round; stroke-linejoin:round; stroke-width:4; stroke-opacity:1; fill:none\" points=\"249.195,86.1857 268.092,86.1857 \"/>\n",
       "<path clip-path=\"url(#clip460)\" d=\"M116.668 1397.58 L124.306 1397.58 L124.306 1371.22 L115.996 1372.88 L115.996 1368.62 L124.26 1366.96 L128.936 1366.96 L128.936 1397.58 L136.575 1397.58 L136.575 1401.52 L116.668 1401.52 L116.668 1397.58 Z\" fill=\"#000000\" fill-rule=\"nonzero\" fill-opacity=\"1\" /><path clip-path=\"url(#clip460)\" d=\"M146.019 1395.64 L150.903 1395.64 L150.903 1401.52 L146.019 1401.52 L146.019 1395.64 Z\" fill=\"#000000\" fill-rule=\"nonzero\" fill-opacity=\"1\" /><path clip-path=\"url(#clip460)\" d=\"M171.089 1370.04 Q167.477 1370.04 165.649 1373.6 Q163.843 1377.14 163.843 1384.27 Q163.843 1391.38 165.649 1394.94 Q167.477 1398.49 171.089 1398.49 Q174.723 1398.49 176.528 1394.94 Q178.357 1391.38 178.357 1384.27 Q178.357 1377.14 176.528 1373.6 Q174.723 1370.04 171.089 1370.04 M171.089 1366.33 Q176.899 1366.33 179.954 1370.94 Q183.033 1375.52 183.033 1384.27 Q183.033 1393 179.954 1397.61 Q176.899 1402.19 171.089 1402.19 Q165.278 1402.19 162.2 1397.61 Q159.144 1393 159.144 1384.27 Q159.144 1375.52 162.2 1370.94 Q165.278 1366.33 171.089 1366.33 Z\" fill=\"#000000\" fill-rule=\"nonzero\" fill-opacity=\"1\" /><path clip-path=\"url(#clip460)\" d=\"M201.25 1370.04 Q197.639 1370.04 195.811 1373.6 Q194.005 1377.14 194.005 1384.27 Q194.005 1391.38 195.811 1394.94 Q197.639 1398.49 201.25 1398.49 Q204.885 1398.49 206.69 1394.94 Q208.519 1391.38 208.519 1384.27 Q208.519 1377.14 206.69 1373.6 Q204.885 1370.04 201.25 1370.04 M201.25 1366.33 Q207.061 1366.33 210.116 1370.94 Q213.195 1375.52 213.195 1384.27 Q213.195 1393 210.116 1397.61 Q207.061 1402.19 201.25 1402.19 Q195.44 1402.19 192.362 1397.61 Q189.306 1393 189.306 1384.27 Q189.306 1375.52 192.362 1370.94 Q195.44 1366.33 201.25 1366.33 Z\" fill=\"#000000\" fill-rule=\"nonzero\" fill-opacity=\"1\" /><path clip-path=\"url(#clip460)\" d=\"M117.663 1073.07 L125.302 1073.07 L125.302 1046.7 L116.992 1048.37 L116.992 1044.11 L125.255 1042.45 L129.931 1042.45 L129.931 1073.07 L137.57 1073.07 L137.57 1077.01 L117.663 1077.01 L117.663 1073.07 Z\" fill=\"#000000\" fill-rule=\"nonzero\" fill-opacity=\"1\" /><path clip-path=\"url(#clip460)\" d=\"M147.015 1071.13 L151.899 1071.13 L151.899 1077.01 L147.015 1077.01 L147.015 1071.13 Z\" fill=\"#000000\" fill-rule=\"nonzero\" fill-opacity=\"1\" /><path clip-path=\"url(#clip460)\" d=\"M166.112 1073.07 L182.431 1073.07 L182.431 1077.01 L160.487 1077.01 L160.487 1073.07 Q163.149 1070.32 167.732 1065.69 Q172.339 1061.03 173.519 1059.69 Q175.764 1057.17 176.644 1055.43 Q177.547 1053.67 177.547 1051.98 Q177.547 1049.23 175.602 1047.49 Q173.681 1045.76 170.579 1045.76 Q168.38 1045.76 165.927 1046.52 Q163.496 1047.28 160.718 1048.83 L160.718 1044.11 Q163.542 1042.98 165.996 1042.4 Q168.45 1041.82 170.487 1041.82 Q175.857 1041.82 179.051 1044.51 Q182.246 1047.19 182.246 1051.68 Q182.246 1053.81 181.436 1055.73 Q180.649 1057.63 178.542 1060.22 Q177.964 1060.89 174.862 1064.11 Q171.76 1067.31 166.112 1073.07 Z\" fill=\"#000000\" fill-rule=\"nonzero\" fill-opacity=\"1\" /><path clip-path=\"url(#clip460)\" d=\"M192.292 1042.45 L210.649 1042.45 L210.649 1046.38 L196.575 1046.38 L196.575 1054.85 Q197.593 1054.51 198.612 1054.34 Q199.63 1054.16 200.649 1054.16 Q206.436 1054.16 209.815 1057.33 Q213.195 1060.5 213.195 1065.92 Q213.195 1071.5 209.723 1074.6 Q206.25 1077.68 199.931 1077.68 Q197.755 1077.68 195.487 1077.31 Q193.241 1076.94 190.834 1076.19 L190.834 1071.5 Q192.917 1072.63 195.139 1073.19 Q197.362 1073.74 199.838 1073.74 Q203.843 1073.74 206.181 1071.63 Q208.519 1069.53 208.519 1065.92 Q208.519 1062.31 206.181 1060.2 Q203.843 1058.09 199.838 1058.09 Q197.963 1058.09 196.088 1058.51 Q194.237 1058.93 192.292 1059.81 L192.292 1042.45 Z\" fill=\"#000000\" fill-rule=\"nonzero\" fill-opacity=\"1\" /><path clip-path=\"url(#clip460)\" d=\"M116.668 748.557 L124.306 748.557 L124.306 722.191 L115.996 723.858 L115.996 719.599 L124.26 717.932 L128.936 717.932 L128.936 748.557 L136.575 748.557 L136.575 752.492 L116.668 752.492 L116.668 748.557 Z\" fill=\"#000000\" fill-rule=\"nonzero\" fill-opacity=\"1\" /><path clip-path=\"url(#clip460)\" d=\"M146.019 746.612 L150.903 746.612 L150.903 752.492 L146.019 752.492 L146.019 746.612 Z\" fill=\"#000000\" fill-rule=\"nonzero\" fill-opacity=\"1\" /><path clip-path=\"url(#clip460)\" d=\"M161.135 717.932 L179.491 717.932 L179.491 721.867 L165.417 721.867 L165.417 730.339 Q166.436 729.992 167.454 729.83 Q168.473 729.645 169.491 729.645 Q175.278 729.645 178.658 732.816 Q182.038 735.987 182.038 741.404 Q182.038 746.983 178.565 750.085 Q175.093 753.163 168.774 753.163 Q166.598 753.163 164.329 752.793 Q162.084 752.423 159.677 751.682 L159.677 746.983 Q161.76 748.117 163.982 748.673 Q166.204 749.228 168.681 749.228 Q172.686 749.228 175.024 747.122 Q177.362 745.015 177.362 741.404 Q177.362 737.793 175.024 735.687 Q172.686 733.58 168.681 733.58 Q166.806 733.58 164.931 733.997 Q163.079 734.413 161.135 735.293 L161.135 717.932 Z\" fill=\"#000000\" fill-rule=\"nonzero\" fill-opacity=\"1\" /><path clip-path=\"url(#clip460)\" d=\"M201.25 721.011 Q197.639 721.011 195.811 724.575 Q194.005 728.117 194.005 735.247 Q194.005 742.353 195.811 745.918 Q197.639 749.46 201.25 749.46 Q204.885 749.46 206.69 745.918 Q208.519 742.353 208.519 735.247 Q208.519 728.117 206.69 724.575 Q204.885 721.011 201.25 721.011 M201.25 717.307 Q207.061 717.307 210.116 721.913 Q213.195 726.497 213.195 735.247 Q213.195 743.973 210.116 748.58 Q207.061 753.163 201.25 753.163 Q195.44 753.163 192.362 748.58 Q189.306 743.973 189.306 735.247 Q189.306 726.497 192.362 721.913 Q195.44 717.307 201.25 717.307 Z\" fill=\"#000000\" fill-rule=\"nonzero\" fill-opacity=\"1\" /><path clip-path=\"url(#clip460)\" d=\"M117.663 424.044 L125.302 424.044 L125.302 397.678 L116.992 399.345 L116.992 395.085 L125.255 393.419 L129.931 393.419 L129.931 424.044 L137.57 424.044 L137.57 427.979 L117.663 427.979 L117.663 424.044 Z\" fill=\"#000000\" fill-rule=\"nonzero\" fill-opacity=\"1\" /><path clip-path=\"url(#clip460)\" d=\"M147.015 422.099 L151.899 422.099 L151.899 427.979 L147.015 427.979 L147.015 422.099 Z\" fill=\"#000000\" fill-rule=\"nonzero\" fill-opacity=\"1\" /><path clip-path=\"url(#clip460)\" d=\"M160.903 393.419 L183.126 393.419 L183.126 395.41 L170.579 427.979 L165.695 427.979 L177.501 397.354 L160.903 397.354 L160.903 393.419 Z\" fill=\"#000000\" fill-rule=\"nonzero\" fill-opacity=\"1\" /><path clip-path=\"url(#clip460)\" d=\"M192.292 393.419 L210.649 393.419 L210.649 397.354 L196.575 397.354 L196.575 405.826 Q197.593 405.479 198.612 405.317 Q199.63 405.132 200.649 405.132 Q206.436 405.132 209.815 408.303 Q213.195 411.474 213.195 416.891 Q213.195 422.47 209.723 425.571 Q206.25 428.65 199.931 428.65 Q197.755 428.65 195.487 428.28 Q193.241 427.909 190.834 427.169 L190.834 422.47 Q192.917 423.604 195.139 424.159 Q197.362 424.715 199.838 424.715 Q203.843 424.715 206.181 422.608 Q208.519 420.502 208.519 416.891 Q208.519 413.28 206.181 411.173 Q203.843 409.067 199.838 409.067 Q197.963 409.067 196.088 409.484 Q194.237 409.9 192.292 410.78 L192.292 393.419 Z\" fill=\"#000000\" fill-rule=\"nonzero\" fill-opacity=\"1\" /><path clip-path=\"url(#clip460)\" d=\"M119.885 99.5305 L136.204 99.5305 L136.204 103.466 L114.26 103.466 L114.26 99.5305 Q116.922 96.7759 121.505 92.1463 Q126.112 87.4935 127.292 86.151 Q129.538 83.6278 130.417 81.8917 Q131.32 80.1325 131.32 78.4427 Q131.32 75.688 129.376 73.9519 Q127.455 72.2158 124.353 72.2158 Q122.154 72.2158 119.7 72.9797 Q117.269 73.7436 114.492 75.2945 L114.492 70.5723 Q117.316 69.4381 119.769 68.8594 Q122.223 68.2807 124.26 68.2807 Q129.63 68.2807 132.825 70.9658 Q136.019 73.651 136.019 78.1417 Q136.019 80.2714 135.209 82.1926 Q134.422 84.0908 132.316 86.6834 Q131.737 87.3546 128.635 90.5722 Q125.533 93.7667 119.885 99.5305 Z\" fill=\"#000000\" fill-rule=\"nonzero\" fill-opacity=\"1\" /><path clip-path=\"url(#clip460)\" d=\"M146.019 97.5861 L150.903 97.5861 L150.903 103.466 L146.019 103.466 L146.019 97.5861 Z\" fill=\"#000000\" fill-rule=\"nonzero\" fill-opacity=\"1\" /><path clip-path=\"url(#clip460)\" d=\"M171.089 71.9844 Q167.477 71.9844 165.649 75.5492 Q163.843 79.0908 163.843 86.2204 Q163.843 93.3268 165.649 96.8916 Q167.477 100.433 171.089 100.433 Q174.723 100.433 176.528 96.8916 Q178.357 93.3268 178.357 86.2204 Q178.357 79.0908 176.528 75.5492 Q174.723 71.9844 171.089 71.9844 M171.089 68.2807 Q176.899 68.2807 179.954 72.8871 Q183.033 77.4704 183.033 86.2204 Q183.033 94.9472 179.954 99.5537 Q176.899 104.137 171.089 104.137 Q165.278 104.137 162.2 99.5537 Q159.144 94.9472 159.144 86.2204 Q159.144 77.4704 162.2 72.8871 Q165.278 68.2807 171.089 68.2807 Z\" fill=\"#000000\" fill-rule=\"nonzero\" fill-opacity=\"1\" /><path clip-path=\"url(#clip460)\" d=\"M201.25 71.9844 Q197.639 71.9844 195.811 75.5492 Q194.005 79.0908 194.005 86.2204 Q194.005 93.3268 195.811 96.8916 Q197.639 100.433 201.25 100.433 Q204.885 100.433 206.69 96.8916 Q208.519 93.3268 208.519 86.2204 Q208.519 79.0908 206.69 75.5492 Q204.885 71.9844 201.25 71.9844 M201.25 68.2807 Q207.061 68.2807 210.116 72.8871 Q213.195 77.4704 213.195 86.2204 Q213.195 94.9472 210.116 99.5537 Q207.061 104.137 201.25 104.137 Q195.44 104.137 192.362 99.5537 Q189.306 94.9472 189.306 86.2204 Q189.306 77.4704 192.362 72.8871 Q195.44 68.2807 201.25 68.2807 Z\" fill=\"#000000\" fill-rule=\"nonzero\" fill-opacity=\"1\" /><path clip-path=\"url(#clip460)\" d=\"M41.7242 1159.63 Q42.4244 1157.56 44.7161 1155.62 Q47.0077 1153.65 51.0181 1151.67 L64.0042 1145.15 L64.0042 1152.05 L51.8138 1158.13 Q47.0395 1160.49 45.48 1162.72 Q43.9204 1164.91 43.9204 1168.73 L43.9204 1175.73 L64.0042 1175.73 L64.0042 1182.16 L16.4842 1182.16 L16.4842 1167.65 Q16.4842 1159.5 19.8898 1155.49 Q23.2955 1151.48 30.1704 1151.48 Q34.6582 1151.48 37.6183 1153.58 Q40.5784 1155.65 41.7242 1159.63 M21.7677 1175.73 L38.6368 1175.73 L38.6368 1167.65 Q38.6368 1163 36.5043 1160.65 Q34.34 1158.26 30.1704 1158.26 Q26.0009 1158.26 23.9002 1160.65 Q21.7677 1163 21.7677 1167.65 L21.7677 1175.73 Z\" fill=\"#000000\" fill-rule=\"nonzero\" fill-opacity=\"1\" /><path clip-path=\"url(#clip460)\" d=\"M44.7161 1109.56 L47.5806 1109.56 L47.5806 1136.49 Q53.6281 1136.11 56.8109 1132.86 Q59.9619 1129.58 59.9619 1123.76 Q59.9619 1120.38 59.1344 1117.23 Q58.3069 1114.05 56.6518 1110.93 L62.1899 1110.93 Q63.5267 1114.08 64.227 1117.39 Q64.9272 1120.7 64.9272 1124.11 Q64.9272 1132.64 59.9619 1137.64 Q54.9967 1142.6 46.5303 1142.6 Q37.7774 1142.6 32.6531 1137.89 Q27.4968 1133.15 27.4968 1125.13 Q27.4968 1117.93 32.1438 1113.76 Q36.7589 1109.56 44.7161 1109.56 M42.9973 1115.42 Q38.1912 1115.48 35.3266 1118.13 Q32.4621 1120.74 32.4621 1125.06 Q32.4621 1129.97 35.2312 1132.93 Q38.0002 1135.85 43.0292 1136.3 L42.9973 1115.42 Z\" fill=\"#000000\" fill-rule=\"nonzero\" fill-opacity=\"1\" /><path clip-path=\"url(#clip460)\" d=\"M28.3562 1104.15 L28.3562 1097.95 L58.275 1086.81 L28.3562 1075.67 L28.3562 1069.46 L64.0042 1082.83 L64.0042 1090.78 L28.3562 1104.15 Z\" fill=\"#000000\" fill-rule=\"nonzero\" fill-opacity=\"1\" /><path clip-path=\"url(#clip460)\" d=\"M74.8259 1034.29 L79.3773 1034.29 L79.3773 1068.15 L74.8259 1068.15 L74.8259 1034.29 Z\" fill=\"#000000\" fill-rule=\"nonzero\" fill-opacity=\"1\" /><path clip-path=\"url(#clip460)\" d=\"M41.7242 1005.99 Q42.4244 1003.92 44.7161 1001.98 Q47.0077 1000.01 51.0181 998.036 L64.0042 991.511 L64.0042 998.418 L51.8138 1004.5 Q47.0395 1006.85 45.48 1009.08 Q43.9204 1011.28 43.9204 1015.1 L43.9204 1022.1 L64.0042 1022.1 L64.0042 1028.53 L16.4842 1028.53 L16.4842 1014.01 Q16.4842 1005.87 19.8898 1001.86 Q23.2955 997.845 30.1704 997.845 Q34.6582 997.845 37.6183 999.946 Q40.5784 1002.01 41.7242 1005.99 M21.7677 1022.1 L38.6368 1022.1 L38.6368 1014.01 Q38.6368 1009.37 36.5043 1007.01 Q34.34 1004.62 30.1704 1004.62 Q26.0009 1004.62 23.9002 1007.01 Q21.7677 1009.37 21.7677 1014.01 L21.7677 1022.1 Z\" fill=\"#000000\" fill-rule=\"nonzero\" fill-opacity=\"1\" /><path clip-path=\"url(#clip460)\" d=\"M20.8447 963.948 Q20.8447 970.95 26.0645 975.088 Q31.2844 979.194 40.2919 979.194 Q49.2675 979.194 54.4874 975.088 Q59.7073 970.95 59.7073 963.948 Q59.7073 956.945 54.4874 952.871 Q49.2675 948.766 40.2919 948.766 Q31.2844 948.766 26.0645 952.871 Q20.8447 956.945 20.8447 963.948 M15.6248 963.948 Q15.6248 953.954 22.3406 947.97 Q29.0246 941.986 40.2919 941.986 Q51.5274 941.986 58.2432 947.97 Q64.9272 953.954 64.9272 963.948 Q64.9272 973.974 58.2432 979.989 Q51.5592 985.973 40.2919 985.973 Q29.0246 985.973 22.3406 979.989 Q15.6248 973.974 15.6248 963.948 Z\" fill=\"#000000\" fill-rule=\"nonzero\" fill-opacity=\"1\" /><path clip-path=\"url(#clip460)\" d=\"M74.8259 905.097 L79.3773 905.097 L79.3773 938.962 L74.8259 938.962 L74.8259 905.097 Z\" fill=\"#000000\" fill-rule=\"nonzero\" fill-opacity=\"1\" /><path clip-path=\"url(#clip460)\" d=\"M22.818 883.453 L46.4666 892.174 L46.4666 874.701 L22.818 883.453 M16.4842 887.082 L16.4842 879.793 L64.0042 861.683 L64.0042 868.367 L51.8138 872.695 L51.8138 894.116 L64.0042 898.445 L64.0042 905.224 L16.4842 887.082 Z\" fill=\"#000000\" fill-rule=\"nonzero\" fill-opacity=\"1\" /><path clip-path=\"url(#clip460)\" d=\"M28.3562 863.019 L28.3562 856.813 L58.275 845.673 L28.3562 834.533 L28.3562 828.326 L64.0042 841.694 L64.0042 849.651 L28.3562 863.019 Z\" fill=\"#000000\" fill-rule=\"nonzero\" fill-opacity=\"1\" /><path clip-path=\"url(#clip460)\" d=\"M45.7664 796.784 Q39.4007 796.784 35.8996 799.426 Q32.3984 802.036 32.3984 806.778 Q32.3984 811.489 35.8996 814.131 Q39.4007 816.741 45.7664 816.741 Q52.1003 816.741 55.6014 814.131 Q59.1026 811.489 59.1026 806.778 Q59.1026 802.036 55.6014 799.426 Q52.1003 796.784 45.7664 796.784 M59.58 790.928 Q68.683 790.928 73.1071 794.97 Q77.5631 799.012 77.5631 807.351 Q77.5631 810.439 77.0857 813.176 Q76.6401 815.913 75.6852 818.491 L69.9879 818.491 Q71.3884 815.913 72.0568 813.399 Q72.7252 810.884 72.7252 808.274 Q72.7252 802.513 69.7015 799.649 Q66.7096 796.784 60.6303 796.784 L57.7339 796.784 Q60.885 798.598 62.4446 801.431 Q64.0042 804.264 64.0042 808.211 Q64.0042 814.767 59.0071 818.778 Q54.01 822.788 45.7664 822.788 Q37.491 822.788 32.4939 818.778 Q27.4968 814.767 27.4968 808.211 Q27.4968 804.264 29.0564 801.431 Q30.616 798.598 33.7671 796.784 L28.3562 796.784 L28.3562 790.928 L59.58 790.928 Z\" fill=\"#000000\" fill-rule=\"nonzero\" fill-opacity=\"1\" /><path clip-path=\"url(#clip460)\" d=\"M16.4842 747.736 L16.4842 742.326 L70.0516 758.876 L70.0516 764.287 L16.4842 747.736 Z\" fill=\"#000000\" fill-rule=\"nonzero\" fill-opacity=\"1\" /><path clip-path=\"url(#clip460)\" d=\"M41.7242 692.673 Q42.4244 690.604 44.7161 688.663 Q47.0077 686.689 51.0181 684.716 L64.0042 678.191 L64.0042 685.098 L51.8138 691.177 Q47.0395 693.533 45.48 695.761 Q43.9204 697.957 43.9204 701.776 L43.9204 708.778 L64.0042 708.778 L64.0042 715.208 L16.4842 715.208 L16.4842 700.694 Q16.4842 692.546 19.8898 688.535 Q23.2955 684.525 30.1704 684.525 Q34.6582 684.525 37.6183 686.626 Q40.5784 688.695 41.7242 692.673 M21.7677 708.778 L38.6368 708.778 L38.6368 700.694 Q38.6368 696.047 36.5043 693.692 Q34.34 691.305 30.1704 691.305 Q26.0009 691.305 23.9002 693.692 Q21.7677 696.047 21.7677 700.694 L21.7677 708.778 Z\" fill=\"#000000\" fill-rule=\"nonzero\" fill-opacity=\"1\" /><path clip-path=\"url(#clip460)\" d=\"M44.7161 642.607 L47.5806 642.607 L47.5806 669.534 Q53.6281 669.152 56.8109 665.905 Q59.9619 662.627 59.9619 656.802 Q59.9619 653.429 59.1344 650.278 Q58.3069 647.095 56.6518 643.975 L62.1899 643.975 Q63.5267 647.127 64.227 650.437 Q64.9272 653.747 64.9272 657.152 Q64.9272 665.683 59.9619 670.68 Q54.9967 675.645 46.5303 675.645 Q37.7774 675.645 32.6531 670.934 Q27.4968 666.192 27.4968 658.171 Q27.4968 650.978 32.1438 646.808 Q36.7589 642.607 44.7161 642.607 M42.9973 648.463 Q38.1912 648.527 35.3266 651.169 Q32.4621 653.779 32.4621 658.107 Q32.4621 663.009 35.2312 665.969 Q38.0002 668.897 43.0292 669.343 L42.9973 648.463 Z\" fill=\"#000000\" fill-rule=\"nonzero\" fill-opacity=\"1\" /><path clip-path=\"url(#clip460)\" d=\"M28.3562 637.196 L28.3562 630.989 L58.275 619.849 L28.3562 608.709 L28.3562 602.503 L64.0042 615.871 L64.0042 623.828 L28.3562 637.196 Z\" fill=\"#000000\" fill-rule=\"nonzero\" fill-opacity=\"1\" /><path clip-path=\"url(#clip460)\" d=\"M74.8259 567.332 L79.3773 567.332 L79.3773 601.198 L74.8259 601.198 L74.8259 567.332 Z\" fill=\"#000000\" fill-rule=\"nonzero\" fill-opacity=\"1\" /><path clip-path=\"url(#clip460)\" d=\"M16.4842 561.571 L16.4842 531.525 L21.895 531.525 L21.895 555.142 L35.9632 555.142 L35.9632 532.512 L41.3741 532.512 L41.3741 555.142 L58.5933 555.142 L58.5933 530.952 L64.0042 530.952 L64.0042 561.571 L16.4842 561.571 Z\" fill=\"#000000\" fill-rule=\"nonzero\" fill-opacity=\"1\" /><path clip-path=\"url(#clip460)\" d=\"M16.4842 526.974 L16.4842 486.774 L21.895 486.774 L21.895 503.643 L64.0042 503.643 L64.0042 510.105 L21.895 510.105 L21.895 526.974 L16.4842 526.974 Z\" fill=\"#000000\" fill-rule=\"nonzero\" fill-opacity=\"1\" /><path clip-path=\"url(#clip460)\" d=\"M20.8447 461.28 Q20.8447 468.282 26.0645 472.42 Q31.2844 476.526 40.2919 476.526 Q49.2675 476.526 54.4874 472.42 Q59.7073 468.282 59.7073 461.28 Q59.7073 454.277 54.4874 450.203 Q49.2675 446.097 40.2919 446.097 Q31.2844 446.097 26.0645 450.203 Q20.8447 454.277 20.8447 461.28 M15.6248 461.28 Q15.6248 451.286 22.3406 445.302 Q29.0246 439.318 40.2919 439.318 Q51.5274 439.318 58.2432 445.302 Q64.9272 451.286 64.9272 461.28 Q64.9272 471.306 58.2432 477.321 Q51.5592 483.305 40.2919 483.305 Q29.0246 483.305 22.3406 477.321 Q15.6248 471.306 15.6248 461.28 Z\" fill=\"#000000\" fill-rule=\"nonzero\" fill-opacity=\"1\" /><path clip-path=\"url(#clip460)\" d=\"M74.8259 402.429 L79.3773 402.429 L79.3773 436.294 L74.8259 436.294 L74.8259 402.429 Z\" fill=\"#000000\" fill-rule=\"nonzero\" fill-opacity=\"1\" /><path clip-path=\"url(#clip460)\" d=\"M22.818 380.785 L46.4666 389.506 L46.4666 372.032 L22.818 380.785 M16.4842 384.414 L16.4842 377.125 L64.0042 359.015 L64.0042 365.699 L51.8138 370.027 L51.8138 391.448 L64.0042 395.777 L64.0042 402.556 L16.4842 384.414 Z\" fill=\"#000000\" fill-rule=\"nonzero\" fill-opacity=\"1\" /><path clip-path=\"url(#clip460)\" d=\"M28.3562 360.351 L28.3562 354.145 L58.275 343.005 L28.3562 331.865 L28.3562 325.658 L64.0042 339.026 L64.0042 346.983 L28.3562 360.351 Z\" fill=\"#000000\" fill-rule=\"nonzero\" fill-opacity=\"1\" /><path clip-path=\"url(#clip460)\" d=\"M45.7664 294.116 Q39.4007 294.116 35.8996 296.758 Q32.3984 299.368 32.3984 304.11 Q32.3984 308.821 35.8996 311.463 Q39.4007 314.073 45.7664 314.073 Q52.1003 314.073 55.6014 311.463 Q59.1026 308.821 59.1026 304.11 Q59.1026 299.368 55.6014 296.758 Q52.1003 294.116 45.7664 294.116 M59.58 288.26 Q68.683 288.26 73.1071 292.302 Q77.5631 296.344 77.5631 304.683 Q77.5631 307.771 77.0857 310.508 Q76.6401 313.245 75.6852 315.823 L69.9879 315.823 Q71.3884 313.245 72.0568 310.731 Q72.7252 308.216 72.7252 305.606 Q72.7252 299.845 69.7015 296.981 Q66.7096 294.116 60.6303 294.116 L57.7339 294.116 Q60.885 295.93 62.4446 298.763 Q64.0042 301.596 64.0042 305.543 Q64.0042 312.099 59.0071 316.11 Q54.01 320.12 45.7664 320.12 Q37.491 320.12 32.4939 316.11 Q27.4968 312.099 27.4968 305.543 Q27.4968 301.596 29.0564 298.763 Q30.616 295.93 33.7671 294.116 L28.3562 294.116 L28.3562 288.26 L59.58 288.26 Z\" fill=\"#000000\" fill-rule=\"nonzero\" fill-opacity=\"1\" /><path clip-path=\"url(#clip462)\" d=\"M308.73 1400.24 L297.418 1395.55 L292.73 1384.24 L297.418 1372.93 L308.73 1368.24 L320.042 1372.93 L324.73 1384.24 L320.042 1395.55 Z\" fill=\"#009af9\" fill-rule=\"evenodd\" fill-opacity=\"1\" stroke=\"#000000\" stroke-opacity=\"1\" stroke-width=\"3.2\"/>\n",
       "<polyline clip-path=\"url(#clip462)\" style=\"stroke:#ff0000; stroke-linecap:round; stroke-linejoin:round; stroke-width:4; stroke-opacity:1; fill:none\" stroke-dasharray=\"16, 10\" points=\"-1854.37,1384.24 4456.32,1384.24 \"/>\n",
       "</svg>\n"
      ]
     },
     "metadata": {},
     "output_type": "display_data"
    }
   ],
   "source": [
    "ratio = Rev_RO_Avg ./ mean(Rev_ETO)\n",
    "plot(RO_coef_all, ratio, marker=:o, xlabel=\"RO_coef\", ylabel=\"Rev_RO_Avg / Rev_ETO_Avg\", legend=false)\n",
    "hline!([1.0], linestyle=:dash, color=:red, label=\"y=1.0\")\n",
    "# savefig(plt, \"Rev_RO_Avg_vs_Rev_ETO_Avg.png\")  # 保存为当前目录下的PNG图片"
   ]
  },
  {
   "cell_type": "code",
   "execution_count": 13,
   "id": "e86416fc",
   "metadata": {},
   "outputs": [
    {
     "ename": "BoundsError",
     "evalue": "BoundsError: attempt to access 1-element Vector{Float64} at index [1:5]",
     "output_type": "error",
     "traceback": [
      "BoundsError: attempt to access 1-element Vector{Float64} at index [1:5]\n",
      "\n",
      "Stacktrace:\n",
      " [1] throw_boundserror(A::Vector{Float64}, I::Tuple{UnitRange{Int64}})\n",
      "   @ Base ./abstractarray.jl:737\n",
      " [2] checkbounds\n",
      "   @ ./abstractarray.jl:702 [inlined]\n",
      " [3] getindex(A::Vector{Float64}, I::UnitRange{Int64})\n",
      "   @ Base ./array.jl:973\n",
      " [4] top-level scope\n",
      "   @ ~/Dropbox/Research/Robust_Exp/Code_Macbook/Robust_Exp/jl_notebook_cell_df34fa98e69747e1a8f8a730347b8e2f_X26sZmlsZQ==.jl:1"
     ]
    }
   ],
   "source": [
    "plot_boxplot(RO_coef_all[1:5],Rev_ETO,Rev_RO)"
   ]
  },
  {
   "cell_type": "markdown",
   "id": "ad4e147e",
   "metadata": {},
   "source": [
    "### offdiag is positive"
   ]
  },
  {
   "cell_type": "code",
   "execution_count": 14,
   "id": "98b91a59",
   "metadata": {},
   "outputs": [],
   "source": [
    "# offdiag_sign = \"positive\";\n",
    "# Params = set_Params(N, N_u, K, S_train, S_test, offdiag_sign, max_offdiag, P_bar, RO_coef_all, seed)"
   ]
  },
  {
   "cell_type": "code",
   "execution_count": 15,
   "id": "5ef2df46",
   "metadata": {},
   "outputs": [],
   "source": [
    "# sub_file_name = \"N=$(N)_N_u=$(N_u)_K=$(K)_S_train=$(S_train)_offdiag_sign=$(offdiag_sign)_max_offdiag=$(max_offdiag)/\"\n",
    "# this_data_file = string(data_dir,project_name,sub_file_name)\n",
    "# if !isdir(this_data_file)\n",
    "#     mkpath(this_data_file)\n",
    "# end\n",
    "# save(string(this_data_file, \"Params.jld2\"), Params);"
   ]
  },
  {
   "cell_type": "code",
   "execution_count": 16,
   "id": "db9af694",
   "metadata": {},
   "outputs": [],
   "source": [
    "# Random.seed!(seed)\n",
    "# Input_Data = generate_Input_Data(S_train,S_test,iterations, N, N_u, K, offdiag_sign,max_offdiag,P_bar);\n",
    "# Input_Data = Calculate_Hyper_Param(RO_coef_all, iterations, N, N_u, K, Input_Data);\n",
    "# save(string(this_data_file, \"Input_Data.jld2\"), Input_Data);"
   ]
  },
  {
   "cell_type": "code",
   "execution_count": 17,
   "id": "0f054212",
   "metadata": {},
   "outputs": [],
   "source": [
    "# print_flag=true\n",
    "# RST_Oracle = Run_Oracle(iterations, N, N_u, K, Input_Data,print_flag);\n",
    "# Rev_Oracle = [RST_Oracle[\"iter=$(iter)_Rev\"] for iter in 1:iterations];\n",
    "# save(string(this_data_file, \"RST_Oracle.jld2\"), RST_Oracle);"
   ]
  },
  {
   "cell_type": "code",
   "execution_count": 18,
   "id": "eb30444d",
   "metadata": {},
   "outputs": [],
   "source": [
    "# RST_ETO = Run_ETO(iterations, N, N_u, K, Input_Data,print_flag);\n",
    "# Rev_ETO = [RST_ETO[\"iter=$(iter)_Rev\"] for iter in 1:iterations]\n",
    "# println(\"Rev_ETO/Rev_Oracle = \",round.(Rev_ETO./Rev_Oracle,digits=4))\n",
    "# save(string(this_data_file, \"RST_ETO.jld2\"), RST_ETO);"
   ]
  },
  {
   "cell_type": "code",
   "execution_count": 19,
   "id": "ac14eb87",
   "metadata": {},
   "outputs": [],
   "source": [
    "# model_name=\"Two_Side\"\n",
    "# RST_RO = Dict(); Rev_RO = Dict();\n",
    "# for RO_coef in RO_coef_all\n",
    "#     println(\"Running RO with RO_coef = \",RO_coef)\n",
    "#     RST_RO_this = Run_RO_with_RO_coef(RO_coef, iterations, N, N_u, K, Input_Data, 0.0,model_name,false);\n",
    "#     RST_RO[\"RO_coef=$(RO_coef)\"] = RST_RO_this\n",
    "#     Rev_RO[\"RO_coef=$(RO_coef)\"] = [RST_RO_this[\"iter=$(iter)_Rev\"] for iter in 1:iterations]\n",
    "# end\n",
    "# save(string(this_data_file, \"RST_RO.jld2\"), RST_RO);"
   ]
  },
  {
   "cell_type": "code",
   "execution_count": 20,
   "id": "db2af615",
   "metadata": {},
   "outputs": [],
   "source": [
    "# for RO_coef in RO_coef_all\n",
    "#     Rev_RO_this = Rev_RO[\"RO_coef=$(RO_coef)\"]\n",
    "#     println(\"Average = \",round(mean(Rev_RO_this./Rev_ETO),digits=4),\", Rev_RO/Rev_ETO for RO_coef=$(RO_coef) = \",round.(Rev_RO_this./Rev_ETO,digits=4),)\n",
    "# end"
   ]
  },
  {
   "cell_type": "markdown",
   "id": "211a7218",
   "metadata": {},
   "source": [
    "### offdiag is negative"
   ]
  },
  {
   "cell_type": "code",
   "execution_count": 21,
   "id": "c4cf05bd",
   "metadata": {},
   "outputs": [],
   "source": [
    "# offdiag_sign = \"negative\";\n",
    "# Params = set_Params(N, N_u, K, S_train, S_test, offdiag_sign, max_offdiag, P_bar, RO_coef_all, seed)"
   ]
  },
  {
   "cell_type": "code",
   "execution_count": 22,
   "id": "a72702ab",
   "metadata": {},
   "outputs": [],
   "source": [
    "# sub_file_name = \"N=$(N)_N_u=$(N_u)_K=$(K)_S_train=$(S_train)_offdiag_sign=$(offdiag_sign)_max_offdiag=$(max_offdiag)/\"\n",
    "# this_data_file = string(data_dir,project_name,sub_file_name)\n",
    "# if !isdir(this_data_file)\n",
    "#     mkpath(this_data_file)\n",
    "# end\n",
    "# save(string(this_data_file, \"Params.jld2\"), Params);"
   ]
  },
  {
   "cell_type": "code",
   "execution_count": 23,
   "id": "9071c26c",
   "metadata": {},
   "outputs": [],
   "source": [
    "# print_flag=true\n",
    "# RST_Oracle = Run_Oracle(iterations, N, N_u, K, Input_Data,print_flag);\n",
    "# Rev_Oracle = [RST_Oracle[\"iter=$(iter)_Rev\"] for iter in 1:iterations];\n",
    "# save(string(this_data_file, \"RST_Oracle.jld2\"), RST_Oracle);"
   ]
  },
  {
   "cell_type": "code",
   "execution_count": 24,
   "id": "610d6a10",
   "metadata": {},
   "outputs": [],
   "source": [
    "# RST_ETO = Run_ETO(iterations, N, N_u, K, Input_Data,print_flag);\n",
    "# Rev_ETO = [RST_ETO[\"iter=$(iter)_Rev\"] for iter in 1:iterations]\n",
    "# println(\"Rev_ETO/Rev_Oracle = \",round.(Rev_ETO./Rev_Oracle,digits=4))\n",
    "# save(string(this_data_file, \"RST_ETO.jld2\"), RST_ETO);"
   ]
  },
  {
   "cell_type": "code",
   "execution_count": 25,
   "id": "b995846a",
   "metadata": {},
   "outputs": [],
   "source": [
    "# model_name=\"Two_Side\"\n",
    "# RST_RO = Dict(); Rev_RO = Dict();\n",
    "# for RO_coef in RO_coef_all\n",
    "#     println(\"Running RO with RO_coef = \",RO_coef)\n",
    "#     RST_RO_this = Run_RO_with_RO_coef(RO_coef, iterations, N, N_u, K, Input_Data, 0.0,model_name,false);\n",
    "#     RST_RO[\"RO_coef=$(RO_coef)\"] = RST_RO_this\n",
    "#     Rev_RO[\"RO_coef=$(RO_coef)\"] = [RST_RO_this[\"iter=$(iter)_Rev\"] for iter in 1:iterations]\n",
    "# end\n",
    "# save(string(this_data_file, \"RST_RO.jld2\"), RST_RO);"
   ]
  }
 ],
 "metadata": {
  "kernelspec": {
   "display_name": "Julia 1.10.3",
   "language": "julia",
   "name": "julia-1.10"
  },
  "language_info": {
   "file_extension": ".jl",
   "mimetype": "application/julia",
   "name": "julia",
   "version": "1.10.3"
  }
 },
 "nbformat": 4,
 "nbformat_minor": 5
}
