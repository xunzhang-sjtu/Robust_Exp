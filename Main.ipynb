{
 "cells": [
  {
   "cell_type": "code",
   "execution_count": 1,
   "id": "ea7846fb",
   "metadata": {},
   "outputs": [
    {
     "data": {
      "text/plain": [
       "TaskLocalRNG()"
      ]
     },
     "metadata": {},
     "output_type": "display_data"
    }
   ],
   "source": [
    "using LinearAlgebra\n",
    "using Distributions\n",
    "using Optim\n",
    "using Random\n",
    "using StatsFuns\n",
    "using JuMP\n",
    "using MosekTools\n",
    "include(\"ETO.jl\")\n",
    "include(\"RO.jl\")\n",
    "include(\"Data.jl\")\n",
    "include(\"Estimate.jl\")\n",
    "include(\"Performance.jl\")\n",
    "Random.seed!(2)"
   ]
  },
  {
   "cell_type": "code",
   "execution_count": 2,
   "id": "b345b715",
   "metadata": {},
   "outputs": [],
   "source": [
    "N_u = 1\n",
    "N = 2\n",
    "S = 10000\n",
    "S_test = 10000\n",
    "K = 10   # 每个产品的选择项数量\n",
    "\n",
    "max_offdiag = 1\n",
    "offdiag_sign = \"zero\"\n",
    "\n",
    "A_true, B_true = Generate_Coef(N_u, N,max_offdiag,offdiag_sign);\n",
    "\n",
    "U_train, P_train = Generate_Feat_Data(N_u, N, S);\n",
    "U_test, P_test = Generate_Feat_Data(N_u, N, S_test);"
   ]
  },
  {
   "cell_type": "code",
   "execution_count": null,
   "id": "5345f32a",
   "metadata": {},
   "outputs": [
    {
     "name": "stdout",
     "output_type": "stream",
     "text": [
      "a_hat:\n",
      "[0.005186436107860032; 0.6912277990831004;;]\n",
      "b_hat:\n",
      "[-0.9601403832518198 0.08542222322210638; 0.012347260784333005 -1.1561150584466964]\n"
     ]
    },
    {
     "data": {
      "text/plain": [
       "([0.005186436107860032; 0.6912277990831004;;], [-0.9601403832518198 0.08542222322210638; 0.012347260784333005 -1.1561150584466964])"
      ]
     },
     "metadata": {},
     "output_type": "display_data"
    }
   ],
   "source": [
    "A_hat, B_hat = Estimate_MNL_Para(U_train, P_train, S, N, N_u, N, A_true, B_true)"
   ]
  },
  {
   "cell_type": "code",
   "execution_count": 4,
   "id": "6812b2d7",
   "metadata": {},
   "outputs": [
    {
     "data": {
      "text/plain": [
       "2×1 Matrix{Float64}:\n",
       " 0.005186436107860032\n",
       " 0.6912277990831004"
      ]
     },
     "metadata": {},
     "output_type": "display_data"
    }
   ],
   "source": [
    "a_hat"
   ]
  },
  {
   "cell_type": "code",
   "execution_count": 5,
   "id": "23903c9a",
   "metadata": {},
   "outputs": [
    {
     "data": {
      "text/plain": [
       "2×1 Matrix{Float64}:\n",
       " 0.0022505868897625403\n",
       " 0.6807475064887184"
      ]
     },
     "metadata": {},
     "output_type": "display_data"
    }
   ],
   "source": [
    "A_true"
   ]
  },
  {
   "cell_type": "code",
   "execution_count": 6,
   "id": "735b526d",
   "metadata": {},
   "outputs": [
    {
     "data": {
      "text/plain": [
       "2×2 Matrix{Float64}:\n",
       " -0.96014     0.0854222\n",
       "  0.0123473  -1.15612"
      ]
     },
     "metadata": {},
     "output_type": "display_data"
    }
   ],
   "source": [
    "b_hat"
   ]
  },
  {
   "cell_type": "code",
   "execution_count": 7,
   "id": "92122994",
   "metadata": {},
   "outputs": [
    {
     "data": {
      "text/plain": [
       "2×2 Matrix{Float64}:\n",
       " -0.855881   0.0\n",
       "  0.0       -1.17778"
      ]
     },
     "metadata": {},
     "output_type": "display_data"
    }
   ],
   "source": [
    "B_true"
   ]
  },
  {
   "cell_type": "code",
   "execution_count": null,
   "id": "f6283fa7",
   "metadata": {},
   "outputs": [],
   "source": [
    "function compute_prob(S,N,U_train,P_train,a_star,b_star)\n",
    "    for s in 1:S\n",
    "        u_this = U_train[s,:]\n",
    "        p_this = P_train[s,:]\n",
    "        logits = [dot(a_star[n,:], u_this) + dot(b_star[n,:], p_this) for n in 1:N]\n",
    "        exp_logits = exp.(logits)\n",
    "        denom = 1 + sum(exp_logits)\n",
    "        probs[s, :] = exp_logits ./ denom\n",
    "    end\n",
    "    return probs\n",
    "end"
   ]
  },
  {
   "cell_type": "code",
   "execution_count": null,
   "id": "a86f937d",
   "metadata": {},
   "outputs": [],
   "source": [
    "probs = compute_prob(S,N,U_train,P_train,A_true,B_true);"
   ]
  },
  {
   "cell_type": "code",
   "execution_count": null,
   "id": "e58e2229",
   "metadata": {},
   "outputs": [],
   "source": [
    "function Calculate_Choice(S,N,probs)\n",
    "    choices = Vector{Int}(undef, S)\n",
    "    for s in 1:S\n",
    "        p = probs[s, :]\n",
    "        baseline_prob = 1 - sum(p)\n",
    "        full_p = vcat(baseline_prob, p)  # 添加 baseline 的概率\n",
    "        choices[s] = sample(0:N, Weights(full_p))  # 随机选择（含baseline）\n",
    "    end\n",
    "    return choices\n",
    "end "
   ]
  },
  {
   "cell_type": "code",
   "execution_count": null,
   "id": "fc5d30ed",
   "metadata": {},
   "outputs": [],
   "source": [
    "choices = Calculate_Choice(S,N,probs)\n",
    "# 打印部分结果\n",
    "df = DataFrame(choice = choices)\n",
    "println(first(df, 20))"
   ]
  },
  {
   "cell_type": "code",
   "execution_count": null,
   "id": "13f2316a",
   "metadata": {},
   "outputs": [],
   "source": [
    "probs[10:20, :]"
   ]
  },
  {
   "cell_type": "code",
   "execution_count": null,
   "id": "79cd4c61",
   "metadata": {},
   "outputs": [],
   "source": [
    "s = 1\n",
    "p = probs[s, :]\n",
    "p[1] = 0.01\n",
    "p[2] = 0.98\n",
    "baseline_prob = 1 - sum(p)\n",
    "full_p = vcat(baseline_prob, p)  # 添加 baseline 的概率\n",
    "choices[s] = sample(0:N, Weights(full_p))  # 随机选择（含baseline）\n",
    "sample(0:N, Weights(full_p))"
   ]
  },
  {
   "cell_type": "code",
   "execution_count": null,
   "id": "16c29596",
   "metadata": {},
   "outputs": [],
   "source": [
    "p[1] = 0.01"
   ]
  },
  {
   "cell_type": "code",
   "execution_count": null,
   "id": "09a0e69d",
   "metadata": {},
   "outputs": [],
   "source": [
    "full_p"
   ]
  },
  {
   "cell_type": "markdown",
   "id": "a9f432d1",
   "metadata": {},
   "source": [
    "### Parameters"
   ]
  },
  {
   "cell_type": "code",
   "execution_count": null,
   "id": "51af1382",
   "metadata": {},
   "outputs": [],
   "source": [
    "function generate_strictly_row_diagonally_dominant(n::Int, max_offdiag,offdiag_sign)\n",
    "    Mat = zeros(n, n)\n",
    "    for i in 1:n\n",
    "        # 在非对角线上生成随机数 [-max_offdiag, max_offdiag]\n",
    "        off_diag = rand(n) .* (2max_offdiag) .- max_offdiag\n",
    "        off_diag[i] = 0  # 避免给自己赋值两次\n",
    "\n",
    "        # 计算非对角元素绝对值之和\n",
    "        sum_offdiag = sum(abs, off_diag)\n",
    "\n",
    "        # 设置对角元，使其严格大于其他元素之和\n",
    "        diag_value = sum_offdiag + rand() * max_offdiag + 1e-3  # 加小量保证严格性\n",
    "\n",
    "        if offdiag_sign == \"positive\" \n",
    "            Mat[i, :] = abs.(off_diag)\n",
    "        end\n",
    "        if offdiag_sign == \"negative\" \n",
    "            Mat[i, :] = -abs.(off_diag)\n",
    "        end\n",
    "        if offdiag_sign == \"mix\" \n",
    "            Mat[i, :] = off_diag\n",
    "        end\n",
    "        if offdiag_sign == \"zero\" \n",
    "            Mat[i, :] = off_diag .* 0.0\n",
    "        end        \n",
    "        Mat[i, i] = -abs.(diag_value)\n",
    "    end\n",
    "    return Mat\n",
    "end"
   ]
  },
  {
   "cell_type": "code",
   "execution_count": null,
   "id": "2ea393f8",
   "metadata": {},
   "outputs": [],
   "source": [
    "function compute_oof(X_given, A, B, u, p_dag)\n",
    "    price = sum(X_given .* p_dag,dims=2)[:,1]\n",
    "    utilities = ones(N+1)\n",
    "    utilities[1:N] = exp.(vec(A * u + B * price))\n",
    "\n",
    "    prob = zeros(N)\n",
    "    rev = zeros(N)\n",
    "    for i in 1:N\n",
    "        prob[i] = utilities[i] / sum(utilities)\n",
    "        rev[i] = prob[i] * price[i]\n",
    "    end\n",
    "    # println(\"prob = \", prob)\n",
    "    # println(\"rev = \", rev)\n",
    "    # println(\"total rev = \", sum(rev))\n",
    "    return sum(rev),price\n",
    "end"
   ]
  },
  {
   "cell_type": "markdown",
   "id": "8b0a2077",
   "metadata": {},
   "source": [
    "### Iteratively search for the optimal solution"
   ]
  },
  {
   "cell_type": "code",
   "execution_count": null,
   "id": "7ff8560f",
   "metadata": {},
   "outputs": [],
   "source": [
    "# rev_opt = 0\n",
    "# price_opt = zeros(N)\n",
    "\n",
    "# rev_min = 1000\n",
    "# price_min = zeros(N)\n",
    "# for i in 1:K\n",
    "#     p1 = p_dag[1,i]\n",
    "#     for j in 1:K\n",
    "#         p2 = p_dag[2,j]\n",
    "#         for l in 1:K\n",
    "#             p3 = p_dag[3,l]\n",
    "#             price = [p1,p2,p3]\n",
    "#             utilities = ones(N+1)\n",
    "#             utilities[1:N] = exp.(vec(A * u + B * price))\n",
    "        \n",
    "#             prob = zeros(N)\n",
    "#             rev = zeros(N)\n",
    "#             for i in 1:N\n",
    "#                 prob[i] = utilities[i] / sum(utilities)\n",
    "#                 rev[i] = prob[i] * price[i]\n",
    "#             end\n",
    "#             if sum(rev) > rev_opt\n",
    "#                 rev_opt = sum(rev)\n",
    "#                 price_opt = price \n",
    "#             end\n",
    "\n",
    "#             if sum(rev) < rev_min\n",
    "#                 rev_min = sum(rev)\n",
    "#                 price_min = price\n",
    "#             end\n",
    "#         end\n",
    "#     end\n",
    "# end\n",
    "# println(\"Optimal revenue = \", rev_opt)\n",
    "# println(\"Optimal price = \", price_opt)\n",
    "\n",
    "# println(\"Minimum revenue = \", rev_min) \n",
    "# println(\"Minimum price = \", price_min)"
   ]
  },
  {
   "cell_type": "code",
   "execution_count": null,
   "id": "2ba28810",
   "metadata": {},
   "outputs": [],
   "source": [
    "function Solve_RO_Price(N,N_u,K,A_lb,A_ub,B_lb,B_ub,u,p_dag,psi_lb,psi_ub,phi_lb,phi_ub)\n",
    "    model = Model(Mosek.Optimizer)\n",
    "    set_attribute(model, \"QUIET\", true)\n",
    "    # 定义变量\n",
    "    @variable(model, delta)                           # 标量 δ\n",
    "    @variable(model, omega_lb[1:N,1:N_u] >= 0)            \n",
    "    @variable(model, omega_ub[1:N,1:N_u] >= 0)           \n",
    "    @variable(model, pi_lb[1:N,1:N] >= 0)     \n",
    "    @variable(model, pi_ub[1:N,1:N] >= 0)     \n",
    "    @variable(model, eta_lb[1:N,1:N_u] >= 0)            \n",
    "    @variable(model, eta_ub[1:N,1:N_u] >= 0)           \n",
    "    @variable(model, ups_lb[1:N,1:N] >= 0)     \n",
    "    @variable(model, ups_ub[1:N,1:N] >= 0) \n",
    "    # exponential variables\n",
    "    @variable(model, psi_1[1:N])                   \n",
    "    @variable(model, psi_2[1:N])                   \n",
    "    @variable(model, psi_3[1:N])        \n",
    "    @variable(model, phi_1[1:N])                   \n",
    "    @variable(model, phi_2[1:N])                   \n",
    "    @variable(model, phi_3[1:N])         \n",
    "\n",
    "    @variable(model, X[1:N, 1:K], Bin)        # 二进制变量 x_{jk}\n",
    "    @variable(model, Y[1:N,1:N,1:K] <= 0)    \n",
    "    @variable(model, Z[1:N,1:N,1:K] <= 0)    \n",
    "\n",
    "    for n in 1:N\n",
    "        @constraint(model, omega_lb[n,:] .- omega_ub[n,:] .+ psi_3[n] .* u .== 0)\n",
    "    end\n",
    "\n",
    "    for n in 1:N\n",
    "        @constraint(model, pi_lb[n,:] .- pi_ub[n,:] .+ sum(Y[n,:,:] .* p_dag,dims=2) .== 0)\n",
    "    end\n",
    "\n",
    "    for n in 1:N\n",
    "        @constraint(model, eta_lb[n,:] .- eta_ub[n,:] .- phi_3[n] .* u .== 0)\n",
    "    end\n",
    "\n",
    "    for n in 1:N\n",
    "        @constraint(model, ups_lb[n,:] .- ups_ub[n,:] .- sum(Z[n,:,:] .* p_dag,dims=2) .== 0)\n",
    "    end\n",
    "\n",
    "    @constraint(model, sum(omega_ub .* A_ub) - sum(omega_lb .* A_lb) + sum(pi_ub .* B_ub) - sum(pi_lb .* B_lb) + delta + sum(psi_2) + sum(phi_1) <= 0)\n",
    "\n",
    "    for n in 1:N\n",
    "        @constraint(model, eta_ub[n,:]' * A_ub[n,:] - eta_lb[n,:]' * A_lb[n,:] + ups_ub[n,:]' * B_ub[n,:] - ups_lb[n,:]' * B_lb[n,:] + delta + psi_1[n] + phi_2[n] - X[n,:]' * p_dag[n,:] <= 0)\n",
    "    end\n",
    "\n",
    "    for n in 1:N\n",
    "        @constraint(model, [psi_3[n], psi_2[n], psi_1[n]] in MOI.DualExponentialCone())\n",
    "    end\n",
    "\n",
    "    for n in 1:N\n",
    "        @constraint(model, [phi_3[n],phi_2[n],phi_1[n]] in MOI.ExponentialCone())\n",
    "    end\n",
    "\n",
    "    for n in 1:N\n",
    "        for j in 1:N\n",
    "            for k in 1:K\n",
    "                @constraint(model, Y[n,j,k] >= psi_lb * X[j,k])\n",
    "                @constraint(model, Y[n,j,k] <= psi_ub * X[j,k])\n",
    "                @constraint(model, Y[n,j,k] >= psi_3[n] - psi_ub * (1 - X[j,k]))\n",
    "                @constraint(model, Y[n,j,k] <= psi_3[n] - psi_lb * (1 - X[j,k]))\n",
    "            end\n",
    "        end\n",
    "    end\n",
    "\n",
    "    for n in 1:N\n",
    "        for j in 1:N\n",
    "            for k in 1:K\n",
    "                @constraint(model, Z[n,j,k] >= phi_lb * X[j,k])\n",
    "                @constraint(model, Z[n,j,k] <= phi_ub * X[j,k])\n",
    "                @constraint(model, Z[n,j,k] >= phi_3[n] - phi_ub * (1 - X[j,k]))\n",
    "                @constraint(model, Z[n,j,k] <= phi_3[n] - phi_lb * (1 - X[j,k]))\n",
    "            end\n",
    "        end\n",
    "    end\n",
    "\n",
    "    @constraint(model, sum(X,dims=2) .== 1)\n",
    "\n",
    "    for n in 1:N\n",
    "        for j in 1:N\n",
    "            @constraint(model, sum(Y[n,j,:]) == psi_3[n])\n",
    "            @constraint(model, sum(Z[n,j,:]) == phi_3[n])\n",
    "        end\n",
    "    end\n",
    "\n",
    "\n",
    "    @objective(model, Max, delta)\n",
    "\n",
    "    optimize!(model)\n",
    "    status = JuMP.termination_status(model)\n",
    "    # println(\"status: \", status)\n",
    "    # solution_summary(model)\n",
    "    if status == MOI.OPTIMAL\n",
    "        obj_val = objective_value(model)\n",
    "        X_val = round.(value.(X))\n",
    "        solve_time = JuMP.solve_time(model)\n",
    "    else\n",
    "        obj_val = NaN\n",
    "        X_val = ones(N,N) .* NaN\n",
    "        solve_time = NaN\n",
    "    end\n",
    "    return obj_val,X_val,solve_time\n",
    "end"
   ]
  },
  {
   "cell_type": "code",
   "execution_count": null,
   "id": "e10cccdc",
   "metadata": {},
   "outputs": [],
   "source": [
    "function Solve_RO_Price_with_one_side_exp(N,N_u,K,A_lb,A_ub,B_lb,B_ub,u,p_dag,psi_lb,psi_ub)\n",
    "    model = Model(Mosek.Optimizer)\n",
    "    set_attribute(model, \"QUIET\", true)\n",
    "    # 定义变量\n",
    "    @variable(model, delta)                           # 标量 δ\n",
    "    @variable(model, omega_lb[1:N,1:N_u] >= 0)            \n",
    "    @variable(model, omega_ub[1:N,1:N_u] >= 0)           \n",
    "    @variable(model, pi_lb[1:N,1:N] >= 0)     \n",
    "    @variable(model, pi_ub[1:N,1:N] >= 0)     \n",
    "\n",
    "    # exponential variables\n",
    "    @variable(model, psi_1[1:N])                   \n",
    "    @variable(model, psi_2[1:N])                   \n",
    "    @variable(model, psi_3[1:N])        \n",
    "    \n",
    "    @variable(model, X[1:N, 1:K], Bin)        # 二进制变量 x_{jk}\n",
    "    @variable(model, Y[1:N,1:N,1:K] <= 0)    \n",
    "\n",
    "    for n in 1:N\n",
    "        @constraint(model, omega_lb[n,:] .- omega_ub[n,:] .+ psi_3[n] .* u .== 0)\n",
    "    end\n",
    "\n",
    "    for n in 1:N\n",
    "        @constraint(model, pi_lb[n,:] .- pi_ub[n,:] .+ sum(Y[n,:,:] .* p_dag,dims=2) .== 0)\n",
    "    end\n",
    "\n",
    "    @constraint(model, sum(omega_ub .* A_ub) - sum(omega_lb .* A_lb) + sum(pi_ub .* B_ub) - sum(pi_lb .* B_lb) + delta + sum(psi_2) <= 0)\n",
    "\n",
    "    for n in 1:N\n",
    "        @constraint(model, delta + psi_1[n] - X[n,:]' * p_dag[n,:] <= 0)\n",
    "    end\n",
    "\n",
    "    for n in 1:N\n",
    "        @constraint(model, [psi_3[n], psi_2[n], psi_1[n]] in MOI.DualExponentialCone())\n",
    "    end\n",
    "\n",
    "\n",
    "    # for n in 1:N\n",
    "    #     for j in 1:N\n",
    "    #         for k in 1:K\n",
    "    #             @constraint(model, Y[n,j,k] >= psi_lb * X[j,k])\n",
    "    #             @constraint(model, Y[n,j,k] <= psi_ub * X[j,k])\n",
    "    #             @constraint(model, Y[n,j,k] >= psi_3[n] - psi_ub * (1 - X[j,k]))\n",
    "    #             @constraint(model, Y[n,j,k] <= psi_3[n] - psi_lb * (1 - X[j,k]))\n",
    "    #         end\n",
    "    #     end\n",
    "    # end\n",
    "\n",
    "    for n in 1:N\n",
    "        for j in 1:N\n",
    "            for k in 1:K\n",
    "                @constraint(model, Y[n,j,k] >= psi_lb * X[j,k])\n",
    "                @constraint(model, Y[n,j,k] <= 0.0)\n",
    "            end\n",
    "        end\n",
    "    end    \n",
    "    for n in 1:N\n",
    "        for j in 1:N\n",
    "            @constraint(model, sum(Y[n,j,:]) == psi_3[n])\n",
    "        end\n",
    "    end\n",
    "\n",
    "    @constraint(model, sum(X,dims=2) .== 1)\n",
    "    @objective(model, Max, delta)\n",
    "\n",
    "    optimize!(model)\n",
    "    status = JuMP.termination_status(model)\n",
    "    # println(\"status: \", status)\n",
    "    # solution_summary(model)\n",
    "    if status == MOI.OPTIMAL\n",
    "        obj_val = objective_value(model)\n",
    "        X_val = round.(value.(X))\n",
    "        solve_time = JuMP.solve_time(model)\n",
    "    else\n",
    "        obj_val = NaN\n",
    "        X_val = ones(N,N) .* NaN\n",
    "        solve_time = NaN\n",
    "    end\n",
    "    return obj_val,X_val,solve_time\n",
    "end"
   ]
  },
  {
   "cell_type": "markdown",
   "id": "9568927e",
   "metadata": {},
   "source": [
    "## Evaluate"
   ]
  },
  {
   "cell_type": "markdown",
   "id": "6314b1a2",
   "metadata": {},
   "source": [
    "### Parameters"
   ]
  },
  {
   "cell_type": "code",
   "execution_count": null,
   "id": "c1631a34",
   "metadata": {},
   "outputs": [],
   "source": [
    "Random.seed!(1)\n",
    "# 设置参数\n",
    "N = 5   # 产品数\n",
    "K = 10   # 每个产品的选择项数量\n",
    "tau = 10 # 给定常数\n",
    "N_u = 2\n",
    "offdiag_sign = \"negative\"\n",
    "# 预设数据（根据你的实际问题替换这些值）\n",
    "u = rand(N_u)        # u 向量 ∈ ℝ^N\n",
    "A_true = rand(N,N_u)      # a_n ∈ ℝ^N\n",
    "# B = rand(N,N)        # b_n ∈ ℝ^N\n",
    "p_dag = round.(rand(N, K),digits=2)   # p_{nk}^† 数据矩阵\n",
    "B_true = generate_strictly_row_diagonally_dominant(N, 1.0,offdiag_sign)"
   ]
  },
  {
   "cell_type": "code",
   "execution_count": null,
   "id": "650629d8",
   "metadata": {},
   "outputs": [],
   "source": [
    "bd_coef = 0.00001\n",
    "A_lb = A_true .- bd_coef .* abs.(rand(N,N_u))\n",
    "A_ub = A_true .+ bd_coef .* abs.(rand(N,N_u))\n",
    "B_lb = B_true .- bd_coef .* abs.(rand(N,N))\n",
    "B_ub = B_true .+ bd_coef .* abs.(rand(N,N))\n",
    "# obj_RO,X_RO = Solve_RO(N,N_u,K,tau,A_lb,A_ub,B_lb,B_ub,u,p_dag);\n",
    "# total_rev = compute_oof(X_RO, A, B, u, p_dag)\n",
    "# println(\"total rev: \", total_rev) \n",
    "# price_RO = sum(X_RO .* p_dag,dims=2)\n",
    "# println(\"price_RO: \", price_RO) "
   ]
  },
  {
   "cell_type": "markdown",
   "id": "074c189e",
   "metadata": {},
   "source": [
    "### ETO"
   ]
  },
  {
   "cell_type": "code",
   "execution_count": null,
   "id": "88ae95a9",
   "metadata": {},
   "outputs": [],
   "source": [
    "obj_ETO,X_ETO,time_ETO = Solve_ETO(N,N_u,K,A_true,B_true,u,p_dag)\n",
    "rev_ETO, price_ETO = compute_oof(X_ETO, A_true, B_true, u, p_dag)\n",
    "println(\"rev_ETO=\",rev_ETO,\",price_ETO = \",price_ETO)"
   ]
  },
  {
   "cell_type": "markdown",
   "id": "a7434b44",
   "metadata": {},
   "source": [
    "### RO with one-side exponential cone"
   ]
  },
  {
   "cell_type": "code",
   "execution_count": null,
   "id": "adf627dd",
   "metadata": {},
   "outputs": [],
   "source": [
    "for i in 1:9\n",
    "    psi_lb = -1.0 - i * 1.0\n",
    "    psi_ub = 0.1\n",
    "    # println(\"psi_lb = \",psi_lb,\",phi_lb = \",phi_lb)\n",
    "    obj_RO,X_RO,time_RO = Solve_RO_Price_with_one_side_exp(N,N_u,K,A_lb,A_ub,B_lb,B_ub,u,p_dag,psi_lb,psi_ub)\n",
    "    rev_RO, price_RO = compute_oof(X_RO, A_true, B_true, u, p_dag)\n",
    "    println(\"psi_lb = \",psi_lb,\",rev_RO = \",rev_RO,\",price_RO = \",price_RO)\n",
    "end"
   ]
  },
  {
   "cell_type": "code",
   "execution_count": null,
   "id": "7d39dc93",
   "metadata": {},
   "outputs": [],
   "source": [
    "p_dag"
   ]
  },
  {
   "cell_type": "markdown",
   "id": "c49793e8",
   "metadata": {},
   "source": [
    "### RO with two-side exponential cone"
   ]
  },
  {
   "cell_type": "code",
   "execution_count": null,
   "id": "07bbac64",
   "metadata": {},
   "outputs": [],
   "source": [
    "for i in 1:9\n",
    "    psi_lb = -0.33 - i * 0.001\n",
    "    psi_ub = 0.1\n",
    "    phi_lb = -0.33 - i * 0.001\n",
    "    phi_ub = 0.1\n",
    "    # println(\"psi_lb = \",psi_lb,\",phi_lb = \",phi_lb)\n",
    "    obj_RO,X_RO,time_RO = Solve_RO_Price(N,N_u,K,A_lb,A_ub,B_lb,B_ub,u,p_dag,psi_lb,psi_ub,phi_lb,phi_ub)\n",
    "    rev_RO, price_RO = compute_oof(X_RO, A_true, B_true, u, p_dag)\n",
    "    println(\"psi_lb = \",psi_lb,\",phi_lb = \",phi_lb,\",rev_RO = \",rev_RO,\",price_RO = \",price_RO)\n",
    "end"
   ]
  },
  {
   "cell_type": "markdown",
   "id": "0408c3da",
   "metadata": {},
   "source": [
    "### More experiments"
   ]
  },
  {
   "cell_type": "code",
   "execution_count": null,
   "id": "dc4431a4",
   "metadata": {},
   "outputs": [],
   "source": [
    "Random.seed!(1)\n",
    "# 设置参数\n",
    "N = 3   # 产品数\n",
    "K = 10   # 每个产品的选择项数量\n",
    "tau = 10 # 给定常数\n",
    "N_u = 2\n",
    "\n",
    "offdiag_sign = \"mix\"\n",
    "iterations = 10\n",
    "bias_coef = [0.01,0.05,0.1]\n",
    "ro_coef_all = [0.00001,0.01,0.1,0.15,0.2]\n",
    "\n",
    "rev_True = zeros(iterations)\n",
    "\n",
    "rev_ETO = zeros(iterations)\n",
    "price_ETO = zeros(iterations,N)\n",
    "\n",
    "rev_RO = zeros(iterations,length(ro_coef_all))\n",
    "for iter in 1:iterations\n",
    "    println(\"Iteration: \", iter)\n",
    "    # 预设数据（根据你的实际问题替换这些值）\n",
    "    u = rand(N_u)        # u 向量 ∈ ℝ^N\n",
    "    A_true = rand(N,N_u)      # a_n ∈ ℝ^N\n",
    "    # B = rand(N,N)        # b_n ∈ ℝ^N\n",
    "    # p_dag = round.(rand(N, K),digits=2)  # p_{nk}^† 数据矩阵\n",
    "    p_dag = [n * k for n in 1:N, k in 1:K]\n",
    "    B_true = generate_strictly_row_diagonally_dominant(N, 1.0,offdiag_sign)\n",
    "\n",
    "    obj_True,X_True,time_True = Solve_ETO(N,N_u,K,A_true,B_true,u,p_dag)\n",
    "    rev_True[iter], price_True = compute_oof(X_True, A_true, B_true, u, p_dag)\n",
    "\n",
    "\n",
    "    A_bias = randn(N,N_u)\n",
    "    B_bias = generate_strictly_row_diagonally_dominant(N, 1.0,offdiag_sign)\n",
    "    A_hat = A_true .+ 0.3 .* A_bias\n",
    "    B_hat = B_true .- 0.3.* B_bias\n",
    "    obj_ETO,X_ETO,time_ETO = Solve_ETO(N,N_u,K,A_hat,B_hat,u,p_dag)\n",
    "    rev_ETO[iter], price_ETO[iter,:] = compute_oof(X_ETO, A_true, B_true, u, p_dag)\n",
    "\n",
    "    ro_index = 1\n",
    "    for ro_coef in ro_coef_all\n",
    "        A_lb = A_hat .- ro_coef .* abs.(A_hat)\n",
    "        A_ub = A_hat .+ ro_coef .* abs.(A_hat)\n",
    "        B_lb = B_hat .- ro_coef .* abs.(B_hat)\n",
    "        B_ub = B_hat .+ ro_coef .* abs.(B_hat)\n",
    "        \n",
    "        psi_lb = -10.0\n",
    "        psi_ub = 0.1\n",
    "        obj_RO,X_RO,time_RO = Solve_RO_Price_with_one_side_exp(N,N_u,K,A_lb,A_ub,B_lb,B_ub,u,p_dag,psi_lb,psi_ub)\n",
    "        rev_RO[iter,ro_index], price_RO = compute_oof(X_RO, A_true, B_true, u, p_dag)\n",
    "        ro_index += 1\n",
    "    end\n",
    "end"
   ]
  },
  {
   "cell_type": "code",
   "execution_count": null,
   "id": "7f6c7483",
   "metadata": {},
   "outputs": [],
   "source": [
    "println(\"rev_True = \",mean(rev_True))\n",
    "println(\"rev_ETO = \",mean(rev_ETO))\n",
    "println(\"rev_RO = \",mean(rev_RO,dims=1))"
   ]
  },
  {
   "cell_type": "code",
   "execution_count": null,
   "id": "89e89db4",
   "metadata": {},
   "outputs": [],
   "source": [
    "rev_ETO"
   ]
  },
  {
   "cell_type": "code",
   "execution_count": null,
   "id": "8159f31d",
   "metadata": {},
   "outputs": [],
   "source": [
    "rev_RO"
   ]
  }
 ],
 "metadata": {
  "kernelspec": {
   "display_name": "Julia 1.10.3",
   "language": "julia",
   "name": "julia-1.10"
  },
  "language_info": {
   "file_extension": ".jl",
   "mimetype": "application/julia",
   "name": "julia",
   "version": "1.10.3"
  }
 },
 "nbformat": 4,
 "nbformat_minor": 5
}
