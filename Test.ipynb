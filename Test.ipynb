{
 "cells": [
  {
   "cell_type": "code",
   "execution_count": 1,
   "id": "30ab5eb0",
   "metadata": {},
   "outputs": [],
   "source": [
    "using LinearAlgebra\n",
    "using Distributions\n",
    "using Optim\n",
    "using Random\n",
    "using StatsFuns\n",
    "using JuMP\n",
    "using MosekTools\n",
    "using JLD2\n",
    "using GLM, DataFrames"
   ]
  },
  {
   "cell_type": "code",
   "execution_count": 2,
   "id": "4fe935dd",
   "metadata": {},
   "outputs": [
    {
     "name": "stdout",
     "output_type": "stream",
     "text": [
      "[18.698382215671053, 2.013985188662364]\n"
     ]
    }
   ],
   "source": [
    "Random.seed!(1)\n",
    "S = 1000\n",
    "# 1. 生成X\n",
    "X = rand(Normal(100, sqrt(10)), S)\n",
    "\n",
    "# 2. 生成e\n",
    "e = rand(Normal(0, sqrt(5)), S)\n",
    "\n",
    "# 3. 生成d\n",
    "d = 20 .+ 2 .* X .+ e\n",
    "\n",
    "# 4. 用线性回归估计参数\n",
    "df = DataFrame(d = d, X = X)\n",
    "model = lm(@formula(d ~ X), df)\n",
    "println(coef(model))  # 输出截距和X的系数"
   ]
  },
  {
   "cell_type": "code",
   "execution_count": 3,
   "id": "4e3ede57",
   "metadata": {},
   "outputs": [
    {
     "data": {
      "text/plain": [
       "1000-element Vector{Float64}:\n",
       " 100.19584852112823\n",
       " 100.8803964865918\n",
       "  98.11583776191138\n",
       " 100.147549945285\n",
       " 103.43358217787069\n",
       "  95.01446396550125\n",
       " 100.55637110402161\n",
       " 102.73657438848443\n",
       "  91.17635671055926\n",
       "  94.01692146753119\n",
       "   ⋮\n",
       " 104.90171045429577\n",
       " 101.41412434694999\n",
       "  99.532505501541\n",
       " 101.90651085917443\n",
       " 107.8046788278882\n",
       " 104.47190130118392\n",
       " 103.84042390033495\n",
       " 102.47593391434455\n",
       "  97.08453526496064"
      ]
     },
     "metadata": {},
     "output_type": "display_data"
    }
   ],
   "source": [
    "X"
   ]
  },
  {
   "cell_type": "code",
   "execution_count": 4,
   "id": "80cf5de1",
   "metadata": {},
   "outputs": [],
   "source": [
    "U = rand(Uniform(0,20), 50);              # 生成均匀分布数据\n",
    "idx = randperm(S)[1:50];                # 随机选取 X 中的 50 个索引\n",
    "X[idx] .= X[idx] .+ U;                    # 在对应位置加上均匀分布数据"
   ]
  },
  {
   "cell_type": "code",
   "execution_count": 5,
   "id": "5147484e",
   "metadata": {},
   "outputs": [
    {
     "data": {
      "text/plain": [
       "1000-element Vector{Float64}:\n",
       " 100.19584852112823\n",
       " 100.8803964865918\n",
       "  98.11583776191138\n",
       " 100.147549945285\n",
       " 103.43358217787069\n",
       "  95.01446396550125\n",
       " 100.55637110402161\n",
       " 102.73657438848443\n",
       "  94.52962954784002\n",
       "  94.01692146753119\n",
       "   ⋮\n",
       " 104.90171045429577\n",
       " 101.41412434694999\n",
       "  99.532505501541\n",
       " 101.90651085917443\n",
       " 107.8046788278882\n",
       " 104.47190130118392\n",
       " 103.84042390033495\n",
       " 102.47593391434455\n",
       "  97.08453526496064"
      ]
     },
     "metadata": {},
     "output_type": "display_data"
    }
   ],
   "source": [
    "X"
   ]
  },
  {
   "cell_type": "code",
   "execution_count": 6,
   "id": "fe60df2b",
   "metadata": {},
   "outputs": [
    {
     "name": "stdout",
     "output_type": "stream",
     "text": [
      "[94.06180313822173, 1.2549934174775867]\n"
     ]
    }
   ],
   "source": [
    "df = DataFrame(d = d, X = X)\n",
    "model = lm(@formula(d ~ X), df)\n",
    "println(coef(model))  # 输出截距和X的系数"
   ]
  }
 ],
 "metadata": {
  "kernelspec": {
   "display_name": "Julia 1.10.3",
   "language": "julia",
   "name": "julia-1.10"
  },
  "language_info": {
   "file_extension": ".jl",
   "mimetype": "application/julia",
   "name": "julia",
   "version": "1.10.3"
  }
 },
 "nbformat": 4,
 "nbformat_minor": 5
}
